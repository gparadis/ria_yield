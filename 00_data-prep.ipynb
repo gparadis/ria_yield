{
 "cells": [
  {
   "cell_type": "markdown",
   "metadata": {},
   "source": [
    "# Forest estate modelling input data prep (BC RIA landbase)\n",
    "\n",
    "Gregory Paradis (gregory.paradis@ubc.ca)\n",
    "\n",
    "This notebook implements a data processing pipeline to prepare input datasets for the landscape-level forest estate modelling (e.g., ws3, SpaDES, Patchworks, etc.)\n",
    "\n",
    "This notebook imports various publicly-available VRI datasets, extracts the RIA landbase subset, stratifies features in a way that can work for the harvesting and carbon analyses we are planning, and builds VDYP and TIPSY yield curves.\n",
    "\n",
    "The source datasets are all freely available, but need to be downloaded and unpacked to paths that match the paths specified further down in the notebook (or modify the path parameter values). We list links to datasets used below.\n",
    "\n",
    "## Datasets\n",
    "\n",
    "Links to source datasets used in this notebook.\n",
    "\n",
    "[FADM - Timber Supply Area (TSA)](https://catalogue.data.gov.bc.ca/dataset/8daa29da-d7f4-401c-83ae-d962e3a28980)\n",
    "\n",
    "[VRI - 2019 - Forest Vegetation Composite Rank 1 Layer (R1)](https://catalogue.data.gov.bc.ca/dataset/2ebb35d8-c82f-4a17-9c96-612ac3532d55)\n",
    "\n",
    "[VRI - 2019 - Variable Density Yield Projection 7 (VDYP7) Input Polygon](https://catalogue.data.gov.bc.ca/dataset/57513aaa-c0a6-41a9-b2a8-b980b1604ee6)\n",
    "\n",
    "[Site Productivity - Site Index by Tree Species](https://catalogue.data.gov.bc.ca/dataset/04ad45c3-0fdc-4506-bdb4-252c45a63459)\n",
    "\n",
    "[Generalized Forest Cover Ownership](https://catalogue.data.gov.bc.ca/dataset/5fc4e8ce-dd1d-44fd-af17-e0789cf65e4ehttps://catalogue.data.gov.bc.ca/dataset/5fc4e8ce-dd1d-44fd-af17-e0789cf65e4e)\n",
    "\n",
    "See also [VRI code lists](https://www.for.gov.bc.ca/hfp/publications/00026/fs708-14-appendix_d.htm) for some metadata that can help you decode and understand some of the datasets we use.\n",
    "\n",
    "## Software dependencies\n",
    "\n",
    "Python packages imported below must be installed. We also use a [patched branch](https://github.com/gparadis/ArcRasterRescue/tree/bug-fix_transform) of the ArcRasterRescue package to export species-wise site productivity raster data layers from the proprietary ESRI File Geodatabase file.\n",
    "\n",
    "Also check this out for BC raster data:\n",
    "\n",
    "https://hectaresbc.ca/app/habc/HaBC.html"
   ]
  },
  {
   "cell_type": "markdown",
   "metadata": {},
   "source": [
    "Clone the correct branch of the ArcRasterRescue repository from GitHub, and compile the executable."
   ]
  },
  {
   "cell_type": "markdown",
   "metadata": {},
   "source": [
    "Import required packages."
   ]
  },
  {
   "cell_type": "code",
   "execution_count": 1,
   "metadata": {},
   "outputs": [
    {
     "data": {
      "text/html": [
       "<style type='text/css'>\n",
       ".datatable table.frame { margin-bottom: 0; }\n",
       ".datatable table.frame thead { border-bottom: none; }\n",
       ".datatable table.frame tr.coltypes td {  color: #FFFFFF;  line-height: 6px;  padding: 0 0.5em;}\n",
       ".datatable .bool    { background: #DDDD99; }\n",
       ".datatable .object  { background: #565656; }\n",
       ".datatable .int     { background: #5D9E5D; }\n",
       ".datatable .float   { background: #4040CC; }\n",
       ".datatable .str     { background: #CC4040; }\n",
       ".datatable .row_index {  background: var(--jp-border-color3);  border-right: 1px solid var(--jp-border-color0);  color: var(--jp-ui-font-color3);  font-size: 9px;}\n",
       ".datatable .frame tr.coltypes .row_index {  background: var(--jp-border-color0);}\n",
       ".datatable th:nth-child(2) { padding-left: 12px; }\n",
       ".datatable .hellipsis {  color: var(--jp-cell-editor-border-color);}\n",
       ".datatable .vellipsis {  background: var(--jp-layout-color0);  color: var(--jp-cell-editor-border-color);}\n",
       ".datatable .na {  color: var(--jp-cell-editor-border-color);  font-size: 80%;}\n",
       ".datatable .footer { font-size: 9px; }\n",
       ".datatable .frame_dimensions {  background: var(--jp-border-color3);  border-top: 1px solid var(--jp-border-color0);  color: var(--jp-ui-font-color3);  display: inline-block;  opacity: 0.6;  padding: 1px 10px 1px 5px;}\n",
       "</style>\n"
      ],
      "text/plain": [
       "<IPython.core.display.HTML object>"
      ]
     },
     "metadata": {},
     "output_type": "display_data"
    }
   ],
   "source": [
    "import os\n",
    "import matplotlib.pyplot as plt\n",
    "import datatable\n",
    "import pandas as pd\n",
    "import geopandas as gpd\n",
    "import pickle\n",
    "import seaborn as sns\n",
    "from shapely.ops import unary_union, Polygon\n",
    "import numpy as np\n",
    "from numpy.polynomial import Polynomial\n",
    "import csv\n",
    "from scipy.optimize import curve_fit\n",
    "import rasterio as rio\n",
    "from rasterio.plot import show\n",
    "from rasterio.mask import mask\n",
    "from rasterio.io import MemoryFile\n",
    "from geocube.api.core import make_geocube\n",
    "import subprocess\n",
    "import shlex\n",
    "from rasterio.plot import show, show_hist\n",
    "import warnings\n",
    "from pympler import asizeof\n",
    "import ipcmagic\n",
    "import ipyparallel as ipp\n",
    "import mapply\n",
    "import swifter\n",
    "import fiona\n",
    "import affine\n",
    "from osgeo import gdal\n",
    "import glob\n",
    "import operator\n",
    "import distance\n",
    "from scipy.optimize import curve_fit as _curve_fit\n",
    "from functools import partial, wraps\n",
    "import itertools"
   ]
  },
  {
   "cell_type": "markdown",
   "metadata": {},
   "source": [
    "Set global notebook parameters."
   ]
  },
  {
   "cell_type": "code",
   "execution_count": 2,
   "metadata": {},
   "outputs": [],
   "source": [
    "pd.set_option('display.max_rows', 300) # bump this parameter up if you want to see more table rows\n",
    "pd.set_option('display.max_columns', 30) # bump this parameter up if you want to see more table rows\n",
    "\n",
    "warnings.filterwarnings('ignore', message='.*initial implementation of Parquet.*')\n",
    "%config Completer.use_jedi = False # patch autocomplete bug"
   ]
  },
  {
   "cell_type": "markdown",
   "metadata": {},
   "source": [
    "Launch and set up `ipyparallel` cluster."
   ]
  },
  {
   "cell_type": "code",
   "execution_count": 3,
   "metadata": {},
   "outputs": [
    {
     "name": "stdout",
     "output_type": "stream",
     "text": [
      "IPCluster is ready! (5 seconds)\n"
     ]
    }
   ],
   "source": [
    "#%ipcluster --help\n",
    "%ipcluster start -n 16\n",
    "rc = ipp.Client()\n",
    "lbview = rc.load_balanced_view()"
   ]
  },
  {
   "cell_type": "markdown",
   "metadata": {},
   "source": [
    "Define path strings and such."
   ]
  },
  {
   "cell_type": "code",
   "execution_count": 4,
   "metadata": {},
   "outputs": [],
   "source": [
    "vri_vclr1p_path = '../data/bc/vri/2019/VEG_COMP_LYR_R1_POLY.gdb'\n",
    "ria_stands_path = './data/veg_comp_lyr_r1_poly-ria.shp'\n",
    "tsa_boundaries_path = '../data/bc/tsa/FADM_TSA.gdb/'\n",
    "ria_maptiles_path = 'ria_maptiles.csv'\n",
    "vdyp_input_pandl_path = './data/VEG_COMP_VDYP7_INPUT_POLY_AND_LAYER_2019.gdb'\n",
    "\n",
    "site_prod_bc_gdb_path = './data/Site_Prod_BC.gdb/' # ESRI File Geodatabase containing 22 species-wise site productivity raster layers\n",
    "\n",
    "tsa_boundaries_feather_path = './data/tsa_boundaries.feather'\n",
    "#ria_vri_vclr1p_final_feather_path = './data/ria_vri_vclr1p_final.feather'\n",
    "ria_vri_vclr1p_checkpoint1_feather_path = './data/ria_vri_vclr1p_checkpoint1.feather'\n",
    "ria_vri_vclr1p_checkpoint2_feather_path = './data/ria_vri_vclr1p_checkpoint2.feather'\n",
    "ria_vri_vclr1p_checkpoint3_feather_path = './data/ria_vri_vclr1p_checkpoint3.feather'\n",
    "ria_vri_vclr1p_checkpoint4_feather_path = './data/ria_vri_vclr1p_checkpoint4.feather'\n",
    "ria_vri_vclr1p_checkpoint5_feather_path = './data/ria_vri_vclr1p_checkpoint5.feather'\n",
    "ria_vri_vclr1p_checkpoint6_feather_path = './data/ria_vri_vclr1p_checkpoint6.feather'\n",
    "ria_vri_vclr1p_checkpoint7_feather_path = './data/ria_vri_vclr1p_checkpoint7.feather'\n",
    "ria_vri_vclr1p_checkpoint8_feather_path = './data/ria_vri_vclr1p_checkpoint8.feather'\n",
    "vri_vclr1p_categorical_columns_path = './data/vri_vclr1p_categorical_columns'\n",
    "ria_vclr1p_feature_tif_path = './data/ria_vclr1p_feature_raster.tif'\n",
    "#_feather_path = './data/.feather'\n",
    "\n",
    "arc_raster_rescue_exe_path = '../ArcRasterRescue/build/arc_raster_rescue.exe'\n",
    "siteprod_gdb_path = './data/Site_Prod_BC.gdb/'\n",
    "siteprod_tmpexport_tif_path_prefix = './data/site_prod_bc_'\n",
    "siteprod_tif_path = './data/siteprod.tif'\n",
    "\n",
    "vdyp_ply_feather_path = './data/vdyp_ply.feather'\n",
    "vdyp_lyr_feather_path = './data/vdyp_lyr.feather'\n",
    "vdyp_results_tsa_pickle_path_prefix = './data/vdyp_results-tsa'\n",
    "vdyp_results_pickle_path = './data/vdyp_results.pkl'\n",
    "vdyp_curves_smooth_tsa_feather_path_prefix = './data/vdyp_curves_smooth-tsa'\n",
    "vdyp_curves_smooth_feather_path = './data/vdyp_curves_smooth.feather'\n",
    "\n",
    "tipsy_params_path_prefix = './data/tipsy_params_tsa'\n",
    "\n",
    "ria_tsas = ['08', '16', '24', '40', '41']\n",
    "#ria_tsas = ['08']\n",
    "si_levels = ['L', 'M', 'H']\n",
    "\n",
    "raster_pxw = 100\n",
    "raster_pxh = 100\n",
    "\n",
    "tipsy_params_columns = [line.strip() for line in open('./data/tipsy_params_columns').readlines()]"
   ]
  },
  {
   "cell_type": "code",
   "execution_count": 5,
   "metadata": {},
   "outputs": [],
   "source": [
    "species_spruce = ['S', 'SB', 'SE', 'SN', 'SS', 'SW', 'SX', 'SXE', 'SXL', 'SXW']\n",
    "species_pine = ['P', 'PA', 'PJ', 'PL', 'PLC', 'PLI', 'PM']\n",
    "species_fir = ['B', 'BA', 'BB', 'BG', 'BL', 'BM', 'BP']\n",
    "species_larch = ['L', 'LA', 'LS', 'LT', 'LW']\n",
    "species_cedar = ['C', 'CW']\n",
    "species_hemlock = ['HM', 'HWI', 'HW']\n",
    "species_douglasfir = ['F', 'FD', 'FDC', 'FDI']\n",
    "\n",
    "species_aspen = ['AC', 'ACB', 'ACT', 'AD', 'AT', 'AX']\n",
    "species_birch = ['E', 'EA', 'EB', 'EE', 'EP', 'EW', 'EXP']\n",
    "species_willow = ['W','WA', 'WB', 'WD', 'WP', 'WS']\n",
    "species_alder = ['D', 'DR']\n",
    "species_cherry = ['V']\n",
    "species_dogwood = ['GP']\n",
    "species_oak = ['Q']\n",
    "species_maple = ['M', 'MB', 'MV']"
   ]
  },
  {
   "cell_type": "markdown",
   "metadata": {},
   "source": [
    "Download and compile ArcRasterRescue package."
   ]
  },
  {
   "cell_type": "code",
   "execution_count": 6,
   "metadata": {},
   "outputs": [],
   "source": [
    "if not os.path.isfile(arc_raster_rescue_exe_path):\n",
    "    !git clone https://github.com/gparadis/ArcRasterRescue.git\n",
    "    !cd ArcRasterRescue; git checkout bug-fix_transform\n",
    "    !mkdir ArcRasterRescue/build\n",
    "    !cd ArcRasterRescue/build; cmake -DCMAKE_BUILD_TYPE=RelWithDebInfo ..; make"
   ]
  },
  {
   "cell_type": "markdown",
   "metadata": {},
   "source": [
    "Load TSA boundary data for the 5 TSAs in the RIA landbase and compile a single polygon defining RIA landbase extent."
   ]
  },
  {
   "cell_type": "code",
   "execution_count": 7,
   "metadata": {},
   "outputs": [],
   "source": [
    "import_tsa_boundaries_data = 0\n",
    "if import_tsa_boundaries_data:\n",
    "    tsa_boundaries = gpd.read_file(tsa_boundaries_path)\n",
    "    tsa_boundaries = tsa_boundaries[['TSA_NUMBER', 'geometry']].loc[tsa_boundaries.TSA_NUMBER.isin(ria_tsas)].dissolve(by='TSA_NUMBER')\n",
    "    tsa_boundaries['geometry'] = tsa_boundaries.geometry.simplify(tolerance=1000, preserve_topology=True)\n",
    "    tsa_boundaries.to_feather(tsa_boundaries_feather_path)\n",
    "else:\n",
    "    tsa_boundaries = gpd.read_feather(tsa_boundaries_feather_path)\n",
    "\n",
    "#tsa_extent_all = Polygon(unary_union(list(tsa_boundaries.geometry.values)).exterior) "
   ]
  },
  {
   "cell_type": "markdown",
   "metadata": {},
   "source": [
    "Load VRI features (_vegetation composite layer and R1 polygon_ dataset), masked to RIA landbase extent. "
   ]
  },
  {
   "cell_type": "code",
   "execution_count": 8,
   "metadata": {},
   "outputs": [
    {
     "name": "stdout",
     "output_type": "stream",
     "text": [
      "loading VRI data from checkpoint1 feather\n",
      "CPU times: user 1min 19s, sys: 16.7 s, total: 1min 36s\n",
      "Wall time: 5min 55s\n"
     ]
    }
   ],
   "source": [
    "%%time\n",
    "import_vri_vclr1p_data = 0 # set to False to use cached data \n",
    "if import_vri_vclr1p_data:\n",
    "    print('loading VRI data from source')\n",
    "    def load_vri_vclr1p(vri_vclr1p_path, tsa_code, tsa_mask, ignore_geometry=False):\n",
    "        import geopandas as gpd # local import required to play nice with ipp engines\n",
    "        result = gpd.read_file(vri_vclr1p_path, \n",
    "                               mask=tsa_mask,\n",
    "                               ignore_geometry=ignore_geometry)\n",
    "        result['tsa_code'] = tsa_code\n",
    "        return result\n",
    "    tsa_gdfs = lbview.map_async(load_vri_vclr1p, \n",
    "                                [vri_vclr1p_path for tsa in ria_tsas],\n",
    "                                ria_tsas, \n",
    "                                [tsa_boundaries.loc[tsa].geometry for tsa in ria_tsas],\n",
    "                                ordered=True)\n",
    "    rc.wait_interactive()\n",
    "    ria_vri_vclr1p = pd.concat(tsa_gdfs, axis=0, ignore_index=True)\n",
    "    ria_vri_vclr1p.to_feather(ria_vri_vclr1p_checkpoint1_feather_path)\n",
    "else:\n",
    "    print('loading VRI data from checkpoint1 feather')\n",
    "    ria_vri_vclr1p = gpd.read_feather(ria_vri_vclr1p_checkpoint1_feather_path)\n",
    "\n",
    "f = ria_vri_vclr1p"
   ]
  },
  {
   "cell_type": "markdown",
   "metadata": {},
   "source": [
    "Extract site productivity raster data from proprietary ESRI File Geodatabase, and export it to species-wise GeoTIFF layers, patch the missing CRS metadata, and stack everything into a single multi-band GeoTIFF."
   ]
  },
  {
   "cell_type": "code",
   "execution_count": 9,
   "metadata": {},
   "outputs": [],
   "source": [
    "# map layer indices to layer species codes\n",
    "result = subprocess.run(shlex.split('%s %s' % (arc_raster_rescue_exe_path, siteprod_gdb_path)), capture_output=True)\n",
    "siteprod_layerspecies =  {int(i):vv[10:].upper() \n",
    "                          for i, vv in [v.strip().split(' ') \n",
    "                                        for v in result.stdout.decode().split('\\n')[1:] if v]}\n",
    "siteprod_specieslayer =  {vv[10:].upper():int(i) \n",
    "                          for i, vv in [v.strip().split(' ') \n",
    "                                        for v in result.stdout.decode().split('\\n')[1:] if v]}\n",
    "\n",
    "if not os.path.isfile(siteprod_tif_path):\n",
    "    # export species-wise raster layers to 22 GeoTIFFs\n",
    "    print('Extracting siteprod raster data from ESRI File Geodatabase...')\n",
    "    for i, species in site_prod_bc_layerspecies.items():\n",
    "        print('... processing species', species)\n",
    "        args = '%s %s %i %s' % (arc_raster_rescue_exe_path, \n",
    "                                site_prod_bc_gdb_path, \n",
    "                                i, \n",
    "                                '%s%s.tif' % (siteprod_tmpexport_tif_path_prefix, species))\n",
    "        subprocess.run(shlex.split(args))\n",
    "\n",
    "    # patch exported GeoTIFF files with missing CRS metadata    \n",
    "    #for species in site_prod_bc_specieslayer.keys():\n",
    "    #    with rio.open('%s%s.tif' % (siteprod_tmpexport_tif_path_prefix, species), 'r+') as src:\n",
    "    #        src.crs = rio.crs.CRS({\"init\": \"epsg:3005\"}) # BC Albers equal area geographic projection\n",
    "\n",
    "    # stack species-wise raster layers into a single multi-band GeoTIFF\n",
    "    file_list = sorted(glob.glob('%s*.tif' % siteprod_tmpexport_tif_path_prefix))\n",
    "    with rio.open(file_list[0]) as src:\n",
    "        meta = src.meta\n",
    "        meta.update(count=len(file_list), \n",
    "                    compress='lzw', \n",
    "                    crs=rio.crs.CRS({\"init\": \"epsg:3005\"})) # BC Albers equal area geographic projection)\n",
    "\n",
    "    with rio.open(siteprod_tif_path, 'w', **meta) as dst:\n",
    "        print('\\nStacking siteprod raster data into a single multiband GeoTIFF file...')\n",
    "        for id, layer in enumerate(file_list, start=1):\n",
    "            print('... processing species', siteprod_layerspecies[id-1])\n",
    "            with rio.open(layer) as src:\n",
    "                dst.write_band(id, src.read(1))\n",
    "            os.remove(layer) # delete intermediate GeoTIFF (not needed anymore)"
   ]
  },
  {
   "cell_type": "markdown",
   "metadata": {},
   "source": [
    "Define a species code lookup dict to map VRI species codes to one of the 22 siteprod species codes. We built the key list for this dict by compiling unique values from the `SPECIES_CD_1` column in the VRI feature dataset, and netting out the 22 siteprod species codes. Assignments with question mark comments may need to be revisited. If this project is ported to a different landbase, this list would likely need to be expanded (we can eventually just build a BC-wide species code map from the unfiltered VRI dataset)."
   ]
  },
  {
   "cell_type": "code",
   "execution_count": 10,
   "metadata": {},
   "outputs": [],
   "source": [
    "def siteprod_species_lookup(s):\n",
    "    spp = {'AC': 'AT',\n",
    "           'PLI': 'PL',\n",
    "           'FDI': 'FD',\n",
    "           'S': 'SW',\n",
    "           'SXL': 'SX',\n",
    "           'ACT': 'AT',\n",
    "           'E': 'EP',\n",
    "           'P': 'PL',\n",
    "           'EA': 'EP',\n",
    "           'SXW': 'SX',\n",
    "           'W': 'EP', # ?\n",
    "           'T': 'LT', # ?\n",
    "           'L': 'LT',\n",
    "           'B': 'BL',\n",
    "           'ACB': 'AT',\n",
    "           'PJ': 'PL', # ?\n",
    "           'WS': 'EP',\n",
    "           'LA':'LT',\n",
    "           'AX':'AT',\n",
    "           'BB':'BL',\n",
    "           'H':'HW', \n",
    "           'BM':'BL',\n",
    "           'V':'DR',\n",
    "           'F':'FD',\n",
    "           'C':'CW',\n",
    "           'XC':'PL',\n",
    "           'XD':'SW',\n",
    "           'X':'SW',\n",
    "           'A':'AT',\n",
    "           'D':'DR',\n",
    "           'Z':'SW',\n",
    "           'Q':'AT',\n",
    "           'Y':'YC',\n",
    "           'R':'DR',\n",
    "           'G':'DR'} # ?\n",
    "    try:\n",
    "        result = spp[s]\n",
    "    except:\n",
    "        try:\n",
    "            result = spp[s[0]]\n",
    "        except:\n",
    "            #result = 'X'\n",
    "            print(s)\n",
    "            assert False # bad species code\n",
    "    return result\n",
    "    \n",
    "species_list = list(set().union(*[ria_vri_vclr1p['SPECIES_CD_%i' % i].unique() for i in range(1, 7)]))\n",
    "species_list = [s for s in species_list if s is not None]"
   ]
  },
  {
   "cell_type": "markdown",
   "metadata": {},
   "source": [
    "Clean and filter VRI feature dataset, and cast some columns to `category` data type (reduces memory footprint, and maybe speeds up some processing)."
   ]
  },
  {
   "cell_type": "markdown",
   "metadata": {},
   "source": [
    "Then, for each feature in the VRI dataaset, extract mean SI data from the pixels in the siteprod raster layer corresponding the leading species. This step is computationally intensive (takes about 30 minutes to run), so this is a good time to go for a walk."
   ]
  },
  {
   "cell_type": "code",
   "execution_count": 11,
   "metadata": {},
   "outputs": [
    {
     "name": "stdout",
     "output_type": "stream",
     "text": [
      "loading VRI data from checkpoint2 feather\n"
     ]
    }
   ],
   "source": [
    "process_checkpoint2 = 0\n",
    "if process_checkpoint2:\n",
    "    for i in range(1, 7):\n",
    "        f['SPECIES_CD_%i' % i].fillna('X', inplace=True)\n",
    "        f['SPECIES_PCT_%i' % i].fillna(0, inplace=True)\n",
    "    f['SOIL_NUTRIENT_REGIME'].fillna('X', inplace=True)\n",
    "    f['SOIL_MOISTURE_REGIME_1'].fillna('X', inplace=True)\n",
    "    f['SITE_POSITION_MESO'].fillna('X', inplace=True)\n",
    "    f['BCLCS_LEVEL_3'].fillna('X', inplace=True)\n",
    "    f['BCLCS_LEVEL_4'].fillna('X', inplace=True)\n",
    "    f['BCLCS_LEVEL_5'].fillna('X', inplace=True)\n",
    "    f['BEC_VARIANT'].fillna('X', inplace=True)\n",
    "    f['LIVE_STAND_VOLUME_125'].fillna(0, inplace=True)\n",
    "    f.LIVE_VOL_PER_HA_SPP1_125.fillna(0, inplace=True)\n",
    "    f.LIVE_VOL_PER_HA_SPP2_125.fillna(0, inplace=True)\n",
    "    f.LIVE_VOL_PER_HA_SPP3_125.fillna(0, inplace=True)\n",
    "    f.LIVE_VOL_PER_HA_SPP4_125.fillna(0, inplace=True)\n",
    "    f.LIVE_VOL_PER_HA_SPP5_125.fillna(0, inplace=True)\n",
    "    f.LIVE_VOL_PER_HA_SPP6_125.fillna(0, inplace=True)\n",
    "    f = f[f.BCLCS_LEVEL_2 == 'T'] # implies f.BCLCS_LEVEL_1 == 'V'\n",
    "    #f = f[f.BCLCS_LEVEL_5 != 'OP']\n",
    "    f = f[f.NON_PRODUCTIVE_CD != None]\n",
    "    f = f[f.FOR_MGMT_LAND_BASE_IND == 'Y']\n",
    "    f = f[~f.BEC_ZONE_CODE.isin(['BAFA', 'IMA'])]\n",
    "    f = f[f.PROJ_AGE_1 >= 30]\n",
    "    f = f[f.BASAL_AREA >= 5]\n",
    "    f = f[f.LIVE_STAND_VOLUME_125 >= 1]\n",
    "    f.shape\n",
    "    #vri_vclr1p_categorical_columns = open(vri_vclr1p_categorical_columns_path).read().split('\\n')\n",
    "    #for c in vri_vclr1p_categorical_columns: \n",
    "    #    f[c] = f[c].astype('category')\n",
    "    if 1:\n",
    "        with rio.open(siteprod_tif_path) as src:\n",
    "            def mean_siteprod(r):\n",
    "                a, _ = mask(src, r.geometry, crop=True)\n",
    "                s = r.SPECIES_CD_1 \n",
    "                s = s if s in siteprod_specieslayer else siteprod_species_lookup(s)\n",
    "                i = siteprod_specieslayer[s]\n",
    "                aa = a[i]\n",
    "                return np.mean(aa[aa > 0])\n",
    "            f['siteprod'] = f.swifter.apply(mean_siteprod, axis=1)\n",
    "    f.to_feather(ria_vri_vclr1p_checkpoint2_feather_path)\n",
    "else:\n",
    "    print('loading VRI data from checkpoint2 feather')\n",
    "    f = gpd.read_feather(ria_vri_vclr1p_checkpoint2_feather_path)"
   ]
  },
  {
   "cell_type": "markdown",
   "metadata": {},
   "source": [
    "Recompile VRI merchantable volume data into species-wise columns."
   ]
  },
  {
   "cell_type": "code",
   "execution_count": 12,
   "metadata": {},
   "outputs": [],
   "source": [
    "f.reset_index(inplace=True)"
   ]
  },
  {
   "cell_type": "code",
   "execution_count": 13,
   "metadata": {},
   "outputs": [
    {
     "name": "stdout",
     "output_type": "stream",
     "text": [
      "loading VRI data from checkpoint3 feather\n"
     ]
    }
   ],
   "source": [
    "process_checkpoint3 = 0\n",
    "if process_checkpoint3:\n",
    "    def compile_species_vol(df, species):\n",
    "        import swifter\n",
    "        return df.swifter.apply(lambda r: sum(r['LIVE_VOL_PER_HA_SPP%i_125' % i] \n",
    "                                              for i in range(1, 7)\n",
    "                                              if r['SPECIES_CD_%i' % i] == species), axis=1)\n",
    "    cols = list(itertools.chain.from_iterable(['LIVE_VOL_PER_HA_SPP%i_125' % i]+['SPECIES_CD_%i' % i] for i in range(1, 7)))    \n",
    "    f_ = f[cols]\n",
    "    result = lbview.map_async(compile_species_vol, \n",
    "                              [f_]*len(species_list), \n",
    "                              species_list, \n",
    "                              ordered=True)\n",
    "    rc.wait_interactive()\n",
    "    \n",
    "    for i, species in enumerate(species_list):\n",
    "        print('compiling species', species)\n",
    "        f['live_vol_per_ha_125_%s' % species] = result[i]\n",
    "    f.to_feather(ria_vri_vclr1p_checkpoint3_feather_path)\n",
    "else:\n",
    "    print('loading VRI data from checkpoint3 feather')\n",
    "    f = gpd.read_feather(ria_vri_vclr1p_checkpoint3_feather_path)"
   ]
  },
  {
   "cell_type": "code",
   "execution_count": 14,
   "metadata": {},
   "outputs": [],
   "source": [
    "def is_conif(species_code):\n",
    "    return species_code[:1] in ['B', 'C', 'F', 'H', 'J', 'L', 'P', 'S', 'T', 'Y']\n",
    "\n",
    "\n",
    "def is_decid(species_code):\n",
    "    return species_code[:1] in ['A', 'D', 'E', 'G', 'M', 'Q', 'R', 'U', 'V', 'W']\n",
    "\n",
    "\n",
    "def pconif(r):\n",
    "    return sum(r['SPECIES_PCT_%i' % i] for i in range(1, 7) if is_conif(r['SPECIES_CD_%i' % i])) / 100.\n",
    "\n",
    "\n",
    "def pdecid(r):\n",
    "    return sum(r['SPECIES_PCT_%i' % i] for i in range(1, 7) if is_decid(r['SPECIES_CD_%i' % i])) / 100.\n",
    "    \n",
    "\n",
    "def classify_stand_cdm(r):\n",
    "    # Classify stand (from VRI record r) as one of: conif (c), decid (d), or mixed (m), where\n",
    "    #   c >= 80% softwood\n",
    "    #   d >= 80% hardwood\n",
    "    #   m otherwise\n",
    "    if pconif(r) >= 0.8:\n",
    "        return 'c'\n",
    "    elif pdecid(r) >= 0.8:\n",
    "        return 'd'\n",
    "    else:\n",
    "        return 'm'\n",
    "    \n",
    "def classify_stand_forest_type(r):\n",
    "    # to (approximately) match TSA 41 TSR data package AU regeneration logic\n",
    "    if pconif(r) >= 0.75:\n",
    "        return 1 # pure conif\n",
    "    elif pconif(r) >= 0.50:\n",
    "        return 2 # conif mix\n",
    "    elif pconif(r) >= 0.25:\n",
    "        return 3 # decid mix\n",
    "    else:\n",
    "        return 4 # pure decid"
   ]
  },
  {
   "cell_type": "code",
   "execution_count": 15,
   "metadata": {},
   "outputs": [],
   "source": [
    "# definititely best one yet!\n",
    "def stratify_stand(r, lexmatch=False, lexmatch_fieldname_suffix='_lexmatch'):\n",
    "    result = ''\n",
    "    if lexmatch:\n",
    "        result += 3 * r['BEC_ZONE_CODE%s' % lexmatch_fieldname_suffix]\n",
    "        result += '_'\n",
    "        #result += r.BCLCS_LEVEL_5\n",
    "        #result += '_'\n",
    "        result += 2 * r['SPECIES_CD_1%s' % lexmatch_fieldname_suffix]\n",
    "        if r.BCLCS_LEVEL_4 == 'TM' and r.SPECIES_CD_2 != None:\n",
    "            result += '+' + r['SPECIES_CD_2%s' % lexmatch_fieldname_suffix]\n",
    "    else:\n",
    "        result += r.BEC_ZONE_CODE\n",
    "        result += '_'\n",
    "        #result += r.BCLCS_LEVEL_5\n",
    "        #result += '_'\n",
    "        result += r.SPECIES_CD_1\n",
    "        if r.BCLCS_LEVEL_4 == 'TM' and r.SPECIES_CD_2 != None:\n",
    "            result += '+' + r.SPECIES_CD_2\n",
    "    return result"
   ]
  },
  {
   "cell_type": "code",
   "execution_count": 16,
   "metadata": {},
   "outputs": [
    {
     "data": {
      "application/vnd.jupyter.widget-view+json": {
       "model_id": "053e70bda4ae46898d67579851e0fcbb",
       "version_major": 2,
       "version_minor": 0
      },
      "text/plain": [
       "Pandas Apply:   0%|          | 0/1224701 [00:00<?, ?it/s]"
      ]
     },
     "metadata": {},
     "output_type": "display_data"
    }
   ],
   "source": [
    "f['BEC_ZONE_CODE_lexmatch'] = f.BEC_ZONE_CODE.str.ljust(4, fillchar='x')\n",
    "for i in range(1, 3):\n",
    "    f['SPECIES_CD_%i_lexmatch' % i] = f['SPECIES_CD_%i' % i].str.ljust(4, 'x')\n",
    "    f['SPECIES_CD_%i_lexmatch' % i] = f['SPECIES_CD_%i' % i].str[:1] + f['SPECIES_CD_%i' % i]\n",
    "\n",
    "stratify_stand = stratify_stand\n",
    "stratify_stand_lexmatch = partial(stratify_stand, lexmatch=True)\n",
    "\n",
    "f['stratum'] = f.swifter.apply(stratify_stand, axis=1)\n",
    "f['stratum_lexmatch'] = f.swifter.apply(stratify_stand_lexmatch, axis=1)"
   ]
  },
  {
   "cell_type": "code",
   "execution_count": 17,
   "metadata": {},
   "outputs": [],
   "source": [
    "stratum_col = 'stratum'"
   ]
  },
  {
   "cell_type": "code",
   "execution_count": 18,
   "metadata": {},
   "outputs": [],
   "source": [
    "#f['forest_type'] = f.reset_index().swifter.apply(classify_stand_forest_type, axis=1)\n",
    "f['forest_type'] = f.apply(classify_stand_forest_type, axis=1)"
   ]
  },
  {
   "cell_type": "code",
   "execution_count": 19,
   "metadata": {},
   "outputs": [],
   "source": [
    "f.to_feather(ria_vri_vclr1p_checkpoint4_feather_path)"
   ]
  },
  {
   "cell_type": "code",
   "execution_count": 20,
   "metadata": {},
   "outputs": [],
   "source": [
    "if 0: # roll back if screwed up further down\n",
    "    f = gpd.read_feather(ria_vri_vclr1p_checkpoint4_feather_path)"
   ]
  },
  {
   "cell_type": "code",
   "execution_count": 21,
   "metadata": {},
   "outputs": [],
   "source": [
    "#f = f.reset_index().set_index('tsa_code')"
   ]
  },
  {
   "cell_type": "markdown",
   "metadata": {},
   "source": [
    "Loop over TSAs and run notebook 01_run-tsa_step1."
   ]
  },
  {
   "cell_type": "code",
   "execution_count": 22,
   "metadata": {},
   "outputs": [],
   "source": [
    "vdyp_curves_smooth = {}\n",
    "vdyp_results = {}\n",
    "tipsy_params = {}\n",
    "tipsy_curves = {}\n",
    "scsi_au = {}\n",
    "au_scsi = {}\n",
    "results = {}"
   ]
  },
  {
   "cell_type": "code",
   "execution_count": 23,
   "metadata": {},
   "outputs": [],
   "source": [
    "if 0:\n",
    "    def process_vdyp_out(vdyp_out, volume_flavour='Vdwb', min_age=30, max_age=300, \n",
    "                         sigma_c1=10, sigma_c2=0.4, dx_c1=0.5, dx_c2=10,\n",
    "                         window=10,  skip1=0, skip2=30, maxfev=100000,\n",
    "                         body_fit_func=body_fit_func, body_fit_func_bounds_func=body_fit_func_bounds_func,\n",
    "                         toe_fit_func=toe_fit_func, toe_fit_func_bounds_func=toe_fit_func_bounds_func):\n",
    "        vdyp_out_concat = pd.concat([v for v in vdyp_out.values() if type(v) == pd.core.frame.DataFrame])\n",
    "        c = vdyp_out_concat.groupby(level='Age')[volume_flavour].median()\n",
    "        c = c[c > 0]\n",
    "        c = c[c.index >= min_age]\n",
    "        x = c.index.values\n",
    "        y = c.rolling(window=window, center=True).median().values\n",
    "        x, y = x[y > 0], y[y > 0]\n",
    "        x, y = x[skip1:], y[skip1:]\n",
    "        #return x, y\n",
    "        y_mai = pd.Series(y / x, x)\n",
    "        y_mai_max_age = y_mai.idxmax()\n",
    "        sigma = (np.abs(x - y_mai_max_age) + sigma_c1)**sigma_c2\n",
    "        popt, pcov = curve_fit(body_fit_func, x, y, bounds=body_fit_func_bounds_func(x), maxfev=maxfev, sigma=sigma)\n",
    "        x = np.array(range(1, max_age))\n",
    "        y = fit_func1(x, *popt)\n",
    "        dx = max(0, dx_c1 * popt[2] - dx_c2)\n",
    "        print(dx, dx_c1, popt[2], dx_c2)\n",
    "        x, y, (i1, popt_toe) = fill_curve_left(x, y, skip=skip2, dx=dx, maxfev=maxfev,\n",
    "                                               toe_fit_func=toe_fit_func, toe_fit_func_bounds_func=toe_fit_func_bounds_func)\n",
    "        print(popt_toe)\n",
    "        return x, y"
   ]
  },
  {
   "cell_type": "code",
   "execution_count": 24,
   "metadata": {},
   "outputs": [],
   "source": [
    "kwarg_overrides = {'08':{('BWBS_SB', 'H'):{'skip1':30},\n",
    "                         ('BWBS_S', 'L'):{'skip1':50},\n",
    "                         ('SWB_S', 'L'):{'skip1':30},\n",
    "                         ('BWBS_AT', 'H'):{'skip1':30}},\n",
    "                   '16':{('SWB_SX', 'L'):{'skip1':30}},\n",
    "                   '24':{('ESSF_BL', 'L'):{'skip1':30}},\n",
    "                   '40':{('BWBS_SX', 'L'):{'skip1':30},\n",
    "                         ('SWB_SX', 'L'):{'skip1':60, 'dx_c1':1., 'dx_c2':0.}},\n",
    "                   '41':{('ESSF_BL', 'L'):{'skip1':60},\n",
    "                         ('ESSF_SE', 'M'):{'skip1':30}}}"
   ]
  },
  {
   "cell_type": "code",
   "execution_count": 25,
   "metadata": {},
   "outputs": [
    {
     "ename": "KeyError",
     "evalue": "'41'",
     "output_type": "error",
     "traceback": [
      "\u001b[0;31m---------------------------------------------------------------------------\u001b[0m",
      "\u001b[0;31mKeyError\u001b[0m                                  Traceback (most recent call last)",
      "\u001b[0;32m<ipython-input-25-3d5b159cef1a>\u001b[0m in \u001b[0;36m<module>\u001b[0;34m\u001b[0m\n\u001b[1;32m     18\u001b[0m         \u001b[0msns\u001b[0m\u001b[0;34m.\u001b[0m\u001b[0mset_palette\u001b[0m\u001b[0;34m(\u001b[0m\u001b[0mpalette\u001b[0m\u001b[0;34m)\u001b[0m\u001b[0;34m\u001b[0m\u001b[0;34m\u001b[0m\u001b[0m\n\u001b[1;32m     19\u001b[0m         \u001b[0malphas\u001b[0m \u001b[0;34m=\u001b[0m \u001b[0;34m[\u001b[0m\u001b[0;36m1.0\u001b[0m\u001b[0;34m,\u001b[0m \u001b[0;36m0.5\u001b[0m\u001b[0;34m,\u001b[0m \u001b[0;36m0.1\u001b[0m\u001b[0;34m]\u001b[0m\u001b[0;34m\u001b[0m\u001b[0;34m\u001b[0m\u001b[0m\n\u001b[0;32m---> 20\u001b[0;31m         \u001b[0;32mfor\u001b[0m \u001b[0mstratumi\u001b[0m\u001b[0;34m,\u001b[0m \u001b[0msc\u001b[0m\u001b[0;34m,\u001b[0m \u001b[0mresult\u001b[0m \u001b[0;32min\u001b[0m \u001b[0mresults\u001b[0m\u001b[0;34m[\u001b[0m\u001b[0mtsa\u001b[0m\u001b[0;34m]\u001b[0m\u001b[0;34m:\u001b[0m\u001b[0;34m\u001b[0m\u001b[0;34m\u001b[0m\u001b[0m\n\u001b[0m\u001b[1;32m     21\u001b[0m             \u001b[0;32mif\u001b[0m \u001b[0msc\u001b[0m \u001b[0;34m!=\u001b[0m \u001b[0;34m'ESSF_SE'\u001b[0m\u001b[0;34m:\u001b[0m \u001b[0;32mcontinue\u001b[0m\u001b[0;34m\u001b[0m\u001b[0;34m\u001b[0m\u001b[0m\n\u001b[1;32m     22\u001b[0m             \u001b[0;32mif\u001b[0m \u001b[0mplot\u001b[0m\u001b[0;34m:\u001b[0m \u001b[0mfig\u001b[0m\u001b[0;34m,\u001b[0m \u001b[0max\u001b[0m \u001b[0;34m=\u001b[0m \u001b[0mplt\u001b[0m\u001b[0;34m.\u001b[0m\u001b[0msubplots\u001b[0m\u001b[0;34m(\u001b[0m\u001b[0;36m1\u001b[0m\u001b[0;34m,\u001b[0m \u001b[0;36m1\u001b[0m\u001b[0;34m,\u001b[0m \u001b[0mfigsize\u001b[0m\u001b[0;34m=\u001b[0m\u001b[0mfigsize\u001b[0m\u001b[0;34m)\u001b[0m\u001b[0;34m\u001b[0m\u001b[0;34m\u001b[0m\u001b[0m\n",
      "\u001b[0;31mKeyError\u001b[0m: '41'"
     ]
    }
   ],
   "source": [
    "if 0:\n",
    "    #kwarg_overrides = {'08':{('BWBS_SB', 'H'):{'skip1':30},\n",
    "    #                        ('BWBS_AT', 'H'):{'skip1':30}},\n",
    "    #                   '16':{('SWB_SX', 'L'):{'skip1':30}},\n",
    "    #                   '24':{},\n",
    "    #                   '40':{('BWBS_SX', 'L'):{'skip1':30}},\n",
    "    #                   '41':{}}\n",
    "\n",
    "    tsa = '41'\n",
    "    vdyp_curves_smooth_tsa_feather_path = '%s%s.feather' % (vdyp_curves_smooth_tsa_feather_path_prefix, tsa)\n",
    "    #if not os.path.isfile(vdyp_curves_smooth_tsa_feather_path):\n",
    "    if 1:\n",
    "        figsize = (8, 6)\n",
    "        plot = 1\n",
    "        vdyp_smoothxy = {}\n",
    "        palette_flavours=['RdPu', 'Blues', 'Greens', 'Greys']\n",
    "        palette = sns.color_palette('Greens', 3)\n",
    "        sns.set_palette(palette)\n",
    "        alphas = [1.0, 0.5, 0.1]\n",
    "        for stratumi, sc, result in results[tsa]:\n",
    "            if sc != 'ESSF_SE': continue\n",
    "            if plot: fig, ax = plt.subplots(1, 1, figsize=figsize)\n",
    "            print('stratum',stratumi, sc)\n",
    "            #for i, si_level in enumerate(si_levels):\n",
    "            for i, si_level in enumerate(['M']):            \n",
    "                print('processing', sc, si_level)\n",
    "                vdyp_out = vdyp_results[tsa][stratumi][si_level]\n",
    "                kwargs = {}\n",
    "                if (sc, si_level) in kwarg_overrides[tsa]:\n",
    "                    kwargs.update(kwarg_overrides[tsa][(sc, si_level)])\n",
    "                x, y = process_vdyp_out(vdyp_out, **kwargs)\n",
    "                df = pd.DataFrame(zip(x, y), columns=['age', 'volume'])\n",
    "                df = df[df.volume > 0]\n",
    "                df['stratum_code'] = sc\n",
    "                df['si_level'] = si_level\n",
    "                vdyp_smoothxy[(sc, si_level)] = df \n",
    "                if plot:\n",
    "                    vdyp_out_concat = pd.concat([v for v in vdyp_out.values() if type(v) == pd.core.frame.DataFrame])\n",
    "                    c = vdyp_out_concat.groupby(level='Age')['Vdwb'].median()\n",
    "                    c = c[c > 0]\n",
    "                    c = c[c.index >= 30]\n",
    "                    x_ = c.index.values\n",
    "                    y_ = c.values\n",
    "                    plt.plot(x_, y_, linestyle=':', label='VDYP->agg (%s %s)' % (sc, si_level), \n",
    "                             linewidth=2, color=palette[i])\n",
    "                    plt.plot(x, y, label='%s %s' % (sc, si_level))\n",
    "            if plot: \n",
    "                plt.legend()\n",
    "                plt.xlim([0, 300])\n",
    "                plt.ylim([0, 600])\n",
    "                plt.tight_layout()\n",
    "        vdyp_curves_smooth[tsa] = pd.concat(vdyp_smoothxy.values()).reset_index()#.set_index(['stratum_code', 'si_level'])\n",
    "        vdyp_curves_smooth[tsa].to_feather(vdyp_curves_smooth_tsa_feather_path)\n",
    "    #else:\n",
    "    #    vdyp_curves_smooth[tsa] = pd.read_feather(vdyp_curves_smooth_tsa_feather_path)"
   ]
  },
  {
   "cell_type": "code",
   "execution_count": 26,
   "metadata": {},
   "outputs": [],
   "source": [
    "if 0:\n",
    "    vdyp_out_cache = pickle.load(open('vdyp_out_cache.pkl', 'rb'))"
   ]
  },
  {
   "cell_type": "code",
   "execution_count": 27,
   "metadata": {},
   "outputs": [],
   "source": [
    "if 0:\n",
    "    force_run_vdyp = 0\n",
    "    #tsa = '08' # fix bwbs sb h\n",
    "    tsa = '16'\n",
    "    #tsa = '24'\n",
    "    #tsa = '40' # fix bwbs sx l\n",
    "    #tsa = '41' \n",
    "    stratum_col = 'stratum'\n",
    "    %run 01a_run-tsa.ipynb"
   ]
  },
  {
   "cell_type": "markdown",
   "metadata": {},
   "source": [
    "Loop over TSAs and run notebook `01a_run-tsa`."
   ]
  },
  {
   "cell_type": "code",
   "execution_count": 28,
   "metadata": {},
   "outputs": [],
   "source": [
    "f.set_index('tsa_code', inplace=True)"
   ]
  },
  {
   "cell_type": "code",
   "execution_count": null,
   "metadata": {},
   "outputs": [],
   "source": [
    "if 1:\n",
    "    force_run_vdyp = 0\n",
    "    for tsa in ria_tsas[:]:\n",
    "        stratum_col = 'stratum'\n",
    "        %run 01a_run-tsa.ipynb"
   ]
  },
  {
   "cell_type": "code",
   "execution_count": 30,
   "metadata": {},
   "outputs": [],
   "source": [
    "if 0:\n",
    "    pickle.dump(vdyp_out_cache, open('vdyp_out_cache.pkl', 'wb'))"
   ]
  },
  {
   "cell_type": "markdown",
   "metadata": {},
   "source": [
    "Pause running notebook and head to a Windows machine to run `02_input-tsa*.dat` files through BatchTIPSY, then copy `04_output-tsa*.out` files to `./data/`."
   ]
  },
  {
   "cell_type": "markdown",
   "metadata": {},
   "source": [
    "Loop over TSAs and run notebook `01b_run-tsa`."
   ]
  },
  {
   "cell_type": "code",
   "execution_count": null,
   "metadata": {},
   "outputs": [],
   "source": [
    "# loop over tsas here and run notebook 01_run-tsa_step2\n",
    "for tsa in ria_tsas[:]:\n",
    "    %run 01b_run-tsa.ipynb"
   ]
  },
  {
   "cell_type": "markdown",
   "metadata": {},
   "source": [
    "Done."
   ]
  },
  {
   "cell_type": "code",
   "execution_count": 32,
   "metadata": {},
   "outputs": [],
   "source": [
    "if 0:\n",
    "    spp_map = pd.read_csv('./data/LandR_sppEquivalencies.csv')\n",
    "    spp_map = spp_map[(~spp_map['LANDIS_traits'].isnull()) & (~spp_map['BC_Forestry'].isnull())][['BC_Forestry', 'LANDIS_traits']]\n",
    "    spp_map['vri'] = spp_map['BC_Forestry'].str.upper()\n",
    "    spp_map['link'] = spp_map['LANDIS_traits']\n",
    "    canfi = pd.read_csv('./data/canfi_species.csv')\n",
    "    canfi['link'] = canfi.genus + '.' + canfi.species\n",
    "    canfi = canfi.set_index('link').merge(spp_map[['link', 'vri']], on='link', how='left')\n",
    "    canfi = canfi[~canfi.vri.isnull()].set_index('vri')"
   ]
  },
  {
   "cell_type": "code",
   "execution_count": 33,
   "metadata": {},
   "outputs": [],
   "source": [
    "canfi_map = {'AC':1211, \n",
    "             'AT':1201, \n",
    "             'BL':304, \n",
    "             'EP':1303, \n",
    "             'FDI':500, \n",
    "             'HW':402, \n",
    "             'PL':204, \n",
    "             'PLI':204, \n",
    "             'SB':101, \n",
    "             'SE':104, \n",
    "             'SW':105, \n",
    "             'SX':100,\n",
    "             'S':100}"
   ]
  },
  {
   "cell_type": "code",
   "execution_count": 34,
   "metadata": {},
   "outputs": [],
   "source": [
    "def canfi_species(stratum_code):\n",
    "    s = stratum_code.split('_')[-1].split('+')[0]\n",
    "    result = canfi_map[s]\n",
    "    return result"
   ]
  },
  {
   "cell_type": "code",
   "execution_count": 35,
   "metadata": {},
   "outputs": [
    {
     "name": "stdout",
     "output_type": "stream",
     "text": [
      "08\n",
      "16\n",
      "24\n",
      "40\n",
      "41\n"
     ]
    },
    {
     "name": "stderr",
     "output_type": "stream",
     "text": [
      "PerformanceWarning: indexing past lexsort depth may impact performance.\n"
     ]
    }
   ],
   "source": [
    "au_table_data = {'au_id':[],\n",
    "                 'tsa':[],\n",
    "                 'stratum_code':[],\n",
    "                 'si_level':[],\n",
    "                 'canfi_species':[],\n",
    "                 'unmanaged_curve_id':[],\n",
    "                 'managed_curve_id':[]} \n",
    "\n",
    "curve_table_data = {'curve_id':[],\n",
    "                    'curve_type':[]}\n",
    "\n",
    "curve_points_table_data = {'curve_id':[],\n",
    "                           'x':[],\n",
    "                           'y':[]}\n",
    "\n",
    "for tsa in ria_tsas:\n",
    "    print(tsa)\n",
    "    vdyp_curves_ = vdyp_curves_smooth[tsa].set_index(['stratum_code', 'si_level'])\n",
    "    tipsy_curves_ = tipsy_curves[tsa].reset_index().set_index('AU')\n",
    "    for stratum_code, si_level in list(vdyp_curves_.index.unique()):\n",
    "        au_id_ = scsi_au[tsa][(stratum_code, si_level)]\n",
    "        tipsy_curve_id = 20000 + au_id_\n",
    "        is_managed_au = tipsy_curve_id in tipsy_curves_.index.unique()\n",
    "        au_id = 100000 * int(tsa) + au_id_\n",
    "        unmanaged_curve_id = au_id\n",
    "        managed_curve_id = au_id + 20000 if is_managed_au else unmanaged_curve_id\n",
    "        #print(au_id, stratum_code, si_level, is_managed_au, unmanaged_curve_id, managed_curve_id)\n",
    "        au_table_data['au_id'].append(au_id)\n",
    "        au_table_data['tsa'].append(tsa)\n",
    "        au_table_data['stratum_code'].append(stratum_code)\n",
    "        au_table_data['si_level'].append(si_level)\n",
    "        au_table_data['canfi_species'].append(canfi_species(stratum_code))\n",
    "        au_table_data['unmanaged_curve_id'].append(unmanaged_curve_id)\n",
    "        curve_table_data['curve_id'].append(unmanaged_curve_id)\n",
    "        curve_table_data['curve_type'].append('unmanaged')\n",
    "        vdyp_curve = vdyp_curves_.loc[(stratum_code, si_level)]\n",
    "        #print('vdyp curve')\n",
    "        for x, y in zip(vdyp_curve.age, vdyp_curve.volume):\n",
    "            #print(x, round(y, 2))\n",
    "            curve_points_table_data['curve_id'].append(unmanaged_curve_id)\n",
    "            curve_points_table_data['x'].append(int(x))\n",
    "            curve_points_table_data['y'].append(round(y, 2))\n",
    "        au_table_data['managed_curve_id'].append(managed_curve_id)\n",
    "        if is_managed_au:\n",
    "            curve_table_data['curve_id'].append(managed_curve_id)\n",
    "            curve_table_data['curve_type'].append('managed')        \n",
    "            tipsy_curve = tipsy_curves_.loc[tipsy_curve_id]\n",
    "            #print('tipsy curve')\n",
    "            for x, y in zip(tipsy_curve.Age, tipsy_curve.Yield):\n",
    "                #print(x, round(y, 2))\n",
    "                curve_points_table_data['curve_id'].append(managed_curve_id)\n",
    "                curve_points_table_data['x'].append(int(x))\n",
    "                curve_points_table_data['y'].append(round(y, 2))\n",
    "au_table = pd.DataFrame(au_table_data)\n",
    "curve_table = pd.DataFrame(curve_table_data)\n",
    "curve_points_table = pd.DataFrame(curve_points_table_data)"
   ]
  },
  {
   "cell_type": "code",
   "execution_count": 36,
   "metadata": {},
   "outputs": [
    {
     "data": {
      "text/html": [
       "<div>\n",
       "<style scoped>\n",
       "    .dataframe tbody tr th:only-of-type {\n",
       "        vertical-align: middle;\n",
       "    }\n",
       "\n",
       "    .dataframe tbody tr th {\n",
       "        vertical-align: top;\n",
       "    }\n",
       "\n",
       "    .dataframe thead th {\n",
       "        text-align: right;\n",
       "    }\n",
       "</style>\n",
       "<table border=\"1\" class=\"dataframe\">\n",
       "  <thead>\n",
       "    <tr style=\"text-align: right;\">\n",
       "      <th></th>\n",
       "      <th>au_id</th>\n",
       "      <th>tsa</th>\n",
       "      <th>stratum_code</th>\n",
       "      <th>si_level</th>\n",
       "      <th>canfi_species</th>\n",
       "      <th>unmanaged_curve_id</th>\n",
       "      <th>managed_curve_id</th>\n",
       "    </tr>\n",
       "  </thead>\n",
       "  <tbody>\n",
       "    <tr>\n",
       "      <th>0</th>\n",
       "      <td>801000</td>\n",
       "      <td>08</td>\n",
       "      <td>BWBS_SB</td>\n",
       "      <td>L</td>\n",
       "      <td>101</td>\n",
       "      <td>801000</td>\n",
       "      <td>801000</td>\n",
       "    </tr>\n",
       "    <tr>\n",
       "      <th>1</th>\n",
       "      <td>802000</td>\n",
       "      <td>08</td>\n",
       "      <td>BWBS_SB</td>\n",
       "      <td>M</td>\n",
       "      <td>101</td>\n",
       "      <td>802000</td>\n",
       "      <td>802000</td>\n",
       "    </tr>\n",
       "    <tr>\n",
       "      <th>2</th>\n",
       "      <td>803000</td>\n",
       "      <td>08</td>\n",
       "      <td>BWBS_SB</td>\n",
       "      <td>H</td>\n",
       "      <td>101</td>\n",
       "      <td>803000</td>\n",
       "      <td>803000</td>\n",
       "    </tr>\n",
       "    <tr>\n",
       "      <th>3</th>\n",
       "      <td>801001</td>\n",
       "      <td>08</td>\n",
       "      <td>BWBS_AT</td>\n",
       "      <td>L</td>\n",
       "      <td>1201</td>\n",
       "      <td>801001</td>\n",
       "      <td>801001</td>\n",
       "    </tr>\n",
       "    <tr>\n",
       "      <th>4</th>\n",
       "      <td>802001</td>\n",
       "      <td>08</td>\n",
       "      <td>BWBS_AT</td>\n",
       "      <td>M</td>\n",
       "      <td>1201</td>\n",
       "      <td>802001</td>\n",
       "      <td>802001</td>\n",
       "    </tr>\n",
       "  </tbody>\n",
       "</table>\n",
       "</div>"
      ],
      "text/plain": [
       "    au_id tsa stratum_code si_level  canfi_species  unmanaged_curve_id  \\\n",
       "0  801000  08      BWBS_SB        L            101              801000   \n",
       "1  802000  08      BWBS_SB        M            101              802000   \n",
       "2  803000  08      BWBS_SB        H            101              803000   \n",
       "3  801001  08      BWBS_AT        L           1201              801001   \n",
       "4  802001  08      BWBS_AT        M           1201              802001   \n",
       "\n",
       "   managed_curve_id  \n",
       "0            801000  \n",
       "1            802000  \n",
       "2            803000  \n",
       "3            801001  \n",
       "4            802001  "
      ]
     },
     "execution_count": 36,
     "metadata": {},
     "output_type": "execute_result"
    }
   ],
   "source": [
    "au_table.head()"
   ]
  },
  {
   "cell_type": "code",
   "execution_count": 37,
   "metadata": {},
   "outputs": [
    {
     "data": {
      "text/html": [
       "<div>\n",
       "<style scoped>\n",
       "    .dataframe tbody tr th:only-of-type {\n",
       "        vertical-align: middle;\n",
       "    }\n",
       "\n",
       "    .dataframe tbody tr th {\n",
       "        vertical-align: top;\n",
       "    }\n",
       "\n",
       "    .dataframe thead th {\n",
       "        text-align: right;\n",
       "    }\n",
       "</style>\n",
       "<table border=\"1\" class=\"dataframe\">\n",
       "  <thead>\n",
       "    <tr style=\"text-align: right;\">\n",
       "      <th></th>\n",
       "      <th>curve_id</th>\n",
       "      <th>curve_type</th>\n",
       "    </tr>\n",
       "  </thead>\n",
       "  <tbody>\n",
       "    <tr>\n",
       "      <th>0</th>\n",
       "      <td>801000</td>\n",
       "      <td>unmanaged</td>\n",
       "    </tr>\n",
       "    <tr>\n",
       "      <th>1</th>\n",
       "      <td>802000</td>\n",
       "      <td>unmanaged</td>\n",
       "    </tr>\n",
       "    <tr>\n",
       "      <th>2</th>\n",
       "      <td>803000</td>\n",
       "      <td>unmanaged</td>\n",
       "    </tr>\n",
       "    <tr>\n",
       "      <th>3</th>\n",
       "      <td>801001</td>\n",
       "      <td>unmanaged</td>\n",
       "    </tr>\n",
       "    <tr>\n",
       "      <th>4</th>\n",
       "      <td>802001</td>\n",
       "      <td>unmanaged</td>\n",
       "    </tr>\n",
       "  </tbody>\n",
       "</table>\n",
       "</div>"
      ],
      "text/plain": [
       "   curve_id curve_type\n",
       "0    801000  unmanaged\n",
       "1    802000  unmanaged\n",
       "2    803000  unmanaged\n",
       "3    801001  unmanaged\n",
       "4    802001  unmanaged"
      ]
     },
     "execution_count": 37,
     "metadata": {},
     "output_type": "execute_result"
    }
   ],
   "source": [
    "curve_table.head()"
   ]
  },
  {
   "cell_type": "code",
   "execution_count": 38,
   "metadata": {},
   "outputs": [
    {
     "data": {
      "text/html": [
       "<div>\n",
       "<style scoped>\n",
       "    .dataframe tbody tr th:only-of-type {\n",
       "        vertical-align: middle;\n",
       "    }\n",
       "\n",
       "    .dataframe tbody tr th {\n",
       "        vertical-align: top;\n",
       "    }\n",
       "\n",
       "    .dataframe thead th {\n",
       "        text-align: right;\n",
       "    }\n",
       "</style>\n",
       "<table border=\"1\" class=\"dataframe\">\n",
       "  <thead>\n",
       "    <tr style=\"text-align: right;\">\n",
       "      <th></th>\n",
       "      <th>curve_id</th>\n",
       "      <th>x</th>\n",
       "      <th>y</th>\n",
       "    </tr>\n",
       "  </thead>\n",
       "  <tbody>\n",
       "    <tr>\n",
       "      <th>0</th>\n",
       "      <td>801000</td>\n",
       "      <td>31</td>\n",
       "      <td>0.0</td>\n",
       "    </tr>\n",
       "    <tr>\n",
       "      <th>1</th>\n",
       "      <td>801000</td>\n",
       "      <td>32</td>\n",
       "      <td>0.0</td>\n",
       "    </tr>\n",
       "    <tr>\n",
       "      <th>2</th>\n",
       "      <td>801000</td>\n",
       "      <td>33</td>\n",
       "      <td>0.0</td>\n",
       "    </tr>\n",
       "    <tr>\n",
       "      <th>3</th>\n",
       "      <td>801000</td>\n",
       "      <td>34</td>\n",
       "      <td>0.0</td>\n",
       "    </tr>\n",
       "    <tr>\n",
       "      <th>4</th>\n",
       "      <td>801000</td>\n",
       "      <td>35</td>\n",
       "      <td>0.0</td>\n",
       "    </tr>\n",
       "  </tbody>\n",
       "</table>\n",
       "</div>"
      ],
      "text/plain": [
       "   curve_id   x    y\n",
       "0    801000  31  0.0\n",
       "1    801000  32  0.0\n",
       "2    801000  33  0.0\n",
       "3    801000  34  0.0\n",
       "4    801000  35  0.0"
      ]
     },
     "execution_count": 38,
     "metadata": {},
     "output_type": "execute_result"
    }
   ],
   "source": [
    "curve_points_table.head()"
   ]
  },
  {
   "cell_type": "code",
   "execution_count": 39,
   "metadata": {},
   "outputs": [],
   "source": [
    "au_table.to_csv('./data/spadescbm_bundle/au_table.csv')\n",
    "curve_table.to_csv('./data/spadescbm_bundle/curve_table.csv')\n",
    "curve_points_table.to_csv('./data/spadescbm_bundle/curve_points_table.csv')"
   ]
  },
  {
   "cell_type": "markdown",
   "metadata": {},
   "source": [
    "Restore the VRI dataset from checkpoint 1, and filter records to include only the forested features to which we want to impute an AU and managment status."
   ]
  },
  {
   "cell_type": "code",
   "execution_count": 40,
   "metadata": {},
   "outputs": [],
   "source": [
    "f = gpd.read_feather(ria_vri_vclr1p_checkpoint1_feather_path)"
   ]
  },
  {
   "cell_type": "code",
   "execution_count": 41,
   "metadata": {},
   "outputs": [
    {
     "data": {
      "application/vnd.jupyter.widget-view+json": {
       "model_id": "e92f9659b1dc4380be3d0c19c7993453",
       "version_major": 2,
       "version_minor": 0
      },
      "text/plain": [
       "Pandas Apply:   0%|          | 0/1990024 [00:00<?, ?it/s]"
      ]
     },
     "metadata": {},
     "output_type": "display_data"
    }
   ],
   "source": [
    "with rio.open('./data/misc.thlb.tif') as src:\n",
    "    def mean_thlb(r):\n",
    "        try:\n",
    "            a, _ = mask(src, r.geometry, crop=True)\n",
    "        except:\n",
    "            return 0\n",
    "        return np.mean(a[a >= 0])\n",
    "    f['thlb_raw'] = f.swifter.apply(mean_thlb, axis=1)"
   ]
  },
  {
   "cell_type": "code",
   "execution_count": 42,
   "metadata": {},
   "outputs": [],
   "source": [
    "if 0:\n",
    "    thlb_rasterprop_thresh = 0.01\n",
    "    with rio.open('./data/ria_demo/ria_landscapestack_init.tif') as src:\n",
    "        def is_thlb(r):\n",
    "            try:\n",
    "                a, _ = mask(src, r.geometry, crop=True)\n",
    "            except:\n",
    "                return 0\n",
    "            aa = a[1]\n",
    "            return 1 if np.mean(aa[aa >= 0]) > thlb_rasterprop_thresh else 0\n",
    "        f['thlb'] = f.swifter.apply(is_thlb, axis=1)"
   ]
  },
  {
   "cell_type": "code",
   "execution_count": 43,
   "metadata": {},
   "outputs": [],
   "source": [
    "if 0:\n",
    "    f = f[(f.BCLCS_LEVEL_2 == 'T') & (f.thlb == 0)] # implies f.BCLCS_LEVEL_1 == 'V'\n",
    "    f = f[(f.FOR_MGMT_LAND_BASE_IND == 'Y')  & (f.thlb == 0)]\n",
    "    f = f[(~f.BEC_ZONE_CODE.isin(['BAFA', 'IMA'])) & (f.thlb == 0)]\n",
    "    f = f[(~f.SPECIES_CD_1.isnull()) & (f.thlb == 0)]\n",
    "    f = f[(~f.BCLCS_LEVEL_5.isnull()) & (f.thlb == 0)]\n",
    "    f = f[(~f.SITE_INDEX.isnull()) & (f.thlb == 0)]"
   ]
  },
  {
   "cell_type": "code",
   "execution_count": 44,
   "metadata": {},
   "outputs": [],
   "source": [
    "if 1:\n",
    "    f = f[f.BCLCS_LEVEL_2 == 'T'] # implies f.BCLCS_LEVEL_1 == 'V'\n",
    "    #f = f[f.NON_PRODUCTIVE_CD != None]\n",
    "    f = f[f.FOR_MGMT_LAND_BASE_IND == 'Y']\n",
    "    f = f[~f.BEC_ZONE_CODE.isin(['BAFA', 'IMA'])]\n",
    "    f = f[~f.SPECIES_CD_1.isnull()]\n",
    "    f = f[~f.BCLCS_LEVEL_5.isnull()]\n",
    "    f = f[~f.SITE_INDEX.isnull()]"
   ]
  },
  {
   "cell_type": "code",
   "execution_count": 45,
   "metadata": {},
   "outputs": [
    {
     "data": {
      "text/plain": [
       "(1414857, 195)"
      ]
     },
     "execution_count": 45,
     "metadata": {},
     "output_type": "execute_result"
    }
   ],
   "source": [
    "f.shape"
   ]
  },
  {
   "cell_type": "code",
   "execution_count": 46,
   "metadata": {},
   "outputs": [
    {
     "data": {
      "application/vnd.jupyter.widget-view+json": {
       "model_id": "eed4d5ac457e43a3b2dc6d85eb63be6d",
       "version_major": 2,
       "version_minor": 0
      },
      "text/plain": [
       "Pandas Apply:   0%|          | 0/1414857 [00:00<?, ?it/s]"
      ]
     },
     "metadata": {},
     "output_type": "display_data"
    },
    {
     "data": {
      "application/vnd.jupyter.widget-view+json": {
       "model_id": "2fb115dd0a4d4d75bc036e3d66558157",
       "version_major": 2,
       "version_minor": 0
      },
      "text/plain": [
       "Pandas Apply:   0%|          | 0/1414857 [00:00<?, ?it/s]"
      ]
     },
     "metadata": {},
     "output_type": "display_data"
    }
   ],
   "source": [
    "f['BEC_ZONE_CODE_lexmatch'] = f.BEC_ZONE_CODE.str.ljust(4, fillchar='x')\n",
    "for i in range(1, 3):\n",
    "    f['SPECIES_CD_%i_lexmatch' % i] = f['SPECIES_CD_%i' % i].str.ljust(4, 'x')\n",
    "    f['SPECIES_CD_%i_lexmatch' % i] = f['SPECIES_CD_%i' % i].str[:1] + f['SPECIES_CD_%i' % i]\n",
    "\n",
    "stratify_stand = stratify_stand\n",
    "stratify_stand_lexmatch = partial(stratify_stand, lexmatch=True)\n",
    "\n",
    "f['stratum'] = f.swifter.apply(stratify_stand, axis=1)\n",
    "f['stratum_lexmatch'] = f.swifter.apply(stratify_stand_lexmatch, axis=1)"
   ]
  },
  {
   "cell_type": "code",
   "execution_count": 47,
   "metadata": {},
   "outputs": [],
   "source": [
    "f.to_feather(ria_vri_vclr1p_checkpoint5_feather_path)"
   ]
  },
  {
   "cell_type": "code",
   "execution_count": 48,
   "metadata": {},
   "outputs": [],
   "source": [
    "if 0:\n",
    "    f = pd.read_feather(ria_vri_vclr1p_checkpoint5_feather_path)"
   ]
  },
  {
   "cell_type": "code",
   "execution_count": 49,
   "metadata": {},
   "outputs": [],
   "source": [
    "def match_stratum2(r, stratum_col='stratum'):\n",
    "    return r[stratum_col] if r[stratum_col] in strata_df.index.values else best_match[r[stratum_col]]"
   ]
  },
  {
   "cell_type": "code",
   "execution_count": 50,
   "metadata": {},
   "outputs": [],
   "source": [
    "stratum_col = 'stratum'\n",
    "f['%s_matched' % stratum_col] = None"
   ]
  },
  {
   "cell_type": "code",
   "execution_count": 51,
   "metadata": {},
   "outputs": [],
   "source": [
    "if 0:\n",
    "    au_table = pd.read_csv('./data/spadescbm_bundle/au_table.csv')\n",
    "    curve_table = pd.read_csv('./data/spadescbm_bundle/curve_table.csv')\n",
    "    curve_points_table = pd.read_csv('./data/spadescbm_bundle/curve_points_table.csv')\n",
    "    au_table['tsa'] = au_table.apply(lambda r: '%02d' % r.tsa, axis=1\n",
    "                                )"
   ]
  },
  {
   "cell_type": "code",
   "execution_count": 52,
   "metadata": {},
   "outputs": [
    {
     "name": "stdout",
     "output_type": "stream",
     "text": [
      "matching tsa 08\n",
      "matching tsa 16\n",
      "matching tsa 24\n",
      "matching tsa 40\n",
      "matching tsa 41\n"
     ]
    }
   ],
   "source": [
    "for tsa in ria_tsas:    \n",
    "    print('matching tsa', tsa)\n",
    "    try:\n",
    "        f.reset_index(inplace=True)\n",
    "    except:\n",
    "        pass\n",
    "    stratum_codes = list(au_table.set_index('tsa').loc[tsa].stratum_code.unique())\n",
    "    f_ = f.set_index('tsa_code').loc[tsa].set_index('stratum')\n",
    "    totalarea = f_.FEATURE_AREA_SQM.sum()\n",
    "    f_['totalarea_p'] = f_.FEATURE_AREA_SQM / totalarea\n",
    "    names1 = set(f_.loc[stratum_codes].stratum_lexmatch.unique())\n",
    "    names2 = set(f_.stratum_lexmatch.unique()) - names1\n",
    "    stratum_key = f_.reset_index().groupby('%s_lexmatch' % stratum_col)[stratum_col].first()\n",
    "    totalarea_p_sum__ = f_.groupby('%s_lexmatch' % stratum_col).totalarea_p.sum()\n",
    "    lev_dist = {n2:{n1:distance.levenshtein(n1, n2) for n1 in names1} for n2 in names2}\n",
    "    lev_dist_low = {n2:{n1:(lev_dist[n2][n1], totalarea_p_sum__.loc[n1]) \n",
    "                        for n1 in lev_dist[n2].keys() if lev_dist[n2][n1] == min(lev_dist[n2].values())} \n",
    "                    for n2 in names2}\n",
    "    bm = {stratum_key.loc[n2]:stratum_key[max(lev_dist_low[n2].items(), key=operator.itemgetter(1))[0]] for n2 in names2}\n",
    "    f_.reset_index(inplace=True)\n",
    "    c, sc = stratum_col, stratum_codes\n",
    "    f_['%s_matched' % stratum_col] = f_.swifter.apply(lambda r: r[c] if r[c] in sc else bm[r[c]], axis=1)\n",
    "    m = f[['FEATURE_ID']].merge(f_[['FEATURE_ID', 'stratum_matched']], on='FEATURE_ID', how='left').set_index('FEATURE_ID')\n",
    "    f.set_index('FEATURE_ID', inplace=True)\n",
    "    f['stratum_matched'] = m.stratum_matched.where(~m.stratum_matched.isnull(), \n",
    "                                                   f.stratum_matched)"
   ]
  },
  {
   "cell_type": "code",
   "execution_count": 53,
   "metadata": {},
   "outputs": [],
   "source": [
    "stratum_si_stats = f.groupby('stratum_matched').SITE_INDEX.describe(percentiles=[0, 0.05, 0.20, 0.35, 0.5, 0.65, 0.80, 0.95, 1])\n",
    "#si_levelquants={'L':[5, 20, 35], 'M':[35, 50, 65], 'H':[65, 80, 95]}\n",
    "si_levelquants={'L':[0, 20, 35], 'M':[35, 50, 65], 'H':[65, 80, 100]}"
   ]
  },
  {
   "cell_type": "code",
   "execution_count": 54,
   "metadata": {},
   "outputs": [
    {
     "name": "stdout",
     "output_type": "stream",
     "text": [
      "BWBS_AC\n",
      "BWBS_AT\n",
      "BWBS_AT+SW\n",
      "BWBS_EP\n",
      "BWBS_PL\n",
      "BWBS_PLI\n",
      "BWBS_S\n",
      "BWBS_SB\n",
      "BWBS_SW\n",
      "BWBS_SX\n",
      "ESSF_BL\n",
      "ESSF_PL\n",
      "ESSF_PLI\n",
      "ESSF_SE\n",
      "ESSF_SW\n",
      "ESSF_SX\n",
      "SBS_AT\n",
      "SBS_AT+SX\n",
      "SBS_BL\n",
      "SBS_PL\n",
      "SBS_PLI\n",
      "SBS_SX\n",
      "SBS_SX+AT\n",
      "SWB_BL\n",
      "SWB_PL\n",
      "SWB_S\n",
      "SWB_SX\n"
     ]
    }
   ],
   "source": [
    "for stratum_code in stratum_si_stats.index:\n",
    "    print(stratum_code)\n",
    "    for i, (si_level, Q) in enumerate(si_levelquants.items()):        \n",
    "        si_lo = stratum_si_stats.loc[stratum_code].loc['%i%%' % Q[0]]\n",
    "        si_md = stratum_si_stats.loc[stratum_code].loc['%i%%' % Q[1]]\n",
    "        si_hi = stratum_si_stats.loc[stratum_code].loc['%i%%' % Q[2]] \n",
    "        f.loc[(f.stratum_matched == stratum_code) & (f.SITE_INDEX >= si_lo) & (f.SITE_INDEX <= si_hi), 'si_level'] = si_level"
   ]
  },
  {
   "cell_type": "code",
   "execution_count": 55,
   "metadata": {},
   "outputs": [],
   "source": [
    "def au_from_scsi(r):\n",
    "    try:\n",
    "        au_id = 100000*int(r.tsa_code) + scsi_au[r.tsa_code][(r.stratum_matched, r.si_level)]\n",
    "        return au_id\n",
    "    except:\n",
    "        return None"
   ]
  },
  {
   "cell_type": "code",
   "execution_count": 56,
   "metadata": {},
   "outputs": [],
   "source": [
    "f['au'] = f.swifter.apply(au_from_scsi, axis=1)"
   ]
  },
  {
   "cell_type": "code",
   "execution_count": 57,
   "metadata": {},
   "outputs": [
    {
     "data": {
      "text/plain": [
       "(1414857, 203)"
      ]
     },
     "execution_count": 57,
     "metadata": {},
     "output_type": "execute_result"
    }
   ],
   "source": [
    "f.shape"
   ]
  },
  {
   "cell_type": "code",
   "execution_count": 58,
   "metadata": {},
   "outputs": [],
   "source": [
    "f = f[~f.au.isnull()]"
   ]
  },
  {
   "cell_type": "code",
   "execution_count": 59,
   "metadata": {},
   "outputs": [
    {
     "data": {
      "text/plain": [
       "(1414026, 203)"
      ]
     },
     "execution_count": 59,
     "metadata": {},
     "output_type": "execute_result"
    }
   ],
   "source": [
    "f.shape"
   ]
  },
  {
   "cell_type": "code",
   "execution_count": 60,
   "metadata": {},
   "outputs": [],
   "source": [
    "f.to_feather(ria_vri_vclr1p_checkpoint6_feather_path)"
   ]
  },
  {
   "cell_type": "code",
   "execution_count": 61,
   "metadata": {},
   "outputs": [],
   "source": [
    "try:\n",
    "    au_table.set_index('au_id', inplace=True)\n",
    "except:\n",
    "    pass"
   ]
  },
  {
   "cell_type": "code",
   "execution_count": 62,
   "metadata": {},
   "outputs": [],
   "source": [
    "def assign_curve1(r):\n",
    "    # age=60 managed/unmanaged cutoff assumption from Cosmin Man (personal communication)\n",
    "    au_id = 100000*int(r.tsa_code) + scsi_au[r.tsa_code][(r.stratum_matched, r.si_level)]\n",
    "    au = au_table.loc[au_id]\n",
    "    if r.PROJ_AGE_1 <= 60 and not np.isnan(au['managed_curve_id']):\n",
    "        curve_id = au['managed_curve_id']\n",
    "    else:\n",
    "        curve_id = au['unmanaged_curve_id']\n",
    "    return int(curve_id)"
   ]
  },
  {
   "cell_type": "code",
   "execution_count": 63,
   "metadata": {},
   "outputs": [
    {
     "name": "stderr",
     "output_type": "stream",
     "text": [
      "UserWarning: This pandas object has duplicate indices, and swifter may not be able to improve performance. Consider resetting the indices with `df.reset_index(drop=True)`.\n"
     ]
    },
    {
     "data": {
      "application/vnd.jupyter.widget-view+json": {
       "model_id": "c441b4f6084845eea989b079fa6304d6",
       "version_major": 2,
       "version_minor": 0
      },
      "text/plain": [
       "Pandas Apply:   0%|          | 0/1414026 [00:00<?, ?it/s]"
      ]
     },
     "metadata": {},
     "output_type": "display_data"
    }
   ],
   "source": [
    "f['curve1'] = f.swifter.apply(assign_curve1, axis=1)"
   ]
  },
  {
   "cell_type": "code",
   "execution_count": 64,
   "metadata": {},
   "outputs": [],
   "source": [
    "def assign_curve2(r):\n",
    "    au_id = 100000*int(r.tsa_code) + scsi_au[r.tsa_code][(r.stratum_matched, r.si_level)]\n",
    "    au = au_table.loc[au_id]\n",
    "    return au['unmanaged_curve_id']"
   ]
  },
  {
   "cell_type": "code",
   "execution_count": 65,
   "metadata": {},
   "outputs": [
    {
     "data": {
      "application/vnd.jupyter.widget-view+json": {
       "model_id": "9694a0ef5e964673900b0e553b5d48eb",
       "version_major": 2,
       "version_minor": 0
      },
      "text/plain": [
       "Pandas Apply:   0%|          | 0/1414026 [00:00<?, ?it/s]"
      ]
     },
     "metadata": {},
     "output_type": "display_data"
    }
   ],
   "source": [
    "f['curve2'] = f.swifter.apply(assign_curve2, axis=1)"
   ]
  },
  {
   "cell_type": "code",
   "execution_count": 66,
   "metadata": {},
   "outputs": [],
   "source": [
    "f.to_feather(ria_vri_vclr1p_checkpoint7_feather_path)"
   ]
  },
  {
   "cell_type": "code",
   "execution_count": 67,
   "metadata": {},
   "outputs": [],
   "source": [
    "if 1:\n",
    "    f = gpd.read_feather(ria_vri_vclr1p_checkpoint7_feather_path) "
   ]
  },
  {
   "cell_type": "code",
   "execution_count": 68,
   "metadata": {},
   "outputs": [
    {
     "data": {
      "text/plain": [
       "count    1.309613e+06\n",
       "mean     3.772902e+01\n",
       "std      4.116378e+01\n",
       "min      0.000000e+00\n",
       "25%      0.000000e+00\n",
       "50%      1.225000e+01\n",
       "75%      8.636364e+01\n",
       "max      1.000000e+02\n",
       "Name: thlb_raw, dtype: float64"
      ]
     },
     "execution_count": 68,
     "metadata": {},
     "output_type": "execute_result"
    }
   ],
   "source": [
    "f.thlb_raw.describe()"
   ]
  },
  {
   "cell_type": "code",
   "execution_count": 69,
   "metadata": {},
   "outputs": [
    {
     "data": {
      "text/plain": [
       "<AxesSubplot:>"
      ]
     },
     "execution_count": 69,
     "metadata": {},
     "output_type": "execute_result"
    },
    {
     "data": {
      "image/png": "[encoded data removed]",
      "text/plain": [
       "<Figure size 432x288 with 1 Axes>"
      ]
     },
     "metadata": {
      "needs_background": "light"
     },
     "output_type": "display_data"
    }
   ],
   "source": [
    "f.thlb_raw.hist()"
   ]
  },
  {
   "cell_type": "code",
   "execution_count": 70,
   "metadata": {},
   "outputs": [],
   "source": [
    "f.reset_index(inplace=True)"
   ]
  },
  {
   "cell_type": "code",
   "execution_count": 71,
   "metadata": {},
   "outputs": [],
   "source": [
    "def thlb_area(r):\n",
    "    if r.tsa_code == '08':\n",
    "        if r.thlb_raw < 90: \n",
    "            return 0.\n",
    "        if r.SPECIES_CD_1 in species_spruce and r.SITE_INDEX < 10:\n",
    "            return 0.\n",
    "        if r.SPECIES_CD_1 in species_pine and r.SITE_INDEX < 15:\n",
    "            return 0.\n",
    "        if r.SPECIES_CD_1 in species_aspen and r.SITE_INDEX < 15:\n",
    "            return 0.\n",
    "        if r.SPECIES_CD_1 in species_fir and r.SITE_INDEX < 10:\n",
    "            return 0.\n",
    "        if r.SPECIES_CD_1 in ('SB', 'E', 'EA', 'EB', 'LT'):\n",
    "            return 0\n",
    "    return r.thlb_raw * r.FEATURE_AREA_SQM * 0.000001 "
   ]
  },
  {
   "cell_type": "code",
   "execution_count": 72,
   "metadata": {},
   "outputs": [],
   "source": [
    "f['thlb_area'] = f.swifter.apply(thlb_area, axis=1)"
   ]
  },
  {
   "cell_type": "code",
   "execution_count": 73,
   "metadata": {},
   "outputs": [],
   "source": [
    "#f.query('thlb == 1').groupby('tsa_code').FEATURE_AREA_SQM.sum() * 0.0001 "
   ]
  },
  {
   "cell_type": "code",
   "execution_count": 74,
   "metadata": {},
   "outputs": [],
   "source": [
    "#f['thlb'] = f.swifter.apply(lambda r: 1 if r.thlb_area > 0 else 0, axis=1)"
   ]
  },
  {
   "cell_type": "code",
   "execution_count": 75,
   "metadata": {},
   "outputs": [],
   "source": [
    "#f.query('thlb_raw > 69').groupby('tsa_code').FEATURE_AREA_SQM.sum() * 0.0001 "
   ]
  },
  {
   "cell_type": "code",
   "execution_count": 76,
   "metadata": {},
   "outputs": [],
   "source": [
    "def assign_thlb(r):\n",
    "    thlb_thresh = 50\n",
    "    if r.tsa_code == '08':\n",
    "        thlb_thresh = 93\n",
    "    elif r.tsa_code == '24':\n",
    "        thlb_thresh = 69\n",
    "    return 1 if r.thlb_raw > thlb_thresh else 0"
   ]
  },
  {
   "cell_type": "code",
   "execution_count": 77,
   "metadata": {},
   "outputs": [],
   "source": [
    "f['thlb'] = f.swifter.apply(assign_thlb, axis=1)"
   ]
  },
  {
   "cell_type": "code",
   "execution_count": 78,
   "metadata": {},
   "outputs": [
    {
     "data": {
      "text/plain": [
       "tsa_code\n",
       "08    6.907580e+05\n",
       "16    1.484429e+06\n",
       "24    3.060473e+06\n",
       "40    1.032886e+06\n",
       "41    7.275775e+05\n",
       "Name: FEATURE_AREA_SQM, dtype: float64"
      ]
     },
     "execution_count": 78,
     "metadata": {},
     "output_type": "execute_result"
    }
   ],
   "source": [
    "f.query('thlb == 1').groupby('tsa_code').FEATURE_AREA_SQM.sum() * 0.0001 "
   ]
  },
  {
   "cell_type": "code",
   "execution_count": 79,
   "metadata": {},
   "outputs": [
    {
     "data": {
      "text/plain": [
       "tsa_code\n",
       "08    6.573107e+05\n",
       "16    1.435112e+06\n",
       "24    2.909896e+06\n",
       "40    1.017268e+06\n",
       "41    7.143021e+05\n",
       "Name: thlb_area, dtype: float64"
      ]
     },
     "execution_count": 79,
     "metadata": {},
     "output_type": "execute_result"
    }
   ],
   "source": [
    "f.groupby('tsa_code').thlb_area.sum() "
   ]
  },
  {
   "cell_type": "code",
   "execution_count": 80,
   "metadata": {},
   "outputs": [],
   "source": [
    "def has_managed_curve(r):\n",
    "    if r.thlb == 0: \n",
    "        return -1\n",
    "    else:\n",
    "        if np.isnan(au_table.loc[int(r.au)].managed_curve_id):\n",
    "            return 0\n",
    "        else:\n",
    "            return 1"
   ]
  },
  {
   "cell_type": "code",
   "execution_count": 81,
   "metadata": {},
   "outputs": [],
   "source": [
    "f.to_feather(ria_vri_vclr1p_checkpoint8_feather_path)"
   ]
  },
  {
   "cell_type": "code",
   "execution_count": 82,
   "metadata": {},
   "outputs": [],
   "source": [
    "if 0:\n",
    "    f = gpd.read_feather(ria_vri_vclr1p_checkpoint8_feather_path) "
   ]
  },
  {
   "cell_type": "code",
   "execution_count": 83,
   "metadata": {},
   "outputs": [],
   "source": [
    "if 0:\n",
    "    f.to_file('./data/ria_vri-final.shp')\n",
    "    !zip ./data/ria_vri-final_shp.zip ./data/ria_vri-final.*\n",
    "    !mv ./data/ria_vri-final_shp.zip ./data/spadescbm_bundle/\n",
    "    !zip -r ./data/spadescbm_bundle.zip ./data/spadescbm_bundle"
   ]
  },
  {
   "cell_type": "code",
   "execution_count": 84,
   "metadata": {},
   "outputs": [],
   "source": [
    "def clean_geometry(r):\n",
    "    from shapely.geometry import MultiPolygon\n",
    "    g = r.geometry\n",
    "    if not g.is_valid:\n",
    "        _g = g.buffer(0)\n",
    "        ################################\n",
    "        # HACK\n",
    "        # Something changed (maybe in fiona?) and now all GDB datasets are\n",
    "        # loading as MultiPolygon geometry type (instead of Polygon). \n",
    "        # The buffer(0) trick smashes the geometry back to Polygon, \n",
    "        # so this hack upcasts it back to MultiPolygon.\n",
    "        # \n",
    "        # Not sure how robust this is going to be (guessing not robust).\n",
    "        _g = MultiPolygon([_g])\n",
    "        assert _g.is_valid\n",
    "        assert _g.geom_type == 'MultiPolygon'\n",
    "        g = _g\n",
    "    return g"
   ]
  },
  {
   "cell_type": "code",
   "execution_count": 85,
   "metadata": {},
   "outputs": [],
   "source": [
    "def extract_features(f, tsa):\n",
    "    f_ = f[['geometry', 'tsa_code', 'thlb', 'au', 'curve1', 'curve2', 'SPECIES_CD_1', 'PROJ_AGE_1', 'FEATURE_AREA_SQM']]\n",
    "    f_ = f_.set_index('tsa_code').loc[tsa].reset_index()\n",
    "    f_.geometry = f_.swifter.apply(clean_geometry, axis=1)\n",
    "    return f_"
   ]
  },
  {
   "cell_type": "code",
   "execution_count": 86,
   "metadata": {},
   "outputs": [],
   "source": [
    "#prop_names = [u'tsa_code', u'thlb', u'au', u'SPECIES_CD_1', u'PROJ_AGE_1', u'FEATURE_AREA_SQM']\n",
    "prop_names = [u'tsa_code', u'thlb', u'au', u'canfi_species', u'PROJ_AGE_1', u'FEATURE_AREA_SQM']\n",
    "prop_types = [(u'theme0', 'str:10'),\n",
    "              (u'theme1', 'str:1'),\n",
    "              (u'theme2', 'str:10'), \n",
    "              (u'theme3', 'str:5'), \n",
    "              (u'age', 'int:5'), \n",
    "              (u'area', 'float:10.1')]"
   ]
  },
  {
   "cell_type": "code",
   "execution_count": 87,
   "metadata": {},
   "outputs": [],
   "source": [
    "columns = dict(zip(prop_names, dict(prop_types).keys()))"
   ]
  },
  {
   "cell_type": "code",
   "execution_count": 88,
   "metadata": {},
   "outputs": [
    {
     "name": "stdout",
     "output_type": "stream",
     "text": [
      "processing tsa 08\n"
     ]
    },
    {
     "ename": "AttributeError",
     "evalue": "'Series' object has no attribute 'au'",
     "output_type": "error",
     "traceback": [
      "\u001b[0;31m---------------------------------------------------------------------------\u001b[0m",
      "\u001b[0;31mAttributeError\u001b[0m                            Traceback (most recent call last)",
      "\u001b[0;32m<ipython-input-88-2bc61a79ad3e>\u001b[0m in \u001b[0;36m<module>\u001b[0;34m\u001b[0m\n\u001b[1;32m     10\u001b[0m     \u001b[0mf_\u001b[0m\u001b[0;34m.\u001b[0m\u001b[0mtheme0\u001b[0m \u001b[0;34m=\u001b[0m \u001b[0;34m'tsa'\u001b[0m \u001b[0;34m+\u001b[0m \u001b[0mf_\u001b[0m\u001b[0;34m.\u001b[0m\u001b[0mtheme0\u001b[0m\u001b[0;34m\u001b[0m\u001b[0;34m\u001b[0m\u001b[0m\n\u001b[1;32m     11\u001b[0m     \u001b[0mf_\u001b[0m\u001b[0;34m.\u001b[0m\u001b[0mtheme2\u001b[0m \u001b[0;34m=\u001b[0m \u001b[0mf_\u001b[0m\u001b[0;34m.\u001b[0m\u001b[0mtheme2\u001b[0m\u001b[0;34m.\u001b[0m\u001b[0mastype\u001b[0m\u001b[0;34m(\u001b[0m\u001b[0mint\u001b[0m\u001b[0;34m)\u001b[0m\u001b[0;34m\u001b[0m\u001b[0;34m\u001b[0m\u001b[0m\n\u001b[0;32m---> 12\u001b[0;31m     \u001b[0mf_\u001b[0m\u001b[0;34m.\u001b[0m\u001b[0mtheme3\u001b[0m \u001b[0;34m=\u001b[0m \u001b[0mf_\u001b[0m\u001b[0;34m.\u001b[0m\u001b[0mapply\u001b[0m\u001b[0;34m(\u001b[0m\u001b[0;32mlambda\u001b[0m \u001b[0mr\u001b[0m\u001b[0;34m:\u001b[0m \u001b[0mau_table\u001b[0m\u001b[0;34m.\u001b[0m\u001b[0mloc\u001b[0m\u001b[0;34m[\u001b[0m\u001b[0mr\u001b[0m\u001b[0;34m.\u001b[0m\u001b[0mau\u001b[0m\u001b[0;34m]\u001b[0m\u001b[0;34m.\u001b[0m\u001b[0mcanfi_species\u001b[0m\u001b[0;34m,\u001b[0m \u001b[0maxis\u001b[0m\u001b[0;34m=\u001b[0m\u001b[0;36m1\u001b[0m\u001b[0;34m)\u001b[0m\u001b[0;34m\u001b[0m\u001b[0;34m\u001b[0m\u001b[0m\n\u001b[0m\u001b[1;32m     13\u001b[0m     \u001b[0mf_\u001b[0m\u001b[0;34m.\u001b[0m\u001b[0mage\u001b[0m \u001b[0;34m=\u001b[0m \u001b[0mf_\u001b[0m\u001b[0;34m.\u001b[0m\u001b[0mage\u001b[0m\u001b[0;34m.\u001b[0m\u001b[0mfillna\u001b[0m\u001b[0;34m(\u001b[0m\u001b[0;36m0\u001b[0m\u001b[0;34m)\u001b[0m\u001b[0;34m\u001b[0m\u001b[0;34m\u001b[0m\u001b[0m\n\u001b[1;32m     14\u001b[0m     \u001b[0mf_\u001b[0m\u001b[0;34m.\u001b[0m\u001b[0mage\u001b[0m \u001b[0;34m=\u001b[0m \u001b[0mf_\u001b[0m\u001b[0;34m.\u001b[0m\u001b[0mage\u001b[0m\u001b[0;34m.\u001b[0m\u001b[0mastype\u001b[0m\u001b[0;34m(\u001b[0m\u001b[0mint\u001b[0m\u001b[0;34m)\u001b[0m\u001b[0;34m\u001b[0m\u001b[0;34m\u001b[0m\u001b[0m\n",
      "\u001b[0;32m/opt/jupyterhub/lib/python3.8/site-packages/pandas/core/frame.py\u001b[0m in \u001b[0;36mapply\u001b[0;34m(self, func, axis, raw, result_type, args, **kwds)\u001b[0m\n\u001b[1;32m   7763\u001b[0m             \u001b[0mkwds\u001b[0m\u001b[0;34m=\u001b[0m\u001b[0mkwds\u001b[0m\u001b[0;34m,\u001b[0m\u001b[0;34m\u001b[0m\u001b[0;34m\u001b[0m\u001b[0m\n\u001b[1;32m   7764\u001b[0m         )\n\u001b[0;32m-> 7765\u001b[0;31m         \u001b[0;32mreturn\u001b[0m \u001b[0mop\u001b[0m\u001b[0;34m.\u001b[0m\u001b[0mget_result\u001b[0m\u001b[0;34m(\u001b[0m\u001b[0;34m)\u001b[0m\u001b[0;34m\u001b[0m\u001b[0;34m\u001b[0m\u001b[0m\n\u001b[0m\u001b[1;32m   7766\u001b[0m \u001b[0;34m\u001b[0m\u001b[0m\n\u001b[1;32m   7767\u001b[0m     \u001b[0;32mdef\u001b[0m \u001b[0mapplymap\u001b[0m\u001b[0;34m(\u001b[0m\u001b[0mself\u001b[0m\u001b[0;34m,\u001b[0m \u001b[0mfunc\u001b[0m\u001b[0;34m,\u001b[0m \u001b[0mna_action\u001b[0m\u001b[0;34m:\u001b[0m \u001b[0mOptional\u001b[0m\u001b[0;34m[\u001b[0m\u001b[0mstr\u001b[0m\u001b[0;34m]\u001b[0m \u001b[0;34m=\u001b[0m \u001b[0;32mNone\u001b[0m\u001b[0;34m)\u001b[0m \u001b[0;34m->\u001b[0m \u001b[0mDataFrame\u001b[0m\u001b[0;34m:\u001b[0m\u001b[0;34m\u001b[0m\u001b[0;34m\u001b[0m\u001b[0m\n",
      "\u001b[0;32m/opt/jupyterhub/lib/python3.8/site-packages/pandas/core/apply.py\u001b[0m in \u001b[0;36mget_result\u001b[0;34m(self)\u001b[0m\n\u001b[1;32m    183\u001b[0m             \u001b[0;32mreturn\u001b[0m \u001b[0mself\u001b[0m\u001b[0;34m.\u001b[0m\u001b[0mapply_raw\u001b[0m\u001b[0;34m(\u001b[0m\u001b[0;34m)\u001b[0m\u001b[0;34m\u001b[0m\u001b[0;34m\u001b[0m\u001b[0m\n\u001b[1;32m    184\u001b[0m \u001b[0;34m\u001b[0m\u001b[0m\n\u001b[0;32m--> 185\u001b[0;31m         \u001b[0;32mreturn\u001b[0m \u001b[0mself\u001b[0m\u001b[0;34m.\u001b[0m\u001b[0mapply_standard\u001b[0m\u001b[0;34m(\u001b[0m\u001b[0;34m)\u001b[0m\u001b[0;34m\u001b[0m\u001b[0;34m\u001b[0m\u001b[0m\n\u001b[0m\u001b[1;32m    186\u001b[0m \u001b[0;34m\u001b[0m\u001b[0m\n\u001b[1;32m    187\u001b[0m     \u001b[0;32mdef\u001b[0m \u001b[0mapply_empty_result\u001b[0m\u001b[0;34m(\u001b[0m\u001b[0mself\u001b[0m\u001b[0;34m)\u001b[0m\u001b[0;34m:\u001b[0m\u001b[0;34m\u001b[0m\u001b[0;34m\u001b[0m\u001b[0m\n",
      "\u001b[0;32m/opt/jupyterhub/lib/python3.8/site-packages/pandas/core/apply.py\u001b[0m in \u001b[0;36mapply_standard\u001b[0;34m(self)\u001b[0m\n\u001b[1;32m    274\u001b[0m \u001b[0;34m\u001b[0m\u001b[0m\n\u001b[1;32m    275\u001b[0m     \u001b[0;32mdef\u001b[0m \u001b[0mapply_standard\u001b[0m\u001b[0;34m(\u001b[0m\u001b[0mself\u001b[0m\u001b[0;34m)\u001b[0m\u001b[0;34m:\u001b[0m\u001b[0;34m\u001b[0m\u001b[0;34m\u001b[0m\u001b[0m\n\u001b[0;32m--> 276\u001b[0;31m         \u001b[0mresults\u001b[0m\u001b[0;34m,\u001b[0m \u001b[0mres_index\u001b[0m \u001b[0;34m=\u001b[0m \u001b[0mself\u001b[0m\u001b[0;34m.\u001b[0m\u001b[0mapply_series_generator\u001b[0m\u001b[0;34m(\u001b[0m\u001b[0;34m)\u001b[0m\u001b[0;34m\u001b[0m\u001b[0;34m\u001b[0m\u001b[0m\n\u001b[0m\u001b[1;32m    277\u001b[0m \u001b[0;34m\u001b[0m\u001b[0m\n\u001b[1;32m    278\u001b[0m         \u001b[0;31m# wrap results\u001b[0m\u001b[0;34m\u001b[0m\u001b[0;34m\u001b[0m\u001b[0;34m\u001b[0m\u001b[0m\n",
      "\u001b[0;32m/opt/jupyterhub/lib/python3.8/site-packages/pandas/core/apply.py\u001b[0m in \u001b[0;36mapply_series_generator\u001b[0;34m(self)\u001b[0m\n\u001b[1;32m    288\u001b[0m             \u001b[0;32mfor\u001b[0m \u001b[0mi\u001b[0m\u001b[0;34m,\u001b[0m \u001b[0mv\u001b[0m \u001b[0;32min\u001b[0m \u001b[0menumerate\u001b[0m\u001b[0;34m(\u001b[0m\u001b[0mseries_gen\u001b[0m\u001b[0;34m)\u001b[0m\u001b[0;34m:\u001b[0m\u001b[0;34m\u001b[0m\u001b[0;34m\u001b[0m\u001b[0m\n\u001b[1;32m    289\u001b[0m                 \u001b[0;31m# ignore SettingWithCopy here in case the user mutates\u001b[0m\u001b[0;34m\u001b[0m\u001b[0;34m\u001b[0m\u001b[0;34m\u001b[0m\u001b[0m\n\u001b[0;32m--> 290\u001b[0;31m                 \u001b[0mresults\u001b[0m\u001b[0;34m[\u001b[0m\u001b[0mi\u001b[0m\u001b[0;34m]\u001b[0m \u001b[0;34m=\u001b[0m \u001b[0mself\u001b[0m\u001b[0;34m.\u001b[0m\u001b[0mf\u001b[0m\u001b[0;34m(\u001b[0m\u001b[0mv\u001b[0m\u001b[0;34m)\u001b[0m\u001b[0;34m\u001b[0m\u001b[0;34m\u001b[0m\u001b[0m\n\u001b[0m\u001b[1;32m    291\u001b[0m                 \u001b[0;32mif\u001b[0m \u001b[0misinstance\u001b[0m\u001b[0;34m(\u001b[0m\u001b[0mresults\u001b[0m\u001b[0;34m[\u001b[0m\u001b[0mi\u001b[0m\u001b[0;34m]\u001b[0m\u001b[0;34m,\u001b[0m \u001b[0mABCSeries\u001b[0m\u001b[0;34m)\u001b[0m\u001b[0;34m:\u001b[0m\u001b[0;34m\u001b[0m\u001b[0;34m\u001b[0m\u001b[0m\n\u001b[1;32m    292\u001b[0m                     \u001b[0;31m# If we have a view on v, we need to make a copy because\u001b[0m\u001b[0;34m\u001b[0m\u001b[0;34m\u001b[0m\u001b[0;34m\u001b[0m\u001b[0m\n",
      "\u001b[0;32m<ipython-input-88-2bc61a79ad3e>\u001b[0m in \u001b[0;36m<lambda>\u001b[0;34m(r)\u001b[0m\n\u001b[1;32m     10\u001b[0m     \u001b[0mf_\u001b[0m\u001b[0;34m.\u001b[0m\u001b[0mtheme0\u001b[0m \u001b[0;34m=\u001b[0m \u001b[0;34m'tsa'\u001b[0m \u001b[0;34m+\u001b[0m \u001b[0mf_\u001b[0m\u001b[0;34m.\u001b[0m\u001b[0mtheme0\u001b[0m\u001b[0;34m\u001b[0m\u001b[0;34m\u001b[0m\u001b[0m\n\u001b[1;32m     11\u001b[0m     \u001b[0mf_\u001b[0m\u001b[0;34m.\u001b[0m\u001b[0mtheme2\u001b[0m \u001b[0;34m=\u001b[0m \u001b[0mf_\u001b[0m\u001b[0;34m.\u001b[0m\u001b[0mtheme2\u001b[0m\u001b[0;34m.\u001b[0m\u001b[0mastype\u001b[0m\u001b[0;34m(\u001b[0m\u001b[0mint\u001b[0m\u001b[0;34m)\u001b[0m\u001b[0;34m\u001b[0m\u001b[0;34m\u001b[0m\u001b[0m\n\u001b[0;32m---> 12\u001b[0;31m     \u001b[0mf_\u001b[0m\u001b[0;34m.\u001b[0m\u001b[0mtheme3\u001b[0m \u001b[0;34m=\u001b[0m \u001b[0mf_\u001b[0m\u001b[0;34m.\u001b[0m\u001b[0mapply\u001b[0m\u001b[0;34m(\u001b[0m\u001b[0;32mlambda\u001b[0m \u001b[0mr\u001b[0m\u001b[0;34m:\u001b[0m \u001b[0mau_table\u001b[0m\u001b[0;34m.\u001b[0m\u001b[0mloc\u001b[0m\u001b[0;34m[\u001b[0m\u001b[0mr\u001b[0m\u001b[0;34m.\u001b[0m\u001b[0mau\u001b[0m\u001b[0;34m]\u001b[0m\u001b[0;34m.\u001b[0m\u001b[0mcanfi_species\u001b[0m\u001b[0;34m,\u001b[0m \u001b[0maxis\u001b[0m\u001b[0;34m=\u001b[0m\u001b[0;36m1\u001b[0m\u001b[0;34m)\u001b[0m\u001b[0;34m\u001b[0m\u001b[0;34m\u001b[0m\u001b[0m\n\u001b[0m\u001b[1;32m     13\u001b[0m     \u001b[0mf_\u001b[0m\u001b[0;34m.\u001b[0m\u001b[0mage\u001b[0m \u001b[0;34m=\u001b[0m \u001b[0mf_\u001b[0m\u001b[0;34m.\u001b[0m\u001b[0mage\u001b[0m\u001b[0;34m.\u001b[0m\u001b[0mfillna\u001b[0m\u001b[0;34m(\u001b[0m\u001b[0;36m0\u001b[0m\u001b[0;34m)\u001b[0m\u001b[0;34m\u001b[0m\u001b[0;34m\u001b[0m\u001b[0m\n\u001b[1;32m     14\u001b[0m     \u001b[0mf_\u001b[0m\u001b[0;34m.\u001b[0m\u001b[0mage\u001b[0m \u001b[0;34m=\u001b[0m \u001b[0mf_\u001b[0m\u001b[0;34m.\u001b[0m\u001b[0mage\u001b[0m\u001b[0;34m.\u001b[0m\u001b[0mastype\u001b[0m\u001b[0;34m(\u001b[0m\u001b[0mint\u001b[0m\u001b[0;34m)\u001b[0m\u001b[0;34m\u001b[0m\u001b[0;34m\u001b[0m\u001b[0m\n",
      "\u001b[0;32m/opt/jupyterhub/lib/python3.8/site-packages/pandas/core/generic.py\u001b[0m in \u001b[0;36m__getattr__\u001b[0;34m(self, name)\u001b[0m\n\u001b[1;32m   5458\u001b[0m             \u001b[0;32mif\u001b[0m \u001b[0mself\u001b[0m\u001b[0;34m.\u001b[0m\u001b[0m_info_axis\u001b[0m\u001b[0;34m.\u001b[0m\u001b[0m_can_hold_identifiers_and_holds_name\u001b[0m\u001b[0;34m(\u001b[0m\u001b[0mname\u001b[0m\u001b[0;34m)\u001b[0m\u001b[0;34m:\u001b[0m\u001b[0;34m\u001b[0m\u001b[0;34m\u001b[0m\u001b[0m\n\u001b[1;32m   5459\u001b[0m                 \u001b[0;32mreturn\u001b[0m \u001b[0mself\u001b[0m\u001b[0;34m[\u001b[0m\u001b[0mname\u001b[0m\u001b[0;34m]\u001b[0m\u001b[0;34m\u001b[0m\u001b[0;34m\u001b[0m\u001b[0m\n\u001b[0;32m-> 5460\u001b[0;31m             \u001b[0;32mreturn\u001b[0m \u001b[0mobject\u001b[0m\u001b[0;34m.\u001b[0m\u001b[0m__getattribute__\u001b[0m\u001b[0;34m(\u001b[0m\u001b[0mself\u001b[0m\u001b[0;34m,\u001b[0m \u001b[0mname\u001b[0m\u001b[0;34m)\u001b[0m\u001b[0;34m\u001b[0m\u001b[0;34m\u001b[0m\u001b[0m\n\u001b[0m\u001b[1;32m   5461\u001b[0m \u001b[0;34m\u001b[0m\u001b[0m\n\u001b[1;32m   5462\u001b[0m     \u001b[0;32mdef\u001b[0m \u001b[0m__setattr__\u001b[0m\u001b[0;34m(\u001b[0m\u001b[0mself\u001b[0m\u001b[0;34m,\u001b[0m \u001b[0mname\u001b[0m\u001b[0;34m:\u001b[0m \u001b[0mstr\u001b[0m\u001b[0;34m,\u001b[0m \u001b[0mvalue\u001b[0m\u001b[0;34m)\u001b[0m \u001b[0;34m->\u001b[0m \u001b[0;32mNone\u001b[0m\u001b[0;34m:\u001b[0m\u001b[0;34m\u001b[0m\u001b[0;34m\u001b[0m\u001b[0m\n",
      "\u001b[0;31mAttributeError\u001b[0m: 'Series' object has no attribute 'au'"
     ]
    }
   ],
   "source": [
    "import os\n",
    "for tsa in ria_tsas[:]:\n",
    "    print('processing tsa', tsa)\n",
    "    f_ = extract_features(f, tsa)\n",
    "    try:\n",
    "        os.mkdir('./data/shp/tsa%s.shp' % tsa)\n",
    "    except:\n",
    "        pass\n",
    "    f_.rename(columns=columns, inplace=True)\n",
    "    f_.theme0 = 'tsa' + f_.theme0\n",
    "    f_.theme2 = f_.theme2.astype(int)\n",
    "    f_.theme3 = f_.apply(lambda r: au_table.loc[r.au].canfi_species, axis=1)\n",
    "    f_.age = f_.age.fillna(0)\n",
    "    f_.age = f_.age.astype(int)\n",
    "    f_.area = (f_.area * 0.0001).round(1)\n",
    "    f_.to_file('./data/shp/tsa%s.shp/stands.shp' % tsa)"
   ]
  },
  {
   "cell_type": "code",
   "execution_count": 1,
   "metadata": {},
   "outputs": [
    {
     "ename": "NameError",
     "evalue": "name 'f_' is not defined",
     "output_type": "error",
     "traceback": [
      "\u001b[0;31m---------------------------------------------------------------------------\u001b[0m",
      "\u001b[0;31mNameError\u001b[0m                                 Traceback (most recent call last)",
      "\u001b[0;32m<ipython-input-1-f1b57b0ae429>\u001b[0m in \u001b[0;36m<module>\u001b[0;34m\u001b[0m\n\u001b[0;32m----> 1\u001b[0;31m \u001b[0mf_\u001b[0m\u001b[0;34m.\u001b[0m\u001b[0mhead\u001b[0m\u001b[0;34m(\u001b[0m\u001b[0;34m)\u001b[0m\u001b[0;34m\u001b[0m\u001b[0;34m\u001b[0m\u001b[0m\n\u001b[0m",
      "\u001b[0;31mNameError\u001b[0m: name 'f_' is not defined"
     ]
    }
   ],
   "source": [
    "f_.head()"
   ]
  },
  {
   "cell_type": "code",
   "execution_count": null,
   "metadata": {},
   "outputs": [],
   "source": []
  },
  {
   "cell_type": "code",
   "execution_count": 205,
   "metadata": {},
   "outputs": [
    {
     "name": "stdout",
     "output_type": "stream",
     "text": [
      "/media/data/project/gparadis/ria_yield\n"
     ]
    }
   ],
   "source": [
    "!pwd"
   ]
  },
  {
   "cell_type": "code",
   "execution_count": null,
   "metadata": {},
   "outputs": [],
   "source": []
  },
  {
   "cell_type": "code",
   "execution_count": 102,
   "metadata": {},
   "outputs": [],
   "source": [
    "dx, dy = 20000, 5000\n",
    "minx, miny, maxx, maxy = f_.geometry.total_bounds\n",
    "bbox = Polygon([(maxx-dx, maxy), (maxx, maxy), (maxx, maxy-dy), (maxx-dx, maxy-dy)])"
   ]
  },
  {
   "cell_type": "code",
   "execution_count": 103,
   "metadata": {},
   "outputs": [],
   "source": [
    "f__ = f_[f_.geometry.within(bbox)] "
   ]
  },
  {
   "cell_type": "code",
   "execution_count": null,
   "metadata": {},
   "outputs": [],
   "source": [
    "f__.plot()"
   ]
  },
  {
   "cell_type": "code",
   "execution_count": 105,
   "metadata": {},
   "outputs": [
    {
     "data": {
      "text/plain": [
       "(78, 8)"
      ]
     },
     "execution_count": 105,
     "metadata": {},
     "output_type": "execute_result"
    }
   ],
   "source": [
    "f__.shape"
   ]
  },
  {
   "cell_type": "code",
   "execution_count": 165,
   "metadata": {
    "collapsed": true,
    "jupyter": {
     "outputs_hidden": true
    }
   },
   "outputs": [
    {
     "ename": "KeyboardInterrupt",
     "evalue": "",
     "output_type": "error",
     "traceback": [
      "\u001b[0;31m---------------------------------------------------------------------------\u001b[0m",
      "\u001b[0;31mKeyboardInterrupt\u001b[0m                         Traceback (most recent call last)",
      "\u001b[0;32m<ipython-input-165-17e4afdce6da>\u001b[0m in \u001b[0;36m<module>\u001b[0;34m\u001b[0m\n\u001b[0;32m----> 1\u001b[0;31m \u001b[0mt1\u001b[0m \u001b[0;34m=\u001b[0m \u001b[0mtp\u001b[0m\u001b[0;34m.\u001b[0m\u001b[0mTopology\u001b[0m\u001b[0;34m(\u001b[0m\u001b[0mf_\u001b[0m\u001b[0;34m)\u001b[0m\u001b[0;34m\u001b[0m\u001b[0;34m\u001b[0m\u001b[0m\n\u001b[0m\u001b[1;32m      2\u001b[0m \u001b[0mt1\u001b[0m\u001b[0;34m.\u001b[0m\u001b[0mto_json\u001b[0m\u001b[0;34m(\u001b[0m\u001b[0;34m't1.json'\u001b[0m\u001b[0;34m)\u001b[0m\u001b[0;34m\u001b[0m\u001b[0;34m\u001b[0m\u001b[0m\n",
      "\u001b[0;32m/opt/jupyterhub/lib/python3.8/site-packages/topojson/core/topology.py\u001b[0m in \u001b[0;36m__init__\u001b[0;34m(self, data, topology, prequantize, topoquantize, presimplify, toposimplify, shared_coords, prevent_oversimplify, simplify_with, simplify_algorithm, winding_order)\u001b[0m\n\u001b[1;32m    104\u001b[0m         \u001b[0moptions\u001b[0m \u001b[0;34m=\u001b[0m \u001b[0mTopoOptions\u001b[0m\u001b[0;34m(\u001b[0m\u001b[0mlocals\u001b[0m\u001b[0;34m(\u001b[0m\u001b[0;34m)\u001b[0m\u001b[0;34m)\u001b[0m\u001b[0;34m\u001b[0m\u001b[0;34m\u001b[0m\u001b[0m\n\u001b[1;32m    105\u001b[0m         \u001b[0;31m# execute previous steps\u001b[0m\u001b[0;34m\u001b[0m\u001b[0;34m\u001b[0m\u001b[0;34m\u001b[0m\u001b[0m\n\u001b[0;32m--> 106\u001b[0;31m         \u001b[0msuper\u001b[0m\u001b[0;34m(\u001b[0m\u001b[0;34m)\u001b[0m\u001b[0;34m.\u001b[0m\u001b[0m__init__\u001b[0m\u001b[0;34m(\u001b[0m\u001b[0mdata\u001b[0m\u001b[0;34m,\u001b[0m \u001b[0moptions\u001b[0m\u001b[0;34m)\u001b[0m\u001b[0;34m\u001b[0m\u001b[0;34m\u001b[0m\u001b[0m\n\u001b[0m\u001b[1;32m    107\u001b[0m \u001b[0;34m\u001b[0m\u001b[0m\n\u001b[1;32m    108\u001b[0m         \u001b[0;31m# execute main function of Topology\u001b[0m\u001b[0;34m\u001b[0m\u001b[0;34m\u001b[0m\u001b[0;34m\u001b[0m\u001b[0m\n",
      "\u001b[0;32m/opt/jupyterhub/lib/python3.8/site-packages/topojson/core/hashmap.py\u001b[0m in \u001b[0;36m__init__\u001b[0;34m(self, data, options)\u001b[0m\n\u001b[1;32m     16\u001b[0m     \u001b[0;32mdef\u001b[0m \u001b[0m__init__\u001b[0m\u001b[0;34m(\u001b[0m\u001b[0mself\u001b[0m\u001b[0;34m,\u001b[0m \u001b[0mdata\u001b[0m\u001b[0;34m,\u001b[0m \u001b[0moptions\u001b[0m\u001b[0;34m=\u001b[0m\u001b[0;34m{\u001b[0m\u001b[0;34m}\u001b[0m\u001b[0;34m)\u001b[0m\u001b[0;34m:\u001b[0m\u001b[0;34m\u001b[0m\u001b[0;34m\u001b[0m\u001b[0m\n\u001b[1;32m     17\u001b[0m         \u001b[0;31m# execute previous step\u001b[0m\u001b[0;34m\u001b[0m\u001b[0;34m\u001b[0m\u001b[0;34m\u001b[0m\u001b[0m\n\u001b[0;32m---> 18\u001b[0;31m         \u001b[0msuper\u001b[0m\u001b[0;34m(\u001b[0m\u001b[0;34m)\u001b[0m\u001b[0;34m.\u001b[0m\u001b[0m__init__\u001b[0m\u001b[0;34m(\u001b[0m\u001b[0mdata\u001b[0m\u001b[0;34m,\u001b[0m \u001b[0moptions\u001b[0m\u001b[0;34m)\u001b[0m\u001b[0;34m\u001b[0m\u001b[0;34m\u001b[0m\u001b[0m\n\u001b[0m\u001b[1;32m     19\u001b[0m \u001b[0;34m\u001b[0m\u001b[0m\n\u001b[1;32m     20\u001b[0m         \u001b[0;31m# execute main function of Hashmap\u001b[0m\u001b[0;34m\u001b[0m\u001b[0;34m\u001b[0m\u001b[0;34m\u001b[0m\u001b[0m\n",
      "\u001b[0;32m/opt/jupyterhub/lib/python3.8/site-packages/topojson/core/dedup.py\u001b[0m in \u001b[0;36m__init__\u001b[0;34m(self, data, options)\u001b[0m\n\u001b[1;32m     20\u001b[0m     \u001b[0;32mdef\u001b[0m \u001b[0m__init__\u001b[0m\u001b[0;34m(\u001b[0m\u001b[0mself\u001b[0m\u001b[0;34m,\u001b[0m \u001b[0mdata\u001b[0m\u001b[0;34m,\u001b[0m \u001b[0moptions\u001b[0m\u001b[0;34m=\u001b[0m\u001b[0;34m{\u001b[0m\u001b[0;34m}\u001b[0m\u001b[0;34m)\u001b[0m\u001b[0;34m:\u001b[0m\u001b[0;34m\u001b[0m\u001b[0;34m\u001b[0m\u001b[0m\n\u001b[1;32m     21\u001b[0m         \u001b[0;31m# execute previous step\u001b[0m\u001b[0;34m\u001b[0m\u001b[0;34m\u001b[0m\u001b[0;34m\u001b[0m\u001b[0m\n\u001b[0;32m---> 22\u001b[0;31m         \u001b[0msuper\u001b[0m\u001b[0;34m(\u001b[0m\u001b[0;34m)\u001b[0m\u001b[0;34m.\u001b[0m\u001b[0m__init__\u001b[0m\u001b[0;34m(\u001b[0m\u001b[0mdata\u001b[0m\u001b[0;34m,\u001b[0m \u001b[0moptions\u001b[0m\u001b[0;34m)\u001b[0m\u001b[0;34m\u001b[0m\u001b[0;34m\u001b[0m\u001b[0m\n\u001b[0m\u001b[1;32m     23\u001b[0m \u001b[0;34m\u001b[0m\u001b[0m\n\u001b[1;32m     24\u001b[0m         \u001b[0;31m# initation topology items\u001b[0m\u001b[0;34m\u001b[0m\u001b[0;34m\u001b[0m\u001b[0;34m\u001b[0m\u001b[0m\n",
      "\u001b[0;32m/opt/jupyterhub/lib/python3.8/site-packages/topojson/core/cut.py\u001b[0m in \u001b[0;36m__init__\u001b[0;34m(self, data, options)\u001b[0m\n\u001b[1;32m     39\u001b[0m     \u001b[0;32mdef\u001b[0m \u001b[0m__init__\u001b[0m\u001b[0;34m(\u001b[0m\u001b[0mself\u001b[0m\u001b[0;34m,\u001b[0m \u001b[0mdata\u001b[0m\u001b[0;34m,\u001b[0m \u001b[0moptions\u001b[0m\u001b[0;34m=\u001b[0m\u001b[0;34m{\u001b[0m\u001b[0;34m}\u001b[0m\u001b[0;34m)\u001b[0m\u001b[0;34m:\u001b[0m\u001b[0;34m\u001b[0m\u001b[0;34m\u001b[0m\u001b[0m\n\u001b[1;32m     40\u001b[0m         \u001b[0;31m# execute previous step\u001b[0m\u001b[0;34m\u001b[0m\u001b[0;34m\u001b[0m\u001b[0;34m\u001b[0m\u001b[0m\n\u001b[0;32m---> 41\u001b[0;31m         \u001b[0msuper\u001b[0m\u001b[0;34m(\u001b[0m\u001b[0;34m)\u001b[0m\u001b[0;34m.\u001b[0m\u001b[0m__init__\u001b[0m\u001b[0;34m(\u001b[0m\u001b[0mdata\u001b[0m\u001b[0;34m,\u001b[0m \u001b[0moptions\u001b[0m\u001b[0;34m)\u001b[0m\u001b[0;34m\u001b[0m\u001b[0;34m\u001b[0m\u001b[0m\n\u001b[0m\u001b[1;32m     42\u001b[0m \u001b[0;34m\u001b[0m\u001b[0m\n\u001b[1;32m     43\u001b[0m         \u001b[0;31m# initation topology items\u001b[0m\u001b[0;34m\u001b[0m\u001b[0;34m\u001b[0m\u001b[0;34m\u001b[0m\u001b[0m\n",
      "\u001b[0;32m/opt/jupyterhub/lib/python3.8/site-packages/topojson/core/join.py\u001b[0m in \u001b[0;36m__init__\u001b[0;34m(self, data, options)\u001b[0m\n\u001b[1;32m     52\u001b[0m     \u001b[0;32mdef\u001b[0m \u001b[0m__init__\u001b[0m\u001b[0;34m(\u001b[0m\u001b[0mself\u001b[0m\u001b[0;34m,\u001b[0m \u001b[0mdata\u001b[0m\u001b[0;34m,\u001b[0m \u001b[0moptions\u001b[0m\u001b[0;34m=\u001b[0m\u001b[0;34m{\u001b[0m\u001b[0;34m}\u001b[0m\u001b[0;34m)\u001b[0m\u001b[0;34m:\u001b[0m\u001b[0;34m\u001b[0m\u001b[0;34m\u001b[0m\u001b[0m\n\u001b[1;32m     53\u001b[0m         \u001b[0;31m# execute previous step\u001b[0m\u001b[0;34m\u001b[0m\u001b[0;34m\u001b[0m\u001b[0;34m\u001b[0m\u001b[0m\n\u001b[0;32m---> 54\u001b[0;31m         \u001b[0msuper\u001b[0m\u001b[0;34m(\u001b[0m\u001b[0;34m)\u001b[0m\u001b[0;34m.\u001b[0m\u001b[0m__init__\u001b[0m\u001b[0;34m(\u001b[0m\u001b[0mdata\u001b[0m\u001b[0;34m,\u001b[0m \u001b[0moptions\u001b[0m\u001b[0;34m)\u001b[0m\u001b[0;34m\u001b[0m\u001b[0;34m\u001b[0m\u001b[0m\n\u001b[0m\u001b[1;32m     55\u001b[0m \u001b[0;34m\u001b[0m\u001b[0m\n\u001b[1;32m     56\u001b[0m         \u001b[0;31m# initation topology items\u001b[0m\u001b[0;34m\u001b[0m\u001b[0;34m\u001b[0m\u001b[0;34m\u001b[0m\u001b[0m\n",
      "\u001b[0;32m/opt/jupyterhub/lib/python3.8/site-packages/topojson/core/extract.py\u001b[0m in \u001b[0;36m__init__\u001b[0;34m(self, data, options)\u001b[0m\n\u001b[1;32m     72\u001b[0m                 \u001b[0;32melse\u001b[0m\u001b[0;34m:\u001b[0m\u001b[0;34m\u001b[0m\u001b[0;34m\u001b[0m\u001b[0m\n\u001b[1;32m     73\u001b[0m                     \u001b[0mcopydata\u001b[0m \u001b[0;34m=\u001b[0m \u001b[0mdata\u001b[0m\u001b[0;34m\u001b[0m\u001b[0;34m\u001b[0m\u001b[0m\n\u001b[0;32m---> 74\u001b[0;31m         \u001b[0mself\u001b[0m\u001b[0;34m.\u001b[0m\u001b[0moutput\u001b[0m \u001b[0;34m=\u001b[0m \u001b[0mself\u001b[0m\u001b[0;34m.\u001b[0m\u001b[0m_extractor\u001b[0m\u001b[0;34m(\u001b[0m\u001b[0mcopydata\u001b[0m\u001b[0;34m)\u001b[0m\u001b[0;34m\u001b[0m\u001b[0;34m\u001b[0m\u001b[0m\n\u001b[0m\u001b[1;32m     75\u001b[0m \u001b[0;34m\u001b[0m\u001b[0m\n\u001b[1;32m     76\u001b[0m     \u001b[0;32mdef\u001b[0m \u001b[0m__repr__\u001b[0m\u001b[0;34m(\u001b[0m\u001b[0mself\u001b[0m\u001b[0;34m)\u001b[0m\u001b[0;34m:\u001b[0m\u001b[0;34m\u001b[0m\u001b[0;34m\u001b[0m\u001b[0m\n",
      "\u001b[0;32m/opt/jupyterhub/lib/python3.8/site-packages/topojson/core/extract.py\u001b[0m in \u001b[0;36m_extractor\u001b[0;34m(self, data)\u001b[0m\n\u001b[1;32m    126\u001b[0m \u001b[0;34m\u001b[0m\u001b[0m\n\u001b[1;32m    127\u001b[0m         \u001b[0mself\u001b[0m\u001b[0;34m.\u001b[0m\u001b[0m_data\u001b[0m \u001b[0;34m=\u001b[0m \u001b[0mdata\u001b[0m\u001b[0;34m\u001b[0m\u001b[0;34m\u001b[0m\u001b[0m\n\u001b[0;32m--> 128\u001b[0;31m         \u001b[0mself\u001b[0m\u001b[0;34m.\u001b[0m\u001b[0m_serialize_geom_type\u001b[0m\u001b[0;34m(\u001b[0m\u001b[0mdata\u001b[0m\u001b[0;34m)\u001b[0m\u001b[0;34m\u001b[0m\u001b[0;34m\u001b[0m\u001b[0m\n\u001b[0m\u001b[1;32m    129\u001b[0m \u001b[0;34m\u001b[0m\u001b[0m\n\u001b[1;32m    130\u001b[0m         \u001b[0;31m# prepare to return object\u001b[0m\u001b[0;34m\u001b[0m\u001b[0;34m\u001b[0m\u001b[0;34m\u001b[0m\u001b[0m\n",
      "\u001b[0;32m/opt/jupyterhub/lib/python3.8/site-packages/topojson/core/extract.py\u001b[0m in \u001b[0;36m_serialize_geom_type\u001b[0;34m(self, geom)\u001b[0m\n\u001b[1;32m    203\u001b[0m             \u001b[0mself\u001b[0m\u001b[0;34m.\u001b[0m\u001b[0m_extract_fiona_collection\u001b[0m\u001b[0;34m(\u001b[0m\u001b[0mgeom\u001b[0m\u001b[0;34m)\u001b[0m\u001b[0;34m\u001b[0m\u001b[0;34m\u001b[0m\u001b[0m\n\u001b[1;32m    204\u001b[0m         \u001b[0;32melif\u001b[0m \u001b[0minstance\u001b[0m\u001b[0;34m(\u001b[0m\u001b[0mgeom\u001b[0m\u001b[0;34m)\u001b[0m \u001b[0;34m==\u001b[0m \u001b[0;34m\"GeoDataFrame\"\u001b[0m\u001b[0;34m:\u001b[0m\u001b[0;34m\u001b[0m\u001b[0;34m\u001b[0m\u001b[0m\n\u001b[0;32m--> 205\u001b[0;31m             \u001b[0mself\u001b[0m\u001b[0;34m.\u001b[0m\u001b[0m_extract_geopandas_geodataframe\u001b[0m\u001b[0;34m(\u001b[0m\u001b[0mgeom\u001b[0m\u001b[0;34m)\u001b[0m\u001b[0;34m\u001b[0m\u001b[0;34m\u001b[0m\u001b[0m\n\u001b[0m\u001b[1;32m    206\u001b[0m         \u001b[0;32melif\u001b[0m \u001b[0minstance\u001b[0m\u001b[0;34m(\u001b[0m\u001b[0mgeom\u001b[0m\u001b[0;34m)\u001b[0m \u001b[0;34m==\u001b[0m \u001b[0;34m\"GeoSeries\"\u001b[0m\u001b[0;34m:\u001b[0m\u001b[0;34m\u001b[0m\u001b[0;34m\u001b[0m\u001b[0m\n\u001b[1;32m    207\u001b[0m             \u001b[0mself\u001b[0m\u001b[0;34m.\u001b[0m\u001b[0m_extract_geopandas_geoseries\u001b[0m\u001b[0;34m(\u001b[0m\u001b[0mgeom\u001b[0m\u001b[0;34m)\u001b[0m\u001b[0;34m\u001b[0m\u001b[0;34m\u001b[0m\u001b[0m\n",
      "\u001b[0;32m/opt/jupyterhub/lib/python3.8/site-packages/topojson/core/extract.py\u001b[0m in \u001b[0;36m_extract_geopandas_geodataframe\u001b[0;34m(self, geom)\u001b[0m\n\u001b[1;32m    542\u001b[0m \u001b[0;34m\u001b[0m\u001b[0m\n\u001b[1;32m    543\u001b[0m         \u001b[0mself\u001b[0m\u001b[0;34m.\u001b[0m\u001b[0m_data\u001b[0m \u001b[0;34m=\u001b[0m \u001b[0mdict\u001b[0m\u001b[0;34m(\u001b[0m\u001b[0menumerate\u001b[0m\u001b[0;34m(\u001b[0m\u001b[0mgeom\u001b[0m\u001b[0;34m.\u001b[0m\u001b[0mto_dict\u001b[0m\u001b[0;34m(\u001b[0m\u001b[0morient\u001b[0m\u001b[0;34m=\u001b[0m\u001b[0;34m\"records\"\u001b[0m\u001b[0;34m)\u001b[0m\u001b[0;34m)\u001b[0m\u001b[0;34m)\u001b[0m\u001b[0;34m\u001b[0m\u001b[0;34m\u001b[0m\u001b[0m\n\u001b[0;32m--> 544\u001b[0;31m         \u001b[0mself\u001b[0m\u001b[0;34m.\u001b[0m\u001b[0m_extract_dictionary\u001b[0m\u001b[0;34m(\u001b[0m\u001b[0mself\u001b[0m\u001b[0;34m.\u001b[0m\u001b[0m_data\u001b[0m\u001b[0;34m)\u001b[0m\u001b[0;34m\u001b[0m\u001b[0;34m\u001b[0m\u001b[0m\n\u001b[0m\u001b[1;32m    545\u001b[0m \u001b[0;34m\u001b[0m\u001b[0m\n\u001b[1;32m    546\u001b[0m     \u001b[0;32mdef\u001b[0m \u001b[0m_extract_geopandas_geoseries\u001b[0m\u001b[0;34m(\u001b[0m\u001b[0mself\u001b[0m\u001b[0;34m,\u001b[0m \u001b[0mgeom\u001b[0m\u001b[0;34m)\u001b[0m\u001b[0;34m:\u001b[0m\u001b[0;34m\u001b[0m\u001b[0;34m\u001b[0m\u001b[0m\n",
      "\u001b[0;32m/opt/jupyterhub/lib/python3.8/site-packages/topojson/core/extract.py\u001b[0m in \u001b[0;36m_extract_dictionary\u001b[0;34m(self, geom)\u001b[0m\n\u001b[1;32m    692\u001b[0m             \u001b[0;31m# an equivalent function. Adopting this approach avoids the usage of\u001b[0m\u001b[0;34m\u001b[0m\u001b[0;34m\u001b[0m\u001b[0;34m\u001b[0m\u001b[0m\n\u001b[1;32m    693\u001b[0m             \u001b[0;31m# multiple if-else statements.\u001b[0m\u001b[0;34m\u001b[0m\u001b[0;34m\u001b[0m\u001b[0;34m\u001b[0m\u001b[0m\n\u001b[0;32m--> 694\u001b[0;31m             \u001b[0mself\u001b[0m\u001b[0;34m.\u001b[0m\u001b[0m_serialize_geom_type\u001b[0m\u001b[0;34m(\u001b[0m\u001b[0mgeom\u001b[0m\u001b[0;34m)\u001b[0m\u001b[0;34m\u001b[0m\u001b[0;34m\u001b[0m\u001b[0m\n\u001b[0m\u001b[1;32m    695\u001b[0m \u001b[0;34m\u001b[0m\u001b[0m\n\u001b[1;32m    696\u001b[0m             \u001b[0;31m# reset geom collection counter and level\u001b[0m\u001b[0;34m\u001b[0m\u001b[0;34m\u001b[0m\u001b[0;34m\u001b[0m\u001b[0m\n",
      "\u001b[0;32m/opt/jupyterhub/lib/python3.8/site-packages/topojson/core/extract.py\u001b[0m in \u001b[0;36m_serialize_geom_type\u001b[0;34m(self, geom)\u001b[0m\n\u001b[1;32m    189\u001b[0m             \u001b[0mself\u001b[0m\u001b[0;34m.\u001b[0m\u001b[0m_extract_ring\u001b[0m\u001b[0;34m(\u001b[0m\u001b[0mgeom\u001b[0m\u001b[0;34m)\u001b[0m\u001b[0;34m\u001b[0m\u001b[0;34m\u001b[0m\u001b[0m\n\u001b[1;32m    190\u001b[0m         \u001b[0;32melif\u001b[0m \u001b[0minstance\u001b[0m\u001b[0;34m(\u001b[0m\u001b[0mgeom\u001b[0m\u001b[0;34m)\u001b[0m \u001b[0;34m==\u001b[0m \u001b[0;34m\"MultiPolygon\"\u001b[0m\u001b[0;34m:\u001b[0m\u001b[0;34m\u001b[0m\u001b[0;34m\u001b[0m\u001b[0m\n\u001b[0;32m--> 191\u001b[0;31m             \u001b[0mself\u001b[0m\u001b[0;34m.\u001b[0m\u001b[0m_extract_multiring\u001b[0m\u001b[0;34m(\u001b[0m\u001b[0mgeom\u001b[0m\u001b[0;34m)\u001b[0m\u001b[0;34m\u001b[0m\u001b[0;34m\u001b[0m\u001b[0m\n\u001b[0m\u001b[1;32m    192\u001b[0m         \u001b[0;32melif\u001b[0m \u001b[0minstance\u001b[0m\u001b[0;34m(\u001b[0m\u001b[0mgeom\u001b[0m\u001b[0;34m)\u001b[0m \u001b[0;34m==\u001b[0m \u001b[0;34m\"Point\"\u001b[0m\u001b[0;34m:\u001b[0m\u001b[0;34m\u001b[0m\u001b[0;34m\u001b[0m\u001b[0m\n\u001b[1;32m    193\u001b[0m             \u001b[0mself\u001b[0m\u001b[0;34m.\u001b[0m\u001b[0m_extract_point\u001b[0m\u001b[0;34m(\u001b[0m\u001b[0mgeom\u001b[0m\u001b[0;34m)\u001b[0m\u001b[0;34m\u001b[0m\u001b[0;34m\u001b[0m\u001b[0m\n",
      "\u001b[0;32m/opt/jupyterhub/lib/python3.8/site-packages/topojson/core/extract.py\u001b[0m in \u001b[0;36m_extract_multiring\u001b[0;34m(self, geom)\u001b[0m\n\u001b[1;32m    342\u001b[0m \u001b[0;34m\u001b[0m\u001b[0m\n\u001b[1;32m    343\u001b[0m         \u001b[0;32mfor\u001b[0m \u001b[0mring\u001b[0m \u001b[0;32min\u001b[0m \u001b[0mgeom\u001b[0m\u001b[0;34m:\u001b[0m\u001b[0;34m\u001b[0m\u001b[0;34m\u001b[0m\u001b[0m\n\u001b[0;32m--> 344\u001b[0;31m             \u001b[0mself\u001b[0m\u001b[0;34m.\u001b[0m\u001b[0m_extract_ring\u001b[0m\u001b[0;34m(\u001b[0m\u001b[0mring\u001b[0m\u001b[0;34m)\u001b[0m\u001b[0;34m\u001b[0m\u001b[0;34m\u001b[0m\u001b[0m\n\u001b[0m\u001b[1;32m    345\u001b[0m \u001b[0;34m\u001b[0m\u001b[0m\n\u001b[1;32m    346\u001b[0m     \u001b[0;32mdef\u001b[0m \u001b[0m_extract_point\u001b[0m\u001b[0;34m(\u001b[0m\u001b[0mself\u001b[0m\u001b[0;34m,\u001b[0m \u001b[0mgeom\u001b[0m\u001b[0;34m)\u001b[0m\u001b[0;34m:\u001b[0m\u001b[0;34m\u001b[0m\u001b[0;34m\u001b[0m\u001b[0m\n",
      "\u001b[0;32m/opt/jupyterhub/lib/python3.8/site-packages/topojson/core/extract.py\u001b[0m in \u001b[0;36m_extract_ring\u001b[0;34m(self, geom)\u001b[0m\n\u001b[1;32m    303\u001b[0m         \u001b[0;31m# to conform TopoJSON standard (CW_CCW)\u001b[0m\u001b[0;34m\u001b[0m\u001b[0;34m\u001b[0m\u001b[0;34m\u001b[0m\u001b[0m\n\u001b[1;32m    304\u001b[0m         \u001b[0;32mif\u001b[0m \u001b[0mself\u001b[0m\u001b[0;34m.\u001b[0m\u001b[0moptions\u001b[0m\u001b[0;34m.\u001b[0m\u001b[0mwinding_order\u001b[0m \u001b[0;32mis\u001b[0m \u001b[0;32mnot\u001b[0m \u001b[0;32mNone\u001b[0m\u001b[0;34m:\u001b[0m\u001b[0;34m\u001b[0m\u001b[0;34m\u001b[0m\u001b[0m\n\u001b[0;32m--> 305\u001b[0;31m             \u001b[0mgeom\u001b[0m \u001b[0;34m=\u001b[0m \u001b[0mwinding_order\u001b[0m\u001b[0;34m(\u001b[0m\u001b[0mgeom\u001b[0m\u001b[0;34m=\u001b[0m\u001b[0mgeom\u001b[0m\u001b[0;34m,\u001b[0m \u001b[0morder\u001b[0m\u001b[0;34m=\u001b[0m\u001b[0mself\u001b[0m\u001b[0;34m.\u001b[0m\u001b[0moptions\u001b[0m\u001b[0;34m.\u001b[0m\u001b[0mwinding_order\u001b[0m\u001b[0;34m)\u001b[0m\u001b[0;34m\u001b[0m\u001b[0;34m\u001b[0m\u001b[0m\n\u001b[0m\u001b[1;32m    306\u001b[0m \u001b[0;34m\u001b[0m\u001b[0m\n\u001b[1;32m    307\u001b[0m         \u001b[0mboundary\u001b[0m \u001b[0;34m=\u001b[0m \u001b[0mgeom\u001b[0m\u001b[0;34m.\u001b[0m\u001b[0mboundary\u001b[0m\u001b[0;34m\u001b[0m\u001b[0;34m\u001b[0m\u001b[0m\n",
      "\u001b[0;32m/opt/jupyterhub/lib/python3.8/site-packages/topojson/ops.py\u001b[0m in \u001b[0;36mwinding_order\u001b[0;34m(geom, order)\u001b[0m\n\u001b[1;32m    710\u001b[0m \u001b[0;34m\u001b[0m\u001b[0m\n\u001b[1;32m    711\u001b[0m     \u001b[0;32mif\u001b[0m \u001b[0morder\u001b[0m \u001b[0;34m==\u001b[0m \u001b[0;34m\"CW_CCW\"\u001b[0m\u001b[0;34m:\u001b[0m\u001b[0;34m\u001b[0m\u001b[0;34m\u001b[0m\u001b[0m\n\u001b[0;32m--> 712\u001b[0;31m         \u001b[0mgeom\u001b[0m \u001b[0;34m=\u001b[0m \u001b[0morient\u001b[0m\u001b[0;34m(\u001b[0m\u001b[0mgeom\u001b[0m\u001b[0;34m,\u001b[0m \u001b[0msign\u001b[0m\u001b[0;34m=\u001b[0m\u001b[0;34m-\u001b[0m\u001b[0;36m1.0\u001b[0m\u001b[0;34m)\u001b[0m\u001b[0;34m\u001b[0m\u001b[0;34m\u001b[0m\u001b[0m\n\u001b[0m\u001b[1;32m    713\u001b[0m     \u001b[0;32melif\u001b[0m \u001b[0morder\u001b[0m \u001b[0;34m==\u001b[0m \u001b[0;34m\"CCW_CW\"\u001b[0m\u001b[0;34m:\u001b[0m\u001b[0;34m\u001b[0m\u001b[0;34m\u001b[0m\u001b[0m\n\u001b[1;32m    714\u001b[0m         \u001b[0mgeom\u001b[0m \u001b[0;34m=\u001b[0m \u001b[0morient\u001b[0m\u001b[0;34m(\u001b[0m\u001b[0mgeom\u001b[0m\u001b[0;34m,\u001b[0m \u001b[0msign\u001b[0m\u001b[0;34m=\u001b[0m\u001b[0;36m1.0\u001b[0m\u001b[0;34m)\u001b[0m\u001b[0;34m\u001b[0m\u001b[0;34m\u001b[0m\u001b[0m\n",
      "\u001b[0;32m/opt/jupyterhub/lib/python3.8/site-packages/shapely/ops.py\u001b[0m in \u001b[0;36morient\u001b[0;34m(geom, sign)\u001b[0m\n\u001b[1;32m    615\u001b[0m         )\n\u001b[1;32m    616\u001b[0m     \u001b[0;32mif\u001b[0m \u001b[0misinstance\u001b[0m\u001b[0;34m(\u001b[0m\u001b[0mgeom\u001b[0m\u001b[0;34m,\u001b[0m \u001b[0;34m(\u001b[0m\u001b[0mPolygon\u001b[0m\u001b[0;34m,\u001b[0m\u001b[0;34m)\u001b[0m\u001b[0;34m)\u001b[0m\u001b[0;34m:\u001b[0m\u001b[0;34m\u001b[0m\u001b[0;34m\u001b[0m\u001b[0m\n\u001b[0;32m--> 617\u001b[0;31m         \u001b[0;32mreturn\u001b[0m \u001b[0morient_\u001b[0m\u001b[0;34m(\u001b[0m\u001b[0mgeom\u001b[0m\u001b[0;34m,\u001b[0m \u001b[0msign\u001b[0m\u001b[0;34m)\u001b[0m\u001b[0;34m\u001b[0m\u001b[0;34m\u001b[0m\u001b[0m\n\u001b[0m\u001b[1;32m    618\u001b[0m     \u001b[0;32mreturn\u001b[0m \u001b[0mgeom\u001b[0m\u001b[0;34m\u001b[0m\u001b[0;34m\u001b[0m\u001b[0m\n",
      "\u001b[0;32m/opt/jupyterhub/lib/python3.8/site-packages/shapely/geometry/polygon.py\u001b[0m in \u001b[0;36morient\u001b[0;34m(polygon, sign)\u001b[0m\n\u001b[1;32m    394\u001b[0m     \u001b[0mrings\u001b[0m \u001b[0;34m=\u001b[0m \u001b[0;34m[\u001b[0m\u001b[0;34m]\u001b[0m\u001b[0;34m\u001b[0m\u001b[0;34m\u001b[0m\u001b[0m\n\u001b[1;32m    395\u001b[0m     \u001b[0mring\u001b[0m \u001b[0;34m=\u001b[0m \u001b[0mpolygon\u001b[0m\u001b[0;34m.\u001b[0m\u001b[0mexterior\u001b[0m\u001b[0;34m\u001b[0m\u001b[0;34m\u001b[0m\u001b[0m\n\u001b[0;32m--> 396\u001b[0;31m     \u001b[0;32mif\u001b[0m \u001b[0msigned_area\u001b[0m\u001b[0;34m(\u001b[0m\u001b[0mring\u001b[0m\u001b[0;34m)\u001b[0m\u001b[0;34m/\u001b[0m\u001b[0ms\u001b[0m \u001b[0;34m>=\u001b[0m \u001b[0;36m0.0\u001b[0m\u001b[0;34m:\u001b[0m\u001b[0;34m\u001b[0m\u001b[0;34m\u001b[0m\u001b[0m\n\u001b[0m\u001b[1;32m    397\u001b[0m         \u001b[0mrings\u001b[0m\u001b[0;34m.\u001b[0m\u001b[0mappend\u001b[0m\u001b[0;34m(\u001b[0m\u001b[0mring\u001b[0m\u001b[0;34m)\u001b[0m\u001b[0;34m\u001b[0m\u001b[0;34m\u001b[0m\u001b[0m\n\u001b[1;32m    398\u001b[0m     \u001b[0;32melse\u001b[0m\u001b[0;34m:\u001b[0m\u001b[0;34m\u001b[0m\u001b[0;34m\u001b[0m\u001b[0m\n",
      "\u001b[0;32m/opt/jupyterhub/lib/python3.8/site-packages/shapely/algorithms/cga.py\u001b[0m in \u001b[0;36msigned_area\u001b[0;34m(ring)\u001b[0m\n\u001b[1;32m      4\u001b[0m     \u001b[0malgorithm\u001b[0m \u001b[0mat\u001b[0m\u001b[0;34m:\u001b[0m \u001b[0mhttps\u001b[0m\u001b[0;34m:\u001b[0m\u001b[0;34m//\u001b[0m\u001b[0mweb\u001b[0m\u001b[0;34m.\u001b[0m\u001b[0marchive\u001b[0m\u001b[0;34m.\u001b[0m\u001b[0morg\u001b[0m\u001b[0;34m/\u001b[0m\u001b[0mweb\u001b[0m\u001b[0;34m/\u001b[0m\u001b[0;36m20080209143651\u001b[0m\u001b[0;34m/\u001b[0m\u001b[0mhttp\u001b[0m\u001b[0;34m:\u001b[0m\u001b[0;34m//\u001b[0m\u001b[0mcgafaq\u001b[0m\u001b[0;34m.\u001b[0m\u001b[0minfo\u001b[0m\u001b[0;34m:\u001b[0m\u001b[0;36m80\u001b[0m\u001b[0;34m/\u001b[0m\u001b[0mwiki\u001b[0m\u001b[0;34m/\u001b[0m\u001b[0mPolygon_Area\u001b[0m\u001b[0;34m\u001b[0m\u001b[0;34m\u001b[0m\u001b[0m\n\u001b[1;32m      5\u001b[0m     \"\"\"\n\u001b[0;32m----> 6\u001b[0;31m     \u001b[0mxs\u001b[0m\u001b[0;34m,\u001b[0m \u001b[0mys\u001b[0m \u001b[0;34m=\u001b[0m \u001b[0mring\u001b[0m\u001b[0;34m.\u001b[0m\u001b[0mcoords\u001b[0m\u001b[0;34m.\u001b[0m\u001b[0mxy\u001b[0m\u001b[0;34m\u001b[0m\u001b[0;34m\u001b[0m\u001b[0m\n\u001b[0m\u001b[1;32m      7\u001b[0m     \u001b[0mxs\u001b[0m\u001b[0;34m.\u001b[0m\u001b[0mappend\u001b[0m\u001b[0;34m(\u001b[0m\u001b[0mxs\u001b[0m\u001b[0;34m[\u001b[0m\u001b[0;36m1\u001b[0m\u001b[0;34m]\u001b[0m\u001b[0;34m)\u001b[0m\u001b[0;34m\u001b[0m\u001b[0;34m\u001b[0m\u001b[0m\n\u001b[1;32m      8\u001b[0m     \u001b[0mys\u001b[0m\u001b[0;34m.\u001b[0m\u001b[0mappend\u001b[0m\u001b[0;34m(\u001b[0m\u001b[0mys\u001b[0m\u001b[0;34m[\u001b[0m\u001b[0;36m1\u001b[0m\u001b[0;34m]\u001b[0m\u001b[0;34m)\u001b[0m\u001b[0;34m\u001b[0m\u001b[0;34m\u001b[0m\u001b[0m\n",
      "\u001b[0;32m/opt/jupyterhub/lib/python3.8/site-packages/shapely/geometry/base.py\u001b[0m in \u001b[0;36m_get_coords\u001b[0;34m(self)\u001b[0m\n\u001b[1;32m    330\u001b[0m         \u001b[0;32mif\u001b[0m \u001b[0mself\u001b[0m\u001b[0;34m.\u001b[0m\u001b[0mis_empty\u001b[0m\u001b[0;34m:\u001b[0m\u001b[0;34m\u001b[0m\u001b[0;34m\u001b[0m\u001b[0m\n\u001b[1;32m    331\u001b[0m             \u001b[0;32mreturn\u001b[0m \u001b[0;34m[\u001b[0m\u001b[0;34m]\u001b[0m\u001b[0;34m\u001b[0m\u001b[0;34m\u001b[0m\u001b[0m\n\u001b[0;32m--> 332\u001b[0;31m         \u001b[0;32mreturn\u001b[0m \u001b[0mCoordinateSequence\u001b[0m\u001b[0;34m(\u001b[0m\u001b[0mself\u001b[0m\u001b[0;34m)\u001b[0m\u001b[0;34m\u001b[0m\u001b[0;34m\u001b[0m\u001b[0m\n\u001b[0m\u001b[1;32m    333\u001b[0m \u001b[0;34m\u001b[0m\u001b[0m\n\u001b[1;32m    334\u001b[0m     \u001b[0;32mdef\u001b[0m \u001b[0m_set_coords\u001b[0m\u001b[0;34m(\u001b[0m\u001b[0mself\u001b[0m\u001b[0;34m,\u001b[0m \u001b[0mob\u001b[0m\u001b[0;34m)\u001b[0m\u001b[0;34m:\u001b[0m\u001b[0;34m\u001b[0m\u001b[0;34m\u001b[0m\u001b[0m\n",
      "\u001b[0;32m/opt/jupyterhub/lib/python3.8/site-packages/shapely/coords.py\u001b[0m in \u001b[0;36m__init__\u001b[0;34m(self, parent)\u001b[0m\n\u001b[1;32m     40\u001b[0m \u001b[0;34m\u001b[0m\u001b[0m\n\u001b[1;32m     41\u001b[0m     \u001b[0;32mdef\u001b[0m \u001b[0m__init__\u001b[0m\u001b[0;34m(\u001b[0m\u001b[0mself\u001b[0m\u001b[0;34m,\u001b[0m \u001b[0mparent\u001b[0m\u001b[0;34m)\u001b[0m\u001b[0;34m:\u001b[0m\u001b[0;34m\u001b[0m\u001b[0;34m\u001b[0m\u001b[0m\n\u001b[0;32m---> 42\u001b[0;31m         \u001b[0mself\u001b[0m\u001b[0;34m.\u001b[0m\u001b[0m__p__\u001b[0m \u001b[0;34m=\u001b[0m \u001b[0mparent\u001b[0m\u001b[0;34m\u001b[0m\u001b[0;34m\u001b[0m\u001b[0m\n\u001b[0m\u001b[1;32m     43\u001b[0m \u001b[0;34m\u001b[0m\u001b[0m\n\u001b[1;32m     44\u001b[0m     \u001b[0;32mdef\u001b[0m \u001b[0m_update\u001b[0m\u001b[0;34m(\u001b[0m\u001b[0mself\u001b[0m\u001b[0;34m)\u001b[0m\u001b[0;34m:\u001b[0m\u001b[0;34m\u001b[0m\u001b[0;34m\u001b[0m\u001b[0m\n",
      "\u001b[0;31mKeyboardInterrupt\u001b[0m: "
     ]
    }
   ],
   "source": [
    "t1 = tp.Topology(f_)\n",
    "t1.to_json('t1.json')"
   ]
  },
  {
   "cell_type": "code",
   "execution_count": 167,
   "metadata": {},
   "outputs": [
    {
     "name": "stderr",
     "output_type": "stream",
     "text": [
      "Exception ignored on calling ctypes callback function: <function STRtree.query.<locals>.callback at 0x7fa3dbd5ed30>\n",
      "Traceback (most recent call last):\n",
      "  File \"/opt/jupyterhub/lib/python3.8/site-packages/shapely/strtree.py\", line 78, in callback\n",
      "    def callback(item, userdata):\n",
      "KeyboardInterrupt: \n",
      "Exception ignored on calling ctypes callback function: <function STRtree.query.<locals>.callback at 0x7fa3cfbd29d0>\n",
      "Traceback (most recent call last):\n",
      "  File \"/opt/jupyterhub/lib/python3.8/site-packages/shapely/strtree.py\", line 78, in callback\n",
      "    def callback(item, userdata):\n",
      "KeyboardInterrupt: \n",
      "Exception ignored on calling ctypes callback function: <function STRtree.query.<locals>.callback at 0x7fa3cfbd29d0>\n",
      "Traceback (most recent call last):\n",
      "  File \"/opt/jupyterhub/lib/python3.8/site-packages/shapely/strtree.py\", line 78, in callback\n",
      "    def callback(item, userdata):\n",
      "KeyboardInterrupt: \n"
     ]
    },
    {
     "ename": "KeyboardInterrupt",
     "evalue": "",
     "output_type": "error",
     "traceback": [
      "\u001b[0;31m---------------------------------------------------------------------------\u001b[0m",
      "\u001b[0;31mKeyboardInterrupt\u001b[0m                         Traceback (most recent call last)",
      "\u001b[0;32m<ipython-input-167-c345284c3225>\u001b[0m in \u001b[0;36m<module>\u001b[0;34m\u001b[0m\n\u001b[0;32m----> 1\u001b[0;31m \u001b[0mt2\u001b[0m \u001b[0;34m=\u001b[0m \u001b[0mtp\u001b[0m\u001b[0;34m.\u001b[0m\u001b[0mTopology\u001b[0m\u001b[0;34m(\u001b[0m\u001b[0mf_\u001b[0m\u001b[0;34m,\u001b[0m \u001b[0msimplify_with\u001b[0m\u001b[0;34m=\u001b[0m\u001b[0;34m'simplification'\u001b[0m\u001b[0;34m,\u001b[0m \u001b[0msimplify_algorithm\u001b[0m\u001b[0;34m=\u001b[0m\u001b[0;34m'vw'\u001b[0m\u001b[0;34m,\u001b[0m \u001b[0mtoposimplify\u001b[0m\u001b[0;34m=\u001b[0m\u001b[0;36m1000\u001b[0m\u001b[0;34m,\u001b[0m \u001b[0mtopoquantize\u001b[0m\u001b[0;34m=\u001b[0m\u001b[0;36m10000000\u001b[0m\u001b[0;34m)\u001b[0m\u001b[0;34m\u001b[0m\u001b[0;34m\u001b[0m\u001b[0m\n\u001b[0m\u001b[1;32m      2\u001b[0m \u001b[0;31m#t2.to_json('t2.json')\u001b[0m\u001b[0;34m\u001b[0m\u001b[0;34m\u001b[0m\u001b[0;34m\u001b[0m\u001b[0m\n",
      "\u001b[0;32m/opt/jupyterhub/lib/python3.8/site-packages/topojson/core/topology.py\u001b[0m in \u001b[0;36m__init__\u001b[0;34m(self, data, topology, prequantize, topoquantize, presimplify, toposimplify, shared_coords, prevent_oversimplify, simplify_with, simplify_algorithm, winding_order)\u001b[0m\n\u001b[1;32m    104\u001b[0m         \u001b[0moptions\u001b[0m \u001b[0;34m=\u001b[0m \u001b[0mTopoOptions\u001b[0m\u001b[0;34m(\u001b[0m\u001b[0mlocals\u001b[0m\u001b[0;34m(\u001b[0m\u001b[0;34m)\u001b[0m\u001b[0;34m)\u001b[0m\u001b[0;34m\u001b[0m\u001b[0;34m\u001b[0m\u001b[0m\n\u001b[1;32m    105\u001b[0m         \u001b[0;31m# execute previous steps\u001b[0m\u001b[0;34m\u001b[0m\u001b[0;34m\u001b[0m\u001b[0;34m\u001b[0m\u001b[0m\n\u001b[0;32m--> 106\u001b[0;31m         \u001b[0msuper\u001b[0m\u001b[0;34m(\u001b[0m\u001b[0;34m)\u001b[0m\u001b[0;34m.\u001b[0m\u001b[0m__init__\u001b[0m\u001b[0;34m(\u001b[0m\u001b[0mdata\u001b[0m\u001b[0;34m,\u001b[0m \u001b[0moptions\u001b[0m\u001b[0;34m)\u001b[0m\u001b[0;34m\u001b[0m\u001b[0;34m\u001b[0m\u001b[0m\n\u001b[0m\u001b[1;32m    107\u001b[0m \u001b[0;34m\u001b[0m\u001b[0m\n\u001b[1;32m    108\u001b[0m         \u001b[0;31m# execute main function of Topology\u001b[0m\u001b[0;34m\u001b[0m\u001b[0;34m\u001b[0m\u001b[0;34m\u001b[0m\u001b[0m\n",
      "\u001b[0;32m/opt/jupyterhub/lib/python3.8/site-packages/topojson/core/hashmap.py\u001b[0m in \u001b[0;36m__init__\u001b[0;34m(self, data, options)\u001b[0m\n\u001b[1;32m     16\u001b[0m     \u001b[0;32mdef\u001b[0m \u001b[0m__init__\u001b[0m\u001b[0;34m(\u001b[0m\u001b[0mself\u001b[0m\u001b[0;34m,\u001b[0m \u001b[0mdata\u001b[0m\u001b[0;34m,\u001b[0m \u001b[0moptions\u001b[0m\u001b[0;34m=\u001b[0m\u001b[0;34m{\u001b[0m\u001b[0;34m}\u001b[0m\u001b[0;34m)\u001b[0m\u001b[0;34m:\u001b[0m\u001b[0;34m\u001b[0m\u001b[0;34m\u001b[0m\u001b[0m\n\u001b[1;32m     17\u001b[0m         \u001b[0;31m# execute previous step\u001b[0m\u001b[0;34m\u001b[0m\u001b[0;34m\u001b[0m\u001b[0;34m\u001b[0m\u001b[0m\n\u001b[0;32m---> 18\u001b[0;31m         \u001b[0msuper\u001b[0m\u001b[0;34m(\u001b[0m\u001b[0;34m)\u001b[0m\u001b[0;34m.\u001b[0m\u001b[0m__init__\u001b[0m\u001b[0;34m(\u001b[0m\u001b[0mdata\u001b[0m\u001b[0;34m,\u001b[0m \u001b[0moptions\u001b[0m\u001b[0;34m)\u001b[0m\u001b[0;34m\u001b[0m\u001b[0;34m\u001b[0m\u001b[0m\n\u001b[0m\u001b[1;32m     19\u001b[0m \u001b[0;34m\u001b[0m\u001b[0m\n\u001b[1;32m     20\u001b[0m         \u001b[0;31m# execute main function of Hashmap\u001b[0m\u001b[0;34m\u001b[0m\u001b[0;34m\u001b[0m\u001b[0;34m\u001b[0m\u001b[0m\n",
      "\u001b[0;32m/opt/jupyterhub/lib/python3.8/site-packages/topojson/core/dedup.py\u001b[0m in \u001b[0;36m__init__\u001b[0;34m(self, data, options)\u001b[0m\n\u001b[1;32m     20\u001b[0m     \u001b[0;32mdef\u001b[0m \u001b[0m__init__\u001b[0m\u001b[0;34m(\u001b[0m\u001b[0mself\u001b[0m\u001b[0;34m,\u001b[0m \u001b[0mdata\u001b[0m\u001b[0;34m,\u001b[0m \u001b[0moptions\u001b[0m\u001b[0;34m=\u001b[0m\u001b[0;34m{\u001b[0m\u001b[0;34m}\u001b[0m\u001b[0;34m)\u001b[0m\u001b[0;34m:\u001b[0m\u001b[0;34m\u001b[0m\u001b[0;34m\u001b[0m\u001b[0m\n\u001b[1;32m     21\u001b[0m         \u001b[0;31m# execute previous step\u001b[0m\u001b[0;34m\u001b[0m\u001b[0;34m\u001b[0m\u001b[0;34m\u001b[0m\u001b[0m\n\u001b[0;32m---> 22\u001b[0;31m         \u001b[0msuper\u001b[0m\u001b[0;34m(\u001b[0m\u001b[0;34m)\u001b[0m\u001b[0;34m.\u001b[0m\u001b[0m__init__\u001b[0m\u001b[0;34m(\u001b[0m\u001b[0mdata\u001b[0m\u001b[0;34m,\u001b[0m \u001b[0moptions\u001b[0m\u001b[0;34m)\u001b[0m\u001b[0;34m\u001b[0m\u001b[0;34m\u001b[0m\u001b[0m\n\u001b[0m\u001b[1;32m     23\u001b[0m \u001b[0;34m\u001b[0m\u001b[0m\n\u001b[1;32m     24\u001b[0m         \u001b[0;31m# initation topology items\u001b[0m\u001b[0;34m\u001b[0m\u001b[0;34m\u001b[0m\u001b[0;34m\u001b[0m\u001b[0m\n",
      "\u001b[0;32m/opt/jupyterhub/lib/python3.8/site-packages/topojson/core/cut.py\u001b[0m in \u001b[0;36m__init__\u001b[0;34m(self, data, options)\u001b[0m\n\u001b[1;32m     46\u001b[0m \u001b[0;34m\u001b[0m\u001b[0m\n\u001b[1;32m     47\u001b[0m         \u001b[0;31m# execute main function\u001b[0m\u001b[0;34m\u001b[0m\u001b[0;34m\u001b[0m\u001b[0;34m\u001b[0m\u001b[0m\n\u001b[0;32m---> 48\u001b[0;31m         \u001b[0mself\u001b[0m\u001b[0;34m.\u001b[0m\u001b[0moutput\u001b[0m \u001b[0;34m=\u001b[0m \u001b[0mself\u001b[0m\u001b[0;34m.\u001b[0m\u001b[0m_cutter\u001b[0m\u001b[0;34m(\u001b[0m\u001b[0mself\u001b[0m\u001b[0;34m.\u001b[0m\u001b[0moutput\u001b[0m\u001b[0;34m)\u001b[0m\u001b[0;34m\u001b[0m\u001b[0;34m\u001b[0m\u001b[0m\n\u001b[0m\u001b[1;32m     49\u001b[0m \u001b[0;34m\u001b[0m\u001b[0m\n\u001b[1;32m     50\u001b[0m     \u001b[0;32mdef\u001b[0m \u001b[0m__repr__\u001b[0m\u001b[0;34m(\u001b[0m\u001b[0mself\u001b[0m\u001b[0;34m)\u001b[0m\u001b[0;34m:\u001b[0m\u001b[0;34m\u001b[0m\u001b[0;34m\u001b[0m\u001b[0m\n",
      "\u001b[0;32m/opt/jupyterhub/lib/python3.8/site-packages/topojson/core/cut.py\u001b[0m in \u001b[0;36m_cutter\u001b[0;34m(self, data)\u001b[0m\n\u001b[1;32m    115\u001b[0m             \u001b[0;32mif\u001b[0m \u001b[0mself\u001b[0m\u001b[0;34m.\u001b[0m\u001b[0moptions\u001b[0m\u001b[0;34m.\u001b[0m\u001b[0mshared_coords\u001b[0m\u001b[0;34m:\u001b[0m\u001b[0;34m\u001b[0m\u001b[0;34m\u001b[0m\u001b[0m\n\u001b[1;32m    116\u001b[0m                 \u001b[0;32mfor\u001b[0m \u001b[0mls\u001b[0m \u001b[0;32min\u001b[0m \u001b[0mdata\u001b[0m\u001b[0;34m[\u001b[0m\u001b[0;34m\"linestrings\"\u001b[0m\u001b[0;34m]\u001b[0m\u001b[0;34m:\u001b[0m\u001b[0;34m\u001b[0m\u001b[0;34m\u001b[0m\u001b[0m\n\u001b[0;32m--> 117\u001b[0;31m                     \u001b[0mline\u001b[0m\u001b[0;34m,\u001b[0m \u001b[0msplitter\u001b[0m \u001b[0;34m=\u001b[0m \u001b[0mnp_array_bbox_points_line\u001b[0m\u001b[0;34m(\u001b[0m\u001b[0mls\u001b[0m\u001b[0;34m,\u001b[0m \u001b[0mtree_splitter\u001b[0m\u001b[0;34m)\u001b[0m\u001b[0;34m\u001b[0m\u001b[0;34m\u001b[0m\u001b[0m\n\u001b[0m\u001b[1;32m    118\u001b[0m                     \u001b[0;31m# prev function returns None for splitter if there is nothing to split\u001b[0m\u001b[0;34m\u001b[0m\u001b[0;34m\u001b[0m\u001b[0;34m\u001b[0m\u001b[0m\n\u001b[1;32m    119\u001b[0m                     \u001b[0;32mif\u001b[0m \u001b[0msplitter\u001b[0m \u001b[0;32mis\u001b[0m \u001b[0;32mnot\u001b[0m \u001b[0;32mNone\u001b[0m\u001b[0;34m:\u001b[0m\u001b[0;34m\u001b[0m\u001b[0;34m\u001b[0m\u001b[0m\n",
      "\u001b[0;32m/opt/jupyterhub/lib/python3.8/site-packages/topojson/ops.py\u001b[0m in \u001b[0;36mnp_array_bbox_points_line\u001b[0;34m(line, tree_splitter)\u001b[0m\n\u001b[1;32m     74\u001b[0m \u001b[0;34m\u001b[0m\u001b[0m\n\u001b[1;32m     75\u001b[0m     \u001b[0;31m# get junctions that contain within bbox line\u001b[0m\u001b[0;34m\u001b[0m\u001b[0;34m\u001b[0m\u001b[0;34m\u001b[0m\u001b[0m\n\u001b[0;32m---> 76\u001b[0;31m     \u001b[0mpts_within_bbox\u001b[0m \u001b[0;34m=\u001b[0m \u001b[0mtree_splitter\u001b[0m\u001b[0;34m.\u001b[0m\u001b[0mquery\u001b[0m\u001b[0;34m(\u001b[0m\u001b[0mline\u001b[0m\u001b[0;34m)\u001b[0m\u001b[0;34m\u001b[0m\u001b[0;34m\u001b[0m\u001b[0m\n\u001b[0m\u001b[1;32m     77\u001b[0m \u001b[0;34m\u001b[0m\u001b[0m\n\u001b[1;32m     78\u001b[0m     \u001b[0;32mif\u001b[0m \u001b[0mlen\u001b[0m\u001b[0;34m(\u001b[0m\u001b[0mpts_within_bbox\u001b[0m\u001b[0;34m)\u001b[0m \u001b[0;34m==\u001b[0m \u001b[0;36m0\u001b[0m\u001b[0;34m:\u001b[0m\u001b[0;34m\u001b[0m\u001b[0;34m\u001b[0m\u001b[0m\n",
      "\u001b[0;32m/opt/jupyterhub/lib/python3.8/site-packages/shapely/strtree.py\u001b[0m in \u001b[0;36mquery\u001b[0;34m(self, geom)\u001b[0m\n\u001b[1;32m     80\u001b[0m             \u001b[0mresult\u001b[0m\u001b[0;34m.\u001b[0m\u001b[0mappend\u001b[0m\u001b[0;34m(\u001b[0m\u001b[0mgeom\u001b[0m\u001b[0;34m)\u001b[0m\u001b[0;34m\u001b[0m\u001b[0;34m\u001b[0m\u001b[0m\n\u001b[1;32m     81\u001b[0m \u001b[0;34m\u001b[0m\u001b[0m\n\u001b[0;32m---> 82\u001b[0;31m         \u001b[0mlgeos\u001b[0m\u001b[0;34m.\u001b[0m\u001b[0mGEOSSTRtree_query\u001b[0m\u001b[0;34m(\u001b[0m\u001b[0mself\u001b[0m\u001b[0;34m.\u001b[0m\u001b[0m_tree_handle\u001b[0m\u001b[0;34m,\u001b[0m \u001b[0mgeom\u001b[0m\u001b[0;34m.\u001b[0m\u001b[0m_geom\u001b[0m\u001b[0;34m,\u001b[0m \u001b[0mlgeos\u001b[0m\u001b[0;34m.\u001b[0m\u001b[0mGEOSQueryCallback\u001b[0m\u001b[0;34m(\u001b[0m\u001b[0mcallback\u001b[0m\u001b[0;34m)\u001b[0m\u001b[0;34m,\u001b[0m \u001b[0;32mNone\u001b[0m\u001b[0;34m)\u001b[0m\u001b[0;34m\u001b[0m\u001b[0;34m\u001b[0m\u001b[0m\n\u001b[0m\u001b[1;32m     83\u001b[0m \u001b[0;34m\u001b[0m\u001b[0m\n\u001b[1;32m     84\u001b[0m         \u001b[0;32mreturn\u001b[0m \u001b[0mresult\u001b[0m\u001b[0;34m\u001b[0m\u001b[0;34m\u001b[0m\u001b[0m\n",
      "\u001b[0;31mKeyboardInterrupt\u001b[0m: "
     ]
    }
   ],
   "source": [
    "t2 = tp.Topology(f_, simplify_with='simplification', simplify_algorithm='vw', toposimplify=1000, topoquantize=10000000)\n",
    "#t2.to_json('t2.json')"
   ]
  },
  {
   "cell_type": "code",
   "execution_count": 163,
   "metadata": {},
   "outputs": [
    {
     "name": "stdout",
     "output_type": "stream",
     "text": [
      "-rw-rw-r-- 1 gparadis gparadis 153K Mar 18 22:23 t1.json\n",
      "-rw-rw-r-- 1 gparadis gparadis  37K Mar 18 22:32 t2.json\n"
     ]
    }
   ],
   "source": [
    "!ls -lah t*.json"
   ]
  },
  {
   "cell_type": "code",
   "execution_count": 164,
   "metadata": {},
   "outputs": [
    {
     "data": {
      "image/svg+xml": [
       "<svg xmlns=\"http://www.w3.org/2000/svg\" xmlns:xlink=\"http://www.w3.org/1999/xlink\" width=\"300\" height=\"300\" viewBox=\"1332154.0913000004 1677701.8012999995 3560.674599999562 5293.31760000065\" preserveAspectRatio=\"xMinYMin meet\"><g transform=\"matrix(1,0,0,-1,0,3360696.9201999996)\"><g><polyline fill=\"none\" stroke=\"#66cc99\" stroke-width=\"35.288784000004334\" points=\"1332593.9813554536,1682292.45988931 1332598.5092565145,1682299.5617641918 1332603.0308204151,1682306.6587378487 1332607.558721476,1682313.7606127306 1332612.0802853766,1682320.8477839378 1332616.6113550176,1682327.9496588197 1332621.1297503382,1682335.0515337016 1332619.9700499964,1682343.212073162 1332618.8103496546,1682351.3824150723 1332617.6411435725,1682359.538053308 1332610.679772942,1682366.1105959006 1332603.7215708918,1682372.6782372682 1332596.7602002616,1682379.2507798607 1332596.2405531139,1682386.7202466102 1332595.7114002258,1682394.1897133596 1332595.188584498,1682401.6591801092 1332594.6594316098,1682409.1286468587 1332594.9794582068,1682417.0686311987 1332595.2994848038,1682425.0086155385 1332595.6100056602,1682432.9485998785 1332595.9300322572,1682440.8787817687 1332599.4313133436,1682447.7306941806 1332602.9294258498,1682454.5777053677 1332606.430706936,1682461.4394202293 1332609.9193137016,1682468.2913326414 1332610.26152036,1682476.2803292302 1332610.5910526973,1682484.2693258193 1332610.9205850349,1682492.2583224084 1332611.2501173725,1682500.2522202223 1332612.4288291952,1682509.3783009883 1332613.6202153384,1682518.5092829792 1332614.7989271611,1682527.6402649703 1332613.309694482,1682537.8985286886 1332603.6011648455,1682550.2692203391 1332594.28870773,1682563.0908246809 1332614.5391035874,1682569.5702440003 1332631.7508310631,1682577.0985254485 1332638.8991479233,1682583.4897227196 1332649.8085694439,1682584.6905228205 1332670.6198039912,1682583.2299578 1332691.0001116353,1682581.7301829802 1332712.4799165982,1682582.8378598078 1332732.9014157846,1682586.8078519779 1332752.2709463553,1682587.7684920584 1332763.1391763336,1682589.380995051\" opacity=\"0.8\" /><polyline fill=\"none\" stroke=\"#66cc99\" stroke-width=\"35.288784000004334\" points=\"1332920.9915031719,1682308.0800930702 1332930.2405886839,1682304.3404584704 1332930.769741572,1682297.5277558577 1332931.29889446,1682290.71995447 1332931.4193005066,1682282.9613154512 1332931.5397065529,1682275.1977752077 1332930.2500944242,1682268.3605664705 1332928.9509765552,1682261.5184565084 1332921.8913799396,1682255.5193572294 1332914.828614744,1682249.5202579503 1332911.859655126,1682244.7807734706 1332908.8906955079,1682240.0314865415 1332909.4895571598,1682230.1506171406 1332914.080829824,1682223.622185572 1332918.6689339082,1682217.079050329 1332920.5193847266,1682214.848992999 1332921.3590584714,1682209.2713990614 1332922.198732216,1682203.6987063487 1332920.9186258279,1682198.728864299 1332919.6385194398,1682193.7492197992 1332914.438879383,1682186.0199881298 1332911.9515439507,1682180.5404186903 1332909.4705456789,1682175.0608492508 1332900.810816078,1682173.311111961 1332891.6092592685,1682177.08995636 1332882.4203767797,1682180.8786032086 1332875.921618854,1682185.961173431 1332869.4291980884,1682191.0486448787 1332862.9304401628,1682196.141017551 1332857.860711893,1682204.6593464294 1332852.8004893637,1682213.1678728578 1332848.8397641531,1682221.7695225594 1332844.8790389423,1682230.3711722612 1332842.9303621387,1682236.8898013798 1332840.9785167547,1682243.3986280486 1332839.029839951,1682249.9221583921 1332838.6305988498,1682258.2199321499 1332838.2313577486,1682266.5079034579 1332837.8289480673,1682274.8105784405 1332837.1191861094,1682284.7404600903 1332836.4189298921,1682294.68014419 1332832.9303231265,1682300.542009172 1332829.4512221015,1682306.389170479 1332822.6609548002,1682310.3493601994 1332815.8801932395,1682314.2997474696 1332809.0899259383,1682318.25993719 1332799.9897636941,1682320.7595618896 1332790.8800957093,1682323.2591865892 1332781.7799334652,1682325.749008839 1332772.0302122864,1682324.3178511679 1332762.2804911078,1682322.8915947215 1332752.5212641885,1682321.4506346006 1332744.900828883,1682318.8284792784 1332737.2803935776,1682316.2112251811 1332729.6504525316,1682313.5890698591 1332722.0300172262,1682310.9718157619 1332714.6408882733,1682307.6683901784 1332707.24859074,1682304.3698658198 1332699.8594617867,1682301.0713414613 1332691.2314179877,1682299.5323568424 1332682.6002056084,1682297.9884709984 1332673.9689932293,1682296.4494863795 1332665.7211790504,1682296.42007903 1332657.4701962916,1682296.3906716807 1332649.209707792,1682296.3612643313 1332640.958725033,1682296.3318569819 1332632.7109108542,1682296.2877459577 1332623.0308984392,1682295.3418095517 1332613.350886024,1682294.3811694712 1332603.6613678688,1682293.4205293905 1332593.9813554536,1682292.45988931\" opacity=\"0.8\" /><polyline fill=\"none\" stroke=\"#66cc99\" stroke-width=\"35.288784000004334\" points=\"1334668.9894504515,1680527.9209003707 1334669.8513042573,1680527.4013705312 1334677.9787123897,1680525.8476822374 1334686.1092891023,1680524.2988951686 1334689.300049332,1680530.1999699497 1334692.490809562,1680536.1108471805 1334695.6815697916,1680542.0119219616 1334691.7493618024,1680548.8589331487 1334687.8203223934,1680555.7010431108 1334683.8912829843,1680562.5480542977 1334679.959074995,1680569.3999667098 1334674.7816149995,1680577.6095184193 1334669.600986424,1680585.8190701287 1334664.429863589,1680594.0286218384 1334659.5692616103,1680598.861229591 1334654.699153891,1680603.6791336688 1334649.8385519127,1680608.5117414214 1334642.4399172189,1680610.2908860606 1334635.0412825253,1680612.0798331497 1334627.6394792516,1680613.8589777886 1334622.0912953764,1680619.2503251801 1334616.5304371805,1680624.6318701217 1334610.9695789847,1680630.0085138383 1334609.4993577865,1680638.5905586402 1334608.0196308477,1680647.1578997676 1334606.539903909,1680655.7301421198 1334601.6000874261,1680663.1800039697 1334596.6602709433,1680670.6396682693 1334591.7109487199,1680678.0895301192 1334586.7711322373,1680685.539391969 1334591.5905426736,1680690.161247051 1334596.4004473696,1680694.7880033578 1334601.2198578059,1680699.4098584396\" opacity=\"0.8\" /><polyline fill=\"none\" stroke=\"#66cc99\" stroke-width=\"35.288784000004334\" points=\"1334809.93106493,1680483.2805439702 1334818.2105649107,1680478.031332101 1334826.490064891,1680472.8017251315 1334834.870959437,1680469.5914228212 1334843.2613597233,1680466.3811205109 1334851.6485914297,1680463.1806206503 1334860.0294859754,1680459.9801207897 1334865.9610680512,1680455.3386608083 1334871.8894815466,1680450.7119045015 1334877.8210636221,1680446.07044452 1334883.739971377,1680441.4387869884 1334890.8787824968,1680437.3609678706 1334898.0207621967,1680433.278247528 1334905.150067576,1680429.2004284102 1334913.7115711917,1680424.7991284488 1334922.2699062268,1680420.3978284874 1334929.300985621,1680416.0602444499 1334936.3415707555,1680411.7177591876 1334943.3694815694,1680407.3703727 1334951.180031685,1680404.39042796 1334958.98107606,1680401.4104832201 1334964.1902218573,1680401.4496930195 1334969.3993676545,1680401.4889028186 1334975.9393171223,1680403.0523935622 1334982.4792665902,1680404.6109830807 1334991.699834881,1680404.248292438 1335000.9204031713,1680403.8905030203 1335010.1314657214,1680403.5180099278 1335014.371025987,1680404.8315382013\" opacity=\"0.8\" /><polyline fill=\"none\" stroke=\"#66cc99\" stroke-width=\"35.288784000004334\" points=\"1334947.9607542336,1680331.2004365101 1334944.1996495735,1680331.4111891808 1334935.2103876353,1680331.0190911887 1334926.221125697,1680330.6318944215 1334917.2286951786,1680330.2397964294 1334908.2394332404,1680329.8476984373 1334900.7615840426,1680329.568328618 1334893.290072005,1680329.2987612484 1334886.9085515456,1680333.6706538603 1334880.5301996663,1680338.0425464723 1334874.1391734662,1680342.4095378593 1334867.390097707,1680344.1004604502 1334860.641021948,1680345.791383041 1334854.8298459188,1680347.5705276802 1334849.0186698898,1680349.3496723194 1334841.6390466772,1680351.4179892277 1334834.2594234645,1680353.5010098107 1334826.8798002517,1680355.569326719 1334822.4786423976,1680361.7203639701 1334815.6503521344,1680366.5284655981 1334811.4488148307,1680369.4888054384 1334807.259951848,1680372.439342829 1334799.8201256122,1680376.3995325493 1334792.3802993763,1680380.3597222695 1334783.1692368262,1680383.212235162 1334773.970848597,1680386.0598468296 1334768.3085958357,1680391.1179109276 1334762.6495116546,1680396.1808762506 1334757.0886534587,1680400.3077076173 1334751.530963843,1680404.4394402092 1334746.0208029298,1680406.8116330614 1334740.5011362762,1680409.1789246886 1334733.3401450953,1680412.2617951515 1334727.7507696778,1680417.7511670408 1334722.1487199396,1680423.2307364803 1334716.5593445224,1680428.7201083698 1334710.9604633644,1680434.1996778094 1334703.3812196013,1680434.8809480707 1334695.7893015174,1680435.552415882 1334693.000950969,1680439.9586170684 1334690.218937581,1680444.3599170297 1334684.128926497,1680450.0698440396 1334678.038915413,1680455.7797710495 1334671.948904329,1680461.4896980594 1334665.8715675655,1680467.1996250693 1334664.7910817282,1680474.1299570797 1334663.7105958906,1680481.06028909\" opacity=\"0.8\" /><polyline fill=\"none\" stroke=\"#66cc99\" stroke-width=\"35.288784000004334\" points=\"1335418.929004751,1680361.98012889 1335419.005050675,1680361.078303508 1335420.60201508,1680342.3017109113 1335421.4385202446,1680332.4600513098 1335421.9423244912,1680326.5148655046 1335422.686940831,1680317.7514753812 1335423.1115305733,1680312.7816333312 1335423.444231491,1680308.8067399363 1335424.565908871,1680295.6028400525 1335424.7813723222,1680293.098314128 1335424.9493070713,1680291.0986143684 1335426.3117965437,1680275.037300367 1335426.4512140711,1680273.4296985993 1335426.577957278,1680271.9005164301 1335430.0475525626,1680231.0488068785 1335430.6305713134,1680224.2312030408 1335431.090015438,1680218.776139726 1335431.9265206025,1680208.9050727747 1335432.3004130623,1680204.5478838375 1335432.5950910181,1680201.0680141577 1335433.8086572227,1680186.7564374462 1335433.9702548112,1680184.8694658591 1335434.0589750558,1680183.8255049551 1335435.038066328,1680172.2635154133 1335435.26303552,1680169.6560637658\" opacity=\"0.8\" /><polyline fill=\"none\" stroke=\"#66cc99\" stroke-width=\"35.288784000004334\" points=\"1334601.2198578059,1680699.4098584396 1334598.0100860952,1680703.3798506097 1334594.8003143843,1680707.3498427796 1334593.2001813992,1680711.3688471986 1334589.7686090767,1680715.809356959 1334586.3402053341,1680720.2498667196 1334581.2197797818,1680726.6214590913 1334576.0993542294,1680732.978347788 1334574.3914895186,1680738.1883498582 1334572.670950487,1680743.3885494783 1334564.2203471775,1680746.579246889 1334563.4915737386,1680746.8537154836 1334555.7792496083,1680749.76014185 1334550.8806246677,1680751.2305093203 1334545.9788311468,1680752.7106792405 1334539.4895789616,1680756.2493636191 1334533.0003267764,1680759.7880479977 1334525.9502359012,1680763.2777201275 1334518.9001450262,1680766.772293482 1334511.6916251427,1680771.9087771785 1334504.479936679,1680777.0501621 1334499.220093599,1680785.1616893115 1334493.9602505192,1680793.268315298 1334491.000796642,1680800.7720906218 1334488.0286684437,1680808.2709647208 1334485.8962139902,1680812.025302995 1334483.9887287288,1680815.3777408274 1334479.9392832734,1680822.499220609 1334476.3587876828,1680827.7190251288 1334472.7814606726,1680832.9290271988 1334466.8815643985,1680836.0707123606 1334460.9911738653,1680839.1976938474 1334455.0912775914,1680842.339379009 1334445.179958824,1680841.8884663181 1334443.1805847376,1680841.7953430451 1334435.2686400567,1680841.4277511775\" opacity=\"0.8\" /><polyline fill=\"none\" stroke=\"#66cc99\" stroke-width=\"35.288784000004334\" points=\"1334713.1214350394,1681144.191117001 1334717.4307040686,1681150.0578832077 1334721.739973098,1681155.9295506394 1334726.0492421272,1681161.7914156213\" opacity=\"0.8\" /><polyline fill=\"none\" stroke=\"#66cc99\" stroke-width=\"35.288784000004334\" points=\"1334899.338891547,1681220.9099903798 1334909.3104133373,1681221.8510255609 1334919.2787665478,1681222.8018631916 1334929.2502883382,1681223.7379971477 1334939.2186415487,1681224.6888347787 1334949.1901633393,1681225.6298699598 1334959.1585165495,1681226.5709051408 1334969.13003834,1681227.5217427716 1334979.0888858098,1681228.4578767277 1334989.0604076004,1681229.4087143585 1334991.0185901446,1681223.2478746576 1334989.4501429612,1681217.621268471 1334983.3696376176,1681206.0788838286 1334973.470993171,1681194.5904126603 1334958.5216319356,1681187.2385753084 1334943.7813969913,1681182.0187707886 1334928.4296260746,1681170.0009673308 1334920.0392257883,1681156.1305008603 1334915.5715277505,1681136.741255151 1334916.9593658643,1681113.7103993401 1334927.8212586823,1681089.0719417618 1334933.9207755066,1681086.6801440099\" opacity=\"0.8\" /><polyline fill=\"none\" stroke=\"#66cc99\" stroke-width=\"35.288784000004334\" points=\"1334981.7504931514,1680995.3409167507 1334979.3201921622,1680987.3225128122 1334976.8898911728,1680979.299207649 1334974.4690959242,1680971.2808037107 1334972.0387949347,1680963.2623997722 1334963.8194979774,1680959.2188892288 1334955.6002010203,1680955.18027991 1334947.3904098035,1680951.1416705914 1334939.1711128461,1680947.098160048 1334930.9486473086,1680943.0595507293 1334922.7293503513,1680939.0209414107 1334915.6412365143,1680936.4379958878 1334908.5404483564,1680933.8697540394 1334901.4491659391,1680931.2917097416 1334894.3515463616,1680928.7185666685 1334888.4294700264,1680921.5284697383 1334882.5105622716,1680914.3383728082 1334876.5916545168,1680907.1580783278 1334877.2697306727,1680900.2914622412 1334877.9604811494,1680893.4297473796 1334878.6385573056,1680886.558230068 1334879.3895108055,1680879.069158419 1334880.130958565,1680871.5800867698 1334884.5511279001,1680865.3898397195 1334889.3388525348,1680864.9095196794 1334895.1595343046,1680860.1210229509 1334900.9802160743,1680855.3325262223 1334906.800897844,1680850.5391282688 1334912.7293113393,1680844.5008191906 1334918.6608934149,1680838.4625101122 1334924.5798011697,1680832.419299809 1334925.0804368365,1680827.2681124378 1334925.5715667626,1680822.1218262915 1334924.4213721612,1680814.4514093213 1334927.989193431,1680807.7024226321 1334931.5506775407,1680800.9485347182 1334934.2598135849,1680793.0183528282 1334936.9816239497,1680785.0783684882 1334939.7002657342,1680777.148186598 1334932.7198836228,1680770.801100351 1334926.0215051465,1680767.9485874583 1334919.3199580899,1680765.1009757908 1334912.6215796135,1680762.2386604485 1334905.5493086772,1680761.5622914121 1334898.4707005806,1680760.8810211509 1334891.1386060705,1680758.2686682784 1334883.8096801406,1680755.6710190808 1334876.4807542108,1680753.0684686583 1334867.3203889434,1680749.8091540989 1334858.160023676,1680746.5596419894 1334851.4616451997,1680742.5994522693 1334844.7505924026,1680738.6294600992 1334838.929910633,1680735.2280100177 1334833.1092288631,1680731.8314611611 1334826.920991794,1680727.2096060794 1334820.7295861447,1680722.5877509974 1334814.5413490753,1680717.9609946907 1334808.349943426,1680713.339139609 1334805.0387771497,1680708.3006804103 1334799.0691721123,1680706.3009806508 1334793.0995670746,1680704.301280891 1334789.6616575916,1680700.6498683395 1334786.230085269,1680697.008258238 1334782.8397044886,1680692.891229321 1334779.4493237084,1680688.7791016288 1334778.6508415057,1680682.5496447794 1334777.8396849828,1680676.32018793 1334776.3314408225,1680667.6597235294 1334774.820028082,1680658.9894566792 1334773.3086153415,1680650.3289922788 1334771.7908654409,1680641.6587254284 1334769.439778956,1680631.9690037987 1334767.07918673,1680622.2694797192 1334764.7692917874,1680616.8389225286 1334762.4593968445,1680611.408365338 1334762.8713122662,1680602.4587286685 1334763.2895648486,1680593.499289549 1334764.1704301354,1680584.5888626785 1334765.0608011629,1680575.688238258 1334766.5912253843,1680566.3808121704 1334768.1216496057,1680557.0684848581 1334769.6615795675,1680547.751256321 1334773.539921694,1680539.3897666396 1334777.4214324004,1680531.018474508 1334781.2997745269,1680522.6618860515 1334785.1812852332,1680514.2905939203 1334789.290933712,1680507.8503844 1334793.4100879312,1680501.40037243 1334797.5292421503,1680494.96016291 1334801.6515649497,1680488.51015094 1334809.93106493,1680483.2805439702\" opacity=\"0.8\" /><polyline fill=\"none\" stroke=\"#66cc99\" stroke-width=\"35.288784000004334\" points=\"1334809.93106493,1680483.2805439702 1334764.4714452515,1680496.3619132317 1334749.8104248114,1680518.922251452 1334744.4396814257,1680548.5893657792 1334739.240041369,1680580.751203581 1334725.0511393743,1680611.222118792 1334709.1702155692,1680637.8014614312 1334692.2499974691,1680662.2095614392 1334673.3906083056,1680672.3698006596 1334650.3391875792,1680674.281278371 1334628.9290913802,1680685.0198621296 1334617.5190341931,1680695.4888785186 1334609.489852046,1680701.1595957293 1334601.2198578059,1680699.4098584396\" opacity=\"0.8\" /><polyline fill=\"none\" stroke=\"#66cc99\" stroke-width=\"35.288784000004334\" points=\"1332821.3301511295,1678085.0817924512 1332813.8903248936,1678080.7589120883 1332807.2711609213,1678068.657787807 1332801.8402145125,1678051.6799447492 1332793.468825707,1678040.7012009707 1332778.9091998325,1678051.6603398498 1332759.9801019053,1678076.8183272677 1332759.5713550637,1678076.7889199182 1332750.5504073238,1678091.889593839 1332735.8608696621,1678110.298594568 1332714.7612943195,1678119.5423047317 1332708.1548046682,1678124.2621843116 1332685.2903301716,1678140.6077693573 1332679.8403722816,1678163.8493778387 1332679.865720923,1678163.9179949875 1332688.8391399605,1678188.9779579074 1332703.4114401557,1678217.831468901 1332705.4900287462,1678234.99065728 1332692.9994857218,1678251.9096856392 1332679.0292157584,1678266.2310648004 1332668.1102884975,1678284.5077324572 1332658.8802144665,1678319.502478252 1332651.80160637,1678342.4598156891 1332660.7496767659,1678343.5576900672 1332669.7009157422,1678344.6604656698 1332678.661660459,1678345.7583400477 1332687.609730855,1678346.8709181002 1332696.5704755718,1678347.9687924783 1332705.5185459678,1678349.071568081 1332714.469784944,1678350.1694424588 1332723.4305296608,1678351.2722180616 1332732.378600057,1678352.3700924395 1332741.3013218115,1678351.7721430017 1332750.2208749861,1678351.159489889 1332759.1309224202,1678350.561540451 1332768.0504755948,1678349.9488873384 1332776.9700287692,1678349.3509379004 1332785.119616963,1678349.8704677399 1332793.278710897,1678350.3899975794 1332800.1798785042,1678347.1208805703 1332807.0905518518,1678343.8517635611 1332814.0012251996,1678340.592449002 1332820.7914925008,1678337.161591571 1332827.578591222,1678333.7307341401 1332834.4385672868,1678329.1480888575 1332841.2985433517,1678324.5703447997 1332842.448737953,1678318.4781222476 1332843.5989325542,1678312.3908009203 1332842.9588793602,1678303.8920769414 1332842.3315004867,1678295.378649288 1332840.8707850291,1678285.5418909113 1332839.4100695713,1678275.6904288598 1332837.9588598541,1678265.8487692582 1332835.9689915082,1678256.227664777 1332833.988628903,1678246.6212639706 1332831.998760557,1678237.0001594895 1332831.7516113038,1678228.5112379605 1332831.5012934706,1678220.0321188816 1332831.2509756372,1678211.5382961277 1332831.7389369833,1678203.681632611\" opacity=\"0.8\" /><polyline fill=\"none\" stroke=\"#66cc99\" stroke-width=\"35.288784000004334\" points=\"1333772.2685884228,1682693.688863399 1333782.2401102132,1682694.4093434594 1333792.198957683,1682695.1396259696 1333802.1704794737,1682695.86990848 1333812.1293269435,1682696.6001909901 1333822.100848734,1682697.3304735005 1333832.0596962038,1682698.0607560107 1333842.0312179944,1682698.791038521 1333851.9900654643,1682699.5213210313 1333861.9615872547,1682700.2516035417 1333871.9204347245,1682700.9818860518 1333881.888787935,1682701.7121685622 1333891.850803985,1682702.4424510724 1333901.8191571953,1682703.1678323578 1333911.7906789859,1682703.8981148682 1333921.7495264555,1682704.6283973784 1333931.7210482461,1682705.3586798888 1333941.679895716,1682706.088962399 1333951.6514175066,1682706.8192449093 1333961.6102649763,1682707.5495274195 1333971.5786181868,1682708.27980993 1333981.5406342368,1682709.0002899903 1333991.508987447,1682709.7305725005 1334001.471003497,1682710.460855011 1334011.4393567075,1682711.191137521 1334021.4013727575,1682711.9214200315 1334031.3697259678,1682712.6517025416 1334041.3285734376,1682713.381985052 1334051.3000952282,1682714.1122675622 1334061.2589426981,1682714.8425500726 1334071.2304644885,1682715.567931358 1334081.198817699,1682716.2982138682 1334091.160833749,1682717.0284963786 1334101.1291869592,1682717.7587788887 1334111.0912030092,1682718.4890613991 1334121.0595562197,1682719.2193439093 1334131.0215722697,1682719.9496264197 1334140.98992548,1682720.6799089299 1334150.9487729499,1682721.4101914403 1334160.9202947405,1682722.1404739504 1334170.8791422101,1682722.8707564608 1334180.8506640007,1682723.5912365213 1334190.8095114706,1682724.3215190314 1334200.7810332612,1682725.0518015418 1334210.7493864715,1682725.782084052 1334210.7557236317,1682725.7673803775 1334218.0497951799,1682712.7105172405 1334217.3590447032,1682693.679060949 1334224.5105301435,1682663.6296510797 1334225.1505833378,1682655.6308520408 1334225.8001422721,1682647.632053002 1334227.428792479,1682638.452058762 1334229.0701170063,1682629.2818669719 1334237.5587432778,1682626.7087238987 1334246.041032389,1682624.1404820506 1334246.4687907118,1682624.0081489782 1334254.5296586608,1682621.5722402022 1334256.620921572,1682615.0487098587 1334258.7185216437,1682608.53008074 1334260.8097845549,1682602.0114516215 1334262.7204383966,1682592.6599145099 1334264.6310922382,1682583.3083773984 1334266.5290717592,1682573.9617415117 1334272.7996919127,1682569.58004645 1334279.0703120665,1682565.1983513883 1334285.3314264794,1682560.8215575516 1334291.598878053,1682556.43006004 1334298.759869234,1682553.8814230915 1334305.9208604149,1682551.3180824681 1334313.0786830157,1682548.7596430697 1334320.2396741968,1682546.211006121 1334328.6902775064,1682547.5784478683\" opacity=\"0.8\" /><polyline fill=\"none\" stroke=\"#66cc99\" stroke-width=\"35.288784000004334\" points=\"1333639.8187687958,1679852.2723440619 1333645.8802626585,1679845.7194063691 1333647.22690923,1679844.2637425733 1333651.9385879408,1679839.171369901 1333658.0000818032,1679832.618432208 1333661.32075382,1679824.3206584502 1333664.6414258366,1679816.0179834676 1333664.2802076973,1679808.2005297502 1333663.9189895582,1679800.3781748079 1333663.560939999,1679792.5607210903 1333660.908838398,1679785.3510192607 1333658.2503996366,1679778.141317431 1333659.029870358,1679770.152320842 1333659.799835339,1679762.158423028 1333663.1205073555,1679754.8801040498 1333666.4411793724,1679747.6017850714 1333669.7491770682,1679740.318564868 1333671.3302985725,1679732.682456472 1333672.9114200766,1679725.0512493008 1333670.9595746926,1679716.3319702016 1333669.010897889,1679707.6077898773 1333667.0590525053,1679698.8983132278 1333669.2707214628,1679689.6497018393 1333671.4697160998,1679680.4108929005 1333673.6687107368,1679671.1720839618 1333679.3499749792,1679664.4917144214 1333685.0312392213,1679657.8113448808 1333690.7093348834,1679651.1309753405 1333696.6187368978,1679645.0289503385 1333702.5186331717,1679638.9318265615 1333706.3304351147,1679634.29036658 1333710.1295627367,1679629.6489065986 1333713.0034649496,1679624.6741633238 1333714.8412414475,1679621.488367138 1333719.5402458373,1679613.3180252276 1333718.890686903,1679606.5886434382 1333718.2411279683,1679599.849459199 1333717.5915690337,1679593.1102749598 1333714.080782207,1679585.4790677887 1333710.5699953802,1679577.8478606176 1333707.0592085533,1679570.2215546712 1333705.3196580408,1679562.3599899295 1333703.5896132689,1679554.498425188 1333701.850062756,1679546.6417616713 1333700.1105122436,1679538.7801969298 1333700.889982965,1679529.2277095972 1333701.6599479462,1679519.6899259395 1333702.4394186675,1679510.142339832 1333703.218889389,1679500.5996549493 1333704.8412024353,1679492.0715236212 1333706.4603469016,1679483.5384910682 1333708.0699856272,1679475.01035974 1333709.6891300932,1679466.4822284118 1333711.3114431396,1679457.9491958588\" opacity=\"0.8\" /><polyline fill=\"none\" stroke=\"#66cc99\" stroke-width=\"35.288784000004334\" points=\"1332607.4097982082,1679566.6877715173 1332607.0802658706,1679577.4508614005 1332606.88064532,1679586.1211282506 1332602.9294258498,1679600.7218772315 1332592.070701612,1679613.1807909303 1332569.3995105058,1679622.321575371 1332554.0414024286,1679633.6385036681 1332553.3094604097,1679643.921273511 1332555.8189759033,1679667.2609064905 1332559.969815924,1679720.071604801 1332562.808863755,1679724.85029908 1332566.3893593457,1679730.8788057084 1332568.1859443013,1679733.9077626974 1332569.9698549362,1679736.9220160116 1332572.5585849339,1679744.2199398896 1332575.1599892522,1679751.5178637675 1332577.74871925,1679758.8206888703 1332580.3406178278,1679766.1186127483 1332582.7392330156,1679770.941418051 1332585.1410167834,1679775.759322129 1332588.911627184,1679783.351319501 1332592.6885747449,1679790.9286131982 1332597.729785793,1679795.8298380994 1332602.7709968414,1679800.7310630006 1332607.8185450498,1679805.6322879018 1332614.041636501,1679811.43043696 1332620.2710651124,1679817.238388468 1332627.9105118988,1679823.5609685907 1332635.5499586852,1679829.8786474883 1332644.529714883,1679831.8881496978 1332653.5094710807,1679833.912355582 1332662.498733019,1679835.9218577915 1332671.9189218602,1679838.9606172303 1332681.348616442,1679842.0091791188 1332690.7814796038,1679845.0479385576 1332700.2111741854,1679848.091599221 1332709.2099418642,1679849.831534061 1332718.2087095429,1679851.5714689011 1332727.2106458019,1679853.3114037411 1332734.13082489,1679855.1787704283 1332741.0510039784,1679857.0510383407 1332747.9711830665,1679858.9086025783 1332753.148643062,1679863.8196299293 1332758.3292716376,1679868.7306572802 1332763.5194059536,1679873.6416846314 1332765.1385504198,1679881.998273088 1332766.7513577256,1679890.3695652192 1332768.3705021918,1679898.7408573504 1332764.0992561246,1679906.2789412485 1332759.840684378,1679913.8121239217 1332752.850796526,1679916.7479576375 1332745.8704144147,1679919.698495028 1332738.8900323033,1679922.639229969 1332731.2791027385,1679927.4620352716 1332723.6808474942,1679932.2897417995 1332723.300617874,1679939.6905914003 1332722.9108825133,1679947.091441001 1332722.5211471524,1679954.4922906018 1332726.2410602702,1679960.5305996803 1332726.6719871731,1679961.231474841 1332729.9609733883,1679966.5689087585 1332733.680886506,1679972.6121190619 1332742.1314898157,1679972.3817614913 1332750.578924545,1679972.161206371 1332759.0295278549,1679971.9406512503 1332767.2203075907,1679970.4506788803 1332775.4205930668,1679968.97050896 1332783.1709401591,1679967.8677333575 1332790.9212872516,1679966.7698589794 1332796.8592064874,1679967.8187211084 1332802.8002943036,1679968.8577807874 1332808.8586195859,1679971.1417515913 1332814.9201134483,1679973.4306236203 1332822.2712194396,1679978.0818860515 1332829.60965111,1679982.7282472579 1332834.701559441,1679990.9279965176 1332839.780793451,1679999.1277457774 1332844.8695332017,1680007.332396262 1332850.4303913976,1680014.7381470879 1332855.9912495934,1680022.1487991384 1332861.5394334686,1680029.5594511891 1332870.39878362,1680030.4024618722 1332879.2613023515,1680031.2307688803 1332886.5110137772,1680028.4517743613 1332893.760725203,1680025.6580761678 1332900.940727865,1680023.8299192796 1332908.120730527,1680022.0115648413 1332915.300733189,1680020.1785067283 1332924.058688775,1680019.5609523905 1332932.8103072005,1680018.948299278 1332939.4389769132,1680021.0705296602 1332946.0613094657,1680023.1878588174 1332952.6804734378,1680025.3100891998 1332959.508763701,1680028.4076633374 1332966.3497282849,1680031.5101386998 1332973.1811871284,1680034.6077128374 1332979.60073055,1680039.092333622 1332986.0202739716,1680043.5720531817 1332992.4493231336,1680048.0517727414 1332998.8688665552,1680052.5216898513 1333000.6812944114,1680062.1378931075 1333007.4588873922,1680064.00035857 1333014.2396489528,1680065.8579228076 1333021.0204105137,1680067.72038827 1333025.7194149035,1680065.779503209 1333030.4215878737,1680063.8386181484 1333035.779656939,1680058.4521719818 1333042.490709736,1680051.502235072 1333046.8443388876,1680046.684330994 1333048.7993528517,1680044.5179895877 1333052.8202810856,1680036.759350569 1333056.8412093194,1680028.9909091005 1333060.8716432939,1680021.232270082\" opacity=\"0.8\" /><polyline fill=\"none\" stroke=\"#66cc99\" stroke-width=\"35.288784000004334\" points=\"1333135.5994379898,1679959.7611073707 1333126.4200612414,1679960.55020458 1333117.6811171363,1679958.0701847798 1333108.9294987107,1679955.59016498 1333101.3692664285,1679955.0510302407 1333093.7995284058,1679954.5216979512 1333086.229790383,1679953.9776619873 1333077.3514287507,1679953.5512554208 1333068.4603927976,1679953.1297500795 1333059.090901239,1679952.60041779 1333049.7309154212,1679952.0710855008 1333040.3709296032,1679951.5417532113 1333031.1693727935,1679952.5416030912 1333021.9709845642,1679953.541452971 1333014.0210169211,1679954.6197224495 1333006.0615435378,1679955.7077943773 1333000.538708304,1679954.4922906018 1332995.0285473908,1679953.2718856016 1332990.8998874312,1679950.0909906407 1332986.7712274715,1679946.9100956798 1332980.7414194106,1679944.209520759 1332974.7116113498,1679941.5089458385 1332967.740734979,1679943.2880904777 1332960.769858608,1679945.0623338919 1332953.998602788,1679946.9198981295 1332947.2400212882,1679948.7676599172 1332940.468765468,1679950.6301253797 1332931.7615071647,1679953.5218480716 1332923.0510802814,1679956.4086695383 1332914.3089675962,1679959.7120951216 1332911.8216321638,1679960.648229078 1332905.5795292319,1679963.0106194802 1332896.938811112,1679964.8681837178 1332888.310767313,1679966.7306491802 1332881.3810824843,1679968.8479783377 1332874.4609033961,1679970.9702087198 1332867.5312185674,1679973.092439102 1332862.1889924032,1679972.298440668 1332856.8594405598,1679971.509343459 1332855.699740218,1679964.412369802 1332854.5495456168,1679957.32029737 1332858.1205354668,1679950.762458452 1332861.7010310574,1679944.209520759 1332863.2441295993,1679943.371411301 1332870.1104428247,1679939.651381601 1332878.5198545922,1679935.088341218 1332885.449539421,1679933.9316521413 1332892.369718509,1679932.7700618396 1332900.3893949157,1679932.7896667393 1332908.4090713223,1679932.809271639 1332916.428747729,1679932.8288765384 1332923.2507008319,1679932.2211246507 1332930.0694853547,1679931.5986690882 1332936.878764137,1679930.9811147507 1332943.5010966894,1679928.3589594285 1332950.1202606615,1679925.7417053313 1332956.1215515009,1679919.9680623978 1332962.1291795005,1679914.2091231388 1332960.0696023908,1679905.1908693204 1332958.0195310218,1679896.1677142773 1332952.8198909652,1679888.1591127887 1332947.629756649,1679880.1505113002\" opacity=\"0.8\" /><polyline fill=\"none\" stroke=\"#66cc99\" stroke-width=\"35.288784000004334\" points=\"1332616.2501368783,1679570.8881212578 1332610.1791372753,1679568.0062010158 1332607.4097982082,1679566.6877715173\" opacity=\"0.8\" /><polyline fill=\"none\" stroke=\"#66cc99\" stroke-width=\"35.288784000004334\" points=\"1335186.9509134488,1678079.0091747986 1335183.4496323627,1678071.9514109408 1335179.9515198565,1678064.8789434084 1335177.369127019,1678055.6499369193 1335177.0015717195,1678049.8713927607 1335176.6213420993,1678044.0879473772 1335177.0586061627,1678038.3682179176 1335177.499038806,1678032.638686008 1335179.2512636392,1678025.791674821 1335181.0098256327,1678018.939762409 1335181.070028656,1678012.7789227082 1335181.1302316792,1678006.6180830074 1335179.9895428184,1677999.9524171418 1335175.0497263356,1677994.6394893487 1335170.109909853,1677989.331462781 1335170.1606071356,1677983.1608206301 1335170.2113044183,1677976.9999809293 1335170.0116838675,1677968.7610218704 1335168.440068104,1677962.477651547 1335166.8716209205,1677956.1991824484 1335166.4913913005,1677950.4108358403 1335166.1016559396,1677944.6322916816 1335160.170073864,1677941.2798538492 1335154.2416603686,1677937.9421196915 1335145.0115863376,1677939.6722520816 1335142.0014351774,1677946.4212387707 1335139.0007897578,1677953.16042301 1335133.2086252095,1677958.4488446782 1335127.410123501,1677963.7323651218 1335124.8213935033,1677965.1684240177 1335122.0995831385,1677968.231689581 1335117.2706669616,1677964.4283390576 1335112.4385822045,1677960.6298897592 1335111.1806558776,1677965.5311146604 1335109.9195609705,1677970.4421420116 1335104.738932395,1677975.632539182 1335099.5614723994,1677980.8180351274 1335094.3808438238,1677986.0084322977 1335087.0392435733,1677989.821585271 1335079.7008119028,1677993.6200345694 1335072.3497059117,1677997.4282863177 1335065.0112742411,1678001.231636841 1335057.6696739907,1678005.0300861394 1335051.6398659297,1678010.171471061 1335045.6195636096,1678015.2981523075 1335039.5992612892,1678020.439537229 1335030.819125642,1678021.9099046993 1335022.0516643156,1678023.3802721696 1335013.281034409,1678024.8408371902 1335003.8006425446,1678024.0909497803 1334994.3202506802,1678023.3410623705 1334984.8398588158,1678022.5911749606 1334975.5305702805,1678022.8313349807 1334966.2307874858,1678023.0812974507\" opacity=\"0.8\" /><polyline fill=\"none\" stroke=\"#66cc99\" stroke-width=\"35.288784000004334\" points=\"1334938.058941207,1678190.379708229 1334944.769994004,1678186.169556039 1334951.481046801,1678181.9692062987 1334958.1889310179,1678177.7688565583 1334966.8613349393,1678175.2202196096 1334975.5305702805,1678172.6813851108 1334981.7885161135,1678177.6904369597 1334988.059136267,1678182.6994888089 1334989.0604076004,1678191.6099156793 1334990.0616789337,1678200.5301449995 1334989.1206106236,1678207.401662311 1334988.1795423136,1678214.2682783976 1334987.2416425836,1678221.1397957092 1334986.7188268558,1678229.5797049892 1334986.1991797083,1678238.0098118193 1334993.619994463,1678238.9900567995 1335001.0408092178,1678239.96049933 1335008.4616239725,1678240.9309418604 1335015.6194465733,1678237.7206395501 1335022.7804377545,1678234.5103372398 1335029.950934676,1678231.2902324796 1335037.1087572768,1678228.0799301693 1335045.8698814427,1678224.0021110515 1335054.6405113495,1678219.9291931586 1335063.4016355155,1678215.8513740408 1335072.1690968422,1678211.768653698 1335080.7908034807,1678209.9993115086 1335089.4093415393,1678208.2201668695 1335098.031048178,1678206.4508246803 1335105.6388091627,1678204.3481991976 1335113.2497387277,1678202.2602773898 1335120.8606682927,1678200.157651907 1335127.8410504041,1678193.658627688 1335134.8214325153,1678187.1694059188 1335138.310039281,1678180.709591499 1335141.8113203673,1678174.259579529 1335145.299927133,1678167.799765109 1335149.3905641306,1678160.0999407894 1335153.4685268074,1678152.4001164695 1335157.559163805,1678144.6904896998 1335161.5008775347,1678137.24062785 1335165.4394226845,1678129.7809635503 1335168.249953294,1678121.8703865597 1335171.0604839034,1678113.9598095692 1335175.0402205952,1678105.2307280202 1335179.0104515464,1678096.4918440212 1335182.9806824976,1678087.7480587976 1335186.9509134488,1678079.0091747986\" opacity=\"0.8\" /><polyline fill=\"none\" stroke=\"#66cc99\" stroke-width=\"35.288784000004334\" points=\"1333062.3513702326,1681137.0500323197 1333059.4711308593,1681137.5793646092 1333057.4590824523,1681138.2704373202 1333052.2404309146,1681143.7990190089 1333047.0312851176,1681149.3177982476 1333041.8094649997,1681154.8512811612 1333040.8715652698,1681162.2717356614 1333039.9304969597,1681169.7019926119 1333038.9894286497,1681177.132249562 1333038.038854599,1681184.5625065123 1333040.2093320147,1681190.9488025587 1333042.37980943,1681197.3498022796 1333044.5502868455,1681203.7409995508\" opacity=\"0.8\" /><polyline fill=\"none\" stroke=\"#66cc99\" stroke-width=\"35.288784000004334\" points=\"1334511.339912744,1682018.599046729 1334518.1586972668,1682015.2024978725 1334519.2835432265,1682014.638857009 1334524.9711446292,1682011.801047791 1334531.789929152,1682008.4094001593 1334539.6511765502,1682006.1499354797 1334547.499749628,1682003.8904708005 1334555.360997026,1682001.6408085707 1334563.2190758442,1681999.3813438914 1334571.5112501453,1681995.8083509384 1334579.8097616069,1681992.25006166 1334588.1114416486,1681988.6819699318 1334596.4004473696,1681985.1187794288 1334601.7806964957,1681977.4091526591 1334607.1514398814,1681969.7093283392 1334612.5285204276,1681962.0095040195\" opacity=\"0.8\" /><polyline fill=\"none\" stroke=\"#66cc99\" stroke-width=\"35.288784000004334\" points=\"1334563.070152576,1681621.6684468782 1334564.4991822322,1681613.8215858114 1334565.940886209,1681605.96002107 1334566.6411424263,1681599.1277135576 1334567.3413986433,1681592.2905048204 1334568.0194747995,1681585.4385924086 1334568.7007195358,1681578.5817787717 1334570.4307643077,1681572.9796787095 1334572.1513033393,1681567.392282322 1334572.8388852358,1681560.5305674605 1334573.5201299721,1681553.6688525986 1334572.8515595566,1681548.8705534204 1334568.2286010906,1681541.7588760888 1334563.5993054644,1681534.652099982 1334558.970009838,1681527.5404226503 1334554.3407142118,1681520.4287453187 1334552.4110488892,1681512.7877356976 1334550.4908893069,1681505.1516273015 1334548.5612239842,1681497.5106176804 1334547.6708529568,1681490.242101152 1334546.78998767,1681482.9686833986 1334546.4097580498,1681473.3083691183 1334546.0295284295,1681463.648054838 1334545.6492988092,1681453.9877405576 1334545.2690691892,1681444.332327502 1334541.9103742104,1681436.01004762 1334538.5516792317,1681427.7024714123 1334535.1898156728,1681419.3899939798 1334531.831120694,1681411.0677140974 1334528.4692571354,1681402.76013789 1334525.379891471,1681393.531131401 1334522.2905258066,1681384.302124912 1334519.2011601422,1681375.0584147482 1334516.1086258977,1681365.8294082591 1334513.0192602333,1681356.6004017703 1334511.9387743957,1681350.5179816678 1334510.8614571386,1681344.4502652402\" opacity=\"0.8\" /><polyline fill=\"none\" stroke=\"#66cc99\" stroke-width=\"35.288784000004334\" points=\"1335435.26303552,1680169.6560637658 1335435.6084107584,1680165.573343423 1335439.3758525788,1680121.2025543922 1335439.8194538024,1680116.002354772 1335440.2377063846,1680111.037413947 1335441.1724375344,1680100.0586701683 1335441.4892955513,1680096.3190355687 1335441.7427819646,1680093.3341896038 1335443.0514055744,1680077.9100348398 1335443.1591373,1680076.6406175902 1335443.2446889647,1680075.6260640358 1335448.6946468547,1680011.4690300787 1335449.0115048715,1680007.7588028284 1335449.6198722639,1680000.5687058982 1335450.2314082363,1679993.3786089683 1335440.3707867516,1679991.9719574216 1335430.5101652672,1679990.5506022002 1335421.711018139,1679987.3991145887 1335412.9087024305,1679984.2378245275 1335404.100049562,1679981.0912381408 1335395.300902434,1679977.9299480796 1335390.6399210058,1679970.6810364507 1335385.9694338373,1679963.422322372 1335381.2989466689,1679956.1685095183 1335375.0093150341,1679948.8411782908 1335368.7196833997,1679941.5089458385 1335364.331199866,1679933.6914921212 1335359.9395477525,1679925.8789396286 1335355.551064219,1679918.061485911 1335351.1594121053,1679910.2391309687 1335349.6796851666,1679902.1178013075 1335348.1904524874,1679894.001372871 1335344.4705393694,1679886.708350218 1335340.7506262516,1679879.41042634 1335337.768992313,1679870.4509872205 1335334.7905269545,1679861.501350551 1335331.8215673366,1679852.5517138813 1335328.839933398,1679843.6020772117 1335330.3893691003,1679835.4121304017 1335331.9388048027,1679827.212381142 1335333.4914090855,1679819.022434332 1335335.0408447878,1679810.8324875222 1335336.5902804902,1679802.6425407121 1335338.1397161926,1679794.4476926774 1335339.670140414,1679787.3507190202 1335341.2005646355,1679780.2488441383 1335342.7309888569,1679773.1518704814 1335344.7113514622,1679763.9816786912 1335346.6885454876,1679754.8016844513 1335348.6815824136,1679745.6216902114 1335350.6587764388,1679736.4514984211 1335355.269060584,1679730.0799060494 1335359.8793447292,1679723.6985112282 1335364.4896288745,1679717.3318200815 1335369.09991302,1679710.9602277097 1335378.051151996,1679711.8816579913 1335386.9992223922,1679712.8079894977 1335387.7089843499,1679707.6715058011 1335388.4092405671,1679702.5399233296 1335387.4396550355,1679697.452451882 1335386.470069504,1679692.3600792098 1335386.8598048647,1679684.0721079018 1335388.4504321094,1679678.401390691 1335390.0505650945,1679672.7208710306 1335392.0594449213,1679665.011244261 1335394.4897459107,1679658.6886641383 1335396.9295526405,1679652.3709852407 1335390.0505650945,1679645.798442648 1335383.1715775486,1679639.2308012804 1335381.3908354938,1679634.4521070018 1335374.9807978128,1679631.3986438883 1335367.1607419567,1679630.5311270808 1335359.3501918411,1679629.668511498\" opacity=\"0.8\" /><polyline fill=\"none\" stroke=\"#66cc99\" stroke-width=\"35.288784000004334\" points=\"1335219.7900783161,1679489.5817013714 1335217.0397507297,1679492.919435529 1335215.9497591518,1679499.4919781215 1335214.8597675737,1679506.0498170394 1335213.7697759958,1679512.622359632 1335208.5986531605,1679516.8717216214 1335203.4402046462,1679521.1210836107 1335194.701260541,1679520.3221839517 1335185.9686535967,1679519.5281855178 1335183.7316359975,1679512.8625196521 1335181.4914498185,1679506.2017550112 1335177.910954228,1679501.168197038 1335174.3304586373,1679496.139540289 1335168.4685853256,1679490.341391231 1335162.6003748532,1679484.528538498 1335157.1789341848,1679480.4801267297 1335151.7511563562,1679476.4219125116 1335142.5495995465,1679474.9417425913 1335133.351211317,1679473.4517702213 1335126.4215264884,1679472.7606975103 1335119.4886730795,1679472.0598223493 1335113.1293326812,1679471.4324655621 1335106.7794980234,1679470.7904051 1335098.5792125473,1679469.2416180312 1335090.3916013916,1679467.6879297376 1335082.1913159152,1679466.1293402188 1335081.3009448878,1679475.1819026114 1335080.40106812,1679484.2295637792 1335079.5106970926,1679493.2821261717 1335080.0113327594,1679502.0210101707 1335080.5087998458,1679510.7500917197 1335081.018941253,1679519.4889757186 1335081.5195769195,1679528.2180572676 1335082.0202125863,1679536.9618424915 1335079.45999981,1679545.2988260484 1335076.8902812933,1679553.6407108302 1335074.330068517,1679561.992398062 1335071.7603500003,1679570.3293816189 1335072.2768285677,1679570.8048004343 1335077.3592311582,1679575.441359191 1335082.9612808963,1679580.538633088 1335088.5601620541,1679585.6506106602 1335096.5608269798,1679589.488269758 1335104.5614919055,1679593.3308300804 1335112.5494825104,1679597.1586867282 1335115.828962985,1679604.3487836584 1335119.098937719,1679611.5388805885 1335122.3689124528,1679618.7289775186 1335125.6388871868,1679625.9190744488 1335123.1895747166,1679634.8589086684 1335120.7307565056,1679643.8085453382 1335118.2814440355,1679652.748379558 1335116.3295986515,1679660.5805369501 1335114.380921848,1679668.4077931175 1335112.4290764641,1679676.2399505095 1335110.4803996603,1679684.0721079018 1335117.5811878182,1679689.3311222207 1335124.6788073957,1679694.58033409 1335131.789101294,1679699.8295459591 1335133.3005140345,1679707.4117408814 1335134.8087581948,1679714.9988370284 1335136.3296766756,1679722.5810319507 1335137.841089416,1679730.158325648 1335137.0616186946,1679737.7209156705 1335136.278979393,1679745.2786044683 1335135.4995086715,1679752.841194491 1335139.381019378,1679760.0312914208 1335143.2593615043,1679767.231190801 1335147.1408722107,1679774.4310901808 1335150.1098318289,1679783.0621472318 1335153.0787914468,1679791.688303058 1335156.0509196448,1679800.3291625588 1335156.9096048705,1679808.9602196098 1335157.780964417,1679817.5912766608 1335158.6396496426,1679826.222333712 1335159.5015034485,1679834.848489538 1335164.358936847,1679843.3080037176 1335169.210033085,1679851.7822215718 1335170.7404573064,1679859.3497128193 1335172.2613757874,1679866.9221052916 1335173.7791256881,1679874.4797940894 1335175.300044169,1679882.0521865617 1335177.781042441,1679891.4282297979 1335180.2588721327,1679900.799371809 1335185.2715659596,1679907.7493087188 1335190.281091206,1679914.7090480786 1335195.2906164525,1679921.6589849887 1335200.3001416991,1679928.6187243483 1335205.300161205,1679935.5686612583 1335210.3096864517,1679942.5284006181 1335218.060033544,1679948.6206231702 1335225.8103806362,1679954.7079444977 1335233.5607277288,1679960.7903646 1335236.269863773,1679967.9020419316 1335238.9916741375,1679974.9990155885 1335241.7008101817,1679982.1008904704 1335244.4194519664,1679989.1978641276 1335243.529080939,1679998.2210191707 1335242.6513842323,1680007.2294705391 1335241.761013205,1680016.2477243573 1335232.8097742288,1680019.9481491577 1335223.8585352525,1680023.6485739583 1335214.9104648563,1680027.3489987587 1335205.9497201396,1680031.0396211094 1335196.0415699526,1680030.0495736792 1335186.1207454447,1680029.059526249 1335176.199920937,1680028.0694788191 1335166.2886021696,1680027.079431389 1335160.28097417,1680026.4814819512 1335156.370946242,1680026.089383959 1335147.4894160293,1680027.9616518712 1335138.6205601376,1680029.8388210086 1335129.739029925,1680031.7208913704 1335120.8606682927,1680033.5980605078 1335111.97913808,1680035.47032842 1335104.8213154792,1680038.7492478788 1335097.6603242983,1680042.018364888 1335090.4993331174,1680045.3021855718 1335083.3415105166,1680048.5713025809\" opacity=\"0.8\" /><polyline fill=\"none\" stroke=\"#66cc99\" stroke-width=\"35.288784000004334\" points=\"1334947.5393330713,1680111.3020800918 1334942.9512289872,1680118.0118569816 1334938.359956323,1680124.7118314216 1334933.7686836587,1680131.4118058614 1334929.1805795745,1680138.1117803014 1334928.9397674818,1680140.4496645792 1334932.8307839287,1680147.659366409 1334936.709126055,1680154.8690682387 1334940.6001425022,1680162.0787700685 1334942.269984251,1680165.176344206 1334944.4911589492,1680169.288471898 1334949.240860622,1680175.0915221812 1334953.9905622946,1680180.8896712393 1334958.7402639673,1680186.6878202974 1334962.4411656042,1680195.4218030714 1334966.1515729816,1680204.1606870703 1334969.8493060383,1680212.8897686196 1334975.4893787384,1680217.2714636812 1334981.119945698,1680221.6384550682 1334986.760018398,1680226.02015013 1334993.8196150137,1680229.5686369583 1335000.8792116293,1680233.1220250118 1335007.938808245,1680236.68031429 1335015.0015734406,1680240.2288011184\" opacity=\"0.8\" /><polyline fill=\"none\" stroke=\"#66cc99\" stroke-width=\"35.288784000004334\" points=\"1335218.1709338499,1680280.10026569 1335210.6297130487,1680273.5424267722 1335203.0916608276,1680266.9698841795 1335195.5504400264,1680260.4120452618 1335188.0092192253,1680253.849305119 1335180.4806727446,1680247.2816637512 1335172.9394519434,1680240.7189236085 1335165.4013997223,1680234.1512822409 1335166.9793526463,1680225.961335431 1335168.5604741503,1680217.7615861713 1335170.151101395,1680209.5618369116 1335171.729054319,1680201.3718901016 1335173.310175823,1680193.1721408418 1335174.8912973274,1680184.972391582 1335181.4502582762,1680179.2085510981 1335187.9997134847,1680173.4496118394 1335194.5491686931,1680167.6808701304 1335201.0986239016,1680161.9219308717 1335207.6607534308,1680156.1580903877 1335214.0802968522,1680150.889273619 1335220.4998402738,1680145.6204568502 1335226.9193836953,1680140.3516400813 1335233.338927117,1680135.0779220876 1335239.748964798,1680129.8091053187 1335249.070927654,1680128.4220586717 1335258.3707104486,1680127.0301107997 1335267.6799989839,1680125.628360478 1335276.8213527703,1680126.0400633698 1335285.950032236,1680126.4517662614 1335295.0913860223,1680126.8585679282 1335304.220065488,1680127.27027082 1335313.3487449537,1680127.6819737116 1335322.1098691197,1680128.5200831697 1335330.8614875453,1680129.348390178 1335339.6099373908,1680130.1914008611 1335348.371061557,1680131.0197078693 1335357.1195114024,1680131.8578173274 1335364.9015442964,1680132.6077047375 1335365.871129828,1680132.7008280104 1335374.629085414,1680133.5291350188 1335382.9814627385,1680137.0580169477 1335391.340177223,1680140.5918001016 1335399.698891708,1680144.1206820305 1335408.0607747727,1680147.6495639593 1335416.4194892575,1680151.1784458882 1335422.6996151516,1680157.339285589 1335428.9797410457,1680163.50012529 1335435.26303552,1680169.6560637658\" opacity=\"0.8\" /><polyline fill=\"none\" stroke=\"#66cc99\" stroke-width=\"35.288784000004334\" points=\"1333437.2799558402,1681506.7690315188 1333417.409789603,1681507.0385988886 1333409.3140672722,1681510.6115918416 1333403.4490253802,1681513.1994385894 1333392.6505041658,1681522.5215683514 1333390.8190648283,1681530.3684294182 1333385.4895129846,1681545.969028279 1333376.170718709,1681570.0977584675 1333351.908900358,1681572.5777782677 1333343.1287647109,1681559.3493722593 1333333.5691583424,1681545.219140869 1333328.280798041,1681536.441047071 1333321.5602395034,1681517.8899108197 1333307.4885749747,1681489.992138682 1333289.9092921994,1681475.7099693199 1333278.7590585863,1681471.97033472 1333277.0797110968,1681471.8478040977 1333248.2012714404,1681479.8907141606 1333233.4705422367,1681496.9224706923 1333208.0807093459,1681501.0787094086 1333185.529924286,1681503.2597544896 1333168.7713037746,1681501.2306473805 1333167.4341629434,1681501.2453510552 1333162.1616455428,1681501.299264529\" opacity=\"0.8\" /><polyline fill=\"none\" stroke=\"#66cc99\" stroke-width=\"35.288784000004334\" points=\"1333273.4200010023,1681671.102201232 1333279.1012652444,1681676.5278571977 1333284.7793609065,1681681.9584143884 1333293.8193201276,1681683.262140212 1333302.849773608,1681684.551162361 1333311.8897328288,1681685.84018451 1333320.9201863094,1681687.129206659 1333329.9601455303,1681688.418228808\" opacity=\"0.8\" /><polyline fill=\"none\" stroke=\"#66cc99\" stroke-width=\"35.288784000004334\" points=\"1333127.598773064,1678801.9300452794 1333133.9010790193,1678794.2498258592 1333140.2002163944,1678786.569606439 1333148.0012607696,1678781.4723325418 1333155.808642305,1678776.3603549697 1333162.4499863381,1678772.081585631 1333169.0913303716,1678767.7979150673 1333175.7390115652,1678763.5191457286 1333183.2390408244,1678758.7502538997 1333190.7485758238,1678753.971559621 1333198.2612794035,1678749.1879641174 1333204.7315201077,1678745.4483295179 1333211.1985922318,1678741.708694918 1333217.668832936,1678737.9788627683 1333225.3716513258,1678734.5921163615 1333233.0713011355,1678731.20046873 1333240.770950945,1678727.8186235481 1333250.3400630543,1678726.338453628 1333259.918680904,1678724.8582837076 1333269.5004673337,1678723.3879162373 1333279.0790851833,1678721.9077463173 1333288.6513658725,1678720.4422800718 1333296.9403715935,1678720.9520074616 1333305.2293773147,1678721.4617348511 1333313.5215516158,1678721.9812646906 1333321.8105573368,1678722.4909920804 1333329.370789619,1678720.9176988872 1333336.9215161607,1678719.3591093686 1333344.4690741224,1678717.7907174001 1333343.5311743924,1678712.2621357115 1333342.5901060824,1678706.728652798 1333343.0685616878,1678698.19071902 1333343.5596916138,1678689.6380815676 1333343.9494269746,1678682.6293299587 1333344.3391623353,1678675.6107759003 1333344.7288976961,1678668.5922218417 1333349.8715033098,1678663.2302817998 1333355.0014346025,1678657.868341758 1333360.140871636,1678652.5113029408 1333363.388666309,1678652.7514629608 1333358.4393440855,1678645.3996256092 1333353.4805161217,1678638.062491932 1333348.5311938983,1678630.72045703 1333344.6116602297,1678622.329559999 1333340.688957981,1678613.9484654178 1333336.7694243125,1678605.5722720618 1333333.6705529077,1678597.2303872798 1333330.5811872433,1678588.8983049477 1333327.4886529988,1678580.5711238405 1333326.420841482,1678570.9794267088 1333325.349861385,1678561.402433252 1333326.2212209315,1678551.482354052 1333327.0989176382,1678541.5720773016 1333327.9702771844,1678531.6618005512 1333321.0786153178,1678528.1917333212 1333314.1806162908,1678524.7216660911\" opacity=\"0.8\" /><polyline fill=\"none\" stroke=\"#66cc99\" stroke-width=\"35.288784000004334\" points=\"1332881.919741113,1678620.0798977693 1332905.1295908478,1678620.4719957614 1332929.2488230912,1678625.9711701006 1332949.8002340645,1678640.037685567 1332975.3009672612,1678643.9488630383 1332993.4601002072,1678643.9782703877 1333006.159769523,1678643.62048097 1333017.9912478726,1678643.6302834197 1333029.5312168465,1678647.8110282605 1333030.35187911,1678648.1786201282 1333049.5914978937,1678656.7998747292 1333074.6993271497,1678660.2699419593 1333095.9288142791,1678658.8289818384 1333126.188754889,1678655.0991496886 1333149.1292753094,1678653.3690172986 1333153.0012802754,1678652.3789698684 1333159.9594823257,1678643.6302834197 1333164.9595018318,1678620.8591925288 1333165.976616066,1678612.9241094135 1333167.7890439222,1678598.7889767985 1333178.6192509385,1678583.1589705884 1333199.6712975786,1678584.2421412915 1333203.0394982977,1678583.178575488 1333224.7315981318,1678576.3511692006 1333234.0915839497,1678563.5589722085 1333236.898945979,1678553.6781028076 1333237.4090873862,1678552.4478953574 1333237.9002173124,1678549.1542722238 1333241.4395213607,1678525.4225412519 1333247.3013946726,1678520.3693783788 1333257.944655459,1678517.433544663 1333266.6899367243,1678515.0221420117 1333290.7204487226,1678521.7711287006 1333305.6412927364,1678525.7803306698 1333314.1806162908,1678524.7216660911\" opacity=\"0.8\" /><polyline fill=\"none\" stroke=\"#66cc99\" stroke-width=\"35.288784000004334\" points=\"1333314.1806162908,1678524.7216660911 1333312.6501920694,1678516.531719281 1333311.119767848,1678508.351574921 1333311.0595648247,1678500.7301701996 1333310.989856061,1678493.1087654782 1333310.9296530378,1678485.4922619816 1333310.8599442742,1678477.8806597102 1333317.700908858,1678471.239499969 1333324.538704862,1678464.6081426775 1333322.2604957207,1678464.1278226373 1333312.4790887402,1678464.2013410109 1333302.6913445995,1678464.2601557097 1333292.9004318786,1678464.3287728583 1333283.1190248982,1678464.4022912318 1333274.804670536,1678467.5488776183 1333274.0093569136,1678467.8478523372 1333264.9091946695,1678471.2983146678 1333255.7995266847,1678474.7487769981 1333246.6993644405,1678478.2090417785 1333237.589696456,1678481.6595041088 1333233.7493772916,1678482.8406993102 1333225.4096742878,1678485.4187436083 1333217.0604655438,1678487.9918866814 1333208.7112567995,1678490.5699309793 1333200.3715537959,1678493.1381728277 1333193.590792235,1678496.7503755798 1333186.8100306743,1678500.372380782 1333180.0292691134,1678503.979682309 1333173.251676133,1678507.6016875112 1333168.7586294538,1678514.659451369 1333164.268751355,1678521.7319189014 1333159.7788732562,1678528.7896827592 1333155.2889951572,1678535.8523478417 1333150.7991170583,1678542.9101116995 1333146.3092389596,1678549.9776780072 1333141.299713713,1678557.1579724874 1333136.2901884664,1678564.3480694175 1333131.2901689603,1678571.5381663477 1333126.280643714,1678578.7282632778 1333119.9498205371,1678583.0021313915 1333113.61899736,1678587.2710982806 1333107.278668443,1678591.5400651696 1333099.8103249855,1678592.358569728 1333092.338812948,1678593.1917779613 1333084.8609637502,1678594.0200849695 1333075.2506600989,1678594.4219854116 1333065.6308507072,1678594.8189846284 1333056.0205470559,1678595.2208850703 1333046.400737664,1678595.6178842874 1333037.1104606097,1678599.1124576419 1333027.829689296,1678602.5923273219 1333018.279588668,1678604.6606442302 1333008.7199822993,1678606.7387635882 1332999.1698816712,1678608.8217841713 1332989.619781043,1678610.8999035293 1332980.0696804149,1678612.9780228874 1332970.5100740462,1678615.0610434704 1332960.9092761355,1678613.698502948 1332952.6994849187,1678612.5418138714 1332944.4801879614,1678611.37042112 1332941.9801782083,1678608.1307114603 1332936.0485961328,1678600.44068959 1332930.129688378,1678592.7604701698 1332924.2012748825,1678585.0704482999 1332918.269692807,1678577.38042643 1332914.3216419169,1678569.4698494393 1332910.3609167063,1678561.5494699988 1332906.4001914954,1678553.6388930082 1332902.4394662848,1678545.718513568 1332898.4914153947,1678537.8079365774\" opacity=\"0.8\" /><polyline fill=\"none\" stroke=\"#66cc99\" stroke-width=\"35.288784000004334\" points=\"1333968.650850111,1679875.9109517606 1333962.5196474846,1679881.3219040516 1333956.4011191793,1679886.7279551176 1333950.2794222936,1679892.1487098583 1333944.160893988,1679897.5596621493 1333938.0296913618,1679902.98041689 1333932.5290361892,1679910.4204762902 1333927.1012583603,1679916.8508833605 1333924.8483978605,1679919.5073472569 1333921.660806211,1679923.271487981 1333913.5112180174,1679927.0209250306 1333905.3711355643,1679930.7801645298 1333896.3501878243,1679932.2015197512 1333887.3292400844,1679933.6179737477 1333878.2702693823,1679934.6325273023 1333869.2112986804,1679935.632377182 1333860.1586651388,1679936.6420295117 1333853.279677593,1679936.1519070216 1333846.4006900468,1679935.6617845313 1333839.5185339206,1679935.1814644912 1333831.178830917,1679932.9318022614 1333822.8296221728,1679930.6919424816 1333815.8904316036,1679929.0990443886 1333808.960746775,1679927.501245071 1333802.0215562056,1679925.908346978 1333793.738887645,1679925.5995698092 1333785.468893405,1679925.2809901906 1333777.198899165,1679924.972213022 1333768.7102728933,1679925.7417053313 1333760.2216466218,1679926.5111976408 1333751.72985177,1679927.2904924 1333744.530837627,1679927.4620352716 1333737.3286549037,1679927.638479368 1333730.1296407608,1679927.8100222396 1333722.5503969975,1679927.4081217977 1333714.9711532344,1679927.0111225809 1333707.4014152116,1679926.6092221388 1333699.9203974335,1679926.7709625605 1333692.4393796555,1679926.9179993076 1333684.971036198,1679927.0797397294 1333675.8486938928,1679923.9576594674 1333666.7390259083,1679920.84048043 1333662.8796952628,1679913.9591606688 1333659.010858877,1679907.0778409075 1333656.8910787443,1679897.9909699406 1333654.7712986115,1679888.8991977489 1333652.6515184788,1679879.812326782 1333648.7193104895,1679870.8577888873 1333644.7902710803,1679861.9179546675 1333640.8612316714,1679852.9781204478 1333639.8187687958,1679852.2723440619\" opacity=\"0.8\" /><polyline fill=\"none\" stroke=\"#66cc99\" stroke-width=\"35.288784000004334\" points=\"1333639.8187687958,1679852.2723440619 1333634.2103818976,1679848.4689935385 1333628.5893206785,1679844.68034669 1333619.21982912,1679845.2488887785 1333609.8503375615,1679845.8223320919 1333606.1811217263,1679850.7186557683 1333602.5214116315,1679855.6100782198 1333598.639900925,1679863.4520380616 1333594.7710645392,1679871.2890966788 1333590.8895538328,1679879.1310565206 1333585.6392164933,1679885.9780677077 1333580.3793734135,1679892.8299801196 1333573.9915157936,1679895.2609876706 1333571.1397936419,1679888.60022303 1333568.3007458108,1679881.9296559393 1333565.449023659,1679875.2590888487 1333563.040902731,1679868.348361738 1333560.6201074822,1679861.442535852 1333558.208817974,1679854.5318087414 1333554.089663755,1679848.2484384181 1333549.9800152762,1679841.9797717694 1333545.860861057,1679835.7013026709 1333543.6840464813,1679832.3880746376 1333541.7385382578,1679829.4277347974 1333532.6985790369,1679825.281298531 1333523.6586198157,1679821.1299610396 1333515.749843715,1679821.5318614815 1333507.8410676143,1679821.9288606986 1333499.9386286738,1679822.3307611404 1333491.5292169063,1679823.9285604581 1333483.119805139,1679825.5410634507 1333474.7103933715,1679827.1388627684 1333468.0215206358,1679830.79027532 1333461.3294793197,1679834.4416878712 1333460.6418974232,1679835.3386120282 1333456.44986586,1679840.8279839177 1333451.579758141,1679847.2289836386 1333446.7001446814,1679853.6201809098 1333442.9612200824,1679859.5408605905 1333439.2191269032,1679865.471342721 1333435.4802023044,1679871.3920224016 1333428.6899350032,1679877.5087510783 1333421.8901619613,1679883.63038098 1333415.09989466,1679889.7520108817 1333407.1816128187,1679893.8886446983 1333399.250656657,1679898.0301797397 1333391.3197004949,1679902.1717147813 1333383.4014186535,1679906.308348598 1333375.4704624917,1679910.4498836396 1333368.0306362559,1679914.5620113316 1333360.5813042794,1679918.6790402487 1333353.128803723,1679922.7911679407 1333345.6889774872,1679926.898394408 1333340.3816057048,1679932.9219998117 1333335.0805710827,1679938.9407039904 1333329.7795364608,1679944.9594081691 1333324.4816704188,1679950.9781123477 1333318.8099119172,1679957.8986419083 1333313.1286476748,1679964.8191714687 1333307.4600577534,1679971.7397010294 1333301.778793511,1679978.6602305898 1333297.5297275048,1679983.9976645072 1333293.280661499,1679989.3399996497 1333289.0315954927,1679994.6725323421 1333284.46884005,1680000.5392985488 1333279.8997474469,1680006.4011635308 1333274.9504252237,1680013.8902351798 1333269.9915972599,1680021.379306829 1333265.0391064563,1680028.868378478 1333264.54163937,1680035.8477227374 1333264.0505094437,1680042.8319682216 1333263.549873777,1680049.811312481 1333266.9212430764,1680057.8885311182 1333270.2894437956,1680065.9608485305 1333275.6601871813,1680072.1216882314 1333276.9909908522,1680073.6508704005 1333296.1704066126,1680079.1500447397 1333313.7908809301,1680083.3111846808 1333331.6394930198,1680089.9621468717 1333340.3816057048,1680095.9710486007 1333343.2111477954,1680100.8624710522\" opacity=\"0.8\" /><polyline fill=\"none\" stroke=\"#66cc99\" stroke-width=\"35.288784000004334\" points=\"1335481.3595398124,1679626.7816900313 1335481.426079996,1679625.9876915973 1335483.94510123,1679596.3401821698 1335484.1003616583,1679594.5120252816 1335484.223936285,1679593.0465590362 1335485.9634867974,1679572.559438949 1335487.4305394155,1679555.3218309714 1335481.990087266,1679547.9699936195 1335476.559140857,1679540.6181562678 1335471.1313630282,1679533.2810225906 1335465.7004166194,1679525.9389876886 1335461.8696031955,1679518.6900760597 1335458.0292840311,1679511.4411644307 1335454.2016391875,1679504.2020552517 1335452.6205176834,1679497.1687975184 1335451.0489019197,1679490.1502434597 1335449.4804547364,1679483.1316894013 1335444.6610443,1679476.2699745395 1335439.8416338635,1679469.408259678 1335435.019054847,1679462.551446041 1335430.1996444105,1679455.6897311793 1335425.3897397146,1679448.8280163177 1335416.0487653776,1679446.0882315978 1335406.7109596208,1679443.348446878 1335397.3604795435,1679440.5988597085 1335388.0290109469,1679437.8590749886 1335378.69120519,1679435.1192902687 1335373.0099409479,1679431.438470368 1335367.3413510262,1679427.757650467 1335361.6695925244,1679424.0817317914 1335354.2392720291,1679422.2486736781 1335346.8089515339,1679420.4107143404 1335339.3786310386,1679418.5776562272 1335331.9388048027,1679416.7396968892 1335326.4191381491,1679415.6908347604 1335320.889965755,1679414.6321701817 1335316.869037521,1679418.2492741589 1335312.851277867,1679421.861476911\" opacity=\"0.8\" /><polyline fill=\"none\" stroke=\"#66cc99\" stroke-width=\"35.288784000004334\" points=\"1335358.6594413645,1679537.1922000619 1335375.9598890848,1679531.82045757 1335391.4986062315,1679534.5700447396 1335407.4587445406,1679554.3121786418 1335420.0094905884,1679574.9708416003 1335434.249089866,1679599.511274681 1335452.9310385399,1679617.0380549277 1335466.5686075855,1679622.081415351 1335474.2397401736,1679624.4781143276 1335481.3595398124,1679626.7816900313\" opacity=\"0.8\" /><polyline fill=\"none\" stroke=\"#66cc99\" stroke-width=\"35.288784000004334\" points=\"1334400.861028006,1681205.079033949 1334401.2095718246,1681214.249225739 1334401.5612842233,1681223.429219979 1334397.1696321096,1681231.5505496403 1334392.7716428358,1681239.6718793018 1334388.3704849815,1681247.798110188 1334383.978832868,1681255.9292422992 1334379.580843594,1681264.0505719604 1334375.1891914802,1681272.1817040716 1334374.2798089718,1681281.19015544 1334373.379932204,1681290.2084092582 1334372.4705496957,1681299.2315643013 1334371.5706729277,1681308.2498181197 1334370.67079616,1681317.2680719378 1334373.3292349214,1681324.1787990485 1334376.0003480033,1681331.0797237095 1334378.6587867648,1681337.9904508202 1334384.298859465,1681343.7493900792 1334389.9516064858,1681349.5083293382 1334395.5916791856,1681355.2819722719 1334402.6892987634,1681355.9583413082 1334409.790086921,1681356.6396115695 1334416.890875079,1681357.3208818308 1334426.3807726838,1681358.2619170118 1334435.8801760292,1681359.2078534176 1334445.3795793746,1681360.1488885987 1334450.8517173259,1681358.2374108871 1334453.8301826841,1681357.1983512081 1334462.2902917343,1681354.2625174923 1334470.7504007844,1681351.3119801017 1334478.7795829317,1681349.9396371294 1334486.7992593383,1681348.5623929321 1334494.818935745,1681347.1900499598 1334502.8386121516,1681345.8177069875 1334510.8614571386,1681344.4502652402\" opacity=\"0.8\" /><polyline fill=\"none\" stroke=\"#66cc99\" stroke-width=\"35.288784000004334\" points=\"1334510.8614571386,1681344.4502652402 1334509.9013773475,1681339.00010315 1334508.9286232356,1681333.5499410597 1334509.7397797587,1681325.399204049 1334510.550936282,1681317.2484670384 1334511.3494184844,1681309.0977300275 1334517.2810005601,1681301.7507939006 1334523.2094140553,1681294.389154099 1334529.140996131,1681287.042217972 1334535.0694096265,1681279.6903806203 1334536.210098487,1681273.0198135297 1334537.3602930882,1681266.3394439893 1334538.500981949,1681259.6688768987 1334540.6904708454,1681252.1209905508 1334542.879959742,1681244.568202978 1334545.0694486385,1681237.0203166301 1334545.231046227,1681229.732195202 1334545.3894752355,1681222.439172549 1334545.5605785646,1681215.1510511208 1334544.480092727,1681213.3817089314\" opacity=\"0.8\" /><polyline fill=\"none\" stroke=\"#66cc99\" stroke-width=\"35.288784000004334\" points=\"1334467.920858694,1680943.2605009503 1334459.9613853104,1680945.4807558304 1334451.9892376063,1680947.7010107108 1334444.029764223,1680949.921265591 1334436.0702908393,1680952.1415204713 1334430.3193178333,1680951.5778796077 1334424.581019148,1680951.019139969 1334419.8503289565,1680945.0396455894 1334415.1101330242,1680939.05034876 1334410.3794428324,1680933.0708543807 1334408.003007706,1680927.5275690174 1334406.8306330438,1680924.7877842975 1334403.2913289955,1680916.5194178892 1334399.7488563668,1680908.2510514809 1334398.208926405,1680899.8111422008 1334396.668996443,1680891.371232921 1334395.1385722216,1680882.931323641 1334393.5986422596,1680874.4914143612\" opacity=\"0.8\" /><polyline fill=\"none\" stroke=\"#66cc99\" stroke-width=\"35.288784000004334\" points=\"1334044.230992872,1681218.4495754794 1334050.168912108,1681213.7591032488 1334056.1099999242,1681209.0686310185 1334062.5992521094,1681208.3285460584 1334069.1011786154,1681207.598263548 1334077.8813142625,1681207.0885361584 1334086.6614499094,1681206.5788087687 1334095.0201643943,1681205.569156439 1334103.3915531996,1681204.5693065592 1334110.9486169016,1681202.6088165985 1334118.508849184,1681200.6385241884 1334125.7807406709,1681196.791062641 1334133.039957837,1681192.9386998685 1334134.7700026091,1681184.9399008297 1334136.2085380056,1681179.1319493218 1334143.0716826508,1681176.98031159 1334149.9316587157,1681174.8384763084 1334156.7916347808,1681172.7015422513 1334164.3993957655,1681168.4619827117 1334172.0103253303,1681164.2224231723 1334178.6706808447,1681158.4389777887 1334185.331036359,1681152.6506311805 1334191.9913918735,1681146.862284572 1334198.6485788077,1681141.069036739 1334205.8190757292,1681137.4813401112 1334212.9895726508,1681133.8887422585 1334220.160069572,1681130.3010456308 1334227.3400722342,1681126.718250228 1334235.6512580162,1681122.5424066123 1334243.9687809588,1681118.3616617715 1334250.740036779,1681112.828178858 1334257.5112925994,1681107.2995971695 1334264.2793798395,1681101.7710154809\" opacity=\"0.8\" /><polyline fill=\"none\" stroke=\"#66cc99\" stroke-width=\"35.288784000004334\" points=\"1334449.9106490158,1682743.2892593993 1334459.879002226,1682744.0195419095 1334469.841018276,1682744.7498244199 1334479.8093714863,1682745.48010693 1334489.7713875365,1682746.2103894404 1334499.7397407468,1682746.9406719506 1334509.6985882167,1682747.6611520112 1334519.670110007,1682748.3914345214 1334529.6416317977,1682749.1217170318 1334539.6004792675,1682749.851999542 1334549.5688324778,1682750.5822820524 1334559.5308485278,1682751.3076633378 1334569.4992017383,1682752.037945848 1334579.4612177883,1682752.7682283584 1334589.4295709985,1682753.4985108685 1334599.3915870485,1682754.228793379 1334609.359940259,1682754.959075889 1334619.318787729,1682755.6893583995 1334629.2903095193,1682756.4196409096 1334639.2491569892,1682757.14992342 1334649.2206787798,1682757.8802059302 1334659.1795262496,1682758.6104884406 1334669.15104804,1682759.330968501 1334679.10989551,1682760.0612510112 1334689.0814173005,1682760.7915335216 1334699.0402647704,1682761.5218160318 1334709.0086179806,1682762.2520985422 1334718.9706340306,1682762.9823810523 1334728.938987241,1682763.7077623378 1334738.9105090315,1682764.4380448482 1334748.8693565014,1682765.1683273583 1334758.840878292,1682765.8986098687 1334768.7997257616,1682766.6288923789 1334778.7712475522,1682767.3591748893 1334788.7300950221,1682768.0894573994 1334798.7016168127,1682768.8197399098 1334808.6604642824,1682769.55002242 1334818.6288174929,1682770.2705024804 1334828.5908335429,1682771.0007849908\" opacity=\"0.8\" /><polyline fill=\"none\" stroke=\"#66cc99\" stroke-width=\"35.288784000004334\" points=\"1334470.8613010903,1682684.499066709 1334468.1901880081,1682712.0390494291 1334462.8891533862,1682731.7517759819 1334459.9392052493,1682740.2995122096 1334449.9518405579,1682743.2794569496 1334449.9106490158,1682743.2892593993\" opacity=\"0.8\" /><polyline fill=\"none\" stroke=\"#66cc99\" stroke-width=\"35.288784000004334\" points=\"1334435.2686400567,1680841.4277511775 1334437.3313857464,1680832.3604851102 1334430.1006858018,1680827.7190251288 1334422.869985857,1680823.0824663723 1334415.6392859123,1680818.4312039409 1334408.4212602882,1680813.7897439594 1334401.1905603437,1680809.148283978 1334401.8686364996,1680802.2620629917 1334402.5403754953,1680795.3709407807 1334403.2216202316,1680788.4798185695 1334400.861028006,1680780.9025248722 1334398.5004357805,1680773.3301324 1334396.1303378143,1680765.7577399274 1334400.689924677,1680758.4696184993 1334405.2495115395,1680751.1912995211 1334409.809098402,1680743.9080793178 1334418.9504521885,1680743.0503649602 1334428.0791316542,1680742.1877493775 1334437.2204854405,1680741.3300350197 1334446.3586706468,1680740.472320662 1334455.648947701,1680740.7909002807 1334464.9297190148,1680741.1094798993 1334474.219996069,1680741.4280595179 1334483.5102731234,1680741.7515403612 1334492.189014205,1680740.281172891 1334500.870923867,1680738.8010029707 1334509.5591706892,1680737.3208330506 1334509.7144311175,1680732.336287326 1334509.8316685837,1680728.6505662003 1334510.100997898,1680719.98029935 1334502.6104743795,1680718.00020449 1334495.119950861,1680716.0299120797 1334487.6294273424,1680714.0498172196 1334480.138903824,1680712.0795248093 1334481.5204047775,1680703.0906783405 1334482.8892314103,1680694.1116343213 1334488.6497101567,1680687.681227251 1334494.4101889033,1680681.2410177307 1334502.0908272318,1680676.3790026288 1334509.780971301,1680671.5218887515 1334517.4616096297,1680666.6598736497 1334523.4914176904,1680662.871226801 1334529.5212257514,1680659.0923824022 1334535.5415280715,1680655.3086367783 1334543.3394038666,1680651.3876568575 1334551.149953982,1680647.4715781612 1334558.950998357,1680643.5407957905\" opacity=\"0.8\" /><polyline fill=\"none\" stroke=\"#66cc99\" stroke-width=\"35.288784000004334\" points=\"1334141.8486107057,1680822.0385054683 1334148.3695486926,1680820.4407061504 1334154.8809809391,1680818.8380056077 1334161.3892446053,1680817.24020629 1334170.349989322,1680813.0888687987 1334179.3202397793,1680808.9277288574 1334188.2904902366,1680804.781292591 1334195.0110487742,1680799.6301052198 1334201.7411130522,1680794.4887202985 1334208.4616715896,1680789.3424341523 1334217.9895921566,1680787.171191521 1334227.5206813037,1680784.9999488897 1334237.0486018707,1680782.8287062584 1334246.0505381296,1680782.1621396719 1334255.0493058083,1680781.4808694106 1334264.0512420672,1680780.8094015992 1334272.8503891954,1680783.4021495718 1334281.6495363235,1680785.9899963196 1334290.4613577724,1680788.5778430677 1334299.2605049005,1680791.1705910403 1334306.9791661913,1680795.6797179494 1334314.6914903217,1680800.1986473084 1334322.4101516122,1680804.7077742175 1334330.1288129028,1680809.2316048013 1334336.5705363855,1680814.7797913896 1334343.0185970287,1680820.3279779777 1334349.4603205114,1680825.8810657908 1334355.9115497347,1680831.429252379 1334363.6999197889,1680835.0904673801 1334371.500964164,1680838.7418799317 1334374.8596591428,1680846.02019891 1334378.2215227017,1680853.2985178882 1334381.0605705327,1680859.9494800793 1334383.8996183637,1680866.6004422703 1334388.7507146017,1680870.5508295407 1334393.5986422596,1680874.4914143612\" opacity=\"0.8\" /><polyline fill=\"none\" stroke=\"#66cc99\" stroke-width=\"35.288784000004334\" points=\"1334393.5986422596,1680874.4914143612 1334401.3204721306,1680872.918121168 1334409.0391334211,1680871.3497291994 1334415.6012629503,1680863.8704600001 1334422.1602238992,1680856.391190801 1334428.7096791076,1680848.9119216017 1334435.2686400567,1680841.4277511775\" opacity=\"0.8\" /><polyline fill=\"none\" stroke=\"#66cc99\" stroke-width=\"35.288784000004334\" points=\"1332881.919741113,1678620.0798977693 1332887.0211551844,1678589.4717482612 1332898.4914153947,1678537.8079365774\" opacity=\"0.8\" /><polyline fill=\"none\" stroke=\"#66cc99\" stroke-width=\"35.288784000004334\" points=\"1332898.4914153947,1678537.8079365774 1332896.6789875382,1678529.0102378796 1332894.8792340024,1678520.212539182 1332893.0699747263,1678511.4099392593 1332891.2702211905,1678502.6122405617 1332889.4609619142,1678493.809640639 1332887.648534058,1678485.0119419415 1332881.4095997058,1678477.2484016977 1332875.1611596134,1678469.4897626792 1332868.9095509409,1678461.7311236605 1332862.6706165888,1678453.972484642 1332856.4190079162,1678446.2089443984 1332850.1705678238,1678438.4503053797 1332845.6394981828,1678430.1182230476 1332841.111597122,1678421.7812394907 1332832.4391932006,1678420.57063694 1332823.7699578593,1678419.3502319397 1332815.100722518,1678418.1396293892 1332808.0791488644,1678424.2710617406 1332801.0702495314,1678430.4220989915 1332794.0613501987,1678436.5486301181 1332787.039776545,1678442.6898649193 1332780.030877212,1678448.8310997204 1332773.0093035586,1678454.9723345218 1332766.0004042257,1678461.108668098 1332762.3501998715,1678469.6318982013 1332758.7095012579,1678478.1502270796 1332755.0592969037,1678486.6783584077 1332751.4090925495,1678495.201588511 1332747.7588881953,1678503.7199173893 1332744.1213581616,1678512.2382462677 1332740.4711538074,1678520.761476371 1332736.8209494532,1678529.2798052493 1332733.170745099,1678537.7981341276 1332729.5300464854,1678546.3213642307 1332725.8798421312,1678554.839693109 1332723.959682549,1678564.0490946986 1332722.0395229668,1678573.2486938382 1332720.1193633846,1678582.4482929776 1332718.3291155894,1678589.7021058316 1332716.5388677942,1678596.9510174606 1332714.7391142584,1678604.1999290893 1332715.6294852858,1678611.5909762403 1332716.5103505726,1678618.9918258414 1332717.4007216,1678626.3779717674 1332718.8202455156,1678635.9696688992 1332720.239769431,1678645.5711684807 1332721.6592933466,1678655.1677668372 1332723.078817262,1678664.759463969 1332722.5211471524,1678673.7483104377 1332721.9603084626,1678682.7420581316 1332721.5103700787,1678690.0889942585 1332721.0509259542,1678697.4310291605 1332720.6009875704,1678704.7779652874 1332719.130766372,1678712.242530812 1332717.6605451738,1678719.692392662 1332716.1903239756,1678727.1520569616 1332714.7201027775,1678734.6019188114 1332713.6491226803,1678743.5809628305 1332712.590816904,1678752.5502043997 1332711.5293425475,1678761.519445969 1332710.4710367713,1678770.498489988 1332707.888643934,1678779.7176940271 1332705.2999139363,1678788.9417992912 1332702.7111839384,1678798.1610033305 1332701.7891271093,1678807.4880343175 1332700.879744601,1678816.8297689792 1332699.9703620926,1678826.1617011912 1332699.0514738439,1678835.4887321782 1332698.1389227551,1678844.8206643902 1332697.2200345064,1678854.1476953772 1332697.4798580802,1678860.8721759417 1332697.7301759135,1678867.5917552812 1332707.381671107,1678880.4721743218 1332713.1009583112,1678895.1709478004 1332713.959643537,1678910.9921017815\" opacity=\"0.8\" /><polyline fill=\"none\" stroke=\"#66cc99\" stroke-width=\"35.288784000004334\" points=\"1332784.8090961063,1678926.9308851603 1332786.7799529713,1678919.3780975875 1332788.7413040956,1678911.8302112396 1332790.7089923802,1678904.2823248918 1332792.169707838,1678897.0677218372 1332793.6209175552,1678889.8580200076 1332795.081633013,1678882.6581206275 1332799.1691014303,1678876.3110343805 1332803.259738428,1678869.9590469084 1332807.3503754255,1678863.6217631113 1332811.7990619824,1678856.941393571 1332816.2414113786,1678850.2610240306 1332819.238888218,1678842.438669088 1332822.2395336379,1678834.6310178204 1332824.2389077242,1678826.7400457296 1332826.2414503908,1678818.8392711887 1332833.1901467005,1678812.2912347207 1332840.1293372696,1678805.7382970278 1332844.140759763,1678798.0580776075 1332848.1490136762,1678790.3680557376 1332859.438664817,1678772.6893375188 1332869.6414929598,1678743.301593011 1332877.8702956575,1678718.898394228 1332878.8208697082,1678684.9378068873 1332878.421628607,1678657.51055234 1332881.919741113,1678620.0798977693\" opacity=\"0.8\" /><polyline fill=\"none\" stroke=\"#66cc99\" stroke-width=\"35.288784000004334\" points=\"1333715.9502445064,1678772.5177946473 1333722.1986845988,1678776.801465211 1333728.440787531,1678781.0900369994 1333734.6892276234,1678785.3786087881 1333740.9313305556,1678789.6622793518 1333743.8495928908,1678798.2198180293 1333746.7615180656,1678806.7822579318 1333749.6797804008,1678815.3397966092 1333752.6012113164,1678823.9022365117 1333752.6835944008,1678824.1472977567 1333755.5194736517,1678832.4597751892 1333758.4313988267,1678841.0222150916 1333760.0695547736,1678848.3887561182 1333761.7013735606,1678855.7700008196 1333763.3300237672,1678863.141443071 1333764.9586739738,1678870.5177865473 1333766.6792130054,1678878.3009316905 1333768.4092577775,1678886.0791756087 1333770.129796809,1678893.8721232016 1333771.8503358404,1678901.6503671198 1333772.290768484,1678911.0509164804 1333772.7185268067,1678920.451465841 1333773.1494537096,1678929.8520152015 1333773.5898863531,1678939.2378608873 1333774.020813256,1678948.6384102479 1333774.4612458993,1678958.0389596084 1333775.0569389712,1678960.1660912156 1333776.8503553465,1678966.5278811373 1333779.2394647936,1678975.0119014415 1333781.6285742407,1678983.5008229704 1333784.0303580086,1678991.9799420494 1333786.4194674557,1679000.4688635783 1333788.8085769026,1679008.9577851072 1333791.20085493,1679017.4418054114 1333797.03104244,1679023.4409046904 1333802.8612299503,1679029.4400039695 1333808.6914174606,1679035.4391032485 1333814.5216049708,1679041.4382025278 1333820.3391181603,1679047.432400582 1333828.320771605,1679050.6181967678 1333836.289750729,1679053.8088941784 1333844.258729853,1679056.9897891392 1333852.230877557,1679060.18048655 1333860.199856681,1679063.361381511 1333868.168835805,1679066.5520789216 1333877.810825258,1679068.2577051872 1333887.4591518713,1679069.9682326778 1333897.1011413243,1679071.6787601684 1333906.7399621971,1679073.3990901087 1333916.37878307,1679075.109617599 1333926.0302782634,1679076.8201450896 1333935.6690991363,1679078.5306725802 1333945.3110885893,1679080.2412000708 1333954.3415420696,1679083.299564409 1333963.3593212294,1679086.3677311973 1333972.3802689693,1679089.4309967605 1333981.41072245,1679092.489361099 1333990.4316701898,1679095.5477254372 1333999.4494493497,1679098.6109910004 1334008.47990283,1679101.6791577886 1334017.50085057,1679104.7424233519 1334026.5313040505,1679107.8007876903 1334035.5490832103,1679110.8591520286 1334044.5700309502,1679113.922417592 1334053.438886842,1679116.1181663477 1334062.3014055735,1679118.3090138785 1334071.1607557249,1679120.4998614094 1334080.0296116166,1679122.6907089402 1334088.888961768,1679124.881556471 1334097.76098624,1679127.0724040018 1334100.6000340711,1679134.9486724182 1334103.4390819022,1679142.8200396097 1334106.2812983133,1679150.6914068009 1334109.1203461445,1679158.5578727673 1334109.5702845284,1679166.5517705814 1334110.0202229123,1679174.5407671703 1334110.4701612962,1679182.5199613094 1334110.92009968,1679190.5089578985 1334111.3795438046,1679198.4881520376\" opacity=\"0.8\" /><polyline fill=\"none\" stroke=\"#66cc99\" stroke-width=\"35.288784000004334\" points=\"1334263.1101737572,1679026.6217996513 1334265.1412336454,1679023.7986941081 1334265.4105629597,1679016.7507327003 1334265.6703865335,1679009.6978700673 1334265.9397158478,1679002.6499086595 1334264.799026987,1678995.7391815486 1334263.648832386,1678988.828454438 1334262.5113121055,1678981.9177273272 1334258.5315754137,1678975.5020239316 1334254.5486701417,1678969.081419311 1334248.0594179565,1678966.988596278 1334241.5701657713,1678964.9006744702 1334235.8762272084,1678965.41040186 1334234.1113280545,1678965.5721422816 1334226.6493217575,1678966.2289064184 1334219.1904840406,1678966.9003742298 1334212.2798106929,1678967.7482861378 1334205.3596316047,1678968.6109017204 1334198.4394525166,1678969.4588136284 1334190.9996262807,1678969.9881459177 1334183.5502943043,1678970.5223794319 1334176.1104680686,1678971.051711721 1334166.3290610882,1678972.60049879 1334156.5603284284,1678974.1492858587 1334148.7687897938,1678975.33048106 1334140.9804197396,1678976.521478711 1334133.2015554255,1678977.712476362 1334123.3916312237,1678978.1486853783 1334113.5785384416,1678978.5799931695 1334103.7812885605,1678979.0211034105 1334096.179864736,1678978.5995980692 1334088.5911152323,1678978.1682902777 1334080.989691408,1678977.7516861612 1334073.400941904,1678977.32037837 1334066.2811422653,1678975.9382329478 1334059.1613426264,1678974.5511863006 1334052.0415429876,1678973.1690408785 1334042.3615305726,1678971.61045136 1334032.6815181577,1678970.0420593915 1334024.0408000378,1678969.522529552 1334015.4095876587,1678968.9882960378 1334006.7815438597,1678968.4687661983 1333998.1503314804,1678967.939433909 1333990.6186164196,1678968.978493588 1333983.0900699391,1678970.022454492 1333977.7541809352,1678970.7576382272 1333975.5615234587,1678971.061514171 1333968.0298083979,1678972.10057385 1333960.3301585882,1678976.0411586706 1333952.621003038,1678979.9719410415 1333944.9213532284,1678983.912525862 1333937.209029098,1678987.8482094577 1333928.0613381516,1678989.4607124503 1333918.9104786245,1678991.0683142177 1333910.5707756209,1678988.5882944178 1333902.2310726172,1678986.1180770677 1333894.2906107148,1678981.7412832307 1333886.3406430718,1678977.359588169 1333878.4001811694,1678972.9778931073 1333871.6701168912,1678968.1697914794 1333864.9400526132,1678963.3518874014 1333858.2099883351,1678958.5388845485 1333851.4799240571,1678953.7209804705 1333844.749859779,1678948.9079776176 1333839.898763541,1678941.3600912695 1333835.050835883,1678933.8122049216 1333830.2092453854,1678926.2692197987 1333827.0691824383,1678916.9421888117 1333823.9291194913,1678907.6200590495 1333820.7890565442,1678898.2881268377 1333818.9195942448,1678888.8189603284 1333817.0501319452,1678879.3399913695 1333815.1806696458,1678869.8610224104 1333811.780783125,1678862.6709254803 1333808.3904023445,1678855.4906310001 1333804.9905158237,1678848.3103365197 1333801.6001350433,1678841.1202395898 1333799.169834054,1678832.9400952295 1333796.7490388053,1678824.7599508695 1333794.3314121366,1678816.5798065092 1333791.9011111471,1678808.3996621491 1333786.5493792426,1678800.66062803 1333781.200815918,1678792.921593911 1333775.8395782728,1678785.1776585672 1333770.491014948,1678777.4386244481 1333769.6386668829,1678772.4197701493 1333768.7894873975,1678767.3911134007 1333762.7977022987,1678768.2537289832 1333760.5892019214,1678768.5723086018 1333752.388916445,1678769.758405028 1333744.1886309688,1678770.939600229 1333735.978839752,1678772.1207954304 1333727.7785542756,1678773.3019906315 1333721.8691522614,1678772.9098926394 1333715.9502445064,1678772.5177946473\" opacity=\"0.8\" /><polyline fill=\"none\" stroke=\"#66cc99\" stroke-width=\"35.288784000004334\" points=\"1332795.8991266964,1678944.0018514914 1332792.2013936397,1678938.311529381 1332788.5099977432,1678932.6212072708 1332784.8090961063,1678926.9308851603\" opacity=\"0.8\" /><polyline fill=\"none\" stroke=\"#66cc99\" stroke-width=\"35.288784000004334\" points=\"1332784.8090961063,1678926.9308851603 1332776.158872246,1678923.9117306212 1332767.4991426454,1678920.8778724074 1332758.848918785,1678917.8489154184 1332750.198694925,1678914.8297608793 1332741.5389653242,1678911.8008038902 1332732.3500828354,1678911.5312365207 1332723.1612003464,1678911.2616691513 1332713.959643537,1678910.9921017815\" opacity=\"0.8\" /><polyline fill=\"none\" stroke=\"#66cc99\" stroke-width=\"35.288784000004334\" points=\"1332713.959643537,1678910.9921017815 1332704.770761048,1678910.7078307373 1332695.5692042385,1678910.4382633679 1332694.9608368461,1678919.1820485916 1332694.339795133,1678927.9209325905 1332693.7314277408,1678936.6696190392 1332693.1103860277,1678945.408503038 1332697.0901227193,1678951.8389101084 1332701.0603536707,1678958.2693171788 1332703.151616582,1678967.042509752 1332705.239710913,1678975.8108011002 1332707.3214680837,1678984.5692899988 1332709.4095624147,1678993.342482572 1332707.869632453,1679002.321526591 1332706.329702491,1679011.30057061 1332704.7897725292,1679020.2796146292 1332703.4304516367,1679028.2097965193 1332702.0711307444,1679036.1399784095 1332700.7086412718,1679044.0701602998 1332699.3493203796,1679051.99053974 1332698.5603439177,1679056.602592372 1332697.9899994873,1679059.9207216303 1332697.5590725844,1679069.6888628583 1332697.1313142616,1679079.4521028616 1332696.7003873587,1679089.2104416399 1332696.2694604557,1679098.9687804184 1332695.8385335528,1679108.7418228714 1332695.41077523,1679118.5001616497 1332694.979848327,1679128.258500428 1332694.3207836521,1679137.4188897684 1332693.6585503968,1679146.569476659 1332692.9994857218,1679155.7298659994 1332692.3404210466,1679164.88045289 1332691.6908621122,1679174.0408422304 1332690.971594414,1679183.0394911491 1332690.2491581354,1679192.0479425176 1332689.5393961777,1679201.051492661 1332688.8201284795,1679210.0599440294 1332688.1610638043,1679219.7888754585 1332687.4988305492,1679229.5178068874 1332686.839765874,1679239.261441991 1332686.180701199,1679248.9903734198 1332685.521636524,1679258.719304849 1332684.8910890704,1679267.8110770406 1332684.2510358763,1679276.9077504573 1332683.6204884227,1679285.999522649 1332682.9804352287,1679295.091294841 1332682.3498877753,1679304.1879682576 1332677.4290827734,1679311.6378301075 1332672.5209520923,1679319.0876919571 1332665.8605965779,1679326.3807146102 1332659.1907353231,1679333.6688360383 1332653.7692946545,1679339.7316512412 1332648.3510225662,1679345.7797627694 1332642.9200761574,1679351.8278742975 1332637.498635489,1679357.8906895001 1332632.0803634007,1679363.9388010283 1332625.5499196732,1679367.1393008889 1332619.0289816863,1679370.3299982995 1332612.4985379588,1679373.53049816 1332613.5505065748,1679380.1079419774 1332614.5993066106,1679386.6902870198 1332615.6512752266,1679393.2677308372 1332616.8014698278,1679402.4379226274 1332617.951664429,1679411.598311968 1332619.09869045,1679420.7685037581 1332620.248885051,1679429.9386955483 1332621.3990796523,1679439.0990848886 1332625.0904755488,1679444.9511474208 1332628.778702865,1679450.788506278 1332632.9612286875,1679457.4100611196 1332637.1405859299,1679464.031615961 1332641.3104374318,1679470.6482695779 1332645.489794674,1679477.2698244194 1332651.6590202623,1679484.6510691207 1332657.8409201712,1679492.0323138218 1332664.0101457594,1679499.4086572982 1332670.1793713477,1679506.7899019995 1332674.9195672798,1679512.6321620818 1332679.659763212,1679518.479323389 1332684.4094648848,1679524.331385921\" opacity=\"0.8\" /><polyline fill=\"none\" stroke=\"#66cc99\" stroke-width=\"35.288784000004334\" points=\"1334652.4304504904,1679893.751410401 1334658.548978796,1679898.9320051216 1334664.6706756817,1679904.1076986173 1334670.7892039872,1679909.2980957876 1334677.379850738,1679914.39046846 1334683.9704974885,1679919.4681374577 1334690.5516384987,1679924.5605101301 1334697.7506526418,1679931.0987441484 1334704.9401610442,1679937.6418793916 1334710.9604633644,1679942.8518814615 1334716.9712599444,1679948.0716859812 1334722.9915622645,1679953.291490501 1334730.8211238612,1679959.06023221 1334738.6411797171,1679964.8191714687 1334745.7102820734,1679968.8381758877 1334752.769878689,1679972.8620815317 1334759.838981045,1679976.8908884006 1334768.4004846604,1679980.8706830202 1334776.9588196957,1679984.85047764 1334785.5203233114,1679988.83027226 1334793.071049853,1679991.5994643292 1334800.6312821354,1679994.378458848 1334808.1915144175,1679997.1476509173 1334815.038816162,1680001.5195435293 1334821.8797807458,1680005.891436141 1334828.7207453297,1680010.258427528 1334835.549035593,1680014.8214679111 1334842.3804944365,1680019.3698046193 1334849.848837894,1680025.942347212 1334857.3203499313,1680032.50018613 1334862.6815875766,1680036.7299432196 1334868.0491623823,1680040.9597003094 1334873.419905768,1680045.189457399 1334879.5796256156,1680050.7915574613 1334885.7488512038,1680056.3887562985 1334891.9085710517,1680062.0006588104 1334898.4707005806,1680067.9115360412 1334905.020155789,1680073.832215722 1334911.5791167382,1680079.7479941777 1334918.1285719466,1680085.6686738583 1334923.4105950876,1680090.8198612295 1334928.6894496484,1680095.9710486007 1334933.9587984688,1680101.112433522 1334940.74906577,1680106.2097074194 1334947.5393330713,1680111.3020800918\" opacity=\"0.8\" /><polyline fill=\"none\" stroke=\"#66cc99\" stroke-width=\"35.288784000004334\" points=\"1334947.5393330713,1680111.3020800918 1334949.8207107927,1680107.9594447091 1334952.6597586237,1680103.8179096675 1334962.0514302433,1680100.4605706101 1334971.4304275424,1680097.098330328 1334980.8094248413,1680093.7409912706 1334989.130116364,1680090.7610465307 1334997.450807887,1680087.7811017907 1335005.7714994096,1680084.8011570508 1335014.0795166115,1680081.8310147608 1335023.8197320497,1680083.1886540584 1335033.5504417475,1680084.5609970307 1335043.2811514451,1680085.9186363283 1335053.0086925626,1680087.2909793006 1335062.7489080008,1680088.6486185982 1335072.4796176986,1680090.0209615706 1335082.2103273964,1680091.3786008682 1335087.2198526429,1680084.149294139 1335092.2293778893,1680076.9199874096 1335097.2389031358,1680069.6906806803 1335092.6096075096,1680062.6525217223 1335087.9803118834,1680055.6094615392 1335083.3415105166,1680048.5713025809\" opacity=\"0.8\" /><polyline fill=\"none\" stroke=\"#66cc99\" stroke-width=\"35.288784000004334\" points=\"1335083.3415105166,1680048.5713025809 1335074.4504745635,1680045.1600500497 1335065.5499328698,1680041.7487975184 1335056.6493911764,1680038.3424462122 1335047.7488494827,1680034.9311936807 1335038.86098211,1680031.5101386998 1335029.9604404164,1680028.0988861686 1335021.059898723,1680024.692534862 1335012.1688627698,1680021.2812823309 1335003.2714896565,1680017.8700297996 1334994.3709479629,1680014.4587772684 1334985.4799120098,1680011.0377222875 1334978.3315951496,1680006.5089904787 1334971.1896154496,1680001.9704562202 1334964.0508043298,1679997.4319219615 1334956.9088246298,1679992.8884864782 1334949.77001351,1679988.3499522195 1334942.891025964,1679983.6300726398 1334936.0215441585,1679978.90039061 1334929.1393880325,1679974.1805110301 1334922.2699062268,1679969.4508290004 1334913.999911987,1679973.6021664918 1334905.7204120064,1679977.7388003084 1334897.440912026,1679981.8901377998 1334889.170917786,1679986.0316728414 1334881.5187966789,1679981.4098177594 1334873.869844152,1679976.7781602277 1334867.051059629,1679970.5487033783 1334860.2196007855,1679964.3094440792 1334853.4008162627,1679958.0701847798 1334846.5693574194,1679951.8309254805 1334839.7505728966,1679945.5916661813 1334832.919114053,1679939.362209332 1334826.509076372,1679937.2595838492 1334820.099038691,1679935.1618595915 1334813.68900101,1679933.0592341088 1334802.9696942996,1679958.212320302 1334802.7827480698,1679963.1870635767 1334783.0551679402,1679954.4236734533 1334763.2515418865,1679947.645279415 1334725.9636904628,1679926.2024204722 1334725.9605218826,1679926.2024204722 1334716.290015208,1679916.8312784608 1334705.0954214723,1679895.4276293172 1334692.6524071505,1679879.959363529 1334663.5806841038,1679853.85053848 1334652.4716420327,1679841.896450946 1334649.1287899548,1679838.2989518687 1334626.989920317,1679814.459393949 1334607.1197540797,1679783.7287138184 1334588.3364108405,1679751.037543727 1334571.5524416876,1679718.4296944593 1334565.2818215338,1679699.2119916216 1334557.5916774648,1679664.9720344616 1334553.840078545,1679632.8690113586 1334548.2158487458,1679622.6646611143 1334526.8057525468,1679605.848558478 1334511.1688094148,1679569.2903219399 1334511.1086063916,1679545.3282333978 1334514.6003817373,1679507.5299869596 1334519.0363939735,1679496.7276872774 1334530.680926093,1679481.2202116898 1334539.438881679,1679462.60045829 1334542.3793240753,1679438.7609003705 1334542.2842666702,1679415.7937604834 1334536.6695426116,1679379.632523162 1334539.0713263794,1679361.9391012688 1334530.6904318335,1679360.2285737782 1334522.3190430282,1679358.5180462876 1334513.9413170624,1679356.812420022 1334505.5604225164,1679355.1018925314\" opacity=\"0.8\" /><polyline fill=\"none\" stroke=\"#66cc99\" stroke-width=\"35.288784000004334\" points=\"1333062.7094197916,1681091.792121582 1333061.080769585,1681097.5118510416 1333059.461625119,1681103.2315805014 1333059.8608662202,1681110.7598619496 1333060.2506015808,1681118.288143398 1333060.649842682,1681125.8115236214 1333061.0490837833,1681133.3398050696 1333062.3513702326,1681137.0500323197\" opacity=\"0.8\" /><polyline fill=\"none\" stroke=\"#66cc99\" stroke-width=\"35.288784000004334\" points=\"1333062.3513702326,1681137.0500323197 1333062.7094197916,1681138.079289549 1333065.3013183696,1681145.4997440495 1333067.8900483672,1681152.9300009997 1333070.478778365,1681160.3504555002 1333073.0706769428,1681167.7807124506 1333076.660678274,1681176.0980911078 1333080.250679605,1681184.4203709902 1333083.8501866765,1681192.7377496476 1333087.4401880074,1681201.0698319797 1333091.0301893384,1681209.3921118618 1333091.2203041485,1681219.0818334916 1333091.4104189586,1681228.7813575712 1333098.4700155742,1681235.442122212 1333105.5296121899,1681242.1077880776 1333112.5797030649,1681248.7783551682 1333119.6392996805,1681255.4391198088 1333126.5214558067,1681260.9824051722 1333133.4004433528,1681266.5207893106 1333140.2889366392,1681272.059173449 1333147.1710927654,1681277.6024588123 1333154.0500803113,1681283.131040501 1333160.9385735977,1681288.6694246393 1333167.820729724,1681294.2078087777 1333174.69971727,1681299.7510941408 1333182.7795966999,1681305.1914537812 1333190.8594761298,1681310.6416158713 1333198.9393555596,1681316.0917779617 1333207.0192349895,1681321.5321376019 1333214.3893524616,1681327.242064612 1333221.7594699336,1681332.9519916219 1333231.5915741967,1681333.2705712405 1333241.4205098797,1681333.589150859 1333251.2494455627,1681333.8979280277 1333261.0815498258,1681334.2214088712 1333269.8585168927,1681335.5594432692 1333278.6386525398,1681336.912181342 1333287.418788187,1681338.25021574 1333296.1989238341,1681339.588250138 1333304.9885652217,1681340.931185761 1333313.4993715545,1681340.2499154997 1333322.0196836279,1681339.5588427887 1333330.5304899607,1681338.8677700777 1333339.050802034,1681338.1815985914 1333348.2808760651,1681337.4219087318 1333357.5109500962,1681336.6524164223 1333366.7315183866,1681335.8780228877 1333375.9615924177,1681335.1183330282 1333385.191666449,1681334.3488407186 1333394.5611580072,1681333.6577680076 1333403.9401553064,1681332.9715965213 1333413.309646865,1681332.2707213606 1333422.6886441638,1681331.5796486496 1333432.0613043024,1681330.8885759383 1333436.5004851187,1681323.4877263375 1333440.9396659348,1681316.0819755117 1333445.3915210718,1681308.681125911 1333446.9916540568,1681300.4813766512 1333448.6012927825,1681292.2914298412 1333450.210931508,1681284.0916805814 1333451.8205702337,1681275.8919313217 1333452.539837932,1681266.452172162 1333453.2591056302,1681257.0124130023 1333453.9910476492,1681247.5677526176 1333454.7103153474,1681238.1279934577 1333455.4390887863,1681228.6784318483 1333450.549969586,1681222.341148051 1333445.6608503861,1681215.989160579 1333440.7685626058,1681209.6518767816 1333435.8794434057,1681203.2998893098 1333430.9903242055,1681196.9479018378 1333424.9700218851,1681189.4588301887 1333418.9592253054,1681181.9697585395 1333412.9389229852,1681174.4806868904 1333406.5605711057,1681172.2506295603 1333400.1790506463,1681170.0205722305 1333393.800698767,1681167.7905149003 1333389.6815445477,1681163.09024022 1333385.5592217485,1681158.38016309 1333390.6511300793,1681153.469135739 1333395.7493755706,1681148.548305938 1333400.8412839014,1681143.642179812 1333409.329910173,1681144.6077211176 1333417.8090307042,1681145.578163648 1333426.2913198154,1681146.5486061785 1333434.7704403466,1681147.519048709 1333443.2590666183,1681148.4894912392 1333452.9010560713,1681149.6118717417 1333462.5493826845,1681150.7293510193 1333472.1913721375,1681151.8615339713 1333481.839698751,1681152.9790132488 1333485.95885297,1681145.3478060777 1333490.0811757694,1681137.731302581 1333495.1699155201,1681131.1489575387 1333500.2586552708,1681124.5715137213 1333505.3410578612,1681117.9891686789 1333498.1515494587,1681115.4307292805 1333499.060931967,1681105.7900198998 1333499.979820216,1681096.159112969 1333498.0311434122,1681087.322204472 1333496.0792980285,1681078.4803947501 1333494.1306212249,1681069.6385850285 1333494.7991916405,1681062.311253801 1333495.4709306362,1681054.9888237987 1333496.1299953111,1681047.6614925712 1333495.8796774778,1681040.53021034 1333495.619853904,1681033.3989281086 1333495.3600303303,1681026.282349552 1333497.910737366,1681019.1020550719 1333500.470950142,1681011.9315630414 1333504.1306602368,1681006.0991054089 1333507.7903703316,1681000.281351451 1333511.4500804262,1680994.4488938188 1333515.860744021,1680987.4597471096 1333523.680799877,1680988.67034966 1333531.500855733,1680989.8907546606 1333535.0211483003,1680997.61018388 1333538.5287665469,1681005.3394155493 1333542.2993769476,1681009.8681473578 1333546.069987348,1681014.4017803916 1333553.170775506,1681018.3178590876 1333560.2588893431,1681022.2486414583 1333569.8311700323,1681024.5620196117 1333579.409787882,1681026.8704965403 1333584.599922198,1681031.0806487305 1333589.7900565143,1681035.2908009207 1333594.9801908303,1681039.5009531106 1333595.9592821025,1681049.2788967886 1333596.9415419546,1681059.0617416915 1333595.9814621636,1681066.5998255897 1333595.030888113,1681074.1379094876 1333594.0803140625,1681081.6906970604 1333593.1202342715,1681089.2287809586 1333593.4212493873,1681095.7719162018 1333596.9985763978,1681102.5601126899 1333600.5695662478,1681109.3483091781 1333600.689972294,1681118.1313042012 1333600.8103783405,1681126.8995955493\" opacity=\"0.8\" /><polyline fill=\"none\" stroke=\"#66cc99\" stroke-width=\"35.288784000004334\" points=\"1334051.258903686,1680820.7494833192 1334041.9306036697,1680817.2794160892 1334032.6086408137,1680813.8093488591 1334029.2689573162,1680808.3689892187 1334025.9292738184,1680802.9188271286 1334025.5300327172,1680793.9103757602 1334024.810765019,1680788.068115678 1334024.0914973207,1680782.2405592704 1334024.718876194,1680775.8885717983 1334025.469829694,1680768.262265852 1334026.2207831938,1680760.6408611306\" opacity=\"0.8\" /><polyline fill=\"none\" stroke=\"#66cc99\" stroke-width=\"35.288784000004334\" points=\"1334035.5015545078,1678305.5290860585 1334034.6555436025,1678307.8522666616 1334033.011050495,1678312.3809984704 1334030.5205464826,1678319.2378121072 1334028.0205367296,1678326.089724519 1334026.4489209661,1678335.029558739 1334024.8709680422,1678343.9791954085 1334022.9698199409,1678349.8704677399 1334021.0686718398,1678355.771542521 1334011.8100805872,1678359.241609751 1334002.5514893346,1678362.711676981 1333992.8999941412,1678362.8391088285 1333983.2611732683,1678362.9714419008 1333973.6096780747,1678363.0890712985 1333963.970857202,1678363.2214043709 1333955.8085946876,1678363.3390337685 1333947.659006494,1678363.461564391 1333939.5094183006,1678363.5791937886 1333930.3300415522,1678366.4121017815 1333921.1506648038,1678369.2401085496 1333911.9712880554,1678372.0681153175 1333903.8914086255,1678372.6023488317 1333895.798854875,1678373.1218786712 1333889.3096026897,1678379.3807428703 1333882.8108447639,1678385.639607069 1333876.3215925787,1678391.9082737176 1333873.2797556168,1678398.9513339007 1333870.2410872353,1678405.989492859 1333867.1992502734,1678413.027651817 1333864.1605818917,1678420.0707120001 1333860.7099980882,1678428.2900661596 1333857.2594142845,1678436.5094203188 1333853.808830481,1678444.7287744782 1333852.870930751,1678451.4924648418 1333851.9393681814,1678458.2610564304 1333851.010974192,1678465.0198455693 1333848.320849629,1678472.3079669974 1333845.630725066,1678479.6107921002 1333842.9406005028,1678486.9087159783 1333841.689011336,1678492.9813336309 1333837.3005278027,1678498.7402728896 1333833.3207911109,1678507.1017625711 1333829.3315486787,1678515.4583510277 1333834.1889820772,1678523.0209410505 1333839.0400783152,1678530.578629848\" opacity=\"0.8\" /><polyline fill=\"none\" stroke=\"#66cc99\" stroke-width=\"35.288784000004334\" points=\"1333040.0794202276,1680326.4217422314 1333043.9704366748,1680334.4695535193 1333047.2911086914,1680342.7477223773 1333050.5991063872,1680351.0307924605 1333053.919778404,1680359.3089613186 1333057.2404504206,1680367.5920314018 1333058.5395682899,1680376.6985072682 1333059.8513604796,1680385.8098843596 1333061.1599840892,1680394.921261451 1333062.4591019584,1680404.0277373174 1333062.0693665976,1680412.7715225413 1333061.6701254963,1680421.51040654 1333061.270884395,1680430.249290539 1333060.8811490345,1680438.9783720882 1333060.478739353,1680447.7221573119 1333054.3792225285,1680452.4714442412 1333048.279705704,1680457.2109287207 1333042.1801888794,1680461.96021565 1333048.5395292777,1680468.508252118 1333054.898869676,1680475.0709922607 1333061.2613786545,1680481.6190287287 1333067.6112133125,1680488.1719664217 1333070.3393608376,1680496.8177271474 1333073.0706769428,1680505.468389098 1333075.7988244682,1680514.109248599 1333075.1492655335,1680523.9313033011 1333074.4902008583,1680533.7484567782 1333073.8311361833,1680543.5705114803 1333073.1689029282,1680553.3876649574 1333071.8792907996,1680561.7589570887 1333070.589678671,1680570.13024922 1333069.3000665423,1680578.5015413512 1333068.0104544137,1680586.8679322577 1333069.3000665423,1680595.4205697102 1333070.5991844113,1680603.978108388 1333071.88879654,1680612.5307458404 1333075.608709658,1680620.201162811 1333079.3412970966,1680627.8715797814 1333083.0612102144,1680635.5419967517 1333086.7811233324,1680643.2124137222 1333092.7602341105,1680648.9321431818 1333098.748850629,1680654.642070192 1333104.7311299874,1680660.3617996515 1333110.719746506,1680666.0717266614 1333116.6798458032,1680672.1394430893 1333122.6399451,1680678.2120607418 1333128.6000443972,1680684.2699747197 1333134.5601436943,1680690.3376911473 1333139.439757154,1680696.6798761697 1333144.3193706137,1680703.0318636417 1333149.1989840732,1680709.3691474388 1333154.0785975328,1680715.711332461 1333154.9404513387,1680724.2394637892 1333155.7991365644,1680732.7724963422 1333156.6704961108,1680741.3006276705 1333156.508898522,1680748.8779213678 1333156.3409637732,1680756.4699187397 1333149.4493019066,1680756.4405113903 1333142.56080862,1680756.4209064906 1333133.6792784075,1680759.1410863108 1333124.8009167751,1680761.8710685808 1333116.869960613,1680760.028208018 1333108.9294987107,1680758.18044623 1333100.9890368083,1680756.3424868921 1333096.0714003865,1680748.3191817289 1333091.1505953849,1680740.3007777906 1333086.2392961236,1680732.282373852 1333082.6302833115,1680725.3177332676 1333079.0212704996,1680718.348191458 1333075.4090891073,1680711.3786496483 1333071.8000762954,1680704.4189102887 1333065.890674281,1680696.9690484388 1333059.9812722665,1680689.519186589 1333054.0813759926,1680682.069324739 1333045.988822242,1680680.54014257 1333037.9089428121,1680679.0109604008 1333029.8195576419,1680677.4719757817 1333021.739678212,1680675.9378923876 1333014.6800815964,1680675.4379674478 1333007.6299907211,1680674.9380425077 1333000.5703941057,1680674.438117568 1332990.9600904544,1680673.7617485316 1332981.3592925435,1680673.0804782703 1332971.7489888922,1680672.399208009 1332962.1513595616,1680671.7179377477 1332953.3300323724,1680673.9577975275 1332944.508705183,1680676.212360982 1332939.5498772191,1680682.0889296387 1332934.6005549957,1680687.9605970704 1332929.6385584518,1680693.8420669518 1332924.679730488,1680699.7088331585 1332924.131566119,1680707.6586199484 1332923.570727429,1680715.6084067381 1332923.009888739,1680723.5581935279 1332922.369835545,1680732.7822987922 1332921.729782351,1680742.0015028312 1332921.0802234164,1680751.2207068705 1332926.1594574268,1680756.6904738601 1332931.2386914368,1680762.1700433 1332936.3210940273,1680767.6398102895 1332941.0898071812,1680775.408251758 1332945.8585203348,1680783.1815944514 1332948.2793155836,1680787.1123768222 1332950.6304020686,1680790.95003592 1332955.4086209629,1680798.7184773881 1332962.7090296713,1680804.992045262 1332970.0094383797,1680811.2705143602 1332974.2901901875,1680819.2497084995 1332978.5804477357,1680827.219100189 1332981.8314109887,1680836.09031726 1332985.0792056615,1680844.9517318816 1332986.8504419758,1680851.7889406187 1332988.6311840303,1680858.6310505809 1332990.3992517644,1680865.468259318 1332995.2788652242,1680871.57028432 1333000.1489729432,1680877.672309322 1333005.0190806624,1680883.7694330993 1333009.898694122,1680889.881260551 1333016.6002411784,1680897.0615550312 1333023.298619655,1680904.2418495116 1333028.3810222452,1680909.3979381076 1333033.4602562555,1680914.5491254788 1333038.5394902658,1680919.70031285 1333044.220754508,1680921.0579521477 1333047.4210204782,1680921.288309718\" opacity=\"0.8\" /><polyline fill=\"none\" stroke=\"#66cc99\" stroke-width=\"35.288784000004334\" points=\"1333302.6311415765,1680442.2376866473 1333305.8409132871,1680405.3020557917 1333304.5386268378,1680370.748420238 1333302.7103560807,1680349.4476968173 1333306.008848036,1680320.6186919485 1333311.53168327,1680295.6910621007 1333311.3003769175,1680275.331373861 1333318.7592146343,1680258.4221479518 1333334.9601650364,1680259.5690345787 1333353.7815312378,1680276.679210709 1333377.1307985,1680288.7215202912 1333402.9008610111,1680290.1379742876 1333419.5105582548,1680291.319169489 1333425.4104545286,1680293.8187941886\" opacity=\"0.8\" /><polyline fill=\"none\" stroke=\"#66cc99\" stroke-width=\"35.288784000004334\" points=\"1333452.7394584827,1680066.5980077677 1333442.840814036,1680066.2010085506 1333432.939001009,1680065.789305659 1333423.049862303,1680065.392306442 1333413.1512178564,1680064.990406 1333405.0586641058,1680067.9801531897 1333396.978784676,1680070.9699003797 1333388.8893995057,1680073.969450019 1333380.8000143352,1680076.9591972088 1333372.7201349053,1680079.9489443987 1333366.658641043,1680084.791354601 1333360.6003157606,1680089.6288635784 1333354.5514962187,1680094.471273781 1333348.4900023562,1680099.3087827584 1333343.2111477954,1680100.8624710522\" opacity=\"0.8\" /><polyline fill=\"none\" stroke=\"#66cc99\" stroke-width=\"35.288784000004334\" points=\"1333343.2111477954,1680100.8624710522 1333340.0013760845,1680101.808407458 1333331.5000754923,1680104.3178346076 1333323.0114492206,1680106.8223605321 1333314.5196543687,1680109.3219852317 1333306.0215223567,1680111.831412381 1333304.7794389306,1680112.1990042487 1333297.0892948615,1680116.9678960775 1333289.389645052,1680121.7416891314 1333281.6995009826,1680126.5105809602 1333273.999851173,1680131.279472789 1333266.309707104,1680136.048364618 1333258.6100572944,1680140.822157672 1333250.919913225,1680145.5910495007\" opacity=\"0.8\" /><polyline fill=\"none\" stroke=\"#66cc99\" stroke-width=\"35.288784000004334\" points=\"1333170.678789036,1680143.8119048616 1333163.6286981609,1680143.1698443994 1333156.5786072859,1680142.5424876122 1333147.148912704,1680141.8710198007 1333137.7192181225,1680141.1995519893 1333128.2895235408,1680140.5280841778 1333118.8693346996,1680139.871320041 1333109.4396401178,1680139.1998522296 1333100.0099455363,1680138.528384418 1333090.399641885,1680137.8520153817 1333080.798843974,1680137.1707451204 1333071.1885403227,1680136.489474859 1333061.5814052518,1680135.8082045978 1333051.9711016004,1680135.1318355615\" opacity=\"0.8\" /><polyline fill=\"none\" stroke=\"#66cc99\" stroke-width=\"35.288784000004334\" points=\"1333706.4793583825,1682558.8316602416 1333703.1301691444,1682567.0706193007 1333699.7809799062,1682575.2997759099 1333690.360791065,1682575.3095783596 1333680.9406022239,1682575.3291832593 1333671.5204133827,1682575.3487881587 1333662.1002245413,1682575.3585906087 1333652.6705299597,1682577.569043039 1333643.2313296376,1682579.7794954695 1333637.4803566316,1682581.2792702892 1333632.4803371255,1682582.1810956711 1333627.48982336,1682583.078019828 1333623.1393627885,1682584.1905978806 1333613.9409745592,1682582.1124785226 1333604.729912009,1682580.0392603893 1333595.518849459,1682577.9611410312 1333586.310955489,1682575.8781204482 1333577.099892939,1682573.80000109 1333567.2709572562,1682572.2022017722 1333557.438852993,1682570.5995012296 1333547.6194230507,1682569.0017019117 1333537.7904873677,1682567.399001369 1333527.9615516847,1682565.811004501 1333519.5711513984,1682568.4723696224 1333511.1902568524,1682571.1386359686 1333502.7998565661,1682573.80980354 1333494.4189620202,1682576.4711686613 1333484.9385701558,1682578.461065971 1333475.4613468715,1682580.4607657308 1333468.610876547,1682579.25016318 1333461.7604062227,1682578.0395606295 1333456.3294598137,1682574.1087782588 1333450.9713907486,1682569.531034201 1333445.6196588438,1682564.9581913683 1333441.3991100593,1682560.5078791578 1333437.1912355954,1682556.0624681725 1333431.9313925155,1682550.5387877089 1333426.658875115,1682545.02981092 1333421.3990320351,1682539.511031681 1333416.018782909,1682532.070972281 1333410.6512081034,1682524.6309128809 1333405.2804647177,1682517.2006559307 1333399.9002155913,1682509.7605965305 1333394.2316256699,1682502.34994448 1333388.5503614275,1682494.9392924292 1333386.509795799,1682487.8619236718 1333384.478735911,1682480.7796536896 1333382.4508446031,1682473.7022849324 1333384.6213220186,1682466.1592998093 1333386.8013051746,1682458.6212159111 1333388.96861401,1682451.0782307882 1333391.1390914253,1682443.54014689 1333391.4591180224,1682435.9677544178 1333391.7886503597,1682428.4002631702 1333392.108676957,1682420.818068248 1333397.9800560093,1682416.0589788689 1333403.8514350615,1682411.29008704 1333409.719645534,1682406.530997661 1333414.760856582,1682398.247927578 1333419.79889905,1682389.9795611696 1333424.8401100982,1682381.7013923114 1333423.9814248725,1682373.7614079714 1333423.1290768073,1682365.8214236314 1333422.2703915816,1682357.8716368417 1333421.4212120965,1682349.9316525017 1333420.5593582906,1682341.9916681617 1333420.0809026852,1682335.0025214525 1333419.5992784994,1682328.0084735185 1333419.120822894,1682321.029129259 1333414.2285351136,1682315.5593622692 1333409.329910173,1682310.0993977294 1333404.440790973,1682304.6394331893 1333402.821646507,1682297.071941942 1333401.2088392011,1682289.5093519194\" opacity=\"0.8\" /><polyline fill=\"none\" stroke=\"#66cc99\" stroke-width=\"35.288784000004334\" points=\"1333174.3511734514,1682649.9111225812 1333184.3195266617,1682650.6414050914 1333194.2815427117,1682651.3716876018 1333204.2498959221,1682652.101970112 1333214.208743392,1682652.8322526223 1333224.1802651824,1682653.5625351325 1333234.1391126523,1682654.287916418 1333244.110634443,1682655.018198928 1333254.0694819128,1682655.7484814385 1333264.0410037031,1682656.4787639487 1333273.999851173,1682657.209046459 1333283.9713729636,1682657.9393289692 1333293.9397261739,1682658.6696114796 1333303.8985736438,1682659.3998939898 1333313.8700954344,1682660.1301765002 1333323.8289429042,1682660.8604590106 1333333.8004646946,1682661.5907415207 1333343.7593121645,1682662.3210240311 1333353.730833955,1682663.0513065413 1333363.6896814248,1682663.7717866017 1333373.6612032154,1682664.5020691121 1333383.6200506852,1682665.2323516223 1333393.5915724759,1682665.9577329077 1333403.5504199455,1682666.6880154181 1333413.518773156,1682667.4182979283 1333423.480789206,1682668.1485804387 1333433.4491424162,1682668.8788629489 1333443.4206642068,1682669.6091454593 1333453.3795116767,1682670.3394279694 1333463.351033467,1682671.0697104798 1333473.309880937,1682671.79999299 1333483.2814027276,1682672.5302755004 1333493.2402501975,1682673.2605580105 1333503.2086034077,1682673.990840521 1333513.1706194577,1682674.721123031 1333523.1389726682,1682675.4514055415 1333533.1009887182,1682676.1816880517 1333543.0693419285,1682676.911970562 1333553.0313579785,1682677.6422530722 1333562.999711189,1682678.3725355826 1333572.9585586588,1682679.0979168678 1333582.9300804492,1682679.8183969285 1333592.9016022398,1682680.5486794387 1333602.8604497097,1682681.278961949 1333612.82880292,1682682.0092444592 1333622.79081897,1682682.7395269696 1333632.7591721804,1682683.4698094798 1333642.7211882304,1682684.2000919902 1333652.6895414407,1682684.9303745003 1333662.6515574907,1682685.6606570107 1333672.6199107012,1682686.390939521 1333682.5787581708,1682687.1212220313 1333692.5502799614,1682687.8515045415 1333702.5091274313,1682688.5817870519 1333712.4806492217,1682689.312069562 1333722.4490024322,1682690.0423520724 1333732.4110184822,1682690.7677333578 1333742.3793716924,1682691.498015868 1333752.3413877424,1682692.2282983784 1333762.309740953,1682692.9585808886 1333772.2685884228,1682693.688863399\" opacity=\"0.8\" /><polyline fill=\"none\" stroke=\"#66cc99\" stroke-width=\"35.288784000004334\" points=\"1333772.2685884228,1682693.688863399 1333772.274925583,1682693.6692584993 1333773.2603540155,1682689.2385511885 1333775.6811492643,1682678.9018678719 1333780.3199506311,1682661.1594337295 1333787.6900681031,1682646.5488822989 1333804.0811333153,1682635.9524340625 1333828.998847761,1682630.1493837794 1333828.9513190584,1682621.6212524513 1333827.9310362441,1682614.2106004006\" opacity=\"0.8\" /><polyline fill=\"none\" stroke=\"#66cc99\" stroke-width=\"35.288784000004334\" points=\"1334668.9894504515,1680527.9209003707 1334665.8398817638,1680520.309298099 1334662.6903130764,1680512.712399502 1334659.5407443887,1680505.1105996803 1334660.9285825025,1680497.5382072078 1334662.3195891967,1680489.9707159605 1334663.7105958906,1680481.06028909\" opacity=\"0.8\" /><polyline fill=\"none\" stroke=\"#66cc99\" stroke-width=\"35.288784000004334\" points=\"1334663.7105958906,1680481.06028909 1334656.6098077327,1680485.5302062 1334649.509019575,1680490.0099257596 1334642.420905738,1680494.4896453193 1334637.801115852,1680499.7584620882 1334633.1813259663,1680505.0321800818 1334628.571041821,1680510.291194401 1334621.3498476169,1680516.942156592 1334612.2686968537,1680517.6920440018 1334611.4607089108,1680517.6087231785 1334605.7794446684,1680517.0597859896 1334600.1203604874,1680514.4817416915 1334598.9511544053,1680513.751459181 1334590.1393329564,1680515.349258499 1334587.2115648806,1680519.9907184804 1334586.9105497645,1680523.039280369 1334586.4891286022,1680527.3180497077 1334585.8585811486,1680533.7190494288 1334585.2185279545,1680540.1298515995 1334584.9206814186,1680543.1784134882 1334584.5594632796,1680546.8396284895 1334582.7406982628,1680552.8191228688 1334573.440915468,1680553.1377024874 1334569.8287340759,1680552.172161182 1334562.3001875952,1680547.1288007586 1334556.168984969,1680540.3700116198 1334550.6905098576,1680536.4490316988 1334545.1993604254,1680532.5280517777 1334535.2912102384,1680532.7878166975 1334527.5313574055,1680536.3510072008 1334523.4787433697,1680539.659334009 1334521.530066566,1680546.859233389 1334520.7886188067,1680554.7796128294 1334520.2087686358,1680560.8620329318 1334518.7987504608,1680569.331349561 1334518.3393063364,1680574.198265888 1334520.6492012793,1680579.3396508093 1334522.9495904816,1680584.4810357308 1334520.4812665302,1680590.9996648494 1334517.5598356149,1680595.6411248308 1334511.701130883,1680595.3911623608 1334505.8392575714,1680595.131397441 1334496.8595013735,1680591.808366958 1334490.5001609751,1680586.9022408319 1334482.50900179,1680586.1376497473 1334474.5210111851,1680585.3779598877 1334473.3486365227,1680584.6476773773 1334471.5615573076,1680583.868382618 1334464.8505045106,1680582.6087678184 1334459.6286843927,1680582.1088428786 1334454.4005271145,1680581.6187203885 1334446.5392797163,1680586.3778097676 1334444.6793231573,1680592.9699572597 1334439.0297447168,1680600.4100166596 1334436.6406352697,1680605.7180432277 1334434.2610315632,1680611.0407734704 1334431.9891595822,1680615.1283950382 1334430.6393444303,1680622.6909850608 1334429.280023538,1680630.2486738584 1334427.698902034,1680633.792259462 1334419.8091374142,1680638.5709537407 1334414.4288882879,1680642.9722537019 1334407.4516747568,1680644.761200791 1334406.8401387841,1680644.7023860922 1334401.7007017508,1680646.6677772775 1334397.8793940675,1680650.9122380419 1334394.0707607048,1680655.1616000314 1334393.1613781964,1680658.151347221 1334391.8812718084,1680658.6414697112 1334383.8394153405,1680658.4797292894 1334377.160048345,1680657.2201144898 1334373.5415297926,1680656.2496719593 1334365.9591174491,1680657.9798043496 1334361.1587184938,1680659.6609244908 1334356.3709938591,1680661.3518470817 1334356.9603497705,1680670.9484454382\" opacity=\"0.8\" /><polyline fill=\"none\" stroke=\"#66cc99\" stroke-width=\"35.288784000004334\" points=\"1334375.9591564613,1680689.3378412675 1334377.869810303,1680691.1905042802 1334386.9414553256,1680692.0580210877 1334396.009931768,1680692.94024157 1334403.3008347359,1680688.6320648817 1334410.5790633832,1680684.3287894186 1334417.869966351,1680680.0304151801 1334425.160869319,1680675.7320409417 1334432.439097966,1680671.4189630286 1334440.8611840543,1680667.1205887904 1334449.2801015622,1680662.8124121022 1334457.69901907,1680658.5091366388 1334466.1115994176,1680654.2107624004 1334473.8397664488,1680649.8486722384 1334481.5615963195,1680645.4816808514 1334489.2802576104,1680641.1195906894 1334497.0115932217,1680636.7624017522 1334504.7302545123,1680632.40031159 1334512.4489158029,1680628.038221428 1334520.5414695535,1680624.9504497403 1334526.5300860722,1680622.97035488 1334532.5187025908,1680620.9804575702 1334540.1486436366,1680621.73034498 1334545.2405519676,1680622.23026992 1334546.260834782,1680624.9014374912 1334549.6892385243,1680629.1017872316 1334553.1303165874,1680633.2923345221 1334556.5587203298,1680637.4779805876 1334558.950998357,1680643.5407957905\" opacity=\"0.8\" /><polyline fill=\"none\" stroke=\"#66cc99\" stroke-width=\"35.288784000004334\" points=\"1334558.950998357,1680643.5407957905 1334565.1202239452,1680640.4383204281 1334570.0188488858,1680632.998261028 1334574.9206424067,1680625.558201628 1334579.8287730878,1680618.1083397781 1334584.7305666085,1680610.668280378 1334591.261010336,1680603.8310716408 1334597.800959804,1680596.9889616787 1334604.340909272,1680590.1615553913 1334610.8713529995,1680583.3194454291 1334615.750966459,1680578.4917389015 1334620.621074178,1680573.6591311488 1334625.4911818972,1680568.8314246212 1334630.9696570088,1680560.6610827108 1334636.4608064408,1680552.4809383505 1334641.9392815523,1680544.3007939905 1334648.701031632,1680540.1984687482 1334655.4596131316,1680536.1108471805 1334662.2308689519,1680532.0085219382 1334668.9894504515,1680527.9209003707\" opacity=\"0.8\" /><polyline fill=\"none\" stroke=\"#66cc99\" stroke-width=\"35.288784000004334\" points=\"1333324.5101876403,1682051.9616846316 1333318.8511034593,1682049.908071398 1333310.799741251,1682050.3001693902 1333302.7610533633,1682050.6922673823 1333294.709691155,1682051.0794641494 1333286.3699881511,1682053.6477059976 1333278.0302851475,1682056.2208490707 1333269.6905821438,1682058.789090919 1333260.0612670116,1682056.1816392716 1333250.4192775586,1682053.5692863993 1333240.789962426,1682050.9618347518 1333237.4502789285,1682042.4680119979 1333234.1201011713,1682033.979090469 1333235.710728416,1682027.078165808 1333237.310861401,1682020.182142372 1333238.9014886457,1682013.281217711 1333242.2696893648,1682006.7086751186 1333245.6410586643,1682000.141033751 1333248.1885971199,1681993.5194789094 1333250.729798415,1681986.888121618 1333250.5808751471,1681980.2812704511 1333250.4192775586,1681973.6597156096 1333244.7792048585,1681965.4207565507 1333239.1486378987,1681957.1817974916 1333231.540876914,1681953.3392371691 1333223.9299473492,1681949.5015780714 1333214.9216739298,1681947.8302603802 1333205.919737671,1681946.158942689 1333197.218816528,1681947.8792726293 1333188.5305697059,1681949.5996025696 1333179.829648563,1681951.31993251 1333172.2408990592,1681954.4910250208 1333164.6616552959,1681957.671919982 1333157.069737212,1681960.8381112681 1333149.4809877083,1681964.009203779 1333142.880835217,1681965.4697687996 1333136.2806827258,1681966.9303338202 1333129.6805302347,1681968.381096391 1333121.7210568513,1681963.558291088 1333113.7710892083,1681958.7305845604 1333105.8211215653,1681953.8979768078 1333097.1613919646,1681953.1382869482 1333088.501662364,1681952.3883995384 1333079.838764183,1681951.6385121285 1333070.3488665782,1681950.962143092 1333060.8589689732,1681950.2906752806 1333053.9894871677,1681943.7524412624 1333047.1295111028,1681937.2093060191 1333040.2600292973,1681930.6710720009 1333035.820848481,1681923.1378893277 1333031.381667665,1681915.5998054298 1333026.9393182686,1681908.0617215317 1333022.490631712,1681900.5285388585 1333013.881599394,1681899.0924799624 1333005.2693984956,1681897.6515198415 1332996.6698719182,1681896.2105597204 1332987.981625096,1681897.7985565884 1332979.299715434,1681899.3816522316 1332970.6114686118,1681900.9696490995 1332962.008773454,1681896.431114841 1332953.418752617,1681891.9023830323 1332951.818619632,1681882.3008834508 1332950.221655227,1681872.6993838693 1332955.4403067646,1681867.2884315783 1332960.658958302,1681861.892182962 1332965.88077842,1681856.481230671 1332973.0195895399,1681853.408162658 1332980.148894919,1681850.33999587 1332987.2813688787,1681847.2718290817 1332996.4512398865,1681844.62026641 1333005.6306166349,1681841.9687037386 1333014.8004876426,1681839.3318447417 1333022.8011525683,1681833.8424728524 1333030.7891431735,1681828.358002188 1333038.7803023586,1681822.8784327484 1333043.9514251936,1681816.3696060795 1333049.109873708,1681809.8607794107 1333054.2714908028,1681803.3519527419 1333061.8792517874,1681799.3476519976 1333069.4996870928,1681795.348252478 1333077.1106166579,1681791.3488529588 1333086.321679208,1681790.0794357094 1333095.5390789183,1681788.8100184598 1333104.7501414684,1681787.5406012104 1333113.9200124762,1681788.8786356086 1333123.0898834842,1681790.2215712315 1333132.259754492,1681791.5596056294 1333140.209722135,1681794.461130771 1333148.159689778,1681797.3577546875 1333156.1191631614,1681800.269082279 1333182.8112825016,1681815.7814590915 1333206.369676055,1681828.598162208 1333232.0795355428,1681828.7697050795 1333246.6898587001,1681821.56000325 1333249.3007687589,1681808.1306470206 1333249.5510865923,1681787.0994909694 1333253.9205586447,1681760.5887654787 1333253.6702408115,1681746.5418549117 1333252.3489428812,1681724.1677632376 1333256.6708862311,1681704.258987689 1333264.7602714014,1681683.7914725014 1333269.0885519118,1681677.4394850293 1333273.4200010023,1681671.102201232\" opacity=\"0.8\" /><polyline fill=\"none\" stroke=\"#66cc99\" stroke-width=\"35.288784000004334\" points=\"1333273.4200010023,1681671.102201232 1333267.6310050343,1681665.5589158689 1333261.8515148067,1681660.0303341802 1333256.0593502587,1681654.5017524916 1333250.501660643,1681647.3802727102 1333244.9312967064,1681640.2685953784 1333239.3704385106,1681633.1618192717 1333233.8000745743,1681626.05014194 1333228.2392163784,1681618.9384646083 1333222.348825845,1681615.4683973782 1333216.4616038918,1681611.9983301482 1333212.8494224995,1681607.8616963315 1333209.2404096876,1681603.7201612901 1333204.1389956162,1681596.971174601 1333199.040750125,1681590.2319903618 1333194.8106956,1681582.9977824076 1333190.5806410748,1681575.7586732286 1333187.7415932438,1681568.6224897723 1333184.8993768326,1681561.4814050912 1333181.8195169088,1681555.1588249686 1333178.7301512444,1681548.841146071 1333175.6502913204,1681542.5185659484 1333173.5590284092,1681536.539071569 1333171.4804398187,1681530.5693796393 1333168.8093267365,1681523.6194427293 1333166.150887975,1681516.6695058194 1333163.479774893,1681509.7195689094 1333162.1616455428,1681501.299264529\" opacity=\"0.8\" /><polyline fill=\"none\" stroke=\"#66cc99\" stroke-width=\"35.288784000004334\" points=\"1333162.1616455428,1681501.299264529 1333161.2364201336,1681495.407992198 1333160.8403476125,1681492.878960149 1333159.5190496822,1681484.4586557685 1333159.9214593638,1681477.3616821116 1333160.3111947244,1681470.2696096795 1333160.7104358256,1681463.1824384723 1333160.0291910893,1681454.3406287504 1333159.3606206737,1681445.4988190287 1333158.688881678,1681436.6619105318 1333158.0203112625,1681427.82010081 1333157.5291813363,1681419.679166249 1333157.0285456697,1681411.538231688 1333156.5405843237,1681403.3923959022 1333156.0494543978,1681395.2514613413 1333155.5614930517,1681387.1105267804 1333150.7515883557,1681379.6998747296 1333145.9290093393,1681372.2990251288 1333141.1191046434,1681364.8883730783 1333136.299694207,1681357.4924247023 1333131.489789511,1681350.0817726515 1333124.7597252328,1681344.602203212 1333118.0391666954,1681339.1079300977 1333111.3091024174,1681333.6185582085 1333104.5885438798,1681328.129186319 1333097.861648182,1681322.6496168794 1333091.1410896443,1681317.1602449901 1333083.5396658198,1681311.7688975986 1333075.9414105755,1681306.3824514323 1333068.3399867513,1681300.981301591 1333060.7385629269,1681295.5899541997 1333059.0402039564,1681286.0717754415 1333057.3386764058,1681276.5486954586 1333055.6403174356,1681267.0305167004 1333057.4305652308,1681258.3406449505 1333059.2113072856,1681249.6605756504 1333061.0015550808,1681240.9707039006 1333059.5598511042,1681232.8199668897 1333058.1213157075,1681224.669229879 1333053.5902460665,1681217.6898856198 1333049.0686821658,1681210.72034381 1333044.5502868455,1681203.7409995508\" opacity=\"0.8\" /><polyline fill=\"none\" stroke=\"#66cc99\" stroke-width=\"35.288784000004334\" points=\"1333044.5502868455,1681203.7409995508 1333043.7613103834,1681202.5205945503 1333036.720725249,1681202.9420998918 1333029.6801401144,1681203.3489015587 1333021.6794751887,1681209.2793836892 1333013.6693045225,1681215.2098658197 1333008.8784113077,1681218.768155098 1333005.6686395968,1681221.1501504 1332999.4899082682,1681227.3207925507 1332993.32068268,1681233.4914347013 1332987.138782771,1681239.6718793018 1332980.9695571829,1681245.8425214523 1332977.7692912125,1681253.552148222 1332974.5785309828,1681261.2519725417 1332971.3909393332,1681268.9517968616 1332968.2001791035,1681276.6614236312 1332962.4999033802,1681282.131190621 1332956.8091333974,1681287.6009576109 1332951.108857674,1681293.0609221507 1332950.110754921,1681300.9077832175 1332949.0999778472,1681308.7595455095 1332948.0892007735,1681316.6113078012 1332947.08159228,1681324.458168868 1332947.1291209825,1681332.089376039 1332947.1703125245,1681339.7205832105 1332947.2210098072,1681347.3517903816 1332951.1500492163,1681354.2282089181 1332955.0790886253,1681361.1095286794 1332959.0112966145,1681367.9908484407 1332962.949841764,1681374.872168202 1332963.6405922407,1681382.6013998713 1332964.340848458,1681390.3306315404 1332965.0411046753,1681398.0598632097 1332964.600672032,1681406.5193773892 1332964.1602393885,1681414.9886940185 1332963.719806745,1681423.448208198 1332963.2793741017,1681431.9077223775 1332962.6615009687,1681441.6121476819 1332962.030953515,1681451.3116717616 1332961.4701148253,1681458.8889654588 1332960.8997703951,1681466.4613579311 1332960.3294259647,1681474.0386516284 1332961.5398235891,1681482.061956792 1332962.7502212136,1681490.0803607302 1332966.7014406838,1681496.5107678007 1332970.6399858333,1681502.9313724213 1332974.5912053036,1681509.3617794916 1332978.529750453,1681515.792186562 1332984.1698231532,1681523.3988876087 1332989.809895853,1681531.02029233 1332995.4499685531,1681538.6416970515 1332986.330794828,1681542.2097887797 1332977.2211268435,1681545.768078058 1332968.098784538,1681549.341071011 1332958.9891165535,1681552.909162739 1332949.869942828,1681556.472353242 1332940.7602748435,1681560.0404449704 1332933.5390806394,1681565.4808046108 1332926.330560756,1681570.9113618012 1332919.1093665515,1681576.3517214416 1332911.900846668,1681581.782278632 1332903.6498639092,1681584.5906805005 1332895.3988811502,1681587.4088848187 1332887.1510669712,1681590.222187912 1332878.9000842124,1681593.0305897805 1332870.6491014534,1681595.8389916488 1332862.4012872744,1681598.6522947422 1332854.1503045156,1681601.4704990603 1332846.9196045708,1681606.8814513513 1332839.688904626,1681612.302206092 1332832.4613732616,1681617.718059608 1332825.2306733169,1681623.1388143487 1332816.9289932752,1681624.5797744696 1332808.6209760732,1681626.0207345907 1332800.3192960315,1681627.4616947116 1332792.0112788295,1681628.9124572824 1332783.7095987878,1681630.3485161783 1332778.2089436152,1681635.9310113408 1332772.7114570227,1681641.5086052786 1332767.21080185,1681647.091100441 1332761.7101466774,1681652.6686943786 1332753.8203820577,1681658.2413870913 1332745.9401231783,1681663.8091785791 1332738.0503585585,1681669.372068842 1332730.1605939388,1681674.9398603297 1332722.270829319,1681680.5076518175 1332714.3810646993,1681686.0705420803 1332706.50080582,1681691.6383335681 1332698.6110412003,1681697.2012238312 1332693.208612013,1681705.0284799985 1332687.8188571462,1681712.8508349408 1332682.4195965389,1681720.6682886581 1332677.0298416722,1681728.4906436005 1332671.6305810648,1681736.308097318 1332666.2313204575,1681744.1304522604 1332663.3605868248,1681752.0900414998 1332660.4898531921,1681760.0398282898 1332657.6286253,1681767.9994175292 1332654.7610602474,1681775.9492043192 1332651.8903266147,1681783.8989911089 1332649.0195929818,1681791.8585803485 1332649.6089488931,1681801.6806350506 1332650.2014733849,1681811.4977885277 1332650.7908292962,1681821.3198432298 1332651.389690948,1681831.1418979317 1332644.1399795222,1681836.8322200421 1332636.899773837,1681842.5078384778 1332629.6500624113,1681848.198160588 1332623.5790628083,1681855.8783800083 1332617.5112317854,1681863.5585994285 1332611.4402321826,1681871.2388188487 1332605.3692325796,1681878.919038269 1332601.4116759489,1681886.8198128098 1332597.4509507383,1681894.7205873504 1332593.4902255274,1681902.6115594415 1332589.5199945762,1681910.5123339822 1332585.5592693656,1681918.3984048483 1332584.6308753763,1681926.838314128 1332583.689807066,1681935.2880258579 1332582.7614130767,1681943.727935138 1332581.8298505072,1681952.1678444177 1332580.8887821971,1681960.6077536978 1332580.2392232625,1681970.121031231 1332579.589664328,1681979.6392099892 1332578.930599653,1681989.1622899722 1332578.2810407183,1681998.6706662807 1332577.6314817837,1682008.1888450389 1332580.4990468363,1682016.270964901 1332583.369780469,1682024.348183538 1332586.2405141017,1682032.44010585 1332589.1112477346,1682040.5222257122 1332591.9788127872,1682048.5994443493 1332599.4091332825,1682054.922024472 1332606.8394537778,1682061.2397033696 1332614.269774273,1682067.5524810425 1332621.7000947683,1682073.87015994 1332628.5600708334,1682079.7124200223 1332635.4200468983,1682085.53997643 1332642.5303407966,1682090.7205711505 1332649.6406346948,1682095.910968321 1332656.750928593,1682101.0915630416 1332663.8485481709,1682106.281960212 1332670.9588420691,1682111.4576537076 1332678.0691359674,1682116.6382484282 1332685.1794298657,1682121.8286455986 1332692.289723764,1682127.0092403193 1332698.9785965,1682132.6113403812 1332705.670637816,1682138.1987367687 1332712.359510552,1682143.8008368309 1332719.0515518677,1682149.388233218 1332725.7404246037,1682154.9805308306 1332732.4292973396,1682160.5777296678 1332739.1213386557,1682166.17002728 1332748.04089183,1682164.3908826408 1332756.9604450047,1682162.6117380017 1332765.8799981794,1682160.8423958123 1332774.7995513538,1682159.0583499484 1332783.7191045284,1682157.2792053092 1332792.6386577028,1682155.50006067 1332801.5613794576,1682153.720916031 1332810.6298559,1682154.3678777178 1332819.7015009227,1682155.0197406297 1332828.7699773652,1682155.6716035416 1332837.841622388,1682156.3185652285 1332846.9100988305,1682156.9704281404 1332855.9690695324,1682157.6222910522 1332864.8410940045,1682153.162176392 1332873.7099498962,1682148.7118641818 1332880.1199875772,1682143.2813069914 1332886.5205195178,1682137.8507498007 1332892.9305571988,1682132.4201926102 1332899.3310891395,1682126.9896354196 1332905.7411268204,1682121.5590782291 1332912.1416587608,1682116.1285210385 1332917.5504251088,1682113.9376735077 1332922.9591914564,1682111.7517272017 1332929.9712593695,1682108.909016759 1332936.9801587025,1682106.081009991 1332943.9890580352,1682103.2382995482 1332951.0011259483,1682100.4102927803 1332960.6811383634,1682102.1306227206 1332970.370656519,1682103.850952661 1332980.050668934,1682105.581085051 1332989.7306813488,1682107.3014149913 1332999.410693764,1682109.0217449316\" opacity=\"0.8\" /><polyline fill=\"none\" stroke=\"#66cc99\" stroke-width=\"35.288784000004334\" points=\"1333425.4104545286,1680293.8187941886 1333422.0992882524,1680300.1315718612 1333416.110671734,1680306.4100409597 1333410.1188866352,1680312.698312508 1333404.1302701165,1680318.9914852811 1333399.0700475872,1680326.7207169505 1333394.0003193174,1680334.4499486196 1333388.9305910477,1680342.1889827386 1333383.860862778,1680349.918214408 1333383.1796180417,1680359.5785286883 1333382.488867565,1680369.2388429686 1333384.8811455923,1680376.3701252 1333387.2702550394,1680383.4916049812 1333389.649858746,1680390.6081835378\" opacity=\"0.8\" /><polyline fill=\"none\" stroke=\"#66cc99\" stroke-width=\"35.288784000004334\" points=\"1333352.1497124508,1680423.4905014003 1333344.820786521,1680426.0783481481 1333337.488692011,1680428.661293671 1333330.159766081,1680431.2491404188 1333322.2002926974,1680431.401078391 1333314.2313135734,1680431.5481151377 1333308.4296432848,1680436.90025273 1333302.6311415765,1680442.2376866473\" opacity=\"0.8\" /><polyline fill=\"none\" stroke=\"#66cc99\" stroke-width=\"35.288784000004334\" points=\"1333302.6311415765,1680442.2376866473 1333302.4315210257,1680450.1384611882 1333302.2287318949,1680458.039235729 1333302.0291113444,1680465.93020782 1333301.8294907936,1680473.8309823608 1333303.7211331544,1680481.8787936484 1333305.6096069347,1680489.9217037114 1333307.5012492954,1680497.9695149993 1333309.3802173354,1680506.022227512 1333311.2686911158,1680514.06023635 1333311.6901122783,1680523.4509832608 1333312.1115334406,1680532.8319277216 1333312.529786023,1680542.2079709577 1333312.9512071854,1680551.5889154186 1333313.3694597676,1680560.9698598797 1333313.7908809301,1680570.3508043406 1333314.4816314068,1680579.2710336607 1333315.1692133034,1680588.191262981 1333315.8694695206,1680597.111492301 1333316.5602199973,1680606.0317216215 1333317.2509704742,1680614.9519509417 1333317.9512266915,1680623.8721802619 1333320.5716424908,1680631.6798315295 1333323.2015640307,1680639.5021864718 1333325.8314855706,1680647.3098377397 1333328.4614071106,1680655.122390232 1333331.0786543298,1680662.9300414997 1333333.841656237,1680670.8896307393 1333336.6014895637,1680678.8590224287 1333339.370828631,1680686.8186116684 1333342.130661958,1680694.7880033578 1333344.8904952847,1680702.7524938222 1333349.329676101,1680711.5207851706 1333353.768856917,1680720.2890765187 1333358.2112063135,1680729.062269092 1333362.6503871295,1680737.8207579905 1333365.7904500766,1680746.672370162 1333368.9305130236,1680755.5190811087 1333372.0705759707,1680764.3608908306 1333375.2106389177,1680773.2125030023 1333378.3507018648,1680782.059213949\" opacity=\"0.8\" /><polyline fill=\"none\" stroke=\"#66cc99\" stroke-width=\"35.288784000004334\" points=\"1333528.3386127248,1680794.2877700776 1333527.0204833746,1680793.6310059407 1333526.5515335097,1680785.8576632475 1333526.0889208051,1680778.089221779 1333525.61997094,1680770.3109778608 1333526.8905715877,1680762.1798457496 1333528.1516664948,1680754.0389111887 1333529.4190985623,1680745.9077790775 1333529.9514200306,1680738.0119057617 1333530.4805729187,1680730.1209336708 1333531.009725807,1680722.22015913 1333531.5293729545,1680714.3291870388 1333531.180829136,1680704.7816009314 1333530.8196109969,1680695.2389160485 1333530.4615614377,1680685.6913299412 1333530.109849039,1680676.1486450583 1333529.7486308997,1680666.6010589509 1333525.5692736574,1680658.0778288476 1333521.389916415,1680649.5594999692 1333517.2200649132,1680641.041171091 1333517.7809036032,1680632.9786561283 1333518.3385737129,1680624.911239941 1333518.8994124027,1680616.8389225286 1333519.4602510924,1680608.7813087911 1333520.0210897822,1680600.7089913788 1333526.8905715877,1680594.7392994491 1333533.7505476528,1680588.7696075193 1333540.6105237177,1680582.8097180394 1333550.3887621178,1680581.5697081394 1333560.160663358,1680580.3296982395 1333567.9997306948,1680585.8484774781 1333572.9015242157,1680593.1807099304 1333577.8001491562,1680600.5178436076 1333584.1594895546,1680602.532247042 1333590.5093242126,1680604.5417492515 1333590.9814426575,1680594.8177190474 1333591.440886782,1680585.0887876186 1333592.099951457,1680578.1780605079 1333592.7685218726,1680571.2624321722 1333591.9415224488,1680563.7390519488 1333591.120860185,1680556.2303754 1333590.3001979215,1680548.7118964016 1333586.589790544,1680542.492242002 1333582.8888889072,1680536.2676863775 1333579.1816501098,1680530.0480319778 1333578.2595932807,1680520.201471151 1333577.3407050318,1680510.3402066499 1333579.2703703546,1680503.0814925712 1333581.2000356773,1680495.8080748178 1333583.129701,1680488.549360739 1333589.1214860987,1680489.098297928 1333595.1005968768,1680489.652136342 1333601.7704581316,1680491.529305479 1333608.430813646,1680493.4113758411 1333615.100674901,1680495.2885449782 1333621.7103331324,1680497.7881696778 1333628.3294971047,1680500.3024980521 1333634.9486610768,1680502.802122752 1333642.8891229792,1680505.1988217286 1333650.8200791413,1680507.6004219302 1333658.751035303,1680509.9922196819\" opacity=\"0.8\" /><polyline fill=\"none\" stroke=\"#66cc99\" stroke-width=\"35.288784000004334\" points=\"1333937.899779575,1680195.9217280115 1333931.3598301068,1680190.7411332908 1333924.8293863796,1680185.5605385702 1333918.298942652,1680180.3799438495 1333911.7589931842,1680175.199349129 1333902.6398194588,1680171.4107022805 1333893.5111399933,1680167.6220554318 1333884.3792919475,1680163.838309808 1333875.2506124817,1680160.0496629593 1333866.1314387566,1680156.2610161107 1333858.9704475757,1680151.5117291813 1333851.8189621351,1680146.7624422521 1333844.6706452747,1680142.008254098 1333837.5096540938,1680137.249164719 1333830.3613372336,1680132.4998777895 1333820.5007157489,1680130.8481649978 1333810.6400942642,1680129.2111558807 1333800.7794727797,1680127.5594430892 1333790.918851295,1680125.9077302974 1333781.04872407,1680124.2707211804 1333771.1912711654,1680122.6190083886 1333761.3306496807,1680120.9721968218 1333751.4700281962,1680119.33028648 1333741.6094067115,1680117.6785736883 1333732.4712215054,1680116.0317621215 1333723.329867719,1680114.3800493297 1333714.1790081921,1680112.728336538 1333705.040822986,1680111.0815249712 1333695.8994691996,1680109.4200097297 1333686.7612839935,1680107.768296938 1333677.6104244667,1680106.1214853711 1333668.4690706802,1680104.4697725794 1333659.330885474,1680102.8180597876 1333650.1895316876,1680101.1712482208 1333641.0386721608,1680099.5195354293 1333631.9004869547,1680097.8678226375 1333622.378903548,1680095.2407660903 1333612.8604887216,1680092.6088083184 1333603.3515796356,1680089.9817517714 1333593.8299962291,1680087.3497939995 1333584.3115814028,1680084.7325399022 1333574.789997996,1680082.1005821303 1333565.2715831697,1680079.4686243583 1333555.7499997632,1680076.8415678113 1333546.2410906772,1680074.2096100394 1333537.1504341736,1680073.3616981313 1333528.0597776698,1680072.5186874482 1333518.9691211663,1680071.6707755404 1333509.8816332428,1680070.8277648573 1333500.7909767393,1680069.9798529495 1333491.7003202355,1680069.1319410417 1333482.609663732,1680068.2889303586 1333473.519007228,1680067.4410184508 1333466.5893223996,1680067.1616486313 1333459.6596375708,1680066.882278812 1333452.7394584827,1680066.5980077677\" opacity=\"0.8\" /><polyline fill=\"none\" stroke=\"#66cc99\" stroke-width=\"35.288784000004334\" points=\"1333452.7394584827,1680066.5980077677 1333453.3002971725,1680076.5523955422 1333453.8611358623,1680086.5018820916 1333454.4314802927,1680096.4611710908 1333454.9891504024,1680106.4106576403 1333455.5594948328,1680116.3601441898 1333456.1203335226,1680126.3096307393 1333456.5702719064,1680135.3376870074 1333457.01070455,1680144.3608420505 1333456.7889039381,1680152.6096035594 1333456.5607661658,1680160.868167518 1333456.3389655543,1680169.1316327013 1333456.110827782,1680177.38039421 1333455.2711540374,1680186.668215398 1333454.4314802927,1680195.9707402603 1333453.6013122885,1680205.2585614482 1333452.7616385438,1680214.551283861 1333450.4295635398,1680223.4911180807 1333448.1101628563,1680232.4407547505 1333445.790762173,1680241.39039142 1333443.4713614895,1680250.33022564 1333441.1487922259,1680259.2798623096 1333438.819885802,1680268.2294989792 1333434.6405285597,1680276.1988906686 1333430.4611713174,1680284.1780848077 1333426.2786454947,1680292.152377722 1333425.4104545286,1680293.8187941886\" opacity=\"0.8\" /><polyline fill=\"none\" stroke=\"#66cc99\" stroke-width=\"35.288784000004334\" points=\"1335207.27101807,1682798.7221130321 1335212.0048768418,1682799.0701000001 1335212.6069070739,1682791.924114094 1335213.9345421644,1682776.3088115589 1335214.5904382593,1682768.6383945884 1335215.880050388,1682753.42989372 1335216.3616745737,1682747.7493740595 1335217.1696625166,1682738.2213928513 1335217.9808190397,1682728.6885104186 1335218.7888069828,1682719.1605292105 1335219.11200216,1682715.3277713377 1335222.3186052905,1682677.5442285743 1335222.8319152778,1682671.5206231705\" opacity=\"0.8\" /><polyline fill=\"none\" stroke=\"#66cc99\" stroke-width=\"35.288784000004334\" points=\"1335147.479910289,1682794.3404179704 1335157.4514320793,1682795.0707004808 1335167.4102795492,1682795.800982991 1335177.3786327597,1682796.5312655014 1335187.3406488097,1682797.2615480116 1335197.30900202,1682797.991830522 1335207.27101807,1682798.7221130321\" opacity=\"0.8\" /><polyline fill=\"none\" stroke=\"#66cc99\" stroke-width=\"35.288784000004334\" points=\"1334400.861028006,1681205.079033949 1334409.7615696997,1681202.8489766188 1334414.3591795242,1681195.6196698896\" opacity=\"0.8\" /><polyline fill=\"none\" stroke=\"#66cc99\" stroke-width=\"35.288784000004334\" points=\"1334414.3591795242,1681195.6196698896 1334418.959957929,1681188.39036316 1334423.5607363337,1681181.1610564308 1334428.1488404179,1681173.9415521515 1334432.7496188227,1681166.712245422 1334433.9093191645,1681159.571160741 1334434.9486134597,1681153.1162475462 1334435.0595137656,1681152.43007606 1334436.2097083668,1681145.2889913789 1334437.1190908751,1681135.9717628416 1334438.0411477042,1681126.6594355293 1334438.9505302126,1681117.3520094417 1334436.380811696,1681110.691244801 1334433.8205989196,1681104.0304801604 1334429.8503679684,1681095.3210035108 1334425.8706312766,1681086.6017244116 1334421.9004003254,1681077.8824453123 1334417.9301693742,1681069.1680674378 1334410.8325497967,1681064.5217062314 1334410.2590367862,1681064.149213139 1334402.5815670376,1681059.14016129 1334394.9104344496,1681054.1213069912 1334388.208887393,1681047.9114550413 1334381.5105089166,1681041.7016030913 1334374.7994561195,1681035.5015535913 1334367.2994268604,1681033.1685705383 1334359.789891861,1681030.8404887102 1334352.2803568614,1681028.5124068821 1334344.7803276023,1681026.189226279 1334336.2505097885,1681025.3609192707 1334327.7301977153,1681024.5277110375 1334319.2003799013,1681023.6994040292 1334310.9905886846,1681024.1895265193 1334302.7807974678,1681024.6796490094 1334294.5615005107,1681025.1697714995 1334288.4905009076,1681028.2624444123 1334282.409995564,1681031.3502161 1334279.6691737182,1681032.732361522 1334276.0506551657,1681039.2411881909 1334272.4194622925,1681045.74021241 1334268.7914379996,1681052.2490390788 1334266.769883852,1681059.292099262 1334264.7514982845,1681066.34006067 1334262.729944137,1681073.378219628 1334262.9802619703,1681080.4702920602 1334263.221074063,1681087.5476608174 1334263.4587175758,1681094.6299307998 1334264.2793798395,1681101.7710154809\" opacity=\"0.8\" /><polyline fill=\"none\" stroke=\"#66cc99\" stroke-width=\"35.288784000004334\" points=\"1334264.2793798395,1681101.7710154809 1334271.8903094043,1681103.9520605619 1334279.5012389694,1681106.1184019682 1334287.108999954,1681108.2896445994 1334294.719929519,1681110.4608872307 1334300.2586076537,1681113.3084988983 1334305.8004543686,1681116.1708142406 1334311.3993355264,1681118.4400813698 1334317.0013852646,1681120.719150949 1334323.87086707,1681121.9689632987 1334330.7403488755,1681123.2089731987 1334337.3214898854,1681127.3211008909 1334343.8994623155,1681131.428327358 1334349.2702057012,1681135.9913677413 1334354.640949087,1681140.5593093492 1334361.1808985549,1681145.0488313586 1334367.720848023,1681149.5285509184 1334374.2607974908,1681154.0180729278 1334373.1201086303,1681159.6887901386 1334371.9794197695,1681165.369309799 1334365.708799616,1681169.9715599813 1334359.4413480423,1681174.5689089387 1334355.6612319013,1681183.4597309094 1334351.8716100196,1681192.3505528804 1334356.9603497705,1681199.7906122804 1334363.3006786876,1681200.3885617184 1334369.641007605,1681201.0012148311 1334378.8013728724,1681202.4617798517 1334387.9585695597,1681203.9223448723 1334394.2893927365,1681204.52029431 1334400.6297216539,1681205.1280461978 1334400.861028006,1681205.079033949\" opacity=\"0.8\" /><polyline fill=\"none\" stroke=\"#66cc99\" stroke-width=\"35.288784000004334\" points=\"1333473.17996915,1678455.1291737186 1333465.66092841,1678454.6782610277 1333460.5690200792,1678454.2714593608 1333455.4802803285,1678453.8597564693 1333449.1906486938,1678456.3691836186 1333442.9105227997,1678458.8884132179 1333437.4985878717,1678465.6177950073 1333434.2602989394,1678469.45055288 1333431.0315157478,1678473.2882119776 1333430.0714359565,1678473.6999148694 1333429.9193441086,1678503.0876593771 1333433.8990808004,1678519.4920591216 1333435.1791871884,1678525.7803306698 1333436.0885696968,1678533.0488471983 1333443.6899935212,1678533.009637399 1333452.0011793033,1678529.8189399883 1333460.3091965055,1678526.6282425777 1333468.6203822875,1678523.4424463918 1333476.9315680698,1678520.2517489812 1333485.2490910122,1678517.0610515706 1333493.5602767945,1678513.8703541597 1333501.690853507,1678512.8705042799 1333509.8309359602,1678511.88045685 1333517.9615126727,1678510.8904094198 1333526.1015951259,1678509.89055954 1333534.3494093046,1678507.3223176918 1333542.590886323,1678504.7491746186 1333550.838700502,1678502.1711303205 1333559.0896832608,1678499.5979872474 1333567.9997306948,1678498.8677047372 1333576.9192838694,1678498.1423234518 1333585.838837044,1678497.4120409414 1333595.2495201447,1678496.3680800374 1333604.6697089858,1678495.3388228083 1333614.0803920866,1678494.299763129 1333623.5005809278,1678493.26070345 1333632.9112640284,1678492.2314462208 1333637.9714865577,1678492.5402233896 1333643.0285405067,1678492.8490005585 1333650.9404851876,1678490.1092158386 1333658.8492612885,1678487.3792335687 1333666.7612059694,1678484.6492512987 1333674.66998207,1678481.9094665789 1333682.5787581708,1678479.179484309 1333690.2403850185,1678477.581684991 1333697.9115176066,1678475.9789844484 1333705.5699758742,1678474.3811851307 1333713.2316027218,1678472.768682138 1333721.8786580018,1678472.8078919374 1333730.5193761215,1678472.8520029613 1333739.1695999817,1678472.8912127607 1333747.8103181014,1678472.9304225598 1333756.131009624,1678470.0681072176 1333764.439026826,1678467.2302979997 1333772.759718349,1678464.3777851071 1333777.8104351375,1678459.2903136597 1333782.8611519262,1678454.1979409873 1333787.9213744556,1678449.1202719896 1333789.0493889956,1678441.1508803002 1333790.1900778562,1678433.1814886108 1333783.7895459158,1678430.7112712606 1333777.3985197158,1678428.2410539105 1333771.0106620959,1678425.7708365603 1333762.4206412588,1678424.7219744313 1333753.8401261622,1678423.6682110776 1333745.2501053251,1678422.6193489488 1333736.6695902287,1678421.5802892698 1333730.059931997,1678423.2320020613 1333723.4502737655,1678424.8788136283 1333716.8406155338,1678426.5305264199 1333711.2100485743,1678428.2018441113 1333705.5794816145,1678429.8780630275 1333698.690988328,1678427.471561601 1333689.029987394,1678427.8097461192 1333679.3594807195,1678428.1479306375 1333669.720659847,1678426.9912415608 1333660.0691646533,1678425.8296512591 1333650.42083804,1678424.6680609575 1333640.778848587,1678423.5113718808 1333631.1305219736,1678422.8791138686 1333621.4790267802,1678422.2517570811 1333611.8402059074,1678421.6096966192 1333602.1887107138,1678420.9823398318 1333597.6101123702,1678427.8391534686 1333593.0410197673,1678434.6910658805 1333587.9491114363,1678439.131575641 1333582.8603716856,1678443.5622829518 1333579.6410942343,1678445.2924153418 1333574.5586916439,1678445.978586828 1333568.9693162264,1678453.5705842 1333565.6296327289,1678458.3590809286 1333557.980680202,1678458.8197960693 1333550.3285590948,1678459.28051121 1333543.2499509982,1678458.7903887199 1333536.180848642,1678458.3002662298 1333528.5794248176,1678457.7513290409 1333520.9811695733,1678457.1876881772 1333511.820804306,1678457.55037882 1333503.7789478381,1678457.0308489802 1333495.7402599505,1678456.5113191407 1333488.2085448897,1678456.050604 1333480.6895041496,1678455.5898888593 1333473.17996915,1678455.1291737186\" opacity=\"0.8\" /><polyline fill=\"none\" stroke=\"#66cc99\" stroke-width=\"35.288784000004334\" points=\"1333047.4210204782,1680921.288309718 1333036.8411312953,1680941.2608011905 1333031.5496024138,1680957.0378441475 1333033.0103178716,1680965.8404440703 1333028.9291866145,1680970.5309163006 1333024.4393085155,1680975.182178732 1333006.178781004,1680980.098107308 1332990.408757505,1680990.9886290384 1332981.4194955667,1681006.0991054089 1332975.8491316303,1681026.0078809576 1332969.6704003017,1681042.559317449 1332960.3611117664,1681050.5924250623 1332947.6899596723,1681058.8117792215 1332937.5188173312,1681067.1977750275 1332937.0308559851,1681074.628031978 1332944.6512912905,1681075.8190296288 1332952.2590522752,1681077.0002248301 1332960.9916592198,1681077.6520877418 1332969.7115918437,1681078.299049429 1332978.4410302083,1681078.9509123408 1332987.1704685728,1681079.5978740277 1332995.899906937,1681080.2399344898 1333005.4405018247,1681081.8916472814 1333014.9906024528,1681083.5384588481 1333024.5311973405,1681085.19017164 1333034.0686236478,1681086.8418844317 1333043.6187242758,1681088.4886959984 1333053.1593191635,1681090.1404087902 1333062.7094197916,1681091.792121582\" opacity=\"0.8\" /><polyline fill=\"none\" stroke=\"#66cc99\" stroke-width=\"35.288784000004334\" points=\"1333062.7094197916,1681091.792121582 1333064.879897207,1681084.1315070612 1333067.059880363,1681076.4708925406 1333069.2303577785,1681068.81027802 1333074.5694153626,1681062.6004260702 1333079.8989672062,1681056.3905741205 1333085.2285190497,1681050.1709197208 1333090.570745214,1681043.9610677708 1333095.3711441695,1681036.56021817 1333100.158868804,1681029.1593685693 1333104.9592677595,1681021.7585189682 1333109.7501609745,1681014.3576693675 1333114.5505599298,1681006.9617209914 1333121.1095208786,1681001.2615964315 1333127.6716504078,1680995.5516694214 1333134.230611357,1680989.8515448612 1333140.7800665654,1680984.1416178513 1333143.140658791,1680976.6917560014 1333145.4885766958,1680969.2418941518 1333147.839663181,1680961.792032302 1333151.939805919,1680956.4398947097 1333156.0399486572,1680951.1024607923 1333160.1495971358,1680945.7503232001 1333165.3492371924,1680939.349323479 1333170.5615515697,1680932.948323758 1333175.7611916263,1680926.5424228122 1333180.9703374235,1680920.1414230913 1333189.0692283344,1680918.068204958 1333205.2891902174,1680913.941373591 1333220.00090794,1680919.4405479303 1333245.2006260208,1680928.4588017485 1333261.629714195,1680927.7824327121 1333273.5911043312,1680919.2690050588 1333298.9112284584,1680903.1390739088 1333309.519634863,1680901.1687814984 1333317.8213149046,1680907.8687559385 1333317.1305644277,1680915.2107908407 1333318.1096557,1680928.6205421702 1333301.3605409288,1680948.5195152692 1333292.0100608512,1680960.9686265185 1333284.3896255458,1680978.7600729098 1333283.679863588,1680994.238141148 1333296.3415099417,1681002.0899034396 1333306.2116371668,1681000.0509938807 1333318.169858723,1680991.552269902 1333339.7700697323,1680959.5178639477 1333355.9900316151,1680937.3496237195 1333373.8006207428,1680921.989184879 1333385.6194247715,1680914.9510259207 1333394.8114758406,1680912.108315478 1333421.7095528918,1680910.922219052 1333429.158884868,1680910.8781080279 1333448.2685918647,1680902.7224697922 1333465.6292426083,1680906.9718317816 1333474.8593166396,1680910.2409487907 1333484.07988493,1680913.5198682495 1333493.309958961,1680916.7987877086 1333502.5305272518,1680920.0679047178 1333511.7510955422,1680923.3517254016 1333520.9811695733,1680926.6306448604 1333529.5204931276,1680924.6799573498 1333538.0693224224,1680922.7390722889 1333543.4115485868,1680918.6318458216 1333548.7601119112,1680914.5197181294 1333554.0991694953,1680910.4222941122 1333561.1904519126,1680904.3104666602 1333568.2785657498,1680898.1986392085 1333575.369848167,1680892.0917129815 1333581.9414834366,1680886.7003655902 1333588.5194558667,1680881.3090181989 1333595.5505352607,1680878.5104187801 1333602.568940334,1680875.7118193617 1333609.600019728,1680872.9083187182 1333616.6310991223,1680870.1097192995 1333624.7806873159,1680868.1100195397 1333632.920769769,1680866.1103197802 1333641.0703579625,1680864.1008175707 1333649.219946156,1680862.101117811 1333656.8815730037,1680862.6010427508 1333664.5400312713,1680863.1107701405 1333672.2111638593,1680863.6106950804 1333679.8696221267,1680864.1204224702 1333687.1415136138,1680868.1198219897 1333694.4102365205,1680872.119221509 1333701.6789594272,1680876.1186210285 1333709.9489536672,1680872.3789864287 1333718.218947907,1680868.6393518292\" opacity=\"0.8\" /><polyline fill=\"none\" stroke=\"#66cc99\" stroke-width=\"35.288784000004334\" points=\"1333718.218947907,1680868.6393518292 1333726.5016164677,1680864.8997172294 1333733.589730305,1680865.5907899404 1333740.6810127222,1680866.2720602017 1333747.7786322997,1680866.9484292383 1333755.2216271157,1680864.6595572094 1333762.6709590922,1680862.3706851804 1333770.1107853279,1680860.0818131515 1333777.5601173043,1680857.778237448 1333779.4105681228,1680857.9595827693 1333786.200835424,1680855.2197980497 1333793.0006084656,1680852.4800133298 1333799.7908757671,1680849.7304261602 1333808.1686017327,1680847.5297761795 1333816.5494962786,1680845.319323749 1333824.9303908246,1680843.1088713186 1333833.3112853705,1680840.908221338 1333842.4304590956,1680839.9279763578 1333851.5401270802,1680838.9624350523 1333860.6593008055,1680837.9821900718 1333869.2112986804,1680833.9778893276 1333877.7696337157,1680829.9686873585 1333886.3311373312,1680825.969287839 1333894.8894723665,1680821.9600858698 1333903.4414702416,1680817.9606863505 1333904.2716382458,1680815.3091236788 1333911.9712880554,1680803.492270442 1333915.570795127,1680793.8025488122 1333930.158938223,1680781.9905968003 1333954.179944481,1680772.0999249497 1333982.899955129,1680772.4822204919 1334002.728929824,1680768.9190299888 1334026.2207831938,1680760.6408611306\" opacity=\"0.8\" /><polyline fill=\"none\" stroke=\"#66cc99\" stroke-width=\"35.288784000004334\" points=\"1334026.2207831938,1680760.6408611306 1334032.691023898,1680759.8076528974 1334039.509808421,1680760.469318259 1334046.3285929437,1680761.121181171 1334053.1505460467,1680761.7779453078 1334061.369843004,1680761.2878228177 1334069.5986457018,1680760.7977003274 1334077.8211112393,1680760.3124790622 1334085.7393930806,1680758.5088282987 1334093.6513377614,1680756.7100787598 1334101.5696196028,1680754.911329221 1334109.4815642836,1680753.1076784574 1334118.2205083887,1680750.8678186776 1334126.949946753,1680748.6377613475 1334135.688890858,1680746.3979015676 1334144.4214978025,1680744.1678442375 1334153.150936167,1680741.9279844577 1334162.1306923649,1680738.0903253602 1334171.100942822,1680734.2477650375 1334180.0806990198,1680730.41010594 1334189.8811174813,1680729.2191082889 1334199.6815359427,1680728.018308188 1334209.4692800834,1680726.832211762 1334219.2792042852,1680725.641214111 1334229.0796227467,1680724.44041401 1334238.8800412081,1680723.2494163592 1334246.338878925,1680721.8280611378 1334253.8103909625,1680720.4116071414 1334261.2692286794,1680718.9804494702 1334267.089910449,1680718.9020298717 1334272.9200979592,1680718.8187090484 1334279.9004800706,1680717.7894518191 1334286.8903679224,1680716.7503921401 1334293.8707500338,1680715.711332461 1334303.4113449214,1680714.9222352519 1334312.9487712288,1680714.1380392679 1334317.6224269774,1680713.7508425005 1334322.4798603759,1680713.3489420586 1334332.289784578,1680712.0501174598 1334342.0902030393,1680710.751292861 1334351.9001272412,1680709.462270712 1334361.7100514432,1680708.1585448883 1334368.6112190504,1680703.6788253286 1334372.0586342737,1680695.0183609282 1334375.9591564613,1680689.3378412675\" opacity=\"0.8\" /><polyline fill=\"none\" stroke=\"#66cc99\" stroke-width=\"35.288784000004334\" points=\"1334375.9591564613,1680689.3378412675 1334369.618827544,1680683.211310141 1334363.2911729473,1680677.0798777896 1334356.9603497705,1680670.9484454382\" opacity=\"0.8\" /><polyline fill=\"none\" stroke=\"#66cc99\" stroke-width=\"35.288784000004334\" points=\"1334356.9603497705,1680670.9484454382 1334351.5389091019,1680663.7877558575 1334346.1301427542,1680656.6417699514 1334340.7087020858,1680649.4810803707 1334335.2904299975,1680642.3203907902 1334334.6598825438,1680641.4920837819 1334328.8613808355,1680639.551198721 1334323.0692162872,1680637.61031366\" opacity=\"0.8\" /><polyline fill=\"none\" stroke=\"#66cc99\" stroke-width=\"35.288784000004334\" points=\"1334015.1307526038,1680714.672272782 1333999.6110469382,1680725.2687210185 1333986.1794356036,1680732.6009534707 1333968.6001528283,1680739.6391124288 1333951.2014791225,1680744.202152812 1333932.1393008283,1680748.6524650222 1333904.35085275,1680752.8920245618 1333886.8286044176,1680753.2988262286 1333880.2189461861,1680750.7109794808 1333872.1200552753,1680752.2597665496 1333864.0306701048,1680753.7987511684 1333855.709978582,1680757.6413114911 1333847.3987928,1680761.4789705887 1333843.1592325345,1680766.6497628596 1333838.9291780093,1680771.8205551303 1333831.0013904276,1680774.07021736 1333823.0704342655,1680776.3296820393 1333815.1394781037,1680778.5793442691 1333807.2085219417,1680780.8290064987 1333798.2414400645,1680781.8190539288 1333789.2616838668,1680782.8189038087 1333780.880789321,1680785.7204289502 1333772.499894775,1680788.6317565416 1333764.119000229,1680791.538182908 1333756.9104803456,1680793.6310059407 1333749.698791882,1680795.7189277487 1333740.4687178507,1680796.9197278495 1333731.2291380793,1680798.1107255004 1333721.9990640483,1680799.3115256012 1333712.7689900172,1680800.512325702 1333703.9603371485,1680801.5219780318 1333695.1611900204,1680802.5218279115 1333686.3588743121,1680803.5314802413 1333678.310680684,1680805.5409824508 1333670.249812735,1680807.5504846603 1333662.2016191068,1680809.5599868698 1333654.1502568985,1680811.5694890793 1333646.0893889496,1680813.5789912888 1333638.560842469,1680814.0887186786 1333631.0291274083,1680814.5984460681 1333623.5005809278,1680815.108173458 1333613.6906567258,1680813.2408067705 1333603.880732524,1680811.3587364084 1333594.070808322,1680809.491369721 1333585.800814082,1680807.761237331 1333577.1189044202,1680805.5311800009 1333568.4306575977,1680803.291320221 1333558.810848206,1680802.35028504 1333549.1910388141,1680801.3994474092 1333541.6213007914,1680799.2625133523 1333534.0515627686,1680797.1108756207 1333528.3386127248,1680794.2877700776\" opacity=\"0.8\" /><polyline fill=\"none\" stroke=\"#66cc99\" stroke-width=\"35.288784000004334\" points=\"1333528.3386127248,1680794.2877700776 1333527.270801208,1680804.0608125306 1333526.199821111,1680813.8289537588 1333519.9292009573,1680815.1620869318 1333513.6490750632,1680816.4903188802 1333505.3885865638,1680818.029303499 1333497.140772385,1680819.568288118 1333488.8802838854,1680821.112173962 1333480.6293011266,1680822.651158581 1333472.368812627,1680824.1901431999 1333462.7901947773,1680825.278215128 1333453.1989026072,1680826.3711882809 1333443.6202847576,1680827.459260209 1333434.9985781189,1680828.6208505107 1333426.3705343197,1680829.7677371374 1333417.748827681,1680830.9195249893 1333409.1302896226,1680832.081115291 1333401.5415401186,1680829.7579346877 1333393.9496220348,1680827.4494577593 1333386.3703782717,1680825.1409808306 1333384.519927453,1680816.74028135 1333382.6694766346,1680808.3395818693 1333380.8095200758,1680799.9388823886 1333379.5801109702,1680790.9990481688 1333378.3507018648,1680782.059213949\" opacity=\"0.8\" /><polyline fill=\"none\" stroke=\"#66cc99\" stroke-width=\"35.288784000004334\" points=\"1333378.3507018648,1680782.059213949 1333369.7416695468,1680778.6087516185 1333361.138974389,1680775.168091738 1333352.529942071,1680771.732333082 1333343.920909753,1680768.2818707516 1333335.3213831757,1680764.841210871 1333325.8885200138,1680762.9885478583 1333316.458825432,1680761.1407860706 1333307.0291308502,1680759.288123058 1333297.0512718994,1680758.5823466722 1333287.0702443684,1680757.8716690615 1333277.0892168374,1680757.1609914508 1333269.880696954,1680756.651264061 1333263.2393529206,1680762.3709935208 1333256.6106832079,1680768.1005254302 1333249.8996304108,1680775.452362782 1333243.1790718732,1680782.799298909 1333236.4711876565,1680790.151136261 1333235.3590160173,1680791.3715412612 1333234.788671587,1680796.6305555804 1333234.2310014772,1680801.8895698993 1333233.2614159456,1680810.6921698218 1333232.3013361546,1680819.4898685196 1333231.3412563636,1680828.292468442 1333230.618820085,1680837.9821900718 1333229.9090581273,1680847.6719117016 1333223.2803884146,1680853.3916411614 1333216.6485501218,1680859.121173071 1333207.180832578,1680859.7681347579 1333197.7004407137,1680860.41019522 1333188.2295545898,1680861.062058132 1333178.7491627254,1680861.699217369 1333171.559654323,1680862.0717104615 1333164.3701459204,1680862.439302329 1333158.5304526696,1680869.1000669699 1333152.6812536784,1680875.7608316105 1333145.9892123623,1680881.4707586204 1333139.309845367,1680887.1806856305 1333132.6209726313,1680892.8906126404 1333125.9289313152,1680898.6005396503 1333123.4004043406,1680905.5308716607 1333120.8813831066,1680912.461203671 1333118.3591932924,1680919.3915356812 1333111.4611942654,1680917.5976873673 1333104.5695323988,1680915.7989378287 1333096.1316034098,1680919.0386474885 1333087.6905058408,1680922.2685546982 1333079.2810940733,1680922.2979620476 1333070.8716823058,1680922.332270622 1333062.4591019584,1680922.3616779714 1333053.339928233,1680921.7098150596 1333047.4210204782,1680921.288309718\" opacity=\"0.8\" /><polyline fill=\"none\" stroke=\"#66cc99\" stroke-width=\"35.288784000004334\" points=\"1333139.198945061,1678979.751385921 1333143.9993440167,1678993.9208271103 1333143.593765755,1679029.8370031866 1333139.6488834452,1679053.6422525318 1333136.4612917956,1679064.9689832786\" opacity=\"0.8\" /><polyline fill=\"none\" stroke=\"#66cc99\" stroke-width=\"35.288784000004334\" points=\"1332831.5488221732,1679439.481380431 1332834.5494675927,1679448.7397942694 1332837.5501130123,1679457.998208108 1332840.5507584321,1679467.2517207214 1332843.5514038517,1679476.5101345598 1332847.6610523304,1679485.2392161088 1332851.7611950685,1679493.9781001077 1332855.8613378066,1679502.7120828817 1332859.9614805446,1679511.4411644307 1332864.0711290233,1679520.1800484296 1332868.1712717614,1679528.9091299786 1332873.858873164,1679536.0600171096 1332879.5591488874,1679543.2207066903 1332885.2499188702,1679550.381396271 1332890.940688853,1679557.5322834018 1332896.6409645763,1679564.6880717576 1332902.328565979,1679571.8487613383 1332908.0193359617,1679578.9996484693 1332913.7196116848,1679586.16033805 1332917.8894631867,1679595.1883943179 1332922.0593146887,1679604.2311542607 1332926.2291661904,1679613.2690129785 1332930.3990176923,1679622.3019704716 1332934.5815435147,1679631.3398291895 1332938.7513950167,1679640.3678854576 1332942.9212465184,1679649.4106454002 1332947.3699330753,1679656.7085692782 1332951.8091138913,1679664.0211968308 1332956.260969028,1679671.3191207086 1332960.709655585,1679678.6219458114 1332965.1615107218,1679685.9296721392 1332972.5189538733,1679690.5025149721 1332979.8795656047,1679695.07045658 1332987.2401773364,1679699.638398188 1332993.868847049,1679706.0492003588 1333000.5101910825,1679712.4502000797 1333007.1388607952,1679718.8511998008 1333013.7802048284,1679725.2620019717 1333020.4215488618,1679731.6581004676 1333023.3810027393,1679737.8189401685\" opacity=\"0.8\" /><polyline fill=\"none\" stroke=\"#66cc99\" stroke-width=\"35.288784000004334\" points=\"1333224.7411038724,1679309.4616862512 1333223.6099207522,1679300.188568738 1333222.4914119525,1679290.9203524499 1333221.3602288323,1679281.6521361617 1333220.2385514528,1679272.3790186485 1333220.4413405836,1679264.3410098106 1333220.6504668747,1679256.2980997476 1333220.8595931658,1679248.25028846 1333221.0592137165,1679240.2122796217 1333221.2715085878,1679232.1693695588 1333219.1485598749,1679224.18037297 1333217.0192740015,1679216.2011788308 1333214.8994938687,1679208.2219846915 1333212.779713736,1679200.2280868776 1333207.421644671,1679194.2289875986 1333202.0604070255,1679188.2298883195 1333196.6991693804,1679182.2307890402 1333191.3411003153,1679176.2316897612 1333190.998893657,1679168.3407176703 1333190.659855579,1679160.4497455794 1333186.239686244,1679153.6419441914 1333181.8195169088,1679146.8390440287 1333177.3993475735,1679140.0312426407 1333172.9791782384,1679133.228342478 1333172.3201135634,1679126.1509737205 1333171.6515431479,1679119.0687037383 1333170.9893098925,1679111.9913349808 1333166.2205967389,1679105.031595621 1333161.4487150048,1679098.0718562615 1333159.119808581,1679094.67040618 1333156.6800018512,1679091.1121169017 1333151.8986143768,1679084.1523775419 1333146.7591773435,1679077.7611802707 1333141.6102345695,1679071.3601805498 1333136.4644603757,1679064.9738845034 1333136.4612917956,1679064.9689832786\" opacity=\"0.8\" /><polyline fill=\"none\" stroke=\"#66cc99\" stroke-width=\"35.288784000004334\" points=\"1333136.4612917956,1679064.9689832786 1333133.821864515,1679074.379335089 1333125.1019318912,1679091.994337384 1333103.8154103186,1679123.102411832 1333091.2805071718,1679135.5809304304 1333072.9312594156,1679142.8396445091 1333049.8132985055,1679143.9081115376 1333025.8841810725,1679139.967526717 1333006.0837235989,1679133.1891326786 1332990.481634849,1679121.5928345623 1332980.0475003538,1679106.2029883724\" opacity=\"0.8\" /><polyline fill=\"none\" stroke=\"#66cc99\" stroke-width=\"35.288784000004334\" points=\"1334099.2692304002,1678636.4107791402 1334098.8890007802,1678636.8420869315 1334096.3414623246,1678643.8018262913 1334093.7812495483,1678650.761565651 1334091.2305425126,1678657.7311074606 1334090.8313014114,1678666.6317318813 1334090.4415660508,1678675.5421587515 1334095.0201643943,1678681.6588874285 1334099.5987627378,1678687.7707148802 1334107.3586155707,1678685.3789171283 1334115.108962663,1678682.9822181517 1334122.8593097555,1678680.5904203998 1334127.0386669978,1678686.0209775905 1334131.2085184995,1678691.4613372309 1334135.3910443222,1678696.8918944213 1334134.5196847757,1678705.8219261914 1334133.66099955,1678714.7617604113 1334133.8606201007,1678722.319449209 1334134.0697463918,1678729.8820392315 1334134.5767192189,1678732.1071953366 1334136.0501089972,1678738.5523060819 1334138.0304716025,1678747.2323753817 1334140.2294662395,1678753.569659179 1334142.4411351972,1678759.9118442014 1334141.8486107057,1678765.9599557295 1334141.2592547943,1678772.0178697074 1334140.539987096,1678779.482435232 1334139.8207193979,1678786.9322970817 1334136.3891470751,1678793.171556381 1334132.9702490733,1678799.4108156804 1334129.5386767508,1678805.6500749795 1334127.6090114282,1678811.0708297202 1334125.669840365,1678816.4915844612 1334124.8301666202,1678815.4721296816 1334114.9505336545,1678815.5799566295 1334105.070900689,1678815.6877835772 1334095.1912677235,1678815.8103142 1334085.3116347578,1678815.9181411476 1334075.428833212,1678816.0308693203 1334065.5492002463,1678816.148498718 1334057.3394090296,1678820.0890835386 1334049.1296178128,1678824.029668359 1334040.919826596,1678827.9702531798 1334033.9014215225,1678832.4793800889 1334026.8893536094,1678836.988506998 1334025.2702091434,1678843.9776537071 1334023.6510646772,1678850.981504091 1334022.0287516308,1678857.9706508 1334026.0686913459,1678866.1017829112 1334030.0991253203,1678874.2182113477 1334034.1295592946,1678882.349343459 1334038.1694990096,1678890.47067312 1334039.1105673197,1678892.372348382 1334042.199932984,1678898.6018052313 1334050.9990801122,1678901.4004046498 1334059.8013958205,1678904.2088065182 1334068.6005429486,1678907.0123071617 1334077.3996900767,1678909.8207090301 1334086.1988372048,1678912.6193084489 1334093.3186368437,1678906.0810744306 1334100.428930742,1678899.5281367376 1334107.5392246402,1678892.9899027194 1334114.659024279,1678886.4516687011 1334115.6000925892,1678876.7423421717 1334117.1115053296,1678869.4983317677 1334118.61974949,1678862.2592225887 1334125.5716143798,1678862.9699001994 1334132.5203106895,1678863.6805778102 1334139.48168132,1678864.4010578706 1334145.6192211064,1678867.8907300003 1334151.759929473,1678871.3902045798 1334157.9101435803,1678874.8798767093 1334166.4906586767,1678878.33033904 1334175.0616680328,1678881.7709989205 1334183.749914855,1678879.4919293413 1334192.450835998,1678877.2079585374 1334201.1390828202,1678874.9288889584 1334205.7113440034,1678873.7280888576 1334206.326048556,1678869.1601472497 1334206.8393585435,1678865.3322906017 1334207.9705416637,1678856.941393571 1334209.0985562035,1678848.54069409 1334216.078938315,1678844.5412945708 1334223.049814686,1678840.5516975012 1334229.8305762466,1678836.0082620177 1334236.6113378075,1678831.479530209 1334243.388930788,1678826.9409959505 1334250.1696923487,1678822.4122641417 1334248.1196209798,1678814.5408969503 1334246.0695496106,1678806.669529759 1334244.0194782414,1678798.8079650174 1334239.6214889677,1678792.578508168 1334235.210825373,1678786.3490513186 1334230.8096675188,1678780.119594469 1334225.1600890781,1678773.679384949 1334219.5105106377,1678767.219570529 1334213.860932197,1678760.779361009 1334212.7487605577,1678752.839376669 1334211.6397574989,1678744.9091947787 1334210.5307544398,1678736.9692104387 1334210.0586359948,1678727.1177483872 1334209.5896861297,1678717.2711875606 1334207.0706648957,1678709.3017958712 1334204.5611494023,1678701.3422066318 1334197.358966679,1678697.9897687992 1334190.1504467956,1678694.6520346415 1334190.438787591,1678686.8590870486 1334190.7302969664,1678679.0612382307 1334193.2493182004,1678672.64063361 1334195.7588336938,1678666.2200289895 1334198.2715177676,1678659.8092268186 1334205.9616618368,1678658.2898470992 1334213.6486373257,1678656.7704673798 1334221.398984418,1678660.9218048712 1334229.158837251,1678665.0682411378 1334236.9091843432,1678669.2195786291 1334244.669037176,1678673.3709161205 1334252.4193842683,1678677.5222536118 1334260.1697313609,1678681.6686898782 1334267.840863949,1678680.2522358818 1334275.5088279569,1678678.8210782106 1334283.179960545,1678677.3997229892 1334281.9410456992,1678670.861488971 1334280.698962273,1678664.308551278 1334279.4695531677,1678657.7703172597 1334275.4803107353,1678652.0407853501 1334271.5005740437,1678646.3210558905 1334267.5398488329,1678640.6209313304 1334263.5696178817,1678634.9208067702 1334259.608892671,1678629.22068221 1334253.648793374,1678626.0495896991 1334247.6886940768,1678622.878497188 1334241.7285947797,1678619.7123059018\" opacity=\"0.8\" /><polyline fill=\"none\" stroke=\"#66cc99\" stroke-width=\"35.288784000004334\" points=\"1335325.6586789086,1681173.4416272114 1335325.6713532293,1681173.461232111 1335324.1092432062,1681172.1624075123 1335317.8703088542,1681166.9278993178 1335311.6187001816,1681161.7080947978 1335303.6497210576,1681155.7384028682 1335295.6807419336,1681149.7785133882 1335287.9113833604,1681146.6613343512 1335280.1293504662,1681143.5490565388 1335274.7395955995,1681149.6314766412 1335272.1603713422,1681156.9294005192 1335269.5906528255,1681164.2224231723 1335263.5196532225,1681166.4720854019 1335257.1793243054,1681172.9318998216 1335250.838995388,1681179.4015166913 1335254.26106197,1681188.2286227385 1335257.679959972,1681197.0606300104 1335259.8916289296,1681203.5596542296 1335262.100129307,1681210.0684808984 1335264.3086296846,1681216.582208792 1335264.5716218385,1681223.6889848989 1335264.8409511528,1681230.7908597807 1335263.060209098,1681239.5983609282 1335261.2794670435,1681248.4009608508 1335257.1191212821,1681257.4094122192 1335252.9587755208,1681266.4178635876 1335248.8015983396,1681275.4214137313 1335244.581049555,1681281.9008330507 1335240.3605007704,1681288.3900548199 1335236.1399519858,1681294.8694741393 1335229.1595698744,1681297.962147052 1335222.1791877632,1681301.0401162899 1335215.1988056519,1681304.1278879778 1335205.3888814498,1681304.451368821 1335195.578957248,1681304.76014599 1335185.7595273054,1681305.0787256085 1335177.140989247,1681304.1376904275 1335168.5097768677,1681303.2015564714 1335159.8785644886,1681302.2605212904 1335151.26002643,1681301.3194861093 1335142.6288140507,1681300.3784509283 1335132.1915109754,1681305.1620464318 1335115.9303575503,1681318.4688720386 1335101.8903788233,1681330.3396387494 1335084.928969181,1681342.3378373077 1335063.4903557603,1681344.808054658 1335040.629049844,1681340.5292853191 1335018.4014599614,1681329.6877758375 1335001.6491766102,1681330.9620943118 1334992.3493938153,1681332.54028873 1334983.1193197842,1681328.3399389898 1334982.0515082674,1681338.0786728684 1334974.9792373313,1681337.3925013824 1334967.910134975,1681336.7014286714 1334962.2795680156,1681337.1425389124 1334956.6394953155,1681337.5689454789 1334949.5387071576,1681337.848315298 1334942.4315818395,1681338.1178826678 1334935.4005024454,1681337.4513160812 1334928.3694230514,1681336.77004582 1334922.8592621381,1681336.221108631 1334917.3491012251,1681335.662368992 1334908.359839287,1681335.2310612008 1334899.380083089,1681334.7997534096 1334890.3908211507,1681334.3684456183 1334881.4015592125,1681333.9518415018\" opacity=\"0.8\" /><polyline fill=\"none\" stroke=\"#66cc99\" stroke-width=\"35.288784000004334\" points=\"1334624.3188072348,1681800.5876618975 1334621.7807745198,1681802.6804849303 1334617.7186547436,1681811.2086162586 1334613.6501978072,1681819.7514512613 1334609.5785722907,1681828.2795825894 1334608.0006193665,1681836.8077139177 1334606.4194978625,1681845.3505489205 1334607.198968584,1681852.7317936218 1334607.9816078856,1681860.1179395479 1334614.9588214168,1681863.7399447497 1334621.9487092688,1681867.3717524016 1334620.9886294776,1681876.3605988706 1334620.0285496865,1681885.3494453393 1334619.0716384756,1681894.3382918083 1334624.150872486,1681899.2983314083 1334629.230106496,1681904.268173458 1334634.3093405063,1681909.228213058 1334628.6090647832,1681914.9185351685 1334622.8992833192,1681920.6186597287 1334617.1895018555,1681926.3187842886 1334611.4892261322,1681932.009106399 1334611.7490497062,1681939.5079804978 1334612.00887328,1681947.0117558218 1334612.2686968537,1681954.5106299205 1334612.5285204276,1681962.0095040195\" opacity=\"0.8\" /><polyline fill=\"none\" stroke=\"#66cc99\" stroke-width=\"35.288784000004334\" points=\"1334612.5285204276,1681962.0095040195 1334618.59001429,1681969.630908741 1334624.6515081525,1681977.2425110124 1334630.7098334348,1681984.859014509 1334633.1591459052,1681994.2301565201 1334635.621132696,1682003.6012985313 1334638.0704451664,1682012.9724405424 1334635.240903076,1682021.088868979 1334632.4113609854,1682029.2200010899 1334629.5691445742,1682037.3413307513 1334626.7396024836,1682045.4724628625 1334623.9005546526,1682053.5888912987 1334622.138824079,1682061.122073972 1334620.3707563449,1682068.6503554203 1334618.609025771,1682076.1786368685 1334616.840958037,1682083.7118195416 1334616.840958037,1682093.318220348 1334616.8504637775,1682102.9295223795 1334616.8504637775,1682112.5408244107 1334616.8504637775,1682122.161928892 1334616.8504637775,1682131.7683296984 1334616.8504637775,1682141.3796317296\" opacity=\"0.8\" /><polyline fill=\"none\" stroke=\"#66cc99\" stroke-width=\"35.288784000004334\" points=\"1335238.6906590215,1682485.5436442937 1335239.4067581396,1682476.2313169814 1335256.8941520902,1682270.2034270335 1335257.45499078,1682263.5867734167 1335258.186932799,1682254.9802224902 1335258.7699515498,1682248.0989027289 1335258.9157062375,1682246.3785727886 1335259.6096252946,1682238.2082308782 1335260.4492990393,1682228.3077565776 1335261.2889727838,1682218.421985952 1335262.1286465286,1682208.5215116516 1335262.9714888535,1682198.6308398007 1335263.8111625982,1682188.74016795 1335264.6508363427,1682178.8396936497 1335265.4905100875,1682168.949021799 1335266.3301838322,1682159.0485474984 1335267.1698575767,1682149.1578756478 1335268.0095313215,1682139.272105022 1335268.8492050662,1682129.3716307215 1335269.6888788107,1682119.4809588708 1335270.5285525555,1682109.5804845705 1335271.3713948803,1682099.6898127198 1335272.211068625,1682089.7893384192 1335273.0507423696,1682079.8986665686 1335273.8904161144,1682070.007994718 1335274.730089859,1682060.1124216423 1335275.088139418,1682055.8385535285 1335276.029207728,1682044.742180352 1335276.4094373484,1682040.3212754913 1335276.7896669686,1682035.7827412328 1335284.9265808414,1681939.9392882893 1335285.6616914407,1681931.523885134\" opacity=\"0.8\" /><polyline fill=\"none\" stroke=\"#66cc99\" stroke-width=\"35.288784000004334\" points=\"1335304.860118682,1681705.1118008217 1335305.6395894035,1681695.9514114812 1335306.1275507496,1681690.158163648 1335307.26507103,1681676.7533135433 1335307.9716644075,1681668.47024346 1335308.751135129,1681659.3196565695 1335309.3278167197,1681652.4285343585 1335310.3005708314,1681641.0037791138 1335312.1066615277,1681619.7079569178 1335312.810086325,1681611.4788003087 1335313.431128038,1681604.1367654067 1335313.8778978419,1681598.8630474128 1335314.479928074,1681591.81018478 1335314.933035038,1681586.453145963 1335315.8139003247,1681576.0674503974 1335316.1497698226,1681572.1317668017 1335316.403256236,1681569.1420196118 1335317.7499028079,1681553.2718533818 1335317.8196115715,1681552.4484475984 1335318.6592853162,1681542.6214916713 1335319.4672732593,1681533.0543006642 1335319.521139122,1681532.4220426518 1335320.3291270651,1681522.938172468 1335320.9374944575,1681515.7382730881 1335321.457141605,1681509.6264456364 1335321.9989688138,1681503.2597544896 1335322.4077156556,1681498.422245512 1335323.393144088,1681486.8308486207 1335323.6688105627,1681483.5813365113 1335323.8779368538,1681481.111119161 1335325.1928976239,1681465.6428533727 1335325.3386523116,1681463.9078197577 1335326.1814946365,1681454.071061381 1335326.941953877,1681445.0234002133 1335327.1003828854,1681443.1903421 1335327.8513363854,1681434.3877421776 1335328.4153436553,1681427.7073726372 1335329.0363853683,1681420.3947450847 1335329.521178134,1681414.7093241992 1335329.9489364568,1681409.6414576513 1335330.8076216825,1681399.5449343547 1335331.191019883,1681395.0407086706 1335332.0306936277,1681385.1990490688 1335332.8608616318,1681375.362290692 1335333.7005353766,1681365.5206310905 1335334.4198030748,1681356.9924997622 1335334.6764580684,1681353.9537403237 1335335.3703771252,1681345.842213112 1335335.981913098,1681338.603103933 1335336.4476943826,1681333.1039295937 1335337.040218874,1681326.1686963586 1335337.4838200978,1681320.8998795897 1335338.3836968655,1681310.308332578 1335338.710060623,1681306.49027838 1335338.954041296,1681303.5887532386 1335340.3196993486,1681287.5127355626 1335340.379902372,1681286.8118604016 1335341.2195761164,1681276.9702008 1335342.0148897388,1681267.5647502146 1335342.0497441206,1681267.138343648 1335342.0909356629,1681266.6678260576 1335342.8894178653,1681257.3015852715 1335343.4914480974,1681250.185006715 1335344.026938146,1681243.872229042 1335344.5592596142,1681237.6182660682 1335344.9616692956,1681232.8738803638 1335345.9629406289,1681221.0766320264 1335346.229101363,1681217.9398480896 1335346.4318904937,1681215.5578527877 1335347.7373455232,1681200.1680065978 1335348.260161251,1681194.0610803708\" opacity=\"0.8\" /><polyline fill=\"none\" stroke=\"#66cc99\" stroke-width=\"35.288784000004334\" points=\"1332716.3202357625,1679703.858352828 1332721.421649834,1679710.9308203603 1332726.5198953252,1679717.988584218 1332731.6213093966,1679725.0610517506 1332736.7195548879,1679732.1286180583 1332743.4813049675,1679739.1079623175 1332750.2493922077,1679746.0922078018 1332757.0111422874,1679753.0715520612 1332763.769723787,1679760.0508963205 1332768.2215789238,1679765.5892804589 1332772.66075974,1679771.1276645972 1332777.1094462967,1679776.6807524103 1332782.489695423,1679782.699456589 1332787.8699445492,1679788.7181607678 1332793.2501936755,1679794.7417661713 1332800.9403377445,1679800.3389650085 1332808.6304818138,1679805.9410650707 1332816.3206258828,1679811.538263908 1332824.010769952,1679817.1501664198 1332831.6185309368,1679818.1010040506 1332839.2199547612,1679819.0518416814 1332844.9614220266,1679822.9679203776 1332850.699720712,1679826.8790978487 1332853.158538923,1679833.108554698 1332855.6205257138,1679839.3380115477 1332858.0793439245,1679845.5576659474 1332859.9899977662,1679853.7525139821 1332861.900651608,1679861.9277571174 1332866.5204414937,1679869.8922475819 1332871.1402313795,1679877.8518368215 1332877.749889611,1679882.1698159594 1332884.3500421024,1679886.4877950975 1332890.959700334,1679890.8106754604 1332898.7100474264,1679892.5996225493 1332906.469900259,1679894.3885696381 1332912.9686581849,1679893.408324658 1332919.4705846908,1679892.4280796777 1332926.5111698254,1679889.3599128895 1332933.5485863797,1679886.2917461013 1332940.5891715144,1679883.2186780884 1332947.629756649,1679880.1505113002\" opacity=\"0.8\" /><polyline fill=\"none\" stroke=\"#66cc99\" stroke-width=\"35.288784000004334\" points=\"1332947.629756649,1679880.1505113002 1332943.4408936661,1679873.6808944305 1332938.9985442697,1679868.00037477 1332934.5593634536,1679862.3198551096 1332930.129688378,1679856.6393354489 1332925.5605957748,1679848.89049888 1332921.0010089122,1679841.1416623113 1332916.428747729,1679833.3879245175 1332912.6803173895,1679827.761318331 1332908.92871847,1679822.1298109195 1332905.189793871,1679816.498303508 1332902.6010638734,1679809.0876514572 1332900.0091652954,1679801.6917030814 1332901.5110722953,1679792.3009561705 1332903.0003049746,1679782.9200117097 1332902.030719443,1679776.249444619 1332901.0516281708,1679769.5788775284 1332898.5389440972,1679764.0306909403 1332896.0294286036,1679758.492306802 1332897.8513622007,1679750.3709771405 1332905.6302265145,1679745.9696771794 1332908.573837491,1679744.989432199 1332910.7189662652,1679744.2689521385 1332916.9990921593,1679737.7013107708 1332915.018729554,1679730.5406211903 1332909.400836915,1679724.992434602 1332903.779775696,1679719.4295443392 1332898.3995265698,1679715.3321203217 1332893.0192774436,1679711.2395975292 1332887.6390283173,1679707.1421735117 1332884.099724269,1679698.638548308 1332880.5509144801,1679690.1300218797 1332881.7993350667,1679684.2387495483 1332883.0509242332,1679678.3376747672 1332883.779697672,1679670.9711337406 1332884.511639691,1679663.5898890395 1332882.6802003535,1679656.169434539 1332880.8614353368,1679648.7489800386 1332879.0395017397,1679641.328525538 1332874.8411330164,1679634.3001690297 1332870.6300899724,1679627.2620100717 1332866.4285526688,1679620.2189498886 1332864.080634764,1679612.4897182193 1332861.7200425384,1679604.7506841002 1332859.3689560532,1679597.021452431 1332857.7688230681,1679590.3116755413 1332856.1686900828,1679583.5920962016 1332854.5685570978,1679576.8823193118 1332851.1591648364,1679568.5208296303 1332847.7402668346,1679560.159339949 1332844.3213688326,1679551.7978502675 1332840.078639987,1679542.941336871 1332835.8295739808,1679534.0701197998 1332831.5900137152,1679525.2087051782 1332827.3409477093,1679516.3521917819 1332824.4512025954,1679508.4416147913 1332821.548783161,1679500.5310378007 1332818.6590380473,1679492.6204608101 1332818.6495323067,1679484.9206364902 1332818.6400265663,1679477.2208121703 1332818.6400265663,1679469.5111854007 1332821.0893390365,1679461.2281153176 1332823.5513258276,1679452.9401440097 1332827.5500740004,1679446.2107622204 1332831.5488221732,1679439.481380431\" opacity=\"0.8\" /><polyline fill=\"none\" stroke=\"#66cc99\" stroke-width=\"35.288784000004334\" points=\"1332831.5488221732,1679439.481380431 1332833.050729173,1679429.8602759498 1332834.5589733333,1679420.2489739186 1332836.0608803332,1679410.6278694374 1332837.5089214703,1679401.07048088 1332838.9601311875,1679391.5179935475 1332840.4113409047,1679381.9704074399 1332841.8593820417,1679372.4179201075 1332843.310591759,1679362.8703339999 1332844.758632896,1679353.3178466675 1332846.2098426132,1679343.76045811 1332847.6610523304,1679334.2079707775 1332849.1090934672,1679324.66038467 1332850.5603031847,1679315.1078973375 1332851.9988385811,1679305.56031123 1332854.4291395703,1679296.3509096405 1332856.8594405598,1679287.151310501 1332859.2802358086,1679277.9419089116 1332861.7105367978,1679268.742309772 1332864.1408377872,1679259.5280069576 1332866.5711387764,1679250.328407818 1332868.988765445,1679241.1288086784 1332871.4190664343,1679231.919407089 1332873.8493674237,1679222.7198079494 1332878.310728301,1679215.5983281678 1332882.768920598,1679208.4719471615 1332887.239787216,1679201.35046738 1332891.7011480934,1679194.2289875986 1332900.810816078,1679190.2001807296 1332909.9109783222,1679186.1615714112 1332919.0111405663,1679182.1278633175 1332926.5301813064,1679175.6288390984 1332934.0492220465,1679169.1396173292 1332941.5714313667,1679162.6405931101 1332944.5498967252,1679154.0291409586 1332947.5410364042,1679145.4176888072 1332950.5290075033,1679136.8111378807 1332956.4289037772,1679130.689507979 1332962.3414743717,1679124.5678780775 1332968.2413706456,1679118.4511494008 1332974.1412669194,1679112.3197170491 1332980.0475003538,1679106.2029883724\" opacity=\"0.8\" /><polyline fill=\"none\" stroke=\"#66cc99\" stroke-width=\"35.288784000004334\" points=\"1332980.0475003538,1679106.2029883724 1332973.7800487804,1679086.9901867597 1332974.790825854,1679061.072509482 1332979.5627075878,1679038.943479053 1332979.6989565352,1679038.3112210408 1332980.4213928136,1679035.7429791924 1332985.5291440454,1679017.5790397085 1332991.3213085935,1678997.8418070313 1333000.0000496753,1678981.2119509415 1333010.649647622,1678965.6652655548 1333026.1123188445,1678955.2991748888 1333046.3785576029,1678950.1087777184\" opacity=\"0.8\" /><polyline fill=\"none\" stroke=\"#66cc99\" stroke-width=\"35.288784000004334\" points=\"1332839.01082847,1678905.272372322 1332834.609670616,1678911.271471601 1332830.1990070213,1678917.2803733298 1332825.2908763401,1678923.4412130306 1332820.3700713383,1678929.6020527314 1332812.2109774041,1678934.40035191 1332804.04871489,1678939.1986510882 1332795.8991266964,1678944.0018514914\" opacity=\"0.8\" /><polyline fill=\"none\" stroke=\"#66cc99\" stroke-width=\"35.288784000004334\" points=\"1332795.8991266964,1678944.0018514914 1332800.759728675,1678951.4811206907 1332805.6203306536,1678958.9701923397 1332810.4809326322,1678966.449461539 1332815.3415346108,1678973.938533188 1332820.1989680093,1678981.4178023874 1332820.7186151568,1678991.3280791375 1332821.2414308847,1679001.2383558878 1332821.7610780324,1679011.1486326382 1332822.28072518,1679021.0589093885 1332822.790866587,1679030.9691861386 1332823.3105137348,1679040.889265339 1332819.2008652561,1679049.3389770684 1332815.0785424567,1679057.7886887982 1332811.4631924843,1679065.2189457484 1332810.9593882377,1679066.2482029777 1332806.8402340184,1679074.6979147075 1332802.7210797993,1679083.152527662 1332800.3414760928,1679091.7786834883 1332797.9713781266,1679100.4097405393 1332795.5886058398,1679109.0407975903 1332793.2090021332,1679117.6718546413 1332792.2204051206,1679127.0478978774 1332791.2191337873,1679136.4288423383 1332790.2305367747,1679145.8097867994 1332789.238771182,1679155.20053371 1332788.2406684288,1679164.581478171 1332789.4193802516,1679172.9086592782 1332790.588586334,1679181.25054406 1332791.7609609962,1679189.5924288419 1332792.9396728189,1679197.929412399 1332794.1088789012,1679206.261494731 1332795.2812535635,1679214.598478288 1332794.6095145678,1679224.3911256406 1332793.9314384118,1679234.1788717685 1332793.2501936755,1679243.981321571 1332792.5689489392,1679253.7690676986 1332791.890872783,1679263.5617150513 1332791.3300340932,1679271.5997238893 1332790.778701144,1679279.6279302775 1332790.2305367747,1679287.6708403404 1332789.6792038255,1679295.6990467287 1332789.1215337159,1679303.7419567916 1332788.0885765809,1679311.4711884607 1332787.0492822856,1679319.20042013 1332786.0194937307,1679326.9296517991 1332784.9801994355,1679334.6588834685 1332784.68869006,1679343.358557668 1332784.409855005,1679352.048429418 1332784.1215142098,1679360.7481036177 1332783.8395105747,1679369.4379753675 1332782.920622326,1679379.039474949 1332781.9985654969,1679388.6311720808 1332781.079677248,1679398.2277704373 1332780.1607889992,1679407.819467569 1332779.2514064906,1679417.4209671505 1332776.890814265,1679424.6110640806 1332774.5302220394,1679431.8011610107 1332772.1696298139,1679438.991257941 1332765.3001480084,1679445.3579490876 1332758.4401719435,1679451.7295414591 1332751.5801958784,1679458.1011338306 1332745.7405026278,1679465.5902054799 1332739.9008093772,1679473.079277129 1332734.070621867,1679480.568348778 1332728.2309286161,1679488.062321652 1332724.3209006882,1679493.1007808503 1332720.4013670196,1679498.129437599 1332713.1991842964,1679503.3688470183 1332706.009675894,1679508.6082564378 1332698.8011560105,1679513.8476658573 1332691.611647608,1679519.0919765015 1332684.4094648848,1679524.331385921\" opacity=\"0.8\" /><polyline fill=\"none\" stroke=\"#66cc99\" stroke-width=\"35.288784000004334\" points=\"1332684.4094648848,1679524.331385921 1332689.5013732156,1679530.6098550195 1332694.5901129665,1679536.888324118 1332697.5590725844,1679544.2989761685 1332700.518526462,1679551.6998257695 1332703.4811489193,1679559.11047782 1332702.7903984427,1679567.991497341 1332702.1091537063,1679576.8823193118 1332701.4310775504,1679585.7682400579 1332693.4209068841,1679586.0917209012 1332685.4202419585,1679586.40049807 1332677.4195770328,1679586.7190776886 1332669.4189121071,1679587.0376573072 1332661.310515456,1679584.7095754792 1332653.1989502243,1679582.3716912013 1332645.1000593132,1679580.0387081483 1332636.991662662,1679577.7106263202 1332628.8800974304,1679575.3678408174 1332620.7685321989,1679573.0397589894 1332616.2501368783,1679570.8881212578\" opacity=\"0.8\" /><polyline fill=\"none\" stroke=\"#66cc99\" stroke-width=\"35.288784000004334\" points=\"1332616.2501368783,1679570.8881212578 1332619.84964395,1679575.691321661 1332623.4491510214,1679580.4798183895 1332629.8401772215,1679587.9492851389 1332636.2185291008,1679595.4187518884 1332642.6000495604,1679602.8882186378 1332648.5411373763,1679609.9116739212 1332654.4695508718,1679616.9400304295 1332660.4011329475,1679623.9585844881 1332666.3295464427,1679630.9820397717 1332671.8808988982,1679636.471411661 1332677.4385885138,1679641.9509811006 1332682.9994467096,1679647.44035299 1332688.7599254563,1679653.9001674098 1332694.5204042026,1679660.3599818295 1332700.2903886896,1679666.8197962495 1332704.8594812928,1679675.4018410514 1332709.4412482164,1679683.9789846286 1332711.7289630983,1679690.60053947 1332714.0293523006,1679697.2318967616 1332716.3202357625,1679703.858352828\" opacity=\"0.8\" /><polyline fill=\"none\" stroke=\"#66cc99\" stroke-width=\"35.288784000004334\" points=\"1332935.5891520083,1680356.4417447515 1332932.740598437,1680343.0417958715 1332934.1411108715,1680329.0487987786 1332928.798884707,1680310.4388478284 1332913.7101059444,1680282.428347518 1332901.1593598966,1680253.7806879703 1332901.618804021,1680235.582439912 1332913.4502823704,1680227.299369829 1332925.8901281124,1680233.9895418193 1332934.9586045549,1680252.952380962 1332947.8610630012,1680282.4577548674 1332964.2204424117,1680310.1398731095 1332984.2490376572,1680327.3088639386 1332997.8644266417,1680329.3869832966 1333014.7402846196,1680331.9601263697 1333040.0794202276,1680326.4217422314\" opacity=\"0.8\" /><polyline fill=\"none\" stroke=\"#66cc99\" stroke-width=\"35.288784000004334\" points=\"1333040.0794202276,1680326.4217422314 1333036.1915723607,1680318.3788321684 1333032.3005559137,1680310.3310208807 1333028.4000337264,1680302.2881108178 1333025.7099091632,1680293.0787092284 1333023.0197846,1680283.869307639 1333020.3201542965,1680274.6599060495 1333018.5932781044,1680268.7588312684 1333017.6300297333,1680265.46030691 1333017.8201445434,1680257.52032257 1333018.0102593536,1680249.5803382301 1333018.2003741637,1680241.6403538901 1333020.5894836108,1680234.2198993897 1333021.2643911866,1680232.122175132 1333022.9690873174,1680226.809247339 1333025.3613653446,1680219.3985952882 1333029.2904047535,1680213.7621866518 1333033.2194441627,1680208.1208767905 1333037.1611578923,1680202.4795669292 1333040.421626886,1680193.8289049785 1333043.678927299,1680185.1880454777 1333046.9393962927,1680176.542284752 1333050.2093710266,1680167.901425251 1333050.9286387248,1680161.5690426787 1333051.6605807438,1680155.2415613313 1333051.7714810497,1680148.5317844416 1333051.869707035,1680141.8318100015 1333051.9711016004,1680135.1318355615\" opacity=\"0.8\" /><polyline fill=\"none\" stroke=\"#66cc99\" stroke-width=\"35.288784000004334\" points=\"1333051.9711016004,1680135.1318355615 1333046.6320440164,1680134.7495400193 1333043.241663236,1680134.509379999 1333034.5090562913,1680133.8918256615 1333025.7701121864,1680133.269370099 1333017.1515741278,1680129.6424636722 1333008.5203617485,1680126.0008535704 1332999.8891493694,1680122.3592434688 1332991.2611055702,1680118.732337042 1332982.6298931912,1680115.0907269404 1332974.0113551326,1680111.4491168389 1332965.3801427535,1680107.8222104118 1332958.2793545956,1680107.3320879217 1332951.1912407584,1680106.8517678815 1332944.0904526007,1680106.3714478412 1332937.049867466,1680105.288277138 1332929.999776591,1680104.2198101096 1332922.9496857158,1680103.151343081 1332915.2405301658,1680099.078425188 1332907.518700295,1680095.01040852 1332900.2087858461,1680091.4178106675 1332892.8988713971,1680087.8203115899 1332885.5889569481,1680084.2277137374 1332878.2885482397,1680080.63021466 1332878.741655204,1680074.4693749591 1332879.1915935879,1680068.3085352583 1332877.8893071385,1680061.7408938906 1332876.5901892695,1680055.1585488482 1332875.2910714003,1680048.5811050308 1332867.1795061687,1680049.811312481 1332859.0711095175,1680051.0317174813 1332852.879703868,1680054.722339832 1332846.678792478,1680058.4178634074 1332840.4905554089,1680062.108485758 1332833.050729173,1680066.882278812 1332825.6204086777,1680071.6511706407 1332817.410617461,1680074.6115104812 1332809.2008262442,1680077.5718503215 1332800.9403377445,1680076.9984070081 1332792.6798492451,1680076.4298649195 1332784.4193607457,1680075.861322831 1332780.4713098556,1680068.5486952784 1332776.529596126,1680061.2311665008 1332775.4300988074,1680051.4581240478 1332774.3401072293,1680041.6801803699 1332767.9712610906,1680039.489332839 1332761.5992463715,1680037.2886828582 1332755.2304002326,1680035.0880328778 1332748.5605389779,1680037.548447778 1332741.8811719825,1680040.0088626784 1332735.2113107275,1680042.4692775789 1332727.7904959728,1680047.228366958 1332720.369681218,1680051.9776538874 1332712.948866463,1680056.7318420415 1332707.8411152314,1680062.2310163807 1332702.7301954194,1680067.7399931697 1332697.628781348,1680073.239167509 1332700.1192853607,1680082.218211528 1332702.6097893731,1680091.202156772 1332705.1002933856,1680100.181200791 1332707.590797398,1680109.16024481 1332708.2403563326,1680116.8600691296 1332708.8804095266,1680124.5500909998 1332709.5299684613,1680132.2401128698 1332709.7295890118,1680141.959241849 1332709.938715303,1680151.678370828 1332709.3208421702,1680160.461365851 1332708.7093061975,1680169.2394596492 1332709.1592445816,1680175.449311599 1332709.6091829655,1680181.6591635488\" opacity=\"0.8\" /><polyline fill=\"none\" stroke=\"#66cc99\" stroke-width=\"35.288784000004334\" points=\"1333475.6894846437,1680466.719305029 1333468.5886964859,1680466.219380089 1333461.5005826487,1680465.7194551493 1333454.4093002314,1680465.2195302092 1333451.148831238,1680456.2110788408 1333448.8104190736,1680448.1387614284 1333446.468838329,1680440.0615427913 1333444.1304261647,1680431.989225379 1333441.7888454201,1680423.9218091916 1333436.4212706145,1680416.4621448917 1333431.0505272287,1680408.9877769174 1333425.679783843,1680401.5281126178 1333418.800796297,1680396.7102085399 1333411.9186401707,1680391.8825020122 1333405.0396526249,1680387.0596967095 1333398.1606650788,1680382.2417926316 1333393.9115990729,1680386.4225374723 1333389.649858746,1680390.6081835378\" opacity=\"0.8\" /><polyline fill=\"none\" stroke=\"#66cc99\" stroke-width=\"35.288784000004334\" points=\"1333389.649858746,1680390.6081835378 1333383.4394416157,1680396.7200109898 1333377.2385302258,1680402.8416408913 1333371.0312816754,1680408.9485671183 1333364.7289757202,1680413.8007797706 1333358.4393440855,1680418.638288748 1333352.1497124508,1680423.4905014003\" opacity=\"0.8\" /><polyline fill=\"none\" stroke=\"#66cc99\" stroke-width=\"35.288784000004334\" points=\"1333352.1497124508,1680423.4905014003 1333345.2485448436,1680428.6514912213 1333348.0305582318,1680437.2825482723 1333350.8094030395,1680445.9087040983 1333353.6009221682,1680454.5397611496 1333360.3690094082,1680461.1907233405 1333367.1402652285,1680467.8416855314 1333373.9115210488,1680474.502450172 1333380.6796082887,1680481.1485111383 1333381.8012856685,1680490.0883453581 1333382.9293002086,1680499.0281795778 1333384.0509775882,1680507.9680137977 1333388.0592315013,1680517.0989957887 1333392.0611482544,1680526.2397802295 1333396.059896427,1680535.3707622206 1333400.0586445997,1680544.5115466614 1333404.0605613526,1680553.652331102 1333406.1296442028,1680563.0185718883 1333408.1892213123,1680572.3897138995 1333410.2614727428,1680581.7608559106 1333412.3210498523,1680591.1319979217 1333414.3901327024,1680600.498238708 1333419.269746162,1680608.2176679275 1333424.139853881,1680615.932195922 1333429.0194673405,1680623.6516251413 1333433.8990808004,1680631.361251911 1333438.77869426,1680639.0806811305 1333443.6614762996,1680646.80011035 1333452.3307116409,1680651.5395948293 1333460.9999469821,1680656.2790793087 1333469.6691823234,1680661.0185637884 1333472.5304102155,1680654.73029224 1333475.3916381078,1680648.432218242 1333478.2496974198,1680642.1390454688 1333478.8485590718,1680633.6697288395 1333479.4505893039,1680625.21021466 1333480.0494509556,1680616.7507004805 1333480.6514811877,1680608.2911863008 1333481.2503428396,1680599.8316721213 1333479.228788692,1680591.5486020383 1333477.2104031246,1680583.28023563 1333475.1793432366,1680575.0020667717 1333473.1609576691,1680566.7189966887 1333471.1394035215,1680558.4506302804 1333471.0316717958,1680551.3585578483 1333470.9302772305,1680544.271386641 1333470.8288826651,1680537.1793142091 1333472.669827743,1680529.788267058 1333474.510772821,1680522.4021211318 1333476.3485493187,1680515.001271531 1333478.1990001372,1680507.61022438 1333478.7503330866,1680499.6898449396 1333479.288991715,1680491.7596630494 1333479.849830405,1680483.829481159 1333480.4011633543,1680475.9091017188 1333478.0405711287,1680471.3117527615 1333475.6894846437,1680466.719305029\" opacity=\"0.8\" /><polyline fill=\"none\" stroke=\"#66cc99\" stroke-width=\"35.288784000004334\" points=\"1333625.3193459446,1682322.3524599825 1333631.3396482647,1682327.9496588197 1333637.3504448447,1682333.541956432 1333642.9176402008,1682338.7274523773 1333643.3612414245,1682339.1391552691 1333643.1235979118,1682340.1978198478 1333641.6502081333,1682346.7311526411 1333639.9391748423,1682354.3084463384 1333638.2313101315,1682361.8906412607 1333641.510790606,1682369.4287251588 1333644.78076534,1682376.961907832 1333648.0602458145,1682384.4901892801 1333651.3302205484,1682392.0184707285 1333652.67686712,1682392.6997409896 1333658.2694111175,1682395.517945308 1333665.2086016869,1682399.0223211122 1333672.150960836,1682402.5217956917 1333679.0901514052,1682406.0212702712 1333683.8810446202,1682411.740999731 1333688.6592635144,1682417.4705316406 1333693.4406509888,1682423.2000635501 1333694.9615694697,1682432.5123908625 1333696.488825111,1682441.8198169498 1333698.009743592,1682451.132144262 1333701.8944228785,1682454.3914588215 1333704.73980787,1682456.7783553484 1333711.469872148,1682462.4294676594 1333718.1904306856,1682468.0805799705 1333724.9204949636,1682473.7414947315 1333731.80898825,1682477.7114869014 1333738.700650117,1682481.6814790715 1333745.5891434033,1682485.6612736913 1333745.6113234644,1682492.91018532 1333745.639840686,1682500.168899399 1333742.70890403,1682507.8785261684 1333739.7811359542,1682515.588152938 1333738.5485582687,1682523.2095576595 1333737.3286549037,1682530.8309623809 1333736.0992457983,1682538.4523671023 1333732.7310450792,1682543.2016540316 1333729.3596757797,1682547.9607434107 1333722.8007148309,1682548.1077801578 1333716.2385853017,1682548.2597181296 1333711.358971842,1682553.5481397982 1333706.4793583825,1682558.8316602416\" opacity=\"0.8\" /><polyline fill=\"none\" stroke=\"#66cc99\" stroke-width=\"35.288784000004334\" points=\"1333706.4793583825,1682558.8316602416 1333712.499660703,1682564.37984683 1333718.5104572827,1682569.928033418 1333725.2405215607,1682570.5406865308 1333731.9705858387,1682571.1386359686 1333738.700650117,1682571.7414866316 1333746.3305911627,1682568.0802716303 1333753.951026468,1682564.419056629 1333761.580967514,1682560.748039178 1333769.1792227584,1682562.4095544196 1333776.7711408422,1682564.071069661 1333784.3693960865,1682565.7276836776 1333787.480941812,1682571.0798212697 1333790.598824698,1682576.4319588619 1333794.0906000438,1682585.4012004312 1333797.5792068094,1682594.3802444502 1333805.0190330453,1682600.1587886089 1333812.458859281,1682605.9422339923 1333820.1901948922,1682610.078867809 1333827.9310362441,1682614.2106004006\" opacity=\"0.8\" /><polyline fill=\"none\" stroke=\"#66cc99\" stroke-width=\"35.288784000004334\" points=\"1333827.9310362441,1682614.2106004006 1333836.330942271,1682616.6023981525 1333852.2213718165,1682618.9892946794 1333868.3811306763,1682617.6218529318 1333883.6505185086,1682604.8296559397 1333891.400865601,1682578.9021762123 1333893.6505575206,1682571.0798212697 1333900.8115487017,1682553.5089299988 1333913.2894174056,1682544.3093308592 1333929.0911267062,1682542.0694710794\" opacity=\"0.8\" /><polyline fill=\"none\" stroke=\"#66cc99\" stroke-width=\"35.288784000004334\" points=\"1334511.339912744,1682018.599046729 1334509.9298945689,1682001.9103759404 1334502.7087003647,1681995.0094512794 1334473.6686631197,1681981.4379595278 1334451.250958427,1681972.65006328 1334427.9302083862,1681968.7388858087 1334398.5701445441,1681967.131284041 1334365.769002639,1681958.162042472 1334355.3602167852,1681936.8907264005 1334349.320902984,1681904.8808265708 1334327.7016804938,1681879.2082105381 1334313.3606866507,1681872.861124291 1334309.2795553936,1681872.0524221824 1334301.8904264404,1681866.7787041885 1334294.5393204493,1681861.1079869778 1334292.2009082849,1681850.9624514324 1334291.2091426922,1681826.8778322677 1334292.6413409284,1681786.4917390817 1334290.150836916,1681756.4815390115 1334284.4790784142,1681724.9176506475 1334277.9803204883,1681689.1387088685 1334261.7001555823,1681659.8489888588 1334243.2495132606,1681622.9084567784 1334235.7811698033,1681592.8296395596 1334223.239929496,1681550.679105409 1334209.2506480517,1681527.8197924697 1334190.2296612998,1681505.2986640485 1334176.2593913365,1681477.8910144009 1334151.0406617748,1681446.4986689086 1334135.520956109,1681409.4307049806 1334129.0602211454,1681373.2400603099 1334120.9898474559,1681349.3024778923 1334094.5195287275,1681339.2892754192 1334075.3306072268,1681327.0999290897 1334055.7614561056,1681310.308332578 1334025.339917907,1681285.449319879 1334015.7613000574,1681252.1405954503\" opacity=\"0.8\" /><polyline fill=\"none\" stroke=\"#66cc99\" stroke-width=\"35.288784000004334\" points=\"1333671.8214284985,1681764.8822384921 1333670.1199009481,1681788.8394258092 1333667.4202706444,1681821.0306709607 1333661.4284855456,1681829.6960365858 1333653.4690121622,1681841.2090138788 1333625.8104758707,1681854.608962759 1333588.8204709827,1681852.3985103285 1333557.1093206555,1681840.5914595413 1333555.9306088327,1681840.2238676737 1333518.718803333,1681828.7304952804 1333495.0209922523,1681827.461078031 1333473.9689456122,1681835.9303946602 1333463.8104775916,1681855.54999794 1333467.6286166948,1681884.0506207405 1333488.4493569825,1681908.3704987003 1333490.2364361975,1681909.2527191825 1333511.0286592639,1681919.5207853506 1333528.1294864337,1681937.3416390915 1333535.3887035998,1681964.4307091206 1333535.57881841,1681972.3804959103 1333535.9115193277,1681986.4715175014 1333534.8310334901,1682001.7486355186 1333532.1092231255,1682010.6884697385 1333524.9102089824,1682019.0205520706 1333511.1712453715,1682006.831205741 1333503.4113925386,1681992.5784437284 1333497.5114962647,1681987.588996779 1333486.6812892484,1681979.7617406116 1333483.119805139,1681976.8308081208 1333477.4195294157,1681972.1403358902 1333471.0411775364,1681964.8179058877 1333464.6501513363,1681957.5101795602 1333458.268630877,1681950.2024532324 1333456.4213486386,1681943.2182077481 1333454.5804035605,1681936.2388634887 1333452.7394584827,1681929.2497167797 1333446.7096504217,1681925.4022552322 1333440.679842361,1681921.54009001 1333434.6500343003,1681917.6779247879 1333427.3401198513,1681916.0213107711 1333420.039711143,1681914.34999308 1333412.729796694,1681912.6884778384 1333407.260827323,1681904.5916543016 1333403.5187341438,1681899.058171388 1333392.0801597354,1681877.9093859394 1333382.0801207232,1681865.9896069795 1333362.5394868236,1681870.832017182 1333349.5799939341,1681876.9585483084 1333344.538782886,1681877.4388683487 1333330.1914518827,1681885.5503955602 1333321.2402129064,1681894.049119539 1333318.7592146343,1681905.4983809083 1333327.998794406,1681922.338989669 1333338.239645511,1681930.96024427 1333355.048963305,1681934.8518168416 1333357.640861883,1681937.3906513406 1333363.2397430409,1681942.8996281296 1333368.8512985194,1681948.4086049185 1333374.7797120148,1681953.3784469683 1333380.7112940904,1681958.3482890183 1333386.6397075858,1681963.318131068 1333389.9793910836,1681970.8023014923 1333393.3095688408,1681978.2815706914 1333396.639746598,1681985.751037441 1333399.9699243552,1681993.2303066403 1333396.360911543,1682001.528080398 1333392.7392244104,1682009.8307553807 1333389.1302115985,1682018.1285291384 1333385.5211987863,1682026.4214016714 1333381.9090173943,1682034.719175429 1333373.3411766184,1682034.9593354492 1333364.779673003,1682035.2092979192 1333356.2086636468,1682035.4494579395 1333347.6408228711,1682035.6896179595 1333339.931667321,1682041.1103727003 1333332.2193431905,1682046.540929891 1333324.5101876403,1682051.9616846316\" opacity=\"0.8\" /><polyline fill=\"none\" stroke=\"#66cc99\" stroke-width=\"35.288784000004334\" points=\"1333324.5101876403,1682051.9616846316 1333318.9493294444,1682055.867960878 1333318.3092762504,1682065.1998930897 1333317.6597173158,1682074.522022852 1333317.0101583814,1682083.849053839 1333316.3701051874,1682093.171183601 1333315.840952299,1682100.8023907724 1333315.3086308308,1682108.4286967185 1333314.7794779427,1682116.0697063396 1333314.259830795,1682123.7009135108 1333312.0101388753,1682131.1997876097 1333309.8301557193,1682138.5222176122\" opacity=\"0.8\" /><polyline fill=\"none\" stroke=\"#66cc99\" stroke-width=\"35.288784000004334\" points=\"1333602.8192581674,1682282.0594900695 1333612.4612476204,1682280.6822458722 1333622.1000684933,1682279.3001004502 1333629.5810862712,1682275.1487629588 1333637.0716097897,1682271.0121291422 1333644.5494589875,1682266.8705941006 1333654.1185710968,1682264.518006148 1333656.6787838729,1682263.8906493606 1333663.690851786,1682262.1703194203 1333673.2599638952,1682259.8324351425 1333675.6902648844,1682260.9205070704 1333683.988776346,1682264.6405367705 1333692.2904563877,1682268.3605664705 1333700.588967849,1682272.0805961706 1333707.258829104,1682277.511153361 1333713.9286903588,1682282.9417105517 1333721.4794169005,1682287.597874208 1333729.0301434423,1682292.2589390888 1333736.580869984,1682296.92000397 1333744.378745779,1682301.88004357 1333752.1892958945,1682306.8302807203 1333759.99984601,1682311.7903203203 1333764.850942248,1682317.5002473302 1333769.698869906,1682323.21017434 1333774.5499661441,1682328.9102989002 1333781.5715397976,1682335.1887679987 1333788.5899448711,1682341.4721383222 1333795.6115185246,1682347.7408049707 1333802.6299235981,1682354.0192740692 1333809.61981145,1682356.852182062 1333816.609699302,1682359.68999128 1333823.5995871536,1682362.5179980479 1333832.4114086025,1682363.9687606187 1333841.2295672116,1682365.4195231895 1333850.0413886604,1682366.88008821 1333858.8595472698,1682368.3308507807 1333865.9793469084,1682368.1102956603 1333873.0991465473,1682367.8897405397 1333880.2189461861,1682367.669185419 1333885.7512871604,1682367.5025437726 1333891.2804595546,1682367.331000901 1333899.1607184338,1682367.3702107002 1333907.0409773132,1682367.4192229493 1333914.9212361923,1682367.4584327484 1333922.8014950715,1682367.5025437726 1333930.3902445755,1682369.6884900786 1333937.9694883386,1682371.8793376093 1333945.5614064224,1682374.0701851402 1333950.269916553,1682379.7703097002 1333954.9815952638,1682385.4704342603 1333959.6996111348,1682391.1705588205 1333964.7693394045,1682397.5813609913 1333969.8485734146,1682403.9921631622 1333974.9214702647,1682410.4078665578 1333984.439885091,1682412.731047161 1333993.9487941768,1682415.059128989 1334003.460871843,1682417.3823095923 1334010.450759695,1682418.1321970022 1334017.4406475467,1682418.882084412 1334024.421029658,1682419.631971822 1334031.0306878898,1682420.3377482076 1334037.630840381,1682421.0484258183 1334043.3691390662,1682427.8513259813 1334049.1106063316,1682434.659127369 1334049.7506595259,1682441.3002871103 1334050.3812069793,1682447.9512493012 1334051.0212601733,1682454.6022114921 1334048.6606679477,1682462.5421958321 1334046.3000757222,1682470.491982622 1334043.929977756,1682478.4417694118 1334039.2499848471,1682486.077877808 1334034.5604861977,1682493.7286898787 1334029.870987548,1682501.3696994998 1334020.9514343736,1682504.2418172918 1334012.0413869396,1682507.1188363088 1334004.7790011931,1682502.9724000425 1333997.5292897674,1682498.821062551 1333990.2700726013,1682494.6795275095 1333983.010855435,1682490.5281900181 1333975.7611440092,1682486.3915562015 1333968.4195437587,1682484.632016462 1333961.0811120882,1682482.8724767223 1333953.7300060971,1682481.108035758 1333946.2014596167,1682482.0784782884 1333938.6602388155,1682483.0587232688 1333931.1285237547,1682484.038968249 1333927.66209705,1682489.3224886926 1333927.2501816284,1682489.9498454798 1333923.3686709218,1682495.8705251606 1333919.4998345359,1682501.7814023914 1333920.70072642,1682511.1525444025 1333921.9016183037,1682520.5187851887 1333924.499854042,1682527.7186845688 1333927.1012583603,1682534.9185839486 1333929.0911267062,1682542.0694710794\" opacity=\"0.8\" /><polyline fill=\"none\" stroke=\"#66cc99\" stroke-width=\"35.288784000004334\" points=\"1333929.0911267062,1682542.0694710794 1333931.0714893115,1682549.23016066 1333933.5398132629,1682556.0722706222 1333935.9986314739,1682562.9094793594 1333938.4701240053,1682569.7613917715 1333946.698926703,1682569.4183060282 1333954.930897981,1682569.0801215102 1333963.9391714004,1682566.7618421318 1333972.9506133997,1682564.4386615288 1333981.9715611397,1682562.1301846001 1333990.2193753184,1682556.8907751807 1333998.4703580774,1682551.6513657614 1334007.8113324144,1682550.2692203391 1334017.1491381712,1682548.891976142 1334024.6016387278,1682551.1416383716 1334032.0604764447,1682553.3814981515 1334039.509808421,1682555.6311603813 1334048.289944068,1682560.0912750412 1334057.0605739746,1682564.5513897014 1334065.8312038814,1682569.0115043614 1334075.1816839587,1682571.8591160292 1334084.5289954562,1682574.7116289216 1334093.8794755335,1682577.5494381394 1334103.0810323432,1682580.5293828794 1334112.269914832,1682583.4995251696 1334121.4714716417,1682586.4696674596 1334129.14894139,1682589.2976742277 1334136.8200739783,1682592.120779771 1334146.7313927454,1682593.498023968 1334156.6395429326,1682594.8801693902 1334163.2492011643,1682592.8804696305 1334169.8588593958,1682590.8905723207 1334176.4811919483,1682588.890872561 1334184.1016272537,1682583.6024508926 1334188.056015304,1682580.852863723 1334191.7315682997,1682578.2993255493 1334197.9800083921,1682574.3293333794 1334204.218942744,1682570.3495387596 1334210.3786625918,1682565.1199317898 1334216.5415510195,1682559.8903248203 1334223.1290291902,1682554.4891749793 1334229.7196759407,1682549.0978275877 1334235.850878567,1682544.8386631487 1334241.9915869336,1682540.5696962597 1334248.1196209798,1682536.3105318206 1334254.3015208887,1682533.0218099118 1334260.470746477,1682529.737989228 1334266.6494778055,1682526.4492673192 1334275.37891617,1682522.7194351694 1334284.1210288552,1682518.9896030196 1334292.7712527153,1682518.1612960112 1334301.4309823161,1682517.3378902278 1334309.5013560054,1682518.327937658 1334317.5590553742,1682519.3179850879 1334322.628783644,1682523.140940511 1334327.7016804938,1682526.958994709 1334328.778997751,1682533.10022951 1334329.8594835885,1682539.2414643115 1334328.6902775064,1682547.5784478683\" opacity=\"0.8\" /><polyline fill=\"none\" stroke=\"#66cc99\" stroke-width=\"35.288784000004334\" points=\"1334328.6902775064,1682547.5784478683 1334336.9507660058,1682548.9213834915 1334345.2112545052,1682550.2496154397 1334353.4685744247,1682551.5876498376 1334361.7195571836,1682552.9305854605 1334369.54911878,1682559.1600423101 1334377.3691746362,1682565.3796967098 1334385.1892304923,1682571.6091535592 1334393.0187920888,1682577.8288079589 1334400.838847945,1682584.0582648083 1334406.7292384782,1682590.768041698 1334412.6196290117,1682597.4778185878 1334418.510019545,1682604.1924967025 1334424.409915819,1682610.9022735923 1334430.5506241857,1682618.70992486 1334436.700838293,1682626.5224773525 1334442.8415466596,1682634.3399310699 1334448.9885921867,1682642.1524835625 1334453.8491941653,1682647.9506326206 1334458.7002904033,1682653.7487816787 1334463.560892382,1682659.5518319618 1334468.4088200398,1682665.34998102 1334469.6413977256,1682674.922073252 1334470.8613010903,1682684.499066709\" opacity=\"0.8\" /><polyline fill=\"none\" stroke=\"#66cc99\" stroke-width=\"35.288784000004334\" points=\"1334470.8613010903,1682684.499066709 1334477.1192469234,1682686.8712595613 1334493.519817876,1682688.0377510877 1334499.948867038,1682686.9692840592 1334499.9742156793,1682686.9643828345 1334509.4514389634,1682685.3714847416 1334533.6593914514,1682688.9787862687 1334538.1714496114,1682690.2040924942 1334538.1904610924,1682690.208993719 1334558.009930047,1682695.561131311 1334568.0194747995,1682692.738025768 1334568.0226433796,1682692.738025768 1334572.0815945757,1682687.9593314894 1334576.1405457717,1682683.1806372106 1334582.7692154841,1682678.2598074097 1334588.1811504122,1682674.338827489 1334593.5899167599,1682670.408045118 1334598.9194686036,1682664.5314764616 1334604.2395147067,1682658.65000658 1334608.7103813244,1682652.9694869195 1334613.1685736217,1682647.2791648093 1334618.7991405812,1682641.1477324578 1334624.4297075407,1682635.031003781 1334629.8986769116,1682633.3302787403 1334635.3803206033,1682631.6393561494 1334642.6015148074,1682629.2818669719 1334649.8195404315,1682626.9194765694 1334656.780911062,1682624.258111448 1334663.7486188526,1682621.6016475516 1334669.8291241962,1682616.622003052 1334675.9001237992,1682611.6521610022 1334684.1891295202,1682606.888170398 1334688.0357858448,1682604.6826191926 1334692.4813038213,1682602.129081019 1334698.679046631,1682601.041009091 1334704.879958021,1682599.9382334882 1334712.3102785163,1682596.419154009 1334719.7405990115,1682592.9000745302 1334720.950996636,1682590.2093020594 1334722.0695054354,1682583.7886974388 1334723.2006885556,1682577.3680928182 1334724.689921235,1682573.0403112303 1334729.3699141438,1682569.3692937794 1334734.0404013125,1682565.6982763284 1334739.5885851877,1682566.0805718706 1334745.1304319024,1682566.457966188 1334751.4897723007,1682568.3498389998 1334757.849112699,1682570.2515142616 1334762.75090622,1682578.2405108504 1334764.0405183486,1682584.4993750495 1334765.3396362176,1682590.7484367983 1334771.7813597003,1682596.9288813989 1334778.2199146028,1682603.1093259994 1334784.5887607418,1682605.5893457993 1334790.9607754608,1682608.0693655994 1334797.3296215995,1682610.5493853993 1334805.5710986182,1682613.2205529707 1334813.8094070563,1682615.881918092\" opacity=\"0.8\" /><polyline fill=\"none\" stroke=\"#66cc99\" stroke-width=\"35.288784000004334\" points=\"1334721.8096818617,1682398.2087177788 1334720.2602461593,1682391.5087433388 1334718.710810457,1682384.8087688987 1334718.1816575688,1682376.8001674102 1334717.6493361003,1682368.7915659216 1334717.1201832122,1682360.7878656578 1334716.591030324,1682352.7792641693 1334712.360975799,1682344.0795899695 1334708.130921274,1682335.37991577 1334703.900866749,1682326.68024157 1334699.6803179644,1682317.9805673705 1334692.7791503572,1682310.8492851392 1334685.8906570708,1682303.718002908 1334678.9894894636,1682296.5916219016 1334674.3094965545,1682288.7496620596 1334669.619997905,1682280.9077022176 1334664.940004996,1682273.0804460505 1334660.2505063466,1682265.2384862085 1334655.5705134375,1682257.4014275915 1334651.0806353386,1682250.431885782 1334646.5907572398,1682243.4721464221 1334642.100879141,1682236.4977033876 1334637.611001042,1682229.5379640278 1334633.1211229432,1682222.5684222183 1334629.9493741945,1682214.3490680591 1334626.7712882853,1682206.1297138997 1334623.5995395365,1682197.9005572905 1334620.4214536275,1682189.681203131 1334619.7085230895,1682180.702159112 1334618.998761132,1682171.718213868 1334618.2794934334,1682162.739169849 1334617.5697314758,1682153.76012583 1334616.8504637775,1682144.781081811 1334616.8504637775,1682141.3796317296\" opacity=\"0.8\" /><polyline fill=\"none\" stroke=\"#66cc99\" stroke-width=\"35.288784000004334\" points=\"1334616.8504637775,1682141.3796317296 1334609.211016991,1682145.0016369317 1334601.5715702046,1682148.6187409086 1334593.928954838,1682152.2407461107 1334586.2895080515,1682155.848047638 1334578.6405555245,1682159.47005284 1334572.3414181494,1682162.6117380017 1334566.0391121942,1682165.7387194887 1334559.7399748191,1682168.8804046502 1334552.4300603701,1682170.8114872614 1334545.2025290055,1682172.722964973 1334545.1296516617,1682172.7376686477 1334537.8292429533,1682174.658948809 1334530.7506348568,1682178.7024593523 1334523.6593524395,1682182.7312662213 1334516.5712386023,1682186.76007309 1334509.9394003095,1682192.568024598 1334503.3107305968,1682198.371074881 1334495.1104451206,1682200.90990938 1334486.9101596442,1682203.4487438786 1334478.7193799084,1682205.9777759276 1334469.0710532952,1682204.0123847423 1334459.4290638422,1682202.0322898822 1334451.1495638615,1682205.3896289396 1334442.8795696215,1682208.751869222 1334436.3396201537,1682211.4524441424 1334429.7996706858,1682214.1383153882 1334423.2597212177,1682216.8388903087 1334414.6697003806,1682217.9906781607 1334406.0891852842,1682219.1277623377 1334397.4991644472,1682220.2697477397 1334388.9186493508,1682221.4215355916 1334383.6714805916,1682226.602130312 1334378.4306489928,1682231.7778238077 1334373.1803116533,1682236.9584185283 1334367.9394800544,1682242.139013249 1334362.6891427152,1682247.3196079696 1334357.438805376,1682252.5002026903 1334349.7803471084,1682253.8382370882 1334342.1187202607,1682255.181172711 1334334.4602619933,1682256.5192071092 1334327.2295620486,1682253.3187072487 1334320.0115364245,1682250.118207388 1334315.7402903573,1682242.3497659196 1334311.4785500306,1682234.591126901 1334307.2104725435,1682226.8177842076 1334304.6090682251,1682219.0787500888 1334302.0203382275,1682211.3299135198 1334299.418933909,1682203.5908794007 1334298.8485894788,1682195.0725505224 1334298.2814136285,1682186.5493204193 1334297.7205749387,1682178.030991541 1334297.7490921603,1682169.0078364979 1334297.7902837023,1682159.9993851294 1334297.8314752446,1682150.981131311 1334299.4886426728,1682143.9282686783 1334301.148978681,1682136.8705048205 1334302.8093146894,1682129.8225434124 1334305.2713014805,1682121.7306211006 1334307.7301196912,1682113.6485012383 1334310.188937902,1682105.5614801515 1334312.7396449377,1682096.508917759 1334315.2903519734,1682087.4612565911 1334317.8505647497,1682078.4086941986 1334324.419031439,1682073.9191721892 1334331.0001724493,1682069.4198477298 1334337.5686391387,1682064.9205232705 1334346.8303989714,1682065.4008433109 1334356.1016645448,1682065.890965801 1334365.3602557974,1682066.371285841 1334374.6315213705,1682066.8516058815 1334381.2601910832,1682063.1903908802 1334387.8888607959,1682059.5291758792 1334394.5206990887,1682055.867960878 1334403.2596431938,1682052.1381287281 1334411.989081558,1682048.4082965783 1334420.7185199226,1682044.6784644283 1334426.8402168083,1682041.9386797086 1334432.9714194345,1682039.1988949887 1334439.08994774,1682036.4689127188 1334446.5994827396,1682036.7776898877 1334454.0995119985,1682037.0913682813 1334461.5995412576,1682037.4001454501 1334468.690823675,1682037.6697128196 1334475.778937512,1682037.939280189 1334482.8607141888,1682038.2088475588 1334490.0787398128,1682032.8076977176 1334497.3094397574,1682027.4016466516 1334504.5306339618,1682022.0004968103 1334511.339912744,1682018.599046729\" opacity=\"0.8\" /><polyline fill=\"none\" stroke=\"#66cc99\" stroke-width=\"35.288784000004334\" points=\"1334889.8616682626,1681091.8705411803 1334893.080945714,1681084.4794940292 1334896.3097289058,1681077.0884468781 1334898.3186087327,1681069.3690176588 1334900.321151399,1681061.659390889 1334902.3205254856,1681053.9399616697 1334902.631046342,1681046.48029737 1334902.9415671986,1681039.0206330705 1334903.0207817028,1681036.908205138 1334886.9687545688,1681013.8479419777 1334863.628993047,1681001.6585956484 1334849.550991358,1680979.6177872675 1334835.3494150424,1680967.492156862 1334815.0198046807,1680958.4886067184 1334796.3505303275,1680962.4684013382 1334796.508959336,1680986.4696996794 1334791.7687634039,1681009.5789750887 1334779.8105418475,1681025.792227062 1334770.3206442427,1681033.5606685304 1334763.939123783,1681041.922158212 1334763.7902005152,1681045.5098548396 1334763.4891853991,1681052.9695191393 1334760.4885399796,1681062.2622415521 1334757.5005688805,1681071.54026029 1334752.9916793008,1681079.1518625617 1334748.4891268811,1681086.7585636084 1334743.9802373012,1681094.3799683298 1334741.340810021,1681101.4720407617 1334738.7013827404,1681108.5690144189 1334736.0587868798,1681115.6708893008 1334734.3414164283,1681123.2677878975 1334732.6303831374,1681130.8793901692 1334730.9098441058,1681138.4811899909 1334729.2906996398,1681146.2496314594 1334727.6715551736,1681154.0180729278 1334726.0492421272,1681161.7914156213\" opacity=\"0.8\" /><polyline fill=\"none\" stroke=\"#66cc99\" stroke-width=\"35.288784000004334\" points=\"1334726.0492421272,1681161.7914156213 1334726.8097013677,1681170.0499795799 1334727.5701606083,1681178.2987410885 1334728.3306198486,1681186.5524038223 1334733.9706925487,1681191.8114181412 1334739.6107652488,1681197.0704324602 1334736.568928287,1681203.8488264987 1334733.5207541648,1681210.632121762 1334728.900964279,1681215.8617287315 1334724.2811743931,1681221.0815332513 1334719.6613845073,1681226.3013377711 1334719.3096721086,1681233.1924599824 1334718.9516225497,1681240.0688785187 1334718.5904044104,1681246.96000073 1334717.1106774716,1681255.63026758 1334715.6309505329,1681264.3005344304 1334714.1385492736,1681272.9609988309 1334705.4503024514,1681274.98030349 1334698.679046631,1681275.98015337 1334691.910959391,1681276.9702008 1334685.1397035706,1681277.97005068 1334703.827989405,1681309.872123562 1334707.398979255,1681320.9979040876 1334707.0504354364,1681329.972046882\" opacity=\"0.8\" /><polyline fill=\"none\" stroke=\"#66cc99\" stroke-width=\"35.288784000004334\" points=\"1334880.3400848561,1681349.5818477117 1334880.8692377442,1681341.7594927694 1334881.4015592125,1681333.9518415018\" opacity=\"0.8\" /><polyline fill=\"none\" stroke=\"#66cc99\" stroke-width=\"35.288784000004334\" points=\"1334881.4015592125,1681333.9518415018 1334881.6487084657,1681330.4082558982 1334879.9186636936,1681320.89007714 1334870.0105135066,1681320.1695970795 1334860.1087004796,1681319.439314569 1334850.210056033,1681318.709032059 1334840.3114115864,1681317.9885519983 1334841.3887288438,1681309.4408157705 1334842.4692146813,1681300.888178318 1334843.5592062592,1681292.3306396406 1334844.6396920967,1681283.7780021878 1334845.7201779343,1681275.23026596 1334854.9502519653,1681275.539043129 1334864.1613145154,1681275.8478202976 1334873.3913885464,1681276.1614986914 1334882.5992825162,1681276.47027586 1334891.8293565474,1681276.7888554786 1334893.080945714,1681267.4716269413 1334894.3293663003,1681258.159299629 1334895.580955467,1681248.8518735417 1334896.8293760533,1681239.5297437795 1334898.0904709604,1681230.2223176921 1334899.338891547,1681220.9099903798\" opacity=\"0.8\" /><polyline fill=\"none\" stroke=\"#66cc99\" stroke-width=\"35.288784000004334\" points=\"1334899.338891547,1681220.9099903798 1334896.1893228593,1681212.8180680678 1334893.0397541719,1681204.731046981 1334889.8996912248,1681196.639124669 1334886.7501225371,1681188.5521035818 1334883.5688680478,1681180.3376506474 1334880.3907821388,1681172.1182964882 1334878.888875139,1681164.6194223892 1334877.3806309786,1681157.1205482904 1334875.8787239788,1681149.6216741914 1334875.9706128037,1681140.059384409 1334876.0593330483,1681130.492193402 1334878.5086455187,1681122.5424066123 1334880.9516208286,1681114.5877185976 1334883.400933299,1681106.6379318077 1334886.6297164906,1681099.2517858816 1334889.8616682626,1681091.8705411803\" opacity=\"0.8\" /><polyline fill=\"none\" stroke=\"#66cc99\" stroke-width=\"35.288784000004334\" points=\"1335515.3267192196,1679226.8025282922 1335515.4693053272,1679225.0870995766 1335517.475016574,1679201.4680967776 1335517.5415567574,1679200.6839007935 1335518.5396595106,1679188.9111585808 1335518.7171,1679186.862446572 1335511.0586417324,1679183.98052633 1335505.3488602687,1679188.651393661 1335499.6485845456,1679193.322260992 1335493.850082837,1679192.7586201283 1335486.0395327215,1679194.9102578599 1335481.4894515993,1679196.1600702095 1335452.8898469978,1679211.2705465802 1335433.3904046402,1679216.3482155777 1335408.1399892769,1679220.5681702178 1335384.099971538,1679225.2978522475 1335365.6588349568,1679243.2706439602 1335362.6296723157,1679260.802325432 1335361.2513399422,1679273.0896962592 1335368.0606187244,1679286.842533332 1335385.0188597867,1679293.1308048803 1335404.6989112138,1679296.3313047409 1335424.5088744278,1679297.8800918097 1335440.3707867516,1679291.6898447594 1335446.391089072,1679273.148510958 1335457.839169221,1679254.2199803896 1335473.529978216,1679244.7018016314 1335477.9786647726,1679240.9180560077 1335483.9102468481,1679238.0508394404 1335488.8595690716,1679233.9681190976 1335492.7093939763,1679230.3020028716 1335496.5497131406,1679226.6309854204 1335502.611207003,1679224.322508492 1335508.6695322855,1679222.0189327884 1335515.3267192196,1679226.8025282922\" opacity=\"0.8\" /><polyline fill=\"none\" stroke=\"#66cc99\" stroke-width=\"35.288784000004334\" points=\"1335027.9008633068,1682785.5917315218 1335037.8597107767,1682786.322014032 1335047.8312325673,1682787.0522965423 1335057.7995857776,1682787.7776778277 1335067.7616018276,1682788.507960338 1335077.7299550378,1682789.2382428483 1335087.6888025077,1682789.9685253585 1335097.6603242983,1682790.6988078689 1335105.6483149033,1682791.2771524072 1335144.365195983,1682794.1100604 1335147.479910289,1682794.3404179704\" opacity=\"0.8\" /><polyline fill=\"none\" stroke=\"#66cc99\" stroke-width=\"35.288784000004334\" points=\"1335147.479910289,1682794.3404179704 1335148.8297254406,1682788.1893807193 1335149.4792843752,1682781.509011179 1335151.3107237127,1682775.7892817194 1335156.431149265,1682766.5994850295 1335167.9204209563,1682752.9691785793 1335171.6213225932,1682743.950924761 1335174.57127073,1682736.7706302807 1335174.8089142428,1682721.1994387694 1335169.229044566,1682708.867956918 1335166.710023332,1682695.5709337608 1335181.1904347024,1682686.0184464285 1335194.5111457312,1682679.7301748802 1335209.1214688884,1682673.1380273881 1335222.8319152778,1682671.5206231705\" opacity=\"0.8\" /><polyline fill=\"none\" stroke=\"#66cc99\" stroke-width=\"35.288784000004334\" points=\"1335222.8319152778,1682671.5206231705 1335224.0898416047,1682656.6895166195 1335224.451059744,1682652.4597595297 1335225.259047687,1682642.9415807717 1335225.6012543452,1682638.8637616537 1335229.7806115875,1682589.6358587458 1335230.110143925,1682585.758989849 1335230.9213004482,1682576.240811091 1335231.1367638998,1682573.6578655678 1335231.8116714756,1682565.7129800029 1335232.5911421971,1682557.1652437754\" opacity=\"0.8\" /><polyline fill=\"none\" stroke=\"#66cc99\" stroke-width=\"35.288784000004334\" points=\"1334637.4905949957,1681415.0475087173 1334634.0685284135,1681423.5315290214 1334630.6401246712,1681432.0008456507 1334626.7902997662,1681437.2500575199 1334622.930969121,1681442.4894669394 1334619.3092819883,1681449.64035407 1334615.6907634358,1681456.7814387514 1334612.9594473306,1681465.4615080513 1334610.2312998052,1681474.1513798013 1334611.8409385309,1681483.4588058887 1334613.4505772565,1681492.771133201 1334616.799766495,1681499.1378243477 1334620.1616300538,1681505.4996142695 1334626.9614030954,1681510.9399739099 1334633.7516703967,1681516.390136 1334641.349925641,1681520.0415485513 1334648.9513494654,1681523.6880598778 1334652.6712625832,1681528.4177419075 1334656.4006814416,1681533.1523251622 1334658.960894218,1681539.019091369 1334661.5306127346,1681544.8907588006 1334653.4412275644,1681547.0620014318 1334645.3486738137,1681549.2283428381 1334636.7808330378,1681550.5516735616 1334628.7104593485,1681552.4680524978 1334620.6400856592,1681554.389332659 1334615.750966459,1681561.3294671194 1334609.9904877124,1681566.0395442494 1334604.2205032255,1681570.7496213794 1334598.4505187385,1681575.4695009594 1334595.018946416,1681581.4293904393 1334591.581036933,1681587.399082369 1334588.1494646105,1681593.3687742986 1334585.811052446,1681600.4706491805 1334583.478977442,1681607.5725240624 1334578.3015174465,1681611.2288378386 1334573.120888871,1681614.8900528399 1334568.0891835631,1681618.2817004716 1334563.070152576,1681621.6684468782\" opacity=\"0.8\" /><polyline fill=\"none\" stroke=\"#66cc99\" stroke-width=\"35.288784000004334\" points=\"1334563.070152576,1681621.6684468782 1334563.0606468357,1681627.4224849124 1334563.051141095,1681633.1618192717 1334560.2786334476,1681637.4896008596 1334557.7215892517,1681643.7778724078 1334555.1487021546,1681650.061242731 1334552.5916579587,1681656.3397118296 1334553.7101667582,1681664.5198561898 1334554.8413498783,1681672.7098029996 1334555.9693644184,1681680.88994736 1334558.859109532,1681686.9380588878 1334561.748854646,1681692.991071641 1334563.1905586226,1681695.1819191717 1334568.5613020083,1681703.362063532 1334573.928876814,1681711.5520103418 1334578.0987283157,1681715.5906196604 1334579.2204056955,1681722.56016147 1334580.3294087544,1681729.5199008298 1334582.7692154841,1681734.3917183816 1334585.2090222142,1681739.2586347086 1334587.5410972182,1681745.2724376624 1334589.870003642,1681751.2813393911 1334594.9904291944,1681758.7508061407 1334604.039894156,1681762.0395280495 1334606.9613250713,1681768.1219481518 1334609.8700816662,1681774.2092694791 1334611.4797203918,1681781.262132112 1334613.0798533768,1681788.31009352 1334618.700914596,1681794.4513283211 1334624.3188072348,1681800.5876618975\" opacity=\"0.8\" /><polyline fill=\"none\" stroke=\"#66cc99\" stroke-width=\"35.288784000004334\" points=\"1334624.3188072348,1681800.5876618975 1334629.8004509264,1681796.0687325387 1334635.278926038,1681791.5498031797 1334640.7700754702,1681787.0406762706 1334648.381005035,1681780.7524047224 1334656.0014403404,1681774.4592319492 1334662.439995243,1681769.1414029312 1334668.8690444052,1681763.8284751384 1334675.3107678879,1681758.5204485704 1334681.7493227904,1681753.1977183276 1334688.1815405325,1681747.8896917596 1334695.348868874,1681741.2779393678 1334702.5193657954,1681734.6808906507 1334706.9585466115,1681729.3385555085 1334711.4104017485,1681724.001121591 1334715.8495825646,1681718.6587864487 1334720.8496020706,1681712.64008227 1334725.8401158361,1681706.6311805411 1334730.8401353422,1681700.6124763624 1334735.840154848,1681694.5986734086 1334742.1107750018,1681689.7317570816 1334748.3813951553,1681684.85013708 1334754.648846729,1681679.9783195283 1334760.9194668825,1681675.1114032012 1334764.7502803062,1681666.0686432584 1334768.5810937302,1681657.0307845406 1334772.4087385738,1681647.9978270477 1334776.2300462571,1681638.9599683299 1334777.8808765248,1681630.0887512586 1334779.5285382126,1681621.2224354122 1334781.1793684803,1681612.3610207909 1334782.8206930077,1681603.4898037196 1334789.3701482161,1681601.2107341406 1334795.910097684,1681598.9414670113 1334802.4500471521,1681596.6623974324 1334811.0115507676,1681598.4415420713 1334819.5793915433,1681600.2206867104 1334828.140895159,1681601.9998313496 1334828.9298716208,1681594.1088592587 1334829.7093423423,1681586.2080847179 1334830.5014873846,1681578.322013852 1334831.2904638464,1681570.421239311 1334831.4995901375,1681561.0206899506 1334831.7087164286,1681551.62014059 1334835.9197594728,1681544.4006363105 1334840.19100554,1681536.9703793603 1334844.459083027,1681529.54012241 1334848.7398348348,1681522.1098654596 1334853.011080902,1681514.6894109594 1334857.1302351211,1681506.759229069 1334858.7113566254,1681501.2894620793 1334860.2798038088,1681495.8294975394 1334861.128983294,1681489.2520537218 1334861.9813313594,1681482.6697086797 1334862.37106672,1681476.4598567297 1334862.7703078212,1681470.2598072297 1334863.8412879184,1681463.4912156411 1334864.9186051756,1681456.7324265023 1334869.5795866037,1681449.6893663192 1334874.231062291,1681442.6512073611 1334879.6398286389,1681436.5099725598 1334885.0485949866,1681430.3687377586 1334886.9687545688,1681423.4825167723 1334888.9015884716,1681416.5913945613 1334890.8185794735,1681409.70027235 1334891.7786592646,1681399.8096004995 1334892.7387390558,1681389.9091261989 1334893.9586424206,1681381.6995744894 1334895.169040045,1681373.4998252296 1334894.361052102,1681366.7606409905 1334893.549895579,1681360.0214567513 1334890.8597710158,1681355.3897992196 1334888.1696464526,1681350.748339238 1334880.3400848561,1681349.5818477117\" opacity=\"0.8\" /><polyline fill=\"none\" stroke=\"#66cc99\" stroke-width=\"35.288784000004334\" points=\"1334880.3400848561,1681349.5818477117 1334879.9313380143,1681355.6103543402 1334879.2912848203,1681362.4916741014 1334878.6607373666,1681369.358290188 1334878.0206841726,1681376.2396099495 1334872.821044116,1681381.42020467 1334865.6505471945,1681386.8605643103 1334858.480050273,1681392.3009239507 1334851.3095533515,1681397.7412835911 1334844.1485621706,1681403.1816432315 1334839.1802284662,1681405.529329959 1334834.2087261816,1681407.8917203615 1334826.8005857477,1681406.23020512 1334820.7485976256,1681405.191145441 1334814.6997780837,1681404.142283312 1334806.1604545296,1681408.96998984 1334797.6306367156,1681413.8124000423 1334792.148993024,1681421.3014716913 1334786.661012172,1681428.7807408907 1334780.7611158981,1681435.7502827002 1334774.8612196243,1681442.7198245097 1334766.3694247724,1681442.3816399914 1334757.8807985007,1681442.0483566981 1334754.819950058,1681434.6916181215 1334751.7686073557,1681427.3299783198 1334748.710927493,1681419.9683385182 1334745.65007905,1681412.6214023912 1334745.5201672632,1681404.4412580312 1334745.3902554763,1681396.261113671 1334745.2508379489,1681388.0809693108 1334745.1494433836,1681379.592047782 1334745.0512173981,1681371.098225028 1334741.8794686494,1681364.8197559295 1334738.7203942214,1681358.551089281 1334735.5486454726,1681352.2824226322 1334730.7989438,1681347.582147952 1334726.0587478678,1681342.8916757214 1334719.7215875306,1681338.5785978085 1334713.3907643538,1681334.2704211203 1334707.0504354364,1681329.972046882\" opacity=\"0.8\" /><polyline fill=\"none\" stroke=\"#66cc99\" stroke-width=\"35.288784000004334\" points=\"1334707.0504354364,1681329.972046882 1334702.0694274115,1681354.7183314082 1334691.1093086083,1681378.249112159 1334689.788010678,1681381.7289818388 1334677.6808658538,1681413.6506596205 1334665.3075602956,1681422.1444823744 1334653.1307067077,1681425.6488581786 1334644.192142052,1681423.301171451 1334637.4905949957,1681415.0475087173\" opacity=\"0.8\" /><polyline fill=\"none\" stroke=\"#66cc99\" stroke-width=\"35.288784000004334\" points=\"1335238.6906590215,1682485.5436442937 1335238.6146130976,1682485.5583479684 1335229.8693318323,1682487.0777276878 1335221.1303877274,1682488.6118110819 1335214.6316298016,1682489.5724511624 1335211.0004369284,1682494.0080596982 1335204.5016790025,1682494.958897329 1335197.5308026318,1682500.6492194391 1335188.5415406935,1682500.4923802423 1335189.1404023455,1682497.9486445186 1335183.7316359975,1682495.052020602 1335178.3197010697,1682492.1602979102 1335170.7214458254,1682492.3416432317 1335163.120022001,1682492.5082848782 1335156.1903371722,1682495.5911553411 1335149.2606523435,1682498.6593221293 1335146.3297156878,1682504.4917797619 1335143.3987790318,1682510.3193361694 1335134.098996237,1682513.6423666524 1335124.7897077017,1682516.9702983603 1335116.811222837,1682516.690928541 1335108.820063652,1682516.4213611714 1335099.479089315,1682515.548943139 1335090.1412835582,1682514.6716238817 1335085.10007251,1682508.599006229 1335080.058861462,1682502.5214873515 1335078.8294523563,1682495.2088597987 1335077.6095489915,1682487.9011334712 1335071.7603500003,1682484.038968249 1335065.9111510091,1682480.1915067015 1335060.0587834378,1682476.3293414793 1335053.3287191596,1682469.3696021196 1335046.5796434006,1682462.40006031 1335039.8495791226,1682455.4305185005 1335040.629049844,1682447.6424721323 1335040.6797471268,1682440.4376715277 1335040.7304444094,1682433.2377721476 1335042.1404625843,1682425.229170659 1335043.5599865,1682417.2303716203 1335044.970004675,1682409.2315725815 1335045.6797666328,1682401.762105832 1335046.3895285905,1682394.2877378578 1335047.1087962887,1682386.8182711082 1335040.9205592196,1682382.470884621 1335034.72915357,1682378.1185969086 1335028.5504222414,1682373.781012871 1335022.6093344253,1682370.0805880704 1335016.6809209299,1682366.38996572 1335010.7493388543,1682362.6895409196 1335002.6409422029,1682361.228975899 1334994.5293769713,1682359.7684108785 1334986.4209803198,1682358.307845858 1334978.3189208289,1682356.852182062 1334971.820162903,1682355.7788138087 1334965.3214049775,1682354.7103467803 1334961.290971003,1682363.6599834498 1334957.251031288,1682372.6194225694 1334955.0805538725,1682372.83017524 1334948.2395892886,1682373.5016430516 1334941.4112990252,1682374.1682096382 1334932.8307839287,1682376.658031888 1334924.2597745727,1682379.138051688 1334915.6887652169,1682381.618071488 1334907.120924441,1682384.107893738 1334897.9985821357,1682383.2501793802 1334888.8794084103,1682382.4022674724 1334879.7602346851,1682381.5494543393 1334871.1512023672,1682383.9706594406 1334862.539001469,1682386.391864542 1334853.929969151,1682388.8081684182 1334845.320936833,1682391.2293735193 1334844.3196654997,1682400.1888126389 1334846.429939892,1682405.6487771787 1334849.9787496808,1682409.9422501922 1334853.6606398367,1682412.931997382 1334859.5795475915,1682413.5201443702 1334865.5016239267,1682414.1082913582 1334874.741203698,1682412.981009631 1334882.7196885627,1682409.0992395093 1334890.2102120812,1682409.8099171198 1334897.7007355997,1682410.5205947305 1334902.5296517767,1682414.27003178 1334907.3585679536,1682418.0194688295 1334911.9910321601,1682423.601963992 1334916.629833527,1682429.1893603792 1334915.9105658284,1682436.649024679 1334915.2388268327,1682443.1088390988 1334914.5702564172,1682449.5784559685 1334916.5094274804,1682458.131093421 1334924.7192186972,1682460.7483475183 1334930.0392648003,1682464.032168202 1334934.3295223485,1682468.1491971193 1334938.6102741563,1682472.2613248113 1334940.6413340443,1682479.877828308 1334942.6597196118,1682487.509035479 1334938.4391708272,1682491.7583974684 1334934.2186220426,1682496.0077594577 1334933.5405458866,1682502.447968978 1334932.8814812114,1682508.9077833977 1334932.2097422157,1682515.3724990424 1334931.7407923508,1682520.0090577991 1334926.8896961126,1682521.4206105706 1334922.029094134,1682522.841965792 1334916.4809102588,1682521.8813257113 1334910.9295578036,1682520.9108831808 1334907.6912688713,1682525.3415904916 1334899.5195006165,1682529.1302373402 1334891.350900942,1682532.9188841889 1334885.900943052,1682531.0417150517 1334880.450985162,1682529.1694471394 1334873.2994997215,1682523.0282123382 1334866.151182861,1682516.9016812118 1334857.9287173238,1682512.618010648 1334849.7094203664,1682508.3392413093 1334844.6111748752,1682502.5312898012 1334839.5097608038,1682496.7184370684 1334834.4115153125,1682490.9104855605 1334827.770171279,1682484.9898058798 1334821.128827246,1682479.069126199 1334814.4811460522,1682473.1484465185 1334808.7206673056,1682469.3107874207 1334802.9601885593,1682465.478029548 1334799.77893407,1682459.5916584416 1334796.6103539013,1682453.7003861105 1334790.2985422055,1682447.76010153 1334783.9994048304,1682441.8296193995 1334777.6907617147,1682435.899137269 1334771.3916243396,1682429.9686551387 1334763.3085763296,1682429.3707057007 1334755.2286968997,1682428.7776574877 1334747.1614917906,1682428.1797080496 1334739.1291410632,1682423.4892358193 1334731.099958916,1682418.788961139 1334728.0105932516,1682411.9321475022 1334724.9085532667,1682405.0704326404 1334721.8096818617,1682398.2087177788\" opacity=\"0.8\" /><polyline fill=\"none\" stroke=\"#66cc99\" stroke-width=\"35.288784000004334\" points=\"1334721.8096818617,1682398.2087177788 1334715.2095293705,1682398.6106182206 1334709.6391654343,1682399.9486526186 1334704.0688014978,1682401.2817857917 1334700.070053325,1682405.888937199 1334696.0586308315,1682410.491187381 1334695.0985510405,1682420.3916616817 1334694.1416398296,1682430.292135982 1334697.7411469012,1682439.2417726517 1334701.331148232,1682448.1914093215 1334704.9306553036,1682457.141045991 1334709.6011424721,1682463.5616506117 1334714.2811353812,1682469.9822552323 1334718.96112829,1682476.397958628 1334724.5885266694,1682484.132091522 1334730.2190936292,1682491.8515207416 1334735.8591663293,1682499.5807524107 1334741.4897332888,1682507.30998408 1334747.7603534423,1682514.892179002 1334754.0404793364,1682522.4694726996 1334760.3110994902,1682530.0516676216 1334766.5785510635,1682537.6289613189 1334771.7908654409,1682544.377948008 1334776.9905054974,1682551.122033472 1334782.1996512946,1682557.871020161 1334786.6103148893,1682564.12988436 1334791.020978484,1682570.378946109 1334795.4411478192,1682576.6378103078 1334799.370187228,1682582.1516883217 1334803.2992266372,1682587.6704675604 1334807.2187603058,1682593.1794443494 1334809.420923523,1682600.751836822 1334811.6104124193,1682608.3193280692 1334813.8094070563,1682615.881918092\" opacity=\"0.8\" /><polyline fill=\"none\" stroke=\"#66cc99\" stroke-width=\"35.288784000004334\" points=\"1334813.8094070563,1682615.881918092 1334820.6788888618,1682618.4893697393 1334827.561044988,1682621.0919201619 1334829.440013028,1682626.5224773525 1334831.318981068,1682631.9383308683 1334830.549016087,1682638.5598857098 1334829.7885568466,1682645.1814405515 1334829.0312661862,1682651.7882917183 1334826.2492527983,1682659.8017944319 1334828.029994853,1682665.5705361406 1334829.8107369076,1682671.349080299 1334828.818971315,1682678.107869438 1334827.8303743023,1682684.8715598015 1334826.8386087096,1682691.6303489404 1334822.3614049314,1682698.6881127981 1334824.5287137667,1682706.682010612 1334826.7086969228,1682714.666105976 1334832.3487696229,1682735.011090541 1334834.7695648717,1682753.777880688 1334835.720138922,1682761.4482976582 1334828.594002123,1682770.9958837659 1334828.5908335429,1682771.0007849908\" opacity=\"0.8\" /><polyline fill=\"none\" stroke=\"#66cc99\" stroke-width=\"35.288784000004334\" points=\"1334828.5908335429,1682771.0007849908 1334838.5591867531,1682771.731067501 1334848.5212028031,1682772.4613500114 1334858.4895560136,1682773.1916325216 1334868.4515720636,1682773.921915032 1334878.4199252739,1682774.6521975421 1334888.3914470645,1682775.3824800525 1334898.3502945343,1682776.107861338 1334908.3186477446,1682776.838143848 1334918.2806637946,1682777.5684263585 1334928.249017005,1682778.2987088687 1334938.211033055,1682779.028991379 1334948.1793862653,1682779.7592738892 1334958.1414023153,1682780.4895563996 1334966.1705844626,1682781.067900938 1335017.3463227653,1682784.8173379875 1335017.9293415162,1682784.8614490114 1335027.9008633068,1682785.5917315218\" opacity=\"0.8\" /><polyline fill=\"none\" stroke=\"#66cc99\" stroke-width=\"35.288784000004334\" points=\"1335027.9008633068,1682785.5917315218 1335026.5795653765,1682776.4313421813 1335025.3089647288,1682772.0986593687 1335019.3393596914,1682755.0914089615 1335014.5104435144,1682730.6097905799 1335017.2512653603,1682726.0908612208 1335019.988918626,1682721.571931862 1335024.8305091234,1682717.0382988283 1335029.6594253003,1682712.5193694695 1335036.8489337028,1682705.9713330013 1335044.0416106856,1682699.4281977583 1335045.2108167678,1682696.4482530183 1335043.4490861942,1682690.5912892614 1335046.3008083457,1682684.9499794 1335049.1588676579,1682679.3184719884 1335049.6816833857,1682673.7016682518 1335050.2013305333,1682668.07996329 1335041.4085205656,1682663.810996401 1335034.4186327136,1682663.4483057584 1335027.4414191823,1682663.1003187904 1335020.4515313306,1682662.7523318224 1335011.6111926602,1682659.488116038 1335002.7708539898,1682656.2386039286 1334995.6985830537,1682649.7297772598 1334988.6294806974,1682643.2111481412 1334988.4013429254,1682633.9919441019\" opacity=\"0.8\" /><polyline fill=\"none\" stroke=\"#66cc99\" stroke-width=\"35.288784000004334\" points=\"1334988.4013429254,1682633.9919441019 1334988.170036573,1682624.7678388378 1334994.0097298238,1682618.5922954623 1334999.8494230744,1682612.402048412 1335005.6796105846,1682606.2216038117 1335012.9198162698,1682606.6382079283 1335020.1505162145,1682607.0695157195 1335027.3907218997,1682607.491021061 1335034.3204067284,1682606.4715662815 1335041.2595972975,1682605.4521115022 1335048.1987878669,1682604.417953048 1335057.2609271489,1682602.8593635294 1335066.319897851,1682601.3007740108 1335075.2014280634,1682602.1192785692 1335084.0702839552,1682602.9524868026 1335090.1888122607,1682603.280868871 1335096.301003406,1682603.5994484895 1335101.5291606842,1682598.0316570017 1335108.6394545825,1682595.032107362 1335115.7497484807,1682592.0423601724 1335122.8505366384,1682589.037909308 1335127.8315446635,1682592.1305822206 1335135.7308150239,1682592.017854048 1335143.630085384,1682591.9100271 1335151.5293557444,1682591.8022001523 1335160.5503034843,1682593.7185790886 1335169.5712512243,1682595.6300568 1335177.7208394178,1682595.8015996716 1335185.860921871,1682595.9584388684 1335192.5307831257,1682594.1106770807 1335199.19113864,1682592.258014068 1335206.7608766628,1682587.5822455122 1335210.7691305762,1682582.97999533 1335214.771047329,1682578.3679426978 1335218.9694160523,1682569.6192562492 1335223.9187382758,1682563.8505145404 1335228.8807348197,1682558.0915752815 1335232.534107754,1682557.1799474498 1335232.5911421971,1682557.1652437754\" opacity=\"0.8\" /><polyline fill=\"none\" stroke=\"#66cc99\" stroke-width=\"35.288784000004334\" points=\"1335232.5911421971,1682557.1652437754 1335233.3706129186,1682547.3823988724 1335234.2007809228,1682537.5897515197 1335235.0277803468,1682527.8314127414 1335235.030948927,1682527.7725980426 1335235.7502166252,1682519.3522936623 1335236.1114347645,1682515.0539194238 1335237.382035412,1682500.0904798005 1335237.9016825596,1682493.9982572482 1335238.6906590215,1682485.5436442937\" opacity=\"0.8\" /><polyline fill=\"none\" stroke=\"#66cc99\" stroke-width=\"35.288784000004334\" points=\"1334588.608908735,1678599.5780740075 1334589.6291915493,1678606.3613692708 1334590.639968623,1678613.1299608594 1334591.6602514372,1678619.9083548978 1334599.489813034,1678624.0106801402 1334607.3288803708,1678628.1179066075 1334615.1616105477,1678632.2300342994 1334623.0006778848,1678636.3421619916 1334630.8302394813,1678640.4395860091 1334637.8613188753,1678645.7623162519 1334644.8892296893,1678651.07034282 1334651.929814824,1678656.3881718377 1334658.960894218,1678661.7010996304 1334665.9888050319,1678667.0091261985 1334672.6396548057,1678672.3122515418 1334679.280998839,1678677.6202781098 1334685.9286800327,1678682.9185022279 1334692.5795298065,1678688.2216275712 1334699.2303795803,1678693.5198516892 1334703.2608135547,1678702.3714638609 1334707.2912475292,1678711.2181748077 1334711.3216815037,1678720.0697869794 1334715.348946898,1678728.911596701 1334714.6486906807,1678736.851581041 1334717.3293095033,1678742.0517806613 1334720.009928326,1678747.2421778317 1334728.2704168255,1678747.32059743 1334736.530905325,1678747.4088194782 1334744.7913938244,1678747.4921403015 1334753.0487137437,1678747.5705599 1334751.4897723007,1678738.3121460616 1334749.9213251173,1678729.058633448 1334746.248940702,1678721.3784140279 1334742.5892306073,1678713.688392158 1334738.920014772,1678706.0081727377\" opacity=\"0.8\" /><polyline fill=\"none\" stroke=\"#66cc99\" stroke-width=\"35.288784000004334\" points=\"1334911.9086490755,1678498.22074305 1334913.1095409596,1678489.5308713003 1334914.319938584,1678480.8409995504 1334915.5208304678,1678472.1511278006 1334916.7185537715,1678463.4612560507 1334917.9194456555,1678454.771384301 1334919.1203375394,1678446.081512551 1334919.4308583958,1678439.3178221872 1334919.7413792524,1678432.5590330486 1334920.0487315287,1678425.8002439097 1334920.4004439274,1678417.2819150314 1334920.7394820054,1678408.7488824783 1334921.0785200836,1678400.2207511503 1334921.4207267417,1678391.6877185972 1334921.7692705602,1678383.159587269 1334922.1716802416,1678375.5822935717 1334922.5804270834,1678368.0099010994 1334922.9891739252,1678360.4424098518 1334923.3915836066,1678352.8700173795 1334924.640004193,1678345.449562879 1334925.878919039,1678338.0389108283 1334927.121002465,1678330.6282587778 1334928.3694230514,1678323.2078042773 1334930.3307741757,1678314.7188827484 1334932.2794509795,1678306.2201587695 1334934.240802104,1678297.7312372406 1334936.1989846479,1678289.232513262 1334938.1191442301,1678281.2386154481 1334940.0393038122,1678273.249618859 1334941.9499576539,1678265.2508198202 1334943.8701172362,1678257.2618232311 1334943.9588374807,1678248.7680004775 1334944.041220565,1678240.2790789485 1334944.12994081,1678231.7901574196 1334944.2091553141,1678223.3012358907 1334944.301044139,1678214.8123143618 1334942.2192869682,1678206.671379801 1334940.1406983777,1678198.52064279 1334938.058941207,1678190.379708229\" opacity=\"0.8\" /><polyline fill=\"none\" stroke=\"#66cc99\" stroke-width=\"35.288784000004334\" points=\"1334938.058941207,1678190.379708229 1334936.1894789075,1678183.0719819013 1334934.3295223485,1678175.749551899 1334929.1013650703,1678168.559454969 1334923.8795449524,1678161.3693580388 1334918.6608934149,1678154.1792611086 1334913.4295675566,1678146.9891641785 1334908.2109160188,1678139.7990672484 1334902.459943013,1678132.3492053987 1334896.708970007,1678124.8993435488 1334890.9706713217,1678117.439679249 1334885.2196983157,1678109.9898173993 1334882.7387000436,1678109.8280769775 1334874.5289088269,1678109.298744688 1334869.680981169,1678101.6920436413 1334868.8508131648,1678096.2810913504 1334868.0206451607,1678090.8603366097 1334867.6404155404,1678085.0817924512 1334867.2601859202,1678079.2885446178 1334868.8413074242,1678069.559613189 1334874.0187674197,1678066.6923966217 1334876.0403215673,1678061.9284060178 1334885.130978071,1678061.8401839696 1334889.4307413597,1678059.7179535874 1334897.2603029562,1678054.6010747903 1334903.3186282385,1678050.9790695885 1334909.0315782826,1678051.851487621 1334914.750865487,1678052.7190044285 1334915.600044972,1678057.7182538277 1334916.4492244571,1678062.707700777 1334919.1393490203,1678070.74080839 1334921.819967843,1678078.7592123286 1334928.9112502602,1678083.008574318 1334936.008869838,1678087.2677387572 1334945.1914151665,1678087.2089240584 1334954.3707919149,1678087.1403069098 1334963.5501686633,1678087.081492211 1334956.6394953155,1678083.601622531 1334949.7414962885,1678080.1217528512 1334944.8492085082,1678073.9707156 1334939.9505835676,1678067.829480799 1334940.261104424,1678063.7418592311 1334942.2097812279,1678059.781669511 1334946.7313451283,1678054.8020250115 1334951.2402347082,1678049.8223805118 1334957.2415255476,1678042.1176549671 1334963.2396478066,1678034.4080281975 1334964.7288804858,1678028.7422122115 1334966.2307874858,1678023.0812974507\" opacity=\"0.8\" /><polyline fill=\"none\" stroke=\"#66cc99\" stroke-width=\"35.288784000004334\" points=\"1334966.2307874858,1678023.0812974507 1334958.5786663787,1678022.62058231 1334950.9392195921,1678022.1598671693 1334943.2902670652,1678021.6991520284 1334935.9486668147,1678016.611680581 1334928.6007294038,1678011.5193079086 1334921.259129153,1678006.4318364612 1334913.9111917422,1678001.3394637888 1334906.5695914915,1677996.2421898916 1334899.2216540806,1677991.1498172192 1334891.88005383,1677986.0623457718 1334887.329972708,1677978.8918537411 1334882.7703858453,1677971.7311641604 1334878.2203047234,1677964.56067213 1334873.6702236012,1677957.3999825493 1334869.1201424792,1677950.2294905188 1334867.2506801796,1677943.6814540508 1334865.3907236208,1677937.1285163579 1334860.8691597201,1677940.887755857 1334856.3507643999,1677944.661699031 1334852.3298361658,1677948.881653671 1334848.308907932,1677953.101608311 1334842.1903796264,1677957.5421180716 1334836.0686827407,1677961.9777266071 1334832.2695551186,1677968.231689581 1334828.4704274964,1677974.48075133 1334826.3506473636,1677980.0191354684 1334824.2308672308,1677985.5624208318 1334826.810091488,1677994.3405146298 1334829.3893157453,1678003.118608428 1334832.260049378,1678008.2403884497 1334831.5502874204,1678017.1900251193 1334830.4698015829,1678020.3807225302 1334823.689040022,1678023.159717049 1334819.5413685814,1678023.6694444388 1334812.7606070207,1678021.12080749 1334805.9798454598,1678018.5721705416 1334797.1204953084,1678016.2783972877 1334792.2187017878,1678015.9108054203 1334786.9113300054,1678015.5187074281 1334781.600789643,1678015.131510661 1334778.410029413,1678018.9789722085 1334775.2192691832,1678022.8313349807 1334769.6996025296,1678024.8506396401 1334764.1704301354,1678026.8601418496 1334757.979024486,1678032.1093537188 1334752.2407258006,1678036.9811712706 1334746.4897527948,1678041.8382851477 1334744.4586929067,1678046.6022757518 1334742.4403073394,1678051.3613651306 1334741.9586831536,1678057.4682913576 1334741.4802275482,1678063.5899212593 1334744.819911046,1678068.3686155379 1334748.1500888031,1678073.1522110417 1334752.8205759716,1678076.7987223682 1334757.4815573995,1678080.4599373692 1334762.6811974563,1678082.508649378 1334767.880837513,1678084.5720650614 1334770.5012533122,1678092.938455968 1334769.2116411836,1678098.5307535802 1334767.9188604748,1678104.1083475177 1334761.4486197706,1678107.6813404707 1334754.968873326,1678111.2494321987 1334747.9187824507,1678116.802520012 1334740.8686915757,1678122.3507066001 1334736.461196561,1678126.1001436496 1334731.2805679855,1678130.9523563017 1334726.1094451505,1678135.8094701788 1334719.1195572985,1678129.1585079879 1334712.1201637061,1678122.512447022 1334705.1302758544,1678115.861484831 1334698.1308822618,1678109.2105226398 1334691.14099441,1678102.5595604489 1334689.5915587076,1678095.7517590611 1334688.0294486845,1678088.9390564484 1334686.480012982,1678082.1312550607 1334686.4514957606,1678074.568665038 1334686.419809959,1678067.0011737905 1334686.400798478,1678059.4287813182 1334686.3691126762,1678051.8710925204 1334685.371009923,1678043.2204305697 1334684.3697385897,1678034.579571069 1334683.358961516,1678025.938711568 1334682.3608587629,1678017.2978520673 1334676.590874276,1678012.4015283908 1334670.820889789,1678007.5003034896 1334665.050905302,1678002.6088810381 1334659.280920815,1677997.707656137 1334650.469099366,1678001.8687960783 1334644.5787088326,1678002.9519667814 1334638.6914868795,1678004.0400387093 1334633.7611761373,1678009.7303608197 1334628.8308653948,1678015.4304853799 1334626.2009438549,1678024.3703195998 1334623.571022315,1678033.3199562693 1334616.391019653,1678037.2899484392 1334609.211016991,1678041.2599406093 1334602.031014329,1678045.2299327792 1334593.4093076903,1678050.0723429818 1334584.7907696317,1678054.919654409 1334580.018887898,1678060.281594451 1334575.2501747443,1678065.638633268 1334570.4814615904,1678071.0103757598 1334568.3997044198,1678077.7789673484 1334566.321115829,1678084.5524601617 1334564.2393586584,1678091.3210517503 1334562.9212293082,1678099.0992956688 1334561.6094371185,1678106.8824408117 1334560.300813509,1678114.67048718 1334556.8312182243,1678123.698543448 1334553.3616229396,1678132.7216984911 1334549.8888590748,1678141.7497547593 1334545.1993604254,1678150.3612069106 1334540.509861776,1678158.9677578371 1334533.7512802763,1678163.9277974372 1334526.999035937,1678168.902540712 1334522.0909052559,1678174.1811599305 1334517.1891117352,1678179.4695815989 1334516.0515914545,1678187.8800835295 1334514.9013968534,1678196.29058546 1334519.5211867392,1678199.0597775292 1334524.1314708844,1678201.8289695983 1334530.2404934496,1678206.21066466 1334536.3495160146,1678210.5923597217 1334540.5288732569,1678213.5919093613 1334563.13986134,1678216.6012614507 1334588.2001618932,1678209.479781669 1334607.389083394,1678203.1277941973 1334630.0697802408,1678194.5800579695 1334648.400016516,1678188.5809586903 1334669.8006069746,1678185.718643348 1334680.1808756068,1678191.0707809401 1334686.480012982,1678206.0293193387 1334678.678968607,1678231.4519729014 1334664.090825511,1678248.0720265415 1334654.128809461,1678269.191404641 1334640.8302784932,1678290.4578194872 1334626.4005644056,1678299.6525174018 1334601.9486312447,1678298.9810495905 1334587.9086525177,1678303.2500164795 1334571.6696791537,1678311.3419387913 1334571.4003498394,1678312.3809984704 1334566.5112306392,1678317.321433171 1334561.6316171796,1678322.2618678713 1334556.74883514,1678327.2023025716 1334551.0992566992,1678334.5100288994 1334545.4496782587,1678341.8177552272 1334545.1486631427,1678348.978444808 1334544.8413108664,1678356.1293319387 1334544.5402957504,1678363.2900215194 1334551.1816397838,1678365.7700413195 1334557.8198152368,1678368.2500611194 1334564.4706650106,1678370.7300809196 1334574.0302713793,1678370.9114262408 1334583.5803720073,1678371.0878703373 1334593.139978376,1678371.2692156585 1334599.809839631,1678375.5381825475 1334606.4797008857,1678379.8218531113 1334613.1495621407,1678384.10062245 1334618.6692287943,1678391.3397316292 1334624.1888954479,1678398.5788408082 1334629.699056361,1678405.8179499875 1334637.6490240041,1678411.8317529412 1334645.5989916471,1678417.84065467 1334653.54895929,1678423.849556399 1334660.7416362728,1678426.7314766408 1334667.9311446752,1678429.608495658 1334675.1206530777,1678432.4904158998 1334675.1713503604,1678441.91057016 1334675.2315533836,1678451.3307244203 1334675.2790820862,1678460.7410762305 1334670.8399012699,1678468.5977397473 1334666.4007204538,1678476.449502039 1334661.9710453781,1678484.3012643307 1334657.439975737,1678492.1089155984 1334652.908906096,1678499.921468091 1334648.3905107756,1678507.7291193586 1334648.1211814613,1678515.9092637186 1334647.8486835668,1678524.079605629 1334645.408876837,1678533.0978594474 1334642.9785758476,1678542.1112120408 1334635.0412825253,1678544.8411943107 1334627.1103263632,1678547.5711765806 1334619.1698644608,1678550.2913564008 1334610.8396671978,1678553.1291656187 1334602.518975675,1678555.9620736116 1334594.1887784118,1678558.7998828294 1334591.6887686588,1678568.1318150412 1334589.2014332265,1678577.4588460282 1334586.7014234734,1678586.7907782402 1334587.6615032644,1678593.1819755114 1334588.608908735,1678599.5780740075\" opacity=\"0.8\" /><polyline fill=\"none\" stroke=\"#66cc99\" stroke-width=\"35.288784000004334\" points=\"1334888.6797878598,1678396.549733699 1334879.3514878436,1678430.941628831 1334866.2715889076,1678460.069608419 1334854.040869457,1678488.859403489 1334853.3406132397,1678492.53042094 1334846.429939892,1678511.821642151 1334842.8304328204,1678520.6291432986 1334832.1491490721,1678529.7111130406 1334822.9507608428,1678525.27060328 1334803.6414332953,1678501.4408478104 1334792.8207320198,1678485.7177183272 1334776.8510879702,1678456.3691836186 1334758.901081315,1678431.0004435298 1334730.3394996754,1678413.8804649499 1334703.4509283649,1678407.229502759 1334692.059882659,1678393.53057916 1334691.3501207011,1678376.1214283109 1334695.820987319,1678356.2322576616 1334694.9686392536,1678340.4601159296 1334691.0205883635,1678327.339536869 1334694.0307395237,1678299.4809745303 1334713.2988755289,1678270.8284137577 1334732.978926956,1678247.5819040514 1334759.37003118,1678218.2480730175 1334782.979122016,1678197.7903602798 1334809.93106493,1678177.1807095702 1334840.5205378775,1678168.4222206715 1334866.860944819,1678187.4193683888 1334872.4503202364,1678211.4108642803 1334874.0409474808,1678244.1804539699 1334877.9192896073,1678268.8581213476 1334882.371144744,1678296.8882265575 1334889.3198410538,1678330.0793215886 1334885.618939417,1678345.4887726782 1334886.560007727,1678365.3877457771 1334888.6797878598,1678396.549733699\" opacity=\"0.8\" /><polyline fill=\"none\" stroke=\"#66cc99\" stroke-width=\"35.288784000004334\" points=\"1334241.7285947797,1678619.7123059018 1334240.850898073,1678610.6107312602 1334239.970032786,1678601.5091566185 1334239.0986732398,1678592.4124832018 1334238.2209765331,1678583.3207110101 1334237.340111246,1678574.2191363685 1334239.798929457,1678567.5191619287 1334242.2704219886,1678560.8289899384 1334244.7292401993,1678554.1290154986 1334246.361058986,1678545.718513568 1334247.989709193,1678537.2982091876 1334249.6215279796,1678528.8877072572 1334248.3002300493,1678520.2713538809 1334246.978932119,1678511.6500992796 1334245.6608027688,1678503.0288446783 1334244.3395048387,1678494.412491302 1334243.0213754885,1678485.7912367007 1334237.59993482,1678478.14042463 1334232.168988411,1678470.4798101094 1334226.7507163228,1678462.8191955886 1334221.3197699138,1678455.158581068 1334215.2804561125,1678447.4489542984 1334209.2411423111,1678439.7393275287 1334210.2107278428,1678432.3580828274 1334211.189819115,1678424.991541801 1334212.168910387,1678417.6102970997 1334202.9103191344,1678413.8902673996 1334193.639053561,1678410.1702376998 1334184.3804623086,1678406.44040555 1334175.1187024757,1678402.7203758499 1334165.8601112233,1678399.0003461498 1334161.7314512637,1678390.9280287374 1334157.5996227236,1678382.86061255 1334153.470962764,1678374.7882951377 1334149.3391342242,1678366.7208789503 1334145.2104742646,1678358.648561538 1334141.0786457248,1678350.5811453506 1334137.3904184084,1678341.9402858496 1334133.6990225122,1678333.2994263489 1334130.0107951958,1678324.658566848 1334126.3193992996,1678316.0177073472 1334122.6311719832,1678307.3817490712 1334118.939776087,1678298.7408895702 1334114.7287330427,1678291.359644869 1334110.5303643194,1678283.9784001678 1334106.3193212755,1678276.6020566914 1334102.1114468116,1678269.2208119903 1334094.94094989,1678264.2901797395 1334087.7704529685,1678259.3595474889 1334080.599956047,1678254.4387176882 1334073.4294591255,1678249.5080854376 1334069.8489635352,1678241.1907067802 1334066.2716365247,1678232.858624448 1334062.6911409341,1678224.5412457907 1334059.1201510841,1678216.2189659083 1334055.5396554938,1678207.9015872509 1334055.980088137,1678199.4714804208 1334056.4205207806,1678191.0413735907 1334056.8704591645,1678182.6210692106 1334057.310891808,1678174.1909623803 1334057.760830192,1678165.7608555502 1334058.2012628354,1678157.34055117 1334058.0206537656,1678149.5819121513 1334057.8400446961,1678141.8183719078 1334057.6594356266,1678134.059732889 1334057.4788265568,1678126.3010938705 1334057.2792060063,1678117.6602343696 1334057.0795854556,1678109.0193748688 1334056.879964905,1678100.3883178176 1334053.3311551162,1678092.0905440599 1334049.7791767472,1678083.7878690772 1334046.2303669585,1678075.4900953195 1334042.6815571696,1678067.1923215617 1334039.1295788006,1678058.889646579 1334035.580769012,1678050.5820703714 1334032.028790643,1678042.2793953887 1334027.0794684195,1678033.878695908 1334022.1206404557,1678025.4681939776 1334017.1586439118,1678017.0723957217 1334012.2093216884,1678008.6618937913 1334007.2504937246,1678000.2513918607 1334002.3011715012,1677991.85069238 1333995.548927162,1677985.3614706108 1333988.8093571435,1677978.8722488417 1333982.0602813845,1677972.3781258476 1333975.3112056253,1677965.8889040782 1333970.098891248,1677958.5909802003 1333964.8897454508,1677951.2881550975 1333959.6805996536,1677943.9804287697 1333954.4714538567,1677936.6825048919 1333949.2496337388,1677929.379679789 1333944.0404879416,1677922.0817559112 1333938.7014303575,1677923.0178898673 1333933.3496984527,1677923.9589250484 1333926.9491665123,1677930.8500472594 1333920.5486345717,1677937.7411694706 1333914.1385968907,1677944.6420941316 1333907.7412335305,1677951.5283151176 1333907.5986474229,1677961.242542872 1333907.4497241548,1677970.9518694011 1333907.3103066275,1677980.6611959306 1333910.2285689628,1677989.4000799295 1333913.1499998781,1677998.1389639284 1333916.0714307935,1678006.8778479272 1333918.9801873884,1678015.6314356008 1333921.9111240443,1678024.3703195998 1333924.819880639,1678033.1092035987 1333927.7413115543,1678041.8480875974 1333930.6595738898,1678050.5918728213 1333933.5810048052,1678059.34055927 1333938.7616333808,1678067.1090007385 1333943.9390933763,1678074.8823434317 1333949.119721952,1678082.6507849002 1333954.3003505275,1678090.4192263687 1333959.4809791031,1678098.1876678371 1333961.9302915735,1678106.328602398 1333964.3796040437,1678114.469536959 1333966.828916514,1678122.6006690701 1333969.2813975646,1678130.741603631 1333971.7307100347,1678138.8678345173 1333974.180022505,1678147.0087690782 1333976.4392201654,1678155.84077635 1333978.7015864057,1678164.6580799476 1333978.7301036273,1678174.597764047 1333978.7491151083,1678184.5423493718 1333980.2193363064,1678191.2080152375 1333981.6990632452,1678197.8687798781 1333985.0894440257,1678206.9017373712 1333985.8942633884,1678209.038671428 1333988.4798248059,1678215.929793639 1333991.879711327,1678224.9578499072 1333993.650947641,1678233.6918326812 1333995.4285211156,1678242.4111117804 1333997.1997574298,1678251.1303908797 1333998.9804994846,1678259.8496699792 1333998.8093961554,1678262.4914302009 1334004.0914192966,1678270.7794015089 1334009.3702738574,1678279.0820764916 1334014.6586341588,1678287.3700477995 1334017.9191031521,1678290.2078570172 1334023.780976464,1678295.3198345893 1334029.6396811958,1678300.4220097114 1334031.6010323202,1678302.132537202 1334035.5015545078,1678305.5290860585\" opacity=\"0.8\" /><polyline fill=\"none\" stroke=\"#66cc99\" stroke-width=\"35.288784000004334\" points=\"1334035.5015545078,1678305.5290860585 1334042.839986178,1678304.068521038 1334048.4705531376,1678304.9899513193 1334054.1106258377,1678305.9211840506 1334056.3413062764,1678312.1408384503 1334058.568818135,1678318.3506904 1334060.0897366158,1678327.0209572504 1334061.6106550968,1678335.6814216508 1334065.298882413,1678343.3518386213 1334068.9902783094,1678351.0222555916 1334072.6816742057,1678358.7024750118 1334076.4903075683,1678364.7211791906 1334080.3116152517,1678370.7398833693 1334084.129754355,1678376.758587548 1334085.7393930806,1678383.5810926105 1334087.3585375466,1678390.3888939982 1334088.8921303481,1678396.8389059682 1334088.980850593,1678397.211399061 1334088.3914946816,1678405.6611107904 1334087.79897019,1678414.1108225202 1334087.219120019,1678422.56053425 1334086.3604347936,1678432.4119963015 1334085.4985809876,1678442.258557128 1334080.3496382136,1678443.949479719\" opacity=\"0.8\" /><polyline fill=\"none\" stroke=\"#66cc99\" stroke-width=\"35.288784000004334\" points=\"1334179.4913431085,1678608.6110315004 1334187.6314255616,1678608.4002788297 1334195.7588336938,1678608.189526159 1334196.6111817593,1678608.2728469823 1334205.6986696827,1678609.1599686893 1334215.6416742518,1678610.1402136697 1334225.5815102407,1678611.12045865 1334233.6487153498,1678615.4090304384 1334241.7285947797,1678619.7123059018\" opacity=\"0.8\" /><polyline fill=\"none\" stroke=\"#66cc99\" stroke-width=\"35.288784000004334\" points=\"1334141.8486107057,1680822.0385054683 1334132.9195517907,1680822.4208010104 1334123.9904928757,1680822.7981953279 1334115.04875964,1680823.1804908703 1334106.1197007247,1680823.5578851877 1334097.1811360691,1680823.9401807298 1334088.248908574,1680824.3224762722 1334081.4396297918,1680823.6608109106 1334074.63985675,1680823.0089479988 1334067.8400837083,1680822.352183862 1334059.551077987,1680821.5483829782 1334051.258903686,1680820.7494833192\" opacity=\"0.8\" /><polyline fill=\"none\" stroke=\"#66cc99\" stroke-width=\"35.288784000004334\" points=\"1334051.258903686,1680820.7494833192 1334043.2297215387,1680823.8078476577 1334037.6213346405,1680828.3904929403 1334035.789895303,1680833.9680868778 1334033.948950225,1680839.5505820403 1334033.080759259,1680848.4316015614 1334032.218905453,1680857.3224235321 1334032.0002734214,1680866.262257752 1334031.768967069,1680875.2118944216 1334029.1707313308,1680881.9902884602 1334026.5693270124,1680888.7588800488 1334020.808848266,1680895.282410392 1334015.0610438401,1680901.8010395109 1334009.7093119354,1680903.8399490698 1334003.1915425286,1680909.672406702 1333996.6801102823,1680915.4999631098 1333990.1686780357,1680921.3324207421 1333983.650908629,1680927.1599771497 1333975.4316116718,1680930.8407970506 1333967.1996403937,1680934.5314194013 1333962.1901151473,1680934.041296911 1333957.1805899008,1680933.5511744209 1333951.3915939326,1680931.6102893602 1333945.5994293846,1680929.679206749 1333945.7103296905,1680923.729119719 1333945.8307357368,1680917.7888351385 1333946.4010801672,1680911.8877603575 1333946.9714245975,1680906.001389251 1333947.8491213042,1680896.929221959 1333948.729986591,1680887.8619558918 1333942.9885193256,1680885.4799605897 1333937.2407148997,1680883.0979652877 1333929.9814977336,1680877.378235828 1333922.7096062468,1680871.6585063683 1333916.1411395574,1680868.2815624112 1333909.5695042876,1680864.9095196794 1333903.5492019674,1680865.2477041974 1333897.5415739678,1680865.5809874907 1333893.8786952929,1680870.2518548216 1333890.2094794577,1680874.9080184777 1333883.6093269663,1680876.5597312695 1333877.0186802158,1680878.2114440612 1333854.258768865,1680884.9310234007 1333843.979894798,1680891.371232921 1333839.471005218,1680899.8307471005 1333828.7105069656,1680911.4025390923 1333821.2516692488,1680919.5924859024 1333810.8714006166,1680943.0497482796 1333805.1806306338,1680963.9779786076 1333805.2186535958,1680979.5295652193 1333810.880906357,1680998.5610215107 1333818.678782152,1681018.5384142082 1333822.4493925525,1681041.8388373887 1333820.7985622848,1681059.4489384587 1333820.3612982214,1681068.8886976184\" opacity=\"0.8\" /><polyline fill=\"none\" stroke=\"#66cc99\" stroke-width=\"35.288784000004334\" points=\"1333788.3301212972,1681136.1678118375 1333788.4695388246,1681142.152207442 1333788.608956352,1681148.1317018215 1333787.9498916771,1681155.0620338318 1333787.2813212615,1681161.9776621675 1333786.6095822656,1681168.898191728 1333782.6203398334,1681177.4606316304 1333778.6310974013,1681186.0279727578\" opacity=\"0.8\" /><polyline fill=\"none\" stroke=\"#66cc99\" stroke-width=\"35.288784000004334\" points=\"1333988.330901538,1681196.8008650907 1333981.2015961588,1681191.9388499886 1333975.529837657,1681189.748002458 1333969.870753476,1681187.5718586016 1333968.8092791194,1681182.1413014112 1333967.7509733432,1681176.7107442205 1333967.449958227,1681170.2019175517 1333963.1406891977,1681166.5505050004 1333958.840925909,1681162.8892899991 1333958.1216582109,1681155.8805383903 1333957.3992219323,1681148.8717867816 1333961.9493030545,1681140.5200995498 1333966.489878436,1681132.1684123182 1333971.6198097288,1681127.4191253888 1333976.7402352814,1681122.6600360097 1333981.8701665744,1681117.9107490806 1333987.728871306,1681115.2297790595 1333993.5907446179,1681112.5390065887 1334002.9792476573,1681111.8185265283 1334012.3804250176,1681111.0980464679 1334021.7816023778,1681110.3824676322 1334031.1701054173,1681109.652185122 1334038.1916790707,1681108.4317801215 1334045.2100841443,1681107.221177571 1334052.2316577977,1681106.0007725705 1334053.6004844306,1681105.7606125504 1334055.9515709158,1681100.5114006812 1334058.3089945612,1681095.262188812 1334059.1011396032,1681087.121254251 1334053.9300167682,1681082.7199542897 1334050.6093447513,1681079.8919475218 1334044.0091922602,1681078.3284567783 1334037.409039769,1681076.7698672595 1334030.8215615987,1681075.211277741 1334022.1586634177,1681074.3486621585 1334013.498933817,1681073.5007502506 1334006.6611378132,1681072.829282439 1333999.8296789697,1681072.1725183022 1333993.8600739322,1681070.3688675386 1333987.8809631541,1681068.5701179998 1333981.730749047,1681067.369317899 1333975.5805349397,1681066.1685177984 1333967.468969708,1681064.4824964323 1333958.2515699978,1681060.831083881 1333949.031001707,1681057.1796713294 1333950.7990694412,1681050.009179299 1333952.5703057554,1681042.8386872686 1333954.2496532449,1681033.0215337912 1333955.9194949935,1681023.1896766394 1333963.6508306048,1681017.5189594286 1333971.3694918957,1681011.8580446679 1333976.2395996146,1681006.148117658 1333981.1002015932,1681000.4381906479 1333985.9608035719,1680994.738066088 1333992.820779637,1680988.2684492182 1333999.6712499612,1680981.8086347985 1334006.5185517056,1680975.3488203785 1334012.2505132307,1680970.668150598 1334017.969800435,1680966.002184492 1334023.689087639,1680961.3215147112 1334032.1301852083,1680958.3317675216 1334040.5586084567,1680955.3518227816 1334048.9997060257,1680952.362075592 1334057.2094972427,1680952.7982846082 1334065.4287941998,1680953.2393948492 1334073.6512597373,1680953.6707026404 1334081.8705566947,1680954.1118128817 1334090.4003745085,1680954.9401198898 1334098.9396980628,1680955.7586244484 1334108.3503811634,1680956.381080011 1334117.7705700046,1680957.0084367981 1334127.1907588458,1680957.6308923606 1334136.6014419466,1680958.2484466983 1334146.0216307878,1680958.8807047105 1334151.778940954,1680958.7189642887 1334157.548925441,1680958.5719275416 1334163.9304459004,1680952.0385947484 1334172.2416316827,1680947.8480474579 1334180.5496488847,1680943.6476977174 1334181.889958296,1680937.3496237195 1334183.220761967,1680931.0515497213 1334184.050929971,1680922.5577269676 1334184.8906037158,1680914.0688054385 1334185.7999862242,1680904.6290462788 1334186.718874473,1680895.189287119 1334187.640931302,1680885.7495279594 1334184.5515656376,1680880.451303841 1334181.4685371337,1680875.148178498 1334178.730883868,1680866.311270001 1334175.990062022,1680857.4694602792 1334171.931110826,1680849.931376381 1334167.8689910502,1680842.3883912582 1334163.8195455947,1680834.85030736 1334157.0514583546,1680830.6205502704 1334150.2802025343,1680826.3907931806 1334141.8486107057,1680822.0385054683\" opacity=\"0.8\" /><polyline fill=\"none\" stroke=\"#66cc99\" stroke-width=\"35.288784000004334\" points=\"1333329.9601455303,1681688.418228808 1333330.200957623,1681693.8095761994 1333330.4386011357,1681699.191121141 1333334.0000852454,1681707.479092449 1333337.5615693547,1681715.7817674316 1333342.8404239155,1681723.1679133577 1333348.1192784766,1681730.5589605088 1333353.9209487652,1681736.548257338 1333359.7194504736,1681742.5277517177 1333366.699832585,1681746.532052462 1333373.670708956,1681750.5314519813 1333380.9901291453,1681754.2906914805 1333388.3095493347,1681758.0499309797 1333393.6486069188,1681750.3108968607 1333398.990833083,1681742.5718627418 1333404.329890667,1681734.8377298475 1333412.5396818838,1681733.279140329 1333420.7494731008,1681731.7205508105 1333428.9592643175,1681730.1717637416 1333437.1595497937,1681728.6082729981 1333445.7400648904,1681727.721151291 1333454.3110742462,1681726.829128359 1333462.8789150221,1681725.9518091017 1333471.1901008042,1681727.182016552 1333479.5012865865,1681728.422026452 1333487.818809529,1681729.6522339021 1333495.7402599505,1681732.1616610514 1333503.6585417916,1681734.671088201 1333511.579992213,1681737.1805153503 1333519.5014426345,1681739.6801400501 1333527.4292302164,1681742.1895671994 1333536.5293924606,1681743.5619101718 1333545.6295547048,1681744.9195494694 1333554.7392226893,1681746.282089992 1333563.360929328,1681747.6005194904 1333571.9794673866,1681748.909146539 1333580.6011740253,1681750.2324772624 1333589.219712084,1681751.541104311 1333597.8414187226,1681752.8595338094 1333606.4694625216,1681754.1779633078 1333614.7616368227,1681755.859083449 1333623.0506425437,1681757.55000604 1333631.3396482647,1681759.231126181 1333639.628653986,1681760.922048772 1333647.920828287,1681762.608070138 1333656.228845489,1681763.402068572 1333664.5400312713,1681764.191165781 1333671.8214284985,1681764.8822384921\" opacity=\"0.8\" /><polyline fill=\"none\" stroke=\"#66cc99\" stroke-width=\"35.288784000004334\" points=\"1333671.8214284985,1681764.8822384921 1333672.8512170534,1681764.98026299 1333681.1592342553,1681765.7693601993 1333689.4894315186,1681765.1223985122 1333697.8196287819,1681764.4607331506 1333706.149826045,1681763.799067789 1333715.7791411772,1681764.7106956206 1333725.4211306302,1681765.6223234523 1333735.0504457627,1681766.529050059 1333743.1905282156,1681767.7788624088 1333751.3306106688,1681769.0286747585 1333759.4801988623,1681770.2784871084 1333766.7013930664,1681770.9597573697 1333773.928924431,1681771.6508300807 1333781.1501186353,1681772.332100342 1333790.5291159342,1681770.8078193977 1333799.9112818134,1681769.2884396783 1333809.2902791125,1681767.7690599589 1333813.849865975,1681764.8920409419 1333818.399947097,1681762.0101207 1333824.2364717675,1681758.3194983494 1333824.7212645335,1681758.0107211806 1333831.0299076492,1681754.0113216613 1333838.5996456717,1681751.1980185679 1333846.159877954,1681748.3896166994 1333853.7201102362,1681745.5812148312 1333861.2803425186,1681742.7777141875 1333866.3690822693,1681735.4307780606 1333871.4609906,1681728.078940709 1333875.4787502538,1681721.7612618112 1333879.499678488,1681715.4386816886 1333883.5206067218,1681709.1308052407 1333885.218965692,1681701.5388078687 1333886.9299989832,1681693.9517117215 1333888.641032274,1681686.3597143495 1333883.2290973463,1681678.1893724392 1333877.8203309984,1681670.0190305288 1333872.4210703913,1681661.8486886185 1333867.0091354633,1681653.6685442585 1333862.7505637167,1681647.439087409 1333858.4888233899,1681641.2096305594 1333854.2302516433,1681634.98017371 1333850.519844266,1681628.1086563985 1333846.8094368887,1681621.2518427616 1333839.12879856,1681615.179225109 1333831.4513288115,1681609.1115086814 1333823.7801962234,1681603.0388910288 1333823.0609285252,1681595.388078958 1333822.3416608267,1681587.7323656622 1333821.6192245483,1681580.0815535914 1333820.89995685,1681572.4307415206 1333820.0602831054,1681563.8584991684 1333819.2206093608,1681555.3009604907 1333818.380935616,1681546.7385205885 1333817.5412618713,1681538.171179461 1333816.7110938672,1681529.6087395586 1333815.8714201225,1681521.0512008811 1333815.0285777978,1681512.4789585287 1333808.320693581,1681506.3377237276 1333801.6191465242,1681500.2013901512 1333794.920768048,1681494.0503529003 1333788.2097152509,1681487.909118099 1333781.5113367746,1681481.7678832978 1333774.8604870006,1681474.9796868095 1333768.2191429674,1681468.1914903214 1333761.5714617737,1681461.3983926082 1333754.9301177403,1681454.61019612 1333750.8901780252,1681446.0085464183 1333746.8502383104,1681437.4117979417 1333742.819804336,1681428.8199506898 1333735.2310548322,1681424.1196760095 1333727.6486424888,1681419.429203779 1333720.0693987256,1681414.7289290987 1333712.4806492217,1681410.0384568684\" opacity=\"0.8\" /><polyline fill=\"none\" stroke=\"#66cc99\" stroke-width=\"35.288784000004334\" points=\"1333619.200817639,1681388.0025497123 1333612.5594736056,1681382.508276598 1333605.9212981525,1681377.0091022588 1333596.9985763978,1681377.4992247492 1333588.0885289637,1681377.9893472393 1333579.168975789,1681378.4794697294 1333573.4496885848,1681378.798049348 1333567.7304013805,1681379.1117277415 1333559.1213690625,1681383.0278064376 1333550.5091681643,1681386.9487863586 1333541.9001358463,1681390.8599638299 1333533.8297621568,1681394.3398335096 1333526.5515335097,1681397.4766174464 1333525.7593884675,1681397.8197031897 1333517.6795090376,1681401.2995728694 1333511.839815787,1681407.1614378514 1333505.9906167958,1681413.0184016083 1333500.150923545,1681418.88026659 1333494.2985559737,1681424.7519340217 1333488.4493569825,1681430.6088977787 1333480.3694775526,1681433.2702629 1333472.2895981227,1681435.9316280214 1333464.2097186928,1681438.5978943678 1333459.159001904,1681446.0085464183 1333454.1114536957,1681453.419198469 1333449.0702426473,1681460.8396529695 1333444.0195258588,1681468.2503050203 1333442.6095076837,1681475.6707595205 1333441.1994895088,1681483.091214021 1333439.7894713336,1681490.5214709714 1333438.3794531587,1681497.9419254719 1333437.2799558402,1681506.7690315188\" opacity=\"0.8\" /><polyline fill=\"none\" stroke=\"#66cc99\" stroke-width=\"35.288784000004334\" points=\"1333437.2799558402,1681506.7690315188 1333436.189964262,1681515.6108412407 1333435.0999726842,1681524.4477497377 1333434.0004753657,1681533.2895594593 1333432.9104837878,1681542.1215667315 1333431.8109864693,1681550.9584752284 1333431.4402625894,1681560.148271918 1333431.0695387097,1681569.338068608 1333430.69881483,1681578.518062848 1333429.608823252,1681585.811085501 1333428.5093259334,1681593.0894044794 1333427.409828615,1681600.3677234575 1333419.2792519024,1681606.1217614915 1333411.1486751898,1681611.8807007505 1333403.0212670574,1681617.6298375598 1333398.9211243193,1681620.5313627012 1333394.8209815812,1681623.427986618 1333391.3197004949,1681630.4024296524 1333387.8215879889,1681637.371971462 1333384.3203069025,1681644.3317108215 1333380.8190258162,1681651.3012526312 1333376.040806922,1681658.6187814088 1333371.2594194475,1681665.941211411 1333366.4812005535,1681673.2489377388 1333361.699813079,1681680.5713677413 1333354.3201898665,1681682.6102773002 1333346.9405666539,1681684.6589893089 1333339.5514377006,1681686.6978988678 1333332.168645908,1681688.7417096517 1333329.9601455303,1681688.418228808\" opacity=\"0.8\" /><polyline fill=\"none\" stroke=\"#66cc99\" stroke-width=\"35.288784000004334\" points=\"1334043.758874427,1680058.2610242106 1334036.8893926216,1680064.1620989917 1334030.019910816,1680070.0680749977 1334028.9014020164,1680079.728389278 1334027.7797246368,1680089.3887035584 1334026.6707215777,1680099.0490178387 1334025.5490441981,1680108.709332119 1334024.8994852635,1680118.1098814795 1334024.2594320695,1680127.51043084 1334023.6098731349,1680136.901177751 1334023.9710912742,1680146.1988013885 1334024.3196350927,1680155.501326251 1334024.6713474914,1680164.7891474387 1334025.01989131,1680174.0916723013 1334025.3811094493,1680183.389295939 1334025.7296532677,1680192.6918208015 1334026.0813656666,1680201.9796419893\" opacity=\"0.8\" /><polyline fill=\"none\" stroke=\"#66cc99\" stroke-width=\"35.288784000004334\" points=\"1334337.7587539488,1680315.6096400993 1334347.0395252625,1680316.5016630313 1334355.109898952,1680315.3988874287 1334363.1802726414,1680314.3010130506 1334370.879922451,1680312.2424985922 1334375.3412833284,1680305.1700310598 1334383.1391591232,1680302.18028387 1334389.8787291418,1680300.048251038 1334393.170883937,1680295.2401494097 1334396.4503644113,1680290.4320477818 1334399.2197034787,1680286.0307478204 1334401.9890425461,1680281.639250309 1334403.468769485,1680276.179285769 1334404.9516650038,1680270.719321229 1334405.4998293729,1680265.161332191 1334406.0511623223,1680259.608244378 1334400.3192007972,1680251.5506306402 1334404.390826314,1680248.2177977075 1334408.4592832504,1680244.8898659996 1334414.9295239546,1680245.5417289115 1334416.779974773,1680245.718173008 1334420.7502057243,1680252.6681099178 1334426.3015581795,1680253.2317507814 1334431.2001831203,1680250.918372628 1334434.9010847572,1680246.61019594 1334438.598817814,1680242.3118217015 1334444.0487757039,1680243.7919916217 1334449.1406840347,1680248.9676851174 1334458.5608728759,1680248.0609585107 1334462.6293298125,1680244.7281255778 1334468.7795439195,1680243.9390283688 1334474.9297580267,1680243.1499311596 1334478.1585412186,1680238.8025446723 1334477.3188674739,1680233.1220250118 1334476.4696879887,1680227.441505351 1334474.4196166196,1680219.7808908306 1334482.2396724757,1680216.3500333996 1334490.0597283319,1680212.9191759687 1334498.4406228776,1680213.2720641617 1334506.8215174235,1680213.6298535794 1334514.819013769,1680213.0221016917 1334522.8291844353,1680212.4094485792 1334525.9185500995,1680204.7782414078 1334529.0110843442,1680197.1519354617 1334529.270907918,1680189.7216785112 1334529.5402372323,1680182.2816191113 1334527.9591157283,1680174.6504119402 1334526.3906685447,1680167.009402319 1334527.1796450068,1680159.1380351277 1334527.9812957894,1680151.2617667115 1334527.5693803674,1680141.3808973106 1334527.1606335256,1680131.5098303596 1334520.2214429565,1680126.1380878678 1334513.2885895476,1680120.7614441512 1334511.0705834297,1680114.919184069 1334512.5503103684,1680109.4592195288 1334514.0300373072,1680103.989452539 1334514.3912554462,1680100.2890277386 1334510.5794535035,1680091.5109339405 1334510.1992238832,1680085.8696240792 1334509.818994263,1680080.2283142179 1334508.1396467737,1680073.528339778 1334506.4602992844,1680066.8185628883 1334507.5186050606,1680060.8586734084 1334508.5705736766,1680054.8889814785 1334509.0015005795,1680054.3498467396 1334512.7594366595,1680047.1695522591 1334516.5205413196,1680039.989257779 1334521.5205608257,1680035.8918337615 1334521.1086454038,1680027.8195163491 1334520.7094043025,1680019.7619026115 1334520.3101632013,1680011.6895851993 1334520.5414695535,1680009.361503371 1334525.7601210913,1680003.7986131082 1334530.9914469495,1679998.2406240702 1334536.3907075569,1679994.1088914785 1334541.789968164,1679989.9722576619 1334547.1892287713,1679985.8307226205 1334555.9408471968,1679982.4880872378 1334564.6892970423,1679979.15035308 1334571.9992114913,1679976.1311985408 1334579.3186316807,1679973.1218464514 1334583.8116783598,1679970.2889384585 1334588.3015564587,1679967.4707341404 1334590.1393329564,1679958.3005423502 1334591.9802780342,1679949.1401530097 1334587.4713884543,1679942.621523891 1334582.9688360349,1679936.0979935476 1334575.6906073876,1679933.9708619404 1334568.4092101601,1679931.8486315582 1334560.1994189434,1679932.912197362 1334551.9801219862,1679933.9708619404 1334543.7703307695,1679935.0197240694 1334535.9597806537,1679933.3386039282 1334528.1587362788,1679931.662385012 1334527.0497332197,1679924.0507827403 1334521.618786811,1679917.4292278988 1334516.191008982,1679910.8076730573 1334513.7290221911,1679902.6079237976 1334511.2606982398,1679894.4081745378 1334506.9197434087,1679887.752311122 1334502.5787885778,1679881.0915464812 1334498.2505080677,1679874.4209793906 1334499.0711703312,1679866.0888970585 1334499.8886640146,1679857.7519135016 1334505.4907137528,1679853.159465769 1334511.0895949106,1679848.5719192615 1334518.4692181232,1679846.4987011284 1334525.8488413359,1679844.4205817701 1334533.2411388692,1679842.3522648618 1334540.7094823264,1679847.302502012 1334548.180994364,1679852.2478379374 1334550.040950923,1679857.1098530395 1334551.900907482,1679861.9718681416 1334554.6892580304,1679868.4806948104 1334557.4807771589,1679874.9895214792 1334560.2786334476,1679881.498348148 1334562.6994286964,1679890.1490100985 1334565.1202239452,1679898.8094744992 1334572.2210121031,1679902.779466669 1334579.30912594,1679906.759261289 1334586.4194198383,1679907.4601364497 1334593.5202079962,1679908.1610116106 1334600.6305018945,1679908.8716892214 1334609.1191281662,1679908.151209161 1334617.6204287584,1679907.4307291002 1334626.1090550302,1679906.7102490398 1334634.299834766,1679904.2498341394 1334642.5001202421,1679901.7894192392 1334647.458948206,1679897.77041482 1334652.4304504904,1679893.751410401\" opacity=\"0.8\" /><polyline fill=\"none\" stroke=\"#66cc99\" stroke-width=\"35.288784000004334\" points=\"1334652.4304504904,1679893.751410401 1334653.7802656423,1679892.658437248 1334647.5698485118,1679888.149310339 1334641.349925641,1679883.6499858797 1334635.1395085105,1679879.1408589706 1334629.9303627133,1679873.259389089 1334624.7307226567,1679867.3779192076 1334619.5215768595,1679861.501350551 1334614.550074575,1679855.0807459303 1334609.5785722907,1679848.6699437597 1334604.6102385863,1679842.2591415888 1334598.5012160211,1679836.098301888 1334592.389024876,1679829.9521658618 1334586.280002311,1679823.791326161 1334578.9510763811,1679818.63033634 1334571.618981871,1679813.4693465189 1334566.5904451434,1679807.7006048101 1334561.5587398359,1679801.9318631014 1334556.4985173065,1679793.6487930184 1334551.4287890368,1679785.3706241602 1334549.6005182795,1679778.2393419289 1334547.7785846826,1679771.1080596978 1334544.3216637187,1679763.5503709 1334540.8615741746,1679755.9779784277 1334536.4794278014,1679747.4008348505 1334532.090944268,1679738.8187900484 1334527.708797895,1679730.2318440215 1334523.7987699667,1679721.5076636972 1334519.9014163595,1679712.788384598 1334517.639050119,1679705.338522748 1334515.3798524588,1679697.8886608982 1334513.1206547988,1679690.4387990483 1334511.130786453,1679682.0920130417 1334509.1504238474,1679673.74032581 1334507.1605555017,1679665.3886385781 1334504.7714460546,1679657.3702346398 1334502.3791680273,1679649.3518307013 1334499.9900585802,1679641.3383279878 1334497.1605164895,1679634.0207992103 1334494.330974399,1679626.698369208 1334491.5014323085,1679619.3808404305 1334488.5388098508,1679611.4898683394 1334485.5793559733,1679603.5988962485 1334482.619902096,1679595.7079241576 1334480.7092482543,1679589.4098501594 1334478.8112687333,1679583.1117761615 1334477.1287526637,1679577.382244252 1334475.4494051745,1679571.662514792 1334473.5704371345,1679565.8202547098 1334471.700974835,1679559.9681921778 1334471.5393772465,1679555.0081525778 1334473.088812949,1679549.2786206682 1334474.0013640374,1679543.578496108 1334474.9107465458,1679537.878371548 1334475.5507997398,1679528.2082548179 1334476.1908529338,1679518.5283356379 1334477.8797061637,1679510.7206843703 1334479.5685593935,1679502.9179343276 1334481.2605812037,1679495.1102830598 1334482.5406875918,1679485.768548398 1334483.8207939798,1679476.441517411 1334485.1009003678,1679467.1095851993 1334485.8803710893,1679459.032366562 1334486.6693475514,1679450.9502466999 1334487.448818273,1679442.8681268378 1334488.4595953466,1679436.2906830201 1334489.4703724205,1679429.7181404277 1334490.4906552348,1679423.1406966103 1334492.7308414138,1679414.4606273102 1334494.9710275931,1679405.7707555604 1334497.1003134663,1679398.188560638 1334499.2295993397,1679390.6112669408 1334500.7093262784,1679384.0779341476 1334502.1795474766,1679377.549502579 1334503.3107305968,1679370.0702333797 1334504.4292393962,1679362.5811617307 1334505.5604225164,1679355.1018925314\" opacity=\"0.8\" /><polyline fill=\"none\" stroke=\"#66cc99\" stroke-width=\"35.288784000004334\" points=\"1334505.5604225164,1679355.1018925314 1334504.1313928603,1679354.8078190375 1334496.339854226,1679350.6417778714 1334488.5514841715,1679346.4610330306 1334480.7694512776,1679342.2900906396 1334476.4506765078,1679333.3992686688 1334472.1414074784,1679324.4986442481 1334467.828969869,1679315.6078222774 1334467.0304876666,1679306.6287782583 1334466.2193311434,1679297.6497342393 1334464.6413782195,1679288.0482346579 1334463.0507509748,1679278.4418338514 1334461.0006796056,1679270.82042913 1334458.941102496,1679263.2088268583 1334456.8815253866,1679255.592323362 1334452.958823138,1679247.9807210902 1334449.0392894694,1679240.3691188185 1334445.1197558008,1679232.7624177719 1334441.1115018874,1679225.1410130505 1334437.1000793942,1679217.519608329 1334434.8187016728,1679208.638588808 1334432.549998272,1679199.7477668372 1334430.2686205506,1679190.8716485412 1334429.0613915063,1679183.24044137 1334427.8414881416,1679175.6190366487 1334427.0715231607,1679169.149419779 1334426.3015581795,1679162.6798029093 1334423.849077129,1679154.7888308184 1334421.3997646589,1679146.9076611772 1334418.9504521885,1679139.021590311 1334416.501139718,1679131.14042067 1334407.2013569234,1679129.4200907296 1334397.9015741285,1679127.6997607893 1334388.5986227538,1679125.979430849 1334382.7494237626,1679121.6810566105 1334376.9002247714,1679117.3777811474 1334370.6391103582,1679110.0798572693 1334364.3716587848,1679102.7721309417 1334358.1105443717,1679095.469305839 1334353.8804898465,1679088.2301966597 1334349.659941062,1679080.9910874807 1334345.429886537,1679073.7617807514 1334341.199832012,1679066.5177703472 1334333.6807912719,1679060.1510792007 1334326.1585819516,1679053.779486829 1334318.6395412115,1679047.4078944575 1334311.130006212,1679041.0412033107 1334303.119835546,1679038.639603109 1334295.1191706203,1679036.2282004578 1334287.1216742748,1679033.8315014811 1334279.1115036085,1679031.4299012795 1334271.1108386829,1679029.018498628 1334263.1101737572,1679026.6217996513\" opacity=\"0.8\" /><polyline fill=\"none\" stroke=\"#66cc99\" stroke-width=\"35.288784000004334\" points=\"1334263.1101737572,1679026.6217996513 1334258.0816370298,1679033.581539011 1334253.049931722,1679040.531475921 1334252.6823764225,1679040.6393028689 1334245.080952598,1679042.8791626487 1334237.1214792146,1679045.2317506012 1334229.1493315103,1679047.579437329 1334221.1803523863,1679049.9320252815 1334215.308973334,1679056.4408519503 1334209.4502686025,1679062.9496786192 1334204.3203373095,1679070.5710833406 1334199.180900276,1679078.192488062 1334191.9913918735,1679080.4078417174 1334184.7987148908,1679082.6182941478 1334177.6187122287,1679084.8385490282 1334168.638956031,1679088.96047917 1334159.6591998334,1679093.0922117617 1334154.919003901,1679100.9488752785 1334150.178807969,1679108.8202424697 1334153.169947648,1679118.2698040793 1334156.1610873272,1679127.719365689 1334159.1395526857,1679137.1689272984 1334163.1097836369,1679144.628591598 1334167.0705088477,1679152.0882558979 1334171.0312340583,1679159.5479201975 1334174.9887906888,1679167.012485722 1334178.95902164,1679174.4721500217 1334180.1915993257,1679183.3286634183 1334181.4210084311,1679192.1900780397 1334182.8690495682,1679199.8310876605 1334184.3297650258,1679207.4622948319 1334185.7904804836,1679215.098403228 1334187.2385216206,1679222.729610399 1334196.5002814534,1679226.5378621474 1334205.7493669654,1679230.3510151205 1334214.9097322328,1679230.8215327112 1334224.0700975002,1679231.3018527513 1334233.2304627676,1679231.772370342 1334241.0188328219,1679231.8998021893 1334248.819877197,1679232.0321352617 1334256.6114158316,1679232.159567109 1334264.3997858858,1679232.2919001814 1334272.238853223,1679233.752465202 1334280.0715833995,1679235.1983265479 1334287.9106507367,1679236.6490891187 1334297.4512456243,1679239.658441208 1334307.0013462524,1679242.6677932974 1334314.038762807,1679246.26039115 1334321.0793479413,1679249.8578902273 1334328.1294388166,1679253.4602905298 1334330.7181688142,1679253.2936488832 1334335.9209774511,1679252.96036559 1334343.7093475054,1679252.4702430998 1334351.2093767645,1679246.3290082985 1334358.7094060234,1679240.1877734973 1334364.8913059323,1679236.83043444 1334371.0700372611,1679233.4779966075 1334377.1695540857,1679235.3208571705 1334383.26907091,1679237.1588165083 1334388.2405731946,1679242.0110291606 1334393.208906899,1679246.858340588 1334399.7615306876,1679252.411428401 1334406.3014801554,1679257.959614989 1334412.850935364,1679263.4979991275 1334416.821166315,1679271.5016993913 1334420.800903007,1679279.50049843 1334424.520816125,1679284.308600058 1334428.2502349834,1679289.121602911 1334430.4809154219,1679294.9001470697 1334432.7211016011,1679300.6786912282 1334433.8491161412,1679306.349408439 1334434.9707935208,1679312.0201256496 1334434.1311197763,1679317.7790649086 1334433.2914460315,1679323.5380041676 1334429.939088213,1679329.3312520008 1334422.2996414267,1679330.262484732 1334414.6601946403,1679331.1888162384 1334408.620880839,1679330.0419296115 1334402.5815670376,1679328.8999442095 1334398.040991656,1679323.121400051 1334393.5004162744,1679317.3379546674 1334388.9598408928,1679311.559410509 1334386.501022682,1679304.0801413096 1334384.0295301506,1679296.6106745603 1334376.7798187248,1679294.3120000816 1334369.530107299,1679292.008424378 1334362.2803958734,1679289.7097498993 1334355.5313201144,1679293.1210024306 1334348.779075775,1679296.5322549618 1334348.0344594356,1679297.0811921507 1334340.9907057208,1679302.2911942208 1334333.1991670863,1679308.0501334798 1334327.8506037616,1679302.7421069117 1334322.4893661165,1679297.4389815684 1334317.1312970514,1679292.1407574504 1334313.4715869566,1679288.6020730715 1334309.8213826024,1679285.058487468 1334306.4690247842,1679278.3193032288 1334303.1293412864,1679271.5899214395 1334295.1793736434,1679270.8792438288 1334287.238911741,1679270.1783686678 1334279.288944098,1679269.4676910571 1334272.7204774085,1679271.212527122 1334266.1393363983,1679272.9622644118 1334257.8693421583,1679275.731456481 1334249.5993479185,1679278.5006485502 1334241.319847938,1679281.2698406193 1334233.049853698,1679284.0390326886 1334225.118897536,1679283.2793428288 1334217.1816042138,1679282.5196529692 1334209.2506480517,1679281.7599631096 1334201.3196918897,1679281.0002732498 1334192.3114184705,1679278.9417587912 1334183.299976471,1679276.8881455576 1334174.2885344715,1679274.8296310992 1334165.289766793,1679272.7711166407 1334158.879729112,1679267.3405594502 1334152.4696914307,1679261.9100022595 1334146.0501480093,1679256.479445069 1334140.9202167164,1679251.96051571 1334135.7807796828,1679247.4317839013 1334131.2592157824,1679243.8980007474 1334127.3111648923,1679235.1689191984 1334123.3504396814,1679226.4496400992 1334119.3897144708,1679217.7205585502 1334115.42898926,1679209.0012794507 1334111.48093837,1679200.2721979017 1334111.3795438046,1679198.4881520376\" opacity=\"0.8\" /><polyline fill=\"none\" stroke=\"#66cc99\" stroke-width=\"35.288784000004334\" points=\"1334111.3795438046,1679198.4881520376 1334106.8801599653,1679204.5509672405 1334102.380776126,1679210.5990787686 1334097.890898027,1679216.6618939715 1334092.830675498,1679222.141463411 1334087.7799587091,1679227.6210328506 1334082.7197361798,1679233.1104047399 1334077.4598931,1679237.5411120506 1334072.1905442798,1679241.9718193614 1334065.0390588392,1679247.7405610702 1334057.8907419788,1679253.4995003291 1334050.7392565385,1679259.2682420379 1334045.7392370324,1679266.002525052 1334040.7487232669,1679272.7221043915 1334035.7613780815,1679279.451486181 1334030.9387990648,1679286.8082247577 1334026.109882888,1679294.1698645593 1334021.3189896732,1679301.1198014694 1334016.5185907178,1679308.0599359295 1334011.7213603426,1679315.0098728393 1334006.920961387,1679321.9598097494 1334004.699786689,1679328.8509319604 1334002.4691062502,1679335.7518566214 1334000.2415943916,1679342.6478800573 1333999.7694759467,1679350.21047008 1333999.3100318222,1679357.7681588777 1333998.841081957,1679365.3307489003\" opacity=\"0.8\" /><polyline fill=\"none\" stroke=\"#66cc99\" stroke-width=\"35.288784000004334\" points=\"1333995.5901187041,1679663.1879885977 1333988.6794453566,1679657.6790118087 1333981.7592662685,1679652.1798374695 1333974.83908718,1679646.6708606805 1333970.4410979063,1679643.818347788 1333966.039940052,1679640.98053857 1333957.449919215,1679641.9411786508 1333948.8503926375,1679642.9018187313 1333940.25086606,1679643.862458812 1333938.428932463,1679650.4595075292 1333936.6006617057,1679657.0516550213 1333934.7787281089,1679663.6487037383 1333933.7172537523,1679665.006343036 1333930.2191412463,1679669.4615564712 1333925.669060124,1679675.279310429 1333917.978916055,1679675.7498280194 1333910.3014463065,1679676.2301480598 1333902.6113022375,1679676.7104681002 1333895.32990501,1679674.7401756898 1333888.039002042,1679672.7796857292 1333879.1796518909,1679672.4120938617 1333870.310795999,1679672.0297983193 1333862.5794603876,1679674.6078426174 1333854.8512933564,1679677.1809856906 1333848.5996846838,1679683.812342982 1333842.3512445914,1679690.4486014983 1333836.0996359189,1679697.0799587895 1333834.4012769484,1679705.0199431295 1333832.6997493978,1679712.9599274695 1333831.0013904276,1679720.8999118095 1333829.8195100247,1679729.1780806677 1333828.6312924614,1679737.4709532005 1333832.9595729718,1679740.181330571 1333837.291022062,1679742.9015103912 1333845.1807866818,1679743.6415953513 1333853.0610455612,1679744.3914827611 1333860.7606953708,1679745.4011350907 1333868.4603451805,1679746.4009849706 1333876.15999499,1679747.4106373002 1333883.6885414706,1679751.8609495105 1333891.2202565314,1679756.301459271 1333891.438888563,1679763.80033337 1333891.6511834343,1679771.2992074687 1333887.1803168165,1679778.8176864672 1333882.7094501986,1679786.3410666906 1333876.5085388087,1679792.2715488211 1333870.3203017395,1679798.2118334014 1333864.4996199696,1679805.0980543876 1333858.6789382,1679811.9989790486 1333852.059774228,1679817.4295362392 1333845.4501159962,1679822.8600934297 1333843.4792591315,1679828.7317608614 1333841.498896526,1679834.608329518 1333842.5603708825,1679843.1217571713 1333849.4900557112,1679848.9297086794 1333856.41974054,1679854.7278577376 1333863.7613407904,1679856.379570529 1333871.0902667204,1679858.0214808711 1333878.4191926504,1679859.668292438 1333884.6803070635,1679857.9185551482 1333890.928747156,1679856.1688178584 1333897.1296585458,1679851.728308098 1333903.3305699357,1679847.302502012 1333909.518807005,1679842.8619922516 1333910.5802813615,1679839.8820475116 1333917.1392423103,1679835.8777467674 1333922.7698092698,1679837.5686693583 1333928.4003762295,1679839.2595919492 1333929.480862067,1679843.9794715291 1333933.6792307904,1679849.5178556675 1333937.8712623534,1679855.0709434806 1333942.940990623,1679860.712253342 1333948.0202246334,1679866.358464428 1333954.8992121792,1679869.5393593889 1333961.7686939847,1679872.72025435 1333968.650850111,1679875.9109517606\" opacity=\"0.8\" /><polyline fill=\"none\" stroke=\"#66cc99\" stroke-width=\"35.288784000004334\" points=\"1333968.650850111,1679875.9109517606 1333975.891055796,1679878.469391159 1333982.9601581523,1679882.9000984698 1333989.4494103375,1679883.5078503576 1333997.7986190817,1679884.3116512413 1334005.919690054,1679882.738358048 1334014.0312552853,1679881.1699660795 1334022.3804640295,1679881.9590632888 1334031.1003966534,1679879.0281307977 1334032.9286674107,1679869.8187292083 1334025.5902357404,1679868.1915225412 1334018.2486354897,1679866.5594146491 1334011.3696479436,1679860.2711431007 1334006.2492223913,1679855.10035083 1334001.128796839,1679849.9197561094 1333992.7415651327,1679847.361316711 1333984.3606705868,1679844.7979760875 1333975.979776041,1679842.2297342394 1333969.7313359485,1679838.9410123306 1333963.4892330163,1679835.652290422 1333959.179963987,1679828.3102555198 1333954.870694958,1679820.9682206179 1333960.960706042,1679813.8418396115 1333964.1704777526,1679812.6018297113 1333970.3713891425,1679812.42048439 1333976.5596262116,1679812.2391390689 1333981.7687720088,1679814.2682461778 1333989.908854462,1679817.929461179 1333998.0489369151,1679821.60047863 1334006.189019368,1679825.2616936313 1334014.3291018212,1679828.9180074076 1334020.4096071648,1679829.4081298977 1334026.4901125082,1679829.8982523878 1334032.5104148285,1679825.8008283705 1334038.530717149,1679821.6887006783 1334042.7005686506,1679816.8315868012 1334046.8704201526,1679811.9695716992 1334052.7608106858,1679810.989326719 1334058.6512012193,1679809.9992792888 1334063.1695965398,1679811.2000793896 1334069.2215846616,1679812.572422362 1334071.9212149654,1679820.8701961199 1334066.55997732,1679822.4777978875 1334063.1505850586,1679828.702353512 1334059.7285184767,1679834.9220079116 1334056.3191262153,1679841.1416623113 1334055.4192494473,1679850.4098785995 1334054.5193726795,1679859.668292438 1334053.6701931942,1679868.4708923604 1334052.8115079687,1679877.2685910582 1334053.7715877597,1679886.7279551176 1334060.6093837635,1679893.4622381318 1334067.4503483474,1679900.1818174715 1334068.8096692397,1679905.4604366901 1334070.1689901322,1679910.7390559088 1334065.5396945057,1679915.0080227978 1334060.9103988796,1679919.2720884618 1334060.3210429682,1679925.31039754 1334059.7411927972,1679931.3487066184 1334067.630957417,1679932.0691866789 1334075.5207220367,1679932.799469189 1334083.6893217114,1679930.7311522807 1334091.8610899663,1679928.6579341476 1334099.0094068265,1679932.1378038274 1334106.1703980074,1679935.6176735074 1334110.8187051148,1679940.749255979 1334115.4796865429,1679945.8906409002 1334121.7408009558,1679952.1102953 1334127.9987467888,1679958.3299496996 1334134.2693669423,1679964.5496040992 1334140.4005695686,1679968.9018918115 1334146.5286036148,1679973.239475849 1334144.880941927,1679980.5717083013 1334143.2206059187,1679987.8990395288 1334137.529835936,1679993.4521273419 1334131.8390659532,1679999.00031393 1334123.6387804768,1680003.4212187908 1334115.4511693213,1680007.832321202 1334107.2603895855,1680012.248324838 1334102.1589755141,1680014.9979120076 1334099.060104109,1680016.6692296988 1334090.8693243733,1680021.08033211 1334084.2406546609,1680025.9521496617 1334077.6214906885,1680030.8092635388 1334070.9896523957,1680035.6712786409 1334064.3704884236,1680040.538194968 1334057.5010066181,1680046.439269749 1334050.6315248127,1680052.3501469798 1334043.758874427,1680058.2610242106\" opacity=\"0.8\" /><polyline fill=\"none\" stroke=\"#66cc99\" stroke-width=\"35.288784000004334\" points=\"1333180.1401694193,1679790.7276629773 1333179.9690660902,1679781.0477437973 1333179.8011313414,1679771.3678246175 1333187.0603485075,1679771.4511454408 1333194.3100599332,1679771.5197625894 1333203.0490040383,1679771.7011079108 1333211.7816109827,1679771.8677495574 1333220.5110493472,1679772.0392924289 1333229.2404877117,1679772.2108353004 1333237.5389991733,1679772.7695749393 1333245.8406792148,1679773.3185121282 1333254.1296849358,1679773.8723505419 1333262.4313649775,1679774.4310901808 1333272.2191091182,1679775.6907049804 1333282.0195275797,1679776.95031978 1333291.8104403007,1679778.2099345794 1333300.6792961925,1679775.1417677915 1333309.5386463439,1679772.0686997783 1333318.4011650754,1679768.9907305404 1333326.00892606,1679766.2901556198 1333333.6103498845,1679763.589580699 1333341.2086051288,1679760.8890057786 1333348.8100289532,1679758.188430858 1333356.9406056658,1679754.1792288888 1333365.0711823783,1679750.1602244698 1333373.1985905108,1679746.1510225006 1333381.3291672233,1679742.1320180816 1333388.2810321131,1679737.5101629999 1333395.2202226825,1679732.8785054681 1333402.1594132516,1679728.2615516111 1333409.1112781414,1679723.6298940794 1333416.0504687107,1679719.0080389977 1333421.880656221,1679713.969579799 1333427.710843731,1679708.9311206008 1333433.5410312412,1679703.8877601773 1333439.380724492,1679698.8394985292 1333444.6310618313,1679694.3107667204 1333449.890904911,1679689.7820349117 1333455.150747991,1679685.2385994282 1333462.0614213387,1679680.1511279808 1333468.9594203655,1679675.0587553084 1333470.3314155785,1679665.3200214296 1333471.690736471,1679655.581287551 1333473.0500573632,1679645.8523561219 1333471.8491654794,1679636.5988435084 1333474.3301637513,1679627.6001945897 1333476.8016562827,1679618.611348121 1333479.2794859747,1679609.622501652\" opacity=\"0.8\" /><polyline fill=\"none\" stroke=\"#66cc99\" stroke-width=\"35.288784000004334\" points=\"1333400.9014869246,1679483.7296388391 1333394.8209815812,1679490.9981553678 1333388.7499819782,1679498.2617706712 1333383.6390621662,1679499.1684972781 1333378.5313109346,1679500.0801251098 1333369.9888188,1679504.3686968982 1333361.4494952457,1679508.652367462 1333358.239723535,1679516.7295860993 1333356.3385754337,1679525.8115558412 1333354.4310901724,1679534.8886243582 1333354.0413548115,1679541.108278758 1333353.651619451,1679547.3377356073 1333347.5299225652,1679550.6215562911 1333341.4113942597,1679553.90047575 1333335.289697374,1679557.179395209 1333327.5900475644,1679559.1594900691 1333319.899903495,1679561.149387379 1333311.1514536496,1679559.9583897279 1333302.399835224,1679558.7722933018 1333293.6513853786,1679557.5714932012 1333284.899766953,1679556.38049555 1333276.2590488333,1679553.3221312116 1333267.6310050343,1679550.2490631987 1333258.999792655,1679547.1808964105 1333250.3590745353,1679544.122532072\" opacity=\"0.8\" /><polyline fill=\"none\" stroke=\"#66cc99\" stroke-width=\"35.288784000004334\" points=\"1333250.3590745353,1679544.122532072 1333242.8495395358,1679540.9710444605 1333235.3400045363,1679537.819556849 1333227.8304695366,1679534.6680692376 1333230.0104526926,1679526.5516408011 1333232.1904358487,1679518.4205086902 1333234.3704190047,1679510.289376579 1333236.5504021605,1679502.1680469175 1333238.7303853165,1679494.0418160313 1333232.8304890427,1679487.3320391416 1333226.9305927688,1679480.612459802 1333221.030696495,1679473.8879792376 1333215.130800221,1679467.1782023478 1333209.230903947,1679460.458623008 1333209.7790683163,1679452.1118370015 1333210.3399070061,1679443.7601497697 1333210.900745696,1679435.4182649879 1333211.4615843857,1679427.071478981 1333212.0192544954,1679418.7197917493 1333213.4102611896,1679410.9709551805 1333214.8107736239,1679403.2221186117 1333216.198611738,1679395.468380818 1333217.5896184319,1679387.7195442491 1333226.8703897456,1679389.562404812 1333236.1511610593,1679391.3905617 1333245.428763793,1679393.2187185884 1333254.7095351068,1679395.061579151 1333263.9808006801,1679396.8897360393 1333273.2615719938,1679398.7276953773 1333278.8604531516,1679394.4489260386 1333284.449828569,1679390.1701566996 1333290.0392039863,1679385.8913873609 1333290.048709727,1679377.0103678398 1333290.048709727,1679368.1293483188 1333290.0613840476,1679359.238526348 1333290.070889788,1679350.362408052 1333290.0803955286,1679341.4715860812 1333282.9986188519,1679334.879438589 1333275.9200107553,1679328.282389872 1333268.850908399,1679321.69024238 1333261.7691317224,1679315.0882924378 1333252.5105404698,1679313.6816408911 1333243.2614549578,1679312.2798905694 1333233.9996951248,1679310.868337798 1333224.7411038724,1679309.4616862512\" opacity=\"0.8\" /><polyline fill=\"none\" stroke=\"#66cc99\" stroke-width=\"35.288784000004334\" points=\"1333224.7411038724,1679309.4616862512 1333215.3811180543,1679310.2899932596 1333206.0211322363,1679311.118300268 1333200.1212359625,1679312.6180750877 1333194.208665368,1679314.127652357 1333191.299908773,1679315.4215757311 1333189.2308259232,1679316.3381047877 1333184.2593236386,1679318.558359668 1333178.7491627254,1679318.808322138 1333173.251676133,1679319.058284608 1333167.4214886227,1679319.2788397283 1333159.588758446,1679320.6511827006 1333154.5190301763,1679324.4692368987 1333149.439796166,1679328.282389872 1333147.839663181,1679333.3110466206 1333146.2395301957,1679338.3397033692 1333143.7014974807,1679342.9811633506 1333141.1602961854,1679347.6177221073 1333140.1114961498,1679354.2980916477 1333139.0500217932,1679360.9686587383 1333137.3389885023,1679367.9382005478 1333135.6311237914,1679374.922446032 1333133.7806729728,1679384.5288468385 1333133.3212288485,1679392.2580785076 1333132.858616144,1679400.0020138517 1333131.4010692663,1679408.319392509 1333129.9403538087,1679416.6416723912 1333129.4809096842,1679424.3807065103 1333128.3085350217,1679433.379355429 1333128.1215887917,1679436.599460189 1333125.6912878025,1679444.8482216978 1333117.7001286175,1679448.7692016189 1333112.6906033708,1679456.7778031074 1333111.9396498709,1679463.8012583908 1333111.188696371,1679470.8198124494 1333110.830646812,1679476.5787517084 1333110.478934413,1679482.3376909674 1333110.0511760905,1679489.3905536002 1333110.139896335,1679498.3990049686 1333109.5505404237,1679508.0103069998 1333106.5910865464,1679514.2201589497 1333103.6189583482,1679520.4300108997 1333097.018805857,1679522.841413551 1333090.418653366,1679525.2577174273 1333083.6410603854,1679530.57064522 1333080.5802119425,1679538.3880989377 1333077.509857759,1679546.21045388 1333081.09985909,1679550.9695432591 1333084.6803546806,1679555.7286326382 1333090.139818311,1679563.9087769983 1333095.608787682,1679572.0889213586 1333095.0194317705,1679580.3719914416 1333094.4300758594,1679588.6501602998 1333093.8502256884,1679596.9381316078 1333093.260869777,1679605.2212016908 1333091.6100395094,1679612.6808659905 1333089.968714982,1679620.15033274 1333088.3210532942,1679627.6197994894 1333087.8394291087,1679634.4177984274 1333087.3609735032,1679641.2305010401 1333086.869843577,1679648.0383024279 1333084.48073413,1679655.6401022498 1333082.0789503623,1679663.2419020715 1333079.6803351745,1679670.8388006685 1333075.760801506,1679676.2889627586 1333071.8412678374,1679681.7489272985 1333067.9185655888,1679687.1990893886 1333063.298775703,1679692.051302041 1333058.6789858171,1679696.8986134683 1333054.0591959315,1679701.7508261204 1333049.1510652504,1679708.0587025683 1333044.239765989,1679714.3714802412 1333041.0014770566,1679720.8018873115 1333037.7505138037,1679727.2322943818 1333032.2910501733,1679733.5009610306 1333023.3810027393,1679737.8189401685\" opacity=\"0.8\" /><polyline fill=\"none\" stroke=\"#66cc99\" stroke-width=\"35.288784000004334\" points=\"1333023.3810027393,1679737.8189401685 1333027.0312070935,1679745.4207399904 1333030.690917188,1679753.0323422619 1333034.3506272829,1679760.6390433086 1333037.9311228734,1679768.4810031506 1333041.5211242044,1679776.3180617676 1333045.101619795,1679784.1698240594 1333046.5496609318,1679793.031238681 1333048.000870649,1679801.902455752 1333049.448911786,1679810.7589691486 1333050.9001215033,1679819.6301862197 1333052.3513312205,1679828.4916008413 1333053.2702194694,1679834.1280094776 1333053.7993723575,1679837.3579166876 1333057.9692238595,1679841.151464761 1333062.1390753612,1679844.9401116096 1333069.4299783292,1679841.9307595203 1333070.7924678016,1679841.3671186566 1333076.7113755567,1679838.9214074311 1333083.9991099443,1679835.9218577915 1333085.909763786,1679827.3006031902 1333087.810911887,1679818.679348589 1333089.7215657288,1679810.0580939876 1333091.6195452497,1679801.4417406113 1333098.4985327958,1679796.0601956698 1333105.3711831814,1679790.6786507282 1333112.240664987,1679785.2922045619 1333120.2191498515,1679789.35041878 1333128.1912975556,1679793.4086329984 1333136.16978242,1679797.4717484415 1333145.0006153497,1679798.0500929798 1333153.8314482796,1679798.6480424176 1333162.6591126292,1679799.231288181 1333171.4804398187,1679799.819435169 1333180.3112727485,1679800.412483382 1333180.1401694193,1679790.7276629773\" opacity=\"0.8\" /><polyline fill=\"none\" stroke=\"#66cc99\" stroke-width=\"35.288784000004334\" points=\"1332999.410693764,1682109.0217449316 1332999.8004291246,1682116.750976601 1333003.9702806266,1682121.9805835704 1333008.130626388,1682127.2101905402 1333013.358783666,1682134.9786320087 1333018.4316805159,1682140.2082389782 1333023.5014087856,1682145.428043498 1333028.580642796,1682150.6576504675 1333031.9203262937,1682155.3677275977 1333035.2600097912,1682160.068002278 1333034.9811747365,1682164.131117721 1333034.3886502448,1682172.6592490491 1333033.7992943334,1682181.1922816022 1333034.0401064265,1682189.3577222878 1333034.2904242596,1682197.5378666478 1333040.50084139,1682202.4684988984 1333046.6985841999,1682207.3893286993 1333052.4115342437,1682207.801031591 1333058.108641387,1682208.2078332577 1333060.139701275,1682202.6498442197 1333066.0110803272,1682200.6207371107 1333071.8792907996,1682198.5916300016 1333079.9211472673,1682200.802082432\" opacity=\"0.8\" /><polyline fill=\"none\" stroke=\"#66cc99\" stroke-width=\"35.288784000004334\" points=\"1332979.809856841,1682496.6204125704 1332979.619742031,1682523.091928262 1332970.690683116,1682541.7901012602 1332957.629795661,1682547.1716462018 1332936.1214734768,1682534.7078312777 1332918.310884349,1682523.778099748 1332897.1606117238,1682518.0681727382 1332878.3899428053,1682514.6422165323 1332854.118618714,1682511.230964001 1332836.0387002719,1682509.941941852 1332816.1812083556,1682527.8706225406 1332801.510682175,1682543.3780981281 1332791.9700872872,1682553.4697201997 1332774.4795247568,1682573.6578655678 1332767.549839928,1682581.9997503497 1332763.1391763336,1682589.380995051\" opacity=\"0.8\" /><polyline fill=\"none\" stroke=\"#66cc99\" stroke-width=\"35.288784000004334\" points=\"1332763.1391763336,1682589.380995051 1332766.8400779704,1682590.9003747704 1332774.3591187105,1682604.0503611804 1332777.210840862,1682611.4021985321 1332775.7406196638,1682620.7194270694 1332775.7406196638,1682620.7292295191 1332785.6994671337,1682621.4595120295 1332795.6709889243,1682622.1897945397 1332805.6298363942,1682622.92007705 1332815.6013581846,1682623.6503595603 1332825.5602056545,1682624.370839621 1332835.5285588647,1682625.101122131 1332845.4905749147,1682625.8314046415 1332855.4589281252,1682626.5616871517 1332865.4304499158,1682627.291969662 1332875.3892973855,1682628.0222521722 1332885.360819176,1682628.7525346826 1332895.319666646,1682629.4779159678 1332895.322835226,1682629.473014743 1332902.1606312299,1682616.519077329 1332918.0003634926,1682607.5596382096 1332934.9110758523,1682601.6095511795 1332956.2799805093,1682598.0904717005 1332980.278806706,1682599.3696913996 1333005.6211108943,1682599.4922220223 1333026.910801047,1682597.218053668 1333047.569943746,1682597.8503116802 1333065.798785456,1682602.927980678 1333079.6011206703,1682616.9405826705 1333089.0403209925,1682626.8606618706 1333096.4294499457,1682635.7906936407 1333094.63286499,1682644.063961274 1333094.62969641,1682644.0786649487 1333104.5885438798,1682644.8089474589 1333114.5600656704,1682645.5392299693 1333124.51891314,1682646.2695124794 1333134.4904349307,1682646.98999254 1333144.458788141,1682647.7202750503 1333154.420804191,1682648.4505575607 1333164.3891574014,1682649.1808400708 1333174.3511734514,1682649.9111225812\" opacity=\"0.8\" /><polyline fill=\"none\" stroke=\"#66cc99\" stroke-width=\"35.288784000004334\" points=\"1333174.3511734514,1682649.9111225812 1333174.3575106116,1682649.9013201313 1333177.3898418332,1682645.700970391 1333181.3093755017,1682637.9913436214 1333188.9614966088,1682625.507923798 1333199.1294703698,1682613.200948071 1333203.530628224,1682592.9196794296 1333202.0794185067,1682589.4496121996 1333196.6991693804,1682581.9213307514 1333176.898711907,1682575.0498134398 1333175.45067077,1682569.1683435584 1333173.9994610527,1682563.2917749018 1333173.0995842847,1682556.4888747388 1333172.199707517,1682549.6908758008 1333171.2998307492,1682542.878173188 1333171.6515431479,1682536.0311620012 1333172.0000869662,1682529.1792495893 1333172.3486307848,1682522.3322384022 1333176.1699384681,1682515.1715488215 1333180.0007518919,1682508.0206616907 1333183.818890995,1682500.85997211 1333189.1801286403,1682495.4686247187 1333194.5413662856,1682490.0723761024 1333199.8994353507,1682484.681028711 1333207.3392615865,1682481.2207639308 1333214.7790878222,1682477.7506967008 1333222.2094083177,1682474.2904319204 1333229.1612732075,1682467.909037099 1333236.1099695172,1682461.5325435025 1333243.058665827,1682455.151148681 1333248.210777181,1682448.911889382 1333253.3502142145,1682442.6677288576 1333258.4896512479,1682436.4382720082 1333261.5695111717,1682430.051975962 1333264.6493710955,1682423.6705811406 1333267.7292310195,1682417.289186319 1333271.3192323504,1682409.5697570997 1333274.9092336814,1682401.8503278804 1333278.4992350123,1682394.121096211 1333282.0702248623,1682386.6712343611 1333285.6412147125,1682379.2311749612 1333289.2090359821,1682371.7813131113 1333292.5613938007,1682365.551856262 1333295.9010772982,1682359.3322018622 1333299.2502665364,1682353.0978437879 1333303.2109917472,1682345.9518578819 1333307.1685483777,1682338.8107732008 1333311.138779329,1682331.6598860698 1333315.520925702,1682324.4109744409 1333319.9094092357,1682317.1620628121 1333324.3010613492,1682309.8984475085 1333328.7212306843,1682304.0316813015 1333333.15090576,1682298.1600138699 1333337.5710750953,1682292.2785439885 1333344.069833021,1682288.4114775416 1333350.5685909467,1682284.5395098694 1333357.358858248,1682282.3388598887 1333364.1491255492,1682280.1382099083 1333370.3310254582,1682280.79007282 1333376.509756787,1682281.432133282 1333384.7385594847,1682284.1180045279 1333392.9705307628,1682286.8185794486 1333401.2088392011,1682289.5093519194\" opacity=\"0.8\" /><polyline fill=\"none\" stroke=\"#66cc99\" stroke-width=\"35.288784000004334\" points=\"1333401.2088392011,1682289.5093519194 1333412.6093906476,1682277.712103582 1333435.9713322306,1682270.12010621 1333461.5702914125,1682260.592125002 1333487.2991623813,1682255.279197209 1333505.4392838464,1682255.7203074503 1333521.5990427062,1682260.2294343594 1333544.999007251,1682269.87994619 1333568.2595542688,1682287.5096521596 1333582.6607511349,1682304.9188030087 1333594.5904554697,1682322.5779163279 1333602.5214116315,1682329.870938981 1333611.4694820277,1682328.831879302 1333620.6298472951,1682324.852084682 1333625.3193459446,1682322.3524599825\" opacity=\"0.8\" /><polyline fill=\"none\" stroke=\"#66cc99\" stroke-width=\"35.288784000004334\" points=\"1333625.3193459446,1682322.3524599825 1333619.3085493648,1682316.76016237 1333617.5404816307,1682309.8886450585 1333615.7787510569,1682303.031831422 1333614.0106833228,1682296.17011656 1333608.4086335849,1682289.1123527023 1333602.8192581674,1682282.0594900695\" opacity=\"0.8\" /><polyline fill=\"none\" stroke=\"#66cc99\" stroke-width=\"35.288784000004334\" points=\"1333602.8192581674,1682282.0594900695 1333599.3116399208,1682277.618980309 1333595.7913473535,1682273.1784705485 1333596.9890706572,1682265.6697939998 1333598.1899625412,1682258.161117451 1333599.390854425,1682250.6524409023 1333600.7216580957,1682244.3396632296 1333602.0492931865,1682238.0415892315 1333595.6994585285,1682233.498153748 1333589.3496238708,1682228.9596194895 1333582.999789213,1682224.421085231 1333576.0194071017,1682221.4901527402 1333569.0390249903,1682218.5494177993 1333563.8108677121,1682212.3101585002 1333558.5795418536,1682206.0708992009 1333553.3513845755,1682199.8218374518 1333553.829840181,1682194.8323905023 1333554.298790046,1682189.8478447779 1333546.5199257322,1682187.598182548 1333538.7410614183,1682185.3485203185 1333533.680838889,1682184.8780027279 1333528.6301221002,1682184.4123863624 1333521.5895369658,1682182.6577478477 1333514.5394460906,1682180.908010558 1333510.6611039643,1682172.2279412579 1333506.7700875173,1682163.5478719578 1333502.8885768107,1682154.8678026577 1333500.2586552708,1682146.2514492813 1333497.6287337309,1682137.63019468 1333495.0114865117,1682129.0089400788 1333496.5894394356,1682119.8387482886 1333498.1800666803,1682110.6685564986 1333498.3986987118,1682109.408941699 1333507.780864591,1682088.912019162 1333505.898727971,1682074.2377518078 1333500.5786818678,1682060.9995433495 1333488.6996748159,1682046.0410049509 1333477.010782574,1682040.2183497683 1333464.90997491,1682040.188942419 1333449.1304456706,1682044.8892170992 1333437.6887026818,1682047.3888417988 1333427.580931944,1682048.7513823214 1333424.9605161448,1682073.8897648398 1333423.7691300013,1682102.4492023392 1333403.5504199455,1682110.9822348922 1333388.068737242,1682117.348926039 1333376.1105156858,1682138.9192168291 1333356.6586020307,1682154.1424213725 1333329.1616633278,1682147.618891029 1333318.4201765563,1682140.218041428 1333309.8301557193,1682138.5222176122\" opacity=\"0.8\" /><polyline fill=\"none\" stroke=\"#66cc99\" stroke-width=\"35.288784000004334\" points=\"1333309.8301557193,1682138.5222176122 1333309.769952696,1682138.6888592588 1333301.870682336,1682136.939121969 1333293.9587376548,1682135.1893846793 1333286.0499615541,1682133.4396473896 1333278.0714766898,1682129.4108405209 1333270.0993289854,1682125.382033652 1333262.120844121,1682121.358128008 1333254.148696417,1682117.3293211393 1333246.1702115524,1682113.3005142706 1333238.4515502618,1682109.0217449316 1333230.7297203909,1682104.738074368 1333223.0205648409,1682100.4593050291 1333215.29873497,1682096.1805356904 1333207.5800736793,1682091.891963902 1333199.8614123887,1682087.6082933382 1333194.3290714142,1682080.8102944002 1333188.79989902,1682074.0122954622 1333183.270726626,1682067.1995928495 1333177.7415542318,1682060.4015939115 1333170.0894331248,1682059.8477554978 1333162.4309748572,1682059.3086207586 1333154.77885375,1682058.7596835697 1333147.1203954825,1682058.2107463807 1333142.0411614724,1682063.8177476677 1333136.9492531414,1682069.4198477298 1333131.8700191313,1682075.0317502418 1333126.7812793804,1682080.628949079 1333119.8611002923,1682085.7997413496 1333112.9409212042,1682090.9705336206 1333106.0112363754,1682096.151128341 1333099.0910572873,1682101.321920612 1333092.1708781992,1682106.4878116578 1333085.2411933704,1682111.6586039285 1333079.2303967907,1682112.08010927 1333073.219600211,1682112.5016146116 1333064.9812917726,1682112.9182187282 1333056.7303090135,1682113.3495265194 1333048.488831995,1682113.771031861 1333040.2505235567,1682114.1925372025 1333032.0090465383,1682114.6189437688 1333022.680746522,1682113.0603542503 1333013.358783666,1682111.5115671814 1333006.3910758754,1682110.2617548318 1332999.410693764,1682109.0217449316\" opacity=\"0.8\" /><polyline fill=\"none\" stroke=\"#66cc99\" stroke-width=\"35.288784000004334\" points=\"1334323.0692162872,1680637.61031366 1334320.169965433,1680628.2685789983 1334317.2707145787,1680618.9317455615 1334314.3714637246,1680609.5900108998 1334311.46904429,1680600.2384737881 1334308.569793436,1680590.9016403514 1334307.3213728494,1680581.4079677176 1334306.0602779423,1680571.9191963088 1334304.8086887759,1680562.4304249003 1334309.060923362,1680555.99021538 1334313.309989368,1680549.5500058597 1334315.150934446,1680541.801169291 1334316.9887109438,1680534.052332722 1334315.3315435157,1680526.2005704304 1334313.6807132477,1680518.3488081386 1334312.02988298,1680510.5019470716 1334312.391101119,1680501.1700148596 1334312.7491506783,1680491.828280198 1334313.1103688173,1680482.4914467612 1334313.4810926972,1680473.1595145492 1334314.979831117,1680465.1901228598 1334316.469063796,1680457.2305336203 1334317.970970796,1680449.261141931 1334319.4697092157,1680441.3015526913 1334322.6002664224,1680432.9498654595 1334325.7308236288,1680424.6079806776 1334328.8613808355,1680416.2611946708 1334331.9887694619,1680407.9095074392 1334335.109820928,1680399.5725238821 1334337.609830681,1680391.7305640404 1334340.1098404338,1680383.898406648 1334342.6098501869,1680376.0711504808 1334345.10985994,1680368.2389930887 1334347.609869693,1680360.4117369214 1334345.639012828,1680351.452297802 1334343.6713245434,1680342.4879574575 1334341.7004676785,1680333.5285183382 1334339.7296108138,1680324.5690792187 1334337.7587539488,1680315.6096400993\" opacity=\"0.8\" /><polyline fill=\"none\" stroke=\"#66cc99\" stroke-width=\"35.288784000004334\" points=\"1334337.7587539488,1680315.6096400993 1334335.6991768393,1680314.982283312 1334337.6795394446,1680308.4489505186 1334339.6694077905,1680301.92051895 1334340.6801848642,1680296.421344611 1334341.6909619381,1680290.9221702719 1334343.588941459,1680284.658404848 1334345.4900895602,1680278.3995406493 1334348.1200111,1680270.5379759076 1334350.74993264,1680262.681312391 1334349.6504353215,1680257.6477544175 1334348.5604437436,1680252.6190976687 1334342.9710683262,1680246.649405739 1334337.3785243286,1680240.6797138094 1334330.6611343713,1680235.94022933 1334328.9405953398,1680234.7247255545 1334323.950081574,1680231.2007448503 1334317.2295230366,1680226.461260371 1334310.7592823324,1680224.079265069 1334304.2985473687,1680221.692368542 1334297.8314752446,1680219.3103732402 1334288.4207921438,1680217.3988955286 1334279.0196147836,1680215.492319042 1334270.0493643265,1680213.3406813103 1334261.0696081286,1680211.1890435787 1334252.0993576713,1680209.042307072 1334246.5004765135,1680204.1116748212 1334240.911101096,1680199.171240121 1334235.3185570987,1680194.2308054205 1334231.829950333,1680189.1384327482 1334228.3508493078,1680184.0509613007 1334224.1303005235,1680187.1387329884 1334219.909751739,1680190.231405901 1334213.090967216,1680191.971340741 1334206.2690141131,1680193.701473131 1334199.459735331,1680195.441407971 1334191.6903767574,1680194.8777671074 1334183.9210181842,1680194.3288299185 1334176.1516596107,1680193.7798927296 1334168.8005536196,1680189.9324311821 1334161.4494476286,1680186.0800684097 1334154.1015102176,1680182.2277056375 1334145.520995121,1680177.3607893104 1334136.9404800246,1680172.4987742084 1334128.3599649281,1680167.6416603313 1334119.1393966374,1680166.612403102 1334109.9093226064,1680165.578244648 1334100.688754316,1680164.5587898684 1334093.4390428902,1680169.7785943882 1334086.1893314645,1680174.9983989082 1334078.9396200387,1680180.218203428 1334070.13096717,1680183.8402086298 1334061.3191457212,1680187.4720162817 1334052.5104928527,1680191.0989227085 1334043.6986714038,1680194.7307303604 1334034.890018535,1680198.3625380122 1334026.0813656666,1680201.9796419893\" opacity=\"0.8\" /><polyline fill=\"none\" stroke=\"#66cc99\" stroke-width=\"35.288784000004334\" points=\"1334026.0813656666,1680201.9796419893 1334020.1592893314,1680204.42045199 1334012.4311223002,1680204.518476488 1334004.6902809483,1680204.621402211 1333995.5901187041,1680203.7195768293 1333986.4804507196,1680202.8324551221 1333977.3802884754,1680201.9306297402 1333968.2706204907,1680201.0288043586 1333959.1704582465,1680200.1416826514 1333950.060790262,1680199.2398572695 1333940.9606280178,1680198.3380318878 1333937.899779575,1680195.9217280115\" opacity=\"0.8\" /><polyline fill=\"none\" stroke=\"#66cc99\" stroke-width=\"35.288784000004334\" points=\"1333937.899779575,1680195.9217280115 1333930.7197769128,1680201.2885692783 1333923.5492799913,1680206.66031177 1333916.37878307,1680212.0320542618 1333908.48901845,1680217.0215012112 1333900.6087595709,1680222.001145711 1333892.0314130546,1680225.0006953503 1333883.4508979581,1680228.00024499 1333874.6295707687,1680226.5396799694 1333865.8114121596,1680225.0791149489 1333857.9501647614,1680223.231353161 1333850.0794116226,1680221.3688876985 1333842.2213328045,1680219.5211259108 1333832.7314351995,1680219.5897430594 1333823.251043335,1680219.6485577582 1333813.7611457303,1680219.7220761317 1333806.7807636189,1680221.0699129796 1333799.809887248,1680222.4177498275 1333792.8295051367,1680223.7802903499 1333784.6292196603,1680229.2990695888 1333776.4289341841,1680234.8178488275 1333768.2286487077,1680240.3415292911 1333762.5790702673,1680247.2914662012 1333756.9294918266,1680254.241403111 1333751.279913386,1680261.191340021 1333745.620829205,1680268.141276931 1333739.4104120745,1680273.111118981 1333733.2095006846,1680278.0809610307 1333726.9990835541,1680283.0508030804 1333720.7886664239,1680288.0206451304 1333713.139713897,1680290.471257581 1333705.49076137,1680292.9218700316 1333697.8386402628,1680295.382284932 1333690.1991934762,1680297.8279961576 1333682.5502409495,1680300.2786086083 1333675.3607325468,1680304.1015640313 1333668.1712241443,1680307.9196182294 1333660.9912214824,1680311.7278699775 1333653.7985444998,1680315.5508254005 1333646.6090360973,1680319.3688795986 1333642.508893359,1680326.0100393398 1333638.4214249416,1680332.6610015307 1333634.3212822035,1680339.302161272 1333630.2211394652,1680345.9482222379 1333627.9714475456,1680354.1087616985 1333625.7185870458,1680362.269301159 1333623.4688951261,1680370.4396430694 1333624.3085688706,1680378.2619980117 1333625.1514111955,1680386.089254179 1333625.9910849403,1680393.921411571 1333626.830758685,1680401.7486677384 1333628.9315273366,1680409.3896773595 1333631.038633149,1680417.0306869803 1333633.148907541,1680424.6716966014 1333635.2591819332,1680432.3078049975 1333638.7604630196,1680440.5124554823 1333642.2712498463,1680448.712204742 1333645.778868093,1680456.9119540018 1333648.7509962912,1680464.891148141 1333651.719955909,1680472.87034228 1333654.6794097866,1680480.8495364191 1333656.0387306788,1680490.5588629486 1333657.3885458307,1680500.2779919277 1333658.751035303,1680509.9922196819\" opacity=\"0.8\" /><polyline fill=\"none\" stroke=\"#66cc99\" stroke-width=\"35.288784000004334\" points=\"1333658.751035303,1680509.9922196819 1333665.0311611972,1680511.8889937187 1333671.320792832,1680513.7906689805 1333678.5007954938,1680516.981366391 1333685.6903038966,1680520.1720638017 1333692.8703065584,1680523.3578599875 1333700.398853039,1680526.269187579 1333707.9210623591,1680529.1805151703 1333715.4401030992,1680532.0918427615 1333720.509831369,1680537.532202402 1333725.5795596386,1680542.9676608173 1333730.6492879083,1680548.4178229074 1333733.4915043197,1680554.5884650582 1333736.3305521507,1680560.7591072088 1333739.1600942411,1680566.9297493594 1333738.5010295662,1680573.8404764703 1333737.8292905705,1680580.751203581 1333739.4009063342,1680589.3087422585 1333740.9788592581,1680597.8809846106 1333742.5504750216,1680606.448325738 1333744.1189222052,1680615.0107656405 1333745.7000437093,1680623.5781067677 1333745.6905379687,1680631.4592764091 1333745.6810322283,1680639.3404460503 1333745.6715264877,1680647.2314181412 1333745.658852167,1680655.1076865573 1333749.080918749,1680662.572252082 1333752.4998167509,1680670.0319163816 1333755.9313890736,1680677.5013831311 1333759.3502870754,1680684.9610474308 1333763.1494146977,1680692.4599215297 1333766.939036579,1680699.9587956285 1333770.7413327815,1680707.4478672775 1333774.5309546632,1680714.9516426013 1333782.4999337872,1680715.7211349108 1333790.4689129111,1680716.4906272204 1333798.4505663556,1680717.26011953 1333808.380896604,1680715.9710973809 1333818.3302383334,1680714.6820752318 1333828.2700743221,1680713.388151858 1333838.209910311,1680712.099129709 1333846.6510078802,1680710.1288372986 1333855.088936869,1680708.1487424385 1333863.5300344382,1680706.1686475785 1333871.9711320072,1680704.1885527184 1333880.4090609963,1680702.218260308 1333889.4712002783,1680703.0906783405 1333898.5301709804,1680703.9679975978 1333907.5986474229,1680704.85021808 1333916.6607867049,1680705.7324385622 1333925.7292631473,1680706.5999553697 1333927.1202698413,1680706.6391651689 1333933.5905105455,1680703.3700481597 1333940.0607512498,1680700.1009311506 1333946.530991954,1680696.8416165914 1333951.8795552787,1680690.7886038383 1333957.2312871835,1680684.75029476 1333962.8491798223,1680678.398307288 1333964.8485539088,1680672.198257788 1333966.8510965751,1680665.9884058381 1333967.7414676026,1680656.9015348712 1333968.6191643092,1680647.8097626795 1333969.500029596,1680638.7179904878 1333970.3904006234,1680629.6311195209 1333964.4809986092,1680627.1118899216 1333958.5715965948,1680624.5877590976 1333951.4708084369,1680628.631269641 1333944.3700202792,1680632.6698789597 1333935.3300610583,1680636.5222417319 1333926.2901018371,1680640.3697032793 1333919.480823055,1680639.5217913715 1333912.658869952,1680638.6787806884 1333905.8495911697,1680637.8308687806 1333898.3812477123,1680634.14024643 1333890.909735675,1680630.4496240793 1333883.4413922175,1680626.7590017288 1333876.179006471,1680623.8280692378 1333868.9102835644,1680620.9020379717 1333861.3595570226,1680615.1578023876 1333853.808830481,1680609.428270478 1333847.100946264,1680605.159303589 1333840.3803877265,1680600.8903367 1333833.6693349294,1680596.631172261 1333826.9487763918,1680592.362205372 1333820.1711834113,1680585.4024660122 1333813.3904218506,1680578.4378254276 1333806.6191660303,1680571.4780860678 1333804.6007804628,1680561.9697097593 1333802.5887320559,1680552.461333451 1333800.579852229,1680542.938253468 1333798.570972402,1680533.4298771597 1333799.2490485583,1680523.49019306 1333799.939799035,1680513.5407065104 1333800.6305495116,1680503.6010224107 1333801.3086256678,1680493.6515358612 1333803.7516009777,1680485.8291809189 1333806.1914077075,1680478.0019247516 1333808.6185401166,1680470.1697673595 1333811.0615154267,1680462.3425111922 1333813.7516399897,1680454.809328519 1333816.4385959727,1680447.2908495206 1333819.1192147953,1680439.7576668474 1333821.8093393585,1680432.229385399 1333826.7016271388,1680426.029335899 1333831.590746339,1680419.829286399 1333836.479865539,1680413.6292368989 1333844.258729853,1680411.188426898 1333852.0502684873,1680408.7525181223 1333859.8291328012,1680406.3019056716 1333867.6206714357,1680403.8610956708 1333874.4996589818,1680407.87029764 1333881.3786465279,1680411.8696971594 1333888.2608026539,1680415.869096679 1333890.9794444386,1680424.299203509 1333893.7107605438,1680432.7195078891 1333896.4294023286,1680441.1398122695 1333900.6499511132,1680449.5209068507 1333904.8704998975,1680457.9020014317 1333909.0815429417,1680466.278194788 1333916.080936534,1680471.9685168983 1333923.0803301265,1680477.6490365588 1333930.0702179784,1680483.3295562193 1333937.0696115708,1680489.0198783295 1333944.1197024458,1680489.3286554983 1333951.1697933208,1680489.642333892 1333958.2293899364,1680489.9609135105 1333964.1799834932,1680483.3001488699 1333970.1400827903,1680476.649186679 1333973.9804019546,1680470.2089771586 1333977.820721119,1680463.7687676384 1333981.661040283,1680457.3285581183 1333985.5013594474,1680450.888348598 1333990.2700726013,1680444.9480640178 1333995.038785755,1680439.0224831123 1333999.8106674887,1680433.0920009818 1334004.5793806424,1680427.1517164013 1334013.1503899985,1680426.431236341 1334021.7213993545,1680425.7009538307 1334030.2892401305,1680424.9706713203 1334038.8602494863,1680424.25019126 1334047.4312588423,1680423.5199087495 1334056.4205207806,1680427.3085555984 1334065.4192884595,1680431.1021036718 1334074.4212247182,1680434.9005529704 1334083.4104866565,1680438.689199819 1334087.5201351352,1680445.34016201 1334091.6297836138,1680452.0009266506 1334095.729926352,1680458.6518888415 1334099.8395748306,1680465.3077522574 1334087.6405411817,1680493.0486851984 1334082.0416600239,1680521.9806157902 1334077.6911994524,1680561.048279478 1334060.1404338984,1680580.4914386612 1334034.6492064423,1680606.9384482282 1334018.6415394307,1680622.0685294983 1334009.4304768806,1680647.8685773783 1334003.3816573387,1680675.6487201185 1334000.9006590669,1680680.9714503612 1333998.4291665354,1680686.299081829 1333995.960842584,1680694.4008065904 1333993.479844312,1680702.5025313522 1333991.0115203606,1680710.599354889 1333999.0502082484,1680711.9618954116 1334007.088896136,1680713.3097322595 1334015.1307526038,1680714.672272782\" opacity=\"0.8\" /><polyline fill=\"none\" stroke=\"#66cc99\" stroke-width=\"35.288784000004334\" points=\"1334015.1307526038,1680714.672272782 1334023.1694404916,1680716.0299120797 1334025.998982582,1680714.628161758 1334034.6206892207,1680713.04016489 1334043.24873302,1680711.4619704718 1334051.8704396586,1680709.8690723788 1334060.5016520377,1680708.281075511 1334066.8704981767,1680704.2914784413 1334073.229838575,1680700.3018813715 1334079.6113590344,1680696.312284302 1334085.9802051734,1680692.3177860074 1334094.1709849092,1680688.5977563076 1334102.3585960646,1680684.8679241578 1334110.5493758004,1680681.1478944577 1334118.7401555362,1680677.4278647576 1334126.9404410126,1680673.7078350575 1334135.1312207484,1680669.9878053574 1334143.4297322098,1680665.2581233277 1334151.740917992,1680660.5284412983 1334160.048935194,1680655.7987592686 1334168.360120976,1680651.0788796886 1334176.6713067584,1680646.349197659 1334184.96981822,1680641.6195156293 1334193.281004002,1680636.8996360493 1334203.220839991,1680636.718290728 1334213.1606759797,1680636.5418466316 1334223.091006228,1680636.3605013103 1334233.030842217,1680636.1791559889 1334242.9706782058,1680635.9978106676 1334252.9010084542,1680635.8213665711 1334261.7286728038,1680635.1597012095 1334270.5595057337,1680634.4980358477 1334271.579788548,1680634.4245174741 1334279.3903386635,1680633.841271711 1334288.2211715933,1680633.1796063494 1334297.0393302024,1680632.5179409876 1334305.8701631322,1680631.861176851 1334314.4696897098,1680634.738195868 1334323.0692162872,1680637.61031366\" opacity=\"0.8\" /><polyline fill=\"none\" stroke=\"#66cc99\" stroke-width=\"35.288784000004334\" points=\"1335500.2918063197,1679404.148450118 1335500.6783731002,1679399.281533791 1335508.2322682221,1679310.314499384 1335508.3304942073,1679309.1578103073 1335509.1765051123,1679299.3112494808 1335509.1638307918,1679299.3161507058 1335500.5516298935,1679303.0410816306 1335494.28100974,1679307.1189007484 1335488.0008838458,1679311.211423541 1335481.7207579517,1679315.2892426588 1335478.0705535975,1679322.0088219985 1335474.4108435027,1679328.728401338 1335474.341134739,1679335.1686108583 1335474.2587516548,1679341.6088203783 1335478.0198563149,1679345.9513056409 1335481.780960975,1679350.2888896784 1335481.6605549285,1679357.302542512 1335481.5306431416,1679364.3112941207 1335482.8392667512,1679373.8588802284 1335484.3791967132,1679381.0979894076 1335484.8798323798,1679388.121444691 1335488.850063331,1679394.9586534281 1335492.8202942822,1679401.7909609405 1335500.2632890982,1679404.143548893 1335500.2918063197,1679404.148450118\" opacity=\"0.8\" /><polyline fill=\"none\" stroke=\"#66cc99\" stroke-width=\"35.288784000004334\" points=\"1333170.678789036,1680143.8119048616 1333179.7504340587,1680144.63040942 1333188.8094047606,1680145.4489139786 1333197.8810497832,1680146.272319762 1333206.9495262257,1680147.0908243204 1333216.0211712483,1680147.8995264291 1333225.0896476908,1680148.7180309878 1333234.1486183929,1680149.5414367712 1333243.2202634155,1680150.3599413296 1333250.919913225,1680145.5910495007\" opacity=\"0.8\" /><polyline fill=\"none\" stroke=\"#66cc99\" stroke-width=\"35.288784000004334\" points=\"1333250.919913225,1680145.5910495007 1333252.1810081322,1680135.5386372283 1333248.6797270458,1680126.1821988919 1333244.8805994238,1680115.1299367396 1333234.360913264,1680104.8618705715 1333222.5104234337,1680104.798154648 1333217.5294154086,1680092.8391658887 1333221.708772651,1680069.112336142 1333219.379866227,1680043.2485723381 1333209.4400302384,1680018.9286943784 1333201.8512807344,1680002.6419240315 1333201.6009629013,1679988.5410999907 1333199.249876416,1679968.9018918115 1333198.0394787916,1679944.7780628477 1333201.6991888864,1679928.4618851515 1333212.9096255228,1679917.2380801276 1333227.5389601612,1679922.428477298 1333249.2215542546,1679939.7101963 1333263.9712949395,1679949.0519309617 1333283.0303046536,1679944.6016187512 1333297.1399921442,1679933.5885663982 1333308.0399079241,1679914.8903934 1333309.9505617658,1679893.8886446983 1333308.1001109474,1679873.0388339686 1333289.9092921994,1679865.118454528 1333270.4605471247,1679857.521555931 1333245.1816145398,1679861.5307579003 1333215.5585585437,1679868.1180041677 1333182.8493054635,1679871.181269731 1333154.1990035793,1679869.98046963 1333134.7312470234,1679874.3915720412 1333116.939669377,1679884.321453691 1333112.750806394,1679896.4519853217 1333120.9605976108,1679909.881341551 1333131.28066322,1679923.0411304107 1333130.1906716418,1679938.2986435283 1333127.658976087,1679950.5517057814 1333135.5994379898,1679959.7611073707\" opacity=\"0.8\" /><polyline fill=\"none\" stroke=\"#66cc99\" stroke-width=\"35.288784000004334\" points=\"1333135.5994379898,1679959.7611073707 1333144.7788147382,1679958.9622077118 1333150.719902554,1679960.0110698408 1333156.6609903702,1679961.0501295198 1333160.1591028764,1679967.2795863692 1333163.6603839626,1679973.5090432188 1333161.7402243805,1679983.071333001 1333159.8105590579,1679992.6287215583 1333154.341589687,1679999.6717817413 1333148.8599459953,1680006.7099406996 1333142.4404025737,1680009.5477499175 1333138.1691565064,1680005.3277952773 1333133.91058476,1680001.0980381877 1333126.76860506,1679996.471281881 1333119.6392996805,1679991.8396243493 1333112.1107532,1679990.7515524211 1333104.5790381392,1679989.668381718 1333097.0504916587,1679988.5803097899 1333088.0010266972,1679989.4478265974 1333078.9610674763,1679990.3202446299 1333069.9116025148,1679991.1877614374 1333062.509799241,1679992.1778088675 1333055.1111645475,1679993.1678562975 1333047.7093612736,1679994.1481012776 1333038.2701609514,1679995.7508018205 1333028.8214548887,1679997.3486011382 1333027.9310838613,1680004.0877853774 1333027.0407128339,1680010.8416732913 1333034.6896653608,1680013.9980621277 1333042.3512922085,1680017.1495497392 1333050.0097504759,1680020.3108398004 1333055.4406968849,1680020.7715549413 1333060.8716432939,1680021.232270082\" opacity=\"0.8\" /><polyline fill=\"none\" stroke=\"#66cc99\" stroke-width=\"35.288784000004334\" points=\"1333060.8716432939,1680021.232270082 1333070.6910732363,1680022.0605770901 1333080.5200089193,1680022.8888840985 1333087.319781961,1680024.4817821914 1333094.1195550028,1680026.0599766097 1333100.9193280446,1680027.6381710279 1333110.209605099,1680031.1915590812 1333119.499882153,1680034.7400459098 1333124.6012962246,1680041.7095877193 1333129.7090474563,1680048.669327079 1333133.6792784075,1680055.0017096514 1333137.6590150993,1680061.3389934485 1333141.6292460505,1680067.671376021 1333146.9112691914,1680075.1996574693 1333152.1806180119,1680082.7279389177 1333157.4499668323,1680090.251319141 1333160.4791294734,1680096.2504184202 1333163.5114606947,1680102.2397152493 1333166.5501290762,1680108.2290120786 1333167.728840899,1680114.919184069 1333168.9202270424,1680121.5995536093 1333170.0989388651,1680128.2897255993 1333170.3904482406,1680136.048364618 1333170.678789036,1680143.8119048616\" opacity=\"0.8\" /><polyline fill=\"none\" stroke=\"#66cc99\" stroke-width=\"35.288784000004334\" points=\"1334488.6085186147,1680990.121112231 1334493.728944167,1680994.6106342403 1334498.8493697194,1680999.10015625 1334499.4197141498,1681005.9177600876 1334499.0711703312,1681009.569172639 1334497.318945498,1681014.9409151308 1334492.1193054414,1681014.4409901907 1334486.9196653848,1681013.941065251 1334482.0305461846,1681013.4607452105 1334472.2491392042,1681012.5197100295 1334463.9696392238,1681012.9608202707 1334464.8885274725,1681013.7107076806 1334464.0615280485,1681019.1608697707 1334463.2186857238,1681024.6110318608 1334464.1502482933,1681027.782124372 1334469.2706738457,1681034.4183828882 1334474.3910993983,1681041.0595426294 1334479.521030691,1681047.7105048203 1334476.2890789192,1681055.5377609876 1334473.0602957273,1681063.3797208294 1334469.8315125355,1681071.2118782217 1334466.5995607637,1681079.039134389 1334465.7313697974,1681088.8415841914 1334464.8505045106,1681098.6391327688 1334463.9791449641,1681108.4415825715 1334463.9189419409,1681116.4305791603 1334463.8587389179,1681124.4195757494 1334467.638855059,1681130.6000203497 1334471.4094654594,1681136.7706625005 1334473.9506667547,1681144.2107219005 1334476.4886994697,1681151.6605837503 1334479.029900765,1681159.1006431505 1334481.5711020601,1681166.5505050004 1334490.8011760912,1681169.3196970695 1334500.0312501222,1681172.0888891388 1334509.2708298939,1681174.848278758 1334518.500903925,1681177.6223720522 1334523.729061203,1681183.9498533998 1334528.969892802,1681190.2724335222 1334534.2107244008,1681196.5999148698 1334539.3406556938,1681204.9908119007 1334544.480092727,1681213.3817089314\" opacity=\"0.8\" /><polyline fill=\"none\" stroke=\"#66cc99\" stroke-width=\"35.288784000004334\" points=\"1334544.480092727,1681213.3817089314 1334550.589115292,1681211.6515765414 1334556.6886321167,1681209.9214441513 1334562.3001875952,1681203.089136639 1334563.1715471416,1681193.9483521981 1334561.169004475,1681189.1402505701 1334559.1601246481,1681184.3419513917 1334557.8198152368,1681178.9800113498 1334556.4795058256,1681173.6278737576 1334556.7108121777,1681171.1919649818 1334557.239965066,1681165.7123955423 1334558.8115808296,1681156.0324763623 1334560.4497367768,1681151.8909413207 1334567.4111074072,1681150.1019942318 1334570.769802386,1681147.362209512 1334575.529009799,1681142.902094852 1334579.9808649358,1681141.4905420803 1334585.5512288723,1681141.412122482 1334588.0005413427,1681141.652282502 1334594.7496171016,1681142.309046639 1334597.198929572,1681142.549206659 1334603.4505382446,1681141.9316523215 1334609.6894725964,1681141.309196759 1334611.5906206977,1681140.8778889677 1334616.1787247818,1681138.2508324205 1334620.9601122562,1681133.81032266 1334627.8802913444,1681132.6389299086 1334633.2003374475,1681128.86008551 1334638.5393950315,1681128.1494078992 1334643.868946875,1681127.4387302885 1334652.8803888743,1681130.1589101087 1334653.9893919334,1681137.638179308 1334653.7485798406,1681143.142254872 1334653.5204420686,1681148.6414292112 1334656.5400989691,1681155.699193069 1334661.7397390257,1681159.272186022 1334669.059159215,1681159.968159958 1334678.8405661955,1681160.909195139 1334684.1194207564,1681160.4876897975 1334689.4014438975,1681160.0808881307 1334695.3203516523,1681156.351055981 1334702.4116340696,1681153.3515063412 1334703.808977924,1681151.640978851 1334704.540919943,1681150.4793885492 1334710.520030721,1681146.1516069614 1334713.1214350394,1681144.191117001\" opacity=\"0.8\" /><polyline fill=\"none\" stroke=\"#66cc99\" stroke-width=\"35.288784000004334\" points=\"1334713.1214350394,1681144.191117001 1334707.4496765377,1681136.4618853317 1334701.7715808756,1681128.7277524376 1334702.0092243883,1681123.2187756486 1334702.250036481,1681117.7196013094 1334702.1486419158,1681112.4899943399 1334702.0504159303,1681107.2603873701 1334696.1505196565,1681101.4720407617 1334690.241117642,1681095.6787929286 1334688.7708964439,1681088.7778682676 1334687.3006752457,1681081.8818448316 1334687.5604988195,1681076.0689920988 1334687.8298281338,1681070.261040591 1334688.530084351,1681063.2620914318 1334689.2208348277,1681056.258241048 1334689.490164142,1681047.382122752 1334689.749987716,1681038.501103231 1334689.3792638362,1681032.9284105182 1334688.9990342162,1681027.3606190304 1334682.1485638916,1681023.8415395513 1334675.3107678879,1681020.3077563976 1334668.4602975633,1681016.7788744688 1334659.1985377306,1681013.431337861 1334649.9494522184,1681010.069097579 1334644.8195209256,1681005.6825012923 1334639.680083892,1681001.2910037807 1334634.5406468587,1680996.8995062693 1334635.450029367,1680987.7685242784 1334635.5704354134,1680986.548119278 1334637.1895798796,1680979.642293392 1334638.7992186053,1680972.7217638316 1334639.379068776,1680966.9383184481 1334639.9494132064,1680961.1597742895 1334639.8511872212,1680955.9203648702 1334639.749792656,1680950.6907579005 1334638.70099262,1680942.5890331387 1334630.8397452217,1680941.647997958 1334622.9816664036,1680940.7118640016 1334615.129924746,1680939.7708288205 1334607.5316695017,1680937.5799812898 1334599.9302456772,1680935.3891337588 1334592.3288218528,1680933.198286228 1334586.5905231675,1680929.5615773513 1334580.8395501615,1680925.9199672497 1334575.0885771557,1680922.2783571482 1334567.8293599894,1680920.6609529308 1334560.5701428233,1680919.0288450387 1334556.5206973678,1680916.181233371 1334550.3894947416,1680915.5881851579 1334544.2614606954,1680914.99023572 1334537.281078584,1680910.6281455578 1334530.2911907323,1680906.2611541708 1334525.5098032579,1680904.57023158 1334520.7315843636,1680902.879308989 1334514.819013769,1680903.232197182 1334508.9001060142,1680903.58018415 1334503.9095922487,1680907.0894611792 1334498.919078483,1680910.5987382084 1334493.3708946079,1680916.828195058 1334488.6687216377,1680920.6805578303 1334483.9697172479,1680924.5280193777 1334478.3803418304,1680927.9784817083 1334472.790966413,1680931.4387464884 1334470.3511596832,1680937.3496237195 1334467.920858694,1680943.2605009503\" opacity=\"0.8\" /><polyline fill=\"none\" stroke=\"#66cc99\" stroke-width=\"35.288784000004334\" points=\"1334467.920858694,1680943.2605009503 1334467.809958388,1680950.6319432016 1334467.6990580822,1680957.9886817785 1334467.7085638226,1680964.1397190294 1334469.559014641,1680970.462299152 1334473.7795634256,1680974.5597231695 1334478.0096179508,1680978.652245962 1334482.8512084482,1680982.8084846782 1334487.6896303657,1680986.9598221695 1334488.6085186147,1680990.121112231\" opacity=\"0.8\" /><polyline fill=\"none\" stroke=\"#66cc99\" stroke-width=\"35.288784000004334\" points=\"1334848.3596052146,1678555.7513209407 1334842.0509620989,1678562.24054271 1334835.5205183716,1678569.342417592 1334828.990074644,1678576.4393912489 1334822.4596309166,1678583.5412661307 1334815.929187189,1678590.6382397877 1334809.3987434618,1678597.7499171193 1334802.8714683144,1678604.8517920012 1334796.341024587,1678611.9487656583 1334791.4107138447,1678618.2223335318 1334786.4804031025,1678624.5008026303 1334781.5405866196,1678630.7694692789 1334776.6102758772,1678637.0381359276 1334772.1615893205,1678645.5907733801 1334767.7002284431,1678654.1385096079 1334763.2515418865,1678662.6911470606 1334760.1716819627,1678670.6409338503 1334757.0791477181,1678678.60052309 1334753.9992877943,1678686.5503098797 1334748.9707510667,1678693.039531649 1334743.9485514995,1678699.5189509685 1334738.920014772,1678706.0081727377\" opacity=\"0.8\" /><polyline fill=\"none\" stroke=\"#66cc99\" stroke-width=\"35.288784000004334\" points=\"1334738.920014772,1678706.0081727377 1334747.1614917906,1678708.179415369 1334755.3902944883,1678710.36046045 1334763.6286029266,1678712.5317030812 1334771.039911941,1678713.389417439 1334778.4512209552,1678714.2422305718 1334785.8593613894,1678715.0999449294 1334793.7586317495,1678712.4091724586 1334801.66107069,1678709.7282024377 1334805.2890949831,1678704.0917938012 1334808.9107821158,1678698.4504839398 1334812.5388064089,1678692.8091740787 1334820.3398507838,1678688.6578365874 1334828.1504008994,1678684.5212027708 1334835.3494150424,1678687.9814675509 1334842.561103506,1678691.4417323312 1334847.858969548,1678698.048583498 1334853.16000417,1678704.6701383395 1334855.660013923,1678709.8311281607 1334858.1695294166,1678714.9823155317 1334858.5307475557,1678721.0108221604 1334858.8887971148,1678727.029526339 1334858.480050273,1678732.1611088107 1334858.0808091718,1678737.302493732 1334849.8805236956,1678741.1989675285 1334843.4514745334,1678743.801517951 1334837.0097510507,1678746.389364699 1334833.3088494139,1678751.2709847004 1334829.6016106165,1678756.1477034772 1334828.0014776315,1678765.9403508299 1334833.1409146648,1678773.267682057 1334838.2803516984,1678780.5901120596 1334843.4197887317,1678787.9223445118 1334848.5592257653,1678795.249675739 1334854.4591220391,1678799.4304205799 1334860.3685240536,1678803.6111654206 1334867.180971416,1678808.561402571 1334873.9997559388,1678813.5018372713 1334880.809034721,1678818.4422719718 1334888.720979402,1678823.6081630175 1334896.6202497622,1678828.7789552885 1334905.7996265106,1678830.9403954698 1334914.979003259,1678833.111638101 1334923.1697829948,1678834.5820055716 1334931.370068471,1678836.0523730419 1334939.019020998,1678836.439569809 1334946.6806478456,1678836.8316678011 1334953.889167729,1678834.9201900896 1334961.1103619332,1678832.9989099284 1334964.9316696166,1678826.6910334805 1334968.7403029792,1678820.3782558078 1334966.5413083422,1678811.3207921903 1334964.3486508657,1678802.258427348 1334961.290971003,1678793.5391482487 1334958.2301225602,1678784.8296715992 1334961.180070697,1678776.3799598694 1334964.130018834,1678767.9302481397 1334966.1705844626,1678760.4411764906 1334968.2111500911,1678752.9619072913 1334962.8815982477,1678746.7520553416 1334956.8708016677,1678746.4922904219 1334950.8695108285,1678746.232525502 1334945.5209475039,1678742.909495019 1334940.1692155993,1678739.6011682106 1334934.7097519687,1678732.3522565817 1334929.2597940788,1678725.098443728 1334927.2794314735,1678715.8596347892 1334925.2990688682,1678706.6110234004 1334924.2914603744,1678698.2593361689 1334923.2901890413,1678689.912550162 1334925.4606664567,1678680.781568171 1334927.6311438722,1678671.6505861802 1334932.5804660954,1678669.3617141512 1334937.5392940594,1678667.0581384476 1334941.2211842153,1678670.4497860793 1334944.9094115314,1678673.841433711 1334947.868865409,1678681.1001477896 1334950.8314878666,1678688.3490594185 1334954.209194326,1678692.9611120506 1334957.5900693662,1678697.558461008 1334961.9405299376,1678695.0098240592 1334964.6306545006,1678692.1181013675 1334961.3701855072,1678686.7218527512 1334958.1002107733,1678681.3207029102 1334957.140130982,1678673.7189030885 1334956.1705454506,1678666.1122020415 1334955.200959919,1678658.5104022198 1334954.2408801278,1678650.8987999482 1334954.7098299928,1678642.8313837608 1334955.1787798577,1678634.7492638987 1334955.650898303,1678626.6818477113 1334953.889167729,1678621.491450541 1334952.121099995,1678616.3010533706 1334948.2015663267,1678609.8902511997 1334944.2788640778,1678603.4696465791 1334940.3593304092,1678597.0490419585 1334940.7902573124,1678589.6481923577 1334941.2306899556,1678582.2620464314 1334941.6616168586,1678574.8611968306 1334944.2598525968,1678565.411635221 1334946.8485825947,1678555.9620736116 1334949.449986913,1678546.512512002 1334952.0513912314,1678537.0580491675 1334947.6914249195,1678531.4118380812 1334943.3314586075,1678525.7607257701 1334938.958817975,1678520.109613459 1334938.1096384895,1678512.6597516092 1334937.2509532638,1678505.2098897593 1334936.3986051986,1678497.7502254597 1334928.2395112645,1678497.9119658815 1334920.07091159,1678498.0688050783 1334911.9086490755,1678498.22074305\" opacity=\"0.8\" /><polyline fill=\"none\" stroke=\"#66cc99\" stroke-width=\"35.288784000004334\" points=\"1334911.9086490755,1678498.22074305 1334905.4891056542,1678502.8622030315 1334899.079067973,1678507.4987617882 1334892.6595245516,1678512.1500242194 1334886.23998113,1678516.7914842009 1334879.9313380143,1678523.2807059702 1334873.610020578,1678529.7699277394 1334867.3013774625,1678536.2689519585 1334860.9895657666,1678542.7581737277 1334854.6714169104,1678549.2522967218 1334848.3596052146,1678555.7513209407\" opacity=\"0.8\" /><polyline fill=\"none\" stroke=\"#66cc99\" stroke-width=\"35.288784000004334\" points=\"1333579.1404585675,1679298.6299792195 1333572.3311797853,1679295.429479359 1333565.5092266824,1679292.2387819483 1333558.6999479001,1679289.0480845377 1333551.8811633773,1679285.8524859021 1333543.059836188,1679282.48044317 1333534.2416775788,1679279.108400438 1333525.4203503896,1679275.7412589309 1333519.1402244954,1679270.9282560777 1333512.8600986013,1679266.110352 1333506.5799727072,1679261.292447922 1333500.299846813,1679256.479445069 1333496.088803769,1679249.48049591 1333491.8809293052,1679242.481546751 1333487.6603805206,1679235.492400042 1333483.4493374764,1679228.488549658 1333482.1914111497,1679219.6810485106 1333480.9303162424,1679210.878448588 1333479.6692213353,1679202.0807498903 1333481.560863696,1679193.8810006306 1333483.458843217,1679185.6812513708 1333485.359991318,1679177.4913045608 1333487.2611394194,1679169.291555301 1333489.1591189404,1679161.0918060413 1333493.5190852522,1679153.1518217013 1333497.8790515643,1679145.2118373613 1333502.239017876,1679137.2718530213 1333508.0311824244,1679131.2776549673 1333513.8106726517,1679125.278555688 1333519.59966862,1679119.289258859 1333525.3886645879,1679113.2999620296 1333534.339903564,1679109.2319453615 1333543.300648281,1679105.1688299184 1333552.2613929976,1679101.1008132503 1333561.2094633935,1679097.0376978072 1333569.7202697264,1679094.1018640914 1333578.2215703188,1679091.1611291505 1333586.719702331,1679088.22039421 1333595.221002923,1679085.2894617189 1333602.7495494038,1679082.2899120795 1333610.290770205,1679079.2903624398 1333617.828822426,1679076.2908128004 1333625.3605374866,1679073.3010656105 1333630.9087213618,1679066.9686830381 1333636.4600738173,1679060.6412016908 1333642.0114262726,1679054.3088191184 1333641.7009054162,1679046.8491548186 1333641.3903845595,1679039.389490519 1333641.0703579625,1679031.9298262193 1333634.7395347857,1679027.881414451 1333628.4213859295,1679023.8281014576 1333622.0905627527,1679019.7796896892 1333615.759739576,1679015.7312779208 1333607.6513429245,1679013.4277022171 1333599.5397776929,1679011.1290277385 1333591.418706721,1679008.8303532598 1333583.0314750148,1679010.0507582603 1333574.6315689876,1679011.2613608108 1333566.2411687013,1679012.4719633614 1333557.850768415,1679013.6776646872 1333548.0693614346,1679015.3881921778 1333538.2911230342,1679017.0889172184 1333528.509716054,1679018.7896422592 1333518.7314776536,1679020.5001697496 1333509.2891087513,1679022.9899919995 1333499.8499084292,1679025.489616699 1333490.4107081068,1679027.979438949 1333480.9715077847,1679030.4790636485 1333471.5291388824,1679032.9688858984 1333462.8503978006,1679035.7086706182 1333454.171656719,1679038.4386528882 1333445.489747057,1679041.168635158 1333436.8110059751,1679043.908419878 1333428.6392377205,1679044.5602827899 1333420.4706380458,1679045.2121457017 1333412.3115441117,1679045.849304939 1333404.1397758569,1679046.5011678506 1333395.6004523027,1679047.0010927906 1333387.0611287483,1679047.5010177305 1333378.5091308733,1679047.9911402205 1333370.9995958738,1679048.5596823092 1333363.4805551337,1679049.118421948 1333355.9710201342,1679049.6820628117 1333355.9900316151,1679049.2703599199 1333349.3391818414,1679044.4181472678 1333342.7010063883,1679039.5610333905 1333336.0501566143,1679034.7088207384 1333329.3993068405,1679029.8517068613 1333324.1616438217,1679022.568486658 1333318.920812223,1679015.2901676798 1333312.9385328647,1679010.2223011318 1333306.9594220866,1679005.149533359 1333300.9898170491,1679000.0816668111 1333295.0107062708,1678995.0187014882 1333290.3212076214,1678989.7498847195 1333285.6285403918,1678984.4712655009 1333280.9295360018,1678979.202448732 1333273.809736363,1678972.5220791916 1333268.5593990237,1678965.5819447315 1333263.3090616842,1678958.6418102714 1333258.058724345,1678951.701675811 1333252.8115555858,1678944.761541351 1333251.6201694424,1678943.7322841217 1333246.610644196,1678938.1988012083 1333241.5916132089,1678932.66041707 1333234.4211162874,1678926.6123055418 1333226.7404779587,1678919.2212583907 1333219.7791073283,1678912.4281606777 1333212.8304110186,1678905.6497666393 1333216.6897416639,1678898.4302623598 1333220.5490723094,1678891.22056053 1333224.1485793807,1678885.0009061303 1333227.7512550324,1678878.7812517306 1333227.8494810178,1678878.6097088591 1333214.2911264764,1678861.2495702591 1333188.4988839042,1678861.5191376286 1333170.19082769,1678869.4689244183 1333151.2490554422,1678880.3104339 1333123.8186569228,1678891.8087075183 1333099.8800337492,1678889.6913783608 1333081.5212802526,1678874.5220872916 1333082.769700839,1678856.9511960207 1333094.1290607434,1678833.7978095873 1333113.3306565648,1678819.1921593817 1333122.7001481233,1678812.2912347207 1333127.598773064,1678801.9300452794\" opacity=\"0.8\" /><polyline fill=\"none\" stroke=\"#66cc99\" stroke-width=\"35.288784000004334\" points=\"1333127.598773064,1678801.9300452794 1333121.2996356888,1678795.5780578076 1333114.9909925733,1678789.2211691106 1333108.6886866179,1678782.8593791889 1333100.928833785,1678778.041475111 1333093.1689809521,1678773.2088673583 1333085.4186338598,1678768.3909632803 1333078.488949031,1678765.8521287816 1333071.5592642026,1678763.3181955076 1333062.5700022643,1678761.6419765914 1333053.5712345855,1678759.9706589002 1333044.2714517906,1678763.2887881582 1333038.2891724324,1678770.4200703895 1333032.3005559137,1678777.5513526208 1333030.500802378,1678782.4917873212 1333028.6915431018,1678787.4224195718 1333023.5711175494,1678794.4997883292 1333018.4506919968,1678801.5820583114 1333013.320760704,1678808.659427069 1333008.2985611367,1678815.697586027 1333007.8201055313,1678816.3690538385 1333000.598911327,1678818.8784809879 1332993.3903914436,1678821.3977105871 1332984.2807234589,1678821.7309938804 1332975.1710554743,1678822.0691783987 1332967.3890225803,1678825.5490480785 1332959.6196640069,1678829.0289177585 1332953.9415683448,1678834.018364708 1332948.2603041024,1678839.022515332 1332942.5790398603,1678844.0119622815 1332936.859752656,1678849.6777782673 1332931.1499711922,1678855.348495478 1332925.430683988,1678861.0192126888 1332920.7506910788,1678866.0478694374 1332916.07069817,1678871.0912298607 1332911.390705261,1678876.1198866095 1332906.821612658,1678884.819560809 1332901.4001719893,1678890.9509931605 1332895.978731321,1678897.0677218372 1332887.9495491737,1678896.4795748491 1332879.910861286,1678895.8914278608 1332870.3512549174,1678895.7002800899 1332860.7789742283,1678895.5091323187 1332852.1002331465,1678897.3814002308 1332843.4214920648,1678899.2585693682 1332839.01082847,1678905.272372322\" opacity=\"0.8\" /><polyline fill=\"none\" stroke=\"#66cc99\" stroke-width=\"35.288784000004334\" points=\"1332839.01082847,1678905.272372322 1332848.7003466256,1678909.2717718412 1332874.2010798224,1678913.1780480875 1332899.0300740234,1678914.5307861604 1332918.70061971,1678917.1921512817 1332934.3185513609,1678923.3382873079 1332943.6690314382,1678940.399451189 1332959.809778817,1678957.0979244274 1332979.0493976006,1678947.9620412115 1332989.879604617,1678932.3320350016 1333001.5811711794,1678916.3491405987 1333016.1091112522,1678914.0210587706 1333032.8994175657,1678927.401402751 1333046.3785576029,1678950.1087777184\" opacity=\"0.8\" /><polyline fill=\"none\" stroke=\"#66cc99\" stroke-width=\"35.288784000004334\" points=\"1333046.3785576029,1678950.1087777184 1333068.50158434,1678949.0011008906 1333093.5492105724,1678949.9911483207 1333114.4713454256,1678953.8190049685 1333132.1076626438,1678964.4987740284 1333136.8098356142,1678972.6740171635 1333139.198945061,1678979.751385921\" opacity=\"0.8\" /><polyline fill=\"none\" stroke=\"#66cc99\" stroke-width=\"35.288784000004334\" points=\"1333139.198945061,1678979.751385921 1333139.2052822215,1678979.746484696 1333146.071595447,1678973.4778180474 1333152.7509624423,1678967.3806942701 1333163.8314872917,1678956.4705676401 1333174.4113764747,1678940.149488719 1333195.9894074227,1678934.4493641588 1333215.5902443454,1678940.6298087593 1333232.139738566,1678955.7402851298 1333250.4604691006,1678975.9186280482 1333263.9110919163,1679000.7678382974 1333269.3388697451,1679013.9521332816 1333290.7109429822,1679025.2102468798 1333311.8200240652,1679040.6000930697 1333321.1705041428,1679057.739676549 1333325.6413707605,1679093.2098411594 1333324.0412377755,1679096.949475759 1333321.0691095772,1679103.9092151187 1333318.090644219,1679110.8591520286 1333315.1185160207,1679117.8188913884 1333317.2889934361,1679123.6219416715 1333319.4594708516,1679129.4200907296 1333326.2497381528,1679134.4879572776 1333333.0495111947,1679139.5607250503 1333339.8492842366,1679144.638394048 1333346.6395515378,1679149.7111618207 1333353.4393245794,1679154.7790283686 1333353.3791215564,1679163.2385425481 1333353.3315928539,1679171.7078591774 1333353.2713898306,1679180.1722745819 1333353.2111868074,1679188.6317887614 1333353.1604895247,1679197.0913029409 1333353.1002865015,1679205.5508171204 1333352.2606127567,1679214.2897011193 1333351.4114332716,1679223.028585118 1333350.5590852064,1679231.7821727917 1333349.7194114616,1679240.5210567906 1333350.8601003224,1679249.9706184003 1333352.0102949236,1679259.4201800097 1333353.1604895247,1679268.879544069 1333354.3011783853,1679278.3291056787 1333355.4513729867,1679287.7786672881 1333356.6015675878,1679297.2282288978 1333357.7390878682,1679306.6924941821 1333358.8892824694,1679316.1420557916 1333360.0394770706,1679325.5916174012 1333361.189671672,1679335.0411790106 1333362.3303605325,1679344.4907406203 1333363.0496282307,1679353.631525061 1333363.768895929,1679362.7625070522 1333364.4913322076,1679371.8885878182 1333365.2105999058,1679381.019569809 1333365.9203618634,1679390.1505518002 1333369.5800719582,1679398.0121165416 1333373.2302763124,1679405.8687800583 1333376.8804806666,1679413.72054235 1333380.5306850208,1679421.5821070918 1333385.7810223603,1679428.522241552 1333391.0313596996,1679435.462376012 1333396.2912027794,1679442.402510472 1333401.5415401186,1679449.3377437072 1333401.658777585,1679458.9686506381 1333401.7791836313,1679468.599557569 1333401.338750988,1679476.1621475918 1333400.9014869246,1679483.7296388391\" opacity=\"0.8\" /><polyline fill=\"none\" stroke=\"#66cc99\" stroke-width=\"35.288784000004334\" points=\"1333400.9014869246,1679483.7296388391 1333404.5295112177,1679490.738390448 1333408.1702098313,1679497.7520432817 1333411.8014027046,1679504.7509924406 1333415.4294269977,1679511.7597440493 1333417.2165062127,1679514.7788985884 1333420.1411057082,1679519.709530839 1333424.8496158388,1679527.659317629 1333429.250773693,1679532.761492751 1333433.648762967,1679537.8587666485 1333438.049920821,1679542.9609417706 1333441.2311753104,1679550.4010011705 1333444.41876696,1679557.8508630204 1333447.6000214492,1679565.2909224206 1333450.7812759385,1679572.7309818205 1333455.1887709529,1679578.7888957984 1333459.5994345476,1679584.8615134512 1333464.2192244334,1679590.9390323285 1333469.2414240006,1679597.1684891782 1333474.2604549876,1679603.3881435778 1333479.2794859747,1679609.622501652\" opacity=\"0.8\" /><polyline fill=\"none\" stroke=\"#66cc99\" stroke-width=\"35.288784000004334\" points=\"1333479.2794859747,1679609.622501652 1333486.0095502527,1679606.3778907675 1333492.7491202713,1679603.1479835575 1333493.2402501975,1679596.4382066678 1333493.7313801236,1679589.728429778 1333494.2193414695,1679583.028455338 1333495.6610454463,1679574.9218293515 1333497.0900751022,1679566.8201045897 1333504.7390276291,1679561.9286821382 1333512.4006544768,1679557.032358462 1333518.9786269069,1679550.2000509496 1333525.5692736574,1679543.3677434374 1333532.1504146676,1679536.54033715 1333540.6612210004,1679534.3396871693 1333549.1815330738,1679532.1390371886 1333555.090935088,1679527.6201078298 1333561.0003371025,1679523.1011784708 1333566.9002333763,1679518.572446662 1333573.8204124647,1679516.6021542517 1333580.7405915528,1679514.6318618415 1333584.3559415252,1679513.6026046122 1333587.660770641,1679512.6615694312 1333595.1101026172,1679512.5292363588 1333602.5594345937,1679512.3920020615 1333609.9992608295,1679512.2596689893 1333614.219809614,1679505.1921026816 1333614.729951021,1679497.8990800288 1333615.2305866878,1679490.6011561507 1333615.740728095,1679483.3081334976 1333613.5290591372,1679474.9319401416 1333611.3205587596,1679466.5410431107 1333602.660829159,1679464.0708257605 1333594.0106052987,1679461.60060841 1333585.350875698,1679459.13039106 1333576.7006518377,1679456.6601737097 1333568.040922237,1679454.1899563596 1333560.2905751448,1679449.7298416994 1333552.5402280523,1679445.279529489 1333544.78988096,1679440.819414829 1333537.0395338677,1679436.3691026187 1333537.6510698402,1679428.1301435598 1333538.2499314921,1679419.8911845007 1333542.8507098968,1679411.5296948194 1333547.4514883016,1679403.1780075876\" opacity=\"0.8\" /><polyline fill=\"none\" stroke=\"#66cc99\" stroke-width=\"35.288784000004334\" points=\"1332709.6091829655,1680181.6591635488 1332702.2295597529,1680179.37029152 1332694.8404307996,1680177.081419491 1332687.460807587,1680174.7925474623 1332680.071678634,1680172.5085766583 1332673.1198137442,1680170.2491119788 1332666.1711174345,1680167.999449749 1332659.2192525445,1680165.7497875195 1332654.1590300153,1680170.1216801314 1332649.098807486,1680174.4886715184 1332648.7470950873,1680174.7925474623 1332644.038584957,1680178.8605641301 1332634.2191550145,1680179.0909217007 1332624.399725072,1680179.321279271 1332617.3211169755,1680174.4396592693 1332610.2488460392,1680169.5482368178 1332603.179743683,1680164.6715180413 1332596.1011355864,1680159.7898980395 1332589.02886465,1680154.898475588 1332581.9502565535,1680150.0217568115 1332574.0890091553,1680144.1696942793 1332566.2214245966,1680138.322532972 1332558.350671458,1680132.4802728898 1332550.4894240596,1680126.6282103579 1332542.618670921,1680120.7810490506 1332534.7510863624,1680114.9289865186 1332528.3790716433,1680110.8217600514 1332522.0102255046,1680106.6998299095 1332515.6413793657,1680102.5877022173 1332509.2693646466,1680098.4706733003 1332508.6388171932,1680101.1712482208 1332499.6812410566,1680103.4111080007 1332490.7204963397,1680105.6607702305 1332481.7692573636,1680107.9006300103 1332476.9910384694,1680114.0712721609 1332472.2191567356,1680120.2321118617 1332467.4409378413,1680126.3880503378 1332462.6690561073,1680132.5488900386 1332462.0004856917,1680141.9298344995 1332461.3192409556,1680151.3107789604 1332460.65067054,1680160.7015258712 1332460.029628827,1680169.4698172195 1332459.408587114,1680178.2479110176 1332458.790713981,1680187.0309060407 1332458.169672268,1680195.8089998388 1332464.769824759,1680202.7491342989 1332471.3699772502,1680209.6990712087 1332477.960624001,1680216.6490081188 1332484.0601408253,1680222.388342478 1332490.1501519096,1680228.1276768374 1332496.2401629935,1680233.8719124217 1332504.7699808073,1680238.5917920014 1332513.299798621,1680243.321474031 1332521.8296164349,1680248.0511560608 1332526.6902184135,1680254.8491549988 1332531.550820392,1680261.6520551618 1332536.39874805,1680268.4500540998 1332540.549588071,1680276.9585805282 1332544.7004280917,1680285.4720081817 1332548.8512681127,1680293.99033706 1332555.9900792325,1680299.7786836685 1332563.1415646728,1680305.5719315016 1332570.2898815332,1680311.36027811 1332577.428692653,1680317.1486247184 1332585.0903195005,1680317.702463132 1332592.7392720275,1680318.2415978713 1332600.3913931346,1680318.7807326105 1332607.580901537,1680317.5309202606 1332614.7704099398,1680316.271305461 1332621.9504126017,1680315.0214931113 1332628.328764481,1680308.4195431692 1332634.7102849407,1680301.8077907774 1332641.0791310794,1680295.2107420603 1332649.0702902647,1680295.7400743498 1332657.0614494497,1680296.279209089 1332665.4613554766,1680293.3286716985 1332673.8612615035,1680290.378134308 1332682.2516617898,1680287.4177944674 1332690.6515678167,1680284.4721583019 1332699.0514738439,1680281.5216209113 1332702.850601466,1680290.618294328 1332706.649729088,1680299.7100665197 1332710.7815576277,1680306.7188181286 1332714.900711847,1680313.7177672875 1332719.019866066,1680320.7216176712 1332723.1485260257,1680327.7205668304 1332727.270848825,1680334.729318439 1332728.4495606478,1680343.2819558918 1332729.6314410507,1680351.8394945692 1332730.800647133,1680360.4019344717 1332731.9793589555,1680368.9594731492 1332733.1612393586,1680377.5121106019 1332736.0509844723,1680386.9910795607 1332738.9312238456,1680396.46024607 1332741.8209689592,1680405.939215029 1332744.710714073,1680415.418183988 1332744.5903080266,1680423.7894761192 1332744.4699019801,1680432.1607682505 1332744.3494959339,1680440.5320603817 1332744.2195841467,1680448.8984512882 1332743.6904312586,1680456.8090282788 1332743.1612783705,1680464.7098028194 1332742.6416312228,1680472.321405091 1332742.1093097546,1680479.9379085875 1332741.5896626068,1680487.5495108592 1332741.5611453855,1680496.3815181311 1332741.5389653242,1680505.218426628 1332741.5104481026,1680514.0504339002 1332747.85077702,1680516.2706887804 1332754.1911059374,1680518.4909436607 1332760.5314348547,1680520.7210009908 1332769.729823084,1680524.3185000683 1332778.9313798936,1680527.9307028204 1332788.1202623826,1680531.5282018979 1332796.9891182743,1680532.1506574603 1332805.8611427464,1680532.7780142478 1332814.7204928978,1680533.4004698102 1332823.5893487895,1680534.0180241477 1332827.0114153717,1680527.7787648486 1332830.420807633,1680521.5395055492 1332833.8397056349,1680515.30024625 1332840.7788962042,1680509.889293959 1332847.708581033,1680504.4783416681 1332854.6509401822,1680499.072290602 1332861.7612340804,1680499.5624130922 1332868.8810337193,1680500.0525355823 1332876.0008333581,1680500.5524605222 1332884.191613094,1680501.7189520486 1332892.3792242494,1680502.90014725 1332900.5700039852,1680504.081342451 1332932.42057184,1680504.6008722906 1332945.6208768222,1680493.1810182708 1332950.110754921,1680479.3693664991 1332951.2102522396,1680463.538410068 1332951.7615851888,1680455.6278330775 1332952.309749558,1680447.7221573119 1332951.5112673554,1680440.8506400003 1332950.7096165728,1680433.969320239 1332949.8414256067,1680426.5880755377 1332948.979571801,1680419.2117320613 1332949.0587863051,1680411.7079567376 1332949.1411693895,1680404.2090826388 1332949.2203838937,1680396.7102085399 1332949.299598398,1680389.2015319911 1332945.4909650353,1680380.0999573497 1332941.6791630925,1680370.998382708 1332941.520734084,1680370.6209883906 1332938.6404947108,1680363.7200637297 1332935.5891520083,1680356.4417447515\" opacity=\"0.8\" /><polyline fill=\"none\" stroke=\"#66cc99\" stroke-width=\"35.288784000004334\" points=\"1332935.5891520083,1680356.4417447515 1332932.5504836268,1680349.1585245482 1332924.7114162897,1680346.84024517 1332916.878686113,1680344.5121633417 1332909.1980477844,1680343.4534987633 1332908.0795389847,1680343.3015607912 1332899.2803918566,1680342.0909582407 1332890.490750469,1680340.8803556901 1332882.2809592523,1680339.1306184004 1332874.0806737759,1680337.3906835604 1332865.870882559,1680335.6507487204 1332858.4690792854,1680332.9403713502 1332851.0609388512,1680330.2299939797 1332843.6591355775,1680327.5294190592 1332836.2509951433,1680324.8190416887 1332830.1895012807,1680317.9377219274 1332824.1311759984,1680311.0515009412 1332818.069682136,1680304.17018118 1332813.6305013197,1680297.6809594107 1332809.1913205036,1680291.2015400913 1332804.7489711072,1680284.712318322 1332800.3097902911,1680278.2279977778 1332794.9485526457,1680272.5376756673 1332789.5999893213,1680266.8620572318 1332784.238751676,1680261.1717351214 1332778.8901883515,1680255.4814130112 1332773.5289507061,1680249.8008933505 1332768.1803873817,1680244.1105712403 1332762.8191497363,1680238.4300515798 1332757.4610806713,1680232.7397294694 1332750.629621828,1680225.4516080413 1332743.7886572438,1680218.1487829385 1332736.95086124,1680210.8508590604 1332730.1194023967,1680203.5480339576 1332723.281606393,1680196.2501100798 1332721.9191169203,1680194.7944462842 1332716.4501475494,1680188.952186202 1332709.6091829655,1680181.6591635488\" opacity=\"0.8\" /><polyline fill=\"none\" stroke=\"#66cc99\" stroke-width=\"35.288784000004334\" points=\"1334938.7306802026,1678897.2098573593 1334934.449928395,1678903.2089566384 1334928.210994043,1678919.25066574 1334925.3402604102,1678929.3618927114 1334929.6495294396,1678937.9586411882 1334940.1406983777,1678957.7889971384 1334951.439855259,1678967.3512869207 1334953.4614094065,1678968.7481360177 1334955.3815689886,1678977.462513892 1334957.2985599905,1678986.1621880918 1334960.071067638,1678992.999396829 1334962.8404067054,1678999.8513092408 1334970.9488033568,1679001.6108489803 1334979.0508628478,1679003.37038872 1334986.291068533,1679006.1787905884 1334993.5312742183,1679009.0018961313 1335000.7588055828,1679011.8102979998 1335001.2087439667,1679018.9219753314 1335001.6491766102,1679026.0287514383 1335008.6992674852,1679031.9200237696 1335015.7588641008,1679037.801493651 1335020.5592630561,1679043.5310255606 1335025.3596620117,1679049.2507550202 1335030.160060967,1679054.9802869298 1335028.5314107605,1679063.4299986595 1335026.8900862332,1679071.8797103893 1335030.8096199017,1679079.3197697892 1335034.7196478297,1679086.7696316391 1335041.4687235886,1679091.3522769217 1335048.2114621873,1679095.9398234293 1335054.9605379466,1679100.532271162 1335058.0594093513,1679104.8698551995 1335061.1614493364,1679109.2221429117 1335067.0391655492,1679115.0300944196 1335072.9105446015,1679120.8282434777 1335078.750237852,1679124.4306437802 1335084.589931103,1679128.0183404079 1335090.4391300941,1679131.6109382606 1335090.6387506446,1679131.738370108 1335088.9213801934,1679139.6391446486 1335087.2103469023,1679147.5301167397 1335085.4898078707,1679155.4308912805 1335086.2502671112,1679164.4491450987 1335087.0012206112,1679173.4723001418 1335087.9898176237,1679180.6721995217 1335088.968908896,1679187.8720989015 1335094.8402879483,1679193.6702479597 1335100.7116670005,1679199.468397018 1335098.3605805156,1679206.7516172212 1335096.0094940304,1679214.0299361995 1335093.6615761255,1679221.3180576276 1335087.9201088601,1679226.0281347577 1335082.1786415947,1679230.7382118877 1335084.501210858,1679236.8010270905 1335086.8206115416,1679242.8589410684 1335091.3516811826,1679248.348312958 1335095.8700765031,1679253.8376848472 1335100.4011461441,1679259.3319579614 1335100.0114107833,1679267.0807945305 1335099.6216754226,1679274.8296310992 1335099.2414458024,1679282.5882701178 1335102.1406966567,1679288.7000975697 1335104.07986772,1679292.7681142376 1335116.5102077213,1679303.668438418 1335132.5115375726,1679316.9017456514 1335143.5413651394,1679335.1195986092 1335159.270197096,1679357.008469018 1335166.5199085218,1679375.7605554902 1335182.9616710166,1679415.0585767482 1335192.2804652925,1679439.339244909 1335201.1208039627,1679459.0421690117 1335206.7893938844,1679471.4716753613 1335213.3198376119,1679483.548293518 1335219.7900783161,1679489.5817013714\" opacity=\"0.8\" /><polyline fill=\"none\" stroke=\"#66cc99\" stroke-width=\"35.288784000004334\" points=\"1335219.7900783161,1679489.5817013714 1335221.5708203707,1679487.4202611898 1335226.0892156912,1679481.9210868506 1335230.6202853322,1679476.4317149613 1335236.58989037,1679472.2215627711 1335242.5594954074,1679468.0212130307 1335248.529100445,1679463.8110608407 1335254.0202498771,1679460.919338149 1335259.5113993094,1679458.0178130073 1335265.820042425,1679465.2618234113 1335272.1413598612,1679472.4911301406 1335273.6686155025,1679479.5586964483 1335275.199039724,1679486.6409664305 1335276.7294639454,1679493.708532738 1335278.789041055,1679502.3984044879 1335280.8612924851,1679511.088276238 1335282.9303753353,1679519.7781479878 1335284.9899524448,1679528.4680197376 1335286.441162162,1679536.981447391 1335287.889203299,1679545.4997762693 1335289.330907276,1679554.0181051476 1335291.9608288158,1679562.2521629818 1335294.5907503557,1679570.4911220407 1335297.211166155,1679578.7300810998 1335299.841087695,1679586.9690401587 1335299.3499577688,1679596.732280162 1335298.8588278429,1679606.4906189402 1335298.3708664968,1679616.2489577185 1335297.8797365706,1679626.0121977217 1335303.5388207517,1679631.06045937 1335309.2105792535,1679636.1087210183 1335314.8791691752,1679641.1618838916 1335323.6814848834,1679644.3378776275 1335332.4806320115,1679647.5187725883 1335341.2797791397,1679650.6996675492 1335346.1213696373,1679647.7687350584 1335350.9692972952,1679644.8378025673 1335355.1613288582,1679637.2507064203 1335359.3501918411,1679629.668511498\" opacity=\"0.8\" /><polyline fill=\"none\" stroke=\"#66cc99\" stroke-width=\"35.288784000004334\" points=\"1335359.3501918411,1679629.668511498 1335363.580246366,1679623.2577093274 1335367.8103008913,1679616.8518083815 1335372.0308496759,1679610.431203761 1335372.540991083,1679601.2806168701 1335373.0511324902,1679592.12022753 1335373.5612738973,1679582.9598381894 1335374.0714153044,1679573.809251299 1335371.6316085747,1679566.4917225214 1335369.1886332645,1679559.1594900691 1335366.7615008554,1679551.8419612916 1335364.3185255455,1679544.519531289 1335358.6594413645,1679537.1922000619\" opacity=\"0.8\" /><polyline fill=\"none\" stroke=\"#66cc99\" stroke-width=\"35.288784000004334\" points=\"1335358.6594413645,1679537.1922000619 1335353.0003571834,1679529.8599676096 1335347.341273002,1679522.5179327074 1335343.4787737767,1679516.989351019 1335339.6194431314,1679511.4509668807 1335335.760112486,1679505.9076815173 1335333.2696084736,1679498.8205103101 1335330.779104461,1679491.738240328 1335328.2886004485,1679484.6510691207 1335325.1105145395,1679477.5197868894 1335321.9292600502,1679470.3787022082 1335318.7511741412,1679463.242518752 1335315.7315172404,1679455.699533629 1335312.7308718208,1679448.161449731 1335309.71121492,1679440.618464608 1335311.2796621036,1679431.242421372 1335312.851277867,1679421.861476911\" opacity=\"0.8\" /><polyline fill=\"none\" stroke=\"#66cc99\" stroke-width=\"35.288784000004334\" points=\"1335312.851277867,1679421.861476911 1335304.1693682054,1679398.492436582 1335298.5102840243,1679375.319445249 1335298.2187746486,1679347.2011179908 1335292.4392844213,1679320.298294508 1335272.2712716481,1679291.4496847393 1335249.7806896116,1679265.7280564576 1335230.6202853322,1679250.5881727377 1335206.7386966017,1679247.892499042 1335191.729132343,1679264.4782441077 1335178.8013252553,1679275.8588883285 1335168.4685853256,1679285.798572428 1335159.7296412205,1679296.6792917089 1335157.030010917,1679299.36026173 1335150.4393641662,1679282.7304056399 1335147.6605193585,1679265.159514369 1335159.3589173409,1679253.6808456504 1335165.8513381062,1679239.7319595816 1335162.8792099082,1679224.621483211 1335148.63010489,1679215.652241642 1335131.5007604987,1679201.0907024601 1335122.0298743749,1679173.4919050415 1335132.6604608404,1679149.1181136076 1335139.2606133316,1679123.1906338802 1335132.0806106697,1679092.881459091 1335120.6103504593,1679064.302416692 1335110.5501084242,1679033.7677855573 1335104.761112456,1679012.241605791 1335099.460077834,1678999.248458578 1335098.4809865619,1678996.8713645008 1335091.2502866173,1678988.4608625704 1335089.9986974506,1678982.6480098376 1335089.589950609,1678981.6579624075 1335086.78892574,1678974.8893708189 1335079.5804058565,1678971.6888709583 1335072.3687173927,1678968.4981735477 1335066.7191389522,1678963.1509371805 1335061.0695605115,1678957.7987995883 1335055.419982071,1678952.4417607712 1335052.7805547905,1678943.9479380175 1335049.3394767274,1678937.6792713688 1335045.911072985,1678931.41060472 1335041.741221483,1678926.2986271481 1335037.5808757218,1678921.191550801 1335030.2297697307,1678918.2214085108 1335022.8786637397,1678915.2512662208 1335014.7385812865,1678914.501378811 1335008.509152675,1678912.1880006576 1335002.2892298042,1678909.8697212792 1334996.6903486464,1678907.051516961 1334991.11998471,1678904.1793991688 1334985.540115033,1678901.3121826018 1334979.7606248057,1678900.7191343887 1334973.9811345781,1678900.1309874004 1334967.3207790637,1678903.821609751 1334960.6604235494,1678907.502429652 1334954.579918206,1678905.3900017196 1334948.489907122,1678903.282475012 1334943.6102936622,1678900.248616798 1334938.7306802026,1678897.2098573593\" opacity=\"0.8\" /><polyline fill=\"none\" stroke=\"#66cc99\" stroke-width=\"35.288784000004334\" points=\"1332957.7692131884,1677897.8500999995 1332940.6493745376,1677909.9169157064 1332920.7601968194,1677923.9393201487 1332884.1314100707,1677944.0392434685 1332858.1015239859,1677974.7209113503 1332856.2700846484,1677979.543716653 1332845.6711839845,1678007.5003034896 1332833.481656076,1678043.1812207706 1332825.6013971968,1678069.608625438 1332821.3301511295,1678085.0817924512\" opacity=\"0.8\" /><polyline fill=\"none\" stroke=\"#66cc99\" stroke-width=\"35.288784000004334\" points=\"1332821.3301511295,1678085.0817924512 1332818.6305208257,1678094.8597361292 1332815.569672383,1678117.439679249 1332814.6602898745,1678138.9217479911 1332810.5791586174,1678151.091489421 1332812.4391151764,1678174.808516718 1332818.3390114503,1678187.1890108185 1332821.3491626105,1678192.3401981895 1332831.7389369833,1678203.681632611\" opacity=\"0.8\" /><polyline fill=\"none\" stroke=\"#66cc99\" stroke-width=\"35.288784000004334\" points=\"1332831.7389369833,1678203.681632611 1332832.2205611689,1678195.8200678695 1332832.7085225147,1678187.9585031278 1332833.1901467005,1678180.1018396113 1332834.1185406898,1678171.2992396886 1332835.0501032593,1678162.5113434407 1332838.2535378097,1678156.1789608684 1332839.0203342107,1678154.6693835987 1332842.990565162,1678146.8323249817 1332844.758632896,1678143.0877891572 1332848.2313967606,1678150.63077428 1332851.7009920452,1678158.1688581782 1332855.1610815893,1678165.721645751 1332858.630676874,1678173.2597296492 1332862.090766418,1678180.7978135473 1332866.320820943,1678188.1888606984 1332870.5508754682,1678195.5701053995 1332874.7714242528,1678202.9611525505 1332879.0014787777,1678210.3521997016 1332883.2315333027,1678217.7383456277 1332887.4489135072,1678225.119590329 1332894.9901343083,1678219.1106886 1332902.5313551095,1678213.0919844215 1332910.0694073306,1678207.0781814675 1332917.6106281318,1678201.0692797387 1332920.6588022541,1678192.3990128883 1332923.7101449564,1678183.7287460382 1332926.7614876588,1678175.0584791878 1332929.8001560403,1678166.378409888 1332932.8514987428,1678157.7179454872 1332936.2513852636,1678149.8808868702 1332939.638597464,1678142.0487294781 1332943.041652565,1678134.211670861 1332946.4415390857,1678126.3795134688 1332949.828751286,1678118.5424548518 1332950.5099960223,1678108.8919430214 1332951.178566438,1678099.2414311909 1332951.859811174,1678089.5909193603 1332952.5410559103,1678079.9404075297 1332953.2096263259,1678070.2800932494 1332953.3712239144,1678062.207775837 1332953.5296529229,1678054.1403596497 1332953.6912505114,1678046.0680422373 1332953.84967952,1678038.00062605 1332954.0112771085,1678029.9283086376 1332952.6012589335,1678020.929659719 1332951.1912407584,1678011.9408132501 1332949.7812225835,1678002.9421643314 1332948.3712044084,1677993.938614188 1332946.9611862334,1677984.949767719 1332946.2799414971,1677975.4707987602 1332945.6113710816,1677966.001632251 1332944.9301263455,1677956.517762067 1332945.2152985604,1677952.8369421663 1332945.5511680583,1677948.4993581288 1332946.1595354509,1677940.4809541903 1332946.780577164,1677932.4478465773 1332949.0112576026,1677923.228642538 1332951.2292637206,1677913.999636049 1332953.4599441593,1677904.7804320098 1332957.7692131884,1677897.8500999995\" opacity=\"0.8\" /><polyline fill=\"none\" stroke=\"#66cc99\" stroke-width=\"35.288784000004334\" points=\"1332979.809856841,1682496.6204125704 1332988.2889773722,1682494.2482197182 1332995.0792446735,1682490.582103492 1333001.8695119747,1682486.920888491 1333008.659779276,1682483.2498710398 1333011.758650681,1682477.2703766604 1333014.8701964065,1682471.2908822808 1333021.590754944,1682477.6085611784 1333028.3208192221,1682483.931141301 1333035.0508835001,1682490.2488201987 1333041.7809477781,1682496.5714003213 1333043.9609309342,1682503.8497192997 1333046.1314083496,1682511.1378407278 1333048.3113915056,1682518.421060931 1333050.4913746617,1682525.6993799093 1333058.7296831,1682523.2389650089 1333066.9616543779,1682520.7883525584 1333075.1999628162,1682518.327937658 1333083.428765514,1682515.8724239825 1333087.5700997943,1682507.2315644815 1333091.7209398153,1682498.6005074305 1333095.8591055153,1682489.9596479295 1333100.0004397957,1682481.3187884288 1333104.138605496,1682472.6877313778 1333108.279939776,1682464.0517731018 1333115.0892185585,1682457.9595505495 1333121.9016659209,1682451.882031672 1333128.710944703,1682445.78980912 1333135.5202234855,1682439.7024877924 1333142.3295022678,1682433.6102652403 1333149.1514553707,1682427.5278451378 1333155.960734153,1682421.4405238105 1333162.9411162643,1682417.5293463394 1333169.9310041163,1682413.6279713179 1333176.920891968,1682409.7216950718 1333183.9012740795,1682405.8203200502 1333190.659855579,1682400.571108181 1333197.4216056587,1682395.3316987618 1333204.1801871583,1682390.0922893423 1333210.938768658,1682384.8479786979 1333217.7005187378,1682379.6085692786 1333222.7512355265,1682373.178162208 1333227.798783735,1682366.737952688 1333232.8495005236,1682360.3124468424 1333237.9002173124,1682353.882039772 1333242.9604398417,1682347.4516327016 1333244.1993546875,1682338.7078474779 1333245.4509438542,1682329.968963479 1333246.6993644405,1682321.23007948 1333247.3394176345,1682312.7607628508 1333247.9794708288,1682304.2816437716 1333248.6290297632,1682295.8123271423 1333249.2690829572,1682287.3283068382 1333249.9186418918,1682278.858990209 1333250.5586950858,1682270.3798711298 1333245.7994876727,1682262.5477137377 1333241.0402802594,1682254.7106551207 1333236.2810728464,1682246.8686952787 1333231.518696853,1682239.0414391113 1333222.519929174,1682239.6884007982 1333213.5306672358,1682240.3304612604 1333209.8804628816,1682240.6000286299 1333186.0115484719,1682243.521158671 1333172.3201135634,1682245.908055198 1333164.3606401798,1682239.0414391113 1333167.408814302,1682225.808131878 1333171.2713135276,1682213.06004591 1333175.3714562657,1682196.9497196598 1333180.6693223075,1682181.7804285905 1333182.7891024402,1682163.8615503516 1333179.0501778414,1682145.0996614296 1333161.2015657518,1682134.5816327916 1333142.6115059028,1682128.6413482113 1333125.9099198342,1682131.6507003007 1333115.3205249107,1682138.0517000216 1333102.1804229517,1682156.4508983009 1333092.6493338046,1682171.7378187678 1333088.219658729,1682186.559122869 1333085.700637495,1682192.2592474292 1333079.9211472673,1682200.802082432\" opacity=\"0.8\" /><polyline fill=\"none\" stroke=\"#66cc99\" stroke-width=\"35.288784000004334\" points=\"1333079.9211472673,1682200.802082432 1333087.9503294146,1682203.0125348624 1333097.6208360891,1682205.3308142407 1333104.8388617132,1682207.4824519723 1333111.6386347548,1682210.0408913707 1333118.4415763768,1682212.5895283194 1333123.7109251972,1682218.6082324982 1333128.349726564,1682222.1812254512 1333129.1101858043,1682227.851942662 1333129.8706450448,1682233.507956198 1333128.6095501378,1682238.1592186291 1333124.7090279502,1682245.471846182 1333120.811674343,1682252.7795725095 1333118.1405612607,1682260.6411372512 1333115.4694481788,1682268.487998318 1333115.9700838453,1682277.8983501282 1333116.4707195119,1682287.2988994888 1333107.5289862761,1682286.9999247699 1333098.5904216208,1682286.691147601 1333089.6613627055,1682286.3823704324 1333080.7196294698,1682286.0784944885 1333071.7810648142,1682285.7697173196 1333062.8393315785,1682285.4707426007 1333054.8608467141,1682284.8923980624 1333046.8791932694,1682284.309152299 1333038.9007084048,1682283.7406102105 1333030.9190549604,1682283.162265672 1333022.5001374523,1682282.7113529814 1333014.0685456237,1682282.2506378405 1333005.6401223755,1682281.7997251498 1332997.2212048674,1682281.339010009 1332988.7896130388,1682280.8880973181 1332981.1216490308,1682283.721005311 1332973.4505164428,1682286.5392096292 1332965.788889595,1682289.372117622 1332958.1209255871,1682292.2001243902 1332953.491629961,1682297.4983485083 1332948.868671495,1682302.8014738515 1332944.2393758686,1682308.1095004193 1332936.4890287763,1682308.0996979696 1332928.738681684,1682308.08989552 1332920.9915031719,1682308.0800930702\" opacity=\"0.8\" /><polyline fill=\"none\" stroke=\"#66cc99\" stroke-width=\"35.288784000004334\" points=\"1332920.9915031719,1682308.0800930702 1332911.5206170478,1682307.3792179092 1332902.049730924,1682306.6783427482 1332892.5788448001,1682305.9823688124 1332886.3715962498,1682305.5412585712 1332880.1611791195,1682305.0903458802 1332862.898754361,1682321.4898443997 1332855.8486634858,1682345.8391297092 1332836.678753466,1682365.89984323 1332832.150852405,1682379.7997170496 1332819.441677349,1682407.1093421993 1332817.359920178,1682437.2077643177 1332820.6013776907,1682467.6982844283 1332851.640789022,1682484.3722515423 1332859.7713657345,1682487.3521962822 1332867.898773867,1682490.341943472 1332876.0198448391,1682493.3218882119 1332880.040773073,1682486.4503709003 1332884.0585327267,1682479.569051139 1332888.0794609608,1682472.6877313778 1332894.2993838317,1682468.3697522397 1332900.5288124431,1682464.041970652 1332906.7614096347,1682459.719090289 1332915.5985797248,1682460.8022609924 1332924.4389183952,1682461.8903329202 1332933.2792570656,1682462.9686023986 1332942.1195957358,1682464.0517731018 1332946.2704357568,1682471.5212398511 1332950.4212757775,1682478.980904151 1332954.5689472181,1682486.4503709003 1332958.7102814985,1682493.9100352 1332962.8611215195,1682501.3696994998 1332971.3402420506,1682499.0024078724 1332979.809856841,1682496.6204125704\" opacity=\"0.8\" /><polyline fill=\"none\" stroke=\"#66cc99\" stroke-width=\"35.288784000004334\" points=\"1332696.858816367,1681151.92034867 1332688.3194928127,1681149.9990685089 1332679.789674999,1681148.0777883476 1332672.2294427168,1681145.8085212184 1332664.659704694,1681143.5392540891 1332657.0994724117,1681141.2699869599 1332648.4112255895,1681140.618124048 1332639.7198101871,1681139.9711623609 1332631.0188890442,1681139.3192994492 1332622.330642222,1681138.672337762 1332613.6392268196,1681138.0204748502 1332605.8793739867,1681134.261235351 1332598.1195211539,1681130.5117983017 1332590.3691740616,1681126.7476575775 1332582.6093212287,1681122.9884180783 1332574.139706438,1681122.1797159696 1332565.6795973878,1681121.371013861 1332557.2099825973,1681120.5525093023 1332548.7403678067,1681119.7389059686 1332540.2802587566,1681118.93020386 1332531.8106439658,1681118.1116993015 1332522.9291137534,1681120.5280031778 1332514.0602578616,1681122.949208279 1332505.1914019696,1681125.3606109305 1332496.3098717572,1681127.7818160316 1332487.4410158654,1681130.1883174581 1332479.5702627266,1681133.0310279008 1332471.6995095878,1681135.8786395683 1332463.828756449,1681138.7213500112 1332454.3388588442,1681140.5985191483 1332444.8394554988,1681142.4903919601 1332435.3400521534,1681144.382264772 1332426.4204989788,1681144.078388828 1332417.5009458042,1681143.7794141092 1332408.5813926298,1681143.49024184 1332399.658670875,1681143.1912671211 1332390.7612977617,1681142.5688115587 1332381.860756068,1681141.9512572212 1332372.9602143746,1681141.3288016587 1332365.7485259108,1681140.8288767186 1332358.549511768,1681140.3289517788 1332351.3409918842,1681139.8290268388 1332351.4994208927,1681151.528250678 1332351.1001797915,1681168.942302752 1332352.0602595825,1681178.9702089 1332350.1401000004,1681194.1983146681 1332351.6610184812,1681202.192212482 1332355.168636728,1681211.5780581678 1332367.0508123601,1681226.5414977914 1332384.9691332134,1681238.608313498 1332406.2714976869,1681244.269228259 1332421.8894293378,1681265.31018676 1332422.9889266563,1681266.5403942103 1332428.419873065,1681272.6179130878 1332436.068825592,1681276.3820538118 1332443.7304524397,1681280.141293311 1332451.3794049667,1681283.9005328103 1332459.0410318144,1681287.6695747594 1332466.6899843414,1681291.4288142587 1332474.088619035,1681295.281177031 1332481.4809165683,1681299.1384410283 1332488.879551262,1681302.9908038005 1332496.2686802149,1681306.848067798 1332498.9207818161,1681314.7978545877 1332501.5602090964,1681322.762345052 1332504.199636377,1681330.712131842 1332506.8485693978,1681338.6717210815 1332506.8612437185,1681346.2980270279 1332506.8802551995,1681353.929234199 1332506.8992666805,1681361.5604413704 1332506.908772421,1681369.1916485415 1332505.9201754085,1681377.999149689 1332504.9189040752,1681386.8115520615 1332503.9208013222,1681395.609250759 1332502.3998828412,1681403.2698652798 1332500.8789643603,1681410.9304798003 1332499.3612144594,1681418.5910943209 1332497.8402959786,1681426.2517088416 1332496.9816107529,1681434.5102728002 1332496.1102512067,1681442.7786392085 1332495.251565981,1681451.0421043918 1332494.3897121751,1681459.3006683504 1332499.8111528435,1681466.7113204012 1332505.2294249318,1681474.1317749016 1332510.6603713406,1681481.5424269522 1332520.4291040003,1681483.341176491 1332530.2010052402,1681485.1497284796 1332539.9697379,1681486.9484780184 1332549.7511448804,1681488.7619312317 1332557.9514303568,1681488.409043039 1332566.1612215736,1681488.0708585207 1332574.3615070498,1681487.7277727777 1332582.1910686463,1681484.2920141218 1332590.020630243,1681480.8513542411 1332597.8501918395,1681477.4204968102 1332605.679753436,1681473.9798369296 1332613.5093150325,1681470.539177049 1332614.380674579,1681460.9817884916 1332615.2393598047,1681451.4293011592 1332616.1012136105,1681441.8719126019 1332615.6797924482,1681433.7407804907 1332615.2488655453,1681425.6096483795 1332614.8211072225,1681417.4785162683 1332614.39968606,1681409.352285382 1332613.968759157,1681401.2113508212 1332617.2799254332,1681393.7908963207 1332620.6005974498,1681386.3704418202 1332623.908595146,1681378.9499873198 1332627.2292671625,1681371.5295328193 1332630.5404334387,1681364.1090783188 1332632.4098957381,1681354.8114546812 1332634.2793580377,1681345.5089298189 1332636.1488203371,1681336.211306181 1332638.0214512167,1681326.9087813187 1332639.8909135163,1681317.611157681 1332641.750870075,1681308.3086328185 1332637.1786088918,1681300.7705489204 1332632.6000105483,1681293.2324650222 1332628.0214122047,1681285.6894798994 1332623.4396452808,1681278.161198451 1332618.8610469373,1681270.618213328 1332614.2792800136,1681263.08012943 1332617.1912051884,1681255.5224406323 1332620.0999617833,1681247.9500481598 1332622.9992126375,1681240.3923593622 1332625.9111378125,1681232.8297693396 1332632.0011488965,1681227.5805574704 1332638.0911599805,1681222.3215431513 1332644.1811710645,1681217.072331282 1332650.2711821485,1681211.8084157382 1332657.3814760468,1681206.0298715797 1332664.4790956243,1681200.251327421 1332671.5798837822,1681194.458079588 1332676.1394706448,1681187.9394504693 1332680.6895517667,1681181.4208213505 1332685.239632889,1681174.902192232 1332689.111637855,1681167.2415777114 1332692.9804742408,1681159.5809631909 1332696.858816367,1681151.92034867\" opacity=\"0.8\" /><polyline fill=\"none\" stroke=\"#66cc99\" stroke-width=\"35.288784000004334\" points=\"1333619.200817639,1681388.0025497123 1333619.539855717,1681388.2819195318 1333614.7014337997,1681393.5115265013 1333609.859843302,1681398.7509359207 1333605.0214213845,1681403.9805428905 1333607.2204160215,1681409.1219278118 1333607.809771933,1681410.499172009 1333610.6012910614,1681417.0178011276 1333613.3991473503,1681423.5413314712 1333618.3896611158,1681424.7617364717 1333623.3801748813,1681425.9723390222 1333630.8104953766,1681424.5313789013 1333633.7065776507,1681423.9677380375 1333638.2408158719,1681423.0904187802 1333645.6806421077,1681421.6494586593 1333653.110962603,1681420.2084985382 1333659.6604178115,1681416.5178761878 1333666.20987302,1681412.8419575118 1333672.7593282284,1681409.161137611 1333679.308783437,1681405.4705152602 1333687.600957738,1681406.6125006624 1333695.8994691996,1681407.7495848394 1333704.1916435007,1681408.9013726912 1333712.4806492217,1681410.0384568684\" opacity=\"0.8\" /><polyline fill=\"none\" stroke=\"#66cc99\" stroke-width=\"35.288784000004334\" points=\"1333712.4806492217,1681410.0384568684 1333721.6790374513,1681409.45030988 1333730.8901000014,1681408.8719653417 1333739.3185232496,1681408.7494347193 1333747.7501150782,1681408.622002872 1333755.4085733457,1681406.632105562 1333763.0797059338,1681404.642208252 1333770.7413327815,1681402.6425084923 1333778.548714317,1681402.4807680706 1333786.3592644325,1681402.309225199 1333794.169814548,1681402.1376823275 1333801.498740478,1681403.7403828702 1333802.0405676868,1681412.93017956 1333802.569720575,1681422.1199762498 1333804.3092710874,1681428.32002575 1333806.0488216,1681434.52007525 1333812.2307215089,1681438.2106976006 1333818.418958578,1681441.8915175013 1333824.6103642276,1681445.582139852 1333832.1705965097,1681449.5717369216 1333839.7213230515,1681453.5613339911 1333846.4292072684,1681455.149330859 1333853.1307543248,1681456.742228952 1333859.8291328012,1681458.3204233702 1333862.0186216978,1681450.1794888093 1333864.2112791743,1681442.0385542484 1333864.410899725,1681435.0984197883 1333864.6200260161,1681428.1582853282 1333869.0497010918,1681425.8105986004 1333873.488881908,1681423.458010648 1333881.8190791712,1681424.2814164313 1333886.8000871963,1681430.8000455499 1333891.7810952212,1681437.3186746684 1333900.3616103178,1681440.4407549305 1333908.9389568341,1681443.5579339678 1333915.6405038906,1681441.8719126019 1333922.3515566876,1681440.1907924607 1333924.0816014598,1681432.0204505504 1333925.8116462317,1681423.85010864 1333923.2292533943,1681416.7286288585 1333920.6500291373,1681409.6120503019 1333920.0511674853,1681399.7899955998 1333919.4491372532,1681389.9679408977 1333918.8597813419,1681380.1507874206 1333919.9814587217,1681373.382195832 1333921.1094732615,1681366.6087030186 1333925.5391483372,1681359.5705440603 1333929.968823413,1681352.5176814275 1333934.3889927482,1681345.4795224695 1333940.399789328,1681338.3090304388 1333946.4010801672,1681331.1287359586 1333952.3992024264,1681323.9582439282 1333958.2103784555,1681316.9298874198 1333964.0215544847,1681309.9015309114 1333969.8295619336,1681302.8780756278 1333975.640737963,1681295.8497191195 1333982.1109786672,1681290.2917300817 1333988.5685450507,1681284.7288398186 1333995.038785755,1681279.1708507806 1333999.138928493,1681275.9017337717 1334005.000801805,1681267.8784286082 1334010.869012277,1681259.8698271196 1334015.7613000574,1681252.1405954503\" opacity=\"0.8\" /><polyline fill=\"none\" stroke=\"#66cc99\" stroke-width=\"35.288784000004334\" points=\"1334015.7613000574,1681252.1405954503 1334020.6504192576,1681244.4015613315 1334022.6814791455,1681237.7898089397 1334024.7093704534,1681231.1682540982 1334031.4996377546,1681227.159052129 1334038.2994107965,1681223.14004771 1334044.230992872,1681218.4495754794\" opacity=\"0.8\" /><polyline fill=\"none\" stroke=\"#66cc99\" stroke-width=\"35.288784000004334\" points=\"1334044.230992872,1681218.4495754794 1334037.9413612376,1681214.3178428877 1334025.3906151897,1681208.8578783476 1333988.330901538,1681196.8008650907\" opacity=\"0.8\" /><polyline fill=\"none\" stroke=\"#66cc99\" stroke-width=\"35.288784000004334\" points=\"1333988.330901538,1681196.8008650907 1333995.4602069173,1681201.6579789678 1333993.7111506644,1681209.1519518418 1333991.9494200905,1681216.6508259405 1333984.2687817619,1681218.5819085517 1333980.590060186,1681222.8606778905 1333976.9113386103,1681227.1492496792 1333972.918927598,1681234.7804568503 1333968.9296851659,1681242.4018615717 1333963.36882697,1681248.3225412522 1333957.8111373542,1681254.2285172583 1333952.2502791584,1681260.1393944891 1333948.3402512304,1681266.7217395315 1333944.4397290428,1681273.299183349 1333937.639956001,1681271.1279407179 1333930.8401829593,1681268.9615993113 1333929.7089998391,1681261.4088117387 1333928.5714795587,1681253.8609253909 1333929.7913829235,1681246.1120888218 1333931.0112862885,1681238.358351028 1333930.3807388349,1681230.3987617886 1333929.7501913812,1681222.4293700992 1333923.7995978247,1681221.3216932714 1333917.8394985276,1681220.2091152188 1333912.4687551418,1681224.2918355616 1333907.1011803362,1681228.3598522297 1333901.7304369505,1681232.4376713475 1333900.7291656174,1681237.9025371124 1333899.7405686048,1681243.3625016522 1333895.4186252546,1681249.43021808 1333887.8805730336,1681245.47002836 1333880.3393522324,1681241.5000361898 1333871.099772461,1681242.7890583389 1333861.8696984297,1681244.078080488 1333857.9216475398,1681251.1113382212 1333853.9704280696,1681258.1396947296 1333856.3215145546,1681266.099283969 1333858.659926719,1681274.0588732087 1333861.0110132042,1681282.0184624484 1333870.798757345,1681283.9397426096 1333880.5896700658,1681285.8708252206 1333890.3805827866,1681287.7921053818 1333886.2202370253,1681292.0512698211 1333882.0693970046,1681296.3006318104 1333875.4692445134,1681300.5107840006 1333868.8785977627,1681304.7307386405 1333862.2816138517,1681308.9408908307 1333855.6814613605,1681313.1608454706 1333848.9704085635,1681317.9983544482 1333839.540713982,1681314.7586447885 1333830.1015136596,1681311.5091326789 1333822.6711931643,1681306.1618963117 1333815.240872669,1681300.8097587195 1333809.6990259541,1681295.188053758 1333804.1603478196,1681289.571250021 1333801.4892347374,1681283.2780772478 1333798.8212902355,1681276.9996081495 1333794.6799559551,1681271.3484958382 1333790.5512959955,1681265.7022847522 1333786.409961715,1681260.0609748908 1333784.2204728187,1681253.6599751697 1333782.030983922,1681247.2589754488 1333779.8414950257,1681240.8579757279 1333778.2793850026,1681232.7905595403 1333776.7299493002,1681224.7280445779 1333775.5892604394,1681217.1703557803 1333774.4485715786,1681209.6077657575 1333775.4910344542,1681203.6576787275 1333776.53983449,1681197.7124929223 1333777.5791287853,1681191.87023284 1333778.6310974013,1681186.0279727578\" opacity=\"0.8\" /><polyline fill=\"none\" stroke=\"#66cc99\" stroke-width=\"35.288784000004334\" points=\"1333778.6310974013,1681186.0279727578 1333769.2996288047,1681185.1800608498 1333759.9586544677,1681184.332148942 1333750.6303544515,1681183.4793358091 1333741.2988858551,1681182.6314239013 1333731.9705858387,1681181.7786107685 1333722.6391172423,1681180.9306988604 1333713.310817226,1681180.0778857276 1333703.9793486295,1681179.2299738198 1333694.6510486132,1681178.382061912 1333685.3195800167,1681177.529248779 1333675.9912800004,1681176.681336871 1333666.659811404,1681175.8285237383 1333657.3188370669,1681174.9806118305 1333657.9113615586,1681168.6678341576 1333658.6496407378,1681160.899392689 1333659.4005942377,1681153.1309512209 1333660.718723588,1681146.8279759977 1333662.0495272586,1681140.5397044495 1333664.2802076973,1681132.1978196676 1333671.7992484374,1681128.659135289 1333677.4805126796,1681129.208072478 1333683.1712826625,1681129.7717133416 1333690.5414001346,1681127.6494829592 1333696.6314112186,1681123.9686630585 1333703.4406900008,1681120.3515590813 1333710.2404630426,1681116.7393563292 1333714.5497320718,1681109.309099379 1333718.8494953606,1681101.8788424286 1333723.3900707422,1681099.4625385522 1333731.9895973196,1681099.5997728496 1333740.5891238973,1681099.732105922 1333749.1094359707,1681100.57021538 1333749.85088373,1681107.7897196596 1333749.1601332533,1681114.862187192 1333748.478888517,1681121.9395559493 1333749.3597538038,1681127.7377050074 1333750.2311133503,1681133.5309528408 1333755.918714753,1681134.0994949292 1333763.738770609,1681134.8689872387 1333771.558826465,1681135.6384795483 1333781.520842515,1681136.6187245285 1333788.3301212972,1681136.1678118375\" opacity=\"0.8\" /><polyline fill=\"none\" stroke=\"#66cc99\" stroke-width=\"35.288784000004334\" points=\"1333788.3301212972,1681136.1678118375 1333790.1805721158,1681136.05018244 1333794.8605650247,1681132.222325792 1333800.1109023641,1681127.5024462123 1333805.3485653827,1681122.7776654074 1333810.5893969815,1681118.0479833777 1333814.169892572,1681111.1617623914 1333817.740882422,1681104.2608377307 1333821.308703692,1681097.3697155195 1333821.4196039978,1681084.6804442503 1333820.3612982214,1681068.8886976184\" opacity=\"0.8\" /><polyline fill=\"none\" stroke=\"#66cc99\" stroke-width=\"35.288784000004334\" points=\"1333820.3612982214,1681068.8886976184 1333814.1287010298,1681065.6489879587 1333806.2801279523,1681058.8705939204 1333796.08997413,1681049.862142552 1333785.1013381055,1681046.1813226512 1333764.9396624928,1681042.6818480717 1333745.33882557,1681042.9416129915 1333729.7494111406,1681051.3619173716 1333707.3190321273,1681062.1985256283 1333685.4589975441,1681076.809077059 1333671.4190188171,1681092.8017739116 1333656.0102134573,1681110.348159058 1333641.2192812304,1681119.2389810288 1333621.9511452252,1681120.768163198 1333600.8103783405,1681126.8995955493\" opacity=\"0.8\" /><polyline fill=\"none\" stroke=\"#66cc99\" stroke-width=\"35.288784000004334\" points=\"1333600.8103783405,1681126.8995955493 1333601.7102551083,1681132.08019027 1333602.6101318763,1681137.2607849906 1333603.468817102,1681142.892292402 1333604.3306709079,1681148.5188985886 1333604.6887204668,1681154.1504060002 1333605.049938606,1681159.7721109618 1333604.4700884353,1681165.3399024496 1333605.3414479815,1681172.4515797815 1333606.2096389479,1681179.568158338 1333607.080998494,1681186.6798356697 1333606.3110335132,1681194.708042058 1333605.5410685323,1681202.741149671 1333604.7615978108,1681210.7791585089 1333606.8401864013,1681219.6307706805 1333608.918774992,1681228.492185302 1333613.2090325402,1681235.2803817901 1333617.489784348,1681242.0685782784 1333621.7800418963,1681248.8714784414 1333626.0702994445,1681255.6596749295 1333634.498722693,1681258.8013600912 1333642.939820262,1681261.9283415782 1333651.3714120905,1681265.0700267397 1333659.8093410796,1681268.2019094517 1333662.9303925456,1681275.882128872 1333666.0514440115,1681283.5623482922 1333669.1693268975,1681291.2376664875 1333677.5597271838,1681292.5119849618 1333685.9501274703,1681293.7912046611 1333694.3500334972,1681295.0606219105 1333700.959691729,1681291.0514199412 1333707.5693499604,1681287.042217972 1333714.1790081921,1681283.018312328 1333722.258887622,1681283.8123107622 1333730.338767052,1681284.6014079712 1333738.4186464818,1681285.3905051802 1333743.0194248867,1681292.1787016685 1333747.6202032913,1681298.9619969318 1333746.4414914686,1681300.2412166311 1333741.168974068,1681305.9805509904 1333735.8996252478,1681311.7198853497 1333732.0212831213,1681319.792202762 1333728.1492781555,1681327.8694213992 1333724.270936029,1681335.9417388116 1333719.6891691054,1681343.259267589 1333715.1010650212,1681350.5915000413 1333713.1587253779,1681350.40035227 1333706.4191553593,1681349.42010729 1333699.6890910813,1681348.4398623097 1333692.9495210627,1681347.4694197793 1333686.339862831,1681345.2589673488 1333679.7302045994,1681343.0485149184 1333673.1110406271,1681340.8380624878 1333665.439908039,1681342.911280621 1333657.768775451,1681344.9893999791 1333653.408809139,1681351.1404372302 1333649.0615171476,1681357.2816720316 1333644.7015508357,1681363.4278080577 1333640.3415845237,1681369.569042859 1333633.3009993893,1681375.71027766 1333626.250908514,1681381.8613149112 1333619.200817639,1681388.0025497123\" opacity=\"0.8\" /><polyline fill=\"none\" stroke=\"#66cc99\" stroke-width=\"35.288784000004334\" points=\"1333547.4514883016,1679403.1780075876 1333552.8285688478,1679401.82036829 1333558.208817974,1679400.472531442 1333562.0016084358,1679393.919593749 1333565.7785559967,1679387.3715572811 1333570.9401730914,1679386.2001645297 1333576.8400693652,1679386.8618298913 1333582.7494713797,1679387.5087915785 1333587.8001881684,1679388.072432442 1333589.1404975797,1679395.1301962999 1333590.480806991,1679402.1781577077 1333593.639881419,1679407.672430822 1333596.798955847,1679413.1520002615 1333605.5885972348,1679413.7695545992 1333614.3814072025,1679414.4018126114 1333615.8896513628,1679419.6706293803 1333617.4010641032,1679424.939446149 1333623.5702896914,1679428.311488881 1333629.7395152797,1679431.678630388 1333635.9214151886,1679435.0506731202 1333642.9810118042,1679437.2611255506 1333650.0406084198,1679439.4715779813 1333658.1616793917,1679439.7803551499 1333666.2795817838,1679440.0891323187 1333674.4101584964,1679440.3979094874 1333680.3100547702,1679443.6915326212 1333686.2194567847,1679446.9802545297 1333692.1193530585,1679450.2591739888 1333698.5198849991,1679452.822514612 1333704.9109111992,1679455.3907564604 1333711.3114431396,1679457.9491958588\" opacity=\"0.8\" /><polyline fill=\"none\" stroke=\"#66cc99\" stroke-width=\"35.288784000004334\" points=\"1333711.3114431396,1679457.9491958588 1333712.8101815593,1679458.5520465216 1333719.6511461432,1679461.9682002778 1333726.5016164677,1679465.379452809 1333733.3394124715,1679468.8005077902 1333741.878736026,1679472.3391921688 1333750.430733901,1679475.8680740977 1333758.909854432,1679479.7890540187 1333767.4016492837,1679483.7002314897 1333774.679877931,1679485.6509190004 1333781.9612751585,1679487.611408961 1333790.9885600586,1679485.9989059684 1333800.0285192796,1679484.381501751 1333803.2509653112,1679479.9017821914 1333810.0602440934,1679477.1521950217 1333816.8695228756,1679474.3977066274 1333823.548889871,1679476.6620725316 1333830.218751126,1679478.9215372112 1333836.9012867014,1679481.1711994407 1333845.0888978571,1679483.9011817107 1333853.279677593,1679486.6311639808 1333860.7195038286,1679487.371248941 1333868.1593300644,1679488.1211363508 1333876.568741832,1679488.41030862 1333884.9813221795,1679488.6994808891 1333891.0586589428,1679484.3422919519 1333897.1391642862,1679479.9900042396 1333902.4211874274,1679474.02031231 1333907.7000419882,1679468.05062038 1333916.4801776353,1679469.1680996576 1333925.2603132825,1679470.2904801602 1333929.0911267062,1679474.4222127518 1333932.9092658095,1679478.5490441187 1333937.1108031129,1679483.7296388391 1333941.3091718364,1679488.9102335598 1333945.5107091398,1679494.0908282804 1333950.4505256226,1679496.5120333815 1333955.380836365,1679498.9381397078 1333964.671113419,1679499.962495712 1333971.63882121,1679500.5310378007 1333978.6096975808,1679501.109382339 1333986.5216422617,1679501.8396648492 1333994.420912622,1679502.5699473596 1334001.2111799233,1679505.0695720592 1334008.0014472245,1679507.5691967588 1334007.4215970538,1679513.5879009375 1334006.8385783026,1679519.6017038913 1334005.3715256846,1679525.1008782305 1334003.9013044864,1679530.6000525695 1333995.0894830376,1679534.359292069 1333987.4690477322,1679535.638511768 1333980.5995659267,1679538.9125300022 1333973.7300841212,1679542.191449461 1333968.3498349949,1679544.5587410883 1333962.9695858688,1679546.9309339405 1333958.9993549176,1679553.9788953485 1333955.0291239663,1679561.0317579813 1333949.1894307155,1679563.2520128617 1333943.6190667793,1679562.7177793474 1333938.0391971024,1679562.198249508 1333932.2913926765,1679563.5019753315 1333926.5404196705,1679564.8007999305 1333921.9206297847,1679573.6181035277 1333923.6601802972,1679579.6515113811 1333925.39973081,1679585.6800180096 1333928.989732141,1679592.1496348793 1333932.5892392125,1679598.6290541987 1333938.4986412267,1679600.7022723318 1333944.4112118213,1679602.7607867904 1333951.9302525613,1679602.579441469 1333959.4492933014,1679602.388293698 1333966.359966649,1679606.1279282975 1333973.2706399967,1679609.8577604473 1333980.1813133445,1679613.592493822 1333987.0793123713,1679617.322325972 1333992.0286345948,1679624.3408800305 1333996.9811253983,1679631.3496316392 1333999.1801200353,1679637.5692860389 1334001.3886204127,1679643.7987428883 1333999.6490699002,1679651.998492148 1333997.9190251282,1679660.1982414078 1333995.5901187041,1679663.1879885977\" opacity=\"0.8\" /><polyline fill=\"none\" stroke=\"#66cc99\" stroke-width=\"35.288784000004334\" points=\"1333995.5901187041,1679663.1879885977 1333992.858802599,1679670.172234082 1333990.1116435928,1679677.1515783411 1333987.3803274874,1679684.1309226006 1333984.6395056415,1679691.1200693096 1333986.6103625065,1679699.7707312603 1333987.0824809517,1679701.8341469436 1333988.5907251118,1679708.4311956607 1333990.5710877173,1679717.0916600612 1333986.8796918208,1679726.0903089799 1333983.200970245,1679735.0987603483 1333987.8397716118,1679742.0781046078 1333992.4690672383,1679749.0721525417 1333997.1015314446,1679756.0514968012 1334003.048956421,1679759.1098611394 1334008.9995499777,1679762.168225478 1334014.9501435342,1679765.2216885914 1334021.3601812152,1679767.6477949175 1334027.7607131558,1679770.0690000185 1334034.6492064423,1679770.7306653804 1334039.8393407585,1679767.5595728692 1334044.848866005,1679764.486504856 1334045.0199693341,1679764.3786779083 1334045.770922834,1679755.1006591702 1334046.5092020133,1679745.8177392073 1334047.2601555132,1679736.5397204694 1334048.0016032727,1679727.2617017312 1334048.739882452,1679717.9787817684 1334049.4908359519,1679708.7007630304 1334050.4097242008,1679699.192386722 1334051.3286124498,1679689.6791091887 1334052.2506692787,1679680.1805353302 1334053.1695575276,1679670.6721590217 1334054.0916143567,1679661.1588814885 1334055.020008346,1679651.65050518 1334055.66006154,1679642.6322513619 1334056.3001147343,1679633.6090963187 1334056.9401679283,1679624.5908425003 1334057.5802211224,1679615.5676874572 1334058.2202743164,1679605.8191511286 1334058.8603275104,1679596.0608123504 1334059.509886445,1679586.3122760218 1334060.149939639,1679576.5490360186 1334060.428774694,1679576.48041887 1334062.310911314,1679569.1677913174 1334064.189879354,1679561.8600649897 1334066.0688473938,1679554.5523386619 1334067.9604897546,1679547.2397111093 1334066.1512304784,1679539.618306388 1334064.338802622,1679532.0018028915 1334062.5295433456,1679524.38039817 1334060.9103988796,1679517.582399232 1334059.300760154,1679510.779499069 1334056.670838614,1679502.3886020381 1334054.040917074,1679494.012408682 1334051.4109955342,1679485.621511651 1334048.0016032727,1679477.3188366685 1334044.5795366906,1679469.0112604608 1334042.839986178,1679462.7376925873 1334041.1004356656,1679456.4690259385 1334040.5586084567,1679447.5095868192 1334040.019949828,1679438.5501476997 1334042.051009716,1679432.1785553282 1334044.0693952835,1679425.8216666311 1334048.2202353044,1679416.8622275118 1334052.3805810658,1679407.8978871675 1334056.5314210865,1679398.938448048 1334060.6790925271,1679389.9790089286 1334056.578949789,1679383.9406998502 1334052.4693013104,1679377.902390772 1334048.3596528317,1679371.8591804688 1334039.2911763892,1679370.962256312 1334030.2290371072,1679370.0506284803 1334021.170066405,1679369.1390006486 1334012.1015899626,1679368.2420764917 1334005.4697516698,1679366.7815114711 1333998.841081957,1679365.3307489003\" opacity=\"0.8\" /><polyline fill=\"none\" stroke=\"#66cc99\" stroke-width=\"35.288784000004334\" points=\"1333998.841081957,1679365.3307489003 1333990.4601874114,1679363.4878883373 1333982.0792928655,1679361.6597314493 1333973.7015668997,1679359.8217721113 1333965.3111666134,1679357.9887139983 1333956.9302720674,1679356.1507546604 1333949.2591394794,1679355.42047215 1333941.5911754712,1679354.6901896398 1333933.9105371425,1679353.9599071294 1333926.2394045545,1679353.2296246192 1333919.369922749,1679356.268384058 1333912.5004409435,1679359.3120447216 1333905.630959138,1679362.3508041603 1333896.8793407124,1679360.5422521718 1333888.1403966076,1679358.7386014082 1333882.6904387176,1679353.489389539 1333877.249986568,1679348.2401776698 1333871.8000286783,1679343.0007682503 1333867.9692152543,1679337.408470638 1333864.1510761513,1679331.8308767003 1333860.3202627273,1679326.2483815379 1333859.0306505987,1679317.318349768 1333857.74103847,1679308.3981204478 1333856.460932082,1679299.4680886776 1333857.6206324238,1679291.1507100202 1333858.7803327655,1679282.8382325878 1333859.9495388477,1679274.5208539304 1333855.728990063,1679269.1589138885 1333851.5211155992,1679263.8116775213 1333847.3005668146,1679258.4497374792 1333840.389893467,1679255.7001503096 1333833.4792201193,1679252.9505631402 1333826.5685467718,1679250.2009759706 1333819.6610420041,1679250.4411359907 1333812.7503686566,1679250.6910984607 1333805.8396953088,1679250.9312584808 1333797.8485361238,1679254.0680424175 1333789.8510397782,1679257.219530029 1333781.8503748525,1679260.3612151907 1333773.8497099269,1679263.4979991275 1333765.8490450012,1679266.649486739 1333757.0403921325,1679270.4577384873 1333748.2190649433,1679274.2806939103 1333743.5485777748,1679276.329405919 1333738.8685848657,1679278.3781179276 1333735.3102693364,1679279.941608671 1333731.2291380793,1679275.8098760794 1333730.018740455,1679267.002374932 1333728.79883709,1679258.1899725595 1333730.3894643346,1679248.6080778777 1333731.9705858387,1679239.0310844206 1333738.3014090157,1679237.668543898 1333744.6385693527,1679236.3207070502 1333748.2602564853,1679228.6698949793 1333751.8787750378,1679221.0288853585 1333755.5004621707,1679213.3780732877 1333759.1316550437,1679205.7419648916 1333760.5701904404,1679197.9196099492 1333762.0214001576,1679190.1021562316 1333763.4694412947,1679182.2798012893 1333764.9206510119,1679174.462347572 1333765.0505627987,1679166.1302652399 1333765.1804745856,1679157.7981829077 1333765.3103863725,1679149.4808042503 1333765.4402981594,1679141.1487219182 1333757.17980966,1679140.0900573395 1333748.90981542,1679139.021590311 1333740.6493269205,1679137.9580245076 1333732.3793326805,1679136.899359929 1333724.1093384405,1679135.8308929005 1333715.848849941,1679137.139519949 1333707.601035762,1679138.4383445478 1333699.3405472627,1679139.7420703715 1333691.0800587633,1679141.0506974203 1333682.8290760042,1679142.349522019 1333679.8094191037,1679142.8298420594 1333671.6313136884,1679144.9716773413 1333663.4500396932,1679147.1086113981 1333655.268765698,1679149.25044668 1333647.0906602829,1679151.3922819619 1333638.0411953214,1679154.2791034286 1333628.9790560391,1679157.1708261203 1333619.9295910778,1679160.062548812 1333615.9213371645,1679166.8017330512 1333611.909914671,1679173.5409172904 1333607.9111664984,1679180.2899039795 1333603.899744005,1679187.0290882187 1333599.2197510959,1679193.5477173373 1333594.5492639274,1679200.0810501305 1333589.8692710185,1679206.599679249 1333585.1987838498,1679213.1281108176 1333583.6905396897,1679221.7199580695 1333582.1791269493,1679230.3020028716 1333579.0612440633,1679237.918506368 1333575.9401925975,1679245.5301086397 1333575.2906336628,1679255.1316082212 1333574.6410747282,1679264.718404128 1333575.8514723526,1679272.7123019418 1333577.058701397,1679280.701298531 1333578.1011642723,1679289.6607376502 1333579.1404585675,1679298.6299792195\" opacity=\"0.8\" /><polyline fill=\"none\" stroke=\"#66cc99\" stroke-width=\"35.288784000004334\" points=\"1333579.1404585675,1679298.6299792195 1333585.6011935314,1679302.928353458 1333592.0492541743,1679307.231628921 1333599.7013752814,1679309.672438922 1333607.340822068,1679312.1083476979 1333610.8294288337,1679315.6617357512 1333610.4301877324,1679325.0279765376 1333610.0404523716,1679334.3893160988 1333609.7489429961,1679341.2216236112 1333609.4510964602,1679348.0392274489 1333613.1900210592,1679357.1309996406 1333616.928945658,1679366.2276730572 1333608.5892426544,1679365.6199211695 1333600.2495396507,1679365.0121692817 1333591.909836647,1679364.399516169 1333583.5796393838,1679363.8015667312 1333575.411039709,1679363.9388010283 1333567.2392714545,1679364.0907390004 1333559.0706717798,1679364.2377757474 1333550.898903525,1679364.3897137193 1333542.739809591,1679364.5416516913 1333534.2194975177,1679366.4188208284 1333525.7086911849,1679368.2910887406 1333517.2010534322,1679370.168257878 1333519.3715308476,1679377.7406503502 1333521.538839683,1679385.3081415978 1333523.7093170986,1679392.8707316204 1333525.879794514,1679400.438222868 1333533.0693029165,1679401.3498506993 1333540.258811319,1679402.271280981 1333547.4514883016,1679403.1780075876\" opacity=\"0.8\" /><polyline fill=\"none\" stroke=\"#66cc99\" stroke-width=\"35.288784000004334\" points=\"1333768.250828769,1678620.6484398579 1333776.4289341841,1678622.8882996377 1333784.6102081793,1678625.1183569678 1333792.7914821745,1678627.3582167476 1333800.9600818492,1678629.5980765275 1333806.9993956506,1678623.1480645575 1333813.0513837726,1678616.6980525875 1333819.0906975737,1678610.2480406174 1333825.130011375,1678603.8078310974 1333831.1693251764,1678597.3578191274 1333837.2086389777,1678590.9078071574 1333843.2511213592,1678584.4577951871 1333849.6294732387,1678577.7480182974 1333856.0204994385,1678571.0480438576 1333862.398851318,1678564.3382669678 1333868.7803717775,1678557.6382925278 1333875.1713979775,1678550.928515638 1333878.4191926504,1678550.8746021641 1333883.5015952408,1678550.7912813406 1333891.8412982444,1678550.6589482685 1333901.2804985666,1678550.4579980473 1333910.7292046293,1678550.2521466017 1333917.7412725424,1678551.8401434696 1333924.7596776157,1678553.4281403376 1333931.7685769487,1678555.0210384305 1333939.0816599778,1678556.8001830697 1333946.378900106,1678558.569525259 1333953.6888145548,1678560.3486698982 1333961.3504414025,1678564.3480694175 1333969.00889967,1678568.3523701618 1333976.6705265176,1678572.3517696813 1333982.1996989117,1678578.3802763098 1333987.7193655656,1678584.4087829383 1333993.2390322192,1678590.4421907917 1334000.7802530203,1678592.7800750695 1334008.3087995008,1678595.1081568976 1334015.8500203022,1678597.4509424004 1334017.3360844012,1678597.0833505327 1334021.7594223164,1678595.9903773798 1334027.668824331,1678594.539614809 1334037.3298252649,1678594.6621454316 1334046.9908261988,1678594.7797748293 1334051.9116312007,1678597.7303122198 1334053.549787148,1678604.268546238 1334055.1911116752,1678610.8018790314 1334056.8292676224,1678617.3401130496 1334064.3102854004,1678620.491600661 1334071.800808919,1678623.6479894975 1334079.2913324374,1678626.799477109 1334085.9485193717,1678629.9999769693 1334092.608874886,1678633.2102792796 1334099.2692304002,1678636.4107791402\" opacity=\"0.8\" /><polyline fill=\"none\" stroke=\"#66cc99\" stroke-width=\"35.288784000004334\" points=\"1334099.2692304002,1678636.4107791402 1334103.828817263,1678631.2988015683 1334108.378898385,1678626.1917252212 1334116.8104902136,1678621.638487288 1334125.238913462,1678617.0901505796 1334133.489896221,1678615.4580426875 1334141.74087898,1678613.8308360202 1334149.9886931588,1678612.208530578 1334158.2396759177,1678610.5813239107 1334166.4906586767,1678608.9492160187 1334172.9894166025,1678608.7776731472 1334179.4913431085,1678608.6110315004\" opacity=\"0.8\" /><polyline fill=\"none\" stroke=\"#66cc99\" stroke-width=\"35.288784000004334\" points=\"1334179.4913431085,1678608.6110315004 1334179.4786687877,1678600.2201344697 1334179.4691630471,1678591.8292374387 1334177.339877174,1678582.3698733794 1334173.239734436,1678574.3612718908 1334169.1395916976,1678566.362472852 1334165.029943219,1678558.3587725882 1334160.9298004808,1678550.3599735494 1334156.8201520022,1678542.3611745106 1334153.6991005363,1678533.2301925197 1334150.590723391,1678524.089408079 1334147.4696719248,1678514.9584260879 1334144.6401298342,1678507.1409723705 1334141.8200934841,1678499.318617428 1334139.000057134,1678491.5011637106 1334135.7300824001,1678485.031546841 1334132.4696134068,1678478.5717324212 1334129.1996386726,1678472.1021155515 1334122.1115248357,1678467.5194702689 1334115.0202424184,1678462.9417262112 1334107.9416343218,1678458.3590809286 1334101.0404667147,1678454.761581851 1334094.1392991075,1678451.1591815485 1334087.2413000804,1678447.5518800213 1334080.3496382136,1678443.949479719\" opacity=\"0.8\" /><polyline fill=\"none\" stroke=\"#66cc99\" stroke-width=\"35.288784000004334\" points=\"1334080.3496382136,1678443.949479719 1334078.3312526464,1678443.8220478715 1334071.2811617712,1678443.3809376303 1334064.2310708961,1678442.9300249394 1334057.1809800211,1678442.4889146984 1334049.890077053,1678446.0619076514 1334042.5991740853,1678449.6201969297 1334035.3114396976,1678453.1882886577 1334028.4894865947,1678458.3296735792 1334021.6707020719,1678463.4808609502 1334016.768908551,1678461.1723840218 1334014.528722372,1678455.9819868514 1334012.3012105133,1678450.8013921308 1334012.649754332,1678444.2582568878 1334013.010972471,1678437.7102204196 1334009.1706533066,1678431.892466462 1334005.3303341425,1678426.0600088295 1334001.4900149782,1678420.2422548716 1333993.5812388773,1678419.8403544298 1333985.6597884558,1678419.438453988 1333977.751012355,1678419.0414547708 1333972.918927598,1678425.0601589496 1333968.0900114211,1678431.0788631283 1333963.2610952442,1678437.1024685318 1333962.1996208876,1678445.6109949604 1333961.1286407907,1678454.119521389 1333960.0703350145,1678462.6280478174 1333959.4302818205,1678470.0092925187 1333958.7997343668,1678477.38073477 1333957.2407929238,1678486.8597037292 1333955.6913572215,1678496.338672688 1333948.3402512304,1678499.8577521672 1333945.9036130807,1678499.9900852395 1333940.1494714946,1678500.2890599584 1333936.2204320855,1678498.0197928292 1333930.4694590797,1678495.7701305996 1333928.9422034384,1678495.1721811616 1333924.7216546538,1678493.5302708198 1333919.4713173145,1678491.3100159394\" opacity=\"0.8\" /><polyline fill=\"none\" stroke=\"#66cc99\" stroke-width=\"35.288784000004334\" points=\"1333919.4713173145,1678491.3100159394 1333914.2304857157,1678489.099563509 1333908.168991853,1678490.8198934493 1333903.4414702416,1678494.5791329485 1333898.71078005,1678498.3383724478 1333898.2101443834,1678505.2981118076 1333897.7982289614,1678511.0227424921 1333897.7095087166,1678512.2480487174 1333896.8571606514,1678512.6352454848 1333893.6410517802,1678514.0811068306 1333887.1391252743,1678515.2917093812 1333880.6403673484,1678516.5121143817 1333874.5313447835,1678519.2420966516 1333868.4286593788,1678521.9818813712 1333862.078824721,1678526.618440128 1333855.728990063,1678531.2599001094 1333847.3797813188,1678530.921715591 1333839.0400783152,1678530.578629848\" opacity=\"0.8\" /><polyline fill=\"none\" stroke=\"#66cc99\" stroke-width=\"35.288784000004334\" points=\"1333839.0400783152,1678530.578629848 1333832.9690787122,1678534.8279918374 1333826.9012476893,1678539.072452602 1333821.1914662255,1678543.8511468805 1333815.4785161817,1678548.6298411593 1333809.768734718,1678553.3987329882 1333805.9696070957,1678558.5597228091 1333802.1704794737,1678563.7109101804 1333798.659692647,1678570.42068707 1333795.14890582,1678577.1402664096 1333790.0316488477,1678584.8989054284 1333784.8985489747,1678592.6722481218 1333780.7413717934,1678599.6613948308 1333776.581026032,1678606.6603439897 1333772.4111745304,1678613.649490699 1333768.250828769,1678620.6484398579\" opacity=\"0.8\" /><polyline fill=\"none\" stroke=\"#66cc99\" stroke-width=\"35.288784000004334\" points=\"1334933.9207755066,1681086.6801440099 1334948.508918603,1681080.9604145503 1334966.8708406799,1681079.3724176823 1334983.1098140439,1681082.2102269 1335003.0211718231,1681090.8804937503 1335024.4407737628,1681101.3789174887 1335038.2494461373,1681116.20022159 1335044.2412312361,1681137.4225254124 1335044.1905339535,1681159.7378023877 1335037.6505844856,1681174.6914395613 1335030.6987195958,1681189.6009657108 1335034.8685710975,1681207.701189271 1335040.461115095,1681208.7108416006 1335046.040984772,1681209.7204939304 1335052.02009555,1681213.1219440117 1335057.9897005877,1681216.5184928684 1335063.9593056252,1681219.9297453996 1335069.890887701,1681218.572106102 1335076.4593543904,1681217.072331282 1335083.03098966,1681215.5676552374 1335089.5994563494,1681214.0678804177 1335092.9391398472,1681212.7886607184 1335096.1203943363,1681213.1023391122 1335098.1894771864,1681208.50008893 1335103.9087643907,1681207.4512268011 1335109.6312201752,1681206.4023646722 1335115.4614076854,1681201.2903871003 1335121.2915951957,1681196.188211978 1335118.4303673033,1681191.6692826191 1335115.5691394112,1681187.15035326 1335112.5716625715,1681179.308393418 1335109.571017152,1681171.471334801 1335106.1299390888,1681163.1196475695 1335102.6888610257,1681154.758157888 1335101.941076106,1681148.0777883476 1335101.1806168656,1681141.402320032 1335101.3707316758,1681134.81017254 1335101.560846486,1681128.2180250478 1335098.6806071126,1681123.699095689 1335095.80987348,1681119.1703638802 1335092.4004812185,1681115.058236188 1335085.1507697927,1681111.5195518094 1335077.8915526266,1681107.9906698805 1335077.2293193713,1681100.3692651591 1335076.5607489557,1681092.7478604377 1335070.119025473,1681086.9399089296 1335063.6709648299,1681081.122154972 1335057.2292413472,1681075.309302239 1335050.7811807042,1681069.4915482814 1335048.1512591643,1681063.6198808497 1335045.5308433648,1681057.7923244422 1335046.4402258731,1681048.269244459 1335053.1195928685,1681045.7108050606 1335058.708968286,1681046.2499397998 1335064.2888379628,1681046.789074539 1335073.8516129116,1681047.72030727 1335081.8205920355,1681048.4897995796 1335088.1894381745,1681049.1024526923 1335094.5614528933,1681049.7200070298 1335101.7287812347,1681050.4110797409 1335108.9087838968,1681051.1119549018 1335115.3093158372,1681051.7295092393 1335121.7098477778,1681052.3519648018 1335128.0406709546,1681047.6320852218 1335134.3714941314,1681042.9024031921 1335140.7086544686,1681038.1678199377 1335147.2707839978,1681037.212081082 1335154.419100858,1681038.7118559016 1335161.580092039,1681040.2116307213 1335165.280993676,1681043.7699199996 1335168.9787267328,1681047.328209278 1335172.948957684,1681055.7191063089 1335178.3513868714,1681057.841336691 1335183.760153219,1681059.9586658485 1335189.4287431408,1681064.8206809505 1335195.110007383,1681069.6777948276 1335200.7912716253,1681074.5398099297 1335206.5105588294,1681074.1477119375 1335214.0612853712,1681071.4079272177 1335221.5993375923,1681068.6779449477 1335229.150064134,1681065.9381602278 1335237.4295641144,1681068.6387351486 1335245.709064095,1681071.3295076194 1335252.0588987528,1681065.34021079 1335258.4214077312,1681059.3509139607 1335260.6013908873,1681056.7287586385 1335266.2794865493,1681057.2776958274 1335271.9607507917,1681057.8315342413 1335278.3707884727,1681060.6595410092 1335284.7713204133,1681063.4924490023 1335291.1686837736,1681066.3204557702 1335295.6902476742,1681073.3586147283 1335300.2086429945,1681080.4114773613 1335298.9285366065,1681087.8417343115 1335297.661104539,1681095.262188812 1335302.3696146696,1681100.4378823077 1335307.0907991207,1681105.6184770283 1335313.1713044643,1681111.4019224118 1335319.2486412276,1681117.1902690202 1335322.8703283602,1681123.6696883396 1335326.4888469127,1681130.1589101087 1335332.0687165896,1681135.8884420183 1335337.6612605872,1681141.6179739279 1335337.8893983592,1681148.2395287694 1335338.1302104522,1681154.8708860606 1335337.5788775028,1681160.0024685322 1335337.0307131337,1681165.129149779 1335331.3494488914,1681169.2804872703 1335325.6586789086,1681173.4416272114\" opacity=\"0.8\" /><polyline fill=\"none\" stroke=\"#66cc99\" stroke-width=\"35.288784000004334\" points=\"1335325.6586789086,1681173.4416272114 1335329.331063324,1681174.5198966898 1335333.900155927,1681175.8922396621 1335337.7594865724,1681183.7096933795 1335340.9787640236,1681188.6697329795 1335348.260161251,1681194.0610803708\" opacity=\"0.8\" /><polyline fill=\"none\" stroke=\"#66cc99\" stroke-width=\"35.288784000004334\" points=\"1335348.260161251,1681194.0610803708 1335348.7386168565,1681188.4295729594 1335349.495907517,1681179.4701338399 1335349.6701794262,1681177.431224281 1335350.4116271855,1681168.7511549809 1335350.966128715,1681162.154106264 1335351.606181909,1681154.6356272653 1335352.0814689344,1681149.0678357775 1335352.4363499132,1681144.8429799129 1335353.4376212466,1681133.0653364751 1335353.7513106833,1681129.399220249 1335354.5909844278,1681119.5624618724 1335355.421152432,1681109.7208022706 1335356.2608261767,1681099.879142669 1335356.9705881346,1681091.439233389 1335357.2462546092,1681088.1995237293 1335357.9306679256,1681080.2007246905 1335358.4408093328,1681074.123205813 1335359.182257092,1681065.4039267136 1335359.6005096745,1681060.522306712 1335359.968064974,1681056.1651177749 1335360.9534934065,1681044.554115984 1335361.2703514232,1681040.8487899585 1335362.110025168,1681031.0120315817 1335362.940193172,1681021.1703719802 1335363.7798669168,1681011.3287123784 1335364.4484373324,1681003.408332938 1335364.8254983723,1680998.9629219526 1335365.4497086657,1680991.6502944 1335366.001041615,1680985.1267640565 1335366.5967346868,1680978.1131112229 1335367.1195504144,1680971.9816788714 1335367.9592241591,1680962.14001927 1335368.7893921633,1680952.298359668 1335369.629065908,1680942.4616012913 1335370.4275481105,1680933.0267433566 1335370.5067626147,1680932.061202051 1335371.298907657,1680922.778282088 1335371.869252087,1680916.034196624 1335372.4332593572,1680909.3979381076 1335372.9687494056,1680903.1096665594 1335373.4345306905,1680897.6104922201 1335374.309058817,1680887.2983150282 1335374.6385911545,1680883.431248581 1335375.4814334793,1680873.5895889793 1335376.2894214224,1680863.9929906228 1335376.336950125,1680863.4293497591 1335377.1512752282,1680853.911171001 1335377.7628112007,1680846.6328520225 1335378.2285924854,1680841.1385789083 1335378.8211169771,1680834.2376542473 1335379.328089804,1680828.204246394 1335380.098054785,1680819.1663876763 1335380.4909587258,1680814.559236269 1335381.3306324705,1680804.7224778922 1335382.1608004747,1680794.8808182906 1335383.0004742194,1680785.0391586889 1335383.6595388944,1680777.2266061963 1335384.027094194,1680772.879219709 1335384.6703159683,1680765.3705431602 1335385.2248174977,1680758.8029017926 1335385.8838821729,1680751.0295590993 1335386.340157717,1680745.692125182 1335386.6665214745,1680741.81035506 1335387.8705819384,1680727.6507163204 1335388.009999466,1680726.0088059786 1335388.8496732106,1680716.1720476018 1335389.553098008,1680707.825261595 1335389.8572817042,1680704.2718735416 1335390.5195149595,1680696.4887283985 1335391.0803536493,1680689.867173557 1335391.6728781408,1680682.8927305224 1335392.1893567082,1680676.8201128698 1335392.5632491682,1680672.4041092338 1335393.6564093262,1680659.5138877437 1335393.859198457,1680657.1416948915 1335394.0049531448,1680655.4164637262 1335395.643109092,1680636.1399461897 1335396.3687139507,1680627.6216173114 1335396.8915296784,1680621.4313702611 1335397.5569315138,1680613.6090153188 1335398.0385556994,1680607.9481005578 1335398.4568082818,1680603.0027646325 1335399.4454052944,1680591.3770591668 1335399.7115660284,1680588.2696825794 1335399.9016808385,1680586.0102179 1335401.4289364798,1680568.0031176128 1335402.221081522,1680558.7496049993 1335402.788257372,1680552.0251244348 1335403.3554332224,1680545.3496561195 1335403.890923271,1680539.0809894707 1335404.3535359756,1680533.6014200312 1335405.2312326822,1680523.2451318149 1335405.5607650196,1680519.3976702674 1335405.7952399522,1680516.6088732986 1335407.2179324478,1680499.866289036 1335407.240112509,1680499.616326566 1335409.2046322136,1680476.4874462571 1335409.7401222622,1680470.199174709 1335410.1932292262,1680464.8470371168 1335411.0202286502,1680455.108303238 1335411.4099640108,1680450.5305591803 1335411.691967646,1680447.2026274723 1335411.8915881966,1680444.8451382949 1335413.010096996,1680431.6706457604 1335413.0798057597,1680430.852141202 1335413.1305030424,1680430.259092989 1335415.0031339221,1680408.1888772587 1335415.5893212534,1680401.3320636218 1335416.0075738356,1680396.3818264715 1335416.901113443,1680385.8588966087 1335417.259163002,1680381.6585468682 1335417.5696838587,1680378.0120355417 1335418.8244416052,1680363.2348424646 1335418.929004751,1680361.98012889\" opacity=\"0.8\" /><polyline fill=\"none\" stroke=\"#66cc99\" stroke-width=\"35.288784000004334\" points=\"1335418.929004751,1680361.98012889 1335412.0214999835,1680356.9808794905 1335405.1013208951,1680351.9718276416 1335398.1906475476,1680346.9676770174 1335391.2799741998,1680341.968427618 1335384.3597951117,1680336.9691782189 1335377.4491217642,1680331.9699288197 1335368.0606187244,1680329.7006616904 1335358.6689471048,1680327.441197011 1335349.270938325,1680325.1719298817 1335339.8792667051,1680322.9124652022 1335337.4109427538,1680322.3145157641 1335330.4907636656,1680320.638296848 1335321.9102485692,1680319.0404975303 1335313.3297334728,1680317.4377969876 1335304.7492183761,1680315.8498001194 1335296.1687032797,1680314.2520008017 1335287.5913567634,1680312.649300259 1335279.0108416667,1680311.0515009412 1335270.3194262644,1680306.6305960803 1335261.6311794422,1680302.2096912193 1335252.9397640398,1680297.7887863584 1335244.2515172174,1680293.3678814976 1335235.560101815,1680288.9518778615 1335226.859180672,1680284.5309730007 1335218.1709338499,1680280.10026569\" opacity=\"0.8\" /><polyline fill=\"none\" stroke=\"#66cc99\" stroke-width=\"35.288784000004334\" points=\"1335218.1709338499,1680280.10026569 1335209.4414954854,1680283.1586300284 1335200.7088885407,1680286.2120931419 1335192.781100959,1680287.0109928006 1335184.8596505376,1680287.8098924595 1335176.9286943756,1680288.6185945682 1335171.0794953844,1680286.1679821177 1335165.2302963932,1680283.7320733417 1335160.0401620772,1680279.4778101274 1335154.8405220206,1680275.2186456884 1335149.6503877044,1680270.969283699 1335140.8892635382,1680269.6410517506 1335132.1186336316,1680268.3079185777 1335124.418983822,1680265.6808620305 1335116.7193340124,1680263.0489042585 1335109.34921654,1680261.8579066077 1335101.9695933275,1680260.6718101816 1335096.1203943363,1680253.5405279503 1335089.330127035,1680246.3308261205 1335080.949232489,1680245.0810137708 1335072.5715065235,1680243.8410038706 1335064.2603207412,1680242.5617841715 1335055.9491349591,1680241.2678607975 1335048.4712857613,1680241.0080958777 1335040.9902679832,1680240.748330958 1335032.168940794,1680239.8906166004 1335023.3602879252,1680239.018198568 1335015.0015734406,1680240.2288011184\" opacity=\"0.8\" /><polyline fill=\"none\" stroke=\"#66cc99\" stroke-width=\"35.288784000004334\" points=\"1335015.0015734406,1680240.2288011184 1335013.4616434786,1680247.7080703177 1335012.3177860377,1680253.2219483317 1335011.909039196,1680255.192240742 1335010.369109234,1680262.671509941 1335005.9996371816,1680269.979236269 1335001.6396708696,1680277.3016662714 1334997.2797045577,1680284.609392599 1334992.9197382457,1680291.9318226015 1334988.5597719338,1680299.2395489293 1334984.9602648623,1680306.8609536507 1334981.3702635313,1680314.482358372 1334977.7802622002,1680322.0988618685 1334974.1807551289,1680329.72026659 1334965.4386424436,1680330.21038908 1334956.6996983388,1680330.70051157 1334947.9607542336,1680331.2004365101\" opacity=\"0.8\" /><polyline fill=\"none\" stroke=\"#66cc99\" stroke-width=\"35.288784000004334\" points=\"1334947.9607542336,1680331.2004365101 1334946.9087856177,1680339.1894330992 1334951.9088051238,1680344.4288425185 1334956.9214989506,1680349.668251938 1334961.931024197,1680354.9223650321 1334968.5311766881,1680359.451096841 1334975.1313291793,1680363.9798286494 1334984.5388436997,1680364.8718515816 1334993.959032541,1680365.7687757385 1335003.379221382,1680366.6607986705 1335010.8095418776,1680369.3319662416 1335018.2493681132,1680372.0080350377 1335018.1004448454,1680379.1099099196 1335017.9515215775,1680386.2215872512 1335016.1612737821,1680395.519210889 1335014.371025987,1680404.8315382013\" opacity=\"0.8\" /><polyline fill=\"none\" stroke=\"#66cc99\" stroke-width=\"35.288784000004334\" points=\"1335014.371025987,1680404.8315382013 1335023.2905791616,1680407.571322921 1335032.2196380766,1680410.3209100906 1335041.1391912512,1680413.0606948105 1335050.0587444257,1680415.8004795301 1335081.6114657444,1680447.1095041991 1335084.2413872844,1680459.6517387214 1335118.2212410122,1680499.0085746783 1335143.5096793377,1680521.3777651275 1335154.2226488877,1680529.7931682828 1335165.5408172498,1680538.6790890289 1335178.3608926118,1680543.7077457774 1335187.2012312822,1680550.2508810207 1335189.1499080858,1680558.97016012 1335182.3913265863,1680568.748103798 1335181.8114764155,1680574.3796112093 1335181.5896758037,1680586.6620808118 1335190.8197498347,1680599.8414745713 1335198.3387905748,1680610.9623538721 1335217.2615513415,1680611.849475579 1335226.4789510518,1680614.638272548 1335225.670963109,1680623.078181828 1335223.0885702716,1680630.3908093804 1335214.9389820779,1680636.218365788 1335213.7792817361,1680648.3979096676 1335206.7196851207,1680661.92038917 1335194.2893451194,1680658.7345929844 1335189.000984818,1680657.3818549116 1335164.701143505,1680660.7489964187 1335148.459001561,1680660.1510469809 1335140.0686012746,1680667.8606737505 1335129.3714746255,1680680.0598225296 1335112.7712831222,1680684.1425428723 1335095.420138119,1680686.2500695798 1335070.3693433064,1680698.9589457486 1335051.9408810458,1680712.3098823796 1335036.8109107409,1680729.7778479275 1335039.0986256227,1680754.5976508274 1335052.5207312168,1680763.4590654487 1335070.9396877366,1680759.572394102 1335077.1596106077,1680754.4898238797 1335083.3795334785,1680749.4219573317 1335089.60896209,1680744.349189559 1335098.351074775,1680742.8200073896 1335107.09001888,1680741.3006276705 1335116.5292192022,1680742.212255502 1335125.9715881045,1680743.1189821088 1335134.079984756,1680745.3196320895 1335142.1915499875,1680747.5300845199 1335150.299946639,1680749.7307345006 1335158.4115118706,1680751.931384481 1335165.410905463,1680754.818205948 1335172.4102990553,1680757.70012619 1335179.4191983882,1680760.5918488817 1335187.9395104614,1680765.6695178794 1335196.4503167942,1680770.7520881018 1335204.9706288676,1680775.8297570995 1335213.4814352004,1680780.9123273222 1335218.700086738,1680785.681219151 1335223.9092325352,1680790.4403085301 1335231.9289089418,1680792.7879952576 1335233.9156087076,1680793.371241021 1335239.9485853484,1680795.1405832104 1335247.9587560147,1680797.488269938 1335256.1685472315,1680801.1200775898 1335264.3688327079,1680804.7518852416 1335267.2015433784,1680809.7609370907 1335270.0405912094,1680814.76018649 1335265.0785946655,1680816.6520593017 1335260.1197667017,1680818.529228439 1335255.38907651,1680824.381290971 1335250.671060639,1680830.2284522783 1335247.8193384872,1680833.7573342072 1335245.9403704472,1680836.0805148103 1335245.1608997257,1680843.5695864593 1335244.3814290045,1680851.0586581083 1335243.5987897026,1680858.5477297574 1335242.8193189814,1680866.0417026314 1335245.9086846455,1680872.952429742 1335249.0107246307,1680879.8680580778 1335252.4708141747,1680887.7688326186 1335255.9309037188,1680895.6696071594 1335258.3295189065,1680903.1390739088 1335260.7186283537,1680910.618343108 1335263.1204121213,1680918.1025135324 1335264.2515952415,1680925.4494496593 1335265.370104041,1680932.811089461 1335266.5012871611,1680940.158025588 1335261.5392906172,1680948.1813307512 1335256.589968394,1680956.1997346894 1335251.63114043,1680964.2279410777 1335244.131111171,1680967.7519217818 1335236.6405876526,1680971.2808037107 1335227.2299045518,1680973.5108610406 1335217.8287271918,1680975.7507208204 1335208.421212671,1680977.9905806005 1335198.829920501,1680978.951220681 1335190.9591673622,1680981.97037522 1335183.0789084828,1680984.9895297594 1335175.2113239244,1680988.0086842985 1335166.1491846421,1680990.2779514277 1335157.0997196806,1680992.5619222317 1335148.0407489787,1680994.831189361 1335139.1307015447,1680995.5516694214 1335130.2206541107,1680996.262347032 1335121.3106066766,1680996.9779258678 1335112.581168312,1680998.649243559 1335103.8612356882,1681000.3205612504 1335095.1286287436,1681002.0016813914 1335087.280055666,1681004.7806759104 1335079.440988329,1681007.5694728792 1335071.5987524118,1681010.3484673982 1335066.5195184015,1681011.3924283022 1335061.4402843912,1681012.4314879812 1335053.7913318642,1681014.3478669177 1335046.1297050167,1681016.2593446292 1335038.4807524898,1681018.1806247905 1335031.1993552623,1681019.7294118593 1335023.9306323556,1681021.2880013778 1335016.6492351282,1681022.8514921214 1335009.1397001287,1681019.979374329 1335001.6301651292,1681017.112157762 1334994.1206301297,1681014.2498424195 1334986.6015893896,1681011.3777246275 1334984.1807941408,1681003.359320689 1334981.7504931514,1680995.3409167507\" opacity=\"0.8\" /><polyline fill=\"none\" stroke=\"#66cc99\" stroke-width=\"35.288784000004334\" points=\"1334981.7504931514,1680995.3409167507 1334974.9412143691,1681006.7117585216 1334963.3600538531,1681014.681150211 1334946.4208242719,1681034.9624188521 1334938.2585617576,1681054.8417870516 1334933.9207755066,1681086.6801440099\" opacity=\"0.8\" /><polyline fill=\"none\" stroke=\"#66cc99\" stroke-width=\"35.288784000004334\" points=\"1335304.860118682,1681705.1118008217 1335296.479224136,1681707.9888198387 1335288.0888238498,1681710.8805425304 1335279.711097884,1681713.7624627724 1335271.330203338,1681716.6492842392 1335262.9493087924,1681719.5312044811 1335255.1799502189,1681721.7514593613 1335247.401085905,1681723.9717142417 1335238.7793792663,1681725.1284033183 1335230.1513354674,1681726.2997960697 1335221.520123088,1681727.4613863712 1335213.3515234136,1681726.6918940619 1335205.1797551587,1681725.9076980776 1335197.4199023258,1681728.662186472 1335189.660049493,1681731.4215760916 1335181.90019666,1681734.180965711 1335179.4889071519,1681743.6893420191 1335177.0902919644,1681753.1977183276 1335177.6606363945,1681762.9805632303 1335178.2214750845,1681772.7683093583 1335183.0598970018,1681779.718246268 1335187.8888131788,1681786.6681831782 1335192.7304036764,1681793.618120088 1335195.1385246045,1681799.8377744877 1335197.5403083724,1681806.0525276624 1335194.701260541,1681811.7379485478 1335191.85904413,1681817.4282706582 1335183.0313797803,1681821.7217436717 1335174.2005468505,1681826.0005130104 1335166.4597054988,1681827.4316706816 1335158.7093584063,1681828.8579271277 1335152.670044605,1681835.8715799614 1335146.6402365442,1681842.8803315703 1335140.6009227429,1681849.889083179 1335141.11106415,1681856.5302429202 1335141.6085312364,1681863.1714026614 1335142.1186726436,1681869.8223648523 1335149.7898052318,1681873.017963488 1335157.4514320793,1681876.2184633485 1335165.1193960872,1681879.4189632088 1335173.4400876102,1681880.1296408195 1335181.7607791328,1681880.8403184302 1335190.0814706555,1681881.5411935912 1335198.6302999503,1681881.5607984907 1335207.1886349856,1681881.5706009406 1335215.7406328607,1681881.5804033903 1335224.2894621554,1681881.59020584 1335233.2597126127,1681881.688230338 1335242.2394688104,1681881.7813536113 1335247.8415185486,1681885.271025741 1335253.4403997064,1681888.7508954208 1335258.849166054,1681894.4706248806 1335264.261100982,1681900.20015679 1335268.2186576126,1681906.0718242216 1335272.1698770828,1681911.9483928783 1335276.121096553,1681917.82006031 1335280.8803039663,1681924.662170272 1335285.6426799595,1681931.4944777845 1335285.6616914407,1681931.523885134\" opacity=\"0.8\" /><polyline fill=\"none\" stroke=\"#66cc99\" stroke-width=\"35.288784000004334\" points=\"1335285.6616914407,1681931.523885134 1335286.4791851242,1681921.6479169577 1335286.7295029575,1681918.712083242 1335288.053969468,1681903.082077032 1335288.149026873,1681901.9596965297 1335288.2377471176,1681900.9255380754 1335289.7966885606,1681882.5655495955 1335289.8759030649,1681881.6196131895 1335290.6585423665,1681872.4298164998 1335291.3112698812,1681864.7054860555 1335291.685162341,1681860.299284869 1335292.3315526955,1681852.7513985212 1335292.8353569424,1681846.767002917 1335293.5768047017,1681838.028118918 1335294.0013944444,1681833.0582768682 1335294.3847926448,1681828.4854340353 1335295.3195237946,1681817.5066902565 1335295.6712361933,1681813.3798588898 1335295.9469026679,1681810.1058406557 1335297.207997575,1681795.2404255304 1335297.341077942,1681793.6916384615 1335297.4614839884,1681792.2604807904 1335299.0996399357,1681772.9692595792 1335299.8505934356,1681764.1617584317 1335300.535006752,1681756.0404287702 1335300.8391904482,1681752.4527321425 1335301.5204351845,1681744.4784392284 1335302.0527566527,1681738.1558591058 1335302.730832809,1681730.1815661914 1335303.1902769331,1681724.7902188 1335303.6085295156,1681719.8203767503 1335304.4703833214,1681709.665038755 1335304.860118682,1681705.1118008217\" opacity=\"0.8\" /></g></g></svg>"
      ],
      "text/plain": [
       "<shapely.geometry.multilinestring.MultiLineString at 0x7fa3db323730>"
      ]
     },
     "metadata": {},
     "output_type": "display_data"
    },
    {
     "data": {
      "image/svg+xml": [
       "<svg xmlns=\"http://www.w3.org/2000/svg\" xmlns:xlink=\"http://www.w3.org/1999/xlink\" width=\"300\" height=\"300\" viewBox=\"1332155.3061102696 1677701.8152194656 3559.4458702642005 5292.941774413455\" preserveAspectRatio=\"xMinYMin meet\"><g transform=\"matrix(1,0,0,-1,0,3360696.5722133447)\"><g><polyline fill=\"none\" stroke=\"#66cc99\" stroke-width=\"35.2862784960897\" points=\"1332593.9814528541,1682292.459855137 1332621.1298233052,1682335.0514611963 1332596.760295161,1682379.2506675762 1332613.309774487,1682537.898763743 1332649.8086166,1682584.690715762 1332763.139121492,1682589.3811837712\" opacity=\"0.8\" /><polyline fill=\"none\" stroke=\"#66cc99\" stroke-width=\"35.2862784960897\" points=\"1332920.9916231208,1682308.080044839 1332909.4706759967,1682175.0609207372 1332862.930295509,1682196.141070065 1332836.418809099,1682294.6801080192 1332752.5212189031,1682321.450574336 1332593.9814528541,1682292.459855137\" opacity=\"0.8\" /><polyline fill=\"none\" stroke=\"#66cc99\" stroke-width=\"35.2862784960897\" points=\"1334668.9895814909,1680527.9209839168 1334695.6816768083,1680542.011992826 1334610.9694453843,1680630.0085055057 1334601.2197329802,1680699.4097876458\" opacity=\"0.8\" /><polyline fill=\"none\" stroke=\"#66cc99\" stroke-width=\"35.2862784960897\" points=\"1334809.9310691222,1680483.280667693 1334958.980946107,1680401.4106806258 1335014.3711630409,1680404.831732528\" opacity=\"0.8\" /><polyline fill=\"none\" stroke=\"#66cc99\" stroke-width=\"35.2862784960897\" points=\"1334947.960634199,1680331.200206983 1334826.87978919,1680355.5695653819 1334695.789408437,1680435.55258256 1334663.710731681,1680481.060414811\" opacity=\"0.8\" /><polyline fill=\"none\" stroke=\"#66cc99\" stroke-width=\"35.2862784960897\" points=\"1335418.9290945602,1680361.9803617827 1335435.2631106286,1680169.6559796284\" opacity=\"0.8\" /><polyline fill=\"none\" stroke=\"#66cc99\" stroke-width=\"35.2862784960897\" points=\"1334601.2197329802,1680699.4097876458 1334572.6708513554,1680743.3884391037 1334504.4798989194,1680777.0500214298 1334435.2686645873,1680841.4275525676\" opacity=\"0.8\" /><polyline fill=\"none\" stroke=\"#66cc99\" stroke-width=\"35.2862784960897\" points=\"1334713.12152636,1681144.191136026 1334726.049321813,1681161.791418806\" opacity=\"0.8\" /><polyline fill=\"none\" stroke=\"#66cc99\" stroke-width=\"35.2862784960897\" points=\"1334899.3388152719,1681220.9099403578 1334989.060250576,1681229.4086566877 1334928.429523618,1681170.000963127 1334933.9206681082,1681086.6802147948\" opacity=\"0.8\" /><polyline fill=\"none\" stroke=\"#66cc99\" stroke-width=\"35.2862784960897\" points=\"1334981.750342706,1680995.341069741 1334972.0386532298,1680963.2625816332 1334894.3514745752,1680928.7187796189 1334880.1308995772,1680871.5798610228 1334939.700153134,1680777.1480458397 1334858.159984462,1680746.5595287608 1334779.449355334,1680688.7790404027 1334769.6616200022,1680547.7513220198 1334809.9310691222,1680483.280667693\" opacity=\"0.8\" /><polyline fill=\"none\" stroke=\"#66cc99\" stroke-width=\"35.2862784960897\" points=\"1334809.9310691222,1680483.280667693 1334764.471490357,1680496.362025181 1334692.250107574,1680662.2095241258 1334601.2197329802,1680699.4097876458\" opacity=\"0.8\" /><polyline fill=\"none\" stroke=\"#66cc99\" stroke-width=\"35.2862784960897\" points=\"1332821.3300439161,1678085.0816239426 1332793.468743569,1678040.7010724046 1332685.290345394,1678140.6075508753 1332705.490025789,1678234.9908439757 1332651.8016517323,1678342.4599056626 1332793.27862893,1678350.3900804154 1332841.2984181668,1678324.5704508736 1332831.738820402,1678203.6818474848\" opacity=\"0.8\" /><polyline fill=\"none\" stroke=\"#66cc99\" stroke-width=\"35.2862784960897\" points=\"1333772.268575938,1682693.688958242 1334210.7492962116,1682725.7821500113 1334229.0700102577,1682629.2820197812 1334266.5289312976,1682573.9619441093 1334328.6903979573,1682547.578674211\" opacity=\"0.8\" /><polyline fill=\"none\" stroke=\"#66cc99\" stroke-width=\"35.2862784960897\" points=\"1333639.8188755158,1679852.27254557 1333664.6415102163,1679816.0182176046 1333673.6687869919,1679671.1719583378 1333719.540280808,1679613.3179516725 1333700.110564701,1679538.7801904588 1333711.3114855161,1679457.9492621357\" opacity=\"0.8\" /><polyline fill=\"none\" stroke=\"#66cc99\" stroke-width=\"35.2862784960897\" points=\"1332607.4098835231,1679566.6877399294 1332554.0415357752,1679633.6384118246 1332559.969943935,1679720.071435168 1332635.550018674,1679829.8788691505 1332747.9711418762,1679858.9087981137 1332759.840632505,1679913.8122700439 1332733.6808581771,1679972.612212264 1332829.609536445,1679982.7283313556 1332861.539290067,1680029.5594931387 1332932.810416513,1680018.9483507776 1333021.0204404367,1680067.7203958747 1333060.8716373509,1680021.232319526\" opacity=\"0.8\" /><polyline fill=\"none\" stroke=\"#66cc99\" stroke-width=\"35.2862784960897\" points=\"1333135.5993647918,1679959.761212139 1332974.7116829508,1679941.5090670337 1332867.5310697732,1679973.092531872 1332861.70088751,1679944.2096395236 1332962.1292624257,1679914.2092689036 1332947.6298526237,1679880.1506877178\" opacity=\"0.8\" /><polyline fill=\"none\" stroke=\"#66cc99\" stroke-width=\"35.2862784960897\" points=\"1332616.250214237,1679570.8880858894 1332607.4098835231,1679566.6877399294\" opacity=\"0.8\" /><polyline fill=\"none\" stroke=\"#66cc99\" stroke-width=\"35.2862784960897\" points=\"1335186.9508951807,1678079.0090117555 1335166.1016564358,1677944.6322495777 1335039.5993756377,1678020.4394268985 1334966.230651008,1678023.0811847425\" opacity=\"0.8\" /><polyline fill=\"none\" stroke=\"#66cc99\" stroke-width=\"35.2862784960897\" points=\"1334938.0588300838,1678190.3799350744 1334988.0589801439,1678182.6997225664 1335008.4617663447,1678240.9311232097 1335134.8214611637,1678187.1696356535 1335186.9508951807,1678079.0090117555\" opacity=\"0.8\" /><polyline fill=\"none\" stroke=\"#66cc99\" stroke-width=\"35.2862784960897\" points=\"1333062.3513629579,1681137.0500577718 1333044.5502955918,1681203.740964981\" opacity=\"0.8\" /><polyline fill=\"none\" stroke=\"#66cc99\" stroke-width=\"35.2862784960897\" points=\"1334511.3398688103,1682018.599259031 1334612.528385424,1681962.00927713\" opacity=\"0.8\" /><polyline fill=\"none\" stroke=\"#66cc99\" stroke-width=\"35.2862784960897\" points=\"1334563.0700620853,1681621.6685262958 1334572.8514602624,1681548.870698356 1334510.8614136355,1681344.450104032\" opacity=\"0.8\" /><polyline fill=\"none\" stroke=\"#66cc99\" stroke-width=\"35.2862784960897\" points=\"1335435.2631106286,1680169.6559796284 1335450.2314698733,1679993.3786834807 1335395.3010135083,1679977.9300364957 1335328.8397874297,1679843.602286523 1335350.6589276912,1679736.4513140458 1335396.9296622493,1679652.3708765379 1335359.3503352713,1679629.6684232275\" opacity=\"0.8\" /><polyline fill=\"none\" stroke=\"#66cc99\" stroke-width=\"35.2862784960897\" points=\"1335219.7900304927,1679489.5817391789 1335185.9686362124,1679519.5281963735 1335151.7511697677,1679476.421962163 1335082.1913919307,1679466.1293991336 1335071.7604354038,1679570.3293467537 1335125.6389240995,1679625.9189895527 1335131.7891326717,1679699.8293945435 1335180.2588598875,1679900.7995296426 1335233.5606675118,1679960.7904684418 1335241.7609456077,1680016.2477782876 1335083.341585497,1680048.57132742\" opacity=\"0.8\" /><polyline fill=\"none\" stroke=\"#66cc99\" stroke-width=\"35.2862784960897\" points=\"1334947.539213416,1680111.302048473 1334928.939664566,1680140.4496067278 1334969.8491663039,1680212.8896455718 1335015.0017099269,1680240.2286534656\" opacity=\"0.8\" /><polyline fill=\"none\" stroke=\"#66cc99\" stroke-width=\"35.2862784960897\" points=\"1335218.1708874837,1680280.1000821528 1335165.4014008488,1680234.151140058 1335174.8912899129,1680184.97229366 1335239.7488990116,1680129.8090570436 1335374.6292150933,1680133.5290833956 1335435.2631106286,1680169.6559796284\" opacity=\"0.8\" /><polyline fill=\"none\" stroke=\"#66cc99\" stroke-width=\"35.2862784960897\" points=\"1333437.2799279874,1681506.7692143458 1333351.9089493393,1681572.5779018668 1333307.4886639342,1681489.9923366082 1333162.161548439,1681501.299452279\" opacity=\"0.8\" /><polyline fill=\"none\" stroke=\"#66cc99\" stroke-width=\"35.2862784960897\" points=\"1333273.4201206234,1681671.1022361591 1333329.9602142654,1681688.4182481507\" opacity=\"0.8\" /><polyline fill=\"none\" stroke=\"#66cc99\" stroke-width=\"35.2862784960897\" points=\"1333127.5987070666,1678801.9302118516 1333240.7710999504,1678727.8188568205 1333344.4691297994,1678717.7909596977 1333363.3887049581,1678652.7512736716 1333314.1806992274,1678524.7215920286\" opacity=\"0.8\" /><polyline fill=\"none\" stroke=\"#66cc99\" stroke-width=\"35.2862784960897\" points=\"1332881.9198962268,1678620.0797378845 1333074.6993087616,1678660.2697459036 1333153.0011914158,1678652.3787809145 1333178.6191390227,1678583.1588439324 1333224.7314447148,1678576.3510486716 1333241.4396697644,1678525.4224665589 1333314.1806992274,1678524.7215920286\" opacity=\"0.8\" /><polyline fill=\"none\" stroke=\"#66cc99\" stroke-width=\"35.2862784960897\" points=\"1333314.1806992274,1678524.7215920286 1333283.1191357903,1678464.4022714568 1333173.2515690478,1678507.6016288567 1333126.2805789027,1678578.7281406093 1332944.4802867707,1678611.3702690736 1332898.491555594,1678537.8078507374\" opacity=\"0.8\" /><polyline fill=\"none\" stroke=\"#66cc99\" stroke-width=\"35.2862784960897\" points=\"1333968.6509777398,1679875.9111319939 1333921.6606592732,1679923.2716255898 1333860.158573553,1679936.6421550869 1333666.7391084,1679920.8406202267 1333639.8188755158,1679852.27254557\" opacity=\"0.8\" /><polyline fill=\"none\" stroke=\"#66cc99\" stroke-width=\"35.2862784960897\" points=\"1333639.8188755158,1679852.27254557 1333573.9913649005,1679895.2611504889 1333541.7384163921,1679829.4279568654 1333461.3294298223,1679834.4419054268 1333415.0998867694,1679889.752178658 1333345.6890320664,1679926.8985287526 1333279.8998612363,1680006.4012263229 1333276.9911072594,1680073.6508726678 1333343.2112046045,1680100.862448829\" opacity=\"0.8\" /><polyline fill=\"none\" stroke=\"#66cc99\" stroke-width=\"35.2862784960897\" points=\"1335481.3595734343,1679626.781604359 1335487.4305675733,1679555.321809613 1335425.3898237094,1679448.8280908035 1335312.8511462887,1679421.8615756668\" opacity=\"0.8\" /><polyline fill=\"none\" stroke=\"#66cc99\" stroke-width=\"35.2862784960897\" points=\"1335358.6595854163,1679537.19219502 1335391.498720728,1679534.5700420577 1335481.3595734343,1679626.781604359\" opacity=\"0.8\" /><polyline fill=\"none\" stroke=\"#66cc99\" stroke-width=\"35.2862784960897\" points=\"1334400.8610835033,1681205.0789981748 1334370.6708788285,1681317.2679351936 1334395.5917394254,1681355.281801315 1334510.8614136355,1681344.450104032\" opacity=\"0.8\" /><polyline fill=\"none\" stroke=\"#66cc99\" stroke-width=\"35.2862784960897\" points=\"1334510.8614136355,1681344.450104032 1334544.4800189673,1681213.381665685\" opacity=\"0.8\" /><polyline fill=\"none\" stroke=\"#66cc99\" stroke-width=\"35.2862784960897\" points=\"1334467.9208538374,1680943.260700813 1334424.5810532975,1680951.0193328487 1334393.5987042931,1680874.491185994\" opacity=\"0.8\" /><polyline fill=\"none\" stroke=\"#66cc99\" stroke-width=\"35.2862784960897\" points=\"1334044.2310524788,1681218.4495276718 1334103.391559562,1681204.5692712439 1334264.2792414026,1681101.771072684\" opacity=\"0.8\" /><polyline fill=\"none\" stroke=\"#66cc99\" stroke-width=\"35.2862784960897\" points=\"1334449.9106603684,1682743.289309602 1334828.5908209411,1682771.0008102532\" opacity=\"0.8\" /><polyline fill=\"none\" stroke=\"#66cc99\" stroke-width=\"35.2862784960897\" points=\"1334470.8612935874,1682684.499169823 1334449.9106603684,1682743.289309602\" opacity=\"0.8\" /><polyline fill=\"none\" stroke=\"#66cc99\" stroke-width=\"35.2862784960897\" points=\"1334435.2686645873,1680841.4275525676 1334401.1906155443,1680809.1481144195 1334409.8091458462,1680743.9079684757 1334509.5591283583,1680737.320728137 1334494.4101602063,1680681.2409632888 1334558.9509115734,1680643.5407752788\" opacity=\"0.8\" /><polyline fill=\"none\" stroke=\"#66cc99\" stroke-width=\"35.2862784960897\" points=\"1334141.8485824566,1680822.0383243086 1334208.4615833887,1680789.342282419 1334299.2606518385,1680791.170437662 1334393.5987042931,1680874.491185994\" opacity=\"0.8\" /><polyline fill=\"none\" stroke=\"#66cc99\" stroke-width=\"35.2862784960897\" points=\"1334393.5987042931,1680874.491185994 1334435.2686645873,1680841.4275525676\" opacity=\"0.8\" /><polyline fill=\"none\" stroke=\"#66cc99\" stroke-width=\"35.2862784960897\" points=\"1332881.9198962268,1678620.0797378845 1332898.491555594,1678537.8078507374\" opacity=\"0.8\" /><polyline fill=\"none\" stroke=\"#66cc99\" stroke-width=\"35.2862784960897\" points=\"1332898.491555594,1678537.8078507374 1332841.1114721051,1678421.7812580746 1332766.0003468092,1678461.1086512874 1332714.7391029769,1678604.1997834966 1332720.600971013,1678704.7777291744 1332697.7301799401,1678867.5918627577 1332713.9596329571,1678910.992170198\" opacity=\"0.8\" /><polyline fill=\"none\" stroke=\"#66cc99\" stroke-width=\"35.2862784960897\" points=\"1332784.8090217619,1678926.9309392318 1332877.870137558,1678718.8986355285 1332881.9198962268,1678620.0797378845\" opacity=\"0.8\" /><polyline fill=\"none\" stroke=\"#66cc99\" stroke-width=\"35.2862784960897\" points=\"1333715.950282708,1678772.5179876904 1333740.9313462742,1678789.6624569648 1333791.200825406,1679017.4417780228 1333820.339062412,1679047.4323462017 1334097.7609976698,1679127.072277946 1334111.3795429775,1679198.4879617074\" opacity=\"0.8\" /><polyline fill=\"none\" stroke=\"#66cc99\" stroke-width=\"35.2862784960897\" points=\"1334263.1100363727,1679026.6217640007 1334254.5485404625,1678969.0814354466 1334133.2015349588,1678977.71248473 1333998.1504325597,1678967.9394510726 1333918.910334162,1678991.0683105653 1333844.749782061,1678948.9080119093 1333768.789478044,1678767.3913110576 1333715.950282708,1678772.5179876904\" opacity=\"0.8\" /><polyline fill=\"none\" stroke=\"#66cc99\" stroke-width=\"35.2862784960897\" points=\"1332795.899042371,1678944.0018901988 1332784.8090217619,1678926.9309392318\" opacity=\"0.8\" /><polyline fill=\"none\" stroke=\"#66cc99\" stroke-width=\"35.2862784960897\" points=\"1332784.8090217619,1678926.9309392318 1332713.9596329571,1678910.992170198\" opacity=\"0.8\" /><polyline fill=\"none\" stroke=\"#66cc99\" stroke-width=\"35.2862784960897\" points=\"1332713.9596329571,1678910.992170198 1332682.349905644,1679304.1881729194 1332612.498618694,1679373.5306404138 1332621.399152377,1679439.0991681307 1332684.4094809,1679524.3313924538\" opacity=\"0.8\" /><polyline fill=\"none\" stroke=\"#66cc99\" stroke-width=\"35.2862784960897\" points=\"1334652.430596433,1679893.7515745778 1334722.9916447022,1679953.2916010919 1334842.380469424,1680019.3698557396 1334947.539213416,1680111.302048473\" opacity=\"0.8\" /><polyline fill=\"none\" stroke=\"#66cc99\" stroke-width=\"35.2862784960897\" points=\"1334947.539213416,1680111.302048473 1335014.0796539276,1680081.8310096657 1335082.2104033947,1680091.3785871805 1335083.341585497,1680048.57132742\" opacity=\"0.8\" /><polyline fill=\"none\" stroke=\"#66cc99\" stroke-width=\"35.2862784960897\" points=\"1335083.341585497,1680048.57132742 1334922.269809314,1679969.4509250477 1334889.170850662,1679986.031753966 1334813.6890018198,1679933.0593629086 1334802.7827586953,1679963.1871652615 1334725.9637702254,1679926.202555443 1334626.9897722984,1679814.4596294886 1334571.5523435625,1679718.4295263037 1334553.8399963614,1679632.8689202075 1334511.1687656352,1679569.2902880097 1334539.438812456,1679462.6005203808 1334539.0712574874,1679361.9392539547 1334505.5603837844,1679355.1020513708\" opacity=\"0.8\" /><polyline fill=\"none\" stroke=\"#66cc99\" stroke-width=\"35.2862784960897\" points=\"1333062.7094121946,1681091.7921877662 1333062.3513629579,1681137.0500577718\" opacity=\"0.8\" /><polyline fill=\"none\" stroke=\"#66cc99\" stroke-width=\"35.2862784960897\" points=\"1333062.3513629579,1681137.0500577718 1333091.4103855307,1681228.781300465 1333221.7593191916,1681332.951840762 1333432.0612811465,1681330.8884269358 1333455.4390445903,1681228.6783748348 1333400.8412888434,1681143.6421993312 1333481.8396307942,1681152.9790243648 1333505.3409687534,1681117.9892112857 1333495.3599502053,1681026.2824746952 1333515.8606454455,1680987.459907193 1333594.980337905,1681039.501066357 1333600.8105201682,1681126.8996301368\" opacity=\"0.8\" /><polyline fill=\"none\" stroke=\"#66cc99\" stroke-width=\"35.2862784960897\" points=\"1334051.2589569676,1680820.7493033197 1334026.2208590098,1680760.640735229\" opacity=\"0.8\" /><polyline fill=\"none\" stroke=\"#66cc99\" stroke-width=\"35.2862784960897\" points=\"1334035.501621971,1678305.5292092694 1334021.0687522925,1678355.7716205136 1333895.798731213,1678373.1219410487 1333829.3314848372,1678515.4582853024 1333839.040005736,1678530.5785505143\" opacity=\"0.8\" /><polyline fill=\"none\" stroke=\"#66cc99\" stroke-width=\"35.2862784960897\" points=\"1333040.0794329976,1680326.421517005 1333075.7988050906,1680514.1093445758 1333086.7810940708,1680643.212393506 1333154.0785077035,1680715.711246996 1333156.3408719078,1680756.469796592 1333100.9889947595,1680756.342364859 1333054.081376161,1680682.0692695517 1332962.1514424668,1680671.7178918766 1332921.0803432858,1680751.2205894468 1332990.3993092466,1680865.4680390717 1333047.4210266408,1680921.2885293558\" opacity=\"0.8\" /><polyline fill=\"none\" stroke=\"#66cc99\" stroke-width=\"35.2862784960897\" points=\"1333302.6312349075,1680442.2378473086 1333318.7592934503,1680258.421983925 1333425.4104373583,1680293.8185983046\" opacity=\"0.8\" /><polyline fill=\"none\" stroke=\"#66cc99\" stroke-width=\"35.2862784960897\" points=\"1333452.7394167164,1680066.5980163827 1333343.2112046045,1680100.862448829\" opacity=\"0.8\" /><polyline fill=\"none\" stroke=\"#66cc99\" stroke-width=\"35.2862784960897\" points=\"1333343.2112046045,1680100.862448829 1333250.9200530965,1680145.5909870218\" opacity=\"0.8\" /><polyline fill=\"none\" stroke=\"#66cc99\" stroke-width=\"35.2862784960897\" points=\"1333170.6786842665,1680143.8118439838 1333051.9711036677,1680135.1317824959\" opacity=\"0.8\" /><polyline fill=\"none\" stroke=\"#66cc99\" stroke-width=\"35.2862784960897\" points=\"1333706.479405108,1682558.8318764563 1333623.13948452,1682584.190791272 1333527.9614422184,1682565.8112144342 1333461.7603563373,1682578.039759557 1333382.4508660964,1682473.7020876412 1333424.8400934413,1682381.701277821 1333401.2088438123,1682289.509320402\" opacity=\"0.8\" /><polyline fill=\"none\" stroke=\"#66cc99\" stroke-width=\"35.2862784960897\" points=\"1333174.3510653768,1682649.9112568242 1333772.268575938,1682693.688958242\" opacity=\"0.8\" /><polyline fill=\"none\" stroke=\"#66cc99\" stroke-width=\"35.2862784960897\" points=\"1333772.268575938,1682693.688958242 1333827.9309736632,1682614.2107667741\" opacity=\"0.8\" /><polyline fill=\"none\" stroke=\"#66cc99\" stroke-width=\"35.2862784960897\" points=\"1334668.9895814909,1680527.9209839168 1334663.710731681,1680481.060414811\" opacity=\"0.8\" /><polyline fill=\"none\" stroke=\"#66cc99\" stroke-width=\"35.2862784960897\" points=\"1334663.710731681,1680481.060414811 1334587.2114526625,1680519.9908091638 1334582.7405900683,1680552.8191840067 1334523.4786885113,1680539.6594069907 1334517.5597860834,1680595.641147429 1334454.4005344263,1680581.6187556067 1334427.6989333772,1680633.792247724 1334356.9604447784,1680670.9484002597\" opacity=\"0.8\" /><polyline fill=\"none\" stroke=\"#66cc99\" stroke-width=\"35.2862784960897\" points=\"1334375.9592343704,1680689.3377795387 1334512.4488708712,1680628.0382148686 1334558.9509115734,1680643.5407752788\" opacity=\"0.8\" /><polyline fill=\"none\" stroke=\"#66cc99\" stroke-width=\"35.2862784960897\" points=\"1334558.9509115734,1680643.5407752788 1334668.9895814909,1680527.9209839168\" opacity=\"0.8\" /><polyline fill=\"none\" stroke=\"#66cc99\" stroke-width=\"35.2862784960897\" points=\"1333324.5102612805,1682051.9618669073 1333234.1202561625,1682033.979288929 1333250.7299384575,1681986.8883624598 1333205.9196011845,1681946.158730065 1333129.6804623639,1681968.3808637671 1333060.8589630416,1681950.290458938 1333022.490660312,1681900.528367302 1332950.221748869,1681872.699237359 1333104.7500960347,1681787.540531343 1333206.3695391635,1681828.5980553888 1333246.6900023783,1681821.559902765 1333273.4201206234,1681671.1022361591\" opacity=\"0.8\" /><polyline fill=\"none\" stroke=\"#66cc99\" stroke-width=\"35.2862784960897\" points=\"1333273.4201206234,1681671.1022361591 1333199.0406198297,1681590.232098072 1333162.161548439,1681501.299452279\" opacity=\"0.8\" /><polyline fill=\"none\" stroke=\"#66cc99\" stroke-width=\"35.2862784960897\" points=\"1333162.161548439,1681501.299452279 1333155.5614018878,1681387.110327178 1333060.7385571036,1681295.5898369658 1333044.5502955918,1681203.740964981\" opacity=\"0.8\" /><polyline fill=\"none\" stroke=\"#66cc99\" stroke-width=\"35.2862784960897\" points=\"1333044.5502955918,1681203.740964981 1332951.1089505176,1681293.060807193 1332962.7503035797,1681490.080558577 1332995.4500214898,1681538.641851193 1332825.230562593,1681623.138892443 1332783.709525433,1681630.3485877838 1332698.6110444341,1681697.2012352692 1332649.019640848,1681791.8585065948 1332651.389736681,1681831.141788823 1332585.559374346,1681918.398217209 1332591.97891199,1682048.599629651 1332739.1213054303,1682166.1701067681 1332855.9689311439,1682157.6223782334 1332951.001218889,1682100.410431452 1332999.4107431357,1682109.0218758532\" opacity=\"0.8\" /><polyline fill=\"none\" stroke=\"#66cc99\" stroke-width=\"35.2862784960897\" points=\"1333425.4104373583,1680293.8185983046 1333383.8608830024,1680349.9184581565 1333389.6498737603,1680390.6083906656\" opacity=\"0.8\" /><polyline fill=\"none\" stroke=\"#66cc99\" stroke-width=\"35.2862784960897\" points=\"1333352.1497612153,1680423.490678934 1333302.6312349075,1680442.2378473086\" opacity=\"0.8\" /><polyline fill=\"none\" stroke=\"#66cc99\" stroke-width=\"35.2862784960897\" points=\"1333302.6312349075,1680442.2378473086 1333317.9513062346,1680623.872177452 1333378.3507270485,1680782.0590687708\" opacity=\"0.8\" /><polyline fill=\"none\" stroke=\"#66cc99\" stroke-width=\"35.2862784960897\" points=\"1333528.3385029193,1680794.2876138936 1333520.0209874625,1680600.7090094157 1333590.509475311,1680604.541763839 1333583.1298587401,1680488.5494797197 1333658.7511249841,1680509.992319364\" opacity=\"0.8\" /><polyline fill=\"none\" stroke=\"#66cc99\" stroke-width=\"35.2862784960897\" points=\"1333937.8999348797,1680195.9216202348 1333830.3612724652,1680132.4998270927 1333452.7394167164,1680066.5980163827\" opacity=\"0.8\" /><polyline fill=\"none\" stroke=\"#66cc99\" stroke-width=\"35.2862784960897\" points=\"1333452.7394167164,1680066.5980163827 1333452.7615967575,1680214.5511593178 1333425.4104373583,1680293.8185983046\" opacity=\"0.8\" /><polyline fill=\"none\" stroke=\"#66cc99\" stroke-width=\"35.2862784960897\" points=\"1335207.2709815137,1682798.7221133453 1335222.8318647167,1682671.5207379651\" opacity=\"0.8\" /><polyline fill=\"none\" stroke=\"#66cc99\" stroke-width=\"35.2862784960897\" points=\"1335147.4799275447,1682794.340422227 1335207.2709815137,1682798.7221133453\" opacity=\"0.8\" /><polyline fill=\"none\" stroke=\"#66cc99\" stroke-width=\"35.2862784960897\" points=\"1334400.8610835033,1681205.0789981748 1334414.3592228733,1681195.6196426288\" opacity=\"0.8\" /><polyline fill=\"none\" stroke=\"#66cc99\" stroke-width=\"35.2862784960897\" points=\"1334414.3592228733,1681195.6196426288 1334438.9505514293,1681117.352052622 1334417.9302095093,1681069.1681539838 1334344.7804335724,1681026.1893515058 1334279.6690214307,1681032.73248086 1334264.2792414026,1681101.771072684\" opacity=\"0.8\" /><polyline fill=\"none\" stroke=\"#66cc99\" stroke-width=\"35.2862784960897\" points=\"1334264.2792414026,1681101.771072684 1334374.2608769285,1681154.0180831086 1334351.8717096075,1681192.350528562 1334400.8610835033,1681205.0789981748\" opacity=\"0.8\" /><polyline fill=\"none\" stroke=\"#66cc99\" stroke-width=\"35.2862784960897\" points=\"1333473.1799089874,1678455.1291622894 1333430.0714145915,1678473.6998867264 1333436.088542916,1678533.0487656414 1333559.0895457794,1678499.5979357962 1333772.759705422,1678464.3777653542 1333790.190049242,1678433.1814969347 1333602.1888513009,1678420.9823591348 1333565.6294893613,1678458.3590665925 1333473.1799089874,1678455.1291622894\" opacity=\"0.8\" /><polyline fill=\"none\" stroke=\"#66cc99\" stroke-width=\"35.2862784960897\" points=\"1333047.4210266408,1680921.2885293558 1332937.0309614989,1681074.6281136097 1333062.7094121946,1681091.7921877662\" opacity=\"0.8\" /><polyline fill=\"none\" stroke=\"#66cc99\" stroke-width=\"35.2862784960897\" points=\"1333062.7094121946,1681091.7921877662 1333180.9702233917,1680920.141643761 1333318.1097351003,1680928.620755209 1333283.6799739753,1680994.2382951307 1333355.9900769233,1680937.349828902 1333448.2685541222,1680902.722706139 1333520.9810663895,1680926.63085969 1333649.220044415,1680862.1009005948 1333718.218984067,1680868.6391287288\" opacity=\"0.8\" /><polyline fill=\"none\" stroke=\"#66cc99\" stroke-width=\"35.2862784960897\" points=\"1333718.218984067,1680868.6391287288 1333903.4413397012,1680817.9605088609 1333954.1800851338,1680772.099788735 1334026.2208590098,1680760.640735229\" opacity=\"0.8\" /><polyline fill=\"none\" stroke=\"#66cc99\" stroke-width=\"35.2862784960897\" points=\"1334026.2208590098,1680760.640735229 1334180.0806363618,1680730.4100072458 1334361.7101421764,1680708.1584662206 1334375.9592343704,1680689.3377795387\" opacity=\"0.8\" /><polyline fill=\"none\" stroke=\"#66cc99\" stroke-width=\"35.2862784960897\" points=\"1334375.9592343704,1680689.3377795387 1334356.9604447784,1680670.9484002597\" opacity=\"0.8\" /><polyline fill=\"none\" stroke=\"#66cc99\" stroke-width=\"35.2862784960897\" points=\"1334356.9604447784,1680670.9484002597 1334323.0693417974,1680637.610298486\" opacity=\"0.8\" /><polyline fill=\"none\" stroke=\"#66cc99\" stroke-width=\"35.2862784960897\" points=\"1334015.1308384007,1680714.672188252 1333749.69879971,1680795.7187702768 1333623.500702334,1680815.1079985357 1333528.3385029193,1680794.2876138936\" opacity=\"0.8\" /><polyline fill=\"none\" stroke=\"#66cc99\" stroke-width=\"35.2862784960897\" points=\"1333528.3385029193,1680794.2876138936 1333526.1997132304,1680813.8287799878 1333409.1302871045,1680832.080925093 1333378.3507270485,1680782.0590687708\" opacity=\"0.8\" /><polyline fill=\"none\" stroke=\"#66cc99\" stroke-width=\"35.2862784960897\" points=\"1333378.3507270485,1680782.0590687708 1333269.8808197605,1680756.65114175 1333229.9089000507,1680847.671707472 1333164.3700468286,1680862.4390848088 1333118.3591356105,1680919.391757026 1333047.4210266408,1680921.2885293558\" opacity=\"0.8\" /><polyline fill=\"none\" stroke=\"#66cc99\" stroke-width=\"35.2862784960897\" points=\"1333139.1988686237,1678979.7513924537 1333136.4612178218,1679064.9689131156\" opacity=\"0.8\" /><polyline fill=\"none\" stroke=\"#66cc99\" stroke-width=\"35.2862784960897\" points=\"1332831.548705763,1679439.4814633287 1332868.1711223912,1679528.9091323917 1332965.161590918,1679685.9295332336 1333023.381030538,1679737.8187545626\" opacity=\"0.8\" /><polyline fill=\"none\" stroke=\"#66cc99\" stroke-width=\"35.2862784960897\" points=\"1333224.7409504468,1679309.4618861668 1333221.2713582849,1679232.1691489154 1333136.4612178218,1679064.9689131156\" opacity=\"0.8\" /><polyline fill=\"none\" stroke=\"#66cc99\" stroke-width=\"35.2862784960897\" points=\"1333136.4612178218,1679064.9689131156 1333091.2804738607,1679135.5807967167 1333006.0837669652,1679133.1890011176 1332980.0475671524,1679106.202881099\" opacity=\"0.8\" /><polyline fill=\"none\" stroke=\"#66cc99\" stroke-width=\"35.2862784960897\" points=\"1334099.2692404727,1678636.4106045577 1334135.3910218847,1678696.8916654058 1334124.8301536876,1678815.4722840658 1334026.8894288237,1678836.9886420174 1334042.1999944188,1678898.6018847988 1334086.1988590406,1678912.6193754005 1334118.6197421467,1678862.2593348646 1334175.061609892,1678881.7710936356 1334250.1695666106,1678822.4124122798 1334213.8608391366,1678760.7795646165 1334213.6485444566,1678656.7702744736 1334283.1798050976,1678677.3995115166 1334241.7284766384,1678619.7121463479\" opacity=\"0.8\" /><polyline fill=\"none\" stroke=\"#66cc99\" stroke-width=\"35.2862784960897\" points=\"1335325.6585358034,1681173.441619911 1335280.1292483376,1681143.5490761418 1335250.8389196205,1681179.401504027 1335261.2793818796,1681248.400886087 1335215.1987619605,1681304.1277630597 1335142.6288356725,1681300.3783293848 1335084.9290427326,1681342.3376780008 1335018.4015933878,1681329.6876279158 1334881.4014990812,1681333.951689742\" opacity=\"0.8\" /><polyline fill=\"none\" stroke=\"#66cc99\" stroke-width=\"35.2862784960897\" points=\"1334624.3186616201,1681800.5875802878 1334607.9814769744,1681860.1178043608 1334634.3091859003,1681909.2280336719 1334612.528385424,1681962.00927713\" opacity=\"0.8\" /><polyline fill=\"none\" stroke=\"#66cc99\" stroke-width=\"35.2862784960897\" points=\"1334612.528385424,1681962.00927713 1334638.0702871752,1682012.9726579082 1334616.8503248843,1682141.379733529\" opacity=\"0.8\" /><polyline fill=\"none\" stroke=\"#66cc99\" stroke-width=\"35.2862784960897\" points=\"1335238.6905941877,1682485.5434363454 1335285.6615843328,1681931.5236856814\" opacity=\"0.8\" /><polyline fill=\"none\" stroke=\"#66cc99\" stroke-width=\"35.2862784960897\" points=\"1335304.8599942955,1681705.11180514 1335348.2603146622,1681194.061054513\" opacity=\"0.8\" /><polyline fill=\"none\" stroke=\"#66cc99\" stroke-width=\"35.2862784960897\" points=\"1332716.320223058,1679703.8581977866 1332793.250111734,1679794.7415293348 1332850.699587066,1679826.8793222106 1332871.140079337,1679877.8520153079 1332947.6298526237,1679880.1506877178\" opacity=\"0.8\" /><polyline fill=\"none\" stroke=\"#66cc99\" stroke-width=\"35.2862784960897\" points=\"1332947.6298526237,1679880.1506877178 1332905.1899280418,1679816.4985372126 1332884.5117924719,1679663.5897702398 1332818.658933238,1679492.6204958828 1332831.548705763,1679439.4814633287\" opacity=\"0.8\" /><polyline fill=\"none\" stroke=\"#66cc99\" stroke-width=\"35.2862784960897\" points=\"1332831.548705763,1679439.4814633287 1332851.998703766,1679305.5605146566 1332891.701294404,1679194.2288011014 1332980.0475671524,1679106.202881099\" opacity=\"0.8\" /><polyline fill=\"none\" stroke=\"#66cc99\" stroke-width=\"35.2862784960897\" points=\"1332980.0475671524,1679106.202881099 1332974.7908973838,1679061.072442826 1333010.6496868788,1678965.6652847652 1333046.3785647035,1678950.1088109296\" opacity=\"0.8\" /><polyline fill=\"none\" stroke=\"#66cc99\" stroke-width=\"35.2862784960897\" points=\"1332839.0107053441,1678905.272445886 1332795.899042371,1678944.0018901988\" opacity=\"0.8\" /><polyline fill=\"none\" stroke=\"#66cc99\" stroke-width=\"35.2862784960897\" points=\"1332795.899042371,1678944.0018901988 1332823.310404739,1679040.8892168475 1332788.240590996,1679164.5813183568 1332795.2811697943,1679214.5982734584 1332779.2513371482,1679417.4210699028 1332684.4094809,1679524.3313924538\" opacity=\"0.8\" /><polyline fill=\"none\" stroke=\"#66cc99\" stroke-width=\"35.2862784960897\" points=\"1332684.4094809,1679524.3313924538 1332701.431078246,1679585.7681912975 1332616.250214237,1679570.8880858894\" opacity=\"0.8\" /><polyline fill=\"none\" stroke=\"#66cc99\" stroke-width=\"35.2862784960897\" points=\"1332616.250214237,1679570.8880858894 1332716.320223058,1679703.8581977866\" opacity=\"0.8\" /><polyline fill=\"none\" stroke=\"#66cc99\" stroke-width=\"35.2862784960897\" points=\"1332935.5892588196,1680356.441982629 1332901.1594976946,1680253.780528121 1332925.8902436527,1680233.9893997817 1332984.2491006746,1680327.3086379135 1333040.0794329976,1680326.421517005\" opacity=\"0.8\" /><polyline fill=\"none\" stroke=\"#66cc99\" stroke-width=\"35.2862784960897\" points=\"1333040.0794329976,1680326.421517005 1333018.2004066247,1680241.6402049668 1333051.9711036677,1680135.1317824959\" opacity=\"0.8\" /><polyline fill=\"none\" stroke=\"#66cc99\" stroke-width=\"35.2862784960897\" points=\"1333051.9711036677,1680135.1317824959 1332878.2887066216,1680080.6302106457 1332875.2909156221,1680048.5811298608 1332784.419286752,1680075.861323109 1332755.230352509,1680035.0880698515 1332697.6287854658,1680073.2391701466 1332709.609176301,1680181.6590686087\" opacity=\"0.8\" /><polyline fill=\"none\" stroke=\"#66cc99\" stroke-width=\"35.2862784960897\" points=\"1333475.6894222223,1680466.7194436567 1333389.6498737603,1680390.6083906656\" opacity=\"0.8\" /><polyline fill=\"none\" stroke=\"#66cc99\" stroke-width=\"35.2862784960897\" points=\"1333389.6498737603,1680390.6083906656 1333352.1497612153,1680423.490678934\" opacity=\"0.8\" /><polyline fill=\"none\" stroke=\"#66cc99\" stroke-width=\"35.2862784960897\" points=\"1333352.1497612153,1680423.490678934 1333414.3901254504,1680600.4982569346 1333469.6691253204,1680661.0185275467 1333475.6894222223,1680466.7194436567\" opacity=\"0.8\" /><polyline fill=\"none\" stroke=\"#66cc99\" stroke-width=\"35.2862784960897\" points=\"1333625.319465714,1682322.3523989064 1333651.3303169082,1682392.018346953 1333745.5891549299,1682485.6610656371 1333706.479405108,1682558.8318764563\" opacity=\"0.8\" /><polyline fill=\"none\" stroke=\"#66cc99\" stroke-width=\"35.2862784960897\" points=\"1333706.479405108,1682558.8318764563 1333784.369372711,1682565.727893686 1333827.9309736632,1682614.2107667741\" opacity=\"0.8\" /><polyline fill=\"none\" stroke=\"#66cc99\" stroke-width=\"35.2862784960897\" points=\"1333827.9309736632,1682614.2107667741 1333868.3810316902,1682617.6220162353 1333929.090973081,1682542.06970238\" opacity=\"0.8\" /><polyline fill=\"none\" stroke=\"#66cc99\" stroke-width=\"35.2862784960897\" points=\"1334511.3398688103,1682018.599259031 1334451.2509685734,1681972.649826814 1334365.7690897193,1681958.1618190452 1334349.3210048676,1681904.880651097 1334294.5394716363,1681861.1078508997 1334277.9801697207,1681689.1387275627 1334223.2398279947,1681550.679248717 1334151.0406252528,1681446.4989059789 1334120.9898379797,1681349.302312317 1334025.3399945158,1681285.4492117718 1334015.761385287,1681252.140517321\" opacity=\"0.8\" /><polyline fill=\"none\" stroke=\"#66cc99\" stroke-width=\"35.2862784960897\" points=\"1333671.8215064162,1681764.8821890173 1333667.420352523,1681821.030570952 1333625.810595198,1681854.60883253 1333473.9688847393,1681835.9302812421 1333467.6285615282,1681884.050464014 1333528.1293768163,1681937.341434403 1333524.9101022624,1682019.020763993 1333382.0801425504,1681865.989466508 1333318.7592934503,1681905.4982048788 1333386.6397253093,1681963.3179030009 1333381.9090393754,1682034.719373223 1333324.5102612805,1682051.9618669073\" opacity=\"0.8\" /><polyline fill=\"none\" stroke=\"#66cc99\" stroke-width=\"35.2862784960897\" points=\"1333324.5102612805,1682051.9618669073 1333309.8302425714,1682138.5223219832\" opacity=\"0.8\" /><polyline fill=\"none\" stroke=\"#66cc99\" stroke-width=\"35.2862784960897\" points=\"1333602.819398187,1682282.059465257 1333673.2600405181,1682259.8324303343 1333802.629883788,1682354.019184493 1333945.561554832,1682374.070077518 1334037.6309059279,1682421.048275916 1334029.8710600787,1682501.3694773081 1333931.1283682957,1682484.0387616549 1333929.090973081,1682542.06970238\" opacity=\"0.8\" /><polyline fill=\"none\" stroke=\"#66cc99\" stroke-width=\"35.2862784960897\" points=\"1333929.090973081,1682542.06970238 1333938.4702787967,1682569.7615981493 1334017.1492221516,1682548.8922013023 1334136.8200502547,1682592.1209660252 1334317.5591858432,1682519.3177467429 1334328.6903979573,1682547.578674211\" opacity=\"0.8\" /><polyline fill=\"none\" stroke=\"#66cc99\" stroke-width=\"35.2862784960897\" points=\"1334328.6903979573,1682547.578674211 1334400.8389034623,1682584.058458319 1334470.8612935874,1682684.499169823\" opacity=\"0.8\" /><polyline fill=\"none\" stroke=\"#66cc99\" stroke-width=\"35.2862784960897\" points=\"1334470.8612935874,1682684.499169823 1334558.0098441103,1682695.5612244692 1334624.4295618262,1682635.0311514162 1334734.040473806,1682565.698486363 1334813.8094077578,1682615.8820829613\" opacity=\"0.8\" /><polyline fill=\"none\" stroke=\"#66cc99\" stroke-width=\"35.2862784960897\" points=\"1334721.8097653629,1682398.2085884318 1334716.5911185222,1682352.779175709 1334633.1209694063,1682222.568450948 1334616.8503248843,1682141.379733529\" opacity=\"0.8\" /><polyline fill=\"none\" stroke=\"#66cc99\" stroke-width=\"35.2862784960897\" points=\"1334616.8503248843,1682141.379733529 1334503.3106938894,1682198.3711253882 1334320.0116646865,1682250.118211323 1334297.8316234685,1682150.9812244691 1334317.8506949565,1682078.408852672 1334511.3398688103,1682018.599259031\" opacity=\"0.8\" /><polyline fill=\"none\" stroke=\"#66cc99\" stroke-width=\"35.2862784960897\" points=\"1334889.861600517,1681091.870607294 1334903.020702114,1681036.9083207177 1334849.550959892,1680979.6179544087 1334796.350546742,1680962.4685839138 1334726.049321813,1681161.791418806\" opacity=\"0.8\" /><polyline fill=\"none\" stroke=\"#66cc99\" stroke-width=\"35.2862784960897\" points=\"1334726.049321813,1681161.791418806 1334739.6108327291,1681197.070403894 1334707.050532221,1681329.971898704\" opacity=\"0.8\" /><polyline fill=\"none\" stroke=\"#66cc99\" stroke-width=\"35.2862784960897\" points=\"1334880.34002568,1681349.581681885 1334881.4014990812,1681333.951689742\" opacity=\"0.8\" /><polyline fill=\"none\" stroke=\"#66cc99\" stroke-width=\"35.2862784960897\" points=\"1334881.4014990812,1681333.951689742 1334845.720149916,1681275.23016705 1334891.829287031,1681276.7887551659 1334899.3388152719,1681220.9099403578\" opacity=\"0.8\" /><polyline fill=\"none\" stroke=\"#66cc99\" stroke-width=\"35.2862784960897\" points=\"1334899.3388152719,1681220.9099403578 1334876.059277725,1681130.4922247562 1334889.861600517,1681091.870607294\" opacity=\"0.8\" /><polyline fill=\"none\" stroke=\"#66cc99\" stroke-width=\"35.2862784960897\" points=\"1335515.326722271,1679226.802312479 1335518.7171,1679186.862266705 1335384.1000926932,1679225.2976377883 1335368.0607543155,1679286.842753605 1335424.5089592151,1679297.8803021486 1335515.326722271,1679226.802312479\" opacity=\"0.8\" /><polyline fill=\"none\" stroke=\"#66cc99\" stroke-width=\"35.2862784960897\" points=\"1335027.9009881837,1682785.5917436522 1335147.4799275447,1682794.340422227\" opacity=\"0.8\" /><polyline fill=\"none\" stroke=\"#66cc99\" stroke-width=\"35.2862784960897\" points=\"1335147.4799275447,1682794.340422227 1335166.7100232807,1682695.57102691 1335222.8318647167,1682671.5207379651\" opacity=\"0.8\" /><polyline fill=\"none\" stroke=\"#66cc99\" stroke-width=\"35.2862784960897\" points=\"1335222.8318647167,1682671.5207379651 1335232.5910828528,1682557.1654614897\" opacity=\"0.8\" /><polyline fill=\"none\" stroke=\"#66cc99\" stroke-width=\"35.2862784960897\" points=\"1334637.4904375263,1681415.0472839717 1334610.2311668694,1681474.151591984 1334661.530750487,1681544.890907318 1334620.6399433552,1681554.3894726278 1334563.0700620853,1681621.6685262958\" opacity=\"0.8\" /><polyline fill=\"none\" stroke=\"#66cc99\" stroke-width=\"35.2862784960897\" points=\"1334563.0700620853,1681621.6685262958 1334555.9692803184,1681680.889973478 1334624.3186616201,1681800.5875802878\" opacity=\"0.8\" /><polyline fill=\"none\" stroke=\"#66cc99\" stroke-width=\"35.2862784960897\" points=\"1334624.3186616201,1681800.5875802878 1334760.919515185,1681675.1114345202 1334782.820721599,1681603.489899498 1334828.1408829622,1681601.9999284688 1334831.7087010208,1681551.620283051 1334885.0485315728,1681430.3684992238 1334880.34002568,1681349.581681885\" opacity=\"0.8\" /><polyline fill=\"none\" stroke=\"#66cc99\" stroke-width=\"35.2862784960897\" points=\"1334880.34002568,1681349.581681885 1334878.020627084,1681376.2394201308 1334757.8808495381,1681442.0485977738 1334745.051279982,1681371.0980398366 1334707.050532221,1681329.971898704\" opacity=\"0.8\" /><polyline fill=\"none\" stroke=\"#66cc99\" stroke-width=\"35.2862784960897\" points=\"1334707.050532221,1681329.971898704 1334677.680989071,1681413.650436132 1334637.4904375263,1681415.0472839717\" opacity=\"0.8\" /><polyline fill=\"none\" stroke=\"#66cc99\" stroke-width=\"35.2862784960897\" points=\"1335238.6905941877,1682485.5434363454 1335090.1413524188,1682514.6713897183 1335039.8496932457,1682455.4303376542 1335047.1089038786,1682386.8181520128 1334957.250902892,1682372.6193162529 1334845.3209091742,1682391.2292504539 1334897.700660799,1682410.5204543031 1334938.610162537,1682472.2611288172 1334891.350831856,1682532.919123725 1334721.8097653629,1682398.2085884318\" opacity=\"0.8\" /><polyline fill=\"none\" stroke=\"#66cc99\" stroke-width=\"35.2862784960897\" points=\"1334721.8097653629,1682398.2085884318 1334704.9307539961,1682457.140863605 1334813.8094077578,1682615.8820829613\" opacity=\"0.8\" /><polyline fill=\"none\" stroke=\"#66cc99\" stroke-width=\"35.2862784960897\" points=\"1334813.8094077578,1682615.8820829613 1334831.3189660108,1682631.9384812869 1334828.5908209411,1682771.0008102532\" opacity=\"0.8\" /><polyline fill=\"none\" stroke=\"#66cc99\" stroke-width=\"35.2862784960897\" points=\"1334828.5908209411,1682771.0008102532 1335027.9009881837,1682785.5917436522\" opacity=\"0.8\" /><polyline fill=\"none\" stroke=\"#66cc99\" stroke-width=\"35.2862784960897\" points=\"1335027.9009881837,1682785.5917436522 1335014.5105804426,1682730.609852194 1335050.2014353399,1682668.0800811811 1334988.4011864942,1682633.9920926723\" opacity=\"0.8\" /><polyline fill=\"none\" stroke=\"#66cc99\" stroke-width=\"35.2862784960897\" points=\"1334988.4011864942,1682633.9920926723 1335005.6797554607,1682606.2217773753 1335185.8609045837,1682595.9586216689 1335232.5910828528,1682557.1654614897\" opacity=\"0.8\" /><polyline fill=\"none\" stroke=\"#66cc99\" stroke-width=\"35.2862784960897\" points=\"1335232.5910828528,1682557.1654614897 1335238.6905941877,1682485.5434363454\" opacity=\"0.8\" /><polyline fill=\"none\" stroke=\"#66cc99\" stroke-width=\"35.2862784960897\" points=\"1334588.6087952591,1678599.5779325743 1334591.6601352154,1678619.9081951673 1334738.920082874,1678706.0079355175\" opacity=\"0.8\" /><polyline fill=\"none\" stroke=\"#66cc99\" stroke-width=\"35.2862784960897\" points=\"1334911.908561488,1678498.2206928385 1334943.870000883,1678257.2619898827 1334938.0588300838,1678190.3799350744\" opacity=\"0.8\" /><polyline fill=\"none\" stroke=\"#66cc99\" stroke-width=\"35.2862784960897\" points=\"1334938.0588300838,1678190.3799350744 1334876.040266261,1678061.9282583473 1334921.819871335,1678078.7590495104 1334966.230651008,1678023.0811847425\" opacity=\"0.8\" /><polyline fill=\"none\" stroke=\"#66cc99\" stroke-width=\"35.2862784960897\" points=\"1334966.230651008,1678023.0811847425 1334891.879984268,1677986.0622663808 1334865.3906778991,1677937.1284810074 1334819.541364124,1678023.6693312014 1334781.600819332,1678015.1314051077 1334741.480293346,1678063.5897720933 1334767.918902478,1678104.1081618853 1334726.109524782,1678135.8092560153 1334691.141105513,1678102.5593762104 1334659.281060592,1677997.7075662652 1334570.4813644295,1678071.0102199155 1334514.9013497145,1678196.2908069855 1334563.1397707863,1678216.6014646967 1334669.8007372841,1678185.7188743884 1334686.4801282801,1678206.0295320994 1334640.830434876,1678290.4579562624 1334571.6695809234,1678311.3420567708 1334544.5402219363,1678363.2900927456 1334593.1398608224,1678371.2692797035 1334675.120778599,1678432.4904248456 1334642.978730297,1678542.1111223276 1334588.6087952591,1678599.5779325743\" opacity=\"0.8\" /><polyline fill=\"none\" stroke=\"#66cc99\" stroke-width=\"35.2862784960897\" points=\"1334888.679721178,1678396.5497749916 1334842.830407403,1678520.6290729195 1334822.950753317,1678525.2705287235 1334758.9011314341,1678431.0004538165 1334692.059992935,1678393.5306231696 1334694.030848026,1678299.4811031846 1334809.9310691222,1678177.1809482945 1334866.860897774,1678187.4195978984 1334888.679721178,1678396.5497749916\" opacity=\"0.8\" /><polyline fill=\"none\" stroke=\"#66cc99\" stroke-width=\"35.2862784960897\" points=\"1334241.7284766384,1678619.7121463479 1334249.621402735,1678528.8876294454 1334212.1688188496,1678417.6103194375 1334165.8600613638,1678399.0003852365 1334102.1114543257,1678269.2209678786 1334055.5397049226,1678207.9017983268 1334056.8800131276,1678100.3881355333 1334002.3012688449,1677991.8506077796 1333944.0406377197,1677922.0817341027 1333907.7410991201,1677951.5282668073 1333959.4811149847,1678098.1874875333 1333998.8094966416,1678262.4915921458 1334035.501621971,1678305.5292092694\" opacity=\"0.8\" /><polyline fill=\"none\" stroke=\"#66cc99\" stroke-width=\"35.2862784960897\" points=\"1334035.501621971,1678305.5292092694 1334088.9808699249,1678397.2114397576 1334080.3496653137,1678443.9494783515\" opacity=\"0.8\" /><polyline fill=\"none\" stroke=\"#66cc99\" stroke-width=\"35.2862784960897\" points=\"1334179.4912809809,1678608.6108819377 1334241.7284766384,1678619.7121463479\" opacity=\"0.8\" /><polyline fill=\"none\" stroke=\"#66cc99\" stroke-width=\"35.2862784960897\" points=\"1334141.8485824566,1680822.0383243086 1334051.2589569676,1680820.7493033197\" opacity=\"0.8\" /><polyline fill=\"none\" stroke=\"#66cc99\" stroke-width=\"35.2862784960897\" points=\"1334051.2589569676,1680820.7493033197 1334026.5694025147,1680888.7586388406 1333945.5995777596,1680929.6794188349 1333909.569368232,1680864.9092999357 1333854.2586825888,1680884.930785638 1333805.180588528,1680963.9781598246 1333820.361242453,1681068.8887844158\" opacity=\"0.8\" /><polyline fill=\"none\" stroke=\"#66cc99\" stroke-width=\"35.2862784960897\" points=\"1333788.330094357,1681136.1678380836 1333778.6310791902,1681186.0279541297\" opacity=\"0.8\" /><polyline fill=\"none\" stroke=\"#66cc99\" stroke-width=\"35.2862784960897\" points=\"1333988.3310114548,1681196.800836767 1333957.3993596877,1681148.871801594 1334050.6093986176,1681079.892024416 1333949.0311469939,1681057.1797686648 1333955.9196340807,1681023.1898045659 1334048.9997613407,1680952.362267263 1334157.5488830616,1680958.572113624 1334187.6408618398,1680885.7492894598 1334141.8485824566,1680822.0383243086\" opacity=\"0.8\" /><polyline fill=\"none\" stroke=\"#66cc99\" stroke-width=\"35.2862784960897\" points=\"1333329.9602142654,1681688.4182481507 1333359.7194924254,1681742.5277223617 1333462.8788641302,1681725.9517946641 1333671.8215064162,1681764.8821890173\" opacity=\"0.8\" /><polyline fill=\"none\" stroke=\"#66cc99\" stroke-width=\"35.2862784960897\" points=\"1333671.8215064162,1681764.8821890173 1333781.150098157,1681772.332044162 1333861.280249923,1681742.7776846068 1333888.6409150541,1681686.359735545 1333823.780137378,1681603.0389872128 1333815.0285268289,1681512.479136217 1333712.480690546,1681410.0382366308\" opacity=\"0.8\" /><polyline fill=\"none\" stroke=\"#66cc99\" stroke-width=\"35.2862784960897\" points=\"1333619.2009429152,1681388.002349307 1333567.7302561223,1681379.111535338 1333464.2096666032,1681438.5981385487 1333437.2799279874,1681506.7692143458\" opacity=\"0.8\" /><polyline fill=\"none\" stroke=\"#66cc99\" stroke-width=\"35.2862784960897\" points=\"1333437.2799279874,1681506.7692143458 1333427.4098096453,1681600.3678220457 1333361.6998532484,1681680.5713941462 1333329.9602142654,1681688.4182481507\" opacity=\"0.8\" /><polyline fill=\"none\" stroke=\"#66cc99\" stroke-width=\"35.2862784960897\" points=\"1334043.7589344585,1680058.2610403288 1334026.0814416078,1680201.9795287608\" opacity=\"0.8\" /><polyline fill=\"none\" stroke=\"#66cc99\" stroke-width=\"35.2862784960897\" points=\"1334337.7588662382,1680315.6094246036 1334420.7502433213,1680252.6679510695 1334522.8291301613,1680212.4093259636 1334506.4602597423,1680066.8185713047 1334520.5414173384,1680009.3615634989 1334588.3014432595,1679967.4708319698 1334528.1586772082,1679931.662515069 1334498.2504759145,1679874.4211609648 1334533.2410752245,1679842.3524752979 1334565.1201316093,1679898.8096341237 1334652.430596433,1679893.7515745778\" opacity=\"0.8\" /><polyline fill=\"none\" stroke=\"#66cc99\" stroke-width=\"35.2862784960897\" points=\"1334652.430596433,1679893.7515745778 1334571.6188836861,1679813.4695829498 1334519.9013647204,1679712.7882215194 1334471.7009665763,1679559.9681666375 1334505.5603837844,1679355.1020513708\" opacity=\"0.8\" /><polyline fill=\"none\" stroke=\"#66cc99\" stroke-width=\"35.2862784960897\" points=\"1334505.5603837844,1679355.1020513708 1334480.7694348572,1679342.2902610097 1334416.5011811394,1679131.1402909528 1334311.1301424673,1679041.0411546826 1334263.1100363727,1679026.6217640007\" opacity=\"0.8\" /><polyline fill=\"none\" stroke=\"#66cc99\" stroke-width=\"35.2862784960897\" points=\"1334263.1100363727,1679026.6217640007 1334150.1787722225,1679108.8201328407 1334187.2384525205,1679222.7293982515 1334343.7094544393,1679252.4700041856 1334371.0701195705,1679233.4777747863 1334434.9708183194,1679312.0203232628 1334402.5816209866,1679328.9001266307 1334303.1294847424,1679271.5901554397 1334165.2897174465,1679272.7713495777 1334111.3795429775,1679198.4879617074\" opacity=\"0.8\" /><polyline fill=\"none\" stroke=\"#66cc99\" stroke-width=\"35.2862784960897\" points=\"1334111.3795429775,1679198.4879617074 1334006.9210545728,1679321.9599984167 1333998.841182415,1679365.3308985338\" opacity=\"0.8\" /><polyline fill=\"none\" stroke=\"#66cc99\" stroke-width=\"35.2862784960897\" points=\"1333995.5902220877,1679663.1878701595 1333940.2510192487,1679643.8623577668 1333870.3106952761,1679672.0296719237 1333828.6312292502,1679737.4707679078 1333891.22013699,1679756.3012570308 1333845.450037648,1679822.8603214088 1333856.419652319,1679854.7280570355 1333917.139099442,1679835.8779630305 1333968.6509777398,1679875.9111319939\" opacity=\"0.8\" /><polyline fill=\"none\" stroke=\"#66cc99\" stroke-width=\"35.2862784960897\" points=\"1333968.6509777398,1679875.9111319939 1334031.1004680777,1679879.0283082256 1333963.4893652906,1679835.652506888 1334069.221621777,1679812.5726596 1334059.7412384448,1679931.3488369577 1334146.5285711535,1679973.2395684866 1334043.7589344585,1680058.2610403288\" opacity=\"0.8\" /><polyline fill=\"none\" stroke=\"#66cc99\" stroke-width=\"35.2862784960897\" points=\"1333180.1400561347,1679790.7274297534 1333179.8010183617,1679771.3676088175 1333291.8105433704,1679778.2097126218 1333348.8100807234,1679758.1882269196 1333468.9593640014,1679675.0586261866 1333479.2794203223,1679609.6224314228\" opacity=\"0.8\" /><polyline fill=\"none\" stroke=\"#66cc99\" stroke-width=\"35.2862784960897\" points=\"1333400.9014918124,1679483.7296819137 1333319.8999812843,1679561.1493607757 1333250.3592149112,1679544.122520793\" opacity=\"0.8\" /><polyline fill=\"none\" stroke=\"#66cc99\" stroke-width=\"35.2862784960897\" points=\"1333250.3592149112,1679544.122520793 1333209.2307644808,1679460.4586870265 1333217.5894714426,1679387.7196737325 1333273.2616917575,1679398.7278149535 1333290.0805001555,1679341.4717571877 1333224.7409504468,1679309.4618861668\" opacity=\"0.8\" /><polyline fill=\"none\" stroke=\"#66cc99\" stroke-width=\"35.2862784960897\" points=\"1333224.7409504468,1679309.4618861668 1333141.1602179827,1679347.6178876825 1333079.6803123038,1679670.8386753446 1333023.381030538,1679737.8187545626\" opacity=\"0.8\" /><polyline fill=\"none\" stroke=\"#66cc99\" stroke-width=\"35.2862784960897\" points=\"1333023.381030538,1679737.8187545626 1333053.7993727797,1679837.3581316185 1333112.2406128119,1679785.29197623 1333180.1400561347,1679790.7274297534\" opacity=\"0.8\" /><polyline fill=\"none\" stroke=\"#66cc99\" stroke-width=\"35.2862784960897\" points=\"1332999.4107431357,1682109.0218758532 1333034.2904422397,1682197.5379179048 1333079.9211241798,1682200.8021307513\" opacity=\"0.8\" /><polyline fill=\"none\" stroke=\"#66cc99\" stroke-width=\"35.2862784960897\" points=\"1332979.8099238537,1682496.620194653 1332957.6298826358,1682547.1718729103 1332836.038579821,1682509.9417119452 1332763.139121492,1682589.3811837712\" opacity=\"0.8\" /><polyline fill=\"none\" stroke=\"#66cc99\" stroke-width=\"35.2862784960897\" points=\"1332763.139121492,1682589.3811837712 1332775.740553481,1682620.729390026 1332895.3198096997,1682629.4780686009 1332956.2800686988,1682598.0906525822 1333065.7987750785,1682602.928157206 1333094.6296600846,1682644.078804441 1333174.3510653768,1682649.9112568242\" opacity=\"0.8\" /><polyline fill=\"none\" stroke=\"#66cc99\" stroke-width=\"35.2862784960897\" points=\"1333174.3510653768,1682649.9112568242 1333203.5304938878,1682592.9198649651 1333172.3485245125,1682522.3319973443 1333258.4897843064,1682436.438108255 1333337.5711369806,1682292.278509979 1333401.2088438123,1682289.509320402\" opacity=\"0.8\" /><polyline fill=\"none\" stroke=\"#66cc99\" stroke-width=\"35.2862784960897\" points=\"1333401.2088438123,1682289.509320402 1333505.4391946504,1682255.7203063432 1333625.319465714,1682322.3523989064\" opacity=\"0.8\" /><polyline fill=\"none\" stroke=\"#66cc99\" stroke-width=\"35.2862784960897\" points=\"1333625.319465714,1682322.3523989064 1333602.819398187,1682282.059465257\" opacity=\"0.8\" /><polyline fill=\"none\" stroke=\"#66cc99\" stroke-width=\"35.2862784960897\" points=\"1333602.819398187,1682282.059465257 1333602.0494338989,1682238.0416040353 1333514.5393487043,1682180.9080767818 1333488.6996006854,1682046.041192555 1333427.5809128205,1682048.7515674862 1333423.7691143083,1682102.449339176 1333356.6586467372,1682154.1425116854 1333309.8302425714,1682138.5223219832\" opacity=\"0.8\" /><polyline fill=\"none\" stroke=\"#66cc99\" stroke-width=\"35.2862784960897\" points=\"1333309.8302425714,1682138.5223219832 1333147.1203119156,1682058.2109230321 1333085.2411654948,1682111.6587324769 1332999.4107431357,1682109.0218758532\" opacity=\"0.8\" /><polyline fill=\"none\" stroke=\"#66cc99\" stroke-width=\"35.2862784960897\" points=\"1334323.0693417974,1680637.610298486 1334304.8088307201,1680562.430477388 1334319.4698379654,1680441.301714195 1334347.6099731163,1680360.4119712259 1334337.7588662382,1680315.6094246036\" opacity=\"0.8\" /><polyline fill=\"none\" stroke=\"#66cc99\" stroke-width=\"35.2862784960897\" points=\"1334337.7588662382,1680315.6094246036 1334348.5605463113,1680252.6189388647 1334228.3507432067,1680184.0508642078 1334176.151600489,1680193.7797868808 1334100.6887631107,1680164.5587103185 1334026.0814416078,1680201.9795287608\" opacity=\"0.8\" /><polyline fill=\"none\" stroke=\"#66cc99\" stroke-width=\"35.2862784960897\" points=\"1334026.0814416078,1680201.9795287608 1333937.8999348797,1680195.9216202348\" opacity=\"0.8\" /><polyline fill=\"none\" stroke=\"#66cc99\" stroke-width=\"35.2862784960897\" points=\"1333937.8999348797,1680195.9216202348 1333883.4507854092,1680228.0001083429 1333792.829474147,1680223.7801575009 1333720.788700271,1680288.0204544647 1333646.609136706,1680319.3686607196 1333623.469016561,1680370.4398683489 1333658.7511249841,1680509.992319364\" opacity=\"0.8\" /><polyline fill=\"none\" stroke=\"#66cc99\" stroke-width=\"35.2862784960897\" points=\"1333658.7511249841,1680509.992319364 1333730.649312881,1680548.4178880067 1333745.6588636308,1680655.1076556356 1333774.5309401422,1680714.95155782 1333927.12011799,1680706.6390878689 1333970.3905266868,1680629.631111528 1333868.9101841021,1680620.902037835 1333806.61912263,1680571.4781304125 1333821.809282287,1680432.2295550678 1333867.6205731342,1680403.861290871 1333909.081407325,1680466.2783338127 1333958.2295269447,1680489.9610312209 1334004.5794759355,1680427.15189064 1334099.8395843897,1680465.3078921556 1334077.6912289448,1680561.0483332097 1334018.641622068,1680622.0685283116 1333991.0116278648,1680710.5992740248 1334015.1308384007,1680714.672188252\" opacity=\"0.8\" /><polyline fill=\"none\" stroke=\"#66cc99\" stroke-width=\"35.2862784960897\" points=\"1334015.1308384007,1680714.672188252 1334060.5016970008,1680708.2809967329 1334193.2809294637,1680636.8996215148 1334323.0693417974,1680637.610298486\" opacity=\"0.8\" /><polyline fill=\"none\" stroke=\"#66cc99\" stroke-width=\"35.2862784960897\" points=\"1335500.2918229024,1679404.1485648155 1335509.1765136989,1679299.3114585318 1335474.2587916672,1679341.6089913615 1335500.2918229024,1679404.1485648155\" opacity=\"0.8\" /><polyline fill=\"none\" stroke=\"#66cc99\" stroke-width=\"35.2862784960897\" points=\"1333170.6786842665,1680143.8118439838 1333250.9200530965,1680145.5909870218\" opacity=\"0.8\" /><polyline fill=\"none\" stroke=\"#66cc99\" stroke-width=\"35.2862784960897\" points=\"1333250.9200530965,1680145.5909870218 1333217.5292684736,1680092.8391508867 1333198.0393493976,1679944.7781811005 1333263.9714230646,1679949.052045368 1333308.0399963874,1679914.8905385518 1333270.4606694095,1679857.5217527149 1333116.9396129728,1679884.321626355 1333135.5993647918,1679959.761212139\" opacity=\"0.8\" /><polyline fill=\"none\" stroke=\"#66cc99\" stroke-width=\"35.2862784960897\" points=\"1333135.5993647918,1679959.761212139 1333142.4403232187,1680009.5478098774 1333028.8214777908,1679997.3486720775 1333060.8716373509,1680021.232319526\" opacity=\"0.8\" /><polyline fill=\"none\" stroke=\"#66cc99\" stroke-width=\"35.2862784960897\" points=\"1333060.8716373509,1680021.232319526 1333119.4998234448,1680034.7400831967 1333170.6786842665,1680143.8118439838\" opacity=\"0.8\" /><polyline fill=\"none\" stroke=\"#66cc99\" stroke-width=\"35.2862784960897\" points=\"1334488.6084951393,1680990.121269919 1334463.8587377171,1681124.4196125688 1334544.4800189673,1681213.381665685\" opacity=\"0.8\" /><polyline fill=\"none\" stroke=\"#66cc99\" stroke-width=\"35.2862784960897\" points=\"1334544.4800189673,1681213.381665685 1334560.4496486443,1681151.890953416 1334652.880534412,1681130.1589417628 1334713.12152636,1681144.191136026\" opacity=\"0.8\" /><polyline fill=\"none\" stroke=\"#66cc99\" stroke-width=\"35.2862784960897\" points=\"1334713.12152636,1681144.191136026 1334688.9991472468,1681027.360743203 1334634.5404920443,1680996.899657857 1334638.701150919,1680942.589233606 1334508.9000642763,1680903.5804197248 1334467.9208538374,1680943.260700813\" opacity=\"0.8\" /><polyline fill=\"none\" stroke=\"#66cc99\" stroke-width=\"35.2862784960897\" points=\"1334467.9208538374,1680943.260700813 1334488.6084951393,1680990.121269919\" opacity=\"0.8\" /><polyline fill=\"none\" stroke=\"#66cc99\" stroke-width=\"35.2862784960897\" points=\"1334848.3595748208,1678555.7512189518 1334738.920082874,1678706.0079355175\" opacity=\"0.8\" /><polyline fill=\"none\" stroke=\"#66cc99\" stroke-width=\"35.2862784960897\" points=\"1334738.920082874,1678706.0079355175 1334828.1503886941,1678684.5209848885 1334858.169490194,1678714.9825603568 1334828.0014655602,1678765.9405497927 1334896.620175934,1678828.7790976965 1334961.110230064,1678832.9990485385 1334968.2110118312,1678752.9621179348 1334940.3592172158,1678597.0489028015 1334952.0512675152,1678537.0579640022 1334911.908561488,1678498.2206928385\" opacity=\"0.8\" /><polyline fill=\"none\" stroke=\"#66cc99\" stroke-width=\"35.2862784960897\" points=\"1334911.908561488,1678498.2206928385 1334848.3595748208,1678555.7512189518\" opacity=\"0.8\" /><polyline fill=\"none\" stroke=\"#66cc99\" stroke-width=\"35.2862784960897\" points=\"1333579.1403030404,1679298.6301888837 1333500.2997622422,1679256.4792025466 1333479.6691553323,1679202.0805563268 1333525.388557437,1679113.2998483686 1333625.360657219,1679073.3009879487 1333641.070463556,1679031.9297857916 1333591.418857001,1679008.8303336217 1333436.8109785444,1679043.9083686695 1333355.9900769233,1679049.2703038857 1333212.8302683127,1678905.6498398636 1333188.4987630965,1678861.5192505706 1333123.8185943277,1678891.8087931995 1333081.5212557248,1678874.5221885308 1333127.5987070666,1678801.9302118516\" opacity=\"0.8\" /><polyline fill=\"none\" stroke=\"#66cc99\" stroke-width=\"35.2862784960897\" points=\"1333127.5987070666,1678801.9302118516 1333044.2714607879,1678763.2889895074 1333007.8201473348,1678816.3692074155 1332959.6197491908,1678829.0290599414 1332895.9788737816,1678897.0678027854 1332839.0107053441,1678905.272445886\" opacity=\"0.8\" /><polyline fill=\"none\" stroke=\"#66cc99\" stroke-width=\"35.2862784960897\" points=\"1332839.0107053441,1678905.272445886 1332934.3186593156,1678923.3383446124 1332959.8098638298,1678957.0979513484 1333016.1091455957,1678914.0211244607 1333046.3785647035,1678950.1088109296\" opacity=\"0.8\" /><polyline fill=\"none\" stroke=\"#66cc99\" stroke-width=\"35.2862784960897\" points=\"1333046.3785647035,1678950.1088109296 1333139.1988686237,1678979.7513924537\" opacity=\"0.8\" /><polyline fill=\"none\" stroke=\"#66cc99\" stroke-width=\"35.2862784960897\" points=\"1333139.1988686237,1678979.7513924537 1333215.5900991557,1678940.6298505017 1333311.8201091264,1679040.6000448386 1333319.4595490373,1679129.4199625605 1333353.4393721833,1679154.7788773766 1333365.9203982344,1679390.1506790956 1333400.9014918124,1679483.7296819137\" opacity=\"0.8\" /><polyline fill=\"none\" stroke=\"#66cc99\" stroke-width=\"35.2862784960897\" points=\"1333400.9014918124,1679483.7296819137 1333479.2794203223,1679609.6224314228\" opacity=\"0.8\" /><polyline fill=\"none\" stroke=\"#66cc99\" stroke-width=\"35.2862784960897\" points=\"1333479.2794203223,1679609.6224314228 1333497.0899934203,1679566.8200728826 1333609.999394387,1679512.2596863867 1333611.320691128,1679466.5411016548 1333537.0394162312,1679436.3691883176 1333547.4513612946,1679403.1781231584\" opacity=\"0.8\" /><polyline fill=\"none\" stroke=\"#66cc99\" stroke-width=\"35.2862784960897\" points=\"1332709.609176301,1680181.6590686087 1332624.3997950961,1680179.321186435 1332509.2692214304,1680098.4706532299 1332462.6689548313,1680132.5488392976 1332458.1695750414,1680195.8088921637 1332577.428804951,1680317.1484078376 1332699.0514766811,1680281.521436095 1332744.7106758172,1680415.4183687866 1332741.510412727,1680514.0505299298 1332823.589239543,1680534.0181022065 1332854.6508029802,1680499.072400112 1332932.420681503,1680504.600976825 1332952.3098413206,1680447.7223130371 1332935.5892588196,1680356.441982629\" opacity=\"0.8\" /><polyline fill=\"none\" stroke=\"#66cc99\" stroke-width=\"35.2862784960897\" points=\"1332935.5892588196,1680356.441982629 1332836.2508745012,1680324.8188179047 1332709.609176301,1680181.6590686087\" opacity=\"0.8\" /><polyline fill=\"none\" stroke=\"#66cc99\" stroke-width=\"35.2862784960897\" points=\"1334938.730568475,1678897.2099381795 1334925.340160734,1678929.361944595 1334962.840273279,1678999.8512976838 1335000.7589548875,1679011.8102756797 1335034.7197665696,1679086.7695418557 1335090.6388190575,1679131.7382398525 1335082.1787176216,1679230.7379925323 1335104.0799240356,1679292.7683291775 1335159.2702037406,1679357.0086261416 1335219.7900304927,1679489.5817391789\" opacity=\"0.8\" /><polyline fill=\"none\" stroke=\"#66cc99\" stroke-width=\"35.2862784960897\" points=\"1335219.7900304927,1679489.5817391789 1335272.1412649218,1679472.4911833298 1335297.8796184666,1679626.0121127418 1335359.3503352713,1679629.6684232275\" opacity=\"0.8\" /><polyline fill=\"none\" stroke=\"#66cc99\" stroke-width=\"35.2862784960897\" points=\"1335359.3503352713,1679629.6684232275 1335358.6595854163,1679537.19219502\" opacity=\"0.8\" /><polyline fill=\"none\" stroke=\"#66cc99\" stroke-width=\"35.2862784960897\" points=\"1335358.6595854163,1679537.19219502 1335312.8511462887,1679421.8615756668\" opacity=\"0.8\" /><polyline fill=\"none\" stroke=\"#66cc99\" stroke-width=\"35.2862784960897\" points=\"1335312.8511462887,1679421.8615756668 1335292.4391712137,1679320.2984846705 1335206.7386605246,1679247.8922642479 1335157.0300195776,1679299.3604707366 1335162.8792133045,1679224.6212693607 1335122.0299145356,1679173.4917372079 1335139.2606379846,1679123.1905113177 1335086.7889976176,1678974.8893817274 1335037.5809918868,1678921.1916100378 1334938.730568475,1678897.2099381795\" opacity=\"0.8\" /><polyline fill=\"none\" stroke=\"#66cc99\" stroke-width=\"35.2862784960897\" points=\"1332957.7693000378,1677897.8500999995 1332858.1013836781,1677974.7208421666 1332821.3300439161,1678085.0816239426\" opacity=\"0.8\" /><polyline fill=\"none\" stroke=\"#66cc99\" stroke-width=\"35.2862784960897\" points=\"1332821.3300439161,1678085.0816239426 1332831.738820402,1678203.6818474848\" opacity=\"0.8\" /><polyline fill=\"none\" stroke=\"#66cc99\" stroke-width=\"35.2862784960897\" points=\"1332831.738820402,1678203.6818474848 1332844.758504597,1678143.0875684433 1332887.4490636447,1678225.1197859084 1332949.8288452816,1678118.5422562286 1332946.7806739027,1677932.4478154392 1332957.7693000378,1677897.8500999995\" opacity=\"0.8\" /><polyline fill=\"none\" stroke=\"#66cc99\" stroke-width=\"35.2862784960897\" points=\"1332979.8099238537,1682496.620194653 1333014.8702318647,1682471.29068716 1333050.4913780608,1682525.699135821 1333242.9605868764,1682347.4515490362 1333231.5188541852,1682239.0414530153 1333164.3605410967,1682239.0414530153 1333179.0500655377,1682145.099759881 1333115.3204699638,1682138.0518048161 1333079.9211241798,1682200.8021307513\" opacity=\"0.8\" /><polyline fill=\"none\" stroke=\"#66cc99\" stroke-width=\"35.2862784960897\" points=\"1333079.9211241798,1682200.8021307513 1333129.8705770029,1682233.507975082 1333116.4706635298,1682287.298869961 1332988.7896719696,1682280.8880735599 1332920.9916231208,1682308.080044839\" opacity=\"0.8\" /><polyline fill=\"none\" stroke=\"#66cc99\" stroke-width=\"35.2862784960897\" points=\"1332920.9916231208,1682308.080044839 1332880.161335816,1682305.09030034 1332819.4415718352,1682407.109204842 1332820.6012711332,1682467.698092541 1332876.019688405,1682493.3216732633 1332906.7615423908,1682459.718905583 1332979.8099238537,1682496.620194653\" opacity=\"0.8\" /><polyline fill=\"none\" stroke=\"#66cc99\" stroke-width=\"35.2862784960897\" points=\"1332696.8588211779,1681151.9203607389 1332531.8107973202,1681118.111741798 1332435.3399754735,1681144.3822836252 1332351.3409908034,1681139.8290497898 1332355.1686322023,1681211.5780165447 1332496.2685486993,1681306.8479404317 1332494.3895823504,1681459.300893899 1332574.3616221081,1681487.7279727417 1332613.509394858,1681470.539392483 1332641.7509244832,1681308.3085041377 1332614.279359146,1681263.0800414549 1332696.8588211779,1681151.9203607389\" opacity=\"0.8\" /><polyline fill=\"none\" stroke=\"#66cc99\" stroke-width=\"35.2862784960897\" points=\"1333619.2009429152,1681388.002349307 1333613.399277848,1681423.541099081 1333712.480690546,1681410.0382366308\" opacity=\"0.8\" /><polyline fill=\"none\" stroke=\"#66cc99\" stroke-width=\"35.2862784960897\" points=\"1333712.480690546,1681410.0382366308 1333801.4987016858,1681403.740168301 1333859.829041512,1681458.320649801 1333922.3514091282,1681440.191035208 1333921.10932682,1681366.6085218678 1334015.761385287,1681252.140517321\" opacity=\"0.8\" /><polyline fill=\"none\" stroke=\"#66cc99\" stroke-width=\"35.2862784960897\" points=\"1334015.761385287,1681252.140517321 1334044.2310524788,1681218.4495276718\" opacity=\"0.8\" /><polyline fill=\"none\" stroke=\"#66cc99\" stroke-width=\"35.2862784960897\" points=\"1334044.2310524788,1681218.4495276718 1333988.3310114548,1681196.800836767\" opacity=\"0.8\" /><polyline fill=\"none\" stroke=\"#66cc99\" stroke-width=\"35.2862784960897\" points=\"1333988.3310114548,1681196.800836767 1333944.4398784616,1681273.2990861768 1333929.750037163,1681222.4293187098 1333861.869605304,1681244.0780096147 1333890.380464001,1681287.791995166 1333848.9703270472,1681317.9982170467 1333786.409936503,1681260.060889633 1333778.6310791902,1681186.0279541297\" opacity=\"0.8\" /><polyline fill=\"none\" stroke=\"#66cc99\" stroke-width=\"35.2862784960897\" points=\"1333778.6310791902,1681186.0279541297 1333657.3189280368,1681174.980603145 1333664.280292402,1681132.1978494867 1333723.390102248,1681099.4625978332 1333788.330094357,1681136.1678380836\" opacity=\"0.8\" /><polyline fill=\"none\" stroke=\"#66cc99\" stroke-width=\"35.2862784960897\" points=\"1333788.330094357,1681136.1678380836 1333820.361242453,1681068.8887844158\" opacity=\"0.8\" /><polyline fill=\"none\" stroke=\"#66cc99\" stroke-width=\"35.2862784960897\" points=\"1333820.361242453,1681068.8887844158 1333745.3388373218,1681042.9417231411 1333641.21938669,1681119.2390225108 1333600.8105201682,1681126.8996301368\" opacity=\"0.8\" /><polyline fill=\"none\" stroke=\"#66cc99\" stroke-width=\"35.2862784960897\" points=\"1333600.8105201682,1681126.8996301368 1333608.918909522,1681228.492128456 1333669.169407202,1681291.2375531706 1333747.62021299,1681298.9618766631 1333715.101103987,1681350.5913333062 1333657.7688660158,1681344.989238286 1333619.2009429152,1681388.002349307\" opacity=\"0.8\" /><polyline fill=\"none\" stroke=\"#66cc99\" stroke-width=\"35.2862784960897\" points=\"1333547.4513612946,1679403.1781231584 1333711.3114855161,1679457.9492621357\" opacity=\"0.8\" /><polyline fill=\"none\" stroke=\"#66cc99\" stroke-width=\"35.2862784960897\" points=\"1333711.3114855161,1679457.9492621357 1333767.401641179,1679483.7002745906 1333884.9812082532,1679488.6995194906 1333925.260163105,1679470.2905353296 1334003.9014003898,1679530.6000534606 1333926.540268341,1679564.8007700408 1333987.0794234145,1679617.322248813 1333995.5902220877,1679663.1878701595\" opacity=\"0.8\" /><polyline fill=\"none\" stroke=\"#66cc99\" stroke-width=\"35.2862784960897\" points=\"1333995.5902220877,1679663.1878701595 1333983.2010847789,1679735.0985771907 1334045.0200282307,1679764.3784683985 1334067.9605280047,1679547.2396970247 1334040.0200132248,1679438.5502314356 1334060.6791373305,1679389.9791363785 1333998.841182415,1679365.3308985338\" opacity=\"0.8\" /><polyline fill=\"none\" stroke=\"#66cc99\" stroke-width=\"35.2862784960897\" points=\"1333998.841182415,1679365.3308985338 1333888.1402798381,1679358.7387569745 1333859.94944745,1679274.5210852928 1333805.83965261,1679250.9310209518 1333735.310290114,1679279.9418351548 1333765.44029182,1679141.1485831935 1333619.9297156981,1679160.0623930648 1333585.1989397279,1679213.1279073113 1333579.1403030404,1679298.6301888837\" opacity=\"0.8\" /><polyline fill=\"none\" stroke=\"#66cc99\" stroke-width=\"35.2862784960897\" points=\"1333579.1403030404,1679298.6301888837 1333616.929072979,1679366.2278218835 1333517.2009536505,1679370.1684031575 1333547.4513612946,1679403.1781231584\" opacity=\"0.8\" /><polyline fill=\"none\" stroke=\"#66cc99\" stroke-width=\"35.2862784960897\" points=\"1333768.2508199,1678620.6482794613 1333800.960043542,1678629.5979080764 1333875.17129288,1678550.9284179893 1333953.6889556495,1678560.3485637715 1334051.911683895,1678597.7301724495 1334099.2692404727,1678636.4106045577\" opacity=\"0.8\" /><polyline fill=\"none\" stroke=\"#66cc99\" stroke-width=\"35.2862784960897\" points=\"1334099.2692404727,1678636.4106045577 1334179.4912809809,1678608.6108819377\" opacity=\"0.8\" /><polyline fill=\"none\" stroke=\"#66cc99\" stroke-width=\"35.2862784960897\" points=\"1334179.4912809809,1678608.6108819377 1334129.1996218076,1678472.1020888467 1334080.3496653137,1678443.9494783515\" opacity=\"0.8\" /><polyline fill=\"none\" stroke=\"#66cc99\" stroke-width=\"35.2862784960897\" points=\"1334080.3496653137,1678443.9494783515 1334021.6707819828,1678463.4808420045 1333963.261227724,1678437.1024733267 1333955.6914965138,1678496.3386241703 1333919.4711723472,1678491.3099719475\" opacity=\"0.8\" /><polyline fill=\"none\" stroke=\"#66cc99\" stroke-width=\"35.2862784960897\" points=\"1333919.4711723472,1678491.3099719475 1333839.040005736,1678530.5785505143\" opacity=\"0.8\" /><polyline fill=\"none\" stroke=\"#66cc99\" stroke-width=\"35.2862784960897\" points=\"1333839.040005736,1678530.5785505143 1333768.2508199,1678620.6482794613\" opacity=\"0.8\" /><polyline fill=\"none\" stroke=\"#66cc99\" stroke-width=\"35.2862784960897\" points=\"1334933.9206681082,1681086.6802147948 1335038.2495617005,1681116.2002658069 1335034.8686897035,1681207.701151137 1335121.2916360209,1681196.1881842057 1335053.1196950485,1681045.710912718 1335161.5800966048,1681040.211743328 1335200.7912409008,1681074.539891641 1335291.1685717094,1681066.320544879 1335337.6611066798,1681141.6179952687 1335325.6585358034,1681173.441619911\" opacity=\"0.8\" /><polyline fill=\"none\" stroke=\"#66cc99\" stroke-width=\"35.2862784960897\" points=\"1335325.6585358034,1681173.441619911 1335348.2603146622,1681194.061054513\" opacity=\"0.8\" /><polyline fill=\"none\" stroke=\"#66cc99\" stroke-width=\"35.2862784960897\" points=\"1335348.2603146622,1681194.061054513 1335418.9290945602,1680361.9803617827\" opacity=\"0.8\" /><polyline fill=\"none\" stroke=\"#66cc99\" stroke-width=\"35.2862784960897\" points=\"1335418.9290945602,1680361.9803617827 1335377.4492489053,1680331.9696985998 1335218.1708874837,1680280.1000821528\" opacity=\"0.8\" /><polyline fill=\"none\" stroke=\"#66cc99\" stroke-width=\"35.2862784960897\" points=\"1335218.1708874837,1680280.1000821528 1335176.9286851275,1680288.6184033647 1335089.3301966258,1680246.3306729759 1335015.0017099269,1680240.2286534656\" opacity=\"0.8\" /><polyline fill=\"none\" stroke=\"#66cc99\" stroke-width=\"35.2862784960897\" points=\"1335015.0017099269,1680240.2286534656 1334974.180611496,1680329.7200383947 1334947.960634199,1680331.200206983\" opacity=\"0.8\" /><polyline fill=\"none\" stroke=\"#66cc99\" stroke-width=\"35.2862784960897\" points=\"1334947.960634199,1680331.200206983 1335018.2495016765,1680372.0082589057 1335014.3711630409,1680404.831732528\" opacity=\"0.8\" /><polyline fill=\"none\" stroke=\"#66cc99\" stroke-width=\"35.2862784960897\" points=\"1335014.3711630409,1680404.831732528 1335050.0588493606,1680415.8006639848 1335118.2212846007,1680499.0086842456 1335187.2012127887,1680550.2509444698 1335226.4788972086,1680614.6382780487 1335206.7196490606,1680661.920352117 1335148.4590179354,1680660.1510115198 1335036.8110275988,1680729.7777498027 1335052.5208339358,1680763.4589370107 1335125.9716247178,1680743.1188719766 1335264.3687447635,1680804.75171964 1335242.8192504316,1680866.041481869 1335251.6310639498,1680964.2281220697 1335016.6493701315,1681022.8516203521 1334981.750342706,1680995.341069741\" opacity=\"0.8\" /><polyline fill=\"none\" stroke=\"#66cc99\" stroke-width=\"35.2862784960897\" points=\"1334981.750342706,1680995.341069741 1334933.9206681082,1681086.6802147948\" opacity=\"0.8\" /><polyline fill=\"none\" stroke=\"#66cc99\" stroke-width=\"35.2862784960897\" points=\"1335304.8599942955,1681705.11180514 1335181.9001829377,1681734.180943867 1335197.5402805738,1681806.0524411341 1335142.1186947245,1681869.8222209313 1335242.2394007826,1681881.7811989272 1335285.6615843328,1681931.5236856814\" opacity=\"0.8\" /><polyline fill=\"none\" stroke=\"#66cc99\" stroke-width=\"35.2862784960897\" points=\"1335285.6615843328,1681931.5236856814 1335304.8599942955,1681705.11180514\" opacity=\"0.8\" /></g></g></svg>"
      ],
      "text/plain": [
       "<shapely.geometry.multilinestring.MultiLineString at 0x7fc22ab6bb80>"
      ]
     },
     "metadata": {},
     "output_type": "display_data"
    },
    {
     "data": {
      "text/plain": [
       "(None, None)"
      ]
     },
     "execution_count": 164,
     "metadata": {},
     "output_type": "execute_result"
    }
   ],
   "source": [
    "t1.to_svg(), t2.to_svg()"
   ]
  },
  {
   "cell_type": "code",
   "execution_count": null,
   "metadata": {},
   "outputs": [],
   "source": []
  },
  {
   "cell_type": "code",
   "execution_count": 111,
   "metadata": {},
   "outputs": [],
   "source": [
    "f_topo = tp.Topology(f__, simplify_with='simplification', simplify_algorithm='vw', toposimplify=0, topoquantize=0)\n",
    "#f_topo.to_json('f.topo.json')"
   ]
  },
  {
   "cell_type": "code",
   "execution_count": null,
   "metadata": {},
   "outputs": [],
   "source": [
    "f_topo.to_svg()"
   ]
  },
  {
   "cell_type": "code",
   "execution_count": 123,
   "metadata": {},
   "outputs": [
    {
     "data": {
      "application/vnd.jupyter.widget-view+json": {
       "model_id": "cda313ff20b345f9a73b202ef1adacbf",
       "version_major": 2,
       "version_minor": 0
      },
      "text/plain": [
       "interactive(children=(FloatSlider(value=0.01, description='Toposimplify Factor', max=10.0, step=0.01, style=Sl…"
      ]
     },
     "metadata": {},
     "output_type": "display_data"
    },
    {
     "data": {
      "text/plain": [
       "<function topojson.utils.toposimpquant(epsilon, quant, algo, topo)>"
      ]
     },
     "execution_count": 123,
     "metadata": {},
     "output_type": "execute_result"
    }
   ],
   "source": [
    "t = tp.Topology(f__, prevent_oversimplify=False)\n",
    "t.to_widget()"
   ]
  },
  {
   "cell_type": "code",
   "execution_count": 51,
   "metadata": {},
   "outputs": [
    {
     "name": "stdout",
     "output_type": "stream",
     "text": [
      "CPU times: user 2min 24s, sys: 7.22 s, total: 2min 31s\n",
      "Wall time: 2min 28s\n"
     ]
    }
   ],
   "source": [
    "%%time \n",
    "f_.to_file('./data/shp/tsa08.shp/stands.shp')"
   ]
  },
  {
   "cell_type": "code",
   "execution_count": null,
   "metadata": {},
   "outputs": [],
   "source": [
    "def clean_vector_data(src_path, dst_path, dst_name, prop_names, clean=True, tolerance=0.,\n",
    "                      preserve_topology=True, logfn='clean_stand_shapefile.log', max_records=None,\n",
    "                      theme0=None, prop_types=None, driver='ESRI Shapefile', dst_epsg=None,\n",
    "                      update_area_prop=''):\n",
    "    import logging\n",
    "    import sys\n",
    "    from shapely.geometry import mapping, shape, Polygon, MultiPolygon\n",
    "    import fiona\n",
    "    from collections import OrderedDict\n",
    "    logging.basicConfig(filename=logfn, level=logging.INFO)\n",
    "    snk1_path = '%s/%s.shp' % (dst_path, dst_name) \n",
    "    #snk2_path = dst_path[:-4]+'_error.shp' \n",
    "    snk2_path = '%s/%s_error.shp' % (dst_path, dst_name) \n",
    "    with fiona.open(src_path, 'r') as src:\n",
    "        kwds1 = src.meta.copy()\n",
    "        kwds2 = src.meta.copy()\n",
    "        kwds1.update(driver=driver)\n",
    "        kwds2.update(driver=driver)\n",
    "        if dst_epsg:\n",
    "            dst_crs = from_epsg(dst_epsg)\n",
    "            kwds1.update(crs=dst_crs, crs_wkt=None)\n",
    "        if not prop_types:\n",
    "            prop_types = [('theme0', 'str:10')] if theme0 else []\n",
    "            prop_types = prop_types + [(pn.lower(), src.schema['properties'][pn]) for pn in prop_names]\n",
    "        kwds1['schema']['properties'] = OrderedDict(prop_types)\n",
    "        kwds2['schema']['properties'] = OrderedDict(prop_types)\n",
    "        print(kwds1)\n",
    "        with fiona.open(snk1_path, 'w', **kwds1) as snk1, fiona.open(snk2_path, 'w', **kwds2) as snk2:\n",
    "            n = len(src) if not max_records else max_records\n",
    "            i = 0\n",
    "            for f in src[:n]:\n",
    "                i += 1\n",
    "                prop_data = [('theme0', theme0)] if theme0 else []\n",
    "                if prop_types:\n",
    "                    prop_data = prop_data + [(prop_types[i+len(prop_data)][0], f['properties'][pn])\n",
    "                                             for i, pn in enumerate(prop_names)]   \n",
    "                else:\n",
    "                    prop_data = prop_data + [(pn.lower(), f['properties'][pn]) for pn in prop_names]\n",
    "                f.update(properties = OrderedDict(prop_data))\n",
    "                try:\n",
    "                    g = shape(f['geometry'])\n",
    "                    if not g.is_valid:\n",
    "                        _g = g.buffer(0)\n",
    "                        ################################\n",
    "                        # HACK\n",
    "                        # Something changed (maybe in fiona?) and now all GDB datasets are\n",
    "                        # loading as MultiPolygon geometry type (instead of Polygon). \n",
    "                        # The buffer(0) trick smashes the geometry back to Polygon, \n",
    "                        # so this hack upcasts it back to MultiPolygon.\n",
    "                        # \n",
    "                        # Not sure how robust this is going to be (guessing not robust).\n",
    "                        _g = MultiPolygon([_g])\n",
    "                        assert _g.is_valid\n",
    "                        assert _g.geom_type == 'MultiPolygon'\n",
    "                        g = _g\n",
    "                        ################################\n",
    "                    ##################################################################\n",
    "                    # The idea was to remove redundant vertices from polygons\n",
    "                    # (to make datasets smaller, but also speed up geometry processing).\n",
    "                    # This sort of worked, but was unstable so commented out for now.\n",
    "                    # g = g.simplify(tolerance=tolerance, preserve_topology=True)\n",
    "                    # if not g.is_valid:\n",
    "                    #     _g = g.buffer(0)\n",
    "                    #     assert _g.is_valid\n",
    "                    #     assert _g.geom_type == 'Polygon'\n",
    "                    #     g = _g\n",
    "                    ##################################################################\n",
    "                    f['geometry'] = mapping(g)\n",
    "                    #print('geometry type 2', f['geometry']['type'])\n",
    "                    if dst_epsg: f = reproject(f, src.crs, dst_crs)\n",
    "                    if update_area_prop:\n",
    "                        f['properties'][update_area_prop] = shape(f['geometry']).area\n",
    "                    snk1.write(f)\n",
    "                except Exception as e: # log exception and write uncleanable feature a separate shapefile\n",
    "                    logging.exception(\"Error cleaning feature %s:\", f['id'])\n",
    "                    snk2.write(f)\n",
    "    return snk1_path, snk2_path"
   ]
  },
  {
   "cell_type": "code",
   "execution_count": null,
   "metadata": {},
   "outputs": [],
   "source": []
  },
  {
   "cell_type": "code",
   "execution_count": null,
   "metadata": {},
   "outputs": [],
   "source": []
  },
  {
   "cell_type": "code",
   "execution_count": null,
   "metadata": {},
   "outputs": [],
   "source": []
  },
  {
   "cell_type": "code",
   "execution_count": null,
   "metadata": {},
   "outputs": [],
   "source": []
  },
  {
   "cell_type": "code",
   "execution_count": 161,
   "metadata": {},
   "outputs": [
    {
     "data": {
      "text/plain": [
       "tsa_code\n",
       "08    1.049399e+06\n",
       "16    1.435112e+06\n",
       "24    2.909896e+06\n",
       "40    1.017268e+06\n",
       "41    7.143021e+05\n",
       "Name: thlb_area, dtype: float64"
      ]
     },
     "execution_count": 161,
     "metadata": {},
     "output_type": "execute_result"
    }
   ],
   "source": []
  },
  {
   "cell_type": "code",
   "execution_count": 175,
   "metadata": {},
   "outputs": [],
   "source": [
    "if 0:\n",
    "    f['has_managed_curve'] = f.swifter.apply(has_managed_curve, axis=1) \n",
    "    f[f.has_managed_curve == 0].thlb_raw.hist()\n",
    "    f[f.has_managed_curve == 0]\n",
    "    f[f.has_managed_curve == 1].thlb_raw.hist()\n",
    "    f[f.has_managed_curve == 1]\n",
    "    f[f.has_managed_curve == -1]"
   ]
  },
  {
   "cell_type": "code",
   "execution_count": null,
   "metadata": {},
   "outputs": [],
   "source": []
  },
  {
   "cell_type": "code",
   "execution_count": 100,
   "metadata": {},
   "outputs": [
    {
     "name": "stdout",
     "output_type": "stream",
     "text": [
      "08\n",
      "836545.05606871\n",
      "16\n",
      "923022.6680627001\n",
      "24\n",
      "3350540.6517824195\n",
      "40\n",
      "668307.1822495301\n",
      "41\n",
      "406439.80197317\n"
     ]
    }
   ],
   "source": [
    "for tsa in ria_tsas:\n",
    "    print(tsa)\n",
    "    thlb_area = f.set_index('tsa_code').loc[tsa].query('thlb == 1').FEATURE_AREA_SQM.sum() * 0.0001\n",
    "    print(thlb_area)"
   ]
  },
  {
   "cell_type": "code",
   "execution_count": 127,
   "metadata": {},
   "outputs": [
    {
     "name": "stdout",
     "output_type": "stream",
     "text": [
      "08\n",
      "1936681.2445122902\n",
      "16\n",
      "2092169.4377570702\n",
      "24\n",
      "3912796.82959853\n",
      "40\n",
      "1774472.6620997097\n",
      "41\n",
      "1267486.5773783\n"
     ]
    }
   ],
   "source": [
    "#q = \"thlb == 1 and BCLCS_LEVEL_5 != 'SP'\"\n",
    "q = \"thlb == 1 and SITE_INDEX >= 5\"\n",
    "\n",
    "for tsa in ria_tsas:\n",
    "    print(tsa)\n",
    "    #thlb_area = f.set_index('tsa_code').loc[tsa].query(\"thlb == 1 and BCLCS_LEVEL_5 != 'SP'\").FEATURE_AREA_SQM.sum() * 0.0001\n",
    "    thlb_area = f.set_index('tsa_code').loc[tsa].query(q).FEATURE_AREA_SQM.sum() * 0.0001\n",
    "    print(thlb_area)"
   ]
  },
  {
   "cell_type": "code",
   "execution_count": 131,
   "metadata": {},
   "outputs": [
    {
     "name": "stdout",
     "output_type": "stream",
     "text": [
      "7863946461.321996\n",
      "17589401276.048885\n",
      "39386753880.209694\n",
      "12070542045.839493\n",
      "8849952108.594387\n"
     ]
    }
   ],
   "source": [
    "for tsa in ria_tsas:\n",
    "    gdf = gpd.read_file('./data/ria_demo/input/gis/shp/tsa%s.shp/stands.shp' % tsa)\n",
    "    print(gdf.query(\"theme1 == '1'\").area.sum())\n"
   ]
  },
  {
   "cell_type": "code",
   "execution_count": 248,
   "metadata": {},
   "outputs": [
    {
     "data": {
      "text/plain": [
       "898003.5737597403"
      ]
     },
     "execution_count": 248,
     "metadata": {},
     "output_type": "execute_result"
    }
   ],
   "source": [
    "f.query('PROJ_AGE_1 < 50 and thlb == 0').FEATURE_AREA_SQM.sum() * 0.0001"
   ]
  },
  {
   "cell_type": "code",
   "execution_count": 246,
   "metadata": {},
   "outputs": [
    {
     "data": {
      "text/plain": [
       "1874199.98050064"
      ]
     },
     "execution_count": 246,
     "metadata": {},
     "output_type": "execute_result"
    }
   ],
   "source": [
    "f.query('PROJ_AGE_1 < 60 and thlb2 == 1').FEATURE_AREA_SQM.sum() * 0.0001"
   ]
  },
  {
   "cell_type": "code",
   "execution_count": 259,
   "metadata": {},
   "outputs": [
    {
     "data": {
      "text/plain": [
       "20398321"
      ]
     },
     "execution_count": 259,
     "metadata": {},
     "output_type": "execute_result"
    }
   ],
   "source": [
    "area_total = int(f.FEATURE_AREA_SQM.sum() * 0.0001)\n",
    "area_total"
   ]
  },
  {
   "cell_type": "code",
   "execution_count": 260,
   "metadata": {},
   "outputs": [
    {
     "data": {
      "text/plain": [
       "6996124"
      ]
     },
     "execution_count": 260,
     "metadata": {},
     "output_type": "execute_result"
    }
   ],
   "source": [
    "area_thlb = int(f.query('thlb2 == 1').FEATURE_AREA_SQM.sum() * 0.0001)\n",
    "area_thlb"
   ]
  },
  {
   "cell_type": "code",
   "execution_count": 261,
   "metadata": {},
   "outputs": [
    {
     "data": {
      "text/plain": [
       "0.3429754831292242"
      ]
     },
     "execution_count": 261,
     "metadata": {},
     "output_type": "execute_result"
    }
   ],
   "source": [
    "area_thlb / area_total"
   ]
  },
  {
   "cell_type": "code",
   "execution_count": null,
   "metadata": {},
   "outputs": [],
   "source": []
  },
  {
   "cell_type": "code",
   "execution_count": null,
   "metadata": {},
   "outputs": [],
   "source": []
  },
  {
   "cell_type": "code",
   "execution_count": 255,
   "metadata": {},
   "outputs": [
    {
     "data": {
      "text/html": [
       "<div>\n",
       "<style scoped>\n",
       "    .dataframe tbody tr th:only-of-type {\n",
       "        vertical-align: middle;\n",
       "    }\n",
       "\n",
       "    .dataframe tbody tr th {\n",
       "        vertical-align: top;\n",
       "    }\n",
       "\n",
       "    .dataframe thead th {\n",
       "        text-align: right;\n",
       "    }\n",
       "</style>\n",
       "<table border=\"1\" class=\"dataframe\">\n",
       "  <thead>\n",
       "    <tr style=\"text-align: right;\">\n",
       "      <th></th>\n",
       "      <th>FEATURE_ID</th>\n",
       "      <th>index</th>\n",
       "      <th>MAP_ID</th>\n",
       "      <th>POLYGON_ID</th>\n",
       "      <th>OPENING_IND</th>\n",
       "      <th>OPENING_SOURCE</th>\n",
       "      <th>OPENING_NUMBER</th>\n",
       "      <th>FEATURE_CLASS_SKEY</th>\n",
       "      <th>INVENTORY_STANDARD_CD</th>\n",
       "      <th>POLYGON_AREA</th>\n",
       "      <th>NON_PRODUCTIVE_DESCRIPTOR_CD</th>\n",
       "      <th>NON_PRODUCTIVE_CD</th>\n",
       "      <th>INPUT_DATE</th>\n",
       "      <th>COAST_INTERIOR_CD</th>\n",
       "      <th>SURFACE_EXPRESSION</th>\n",
       "      <th>...</th>\n",
       "      <th>thlb_raw</th>\n",
       "      <th>BEC_ZONE_CODE_lexmatch</th>\n",
       "      <th>SPECIES_CD_1_lexmatch</th>\n",
       "      <th>SPECIES_CD_2_lexmatch</th>\n",
       "      <th>stratum</th>\n",
       "      <th>stratum_lexmatch</th>\n",
       "      <th>stratum_matched</th>\n",
       "      <th>si_level</th>\n",
       "      <th>au</th>\n",
       "      <th>curve1</th>\n",
       "      <th>curve2</th>\n",
       "      <th>thlb</th>\n",
       "      <th>thlb_area</th>\n",
       "      <th>has_managed_curve</th>\n",
       "      <th>thlb2</th>\n",
       "    </tr>\n",
       "  </thead>\n",
       "  <tbody>\n",
       "    <tr>\n",
       "      <th>0</th>\n",
       "      <td>7234204</td>\n",
       "      <td>2</td>\n",
       "      <td>094P039</td>\n",
       "      <td>64307717</td>\n",
       "      <td>N</td>\n",
       "      <td>None</td>\n",
       "      <td>None</td>\n",
       "      <td>843</td>\n",
       "      <td>V</td>\n",
       "      <td>7.5</td>\n",
       "      <td>None</td>\n",
       "      <td>None</td>\n",
       "      <td>None</td>\n",
       "      <td>I</td>\n",
       "      <td>P</td>\n",
       "      <td>...</td>\n",
       "      <td>0.000000</td>\n",
       "      <td>BWBS</td>\n",
       "      <td>SSB</td>\n",
       "      <td>LLT</td>\n",
       "      <td>BWBS_SB</td>\n",
       "      <td>BWBSBWBSBWBS_SSBSSB</td>\n",
       "      <td>BWBS_SB</td>\n",
       "      <td>M</td>\n",
       "      <td>802000.0</td>\n",
       "      <td>802000</td>\n",
       "      <td>802000</td>\n",
       "      <td>0</td>\n",
       "      <td>0.000000</td>\n",
       "      <td>-1</td>\n",
       "      <td>0</td>\n",
       "    </tr>\n",
       "    <tr>\n",
       "      <th>1</th>\n",
       "      <td>7176693</td>\n",
       "      <td>3</td>\n",
       "      <td>094P083</td>\n",
       "      <td>85153646</td>\n",
       "      <td>N</td>\n",
       "      <td>None</td>\n",
       "      <td>None</td>\n",
       "      <td>843</td>\n",
       "      <td>V</td>\n",
       "      <td>26.9</td>\n",
       "      <td>None</td>\n",
       "      <td>None</td>\n",
       "      <td>None</td>\n",
       "      <td>I</td>\n",
       "      <td>P</td>\n",
       "      <td>...</td>\n",
       "      <td>0.000000</td>\n",
       "      <td>BWBS</td>\n",
       "      <td>SSB</td>\n",
       "      <td>NaN</td>\n",
       "      <td>BWBS_SB</td>\n",
       "      <td>BWBSBWBSBWBS_SSBSSB</td>\n",
       "      <td>BWBS_SB</td>\n",
       "      <td>L</td>\n",
       "      <td>801000.0</td>\n",
       "      <td>801000</td>\n",
       "      <td>801000</td>\n",
       "      <td>0</td>\n",
       "      <td>0.000000</td>\n",
       "      <td>-1</td>\n",
       "      <td>0</td>\n",
       "    </tr>\n",
       "    <tr>\n",
       "      <th>2</th>\n",
       "      <td>4109532</td>\n",
       "      <td>4</td>\n",
       "      <td>094J100</td>\n",
       "      <td>337</td>\n",
       "      <td>N</td>\n",
       "      <td>7</td>\n",
       "      <td>None</td>\n",
       "      <td>843</td>\n",
       "      <td>V</td>\n",
       "      <td>9.3</td>\n",
       "      <td>None</td>\n",
       "      <td>None</td>\n",
       "      <td>None</td>\n",
       "      <td>I</td>\n",
       "      <td>P</td>\n",
       "      <td>...</td>\n",
       "      <td>77.700000</td>\n",
       "      <td>BWBS</td>\n",
       "      <td>SSW</td>\n",
       "      <td>SSB</td>\n",
       "      <td>BWBS_SW</td>\n",
       "      <td>BWBSBWBSBWBS_SSWSSW</td>\n",
       "      <td>BWBS_SW</td>\n",
       "      <td>M</td>\n",
       "      <td>802003.0</td>\n",
       "      <td>802003</td>\n",
       "      <td>802003</td>\n",
       "      <td>0</td>\n",
       "      <td>0.000000</td>\n",
       "      <td>-1</td>\n",
       "      <td>0</td>\n",
       "    </tr>\n",
       "    <tr>\n",
       "      <th>3</th>\n",
       "      <td>4112783</td>\n",
       "      <td>5</td>\n",
       "      <td>094K040</td>\n",
       "      <td>246</td>\n",
       "      <td>N</td>\n",
       "      <td>7</td>\n",
       "      <td>None</td>\n",
       "      <td>843</td>\n",
       "      <td>F</td>\n",
       "      <td>10.4</td>\n",
       "      <td>None</td>\n",
       "      <td>None</td>\n",
       "      <td>1994-04-26T00:00:00</td>\n",
       "      <td>I</td>\n",
       "      <td>None</td>\n",
       "      <td>...</td>\n",
       "      <td>0.000000</td>\n",
       "      <td>BWBS</td>\n",
       "      <td>AAT</td>\n",
       "      <td>NaN</td>\n",
       "      <td>BWBS_AT</td>\n",
       "      <td>BWBSBWBSBWBS_AATAAT</td>\n",
       "      <td>BWBS_AT</td>\n",
       "      <td>L</td>\n",
       "      <td>801001.0</td>\n",
       "      <td>801001</td>\n",
       "      <td>801001</td>\n",
       "      <td>0</td>\n",
       "      <td>0.000000</td>\n",
       "      <td>-1</td>\n",
       "      <td>0</td>\n",
       "    </tr>\n",
       "    <tr>\n",
       "      <th>4</th>\n",
       "      <td>4018593</td>\n",
       "      <td>6</td>\n",
       "      <td>094I081</td>\n",
       "      <td>161</td>\n",
       "      <td>N</td>\n",
       "      <td>None</td>\n",
       "      <td>None</td>\n",
       "      <td>843</td>\n",
       "      <td>V</td>\n",
       "      <td>5.0</td>\n",
       "      <td>None</td>\n",
       "      <td>None</td>\n",
       "      <td>None</td>\n",
       "      <td>I</td>\n",
       "      <td>P</td>\n",
       "      <td>...</td>\n",
       "      <td>100.000000</td>\n",
       "      <td>BWBS</td>\n",
       "      <td>AAT</td>\n",
       "      <td>SSB</td>\n",
       "      <td>BWBS_AT+SB</td>\n",
       "      <td>BWBSBWBSBWBS_AATAAT+SSB</td>\n",
       "      <td>BWBS_AT+SW</td>\n",
       "      <td>H</td>\n",
       "      <td>803008.0</td>\n",
       "      <td>803008</td>\n",
       "      <td>803008</td>\n",
       "      <td>1</td>\n",
       "      <td>5.043518</td>\n",
       "      <td>0</td>\n",
       "      <td>1</td>\n",
       "    </tr>\n",
       "    <tr>\n",
       "      <th>...</th>\n",
       "      <td>...</td>\n",
       "      <td>...</td>\n",
       "      <td>...</td>\n",
       "      <td>...</td>\n",
       "      <td>...</td>\n",
       "      <td>...</td>\n",
       "      <td>...</td>\n",
       "      <td>...</td>\n",
       "      <td>...</td>\n",
       "      <td>...</td>\n",
       "      <td>...</td>\n",
       "      <td>...</td>\n",
       "      <td>...</td>\n",
       "      <td>...</td>\n",
       "      <td>...</td>\n",
       "      <td>...</td>\n",
       "      <td>...</td>\n",
       "      <td>...</td>\n",
       "      <td>...</td>\n",
       "      <td>...</td>\n",
       "      <td>...</td>\n",
       "      <td>...</td>\n",
       "      <td>...</td>\n",
       "      <td>...</td>\n",
       "      <td>...</td>\n",
       "      <td>...</td>\n",
       "      <td>...</td>\n",
       "      <td>...</td>\n",
       "      <td>...</td>\n",
       "      <td>...</td>\n",
       "      <td>...</td>\n",
       "    </tr>\n",
       "    <tr>\n",
       "      <th>1414021</th>\n",
       "      <td>16346696</td>\n",
       "      <td>1990019</td>\n",
       "      <td>093I084</td>\n",
       "      <td>60841122</td>\n",
       "      <td>N</td>\n",
       "      <td>None</td>\n",
       "      <td>None</td>\n",
       "      <td>843</td>\n",
       "      <td>V</td>\n",
       "      <td>1.1</td>\n",
       "      <td>None</td>\n",
       "      <td>None</td>\n",
       "      <td>None</td>\n",
       "      <td>I</td>\n",
       "      <td>N</td>\n",
       "      <td>...</td>\n",
       "      <td>NaN</td>\n",
       "      <td>SBSx</td>\n",
       "      <td>PPL</td>\n",
       "      <td>SSX</td>\n",
       "      <td>SBS_PL</td>\n",
       "      <td>SBSxSBSxSBSx_PPLPPL</td>\n",
       "      <td>BWBS_PLI</td>\n",
       "      <td>M</td>\n",
       "      <td>4102003.0</td>\n",
       "      <td>4102003</td>\n",
       "      <td>4102003</td>\n",
       "      <td>0</td>\n",
       "      <td>NaN</td>\n",
       "      <td>-1</td>\n",
       "      <td>0</td>\n",
       "    </tr>\n",
       "    <tr>\n",
       "      <th>1414022</th>\n",
       "      <td>12463090</td>\n",
       "      <td>1990020</td>\n",
       "      <td>093O080</td>\n",
       "      <td>26846716</td>\n",
       "      <td>N</td>\n",
       "      <td>None</td>\n",
       "      <td>None</td>\n",
       "      <td>843</td>\n",
       "      <td>V</td>\n",
       "      <td>66.4</td>\n",
       "      <td>None</td>\n",
       "      <td>None</td>\n",
       "      <td>None</td>\n",
       "      <td>I</td>\n",
       "      <td>U</td>\n",
       "      <td>...</td>\n",
       "      <td>85.500000</td>\n",
       "      <td>ESSF</td>\n",
       "      <td>AAT</td>\n",
       "      <td>SSE</td>\n",
       "      <td>ESSF_AT+SE</td>\n",
       "      <td>ESSFESSFESSF_AATAAT+SSE</td>\n",
       "      <td>ESSF_SE</td>\n",
       "      <td>H</td>\n",
       "      <td>4103002.0</td>\n",
       "      <td>4103002</td>\n",
       "      <td>4103002</td>\n",
       "      <td>1</td>\n",
       "      <td>56.787711</td>\n",
       "      <td>1</td>\n",
       "      <td>1</td>\n",
       "    </tr>\n",
       "    <tr>\n",
       "      <th>1414023</th>\n",
       "      <td>7331768</td>\n",
       "      <td>1990021</td>\n",
       "      <td>093I086</td>\n",
       "      <td>71529616</td>\n",
       "      <td>N</td>\n",
       "      <td>None</td>\n",
       "      <td>None</td>\n",
       "      <td>843</td>\n",
       "      <td>V</td>\n",
       "      <td>19.8</td>\n",
       "      <td>None</td>\n",
       "      <td>None</td>\n",
       "      <td>None</td>\n",
       "      <td>I</td>\n",
       "      <td>N</td>\n",
       "      <td>...</td>\n",
       "      <td>61.285714</td>\n",
       "      <td>ESSF</td>\n",
       "      <td>SSE</td>\n",
       "      <td>BBL</td>\n",
       "      <td>ESSF_SE</td>\n",
       "      <td>ESSFESSFESSF_SSESSE</td>\n",
       "      <td>ESSF_SE</td>\n",
       "      <td>H</td>\n",
       "      <td>4103002.0</td>\n",
       "      <td>4103002</td>\n",
       "      <td>4103002</td>\n",
       "      <td>1</td>\n",
       "      <td>12.104791</td>\n",
       "      <td>1</td>\n",
       "      <td>1</td>\n",
       "    </tr>\n",
       "    <tr>\n",
       "      <th>1414024</th>\n",
       "      <td>8117584</td>\n",
       "      <td>1990022</td>\n",
       "      <td>093I039</td>\n",
       "      <td>36168302</td>\n",
       "      <td>N</td>\n",
       "      <td>None</td>\n",
       "      <td>None</td>\n",
       "      <td>843</td>\n",
       "      <td>V</td>\n",
       "      <td>38.3</td>\n",
       "      <td>None</td>\n",
       "      <td>None</td>\n",
       "      <td>None</td>\n",
       "      <td>I</td>\n",
       "      <td>P</td>\n",
       "      <td>...</td>\n",
       "      <td>36.771429</td>\n",
       "      <td>ESSF</td>\n",
       "      <td>SSE</td>\n",
       "      <td>NaN</td>\n",
       "      <td>ESSF_SE</td>\n",
       "      <td>ESSFESSFESSF_SSESSE</td>\n",
       "      <td>ESSF_SE</td>\n",
       "      <td>L</td>\n",
       "      <td>4101002.0</td>\n",
       "      <td>4101002</td>\n",
       "      <td>4101002</td>\n",
       "      <td>1</td>\n",
       "      <td>14.091828</td>\n",
       "      <td>1</td>\n",
       "      <td>0</td>\n",
       "    </tr>\n",
       "    <tr>\n",
       "      <th>1414025</th>\n",
       "      <td>3218411</td>\n",
       "      <td>1990023</td>\n",
       "      <td>093P066</td>\n",
       "      <td>402</td>\n",
       "      <td>N</td>\n",
       "      <td>4</td>\n",
       "      <td>None</td>\n",
       "      <td>843</td>\n",
       "      <td>V</td>\n",
       "      <td>8.6</td>\n",
       "      <td>None</td>\n",
       "      <td>None</td>\n",
       "      <td>None</td>\n",
       "      <td>I</td>\n",
       "      <td>N</td>\n",
       "      <td>...</td>\n",
       "      <td>97.222222</td>\n",
       "      <td>BWBS</td>\n",
       "      <td>AAT</td>\n",
       "      <td>SSW</td>\n",
       "      <td>BWBS_AT+SW</td>\n",
       "      <td>BWBSBWBSBWBS_AATAAT+SSW</td>\n",
       "      <td>BWBS_AT</td>\n",
       "      <td>M</td>\n",
       "      <td>4102000.0</td>\n",
       "      <td>4102000</td>\n",
       "      <td>4102000</td>\n",
       "      <td>1</td>\n",
       "      <td>8.406581</td>\n",
       "      <td>1</td>\n",
       "      <td>1</td>\n",
       "    </tr>\n",
       "  </tbody>\n",
       "</table>\n",
       "<p>1265779 rows × 210 columns</p>\n",
       "</div>"
      ],
      "text/plain": [
       "         FEATURE_ID    index   MAP_ID  POLYGON_ID OPENING_IND OPENING_SOURCE  \\\n",
       "0           7234204        2  094P039    64307717           N           None   \n",
       "1           7176693        3  094P083    85153646           N           None   \n",
       "2           4109532        4  094J100         337           N              7   \n",
       "3           4112783        5  094K040         246           N              7   \n",
       "4           4018593        6  094I081         161           N           None   \n",
       "...             ...      ...      ...         ...         ...            ...   \n",
       "1414021    16346696  1990019  093I084    60841122           N           None   \n",
       "1414022    12463090  1990020  093O080    26846716           N           None   \n",
       "1414023     7331768  1990021  093I086    71529616           N           None   \n",
       "1414024     8117584  1990022  093I039    36168302           N           None   \n",
       "1414025     3218411  1990023  093P066         402           N              4   \n",
       "\n",
       "        OPENING_NUMBER  FEATURE_CLASS_SKEY INVENTORY_STANDARD_CD  \\\n",
       "0                 None                 843                     V   \n",
       "1                 None                 843                     V   \n",
       "2                 None                 843                     V   \n",
       "3                 None                 843                     F   \n",
       "4                 None                 843                     V   \n",
       "...                ...                 ...                   ...   \n",
       "1414021           None                 843                     V   \n",
       "1414022           None                 843                     V   \n",
       "1414023           None                 843                     V   \n",
       "1414024           None                 843                     V   \n",
       "1414025           None                 843                     V   \n",
       "\n",
       "         POLYGON_AREA NON_PRODUCTIVE_DESCRIPTOR_CD NON_PRODUCTIVE_CD  \\\n",
       "0                 7.5                         None              None   \n",
       "1                26.9                         None              None   \n",
       "2                 9.3                         None              None   \n",
       "3                10.4                         None              None   \n",
       "4                 5.0                         None              None   \n",
       "...               ...                          ...               ...   \n",
       "1414021           1.1                         None              None   \n",
       "1414022          66.4                         None              None   \n",
       "1414023          19.8                         None              None   \n",
       "1414024          38.3                         None              None   \n",
       "1414025           8.6                         None              None   \n",
       "\n",
       "                  INPUT_DATE COAST_INTERIOR_CD SURFACE_EXPRESSION  ...  \\\n",
       "0                       None                 I                  P  ...   \n",
       "1                       None                 I                  P  ...   \n",
       "2                       None                 I                  P  ...   \n",
       "3        1994-04-26T00:00:00                 I               None  ...   \n",
       "4                       None                 I                  P  ...   \n",
       "...                      ...               ...                ...  ...   \n",
       "1414021                 None                 I                  N  ...   \n",
       "1414022                 None                 I                  U  ...   \n",
       "1414023                 None                 I                  N  ...   \n",
       "1414024                 None                 I                  P  ...   \n",
       "1414025                 None                 I                  N  ...   \n",
       "\n",
       "           thlb_raw BEC_ZONE_CODE_lexmatch SPECIES_CD_1_lexmatch  \\\n",
       "0          0.000000                   BWBS                   SSB   \n",
       "1          0.000000                   BWBS                   SSB   \n",
       "2         77.700000                   BWBS                   SSW   \n",
       "3          0.000000                   BWBS                   AAT   \n",
       "4        100.000000                   BWBS                   AAT   \n",
       "...             ...                    ...                   ...   \n",
       "1414021         NaN                   SBSx                   PPL   \n",
       "1414022   85.500000                   ESSF                   AAT   \n",
       "1414023   61.285714                   ESSF                   SSE   \n",
       "1414024   36.771429                   ESSF                   SSE   \n",
       "1414025   97.222222                   BWBS                   AAT   \n",
       "\n",
       "        SPECIES_CD_2_lexmatch     stratum         stratum_lexmatch  \\\n",
       "0                         LLT     BWBS_SB      BWBSBWBSBWBS_SSBSSB   \n",
       "1                         NaN     BWBS_SB      BWBSBWBSBWBS_SSBSSB   \n",
       "2                         SSB     BWBS_SW      BWBSBWBSBWBS_SSWSSW   \n",
       "3                         NaN     BWBS_AT      BWBSBWBSBWBS_AATAAT   \n",
       "4                         SSB  BWBS_AT+SB  BWBSBWBSBWBS_AATAAT+SSB   \n",
       "...                       ...         ...                      ...   \n",
       "1414021                   SSX      SBS_PL      SBSxSBSxSBSx_PPLPPL   \n",
       "1414022                   SSE  ESSF_AT+SE  ESSFESSFESSF_AATAAT+SSE   \n",
       "1414023                   BBL     ESSF_SE      ESSFESSFESSF_SSESSE   \n",
       "1414024                   NaN     ESSF_SE      ESSFESSFESSF_SSESSE   \n",
       "1414025                   SSW  BWBS_AT+SW  BWBSBWBSBWBS_AATAAT+SSW   \n",
       "\n",
       "        stratum_matched si_level         au   curve1   curve2 thlb  thlb_area  \\\n",
       "0               BWBS_SB        M   802000.0   802000   802000    0   0.000000   \n",
       "1               BWBS_SB        L   801000.0   801000   801000    0   0.000000   \n",
       "2               BWBS_SW        M   802003.0   802003   802003    0   0.000000   \n",
       "3               BWBS_AT        L   801001.0   801001   801001    0   0.000000   \n",
       "4            BWBS_AT+SW        H   803008.0   803008   803008    1   5.043518   \n",
       "...                 ...      ...        ...      ...      ...  ...        ...   \n",
       "1414021        BWBS_PLI        M  4102003.0  4102003  4102003    0        NaN   \n",
       "1414022         ESSF_SE        H  4103002.0  4103002  4103002    1  56.787711   \n",
       "1414023         ESSF_SE        H  4103002.0  4103002  4103002    1  12.104791   \n",
       "1414024         ESSF_SE        L  4101002.0  4101002  4101002    1  14.091828   \n",
       "1414025         BWBS_AT        M  4102000.0  4102000  4102000    1   8.406581   \n",
       "\n",
       "         has_managed_curve thlb2  \n",
       "0                       -1     0  \n",
       "1                       -1     0  \n",
       "2                       -1     0  \n",
       "3                       -1     0  \n",
       "4                        0     1  \n",
       "...                    ...   ...  \n",
       "1414021                 -1     0  \n",
       "1414022                  1     1  \n",
       "1414023                  1     1  \n",
       "1414024                  1     0  \n",
       "1414025                  1     1  \n",
       "\n",
       "[1265779 rows x 210 columns]"
      ]
     },
     "execution_count": 255,
     "metadata": {},
     "output_type": "execute_result"
    }
   ],
   "source": [
    "f[f.curve2 == f.curve1]"
   ]
  },
  {
   "cell_type": "code",
   "execution_count": null,
   "metadata": {},
   "outputs": [],
   "source": []
  },
  {
   "cell_type": "code",
   "execution_count": null,
   "metadata": {},
   "outputs": [],
   "source": []
  },
  {
   "cell_type": "code",
   "execution_count": null,
   "metadata": {},
   "outputs": [],
   "source": []
  },
  {
   "cell_type": "code",
   "execution_count": null,
   "metadata": {},
   "outputs": [],
   "source": [
    "!zip ./data/ria_tmp-shp.zip ./data/ria_tmp.*"
   ]
  },
  {
   "cell_type": "code",
   "execution_count": null,
   "metadata": {},
   "outputs": [],
   "source": []
  },
  {
   "cell_type": "code",
   "execution_count": null,
   "metadata": {},
   "outputs": [],
   "source": []
  },
  {
   "cell_type": "code",
   "execution_count": null,
   "metadata": {},
   "outputs": [],
   "source": []
  },
  {
   "cell_type": "code",
   "execution_count": null,
   "metadata": {},
   "outputs": [],
   "source": []
  },
  {
   "cell_type": "code",
   "execution_count": null,
   "metadata": {},
   "outputs": [],
   "source": [
    "./data/tsa_boundaries.feather"
   ]
  },
  {
   "cell_type": "code",
   "execution_count": null,
   "metadata": {},
   "outputs": [],
   "source": []
  },
  {
   "cell_type": "code",
   "execution_count": null,
   "metadata": {},
   "outputs": [],
   "source": []
  },
  {
   "cell_type": "code",
   "execution_count": null,
   "metadata": {},
   "outputs": [],
   "source": []
  },
  {
   "cell_type": "code",
   "execution_count": 190,
   "metadata": {},
   "outputs": [
    {
     "name": "stdout",
     "output_type": "stream",
     "text": [
      "importing TSA 08 data\n",
      "importing TSA 16 data\n",
      "importing TSA 24 data\n",
      "importing TSA 40 data\n",
      "importing TSA 41 data\n"
     ]
    }
   ],
   "source": [
    "thlb_gdb = {}\n",
    "for tsa in ria_tsas:\n",
    "    print('importing TSA %s data' % tsa)\n",
    "    thlb_gdb[tsa] = gpd.read_file('./data/thlb_gdb/bc_vri/tsa%s.gdb' % tsa, ignore_geometry=True)"
   ]
  },
  {
   "cell_type": "code",
   "execution_count": 191,
   "metadata": {},
   "outputs": [],
   "source": [
    "f.reset_index(inplace=True)"
   ]
  },
  {
   "cell_type": "code",
   "execution_count": 192,
   "metadata": {},
   "outputs": [],
   "source": [
    "f['thlb'] = 0\n",
    "for tsa in ria_tsas:\n",
    "    f_ = thlb_gdb[tsa]\n",
    "    m = f[['FEATURE_ID']].merge(f_[['FEATURE_ID', 'THLB']], on='FEATURE_ID', how='left')#.set_index('FEATURE_ID')\n",
    "    #f.set_index('FEATURE_ID', inplace=True)\n",
    "    f['thlb'] = m.THLB.where(~m.THLB.isnull(), f.thlb)"
   ]
  },
  {
   "cell_type": "code",
   "execution_count": 193,
   "metadata": {},
   "outputs": [
    {
     "data": {
      "text/html": [
       "<div>\n",
       "<style scoped>\n",
       "    .dataframe tbody tr th:only-of-type {\n",
       "        vertical-align: middle;\n",
       "    }\n",
       "\n",
       "    .dataframe tbody tr th {\n",
       "        vertical-align: top;\n",
       "    }\n",
       "\n",
       "    .dataframe thead th {\n",
       "        text-align: right;\n",
       "    }\n",
       "</style>\n",
       "<table border=\"1\" class=\"dataframe\">\n",
       "  <thead>\n",
       "    <tr style=\"text-align: right;\">\n",
       "      <th></th>\n",
       "      <th>FEATURE_ID</th>\n",
       "      <th>index</th>\n",
       "      <th>MAP_ID</th>\n",
       "      <th>POLYGON_ID</th>\n",
       "      <th>OPENING_IND</th>\n",
       "      <th>OPENING_SOURCE</th>\n",
       "      <th>OPENING_NUMBER</th>\n",
       "      <th>FEATURE_CLASS_SKEY</th>\n",
       "      <th>INVENTORY_STANDARD_CD</th>\n",
       "      <th>POLYGON_AREA</th>\n",
       "      <th>NON_PRODUCTIVE_DESCRIPTOR_CD</th>\n",
       "      <th>NON_PRODUCTIVE_CD</th>\n",
       "      <th>INPUT_DATE</th>\n",
       "      <th>COAST_INTERIOR_CD</th>\n",
       "      <th>SURFACE_EXPRESSION</th>\n",
       "      <th>...</th>\n",
       "      <th>GEOMETRY_LEN</th>\n",
       "      <th>Shape_Length</th>\n",
       "      <th>Shape_Area</th>\n",
       "      <th>geometry</th>\n",
       "      <th>BEC_ZONE_CODE_lexmatch</th>\n",
       "      <th>SPECIES_CD_1_lexmatch</th>\n",
       "      <th>SPECIES_CD_2_lexmatch</th>\n",
       "      <th>stratum</th>\n",
       "      <th>stratum_lexmatch</th>\n",
       "      <th>stratum_matched</th>\n",
       "      <th>si_level</th>\n",
       "      <th>au</th>\n",
       "      <th>curve1</th>\n",
       "      <th>curve2</th>\n",
       "      <th>thlb</th>\n",
       "    </tr>\n",
       "    <tr>\n",
       "      <th>tsa_code</th>\n",
       "      <th></th>\n",
       "      <th></th>\n",
       "      <th></th>\n",
       "      <th></th>\n",
       "      <th></th>\n",
       "      <th></th>\n",
       "      <th></th>\n",
       "      <th></th>\n",
       "      <th></th>\n",
       "      <th></th>\n",
       "      <th></th>\n",
       "      <th></th>\n",
       "      <th></th>\n",
       "      <th></th>\n",
       "      <th></th>\n",
       "      <th></th>\n",
       "      <th></th>\n",
       "      <th></th>\n",
       "      <th></th>\n",
       "      <th></th>\n",
       "      <th></th>\n",
       "      <th></th>\n",
       "      <th></th>\n",
       "      <th></th>\n",
       "      <th></th>\n",
       "      <th></th>\n",
       "      <th></th>\n",
       "      <th></th>\n",
       "      <th></th>\n",
       "      <th></th>\n",
       "      <th></th>\n",
       "    </tr>\n",
       "  </thead>\n",
       "  <tbody>\n",
       "    <tr>\n",
       "      <th>08</th>\n",
       "      <td>4109532</td>\n",
       "      <td>4</td>\n",
       "      <td>094J100</td>\n",
       "      <td>337</td>\n",
       "      <td>N</td>\n",
       "      <td>7</td>\n",
       "      <td>None</td>\n",
       "      <td>843</td>\n",
       "      <td>V</td>\n",
       "      <td>9.3</td>\n",
       "      <td>None</td>\n",
       "      <td>None</td>\n",
       "      <td>None</td>\n",
       "      <td>I</td>\n",
       "      <td>P</td>\n",
       "      <td>...</td>\n",
       "      <td>0.0</td>\n",
       "      <td>2953.724549</td>\n",
       "      <td>93159.912289</td>\n",
       "      <td>MULTIPOLYGON (((1225011.710 1558755.596, 12250...</td>\n",
       "      <td>BWBS</td>\n",
       "      <td>SSW</td>\n",
       "      <td>SSB</td>\n",
       "      <td>BWBS_OP_SW</td>\n",
       "      <td>BWBSBWBSBWBS_OP_SSWSSW</td>\n",
       "      <td>BWBS_DE_SW</td>\n",
       "      <td>M</td>\n",
       "      <td>802005.0</td>\n",
       "      <td>802005</td>\n",
       "      <td>802005</td>\n",
       "      <td>1.0</td>\n",
       "    </tr>\n",
       "    <tr>\n",
       "      <th>08</th>\n",
       "      <td>4018593</td>\n",
       "      <td>6</td>\n",
       "      <td>094I081</td>\n",
       "      <td>161</td>\n",
       "      <td>N</td>\n",
       "      <td>None</td>\n",
       "      <td>None</td>\n",
       "      <td>843</td>\n",
       "      <td>V</td>\n",
       "      <td>5.0</td>\n",
       "      <td>None</td>\n",
       "      <td>None</td>\n",
       "      <td>None</td>\n",
       "      <td>I</td>\n",
       "      <td>P</td>\n",
       "      <td>...</td>\n",
       "      <td>0.0</td>\n",
       "      <td>1466.292917</td>\n",
       "      <td>50435.184471</td>\n",
       "      <td>MULTIPOLYGON (((1232014.562 1547547.503, 12320...</td>\n",
       "      <td>BWBS</td>\n",
       "      <td>AAT</td>\n",
       "      <td>SSB</td>\n",
       "      <td>BWBS_DE_AT+SB</td>\n",
       "      <td>BWBSBWBSBWBS_DE_AATAAT+SSB</td>\n",
       "      <td>BWBS_DE_AT+SW</td>\n",
       "      <td>H</td>\n",
       "      <td>803007.0</td>\n",
       "      <td>803007</td>\n",
       "      <td>803007</td>\n",
       "      <td>1.0</td>\n",
       "    </tr>\n",
       "    <tr>\n",
       "      <th>08</th>\n",
       "      <td>4087936</td>\n",
       "      <td>9</td>\n",
       "      <td>094J074</td>\n",
       "      <td>24</td>\n",
       "      <td>N</td>\n",
       "      <td>None</td>\n",
       "      <td>None</td>\n",
       "      <td>843</td>\n",
       "      <td>V</td>\n",
       "      <td>2.4</td>\n",
       "      <td>None</td>\n",
       "      <td>None</td>\n",
       "      <td>None</td>\n",
       "      <td>I</td>\n",
       "      <td>N</td>\n",
       "      <td>...</td>\n",
       "      <td>0.0</td>\n",
       "      <td>724.526591</td>\n",
       "      <td>23796.974432</td>\n",
       "      <td>MULTIPOLYGON (((1156041.310 1538029.665, 11560...</td>\n",
       "      <td>BWBS</td>\n",
       "      <td>SSW</td>\n",
       "      <td>SSB</td>\n",
       "      <td>BWBS_OP_SW</td>\n",
       "      <td>BWBSBWBSBWBS_OP_SSWSSW</td>\n",
       "      <td>BWBS_DE_SW</td>\n",
       "      <td>H</td>\n",
       "      <td>803005.0</td>\n",
       "      <td>803005</td>\n",
       "      <td>803005</td>\n",
       "      <td>1.0</td>\n",
       "    </tr>\n",
       "    <tr>\n",
       "      <th>08</th>\n",
       "      <td>4068290</td>\n",
       "      <td>14</td>\n",
       "      <td>094J046</td>\n",
       "      <td>136</td>\n",
       "      <td>N</td>\n",
       "      <td>7</td>\n",
       "      <td>None</td>\n",
       "      <td>843</td>\n",
       "      <td>V</td>\n",
       "      <td>4.5</td>\n",
       "      <td>None</td>\n",
       "      <td>None</td>\n",
       "      <td>None</td>\n",
       "      <td>I</td>\n",
       "      <td>N</td>\n",
       "      <td>...</td>\n",
       "      <td>0.0</td>\n",
       "      <td>1306.577721</td>\n",
       "      <td>45201.263678</td>\n",
       "      <td>MULTIPOLYGON (((1178189.638 1503991.636, 11781...</td>\n",
       "      <td>BWBS</td>\n",
       "      <td>AAT</td>\n",
       "      <td>NaN</td>\n",
       "      <td>BWBS_OP_AT</td>\n",
       "      <td>BWBSBWBSBWBS_OP_AATAAT</td>\n",
       "      <td>BWBS_SP_AT</td>\n",
       "      <td>H</td>\n",
       "      <td>803003.0</td>\n",
       "      <td>803003</td>\n",
       "      <td>803003</td>\n",
       "      <td>1.0</td>\n",
       "    </tr>\n",
       "    <tr>\n",
       "      <th>08</th>\n",
       "      <td>8231887</td>\n",
       "      <td>17</td>\n",
       "      <td>094I100</td>\n",
       "      <td>65731308</td>\n",
       "      <td>N</td>\n",
       "      <td>None</td>\n",
       "      <td>None</td>\n",
       "      <td>843</td>\n",
       "      <td>V</td>\n",
       "      <td>6.2</td>\n",
       "      <td>None</td>\n",
       "      <td>None</td>\n",
       "      <td>None</td>\n",
       "      <td>I</td>\n",
       "      <td>P</td>\n",
       "      <td>...</td>\n",
       "      <td>0.0</td>\n",
       "      <td>1431.876239</td>\n",
       "      <td>62201.375385</td>\n",
       "      <td>MULTIPOLYGON (((1337326.110 1566334.680, 13373...</td>\n",
       "      <td>BWBS</td>\n",
       "      <td>SSB</td>\n",
       "      <td>EEP</td>\n",
       "      <td>BWBS_OP_SB+EP</td>\n",
       "      <td>BWBSBWBSBWBS_OP_SSBSSB+EEP</td>\n",
       "      <td>BWBS_SP_SB</td>\n",
       "      <td>H</td>\n",
       "      <td>803002.0</td>\n",
       "      <td>823002</td>\n",
       "      <td>803002</td>\n",
       "      <td>1.0</td>\n",
       "    </tr>\n",
       "    <tr>\n",
       "      <th>...</th>\n",
       "      <td>...</td>\n",
       "      <td>...</td>\n",
       "      <td>...</td>\n",
       "      <td>...</td>\n",
       "      <td>...</td>\n",
       "      <td>...</td>\n",
       "      <td>...</td>\n",
       "      <td>...</td>\n",
       "      <td>...</td>\n",
       "      <td>...</td>\n",
       "      <td>...</td>\n",
       "      <td>...</td>\n",
       "      <td>...</td>\n",
       "      <td>...</td>\n",
       "      <td>...</td>\n",
       "      <td>...</td>\n",
       "      <td>...</td>\n",
       "      <td>...</td>\n",
       "      <td>...</td>\n",
       "      <td>...</td>\n",
       "      <td>...</td>\n",
       "      <td>...</td>\n",
       "      <td>...</td>\n",
       "      <td>...</td>\n",
       "      <td>...</td>\n",
       "      <td>...</td>\n",
       "      <td>...</td>\n",
       "      <td>...</td>\n",
       "      <td>...</td>\n",
       "      <td>...</td>\n",
       "      <td>...</td>\n",
       "    </tr>\n",
       "    <tr>\n",
       "      <th>08</th>\n",
       "      <td>4242881</td>\n",
       "      <td>395390</td>\n",
       "      <td>094P011</td>\n",
       "      <td>790</td>\n",
       "      <td>N</td>\n",
       "      <td>7</td>\n",
       "      <td>None</td>\n",
       "      <td>843</td>\n",
       "      <td>V</td>\n",
       "      <td>7.7</td>\n",
       "      <td>None</td>\n",
       "      <td>None</td>\n",
       "      <td>None</td>\n",
       "      <td>I</td>\n",
       "      <td>U</td>\n",
       "      <td>...</td>\n",
       "      <td>0.0</td>\n",
       "      <td>1722.019687</td>\n",
       "      <td>77321.484431</td>\n",
       "      <td>MULTIPOLYGON (((1240550.554 1576974.778, 12405...</td>\n",
       "      <td>BWBS</td>\n",
       "      <td>AAT</td>\n",
       "      <td>EEP</td>\n",
       "      <td>BWBS_DE_AT</td>\n",
       "      <td>BWBSBWBSBWBS_DE_AATAAT</td>\n",
       "      <td>BWBS_DE_AT</td>\n",
       "      <td>H</td>\n",
       "      <td>803000.0</td>\n",
       "      <td>803000</td>\n",
       "      <td>803000</td>\n",
       "      <td>1.0</td>\n",
       "    </tr>\n",
       "    <tr>\n",
       "      <th>08</th>\n",
       "      <td>4034470</td>\n",
       "      <td>395395</td>\n",
       "      <td>094J005</td>\n",
       "      <td>1471</td>\n",
       "      <td>N</td>\n",
       "      <td>4</td>\n",
       "      <td>None</td>\n",
       "      <td>843</td>\n",
       "      <td>V</td>\n",
       "      <td>1.2</td>\n",
       "      <td>None</td>\n",
       "      <td>None</td>\n",
       "      <td>None</td>\n",
       "      <td>I</td>\n",
       "      <td>U</td>\n",
       "      <td>...</td>\n",
       "      <td>0.0</td>\n",
       "      <td>467.380896</td>\n",
       "      <td>12329.831388</td>\n",
       "      <td>MULTIPOLYGON (((1176041.207 1449658.602, 11760...</td>\n",
       "      <td>BWBS</td>\n",
       "      <td>AAT</td>\n",
       "      <td>SSB</td>\n",
       "      <td>BWBS_DE_AT</td>\n",
       "      <td>BWBSBWBSBWBS_DE_AATAAT</td>\n",
       "      <td>BWBS_DE_AT</td>\n",
       "      <td>H</td>\n",
       "      <td>803000.0</td>\n",
       "      <td>803000</td>\n",
       "      <td>803000</td>\n",
       "      <td>1.0</td>\n",
       "    </tr>\n",
       "    <tr>\n",
       "      <th>08</th>\n",
       "      <td>4185829</td>\n",
       "      <td>395400</td>\n",
       "      <td>094O012</td>\n",
       "      <td>251</td>\n",
       "      <td>N</td>\n",
       "      <td>None</td>\n",
       "      <td>None</td>\n",
       "      <td>843</td>\n",
       "      <td>V</td>\n",
       "      <td>16.2</td>\n",
       "      <td>None</td>\n",
       "      <td>None</td>\n",
       "      <td>None</td>\n",
       "      <td>I</td>\n",
       "      <td>N</td>\n",
       "      <td>...</td>\n",
       "      <td>0.0</td>\n",
       "      <td>2885.206726</td>\n",
       "      <td>162470.652033</td>\n",
       "      <td>MULTIPOLYGON (((1137325.279 1577638.949, 11373...</td>\n",
       "      <td>BWBS</td>\n",
       "      <td>SSW</td>\n",
       "      <td>AAT</td>\n",
       "      <td>BWBS_OP_SW+AT</td>\n",
       "      <td>BWBSBWBSBWBS_OP_SSWSSW+AAT</td>\n",
       "      <td>BWBS_DE_SW</td>\n",
       "      <td>H</td>\n",
       "      <td>803005.0</td>\n",
       "      <td>803005</td>\n",
       "      <td>803005</td>\n",
       "      <td>1.0</td>\n",
       "    </tr>\n",
       "    <tr>\n",
       "      <th>08</th>\n",
       "      <td>8242170</td>\n",
       "      <td>395401</td>\n",
       "      <td>094I050</td>\n",
       "      <td>41357329</td>\n",
       "      <td>N</td>\n",
       "      <td>None</td>\n",
       "      <td>None</td>\n",
       "      <td>843</td>\n",
       "      <td>V</td>\n",
       "      <td>2.8</td>\n",
       "      <td>None</td>\n",
       "      <td>None</td>\n",
       "      <td>None</td>\n",
       "      <td>I</td>\n",
       "      <td>P</td>\n",
       "      <td>...</td>\n",
       "      <td>0.0</td>\n",
       "      <td>983.220019</td>\n",
       "      <td>27707.123600</td>\n",
       "      <td>MULTIPOLYGON (((1349823.830 1508514.204, 13498...</td>\n",
       "      <td>BWBS</td>\n",
       "      <td>AAT</td>\n",
       "      <td>SSB</td>\n",
       "      <td>BWBS_OP_AT+SB</td>\n",
       "      <td>BWBSBWBSBWBS_OP_AATAAT+SSB</td>\n",
       "      <td>BWBS_DE_AT+SW</td>\n",
       "      <td>L</td>\n",
       "      <td>801007.0</td>\n",
       "      <td>801007</td>\n",
       "      <td>801007</td>\n",
       "      <td>1.0</td>\n",
       "    </tr>\n",
       "    <tr>\n",
       "      <th>08</th>\n",
       "      <td>4214757</td>\n",
       "      <td>395403</td>\n",
       "      <td>094O049</td>\n",
       "      <td>208</td>\n",
       "      <td>N</td>\n",
       "      <td>7</td>\n",
       "      <td>None</td>\n",
       "      <td>843</td>\n",
       "      <td>V</td>\n",
       "      <td>33.9</td>\n",
       "      <td>None</td>\n",
       "      <td>None</td>\n",
       "      <td>None</td>\n",
       "      <td>I</td>\n",
       "      <td>P</td>\n",
       "      <td>...</td>\n",
       "      <td>0.0</td>\n",
       "      <td>4684.947350</td>\n",
       "      <td>339071.197578</td>\n",
       "      <td>MULTIPOLYGON (((1208396.670 1611813.097, 12084...</td>\n",
       "      <td>BWBS</td>\n",
       "      <td>SSW</td>\n",
       "      <td>AAC</td>\n",
       "      <td>BWBS_SP_SW</td>\n",
       "      <td>BWBSBWBSBWBS_SP_SSWSSW</td>\n",
       "      <td>BWBS_SP_SB</td>\n",
       "      <td>H</td>\n",
       "      <td>803002.0</td>\n",
       "      <td>803002</td>\n",
       "      <td>803002</td>\n",
       "      <td>1.0</td>\n",
       "    </tr>\n",
       "  </tbody>\n",
       "</table>\n",
       "<p>52736 rows × 205 columns</p>\n",
       "</div>"
      ],
      "text/plain": [
       "          FEATURE_ID   index   MAP_ID  POLYGON_ID OPENING_IND OPENING_SOURCE  \\\n",
       "tsa_code                                                                       \n",
       "08           4109532       4  094J100         337           N              7   \n",
       "08           4018593       6  094I081         161           N           None   \n",
       "08           4087936       9  094J074          24           N           None   \n",
       "08           4068290      14  094J046         136           N              7   \n",
       "08           8231887      17  094I100    65731308           N           None   \n",
       "...              ...     ...      ...         ...         ...            ...   \n",
       "08           4242881  395390  094P011         790           N              7   \n",
       "08           4034470  395395  094J005        1471           N              4   \n",
       "08           4185829  395400  094O012         251           N           None   \n",
       "08           8242170  395401  094I050    41357329           N           None   \n",
       "08           4214757  395403  094O049         208           N              7   \n",
       "\n",
       "         OPENING_NUMBER  FEATURE_CLASS_SKEY INVENTORY_STANDARD_CD  \\\n",
       "tsa_code                                                            \n",
       "08                 None                 843                     V   \n",
       "08                 None                 843                     V   \n",
       "08                 None                 843                     V   \n",
       "08                 None                 843                     V   \n",
       "08                 None                 843                     V   \n",
       "...                 ...                 ...                   ...   \n",
       "08                 None                 843                     V   \n",
       "08                 None                 843                     V   \n",
       "08                 None                 843                     V   \n",
       "08                 None                 843                     V   \n",
       "08                 None                 843                     V   \n",
       "\n",
       "          POLYGON_AREA NON_PRODUCTIVE_DESCRIPTOR_CD NON_PRODUCTIVE_CD  \\\n",
       "tsa_code                                                                \n",
       "08                 9.3                         None              None   \n",
       "08                 5.0                         None              None   \n",
       "08                 2.4                         None              None   \n",
       "08                 4.5                         None              None   \n",
       "08                 6.2                         None              None   \n",
       "...                ...                          ...               ...   \n",
       "08                 7.7                         None              None   \n",
       "08                 1.2                         None              None   \n",
       "08                16.2                         None              None   \n",
       "08                 2.8                         None              None   \n",
       "08                33.9                         None              None   \n",
       "\n",
       "         INPUT_DATE COAST_INTERIOR_CD SURFACE_EXPRESSION  ... GEOMETRY_LEN  \\\n",
       "tsa_code                                                  ...                \n",
       "08             None                 I                  P  ...          0.0   \n",
       "08             None                 I                  P  ...          0.0   \n",
       "08             None                 I                  N  ...          0.0   \n",
       "08             None                 I                  N  ...          0.0   \n",
       "08             None                 I                  P  ...          0.0   \n",
       "...             ...               ...                ...  ...          ...   \n",
       "08             None                 I                  U  ...          0.0   \n",
       "08             None                 I                  U  ...          0.0   \n",
       "08             None                 I                  N  ...          0.0   \n",
       "08             None                 I                  P  ...          0.0   \n",
       "08             None                 I                  P  ...          0.0   \n",
       "\n",
       "         Shape_Length     Shape_Area  \\\n",
       "tsa_code                               \n",
       "08        2953.724549   93159.912289   \n",
       "08        1466.292917   50435.184471   \n",
       "08         724.526591   23796.974432   \n",
       "08        1306.577721   45201.263678   \n",
       "08        1431.876239   62201.375385   \n",
       "...               ...            ...   \n",
       "08        1722.019687   77321.484431   \n",
       "08         467.380896   12329.831388   \n",
       "08        2885.206726  162470.652033   \n",
       "08         983.220019   27707.123600   \n",
       "08        4684.947350  339071.197578   \n",
       "\n",
       "                                                   geometry  \\\n",
       "tsa_code                                                      \n",
       "08        MULTIPOLYGON (((1225011.710 1558755.596, 12250...   \n",
       "08        MULTIPOLYGON (((1232014.562 1547547.503, 12320...   \n",
       "08        MULTIPOLYGON (((1156041.310 1538029.665, 11560...   \n",
       "08        MULTIPOLYGON (((1178189.638 1503991.636, 11781...   \n",
       "08        MULTIPOLYGON (((1337326.110 1566334.680, 13373...   \n",
       "...                                                     ...   \n",
       "08        MULTIPOLYGON (((1240550.554 1576974.778, 12405...   \n",
       "08        MULTIPOLYGON (((1176041.207 1449658.602, 11760...   \n",
       "08        MULTIPOLYGON (((1137325.279 1577638.949, 11373...   \n",
       "08        MULTIPOLYGON (((1349823.830 1508514.204, 13498...   \n",
       "08        MULTIPOLYGON (((1208396.670 1611813.097, 12084...   \n",
       "\n",
       "         BEC_ZONE_CODE_lexmatch SPECIES_CD_1_lexmatch SPECIES_CD_2_lexmatch  \\\n",
       "tsa_code                                                                      \n",
       "08                         BWBS                   SSW                   SSB   \n",
       "08                         BWBS                   AAT                   SSB   \n",
       "08                         BWBS                   SSW                   SSB   \n",
       "08                         BWBS                   AAT                   NaN   \n",
       "08                         BWBS                   SSB                   EEP   \n",
       "...                         ...                   ...                   ...   \n",
       "08                         BWBS                   AAT                   EEP   \n",
       "08                         BWBS                   AAT                   SSB   \n",
       "08                         BWBS                   SSW                   AAT   \n",
       "08                         BWBS                   AAT                   SSB   \n",
       "08                         BWBS                   SSW                   AAC   \n",
       "\n",
       "                stratum            stratum_lexmatch stratum_matched si_level  \\\n",
       "tsa_code                                                                       \n",
       "08           BWBS_OP_SW      BWBSBWBSBWBS_OP_SSWSSW      BWBS_DE_SW        M   \n",
       "08        BWBS_DE_AT+SB  BWBSBWBSBWBS_DE_AATAAT+SSB   BWBS_DE_AT+SW        H   \n",
       "08           BWBS_OP_SW      BWBSBWBSBWBS_OP_SSWSSW      BWBS_DE_SW        H   \n",
       "08           BWBS_OP_AT      BWBSBWBSBWBS_OP_AATAAT      BWBS_SP_AT        H   \n",
       "08        BWBS_OP_SB+EP  BWBSBWBSBWBS_OP_SSBSSB+EEP      BWBS_SP_SB        H   \n",
       "...                 ...                         ...             ...      ...   \n",
       "08           BWBS_DE_AT      BWBSBWBSBWBS_DE_AATAAT      BWBS_DE_AT        H   \n",
       "08           BWBS_DE_AT      BWBSBWBSBWBS_DE_AATAAT      BWBS_DE_AT        H   \n",
       "08        BWBS_OP_SW+AT  BWBSBWBSBWBS_OP_SSWSSW+AAT      BWBS_DE_SW        H   \n",
       "08        BWBS_OP_AT+SB  BWBSBWBSBWBS_OP_AATAAT+SSB   BWBS_DE_AT+SW        L   \n",
       "08           BWBS_SP_SW      BWBSBWBSBWBS_SP_SSWSSW      BWBS_SP_SB        H   \n",
       "\n",
       "                au  curve1  curve2 thlb  \n",
       "tsa_code                                 \n",
       "08        802005.0  802005  802005  1.0  \n",
       "08        803007.0  803007  803007  1.0  \n",
       "08        803005.0  803005  803005  1.0  \n",
       "08        803003.0  803003  803003  1.0  \n",
       "08        803002.0  823002  803002  1.0  \n",
       "...            ...     ...     ...  ...  \n",
       "08        803000.0  803000  803000  1.0  \n",
       "08        803000.0  803000  803000  1.0  \n",
       "08        803005.0  803005  803005  1.0  \n",
       "08        801007.0  801007  801007  1.0  \n",
       "08        803002.0  803002  803002  1.0  \n",
       "\n",
       "[52736 rows x 205 columns]"
      ]
     },
     "execution_count": 193,
     "metadata": {},
     "output_type": "execute_result"
    }
   ],
   "source": [
    "f.set_index('tsa_code').loc['08'].query('thlb == 1')"
   ]
  },
  {
   "cell_type": "code",
   "execution_count": null,
   "metadata": {},
   "outputs": [],
   "source": [
    "f.to_file('./data/ria_tmp.shp')"
   ]
  },
  {
   "cell_type": "code",
   "execution_count": null,
   "metadata": {},
   "outputs": [],
   "source": [
    "f"
   ]
  }
 ],
 "metadata": {
  "kernelspec": {
   "display_name": "Python 3",
   "language": "python",
   "name": "python3"
  },
  "language_info": {
   "codemirror_mode": {
    "name": "ipython",
    "version": 3
   },
   "file_extension": ".py",
   "mimetype": "text/x-python",
   "name": "python",
   "nbconvert_exporter": "python",
   "pygments_lexer": "ipython3",
   "version": "3.8.5"
  }
 },
 "nbformat": 4,
 "nbformat_minor": 4
}
